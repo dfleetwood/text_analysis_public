{
 "cells": [
  {
   "cell_type": "code",
   "execution_count": 712,
   "metadata": {},
   "outputs": [
    {
     "data": {
      "text/plain": [
       "<module 'text_task' from 'C:\\\\Users\\\\dfleetwood\\\\PycharmProjects\\\\text_analysis\\\\text_analysis\\\\text_task.py'>"
      ]
     },
     "execution_count": 712,
     "metadata": {},
     "output_type": "execute_result"
    }
   ],
   "source": [
    "import pandas as pd\n",
    "import numpy as np\n",
    "\n",
    "import text_task\n",
    "\n",
    "\n",
    "from importlib import reload\n",
    "reload (text_task)"
   ]
  },
  {
   "cell_type": "code",
   "execution_count": 2,
   "metadata": {},
   "outputs": [],
   "source": [
    "imdb = pd.read_csv (\"imdb_master.csv\", encoding = \"latin\")"
   ]
  },
  {
   "cell_type": "code",
   "execution_count": 3,
   "metadata": {},
   "outputs": [
    {
     "data": {
      "text/plain": [
       "Index(['Unnamed: 0', 'type', 'review', 'label', 'file'], dtype='object')"
      ]
     },
     "execution_count": 3,
     "metadata": {},
     "output_type": "execute_result"
    }
   ],
   "source": [
    "imdb.columns"
   ]
  },
  {
   "cell_type": "code",
   "execution_count": 4,
   "metadata": {},
   "outputs": [
    {
     "data": {
      "text/plain": [
       "(100000, 5)"
      ]
     },
     "execution_count": 4,
     "metadata": {},
     "output_type": "execute_result"
    }
   ],
   "source": [
    "imdb.shape"
   ]
  },
  {
   "cell_type": "code",
   "execution_count": 5,
   "metadata": {},
   "outputs": [],
   "source": [
    "imdb = imdb [imdb.label != \"unsup\"]"
   ]
  },
  {
   "cell_type": "code",
   "execution_count": 6,
   "metadata": {},
   "outputs": [
    {
     "data": {
      "text/plain": [
       "(50000, 5)"
      ]
     },
     "execution_count": 6,
     "metadata": {},
     "output_type": "execute_result"
    }
   ],
   "source": [
    "imdb.shape"
   ]
  },
  {
   "cell_type": "code",
   "execution_count": 7,
   "metadata": {},
   "outputs": [],
   "source": [
    "#imdb [imdb.type == \"train\"].review"
   ]
  },
  {
   "cell_type": "code",
   "execution_count": 8,
   "metadata": {},
   "outputs": [],
   "source": [
    "#imdb.review "
   ]
  },
  {
   "cell_type": "code",
   "execution_count": 714,
   "metadata": {},
   "outputs": [],
   "source": [
    "imdb_task = text_task.TextTask()"
   ]
  },
  {
   "cell_type": "code",
   "execution_count": 715,
   "metadata": {},
   "outputs": [],
   "source": [
    "train_idx = np.random.RandomState(423423).choice(range(imdb [imdb.type == \"train\"].shape[0]), 5000, replace=False)"
   ]
  },
  {
   "cell_type": "code",
   "execution_count": 716,
   "metadata": {},
   "outputs": [],
   "source": [
    "imdb_task.add_text(imdb [imdb.type == \"train\"].review.values [train_idx], \"train\")"
   ]
  },
  {
   "cell_type": "code",
   "execution_count": 717,
   "metadata": {},
   "outputs": [],
   "source": [
    "test_idx = np.random.RandomState(6345345).choice(range(imdb [imdb.type == \"train\"].shape[0]), 2000, replace=False)"
   ]
  },
  {
   "cell_type": "code",
   "execution_count": 718,
   "metadata": {},
   "outputs": [],
   "source": [
    "imdb_task.add_text(imdb [imdb.type == \"test\"].review.values[test_idx], \"test\")"
   ]
  },
  {
   "cell_type": "code",
   "execution_count": 720,
   "metadata": {},
   "outputs": [],
   "source": [
    "imdb_task.clean_text (\"train\")"
   ]
  },
  {
   "cell_type": "code",
   "execution_count": 721,
   "metadata": {},
   "outputs": [],
   "source": [
    "imdb_task.clean_text (\"test\")"
   ]
  },
  {
   "cell_type": "code",
   "execution_count": 689,
   "metadata": {},
   "outputs": [],
   "source": [
    "imdb_task.save (\"imdb_text.pkl\")"
   ]
  },
  {
   "cell_type": "code",
   "execution_count": 78,
   "metadata": {},
   "outputs": [],
   "source": [
    "imdb_task = text_task.load (\"imdb_text.pkl\")"
   ]
  },
  {
   "cell_type": "code",
   "execution_count": 19,
   "metadata": {},
   "outputs": [
    {
     "data": {
      "text/plain": [
       "'the director was probably still in his early learning stages when he tried his hand at westerns have a look at the outfits everybody looks well scrubbed well brushed well dressed and well ironed as though ready for church even the horses look well groomed and shiny this is a western for crying out loud it s supposed to look dusty nasty and sweaty and then there s the amateurish acting of the females in this bird the whole lot a dozen or so all pretty and well endowed were just freshly raped and widowed but hardly a tear flows instead they all look with great interest if not downright lust at the newly arrived magnificent seven who they subsequently feed bandage and comfort with love during their battles with the bandits the same directing criticism goes for lee van cleef who does a reasonable good acting job our lee playing the law just lost his dear wife but lee hard as organic rock shows no emotion whatsoever and finds himself within days of his spouse s demise in the arms of a juicy widow with whom he together with her brood walks off into the future the cad and then there s another thing that always kind of bothers me with this type of films it doesn t matter how many dynamite induced explosions take place in the middle of a pack of some horses never mind how many shots are being fired at the rabble on top of them only the crooks get killed and the nags always go their way rejoicing in one piece i know silly moi it s just a movie it s not the worst western ever made but prepare for some serious yawning'"
      ]
     },
     "execution_count": 19,
     "metadata": {},
     "output_type": "execute_result"
    }
   ],
   "source": [
    "imdb_task.texts ['test'][0]"
   ]
  },
  {
   "cell_type": "code",
   "execution_count": 39,
   "metadata": {},
   "outputs": [],
   "source": [
    "imdb_task.fit_tf_idf('train')"
   ]
  },
  {
   "cell_type": "code",
   "execution_count": 40,
   "metadata": {},
   "outputs": [
    {
     "data": {
      "text/plain": [
       "(5000, 30000)"
      ]
     },
     "execution_count": 40,
     "metadata": {},
     "output_type": "execute_result"
    }
   ],
   "source": [
    "imdb_task.get_tf_idf('train').shape"
   ]
  },
  {
   "cell_type": "code",
   "execution_count": 41,
   "metadata": {},
   "outputs": [],
   "source": [
    "imdb_task.transform_tf_idf('train', 'test')"
   ]
  },
  {
   "cell_type": "code",
   "execution_count": 42,
   "metadata": {},
   "outputs": [
    {
     "data": {
      "text/plain": [
       "(2000, 30000)"
      ]
     },
     "execution_count": 42,
     "metadata": {},
     "output_type": "execute_result"
    }
   ],
   "source": [
    "imdb_task.get_tf_idf('test').shape"
   ]
  },
  {
   "cell_type": "code",
   "execution_count": 487,
   "metadata": {},
   "outputs": [],
   "source": [
    "#imdb_task.get_tf_idf('test')"
   ]
  },
  {
   "cell_type": "code",
   "execution_count": 488,
   "metadata": {},
   "outputs": [],
   "source": [
    "#tf_idf.fit (imdb_task.texts ['train'][0:10])"
   ]
  },
  {
   "cell_type": "code",
   "execution_count": 489,
   "metadata": {},
   "outputs": [],
   "source": [
    "#X = tf_idf.fit_transform(imdb_task.texts ['train'][0:100])"
   ]
  },
  {
   "cell_type": "code",
   "execution_count": 490,
   "metadata": {},
   "outputs": [],
   "source": [
    "#X.shape"
   ]
  },
  {
   "cell_type": "code",
   "execution_count": 491,
   "metadata": {},
   "outputs": [],
   "source": [
    "#Y = tf_idf.transform(imdb_task.texts ['train'][101:150])"
   ]
  },
  {
   "cell_type": "code",
   "execution_count": 690,
   "metadata": {},
   "outputs": [],
   "source": [
    "#train_idx"
   ]
  },
  {
   "cell_type": "code",
   "execution_count": 724,
   "metadata": {},
   "outputs": [
    {
     "name": "stdout",
     "output_type": "stream",
     "text": [
      "Training model\n"
     ]
    }
   ],
   "source": [
    "imdb_task.train_embed_model('train', 'w2v_model', model_type='w2vec')"
   ]
  },
  {
   "cell_type": "code",
   "execution_count": 492,
   "metadata": {},
   "outputs": [],
   "source": [
    "#imdb_task.get_tf_idf('train').shape"
   ]
  },
  {
   "cell_type": "code",
   "execution_count": 493,
   "metadata": {},
   "outputs": [],
   "source": [
    "#imdb_task.transform_tf_idf(fit_model_tag= 'train', to_text_tag= 'test')"
   ]
  },
  {
   "cell_type": "code",
   "execution_count": 494,
   "metadata": {},
   "outputs": [],
   "source": [
    "#imdb_task.get_tf_idf(text_tag='test').shape"
   ]
  },
  {
   "cell_type": "code",
   "execution_count": 229,
   "metadata": {},
   "outputs": [],
   "source": [
    "import sklearn.linear_model\n"
   ]
  },
  {
   "cell_type": "code",
   "execution_count": 45,
   "metadata": {},
   "outputs": [],
   "source": [
    "log_reg = sklearn.linear_model.LogisticRegression (C=0.1, solver='newton-cg', random_state=40)"
   ]
  },
  {
   "cell_type": "code",
   "execution_count": 46,
   "metadata": {},
   "outputs": [],
   "source": [
    "train_labs = np.array (imdb.label.values == \"pos\")*1\n",
    "train_labs = train_labs [train_idx]"
   ]
  },
  {
   "cell_type": "code",
   "execution_count": 47,
   "metadata": {},
   "outputs": [],
   "source": [
    "test_labs = np.array (imdb.label.values == \"pos\")*1\n",
    "test_labs = test_labs [test_idx]"
   ]
  },
  {
   "cell_type": "code",
   "execution_count": 48,
   "metadata": {},
   "outputs": [
    {
     "data": {
      "text/plain": [
       "LogisticRegression(C=0.1, class_weight=None, dual=False, fit_intercept=True,\n",
       "          intercept_scaling=1, max_iter=100, multi_class='warn',\n",
       "          n_jobs=None, penalty='l2', random_state=40, solver='newton-cg',\n",
       "          tol=0.0001, verbose=0, warm_start=False)"
      ]
     },
     "execution_count": 48,
     "metadata": {},
     "output_type": "execute_result"
    }
   ],
   "source": [
    "log_reg.fit (imdb_task.get_tf_idf(text_tag='train'), train_labs)"
   ]
  },
  {
   "cell_type": "code",
   "execution_count": 49,
   "metadata": {},
   "outputs": [
    {
     "data": {
      "text/plain": [
       "0.8432"
      ]
     },
     "execution_count": 49,
     "metadata": {},
     "output_type": "execute_result"
    }
   ],
   "source": [
    "log_reg.score(imdb_task.get_tf_idf(text_tag='train'), train_labs)"
   ]
  },
  {
   "cell_type": "code",
   "execution_count": 50,
   "metadata": {},
   "outputs": [
    {
     "data": {
      "text/plain": [
       "0.8065"
      ]
     },
     "execution_count": 50,
     "metadata": {},
     "output_type": "execute_result"
    }
   ],
   "source": [
    "log_reg.score(imdb_task.get_tf_idf(text_tag='test'), test_labs)"
   ]
  },
  {
   "cell_type": "code",
   "execution_count": null,
   "metadata": {},
   "outputs": [],
   "source": []
  },
  {
   "cell_type": "code",
   "execution_count": 64,
   "metadata": {},
   "outputs": [],
   "source": [
    "imdb_task.emb_models = models_back"
   ]
  },
  {
   "cell_type": "code",
   "execution_count": 65,
   "metadata": {},
   "outputs": [
    {
     "name": "stdout",
     "output_type": "stream",
     "text": [
      "Embedding 5000 texts\n",
      "0\n",
      "1000\n",
      "2000\n",
      "3000\n",
      "4000\n"
     ]
    }
   ],
   "source": [
    "imdb_task.embed_text('train', 'glove-twitter-25')"
   ]
  },
  {
   "cell_type": "code",
   "execution_count": 26,
   "metadata": {},
   "outputs": [],
   "source": [
    "#models_back = imdb_task.emb_models"
   ]
  },
  {
   "cell_type": "code",
   "execution_count": 66,
   "metadata": {},
   "outputs": [
    {
     "name": "stdout",
     "output_type": "stream",
     "text": [
      "0\n",
      "1000\n",
      "2000\n",
      "3000\n",
      "4000\n"
     ]
    }
   ],
   "source": [
    "word_sims, agg_sims, ordering = imdb_task.embedding_lookup('train', 'glove-twitter-25', 'romantic', \n",
    "                                                           lookup_agg_method = np.mean, \n",
    "                                                           text_agg_method = np.max)"
   ]
  },
  {
   "cell_type": "code",
   "execution_count": 67,
   "metadata": {},
   "outputs": [
    {
     "name": "stdout",
     "output_type": "stream",
     "text": [
      "0\n",
      "1000\n",
      "2000\n",
      "3000\n",
      "4000\n"
     ]
    }
   ],
   "source": [
    "coloured_texts = imdb_task.colour_attention ('train', word_sims)"
   ]
  },
  {
   "cell_type": "code",
   "execution_count": 60,
   "metadata": {},
   "outputs": [
    {
     "data": {
      "text/html": [
       "<text style=background-color:#00ff001d>the</text> <text style=background-color:#00ff0008>title</text> <text style=background-color:#00ff001d>of</text> <text style=background-color:#00ff001d>this</text> <text style=background-color:#00ff000e>film</text> <text style=background-color:#00ff0016>is</text> <text style=background-color:#00ff001b>taken</text> <text style=background-color:#00ff0014>from</text> <text style=background-color:#00ff0004>a</text> <text style=background-color:#00ff0017>party</text> <text style=background-color:#00ff0006>game</text> <text style=background-color:#00ff0014>called</text> <text style=background-color:#00ff0004>seven</text> <text style=background-color:#00ff0004>minutes</text> <text style=background-color:#00ff0009>in</text> <text style=background-color:#00ff0033>heaven</text> <text style=background-color:#00ff001d>the</text> <text style=background-color:#00ff0006>game</text> <text style=background-color:#00ff0009>was</text> <text style=background-color:#00ff000a>popular</text> <text style=background-color:#00ff000d>among</text> <text style=background-color:#00ff0025>my</text> <text style=background-color:#00ff002d>husband</text> <text style=background-color:#00ff0001>s</text> <text style=background-color:#00ff003c>friends</text> <text style=background-color:#00ff001d>when</text> <text style=background-color:#00ff0005>he</text> <text style=background-color:#00ff0009>was</text> <text style=background-color:#00ff0009>in</text> <text style=background-color:#00ff0007>junior</text> <text style=background-color:#00ff0012>high</text> <text style=background-color:#00ff0009>school</text> <text style=background-color:#00ff0009>in</text> <text style=background-color:#00ff0002>brooklyn</text> <text style=background-color:#00ff0002>ny</text> <text style=background-color:#00ff0027>and</text> <text style=background-color:#00ff0005>he</text> <text style=background-color:#00ff000d>describes</text> <text style=background-color:#00ff001b>it</text> <text style=background-color:#00ff0007>as</text> <text style=background-color:#00ff0025>something</text> <text style=background-color:#00ff0017>like</text> <text style=background-color:#00ff0006>spin</text> <text style=background-color:#00ff001d>the</text> <text style=background-color:#00ff0006>bottle</text> <text style=background-color:#00ff0008>lifesaver</text> <text style=background-color:#00ff0006>relay</text> <text style=background-color:#00ff0027>and</text> <text style=background-color:#00ff001f>other</text> <text style=background-color:#00ff0002>preteen</text> <text style=background-color:#00ff001a>kissing</text> <text style=background-color:#00ff0006>games</text> <text style=background-color:#00ff0008>according</text> <text style=background-color:#00ff000c>to</text> <text style=background-color:#00ff001d>the</text> <text style=background-color:#00ff000a>rules</text> <text style=background-color:#00ff0004>a</text> <text style=background-color:#00ff001a>boy</text> <text style=background-color:#00ff0001>s</text> <text style=background-color:#00ff0013>name</text> <text style=background-color:#00ff0027>and</text> <text style=background-color:#00ff0004>a</text> <text style=background-color:#00ff002c>girl</text> <text style=background-color:#00ff0001>s</text> <text style=background-color:#00ff0011>would</text> <text style=background-color:#00ff0022>be</text> <text style=background-color:#00ff0006>drawn</text> <text style=background-color:#00ff0027>and</text> <text style=background-color:#00ff001d>the</text> <text style=background-color:#00ff0015>chosen</text> <text style=background-color:#00ff0035>ones</text> <text style=background-color:#00ff0001>ordered</text> <text style=background-color:#00ff000c>to</text> <text style=background-color:#00ff0010>get</text> <text style=background-color:#00ff0014>into</text> <text style=background-color:#00ff0004>a</text> <text style=background-color:#00ff0029>dark</text> <text style=background-color:#00ff0006>closet</text> <text style=background-color:#00ff0028>together</text> <text style=background-color:#00ff0027>and</text> <text style=background-color:#00ff000c>to</text> <text style=background-color:#00ff0022>stay</text> <text style=background-color:#00ff0020>there</text> <text style=background-color:#00ff001b>for</text> <text style=background-color:#00ff0004>seven</text> <text style=background-color:#00ff0004>minutes</text> <text style=background-color:#00ff0009>in</text> <text style=background-color:#00ff001d>the</text> <text style=background-color:#00ff0004>meantime</text> <text style=background-color:#00ff0020>there</text> <text style=background-color:#00ff0011>would</text> <text style=background-color:#00ff0022>be</text> <text style=background-color:#00ff0000>speculation</text> <text style=background-color:#00ff000d>among</text> <text style=background-color:#00ff0017>party</text> <text style=background-color:#00ff001f>guests</text> <text style=background-color:#00ff0007>as</text> <text style=background-color:#00ff000c>to</text> <text style=background-color:#00ff0014>whether</text> <text style=background-color:#00ff001f>or</text> <text style=background-color:#00ff0019>not</text> <text style=background-color:#00ff001d>the</text> <text style=background-color:#00ff0011>two</text> <text style=background-color:#00ff000a>had</text> <text style=background-color:#00ff001d>the</text> <text style=background-color:#00ff0007>nerve</text> <text style=background-color:#00ff000c>to</text> <text style=background-color:#00ff0011>hold</text> <text style=background-color:#00ff0015>hands</text> <text style=background-color:#00ff003c>embrace</text> <text style=background-color:#00ff0027>and</text> <text style=background-color:#00ff001f>or</text> <text style=background-color:#00ff0025>kiss</text> <text style=background-color:#00ff001e>each</text> <text style=background-color:#00ff001f>other</text> <text style=background-color:#00ff0009>in</text> <text style=background-color:#00ff001d>the</text> <text style=background-color:#00ff0002>privacy</text> <text style=background-color:#00ff001d>of</text> <text style=background-color:#00ff001d>the</text> <text style=background-color:#00ff0006>closet</text> <text style=background-color:#00ff0011>at</text> <text style=background-color:#00ff001d>the</text> <text style=background-color:#00ff0018>end</text> <text style=background-color:#00ff001d>of</text> <text style=background-color:#00ff0004>seven</text> <text style=background-color:#00ff0004>minutes</text> <text style=background-color:#00ff001d>the</text> <text style=background-color:#00ff0006>game</text> <text style=background-color:#00ff0011>leader</text> <text style=background-color:#00ff0011>would</text> <text style=background-color:#00ff0010>say</text> <text style=background-color:#00ff001e>time</text> <text style=background-color:#00ff0001>s</text> <text style=background-color:#00ff0010>up</text> <text style=background-color:#00ff001f>or</text> <text style=background-color:#00ff0004>knock</text> <text style=background-color:#00ff000b>on</text> <text style=background-color:#00ff001d>the</text> <text style=background-color:#00ff0006>closet</text> <text style=background-color:#00ff0001>door</text> <text style=background-color:#00ff0027>and</text> <text style=background-color:#00ff001d>the</text> <text style=background-color:#00ff0029>couple</text> <text style=background-color:#00ff0011>would</text> <text style=background-color:#00ff0001>emerge</text> <text style=background-color:#00ff0014>from</text> <text style=background-color:#00ff001d>the</text> <text style=background-color:#00ff0006>closet</text> <text style=background-color:#00ff000d>after</text> <text style=background-color:#00ff001d>being</text> <text style=background-color:#00ff0000>quizzed</text> <text style=background-color:#00ff0014>by</text> <text style=background-color:#00ff001d>the</text> <text style=background-color:#00ff001f>other</text> <text style=background-color:#00ff001f>guests</text> <text style=background-color:#00ff001d>the</text> <text style=background-color:#00ff0029>couple</text> <text style=background-color:#00ff0011>would</text> <text style=background-color:#00ff001e>have</text> <text style=background-color:#00ff000c>to</text> <text style=background-color:#00ff000f>admit</text> <text style=background-color:#00ff001a>what</text> <text style=background-color:#00ff0012>they</text> <text style=background-color:#00ff000a>had</text> <text style=background-color:#00ff0012>done</text> <text style=background-color:#00ff0012>during</text> <text style=background-color:#00ff0021>their</text> <text style=background-color:#00ff0004>seven</text> <text style=background-color:#00ff0004>minutes</text> <text style=background-color:#00ff0009>in</text> <text style=background-color:#00ff0033>heaven</text> <text style=background-color:#00ff0016>then</text> <text style=background-color:#00ff001f>other</text> <text style=background-color:#00ff001c>couples</text> <text style=background-color:#00ff0011>would</text> <text style=background-color:#00ff0022>be</text> <text style=background-color:#00ff0015>chosen</text> <text style=background-color:#00ff000c>to</text> <text style=background-color:#00ff0007>enter</text> <text style=background-color:#00ff001d>the</text> <text style=background-color:#00ff0006>closet</text> <text style=background-color:#00ff0015>until</text> <text style=background-color:#00ff0022>all</text> <text style=background-color:#00ff001d>the</text> <text style=background-color:#00ff001f>guests</text> <text style=background-color:#00ff000a>had</text> <text style=background-color:#00ff0002>participated</text> <text style=background-color:#00ff001d>the</text> <text style=background-color:#00ff0029>couple</text> <text style=background-color:#00ff0014>who</text> <text style=background-color:#00ff0001>admitted</text> <text style=background-color:#00ff000c>to</text> <text style=background-color:#00ff0019>doing</text> <text style=background-color:#00ff001d>the</text> <text style=background-color:#00ff002d>most</text> <text style=background-color:#00ff0011>would</text> <text style=background-color:#00ff0022>be</text> <text style=background-color:#00ff001d>the</text> <text style=background-color:#00ff0009>winners</text> <text style=background-color:#00ff001d>of</text> <text style=background-color:#00ff001d>the</text> <text style=background-color:#00ff0006>game</text> <text style=background-color:#00ff0000>br</text> <text style=background-color:#00ff0000>br</text> <text style=background-color:#00ff004e>such</text> <text style=background-color:#00ff0006>games</text> <text style=background-color:#00ff001e>have</text> <text style=background-color:#00ff0009>served</text> <text style=background-color:#00ff0007>as</text> <text style=background-color:#00ff0006>social</text> <text style=background-color:#00ff000e>ice</text> <text style=background-color:#00ff0003>breakers</text> <text style=background-color:#00ff001b>for</text> <text style=background-color:#00ff001c>children</text> <text style=background-color:#00ff0027>and</text> <text style=background-color:#00ff0012>teens</text> <text style=background-color:#00ff001e>but</text> <text style=background-color:#00ff0012>they</text> <text style=background-color:#00ff001a>can</text> <text style=background-color:#00ff0022>be</text> <text style=background-color:#00ff0008>embarrassing</text> <text style=background-color:#00ff0027>and</text> <text style=background-color:#00ff000b>intimidating</text> <text style=background-color:#00ff000c>to</text> <text style=background-color:#00ff0016>shy</text> <text style=background-color:#00ff0016>individuals</text> <text style=background-color:#00ff001d>the</text> <text style=background-color:#00ff000e>film</text> <text style=background-color:#00ff0006>has</text> <text style=background-color:#00ff000d>been</text> <text style=background-color:#00ff0015>given</text> <text style=background-color:#00ff001d>this</text> <text style=background-color:#00ff0008>title</text> <text style=background-color:#00ff001d>because</text> <text style=background-color:#00ff001b>it</text> <text style=background-color:#00ff0003>deals</text> <text style=background-color:#00ff0029>with</text> <text style=background-color:#00ff001d>the</text> <text style=background-color:#00ff0012>teens</text> <text style=background-color:#00ff001d>first</text> <text style=background-color:#00ff002e>experiences</text> <text style=background-color:#00ff0029>with</text> <text style=background-color:#00ff0006>crushes</text> <text style=background-color:#00ff0027>and</text> <text style=background-color:#00ff00ff>romantic</text> <text style=background-color:#00ff0031>love</text> <br> <text style=background-color:#00ff0013>i</text> <text style=background-color:#00ff000d>watched</text> <text style=background-color:#00ff0021>this</text> <text style=background-color:#00ff0023>movie</text> <text style=background-color:#00ff001e>for</text> <text style=background-color:#00ff0005>a</text> <text style=background-color:#00ff001c>project</text> <text style=background-color:#00ff000e>on</text> <text style=background-color:#00ff0036>love</text> <text style=background-color:#00ff000e>please</text> <text style=background-color:#00ff0014>tell</text> <text style=background-color:#00ff0000>nicolas</text> <text style=background-color:#00ff0005>cage</text> <text style=background-color:#00ff000f>to</text> <text style=background-color:#00ff0025>learn</text> <text style=background-color:#00ff001e>what</text> <text style=background-color:#00ff001f>it</text> <text style=background-color:#00ff0014>would</text> <text style=background-color:#00ff0027>feel</text> <text style=background-color:#00ff001b>like</text> <text style=background-color:#00ff000f>to</text> <text style=background-color:#00ff0026>be</text> <text style=background-color:#00ff0018>his</text> <text style=background-color:#00ff0031>character</text> <text style=background-color:#00ff002b>and</text> <text style=background-color:#00ff0019>then</text> <text style=background-color:#00ff0000>re</text> <text style=background-color:#00ff001b>read</text> <text style=background-color:#00ff0021>the</text> <text style=background-color:#00ff001f>lines</text> <text style=background-color:#00ff0007>he</text> <text style=background-color:#00ff0002>s</text> <text style=background-color:#00ff000c>saying</text> <text style=background-color:#00ff002a>my</text> <text style=background-color:#00ff0045>life</text> <text style=background-color:#00ff001a>cannot</text> <text style=background-color:#00ff000f>go</text> <text style=background-color:#00ff000e>on</text> <text style=background-color:#00ff0013>i</text> <text style=background-color:#00ff0001>accidentally</text> <text style=background-color:#00ff0010>cut</text> <text style=background-color:#00ff000a>off</text> <text style=background-color:#00ff002a>my</text> <text style=background-color:#00ff0029>own</text> <text style=background-color:#00ff000e>hand</text> <text style=background-color:#00ff002a>my</text> <text style=background-color:#00ff0016>brother</text> <text style=background-color:#00ff000b>was</text> <text style=background-color:#00ff0019>close</text> <text style=background-color:#00ff0018>by</text> <text style=background-color:#00ff0011>obviously</text> <text style=background-color:#00ff0018>his</text> <text style=background-color:#00ff000b>fault</text> <text style=background-color:#00ff002b>and</text> <text style=background-color:#00ff000f>since</text> <text style=background-color:#00ff0021>when</text> <text style=background-color:#00ff0022>have</text> <text style=background-color:#00ff003c>happy</text> <text style=background-color:#00ff002d>endings</text> <text style=background-color:#00ff0008>included</text> <text style=background-color:#00ff0021>the</text> <text style=background-color:#00ff003c>nice</text> <text style=background-color:#00ff001f>guy</text> <text style=background-color:#00ff0018>who</text> <text style=background-color:#00ff001c>takes</text> <text style=background-color:#00ff0029>care</text> <text style=background-color:#00ff0021>of</text> <text style=background-color:#00ff0023>mom</text> <text style=background-color:#00ff0024>sad</text> <text style=background-color:#00ff002b>and</text> <text style=background-color:#00ff001b>alone</text> <text style=background-color:#00ff0001>no</text> <text style=background-color:#00ff0001>closure</text> <text style=background-color:#00ff0020>bad</text> <text style=background-color:#00ff000d>script</text> <text style=background-color:#00ff002b>and</text> <text style=background-color:#00ff0003>doesn</text> <text style=background-color:#00ff0002>t</text> <text style=background-color:#00ff0022>have</text> <text style=background-color:#00ff0038>enough</text> <text style=background-color:#00ff0001>extension</text> <text style=background-color:#00ff0021>of</text> <text style=background-color:#00ff0007>minor</text> <text style=background-color:#00ff0020>characters</text> <text style=background-color:#00ff0010>save</text> <text style=background-color:#00ff0028>yourself</text> <text style=background-color:#00ff001a>unless</text> <text style=background-color:#00ff0036>your</text> <text style=background-color:#00ff0013>up</text> <text style=background-color:#00ff001e>for</text> <text style=background-color:#00ff0005>a</text> <text style=background-color:#00ff0043>good</text> <text style=background-color:#00ff0024>laugh</text> <text style=background-color:#00ff000c>costumes</text> <text style=background-color:#00ff0011>were</text> <text style=background-color:#00ff0015>done</text> <text style=background-color:#00ff0003>appropriately</text> <text style=background-color:#00ff002b>and</text> <text style=background-color:#00ff0002>extras</text> <text style=background-color:#00ff000d>did</text> <text style=background-color:#00ff0005>a</text> <text style=background-color:#00ff005e>fabulous</text> <text style=background-color:#00ff000f>job</text> <text style=background-color:#00ff0013>i</text> <text style=background-color:#00ff0002>m</text> <text style=background-color:#00ff001e>sure</text> <text style=background-color:#00ff001f>it</text> <text style=background-color:#00ff0014>would</text> <text style=background-color:#00ff0022>have</text> <text style=background-color:#00ff000f>been</text> <text style=background-color:#00ff0005>a</text> <text style=background-color:#00ff004c>fun</text> <text style=background-color:#00ff0023>movie</text> <text style=background-color:#00ff000f>to</text> <text style=background-color:#00ff002a>make</text> <text style=background-color:#00ff0022>but</text> <text style=background-color:#00ff0025>keep</text> <text style=background-color:#00ff001f>it</text> <text style=background-color:#00ff0036>more</text> <text style=background-color:#00ff0005>genre</text> <text style=background-color:#00ff0015>specific</text> <text style=background-color:#00ff0013>i</text> <text style=background-color:#00ff001e>can</text> <text style=background-color:#00ff0002>t</text> <text style=background-color:#00ff0017>recommend</text> <text style=background-color:#00ff0021>this</text> <text style=background-color:#00ff0023>movie</text> <text style=background-color:#00ff000f>to</text> <text style=background-color:#00ff0018>anyone</text> <text style=background-color:#00ff0013>i</text> <text style=background-color:#00ff001b>know</text> <text style=background-color:#00ff0021>because</text> <text style=background-color:#00ff001f>it</text> <text style=background-color:#00ff0019>is</text> <text style=background-color:#00ff001d>not</text> <text style=background-color:#00ff0019>an</text> <text style=background-color:#00ff0033>intellectual</text> <text style=background-color:#00ff0023>movie</text> <text style=background-color:#00ff001f>it</text> <text style=background-color:#00ff0019>is</text> <text style=background-color:#00ff001d>not</text> <text style=background-color:#00ff0005>a</text> <text style=background-color:#00ff0015>chick</text> <text style=background-color:#00ff000d>flick</text> <text style=background-color:#00ff001f>it</text> <text style=background-color:#00ff0019>is</text> <text style=background-color:#00ff001d>not</text> <text style=background-color:#00ff0005>a</text> <text style=background-color:#00ff0011>strict</text> <text style=background-color:#00ff00ff>romantic</text> <text style=background-color:#00ff002b>and</text> <text style=background-color:#00ff0013>i</text> <text style=background-color:#00ff001e>can</text> <text style=background-color:#00ff0002>t</text> <text style=background-color:#00ff0013>show</text> <text style=background-color:#00ff0022>kids</text> <text style=background-color:#00ff0021>because</text> <text style=background-color:#00ff0021>of</text> <text style=background-color:#00ff0021>the</text> <text style=background-color:#00ff0026>sex</text> <text style=background-color:#00ff002b>and</text> <text style=background-color:#00ff000c>questions</text> <text style=background-color:#00ff000f>to</text> <text style=background-color:#00ff0007>follow</text> <text style=background-color:#00ff0026>all</text> <text style=background-color:#00ff000b>in</text> <text style=background-color:#00ff0026>all</text> <text style=background-color:#00ff0019>just</text> <text style=background-color:#00ff001d>not</text> <text style=background-color:#00ff0005>a</text> <text style=background-color:#00ff0043>good</text> <text style=background-color:#00ff000d>flick</text> <br> <text style=background-color:#00ff000d>i</text> <text style=background-color:#00ff0001>m</text> <text style=background-color:#00ff0006>biased</text> <text style=background-color:#00ff0013>towards</text> <text style=background-color:#00ff0018>any</text> <text style=background-color:#00ff001b>movie</text> <text style=background-color:#00ff0016>that</text> <text style=background-color:#00ff0001>paints</text> <text style=background-color:#00ff0003>a</text> <text style=background-color:#00ff0000>luxuriant</text> <text style=background-color:#00ff0018>picture</text> <text style=background-color:#00ff001a>of</text> <text style=background-color:#00ff0001>italy</text> <text style=background-color:#00ff0007>in</text> <text style=background-color:#00ff0021>my</text> <text style=background-color:#00ff000a>opinion</text> <text style=background-color:#00ff001a>the</text> <text style=background-color:#00ff0029>most</text> <text style=background-color:#00ff00ff>romantic</text> <text style=background-color:#00ff0014>country</text> <text style=background-color:#00ff0007>in</text> <text style=background-color:#00ff001a>the</text> <text style=background-color:#00ff0025>world</text> <text style=background-color:#00ff000a>unfortunately</text> <text style=background-color:#00ff001a>the</text> <text style=background-color:#00ff001b>movie</text> <text style=background-color:#00ff0007>was</text> <text style=background-color:#00ff0024>rather</text> <text style=background-color:#00ff001f>short</text> <text style=background-color:#00ff0001>unusually</text> <text style=background-color:#00ff000f>so</text> <text style=background-color:#00ff0017>for</text> <text style=background-color:#00ff0003>a</text> <text style=background-color:#00ff0010>period</text> <text style=background-color:#00ff001f>piece</text> <text style=background-color:#00ff0022>and</text> <text style=background-color:#00ff0003>a</text> <text style=background-color:#00ff003a>little</text> <text style=background-color:#00ff0000>sparse</text> <text style=background-color:#00ff0009>on</text> <text style=background-color:#00ff001a>the</text> <text style=background-color:#00ff0006>cinematography</text> <text style=background-color:#00ff001d>aspect</text> <text style=background-color:#00ff0018>however</text> <text style=background-color:#00ff001a>the</text> <text style=background-color:#00ff002a>excellent</text> <text style=background-color:#00ff0028>story</text> <text style=background-color:#00ff0029>makes</text> <text style=background-color:#00ff000d>up</text> <text style=background-color:#00ff0017>for</text> <text style=background-color:#00ff0018>it</text> <text style=background-color:#00ff001a>the</text> <text style=background-color:#00ff0006>four</text> <text style=background-color:#00ff0030>ladies</text> <text style=background-color:#00ff0005>embark</text> <text style=background-color:#00ff0009>on</text> <text style=background-color:#00ff0003>a</text> <text style=background-color:#00ff0024>much</text> <text style=background-color:#00ff0010>needed</text> <text style=background-color:#00ff0031>relaxing</text> <text style=background-color:#00ff001e>vacation</text> <text style=background-color:#00ff0024>with</text> <text style=background-color:#00ff0014>problems</text> <text style=background-color:#00ff0009>on</text> <text style=background-color:#00ff001d>their</text> <text style=background-color:#00ff003a>minds</text> <text style=background-color:#00ff0005>over</text> <text style=background-color:#00ff001a>the</text> <text style=background-color:#00ff001e>course</text> <text style=background-color:#00ff001a>of</text> <text style=background-color:#00ff001a>the</text> <text style=background-color:#00ff001b>movie</text> <text style=background-color:#00ff000f>they</text> <text style=background-color:#00ff0014>realize</text> <text style=background-color:#00ff001d>their</text> <text style=background-color:#00ff0014>problems</text> <text style=background-color:#00ff0022>and</text> <text style=background-color:#00ff0006>begin</text> <text style=background-color:#00ff0002>fixing</text> <text style=background-color:#00ff000c>them</text> <text style=background-color:#00ff000f>they</text> <text style=background-color:#00ff000d>believe</text> <text style=background-color:#00ff0000>san</text> <text style=background-color:#00ff0000>salvatore</text> <text style=background-color:#00ff001a>the</text> <text style=background-color:#00ff0007>castle</text> <text style=background-color:#00ff000f>they</text> <text style=background-color:#00ff001e>stay</text> <text style=background-color:#00ff0007>in</text> <text style=background-color:#00ff0004>has</text> <text style=background-color:#00ff0012>an</text> <text style=background-color:#00ff0018>enchanting</text> <text style=background-color:#00ff0013>effect</text> <text style=background-color:#00ff0009>on</text> <text style=background-color:#00ff0019>people</text> <text style=background-color:#00ff0018>it</text> <text style=background-color:#00ff0001>s</text> <text style=background-color:#00ff0003>a</text> <text style=background-color:#00ff0005>tub</text> <text style=background-color:#00ff001a>of</text> <text style=background-color:#00ff002d>love</text> <text style=background-color:#00ff0002>says</text> <text style=background-color:#00ff0000>lottie</text> <text style=background-color:#00ff0000>wilkins</text> <text style=background-color:#00ff0020>you</text> <text style=background-color:#00ff0017>can</text> <text style=background-color:#00ff000b>watch</text> <text style=background-color:#00ff001d>their</text> <text style=background-color:#00ff0001>gradual</text> <text style=background-color:#00ff0016>change</text> <text style=background-color:#00ff0011>from</text> <text style=background-color:#00ff0001>dissatisfied</text> <text style=background-color:#00ff000a>to</text> <text style=background-color:#00ff0002>exuberant</text> <text style=background-color:#00ff0006>as</text> <text style=background-color:#00ff001a>the</text> <text style=background-color:#00ff000b>italian</text> <text style=background-color:#00ff0004>seaside</text> <text style=background-color:#00ff0014>works</text> <text style=background-color:#00ff0017>its</text> <text style=background-color:#00ff0017>magic</text> <text style=background-color:#00ff0009>on</text> <text style=background-color:#00ff000c>them</text> <text style=background-color:#00ff0000>br</text> <text style=background-color:#00ff0000>br</text> <text style=background-color:#00ff001e>all</text> <text style=background-color:#00ff001d>their</text> <text style=background-color:#00ff0014>problems</text> <text style=background-color:#00ff0022>and</text> <text style=background-color:#00ff001d>their</text> <text style=background-color:#00ff0003>solutions</text> <text style=background-color:#00ff0017>are</text> <text style=background-color:#00ff0001>plausible</text> <text style=background-color:#00ff001a>the</text> <text style=background-color:#00ff0008>actresses</text> <text style=background-color:#00ff000c>were</text> <text style=background-color:#00ff0042>great</text> <text style=background-color:#00ff001a>the</text> <text style=background-color:#00ff0012>background</text> <text style=background-color:#00ff0025>music</text> <text style=background-color:#00ff000c>seemed</text> <text style=background-color:#00ff003a>very</text> <text style=background-color:#00ff001b>appropriate</text> <text style=background-color:#00ff0017>for</text> <text style=background-color:#00ff0012>an</text> <text style=background-color:#00ff00ff>romantic</text> <text style=background-color:#00ff000b>italian</text> <text style=background-color:#00ff0000>locale</text> <text style=background-color:#00ff001e>all</text> <text style=background-color:#00ff0007>in</text> <text style=background-color:#00ff001e>all</text> <text style=background-color:#00ff0003>a</text> <text style=background-color:#00ff001b>movie</text> <text style=background-color:#00ff0017>for</text> <text style=background-color:#00ff0001>me</text> <br> <text style=background-color:#00ff0023>the</text> <text style=background-color:#00ff0025>movie</text> <text style=background-color:#00ff0000>wasn</text> <text style=background-color:#00ff0002>t</text> <text style=background-color:#00ff0028>all</text> <text style=background-color:#00ff001f>that</text> <text style=background-color:#00ff004e>great</text> <text style=background-color:#00ff0023>the</text> <text style=background-color:#00ff0029>book</text> <text style=background-color:#00ff001b>is</text> <text style=background-color:#00ff002b>better</text> <text style=background-color:#00ff0024>but</text> <text style=background-color:#00ff0023>the</text> <text style=background-color:#00ff0025>movie</text> <text style=background-color:#00ff0000>wasn</text> <text style=background-color:#00ff0002>t</text> <text style=background-color:#00ff0028>all</text> <text style=background-color:#00ff001f>that</text> <text style=background-color:#00ff0022>bad</text> <text style=background-color:#00ff001b>either</text> <text style=background-color:#00ff0021>it</text> <text style=background-color:#00ff000d>was</text> <text style=background-color:#00ff002c>interesting</text> <text style=background-color:#00ff0010>to</text> <text style=background-color:#00ff0015>say</text> <text style=background-color:#00ff0023>the</text> <text style=background-color:#00ff0018>least</text> <text style=background-color:#00ff0023>the</text> <text style=background-color:#00ff000f>plot</text> <text style=background-color:#00ff000e>had</text> <text style=background-color:#00ff003b>enough</text> <text style=background-color:#00ff000f>suspense</text> <text style=background-color:#00ff0010>to</text> <text style=background-color:#00ff0027>keep</text> <text style=background-color:#00ff0002>me</text> <text style=background-color:#00ff001f>watching</text> <text style=background-color:#00ff0036>although</text> <text style=background-color:#00ff0014>i</text> <text style=background-color:#00ff0000>wouldn</text> <text style=background-color:#00ff0002>t</text> <text style=background-color:#00ff0015>say</text> <text style=background-color:#00ff0014>i</text> <text style=background-color:#00ff000d>was</text> <text style=background-color:#00ff001d>actually</text> <text style=background-color:#00ff0013>interested</text> <text style=background-color:#00ff000c>in</text> <text style=background-color:#00ff0023>the</text> <text style=background-color:#00ff0025>movie</text> <text style=background-color:#00ff0008>itself</text> <text style=background-color:#00ff0001>janine</text> <text style=background-color:#00ff0004>turner</text> <text style=background-color:#00ff002d>and</text> <text style=background-color:#00ff0000>antonio</text> <text style=background-color:#00ff0000>sabato</text> <text style=background-color:#00ff0002>jr</text> <text style=background-color:#00ff0020>are</text> <text style=background-color:#00ff001b>both</text> <text style=background-color:#00ff0044>gorgeous</text> <text style=background-color:#00ff003b>enough</text> <text style=background-color:#00ff0010>to</text> <text style=background-color:#00ff0027>keep</text> <text style=background-color:#00ff002a>you</text> <text style=background-color:#00ff001f>watching</text> <text style=background-color:#00ff0016>they</text> <text style=background-color:#00ff0024>have</text> <text style=background-color:#00ff0006>a</text> <text style=background-color:#00ff001b>few</text> <text style=background-color:#00ff002d>cute</text> <text style=background-color:#00ff002a>scene</text> <text style=background-color:#00ff0002>s</text> <text style=background-color:#00ff001f>that</text> <text style=background-color:#00ff0013>should</text> <text style=background-color:#00ff0006>appeal</text> <text style=background-color:#00ff0010>to</text> <text style=background-color:#00ff0023>the</text> <text style=background-color:#00ff00ff>romantic</text> <text style=background-color:#00ff0002>s</text> <text style=background-color:#00ff0013>overall</text> <text style=background-color:#00ff0014>i</text> <text style=background-color:#00ff0002>d</text> <text style=background-color:#00ff0022>give</text> <text style=background-color:#00ff0023>the</text> <text style=background-color:#00ff0025>movie</text> <text style=background-color:#00ff0006>a</text> <text style=background-color:#00ff0025>or</text> <text style=background-color:#00ff0021>it</text> <text style=background-color:#00ff0000>wasn</text> <text style=background-color:#00ff0002>t</text> <text style=background-color:#00ff0022>bad</text> <text style=background-color:#00ff001b>just</text> <text style=background-color:#00ff0006>a</text> <text style=background-color:#00ff0046>little</text> <text style=background-color:#00ff0013>lacking</text> <text style=background-color:#00ff000f>plot</text> <text style=background-color:#00ff003e>wise</text> <br> <text style=background-color:#00ff0003>ultimately</text> <text style=background-color:#00ff001a>too</text> <text style=background-color:#00ff0013>silly</text> <text style=background-color:#00ff001b>and</text> <text style=background-color:#00ff0005>pointless</text> <text style=background-color:#00ff000c>yes</text> <text style=background-color:#00ff0016>there</text> <text style=background-color:#00ff000d>is</text> <text style=background-color:#00ff0013>the</text> <text style=background-color:#00ff0000>gilded</text> <text style=background-color:#00ff0001>cage</text> <text style=background-color:#00ff0007>metaphor</text> <text style=background-color:#00ff0014>but</text> <text style=background-color:#00ff000a>probably</text> <text style=background-color:#00ff0021>most</text> <text style=background-color:#00ff0014>kids</text> <text style=background-color:#00ff000a>would</text> <text style=background-color:#00ff0013>miss</text> <text style=background-color:#00ff0010>that</text> <text style=background-color:#00ff0002>forgettable</text> <text style=background-color:#00ff0001>instantly</text> <text style=background-color:#00ff0000>br</text> <text style=background-color:#00ff0000>br</text> <text style=background-color:#00ff0007>animation</text> <text style=background-color:#00ff000d>is</text> <text style=background-color:#00ff0003>as</text> <text style=background-color:#00ff0006>we</text> <text style=background-color:#00ff0014>have</text> <text style=background-color:#00ff0003>come</text> <text style=background-color:#00ff0006>to</text> <text style=background-color:#00ff0012>expect</text> <text style=background-color:#00ff0005>super</text> <text style=background-color:#00ff0007>real</text> <text style=background-color:#00ff0013>the</text> <text style=background-color:#00ff0006>plot</text> <text style=background-color:#00ff0004>line</text> <text style=background-color:#00ff000b>could</text> <text style=background-color:#00ff002c>best</text> <text style=background-color:#00ff0017>be</text> <text style=background-color:#00ff0005>described</text> <text style=background-color:#00ff0003>as</text> <text style=background-color:#00ff000d>thin</text> <text style=background-color:#00ff0014>but</text> <text style=background-color:#00ff0003>tenacious</text> <text style=background-color:#00ff0022>although</text> <text style=background-color:#00ff0013>the</text> <text style=background-color:#00ff0028>ending</text> <text style=background-color:#00ff0008>seemed</text> <text style=background-color:#00ff0000>arbitrary</text> <text style=background-color:#00ff0006>to</text> <text style=background-color:#00ff0000>me</text> <text style=background-color:#00ff0000>br</text> <text style=background-color:#00ff0000>br</text> <text style=background-color:#00ff0013>the</text> <text style=background-color:#00ff0000>sewer</text> <text style=background-color:#00ff0000>underworld</text> <text style=background-color:#00ff000d>is</text> <text style=background-color:#00ff0001>a</text> <text style=background-color:#00ff0000>suitably</text> <text style=background-color:#00ff0004>disgusting</text> <text style=background-color:#00ff0024>reflection</text> <text style=background-color:#00ff0013>of</text> <text style=background-color:#00ff0013>the</text> <text style=background-color:#00ff001e>world</text> <text style=background-color:#00ff0006>above</text> <text style=background-color:#00ff001b>and</text> <text style=background-color:#00ff0006>somehow</text> <text style=background-color:#00ff0007>wealth</text> <text style=background-color:#00ff001b>and</text> <text style=background-color:#00ff0005>money</text> <text style=background-color:#00ff000b>seem</text> <text style=background-color:#00ff0006>to</text> <text style=background-color:#00ff0008>count</text> <text style=background-color:#00ff0011>for</text> <text style=background-color:#00ff0001>a</text> <text style=background-color:#00ff0019>lot</text> <text style=background-color:#00ff0016>there</text> <text style=background-color:#00ff001a>too</text> <text style=background-color:#00ff0004>oh</text> <text style=background-color:#00ff000c>yes</text> <text style=background-color:#00ff001b>and</text> <text style=background-color:#00ff0016>there</text> <text style=background-color:#00ff0000>s</text> <text style=background-color:#00ff0001>a</text> <text style=background-color:#00ff00ff>romantic</text> <text style=background-color:#00ff0007>interest</text> <text style=background-color:#00ff001d>with</text> <text style=background-color:#00ff0013>the</text> <text style=background-color:#00ff0016>female</text> <text style=background-color:#00ff0013>being</text> <text style=background-color:#00ff0013>the</text> <text style=background-color:#00ff0006>smarter</text> <text style=background-color:#00ff0025>more</text> <text style=background-color:#00ff0002>savvy</text> <text style=background-color:#00ff001b>and</text> <text style=background-color:#00ff0007>go</text> <text style=background-color:#00ff0007>getting</text> <text style=background-color:#00ff0013>of</text> <text style=background-color:#00ff0013>the</text> <text style=background-color:#00ff0002>pair</text> <text style=background-color:#00ff0013>this</text> <text style=background-color:#00ff0004>in</text> <text style=background-color:#00ff0002>itself</text> <text style=background-color:#00ff000d>is</text> <text style=background-color:#00ff0000>rapidly</text> <text style=background-color:#00ff0013>becoming</text> <text style=background-color:#00ff0001>a</text> <text style=background-color:#00ff0001>tiresome</text> <text style=background-color:#00ff0000>anti</text> <text style=background-color:#00ff0001>stereotype</text> <text style=background-color:#00ff000a>probably</text> <text style=background-color:#00ff0025>your</text> <text style=background-color:#00ff0014>kids</text> <text style=background-color:#00ff000a>will</text> <text style=background-color:#00ff0025>love</text> <text style=background-color:#00ff0012>it</text> <text style=background-color:#00ff000c>though</text> <br> <text style=background-color:#00ff0009>fever</text> <text style=background-color:#00ff000a>pitch</text> <text style=background-color:#00ff0017>is</text> <text style=background-color:#00ff0005>a</text> <text style=background-color:#00ff0049>fun</text> <text style=background-color:#00ff0036>enough</text> <text style=background-color:#00ff0021>movie</text> <text style=background-color:#00ff001d>it</text> <text style=background-color:#00ff0006>has</text> <text style=background-color:#00ff0005>a</text> <text style=background-color:#00ff0027>lot</text> <text style=background-color:#00ff001f>of</text> <text style=background-color:#00ff0016>funny</text> <text style=background-color:#00ff0035>moments</text> <text style=background-color:#00ff000c>including</text> <text style=background-color:#00ff0005>a</text> <text style=background-color:#00ff0001>hilariously</text> <text style=background-color:#00ff0010>disturbing</text> <text style=background-color:#00ff001a>shower</text> <text style=background-color:#00ff0026>scene</text> <text style=background-color:#00ff0019>like</text> <text style=background-color:#00ff002f>most</text> <text style=background-color:#00ff00ff>romantic</text> <text style=background-color:#00ff000c>comedies</text> <text style=background-color:#00ff001d>it</text> <text style=background-color:#00ff0006>has</text> <text style=background-color:#00ff0005>a</text> <text style=background-color:#00ff0008>dead</text> <text style=background-color:#00ff000a>zone</text> <text style=background-color:#00ff000a>in</text> <text style=background-color:#00ff001f>the</text> <text style=background-color:#00ff0010>middle</text> <text style=background-color:#00ff0016>where</text> <text style=background-color:#00ff0024>all</text> <text style=background-color:#00ff001f>the</text> <text style=background-color:#00ff0010>heavy</text> <text style=background-color:#00ff0014>she</text> <text style=background-color:#00ff0001>s</text> <text style=background-color:#00ff0006>breaking</text> <text style=background-color:#00ff0012>up</text> <text style=background-color:#00ff002b>with</text> <text style=background-color:#00ff0002>me</text> <text style=background-color:#00ff0026>stuff</text> <text style=background-color:#00ff0019>happens</text> <text style=background-color:#00ff0020>but</text> <text style=background-color:#00ff0021>other</text> <text style=background-color:#00ff0028>than</text> <text style=background-color:#00ff001b>that</text> <text style=background-color:#00ff001d>it</text> <text style=background-color:#00ff0007>continues</text> <text style=background-color:#00ff000d>to</text> <text style=background-color:#00ff0024>be</text> <text style=background-color:#00ff0016>funny</text> <text style=background-color:#00ff0016>until</text> <text style=background-color:#00ff001f>the</text> <text style=background-color:#00ff001a>end</text> <text style=background-color:#00ff0000>br</text> <text style=background-color:#00ff0000>br</text> <text style=background-color:#00ff0013>even</text> <text style=background-color:#00ff0016>though</text> <text style=background-color:#00ff001f>the</text> <text style=background-color:#00ff000d>plot</text> <text style=background-color:#00ff0004>revolves</text> <text style=background-color:#00ff0014>around</text> <text style=background-color:#00ff0004>fanaticism</text> <text style=background-color:#00ff0018>towards</text> <text style=background-color:#00ff001f>the</text> <text style=background-color:#00ff000a>red</text> <text style=background-color:#00ff0000>sox</text> <text style=background-color:#00ff001d>it</text> <text style=background-color:#00ff0001>s</text> <text style=background-color:#00ff001b>not</text> <text style=background-color:#00ff0003>overloaded</text> <text style=background-color:#00ff002b>with</text> <text style=background-color:#00ff0007>sports</text> <text style=background-color:#00ff0026>you</text> <text style=background-color:#00ff0003>don</text> <text style=background-color:#00ff0002>t</text> <text style=background-color:#00ff0020>have</text> <text style=background-color:#00ff000d>to</text> <text style=background-color:#00ff0024>be</text> <text style=background-color:#00ff0005>a</text> <text style=background-color:#00ff000b>fan</text> <text style=background-color:#00ff000d>to</text> <text style=background-color:#00ff0051>enjoy</text> <text style=background-color:#00ff001f>this</text> <text style=background-color:#00ff000f>film</text> <text style=background-color:#00ff0000>br</text> <text style=background-color:#00ff0000>br</text> <text style=background-color:#00ff001f>of</text> <text style=background-color:#00ff0024>course</text> <text style=background-color:#00ff001b>that</text> <text style=background-color:#00ff0001>s</text> <text style=background-color:#00ff002e>easy</text> <text style=background-color:#00ff001c>for</text> <text style=background-color:#00ff0002>me</text> <text style=background-color:#00ff000d>to</text> <text style=background-color:#00ff0012>say</text> <text style=background-color:#00ff0011>i</text> <text style=background-color:#00ff0000>ve</text> <text style=background-color:#00ff000e>been</text> <text style=background-color:#00ff0005>a</text> <text style=background-color:#00ff000a>red</text> <text style=background-color:#00ff0000>sox</text> <text style=background-color:#00ff000b>fan</text> <text style=background-color:#00ff000e>since</text> <text style=background-color:#00ff0011>i</text> <text style=background-color:#00ff000a>was</text> <text style=background-color:#00ff0005>a</text> <text style=background-color:#00ff001c>boy</text> <text style=background-color:#00ff0027>too</text> <text style=background-color:#00ff0000>br</text> <text style=background-color:#00ff0000>br</text> <text style=background-color:#00ff0013>out</text> <text style=background-color:#00ff001f>of</text> <text style=background-color:#00ff0000>br</text> <text style=background-color:#00ff0000>br</text> <text style=background-color:#00ff0000>barky</text> <br> <text style=background-color:#00ff001f>the</text> <text style=background-color:#00ff0007>pioneering</text> <text style=background-color:#00ff0005>technicolor</text> <text style=background-color:#00ff0009>cinematography</text> <text style=background-color:#00ff000c>winner</text> <text style=background-color:#00ff001f>of</text> <text style=background-color:#00ff0054>special</text> <text style=background-color:#00ff0004>technical</text> <text style=background-color:#00ff0014>achievement</text> <text style=background-color:#00ff0003>oscar</text> <text style=background-color:#00ff0017>is</text> <text style=background-color:#00ff0037>indeed</text> <text style=background-color:#00ff001e>enchanting</text> <text style=background-color:#00ff0007>add</text> <text style=background-color:#00ff0017>an</text> <text style=background-color:#00ff003e>endless</text> <text style=background-color:#00ff0048>variety</text> <text style=background-color:#00ff001f>of</text> <text style=background-color:#00ff0032>glamorous</text> <text style=background-color:#00ff000b>costumes</text> <text style=background-color:#00ff0029>and</text> <text style=background-color:#00ff0005>a</text> <text style=background-color:#00ff00ff>romantic</text> <text style=background-color:#00ff0002>cinema</text> <text style=background-color:#00ff006b>dream</text> <text style=background-color:#00ff000a>team</text> <text style=background-color:#00ff0019>like</text> <text style=background-color:#00ff0000>marlene</text> <text style=background-color:#00ff0000>dietrich</text> <text style=background-color:#00ff0029>and</text> <text style=background-color:#00ff0003>charles</text> <text style=background-color:#00ff0000>boyer</text> <text style=background-color:#00ff0029>and</text> <text style=background-color:#00ff0026>you</text> <text style=background-color:#00ff0000>ve</text> <text style=background-color:#00ff000b>got</text> <text style=background-color:#00ff0005>a</text> <text style=background-color:#00ff002a>rather</text> <text style=background-color:#00ff0031>pleasant</text> <text style=background-color:#00ff001d>picture</text> <text style=background-color:#00ff0000>br</text> <text style=background-color:#00ff0000>br</text> <text style=background-color:#00ff000e>unfortunately</text> <text style=background-color:#00ff001f>the</text> <text style=background-color:#00ff0001>contrived</text> <text style=background-color:#00ff000d>plot</text> <text style=background-color:#00ff0008>as</text> <text style=background-color:#00ff001c>well</text> <text style=background-color:#00ff0008>as</text> <text style=background-color:#00ff001f>the</text> <text style=background-color:#00ff0007>over</text> <text style=background-color:#00ff0007>blown</text> <text style=background-color:#00ff0020>acting</text> <text style=background-color:#00ff0012>leave</text> <text style=background-color:#00ff002b>much</text> <text style=background-color:#00ff000d>to</text> <text style=background-color:#00ff0024>be</text> <text style=background-color:#00ff0010>desired</text> <text style=background-color:#00ff0015>still</text> <text style=background-color:#00ff0022>there</text> <text style=background-color:#00ff0020>have</text> <text style=background-color:#00ff001b>not</text> <text style=background-color:#00ff000e>been</text> <text style=background-color:#00ff001d>any</text> <text style=background-color:#00ff0034>more</text> <text style=background-color:#00ff0018>breathtaking</text> <text style=background-color:#00ff0005>technicolor</text> <text style=background-color:#00ff000f>films</text> <text style=background-color:#00ff0015>before</text> <text style=background-color:#00ff001f>this</text> <text style=background-color:#00ff001e>one</text> <text style=background-color:#00ff0029>and</text> <text style=background-color:#00ff0041>very</text> <text style=background-color:#00ff0018>few</text> <text style=background-color:#00ff000e>since</text> <text style=background-color:#00ff0017>then</text> <text style=background-color:#00ff001b>that</text> <text style=background-color:#00ff001c>can</text> <text style=background-color:#00ff000d>top</text> <text style=background-color:#00ff001f>this</text> <text style=background-color:#00ff0018>breathtaking</text> <text style=background-color:#00ff0014>visual</text> <text style=background-color:#00ff0046>experience</text> <text style=background-color:#00ff001f>of</text> <text style=background-color:#00ff0031>stunning</text> <text style=background-color:#00ff0016>colors</text> <text style=background-color:#00ff0002>cinema</text> <text style=background-color:#00ff0009>fans</text> <text style=background-color:#00ff0016>who</text> <text style=background-color:#00ff0020>have</text> <text style=background-color:#00ff0031>enjoyed</text> <text style=background-color:#00ff001f>the</text> <text style=background-color:#00ff0041>glorious</text> <text style=background-color:#00ff0007>color</text> <text style=background-color:#00ff0009>cinematography</text> <text style=background-color:#00ff000a>in</text> <text style=background-color:#00ff0004>robin</text> <text style=background-color:#00ff0008>hood</text> <text style=background-color:#00ff0003>jesse</text> <text style=background-color:#00ff0004>james</text> <text style=background-color:#00ff0029>and</text> <text style=background-color:#00ff0008>gone</text> <text style=background-color:#00ff002b>with</text> <text style=background-color:#00ff001f>the</text> <text style=background-color:#00ff0001>wind</text> <text style=background-color:#00ff0013>will</text> <text style=background-color:#00ff001b>not</text> <text style=background-color:#00ff0024>be</text> <text style=background-color:#00ff000e>disappointed</text> <text style=background-color:#00ff000a>in</text> <text style=background-color:#00ff001f>the</text> <text style=background-color:#00ff0051>fantastic</text> <text style=background-color:#00ff001f>work</text> <text style=background-color:#00ff0013>done</text> <text style=background-color:#00ff001a>here</text> <text style=background-color:#00ff001f>the</text> <text style=background-color:#00ff0019>garden</text> <text style=background-color:#00ff001f>of</text> <text style=background-color:#00ff0002>allah</text> <text style=background-color:#00ff0013>will</text> <text style=background-color:#00ff0031>always</text> <text style=background-color:#00ff0024>be</text> <text style=background-color:#00ff0004>synonymous</text> <text style=background-color:#00ff002b>with</text> <text style=background-color:#00ff002f>brilliant</text> <text style=background-color:#00ff0007>color</text> <text style=background-color:#00ff0009>cinematography</text> <br> <text style=background-color:#00ff000b>i</text> <text style=background-color:#00ff0004>went</text> <text style=background-color:#00ff0008>to</text> <text style=background-color:#00ff0012>see</text> <text style=background-color:#00ff0005>fever</text> <text style=background-color:#00ff0006>pitch</text> <text style=background-color:#00ff0020>with</text> <text style=background-color:#00ff001d>my</text> <text style=background-color:#00ff0018>mom</text> <text style=background-color:#00ff001f>and</text> <text style=background-color:#00ff000b>i</text> <text style=background-color:#00ff0014>can</text> <text style=background-color:#00ff000b>say</text> <text style=background-color:#00ff0013>that</text> <text style=background-color:#00ff0008>we</text> <text style=background-color:#00ff0010>both</text> <text style=background-color:#00ff002f>loved</text> <text style=background-color:#00ff0014>it</text> <text style=background-color:#00ff0014>it</text> <text style=background-color:#00ff0000>wasn</text> <text style=background-color:#00ff0001>t</text> <text style=background-color:#00ff0016>the</text> <text style=background-color:#00ff0011>typical</text> <text style=background-color:#00ff00ff>romantic</text> <text style=background-color:#00ff0016>comedy</text> <text style=background-color:#00ff000f>where</text> <text style=background-color:#00ff0017>someone</text> <text style=background-color:#00ff000f>is</text> <text style=background-color:#00ff0000>pining</text> <text style=background-color:#00ff0014>for</text> <text style=background-color:#00ff0016>the</text> <text style=background-color:#00ff0017>other</text> <text style=background-color:#00ff001f>and</text> <text style=background-color:#00ff0001>blah</text> <text style=background-color:#00ff0001>blah</text> <text style=background-color:#00ff0001>blah</text> <text style=background-color:#00ff001c>you</text> <text style=background-color:#00ff0000>weren</text> <text style=background-color:#00ff0001>t</text> <text style=background-color:#00ff0014>waiting</text> <text style=background-color:#00ff0014>for</text> <text style=background-color:#00ff0016>the</text> <text style=background-color:#00ff0000>climatic</text> <text style=background-color:#00ff0016>first</text> <text style=background-color:#00ff001d>kiss</text> <text style=background-color:#00ff0018>or</text> <text style=background-color:#00ff0014>for</text> <text style=background-color:#00ff000a>them</text> <text style=background-color:#00ff0008>to</text> <text style=background-color:#00ff0008>finally</text> <text style=background-color:#00ff000b>get</text> <text style=background-color:#00ff0020>together</text> <text style=background-color:#00ff0014>it</text> <text style=background-color:#00ff0006>was</text> <text style=background-color:#00ff0029>more</text> <text style=background-color:#00ff0009>real</text> <text style=background-color:#00ff0016>because</text> <text style=background-color:#00ff001c>you</text> <text style=background-color:#00ff000c>saw</text> <text style=background-color:#00ff000a>them</text> <text style=background-color:#00ff000e>through</text> <text style=background-color:#00ff0016>the</text> <text style=background-color:#00ff0044>relationship</text> <text style=background-color:#00ff0020>rather</text> <text style=background-color:#00ff001e>than</text> <text style=background-color:#00ff0016>the</text> <text style=background-color:#00ff0017>whole</text> <text style=background-color:#00ff0018>movie</text> <text style=background-color:#00ff001a>be</text> <text style=background-color:#00ff0019>about</text> <text style=background-color:#00ff000a>them</text> <text style=background-color:#00ff0009>getting</text> <text style=background-color:#00ff0020>together</text> <text style=background-color:#00ff0015>people</text> <text style=background-color:#00ff000d>could</text> <text style=background-color:#00ff0011>actually</text> <text style=background-color:#00ff000e>relate</text> <text style=background-color:#00ff0008>to</text> <text style=background-color:#00ff0016>the</text> <text style=background-color:#00ff0009>film</text> <text style=background-color:#00ff0016>because</text> <text style=background-color:#00ff0014>it</text> <text style=background-color:#00ff0000>didn</text> <text style=background-color:#00ff0001>t</text> <text style=background-color:#00ff000d>seem</text> <text style=background-color:#00ff0011>like</text> <text style=background-color:#00ff0047>extraordinary</text> <text style=background-color:#00ff000f>circumstances</text> <text style=background-color:#00ff0018>or</text> <text style=background-color:#00ff0017>impossible</text> <text style=background-color:#00ff000d>situations</text> <text style=background-color:#00ff0014>it</text> <text style=background-color:#00ff0006>was</text> <text style=background-color:#00ff0014>really</text> <text style=background-color:#00ff000f>funny</text> <text style=background-color:#00ff001f>and</text> <text style=background-color:#00ff000b>i</text> <text style=background-color:#00ff0011>think</text> <text style=background-color:#00ff0014>it</text> <text style=background-color:#00ff0006>was</text> <text style=background-color:#00ff0002>jimmy</text> <text style=background-color:#00ff0000>fallon</text> <text style=background-color:#00ff0000>s</text> <text style=background-color:#00ff0031>best</text> <text style=background-color:#00ff001d>performance</text> <text style=background-color:#00ff001a>all</text> <text style=background-color:#00ff0005>in</text> <text style=background-color:#00ff001a>all</text> <text style=background-color:#00ff000b>i</text> <text style=background-color:#00ff000c>would</text> <text style=background-color:#00ff0019>definitely</text> <text style=background-color:#00ff000e>recommend</text> <text style=background-color:#00ff0014>it</text> <br> <text style=background-color:#00ff0015>i</text> <text style=background-color:#00ff000e>watched</text> <text style=background-color:#00ff0024>the</text> <text style=background-color:#00ff0025>movie</text> <text style=background-color:#00ff0020>while</text> <text style=background-color:#00ff0005>recovering</text> <text style=background-color:#00ff0019>from</text> <text style=background-color:#00ff0019>major</text> <text style=background-color:#00ff000a>surgery</text> <text style=background-color:#00ff0020>while</text> <text style=background-color:#00ff0015>i</text> <text style=background-color:#00ff0010>knew</text> <text style=background-color:#00ff0022>it</text> <text style=background-color:#00ff000d>was</text> <text style=background-color:#00ff0024>only</text> <text style=background-color:#00ff0006>a</text> <text style=background-color:#00ff0005>b</text> <text style=background-color:#00ff0012>film</text> <text style=background-color:#00ff0006>a</text> <text style=background-color:#00ff001a>space</text> <text style=background-color:#00ff000a>western</text> <text style=background-color:#00ff0015>i</text> <text style=background-color:#00ff0040>loved</text> <text style=background-color:#00ff0022>it</text> <text style=background-color:#00ff0022>it</text> <text style=background-color:#00ff001b>may</text> <text style=background-color:#00ff0025>have</text> <text style=background-color:#00ff0006>lacked</text> <text style=background-color:#00ff0024>the</text> <text style=background-color:#00ff0005>flash</text> <text style=background-color:#00ff0024>of</text> <text style=background-color:#00ff0018>high</text> <text style=background-color:#00ff0002>dollar</text> <text style=background-color:#00ff0007>productions</text> <text style=background-color:#00ff0022>it</text> <text style=background-color:#00ff0001>non</text> <text style=background-color:#00ff0024>the</text> <text style=background-color:#00ff0024>less</text> <text style=background-color:#00ff0007>held</text> <text style=background-color:#00ff002d>my</text> <text style=background-color:#00ff0042>imagination</text> <text style=background-color:#00ff002e>and</text> <text style=background-color:#00ff000a>provided</text> <text style=background-color:#00ff004f>great</text> <text style=background-color:#00ff0002>escapism</text> <text style=background-color:#00ff000e>sadly</text> <text style=background-color:#00ff0036>our</text> <text style=background-color:#00ff0022>society</text> <text style=background-color:#00ff0009>has</text> <text style=background-color:#00ff0017>so</text> <text style=background-color:#00ff0030>much</text> <text style=background-color:#00ff000c>available</text> <text style=background-color:#00ff0000>discounting</text> <text style=background-color:#00ff002f>small</text> <text style=background-color:#00ff0006>attempts</text> <text style=background-color:#00ff001b>is</text> <text style=background-color:#00ff002c>too</text> <text style=background-color:#00ff0033>easy</text> <text style=background-color:#00ff000d>in</text> <text style=background-color:#00ff0024>the</text> <text style=background-color:#00ff0025>same</text> <text style=background-color:#00ff002c>way</text> <text style=background-color:#00ff0020>that</text> <text style=background-color:#00ff0015>i</text> <text style=background-color:#00ff0021>can</text> <text style=background-color:#00ff0057>enjoy</text> <text style=background-color:#00ff0006>a</text> <text style=background-color:#00ff0017>even</text> <text style=background-color:#00ff0006>a</text> <text style=background-color:#00ff000a>grade</text> <text style=background-color:#00ff000d>school</text> <text style=background-color:#00ff002c>performance</text> <text style=background-color:#00ff0024>of</text> <text style=background-color:#00ff000b>shakespeare</text> <text style=background-color:#00ff0015>i</text> <text style=background-color:#00ff0021>can</text> <text style=background-color:#00ff0047>appreciate</text> <text style=background-color:#00ff001e>many</text> <text style=background-color:#00ff0009>levels</text> <text style=background-color:#00ff0024>of</text> <text style=background-color:#00ff0018>achievement</text> <text style=background-color:#00ff0021>for</text> <text style=background-color:#00ff0024>the</text> <text style=background-color:#00ff0031>art</text> <text style=background-color:#00ff000f>sake</text> <text style=background-color:#00ff0015>i</text> <text style=background-color:#00ff0010>am</text> <text style=background-color:#00ff0006>a</text> <text style=background-color:#00ff0003>cop</text> <text style=background-color:#00ff002e>and</text> <text style=background-color:#00ff0011>found</text> <text style=background-color:#00ff000c>affinity</text> <text style=background-color:#00ff0030>with</text> <text style=background-color:#00ff0024>the</text> <text style=background-color:#00ff0003>retired</text> <text style=background-color:#00ff0000>lapd</text> <text style=background-color:#00ff005f>dreams</text> <text style=background-color:#00ff001d>like</text> <text style=background-color:#00ff001a>his</text> <text style=background-color:#00ff0009>haunt</text> <text style=background-color:#00ff0003>me</text> <text style=background-color:#00ff0020>that</text> <text style=background-color:#00ff0015>i</text> <text style=background-color:#00ff0017>will</text> <text style=background-color:#00ff0029>be</text> <text style=background-color:#00ff0006>unable</text> <text style=background-color:#00ff000d>in</text> <text style=background-color:#00ff0024>the</text> <text style=background-color:#00ff0032>moment</text> <text style=background-color:#00ff0024>of</text> <text style=background-color:#00ff0000>crisis</text> <text style=background-color:#00ff0029>be</text> <text style=background-color:#00ff0020>able</text> <text style=background-color:#00ff0011>to</text> <text style=background-color:#00ff0004>respond</text> <text style=background-color:#00ff0011>to</text> <text style=background-color:#00ff0012>save</text> <text style=background-color:#00ff0029>another</text> <text style=background-color:#00ff0002>s</text> <text style=background-color:#00ff0049>life</text> <text style=background-color:#00ff0026>or</text> <text style=background-color:#00ff002d>my</text> <text style=background-color:#00ff002c>own</text> <text style=background-color:#00ff0020>while</text> <text style=background-color:#00ff0022>it</text> <text style=background-color:#00ff000d>was</text> <text style=background-color:#00ff0006>a</text> <text style=background-color:#00ff00ff>romantic</text> <text style=background-color:#00ff003d>ending</text> <text style=background-color:#00ff001a>where</text> <text style=background-color:#00ff0000>farnsworth</text> <text style=background-color:#00ff000e>did</text> <text style=background-color:#00ff0022>take</text> <text style=background-color:#00ff0017>out</text> <text style=background-color:#00ff0024>the</text> <text style=background-color:#00ff0023>bad</text> <text style=background-color:#00ff0021>guy</text> <text style=background-color:#00ff0010>predictable</text> <text style=background-color:#00ff0015>i</text> <text style=background-color:#00ff0019>needed</text> <text style=background-color:#00ff0006>a</text> <text style=background-color:#00ff0047>little</text> <text style=background-color:#00ff003f>happy</text> <text style=background-color:#00ff0035>romance</text> <text style=background-color:#00ff001a>where</text> <text style=background-color:#00ff0046>good</text> <text style=background-color:#00ff0021>can</text> <text style=background-color:#00ff0008>triumph</text> <text style=background-color:#00ff002d>my</text> <text style=background-color:#00ff0031>world</text> <text style=background-color:#00ff001b>is</text> <text style=background-color:#00ff0022>really</text> <text style=background-color:#00ff002c>too</text> <text style=background-color:#00ff000d>cynical</text> <br> <text style=background-color:#00ff0011>i</text> <text style=background-color:#00ff000d>found</text> <text style=background-color:#00ff001f>this</text> <text style=background-color:#00ff000f>film</text> <text style=background-color:#00ff000d>to</text> <text style=background-color:#00ff0024>be</text> <text style=background-color:#00ff0017>an</text> <text style=background-color:#00ff0008>utter</text> <text style=background-color:#00ff0001>dissapointment</text> <text style=background-color:#00ff001f>the</text> <text style=background-color:#00ff0030>talent</text> <text style=background-color:#00ff0009>available</text> <text style=background-color:#00ff000d>to</text> <text style=background-color:#00ff001f>the</text> <text style=background-color:#00ff0002>director</text> <text style=background-color:#00ff0000>notably</text> <text style=background-color:#00ff0000>stanley</text> <text style=background-color:#00ff0000>tucci</text> <text style=background-color:#00ff0004>chris</text> <text style=background-color:#00ff0000>walken</text> <text style=background-color:#00ff0001>hank</text> <text style=background-color:#00ff0000>azaria</text> <text style=background-color:#00ff0029>and</text> <text style=background-color:#00ff0000>alan</text> <text style=background-color:#00ff0000>arkin</text> <text style=background-color:#00ff0024>without</text> <text style=background-color:#00ff0013>even</text> <text style=background-color:#00ff0002>mentioning</text> <text style=background-color:#00ff001f>the</text> <text style=background-color:#00ff0009>four</text> <text style=background-color:#00ff0004>main</text> <text style=background-color:#00ff0004>leads</text> <text style=background-color:#00ff0020>have</text> <text style=background-color:#00ff000e>been</text> <text style=background-color:#00ff000a>completely</text> <text style=background-color:#00ff0017>wasted</text> <text style=background-color:#00ff000c>on</text> <text style=background-color:#00ff0017>an</text> <text style=background-color:#00ff0004>unfunny</text> <text style=background-color:#00ff0007>mediocre</text> <text style=background-color:#00ff002f>story</text> <text style=background-color:#00ff002d>whose</text> <text style=background-color:#00ff0010>conclusion</text> <text style=background-color:#00ff001e>one</text> <text style=background-color:#00ff0000>couldn</text> <text style=background-color:#00ff0002>t</text> <text style=background-color:#00ff001d>really</text> <text style=background-color:#00ff0027>care</text> <text style=background-color:#00ff0022>about</text> <text style=background-color:#00ff0010>once</text> <text style=background-color:#00ff0003>introduced</text> <text style=background-color:#00ff000d>to</text> <text style=background-color:#00ff001f>the</text> <text style=background-color:#00ff0001>dire</text> <text style=background-color:#00ff0001>stereo</text> <text style=background-color:#00ff0000>typed</text> <text style=background-color:#00ff001e>characters</text> <text style=background-color:#00ff0002>julia</text> <text style=background-color:#00ff0003>roberts</text> <text style=background-color:#00ff0017>is</text> <text style=background-color:#00ff0001>feeble</text> <text style=background-color:#00ff0001>zeta</text> <text style=background-color:#00ff0004>jones</text> <text style=background-color:#00ff0017>is</text> <text style=background-color:#00ff0018>just</text> <text style=background-color:#00ff000b>plain</text> <text style=background-color:#00ff0011>annoying</text> <text style=background-color:#00ff0005>appearing</text> <text style=background-color:#00ff000d>to</text> <text style=background-color:#00ff0000>reprise</text> <text style=background-color:#00ff0012>her</text> <text style=background-color:#00ff000d>role</text> <text style=background-color:#00ff0015>from</text> <text style=background-color:#00ff0014>high</text> <text style=background-color:#00ff0001>fidelity</text> <text style=background-color:#00ff0018>minus</text> <text style=background-color:#00ff001f>the</text> <text style=background-color:#00ff0017>humour</text> <text style=background-color:#00ff0008>crystal</text> <text style=background-color:#00ff0018>just</text> <text style=background-color:#00ff0009>plays</text> <text style=background-color:#00ff0016>his</text> <text style=background-color:#00ff0021>same</text> <text style=background-color:#00ff0021>old</text> <text style=background-color:#00ff0013>hyper</text> <text style=background-color:#00ff0024>active</text> <text style=background-color:#00ff0002>neurotic</text> <text style=background-color:#00ff0011>annoying</text> <text style=background-color:#00ff0008>alter</text> <text style=background-color:#00ff0007>ego</text> <text style=background-color:#00ff0029>and</text> <text style=background-color:#00ff0000>cusack</text> <text style=background-color:#00ff0028>simply</text> <text style=background-color:#00ff000b>walks</text> <text style=background-color:#00ff0015>through</text> <text style=background-color:#00ff0016>his</text> <text style=background-color:#00ff002f>part</text> <text style=background-color:#00ff0009>apparently</text> <text style=background-color:#00ff000a>bored</text> <text style=background-color:#00ff002b>with</text> <text style=background-color:#00ff001f>the</text> <text style=background-color:#00ff0020>whole</text> <text style=background-color:#00ff001a>project</text> <text style=background-color:#00ff0000>br</text> <text style=background-color:#00ff0000>br</text> <text style=background-color:#00ff001d>for</text> <text style=background-color:#00ff001c>what</text> <text style=background-color:#00ff0017>is</text> <text style=background-color:#00ff0017>supposed</text> <text style=background-color:#00ff000d>to</text> <text style=background-color:#00ff0024>be</text> <text style=background-color:#00ff0005>a</text> <text style=background-color:#00ff00ff>romantic</text> <text style=background-color:#00ff001f>comedy</text> <text style=background-color:#00ff0022>there</text> <text style=background-color:#00ff0017>is</text> <text style=background-color:#00ff0017>absolutely</text> <text style=background-color:#00ff0000>no</text> <text style=background-color:#00ff0030>romance</text> <text style=background-color:#00ff0018>between</text> <text style=background-color:#00ff001f>the</text> <text style=background-color:#00ff0000>central</text> <text style=background-color:#00ff001e>characters</text> <text style=background-color:#00ff0019>let</text> <text style=background-color:#00ff0019>alone</text> <text style=background-color:#00ff000a>chemistry</text> <text style=background-color:#00ff0029>and</text> <text style=background-color:#00ff0008>as</text> <text style=background-color:#00ff001d>for</text> <text style=background-color:#00ff001f>the</text> <text style=background-color:#00ff001f>comedy</text> <text style=background-color:#00ff0015>possible</text> <text style=background-color:#00ff0001>spoilers</text> <text style=background-color:#00ff001c>well</text> <text style=background-color:#00ff001f>the</text> <text style=background-color:#00ff001f>only</text> <text style=background-color:#00ff0036>moments</text> <text style=background-color:#00ff001f>of</text> <text style=background-color:#00ff0010>mild</text> <text style=background-color:#00ff0017>humour</text> <text style=background-color:#00ff000c>came</text> <text style=background-color:#00ff0009>off</text> <text style=background-color:#00ff001f>the</text> <text style=background-color:#00ff0009>back</text> <text style=background-color:#00ff001f>of</text> <text style=background-color:#00ff0000>cusack</text> <text style=background-color:#00ff0001>s</text> <text style=background-color:#00ff000d>role</text> <text style=background-color:#00ff000a>in</text> <text style=background-color:#00ff0001>grosse</text> <text style=background-color:#00ff0001>pointe</text> <text style=background-color:#00ff0029>and</text> <text style=background-color:#00ff0016>his</text> <text style=background-color:#00ff0051>relationship</text> <text style=background-color:#00ff002b>with</text> <text style=background-color:#00ff0000>alan</text> <text style=background-color:#00ff0000>arkin</text> <text style=background-color:#00ff001f>the</text> <text style=background-color:#00ff0001>scriptwriter</text> <text style=background-color:#00ff000f>obviously</text> <text style=background-color:#00ff0004>unable</text> <text style=background-color:#00ff000d>to</text> <text style=background-color:#00ff0011>show</text> <text style=background-color:#00ff001e>any</text> <text style=background-color:#00ff0009>originality</text> <text style=background-color:#00ff0007>whatsoever</text> <text style=background-color:#00ff0001>spoilers</text> <text style=background-color:#00ff0000>azaria</text> <text style=background-color:#00ff000a>was</text> <text style=background-color:#00ff0004>reasonably</text> <text style=background-color:#00ff000c>amusing</text> <text style=background-color:#00ff0008>as</text> <text style=background-color:#00ff001f>the</text> <text style=background-color:#00ff000b>mexican</text> <text style=background-color:#00ff007d>lover</text> <text style=background-color:#00ff0029>and</text> <text style=background-color:#00ff0000>walken</text> <text style=background-color:#00ff000b>did</text> <text style=background-color:#00ff001a>quite</text> <text style=background-color:#00ff0017>an</text> <text style=background-color:#00ff000c>amusing</text> <text style=background-color:#00ff001c>turn</text> <text style=background-color:#00ff0008>as</text> <text style=background-color:#00ff0005>a</text> <text style=background-color:#00ff000c>parody</text> <text style=background-color:#00ff001f>of</text> <text style=background-color:#00ff0017>an</text> <text style=background-color:#00ff0000>arthouse</text> <text style=background-color:#00ff0000>maverick</text> <text style=background-color:#00ff0000>dogme</text> <text style=background-color:#00ff0029>type</text> <text style=background-color:#00ff0002>director</text> <text style=background-color:#00ff0020>but</text> <text style=background-color:#00ff0014>these</text> <text style=background-color:#00ff000f>parts</text> <text style=background-color:#00ff0000>constituted</text> <text style=background-color:#00ff0041>very</text> <text style=background-color:#00ff0042>little</text> <text style=background-color:#00ff0005>screen</text> <text style=background-color:#00ff0020>time</text> <text style=background-color:#00ff0029>and</text> <text style=background-color:#00ff0016>instead</text> <text style=background-color:#00ff0001>spoilers</text> <text style=background-color:#00ff000e>we</text> <text style=background-color:#00ff0010>were</text> <text style=background-color:#00ff0012>treated</text> <text style=background-color:#00ff000d>to</text> <text style=background-color:#00ff000c>billy</text> <text style=background-color:#00ff0008>crystal</text> <text style=background-color:#00ff0031>having</text> <text style=background-color:#00ff0016>his</text> <text style=background-color:#00ff0000>groin</text> <text style=background-color:#00ff0000>sniffed</text> <text style=background-color:#00ff0016>by</text> <text style=background-color:#00ff0005>a</text> <text style=background-color:#00ff0014>dog</text> <text style=background-color:#00ff0019>pure</text> <text style=background-color:#00ff0018>genius</text> <text style=background-color:#00ff0000>br</text> <text style=background-color:#00ff0000>br</text> <text style=background-color:#00ff001d>for</text> <text style=background-color:#00ff0005>a</text> <text style=background-color:#00ff0020>huge</text> <text style=background-color:#00ff000b>fan</text> <text style=background-color:#00ff001f>of</text> <text style=background-color:#00ff001f>the</text> <text style=background-color:#00ff0008>majority</text> <text style=background-color:#00ff001f>of</text> <text style=background-color:#00ff0007>john</text> <text style=background-color:#00ff0000>cusack</text> <text style=background-color:#00ff0001>s</text> <text style=background-color:#00ff001f>work</text> <text style=background-color:#00ff001b>not</text> <text style=background-color:#00ff000d>to</text> <text style=background-color:#00ff0007>mention</text> <text style=background-color:#00ff001f>the</text> <text style=background-color:#00ff0023>rest</text> <text style=background-color:#00ff001f>of</text> <text style=background-color:#00ff001f>the</text> <text style=background-color:#00ff0051>fantastic</text> <text style=background-color:#00ff0021>cast</text> <text style=background-color:#00ff0011>i</text> <text style=background-color:#00ff000a>was</text> <text style=background-color:#00ff000a>completely</text> <text style=background-color:#00ff0019>let</text> <text style=background-color:#00ff000a>down</text> <text style=background-color:#00ff0016>by</text> <text style=background-color:#00ff0005>a</text> <text style=background-color:#00ff000f>film</text> <text style=background-color:#00ff002b>with</text> <text style=background-color:#00ff0018>plenty</text> <text style=background-color:#00ff001f>of</text> <text style=background-color:#00ff0041>good</text> <text style=background-color:#00ff0013>ideas</text> <text style=background-color:#00ff0029>and</text> <text style=background-color:#00ff0013>at</text> <text style=background-color:#00ff001f>the</text> <text style=background-color:#00ff0021>same</text> <text style=background-color:#00ff0020>time</text> <text style=background-color:#00ff000a>completely</text> <text style=background-color:#00ff0002>unwilling</text> <text style=background-color:#00ff000d>to</text> <text style=background-color:#00ff001f>explore</text> <text style=background-color:#00ff0021>or</text> <text style=background-color:#00ff0014>elaborate</text> <text style=background-color:#00ff000c>on</text> <text style=background-color:#00ff001e>any</text> <text style=background-color:#00ff001f>of</text> <text style=background-color:#00ff0010>them</text> <text style=background-color:#00ff0016>instead</text> <text style=background-color:#00ff0000>resorting</text> <text style=background-color:#00ff000d>to</text> <text style=background-color:#00ff001f>the</text> <text style=background-color:#00ff0021>same</text> <text style=background-color:#00ff0021>old</text> <text style=background-color:#00ff0004>genre</text> <text style=background-color:#00ff0001>cliches</text> <text style=background-color:#00ff0029>and</text> <text style=background-color:#00ff0013>even</text> <text style=background-color:#00ff0001>lowering</text> <text style=background-color:#00ff0007>itself</text> <text style=background-color:#00ff000d>to</text> <text style=background-color:#00ff001f>the</text> <text style=background-color:#00ff000a>depths</text> <text style=background-color:#00ff001f>of</text> <text style=background-color:#00ff000e>almost</text> <text style=background-color:#00ff0004>gross</text> <text style=background-color:#00ff0013>out</text> <text style=background-color:#00ff0011>teen</text> <text style=background-color:#00ff0021>movie</text> <text style=background-color:#00ff0017>humour</text> <text style=background-color:#00ff0013>at</text> <text style=background-color:#00ff0010>times</text> <text style=background-color:#00ff0000>br</text> <text style=background-color:#00ff0000>br</text> <text style=background-color:#00ff0005>a</text> <text style=background-color:#00ff0041>very</text> <text style=background-color:#00ff0011>poor</text>"
      ],
      "text/plain": [
       "<IPython.core.display.HTML object>"
      ]
     },
     "execution_count": 60,
     "metadata": {},
     "output_type": "execute_result"
    }
   ],
   "source": [
    "imdb_task.print_coloured_text (np.array (coloured_texts) [ordering [0:10]])"
   ]
  },
  {
   "cell_type": "code",
   "execution_count": null,
   "metadata": {},
   "outputs": [],
   "source": []
  },
  {
   "cell_type": "code",
   "execution_count": null,
   "metadata": {},
   "outputs": [],
   "source": []
  },
  {
   "cell_type": "code",
   "execution_count": 76,
   "metadata": {},
   "outputs": [],
   "source": [
    "stopwords = ['i', 'me', 'my', 'myself', 'we', 'our', 'ours', 'ourselves', 'you', \"you're\", \"you've\", \"you'll\", \"you'd\", 'your', 'yours', 'yourself', 'yourselves', 'he', 'him', 'his', 'himself', 'she', \"she's\", 'her', 'hers', 'herself', 'it', \"it's\", 'its', 'itself', 'they', 'them', 'their', 'theirs', 'themselves', 'what', 'which', 'who', 'whom', 'this', 'that', \"that'll\", 'these', 'those', 'am', 'is', 'are', 'was', 'were', 'be', 'been', 'being', 'have', 'has', 'had', 'having', 'do', 'does', 'did', 'doing', 'a', 'an', 'the', 'and', 'but', 'if', 'or', 'because', 'as', 'until', 'while', 'of', 'at', 'by', 'for', 'with', 'about', 'against', 'between', 'into', 'through', 'during', 'before', 'after', 'above', 'below', 'to', 'from', 'up', 'down', 'in', 'out', 'on', 'off', 'over', 'under', 'again', 'further', 'then', 'once', 'here', 'there', 'when', 'where', 'why', 'how', 'all', 'any', 'both', 'each', 'few', 'more', 'most', 'other', 'some', 'such', 'no', 'nor', 'not', 'only', 'own', 'same', 'so', 'than', 'too', 'very', 's', 't', 'can', 'will', 'just', 'don', \"don't\", 'should', \"should've\", 'now', 'd', 'll', 'm', 'o', 're', 've', 'y', 'ain', 'aren', \"aren't\", 'couldn', \"couldn't\", 'didn', \"didn't\", 'doesn', \"doesn't\", 'hadn', \"hadn't\", 'hasn', \"hasn't\", 'haven', \"haven't\", 'isn', \"isn't\", 'ma', 'mightn', \"mightn't\", 'mustn', \"mustn't\", 'needn', \"needn't\", 'shan', \"shan't\", 'shouldn', \"shouldn't\", 'wasn', \"wasn't\", 'weren', \"weren't\", 'won', \"won't\", 'wouldn', \"wouldn't\"]\n",
    "stopwords_set = set (stopwords)"
   ]
  },
  {
   "cell_type": "code",
   "execution_count": 80,
   "metadata": {},
   "outputs": [
    {
     "data": {
      "text/plain": [
       "False"
      ]
     },
     "execution_count": 80,
     "metadata": {},
     "output_type": "execute_result"
    }
   ],
   "source": [
    "np.array (imdb_task.texts_tok ['train'][0]) in np.array (stopwords_set)"
   ]
  },
  {
   "cell_type": "code",
   "execution_count": 71,
   "metadata": {},
   "outputs": [
    {
     "data": {
      "text/plain": [
       "54"
      ]
     },
     "execution_count": 71,
     "metadata": {},
     "output_type": "execute_result"
    }
   ],
   "source": [
    "len (imdb_task.embeds['train']['glove-twitter-25'][0])"
   ]
  },
  {
   "cell_type": "code",
   "execution_count": 81,
   "metadata": {},
   "outputs": [
    {
     "data": {
      "text/plain": [
       "array(['americans', 'anyone', 'brits', 'comedy', 'completely', 'could',\n",
       "       'doubt', 'eddie', 'enjoy', 'ever', 'everyone', 'funniest', 'funny',\n",
       "       'genius', 'hilarious', 'izzard', 'laugh', 'natural', 'picks',\n",
       "       'seen', 'sit', 'stand', 'style', 'watch'], dtype='<U10')"
      ]
     },
     "execution_count": 81,
     "metadata": {},
     "output_type": "execute_result"
    }
   ],
   "source": [
    "np.setdiff1d(imdb_task.texts_tok ['train'][0],stopwords)"
   ]
  },
  {
   "cell_type": "code",
   "execution_count": 89,
   "metadata": {},
   "outputs": [],
   "source": [
    "#imdb_task.texts_tok ['train'][0]"
   ]
  },
  {
   "cell_type": "code",
   "execution_count": 101,
   "metadata": {},
   "outputs": [
    {
     "data": {
      "text/plain": [
       "(25,)"
      ]
     },
     "execution_count": 101,
     "metadata": {},
     "output_type": "execute_result"
    }
   ],
   "source": [
    "np.average (np.array (imdb_task.embeds['train']['glove-twitter-25'][1]) [np.where (~np.isin (imdb_task.texts_tok ['train'][1],stopwords))[0]], axis = 0)"
   ]
  },
  {
   "cell_type": "code",
   "execution_count": 94,
   "metadata": {},
   "outputs": [
    {
     "data": {
      "text/plain": [
       "array([ 5,  6,  8, 11, 12, 13, 14, 17, 19, 21, 22, 24, 28, 30, 31, 33, 34,\n",
       "       36, 38, 39, 40, 45, 49, 50, 53], dtype=int64)"
      ]
     },
     "execution_count": 94,
     "metadata": {},
     "output_type": "execute_result"
    }
   ],
   "source": [
    "np.where (~np.isin (imdb_task.texts_tok ['train'][0],stopwords))[0]"
   ]
  },
  {
   "cell_type": "code",
   "execution_count": 106,
   "metadata": {},
   "outputs": [
    {
     "name": "stdout",
     "output_type": "stream",
     "text": [
      "0\n",
      "1000\n",
      "2000\n",
      "3000\n",
      "4000\n"
     ]
    }
   ],
   "source": [
    "text_embeds = imdb_task.embeds['train']['glove-twitter-25']\n",
    "text_tok = imdb_task.texts_tok ['train']\n",
    "\n",
    "sent_embs = []\n",
    "for i in range (len (text_tok)):\n",
    "    if (i % 1000) == 0:\n",
    "        print (i)\n",
    "    assert (len (text_embeds[i]) == len (text_tok[i]))\n",
    "    sent_embs.append (np.average (np.array (text_embeds[i]) [np.where (~np.isin (text_tok[i],stopwords))[0]], axis = 0))\n",
    "    \n",
    "sent_embs = np.array (sent_embs)"
   ]
  },
  {
   "cell_type": "code",
   "execution_count": 107,
   "metadata": {},
   "outputs": [
    {
     "data": {
      "text/plain": [
       "(5000, 25)"
      ]
     },
     "execution_count": 107,
     "metadata": {},
     "output_type": "execute_result"
    }
   ],
   "source": [
    "sent_embs.shape"
   ]
  },
  {
   "cell_type": "code",
   "execution_count": null,
   "metadata": {},
   "outputs": [],
   "source": []
  },
  {
   "cell_type": "code",
   "execution_count": 49,
   "metadata": {},
   "outputs": [],
   "source": [
    "from IPython.display import HTML as html_print"
   ]
  },
  {
   "cell_type": "code",
   "execution_count": 50,
   "metadata": {},
   "outputs": [
    {
     "data": {
      "text/html": [
       "<text style=background-color:#00ff001d>the</text> <text style=background-color:#00ff0008>title</text> <text style=background-color:#00ff001d>of</text> <text style=background-color:#00ff001d>this</text> <text style=background-color:#00ff000e>film</text> <text style=background-color:#00ff0016>is</text> <text style=background-color:#00ff001b>taken</text> <text style=background-color:#00ff0014>from</text> <text style=background-color:#00ff0004>a</text> <text style=background-color:#00ff0017>party</text> <text style=background-color:#00ff0006>game</text> <text style=background-color:#00ff0014>called</text> <text style=background-color:#00ff0004>seven</text> <text style=background-color:#00ff0004>minutes</text> <text style=background-color:#00ff0009>in</text> <text style=background-color:#00ff0033>heaven</text> <text style=background-color:#00ff001d>the</text> <text style=background-color:#00ff0006>game</text> <text style=background-color:#00ff0009>was</text> <text style=background-color:#00ff000a>popular</text> <text style=background-color:#00ff000d>among</text> <text style=background-color:#00ff0025>my</text> <text style=background-color:#00ff002d>husband</text> <text style=background-color:#00ff0001>s</text> <text style=background-color:#00ff003c>friends</text> <text style=background-color:#00ff001d>when</text> <text style=background-color:#00ff0005>he</text> <text style=background-color:#00ff0009>was</text> <text style=background-color:#00ff0009>in</text> <text style=background-color:#00ff0007>junior</text> <text style=background-color:#00ff0012>high</text> <text style=background-color:#00ff0009>school</text> <text style=background-color:#00ff0009>in</text> <text style=background-color:#00ff0002>brooklyn</text> <text style=background-color:#00ff0002>ny</text> <text style=background-color:#00ff0027>and</text> <text style=background-color:#00ff0005>he</text> <text style=background-color:#00ff000d>describes</text> <text style=background-color:#00ff001b>it</text> <text style=background-color:#00ff0007>as</text> <text style=background-color:#00ff0025>something</text> <text style=background-color:#00ff0017>like</text> <text style=background-color:#00ff0006>spin</text> <text style=background-color:#00ff001d>the</text> <text style=background-color:#00ff0006>bottle</text> <text style=background-color:#00ff0008>lifesaver</text> <text style=background-color:#00ff0006>relay</text> <text style=background-color:#00ff0027>and</text> <text style=background-color:#00ff001f>other</text> <text style=background-color:#00ff0002>preteen</text> <text style=background-color:#00ff001a>kissing</text> <text style=background-color:#00ff0006>games</text> <text style=background-color:#00ff0008>according</text> <text style=background-color:#00ff000c>to</text> <text style=background-color:#00ff001d>the</text> <text style=background-color:#00ff000a>rules</text> <text style=background-color:#00ff0004>a</text> <text style=background-color:#00ff001a>boy</text> <text style=background-color:#00ff0001>s</text> <text style=background-color:#00ff0013>name</text> <text style=background-color:#00ff0027>and</text> <text style=background-color:#00ff0004>a</text> <text style=background-color:#00ff002c>girl</text> <text style=background-color:#00ff0001>s</text> <text style=background-color:#00ff0011>would</text> <text style=background-color:#00ff0022>be</text> <text style=background-color:#00ff0006>drawn</text> <text style=background-color:#00ff0027>and</text> <text style=background-color:#00ff001d>the</text> <text style=background-color:#00ff0015>chosen</text> <text style=background-color:#00ff0035>ones</text> <text style=background-color:#00ff0001>ordered</text> <text style=background-color:#00ff000c>to</text> <text style=background-color:#00ff0010>get</text> <text style=background-color:#00ff0014>into</text> <text style=background-color:#00ff0004>a</text> <text style=background-color:#00ff0029>dark</text> <text style=background-color:#00ff0006>closet</text> <text style=background-color:#00ff0028>together</text> <text style=background-color:#00ff0027>and</text> <text style=background-color:#00ff000c>to</text> <text style=background-color:#00ff0022>stay</text> <text style=background-color:#00ff0020>there</text> <text style=background-color:#00ff001b>for</text> <text style=background-color:#00ff0004>seven</text> <text style=background-color:#00ff0004>minutes</text> <text style=background-color:#00ff0009>in</text> <text style=background-color:#00ff001d>the</text> <text style=background-color:#00ff0004>meantime</text> <text style=background-color:#00ff0020>there</text> <text style=background-color:#00ff0011>would</text> <text style=background-color:#00ff0022>be</text> <text style=background-color:#00ff0000>speculation</text> <text style=background-color:#00ff000d>among</text> <text style=background-color:#00ff0017>party</text> <text style=background-color:#00ff001f>guests</text> <text style=background-color:#00ff0007>as</text> <text style=background-color:#00ff000c>to</text> <text style=background-color:#00ff0014>whether</text> <text style=background-color:#00ff001f>or</text> <text style=background-color:#00ff0019>not</text> <text style=background-color:#00ff001d>the</text> <text style=background-color:#00ff0011>two</text> <text style=background-color:#00ff000a>had</text> <text style=background-color:#00ff001d>the</text> <text style=background-color:#00ff0007>nerve</text> <text style=background-color:#00ff000c>to</text> <text style=background-color:#00ff0011>hold</text> <text style=background-color:#00ff0015>hands</text> <text style=background-color:#00ff003c>embrace</text> <text style=background-color:#00ff0027>and</text> <text style=background-color:#00ff001f>or</text> <text style=background-color:#00ff0025>kiss</text> <text style=background-color:#00ff001e>each</text> <text style=background-color:#00ff001f>other</text> <text style=background-color:#00ff0009>in</text> <text style=background-color:#00ff001d>the</text> <text style=background-color:#00ff0002>privacy</text> <text style=background-color:#00ff001d>of</text> <text style=background-color:#00ff001d>the</text> <text style=background-color:#00ff0006>closet</text> <text style=background-color:#00ff0011>at</text> <text style=background-color:#00ff001d>the</text> <text style=background-color:#00ff0018>end</text> <text style=background-color:#00ff001d>of</text> <text style=background-color:#00ff0004>seven</text> <text style=background-color:#00ff0004>minutes</text> <text style=background-color:#00ff001d>the</text> <text style=background-color:#00ff0006>game</text> <text style=background-color:#00ff0011>leader</text> <text style=background-color:#00ff0011>would</text> <text style=background-color:#00ff0010>say</text> <text style=background-color:#00ff001e>time</text> <text style=background-color:#00ff0001>s</text> <text style=background-color:#00ff0010>up</text> <text style=background-color:#00ff001f>or</text> <text style=background-color:#00ff0004>knock</text> <text style=background-color:#00ff000b>on</text> <text style=background-color:#00ff001d>the</text> <text style=background-color:#00ff0006>closet</text> <text style=background-color:#00ff0001>door</text> <text style=background-color:#00ff0027>and</text> <text style=background-color:#00ff001d>the</text> <text style=background-color:#00ff0029>couple</text> <text style=background-color:#00ff0011>would</text> <text style=background-color:#00ff0001>emerge</text> <text style=background-color:#00ff0014>from</text> <text style=background-color:#00ff001d>the</text> <text style=background-color:#00ff0006>closet</text> <text style=background-color:#00ff000d>after</text> <text style=background-color:#00ff001d>being</text> <text style=background-color:#00ff0000>quizzed</text> <text style=background-color:#00ff0014>by</text> <text style=background-color:#00ff001d>the</text> <text style=background-color:#00ff001f>other</text> <text style=background-color:#00ff001f>guests</text> <text style=background-color:#00ff001d>the</text> <text style=background-color:#00ff0029>couple</text> <text style=background-color:#00ff0011>would</text> <text style=background-color:#00ff001e>have</text> <text style=background-color:#00ff000c>to</text> <text style=background-color:#00ff000f>admit</text> <text style=background-color:#00ff001a>what</text> <text style=background-color:#00ff0012>they</text> <text style=background-color:#00ff000a>had</text> <text style=background-color:#00ff0012>done</text> <text style=background-color:#00ff0012>during</text> <text style=background-color:#00ff0021>their</text> <text style=background-color:#00ff0004>seven</text> <text style=background-color:#00ff0004>minutes</text> <text style=background-color:#00ff0009>in</text> <text style=background-color:#00ff0033>heaven</text> <text style=background-color:#00ff0016>then</text> <text style=background-color:#00ff001f>other</text> <text style=background-color:#00ff001c>couples</text> <text style=background-color:#00ff0011>would</text> <text style=background-color:#00ff0022>be</text> <text style=background-color:#00ff0015>chosen</text> <text style=background-color:#00ff000c>to</text> <text style=background-color:#00ff0007>enter</text> <text style=background-color:#00ff001d>the</text> <text style=background-color:#00ff0006>closet</text> <text style=background-color:#00ff0015>until</text> <text style=background-color:#00ff0022>all</text> <text style=background-color:#00ff001d>the</text> <text style=background-color:#00ff001f>guests</text> <text style=background-color:#00ff000a>had</text> <text style=background-color:#00ff0002>participated</text> <text style=background-color:#00ff001d>the</text> <text style=background-color:#00ff0029>couple</text> <text style=background-color:#00ff0014>who</text> <text style=background-color:#00ff0001>admitted</text> <text style=background-color:#00ff000c>to</text> <text style=background-color:#00ff0019>doing</text> <text style=background-color:#00ff001d>the</text> <text style=background-color:#00ff002d>most</text> <text style=background-color:#00ff0011>would</text> <text style=background-color:#00ff0022>be</text> <text style=background-color:#00ff001d>the</text> <text style=background-color:#00ff0009>winners</text> <text style=background-color:#00ff001d>of</text> <text style=background-color:#00ff001d>the</text> <text style=background-color:#00ff0006>game</text> <text style=background-color:#00ff0000>br</text> <text style=background-color:#00ff0000>br</text> <text style=background-color:#00ff004e>such</text> <text style=background-color:#00ff0006>games</text> <text style=background-color:#00ff001e>have</text> <text style=background-color:#00ff0009>served</text> <text style=background-color:#00ff0007>as</text> <text style=background-color:#00ff0006>social</text> <text style=background-color:#00ff000e>ice</text> <text style=background-color:#00ff0003>breakers</text> <text style=background-color:#00ff001b>for</text> <text style=background-color:#00ff001c>children</text> <text style=background-color:#00ff0027>and</text> <text style=background-color:#00ff0012>teens</text> <text style=background-color:#00ff001e>but</text> <text style=background-color:#00ff0012>they</text> <text style=background-color:#00ff001a>can</text> <text style=background-color:#00ff0022>be</text> <text style=background-color:#00ff0008>embarrassing</text> <text style=background-color:#00ff0027>and</text> <text style=background-color:#00ff000b>intimidating</text> <text style=background-color:#00ff000c>to</text> <text style=background-color:#00ff0016>shy</text> <text style=background-color:#00ff0016>individuals</text> <text style=background-color:#00ff001d>the</text> <text style=background-color:#00ff000e>film</text> <text style=background-color:#00ff0006>has</text> <text style=background-color:#00ff000d>been</text> <text style=background-color:#00ff0015>given</text> <text style=background-color:#00ff001d>this</text> <text style=background-color:#00ff0008>title</text> <text style=background-color:#00ff001d>because</text> <text style=background-color:#00ff001b>it</text> <text style=background-color:#00ff0003>deals</text> <text style=background-color:#00ff0029>with</text> <text style=background-color:#00ff001d>the</text> <text style=background-color:#00ff0012>teens</text> <text style=background-color:#00ff001d>first</text> <text style=background-color:#00ff002e>experiences</text> <text style=background-color:#00ff0029>with</text> <text style=background-color:#00ff0006>crushes</text> <text style=background-color:#00ff0027>and</text> <text style=background-color:#00ff00ff>romantic</text> <text style=background-color:#00ff0031>love</text> <br> <text style=background-color:#00ff0013>i</text> <text style=background-color:#00ff000d>watched</text> <text style=background-color:#00ff0021>this</text> <text style=background-color:#00ff0023>movie</text> <text style=background-color:#00ff001e>for</text> <text style=background-color:#00ff0005>a</text> <text style=background-color:#00ff001c>project</text> <text style=background-color:#00ff000e>on</text> <text style=background-color:#00ff0036>love</text> <text style=background-color:#00ff000e>please</text> <text style=background-color:#00ff0014>tell</text> <text style=background-color:#00ff0000>nicolas</text> <text style=background-color:#00ff0005>cage</text> <text style=background-color:#00ff000f>to</text> <text style=background-color:#00ff0025>learn</text> <text style=background-color:#00ff001e>what</text> <text style=background-color:#00ff001f>it</text> <text style=background-color:#00ff0014>would</text> <text style=background-color:#00ff0027>feel</text> <text style=background-color:#00ff001b>like</text> <text style=background-color:#00ff000f>to</text> <text style=background-color:#00ff0026>be</text> <text style=background-color:#00ff0018>his</text> <text style=background-color:#00ff0031>character</text> <text style=background-color:#00ff002b>and</text> <text style=background-color:#00ff0019>then</text> <text style=background-color:#00ff0000>re</text> <text style=background-color:#00ff001b>read</text> <text style=background-color:#00ff0021>the</text> <text style=background-color:#00ff001f>lines</text> <text style=background-color:#00ff0007>he</text> <text style=background-color:#00ff0002>s</text> <text style=background-color:#00ff000c>saying</text> <text style=background-color:#00ff002a>my</text> <text style=background-color:#00ff0045>life</text> <text style=background-color:#00ff001a>cannot</text> <text style=background-color:#00ff000f>go</text> <text style=background-color:#00ff000e>on</text> <text style=background-color:#00ff0013>i</text> <text style=background-color:#00ff0001>accidentally</text> <text style=background-color:#00ff0010>cut</text> <text style=background-color:#00ff000a>off</text> <text style=background-color:#00ff002a>my</text> <text style=background-color:#00ff0029>own</text> <text style=background-color:#00ff000e>hand</text> <text style=background-color:#00ff002a>my</text> <text style=background-color:#00ff0016>brother</text> <text style=background-color:#00ff000b>was</text> <text style=background-color:#00ff0019>close</text> <text style=background-color:#00ff0018>by</text> <text style=background-color:#00ff0011>obviously</text> <text style=background-color:#00ff0018>his</text> <text style=background-color:#00ff000b>fault</text> <text style=background-color:#00ff002b>and</text> <text style=background-color:#00ff000f>since</text> <text style=background-color:#00ff0021>when</text> <text style=background-color:#00ff0022>have</text> <text style=background-color:#00ff003c>happy</text> <text style=background-color:#00ff002d>endings</text> <text style=background-color:#00ff0008>included</text> <text style=background-color:#00ff0021>the</text> <text style=background-color:#00ff003c>nice</text> <text style=background-color:#00ff001f>guy</text> <text style=background-color:#00ff0018>who</text> <text style=background-color:#00ff001c>takes</text> <text style=background-color:#00ff0029>care</text> <text style=background-color:#00ff0021>of</text> <text style=background-color:#00ff0023>mom</text> <text style=background-color:#00ff0024>sad</text> <text style=background-color:#00ff002b>and</text> <text style=background-color:#00ff001b>alone</text> <text style=background-color:#00ff0001>no</text> <text style=background-color:#00ff0001>closure</text> <text style=background-color:#00ff0020>bad</text> <text style=background-color:#00ff000d>script</text> <text style=background-color:#00ff002b>and</text> <text style=background-color:#00ff0003>doesn</text> <text style=background-color:#00ff0002>t</text> <text style=background-color:#00ff0022>have</text> <text style=background-color:#00ff0038>enough</text> <text style=background-color:#00ff0001>extension</text> <text style=background-color:#00ff0021>of</text> <text style=background-color:#00ff0007>minor</text> <text style=background-color:#00ff0020>characters</text> <text style=background-color:#00ff0010>save</text> <text style=background-color:#00ff0028>yourself</text> <text style=background-color:#00ff001a>unless</text> <text style=background-color:#00ff0036>your</text> <text style=background-color:#00ff0013>up</text> <text style=background-color:#00ff001e>for</text> <text style=background-color:#00ff0005>a</text> <text style=background-color:#00ff0043>good</text> <text style=background-color:#00ff0024>laugh</text> <text style=background-color:#00ff000c>costumes</text> <text style=background-color:#00ff0011>were</text> <text style=background-color:#00ff0015>done</text> <text style=background-color:#00ff0003>appropriately</text> <text style=background-color:#00ff002b>and</text> <text style=background-color:#00ff0002>extras</text> <text style=background-color:#00ff000d>did</text> <text style=background-color:#00ff0005>a</text> <text style=background-color:#00ff005e>fabulous</text> <text style=background-color:#00ff000f>job</text> <text style=background-color:#00ff0013>i</text> <text style=background-color:#00ff0002>m</text> <text style=background-color:#00ff001e>sure</text> <text style=background-color:#00ff001f>it</text> <text style=background-color:#00ff0014>would</text> <text style=background-color:#00ff0022>have</text> <text style=background-color:#00ff000f>been</text> <text style=background-color:#00ff0005>a</text> <text style=background-color:#00ff004c>fun</text> <text style=background-color:#00ff0023>movie</text> <text style=background-color:#00ff000f>to</text> <text style=background-color:#00ff002a>make</text> <text style=background-color:#00ff0022>but</text> <text style=background-color:#00ff0025>keep</text> <text style=background-color:#00ff001f>it</text> <text style=background-color:#00ff0036>more</text> <text style=background-color:#00ff0005>genre</text> <text style=background-color:#00ff0015>specific</text> <text style=background-color:#00ff0013>i</text> <text style=background-color:#00ff001e>can</text> <text style=background-color:#00ff0002>t</text> <text style=background-color:#00ff0017>recommend</text> <text style=background-color:#00ff0021>this</text> <text style=background-color:#00ff0023>movie</text> <text style=background-color:#00ff000f>to</text> <text style=background-color:#00ff0018>anyone</text> <text style=background-color:#00ff0013>i</text> <text style=background-color:#00ff001b>know</text> <text style=background-color:#00ff0021>because</text> <text style=background-color:#00ff001f>it</text> <text style=background-color:#00ff0019>is</text> <text style=background-color:#00ff001d>not</text> <text style=background-color:#00ff0019>an</text> <text style=background-color:#00ff0033>intellectual</text> <text style=background-color:#00ff0023>movie</text> <text style=background-color:#00ff001f>it</text> <text style=background-color:#00ff0019>is</text> <text style=background-color:#00ff001d>not</text> <text style=background-color:#00ff0005>a</text> <text style=background-color:#00ff0015>chick</text> <text style=background-color:#00ff000d>flick</text> <text style=background-color:#00ff001f>it</text> <text style=background-color:#00ff0019>is</text> <text style=background-color:#00ff001d>not</text> <text style=background-color:#00ff0005>a</text> <text style=background-color:#00ff0011>strict</text> <text style=background-color:#00ff00ff>romantic</text> <text style=background-color:#00ff002b>and</text> <text style=background-color:#00ff0013>i</text> <text style=background-color:#00ff001e>can</text> <text style=background-color:#00ff0002>t</text> <text style=background-color:#00ff0013>show</text> <text style=background-color:#00ff0022>kids</text> <text style=background-color:#00ff0021>because</text> <text style=background-color:#00ff0021>of</text> <text style=background-color:#00ff0021>the</text> <text style=background-color:#00ff0026>sex</text> <text style=background-color:#00ff002b>and</text> <text style=background-color:#00ff000c>questions</text> <text style=background-color:#00ff000f>to</text> <text style=background-color:#00ff0007>follow</text> <text style=background-color:#00ff0026>all</text> <text style=background-color:#00ff000b>in</text> <text style=background-color:#00ff0026>all</text> <text style=background-color:#00ff0019>just</text> <text style=background-color:#00ff001d>not</text> <text style=background-color:#00ff0005>a</text> <text style=background-color:#00ff0043>good</text> <text style=background-color:#00ff000d>flick</text> <br> <text style=background-color:#00ff000d>i</text> <text style=background-color:#00ff0001>m</text> <text style=background-color:#00ff0006>biased</text> <text style=background-color:#00ff0013>towards</text> <text style=background-color:#00ff0018>any</text> <text style=background-color:#00ff001b>movie</text> <text style=background-color:#00ff0016>that</text> <text style=background-color:#00ff0001>paints</text> <text style=background-color:#00ff0003>a</text> <text style=background-color:#00ff0000>luxuriant</text> <text style=background-color:#00ff0018>picture</text> <text style=background-color:#00ff001a>of</text> <text style=background-color:#00ff0001>italy</text> <text style=background-color:#00ff0007>in</text> <text style=background-color:#00ff0021>my</text> <text style=background-color:#00ff000a>opinion</text> <text style=background-color:#00ff001a>the</text> <text style=background-color:#00ff0029>most</text> <text style=background-color:#00ff00ff>romantic</text> <text style=background-color:#00ff0014>country</text> <text style=background-color:#00ff0007>in</text> <text style=background-color:#00ff001a>the</text> <text style=background-color:#00ff0025>world</text> <text style=background-color:#00ff000a>unfortunately</text> <text style=background-color:#00ff001a>the</text> <text style=background-color:#00ff001b>movie</text> <text style=background-color:#00ff0007>was</text> <text style=background-color:#00ff0024>rather</text> <text style=background-color:#00ff001f>short</text> <text style=background-color:#00ff0001>unusually</text> <text style=background-color:#00ff000f>so</text> <text style=background-color:#00ff0017>for</text> <text style=background-color:#00ff0003>a</text> <text style=background-color:#00ff0010>period</text> <text style=background-color:#00ff001f>piece</text> <text style=background-color:#00ff0022>and</text> <text style=background-color:#00ff0003>a</text> <text style=background-color:#00ff003a>little</text> <text style=background-color:#00ff0000>sparse</text> <text style=background-color:#00ff0009>on</text> <text style=background-color:#00ff001a>the</text> <text style=background-color:#00ff0006>cinematography</text> <text style=background-color:#00ff001d>aspect</text> <text style=background-color:#00ff0018>however</text> <text style=background-color:#00ff001a>the</text> <text style=background-color:#00ff002a>excellent</text> <text style=background-color:#00ff0028>story</text> <text style=background-color:#00ff0029>makes</text> <text style=background-color:#00ff000d>up</text> <text style=background-color:#00ff0017>for</text> <text style=background-color:#00ff0018>it</text> <text style=background-color:#00ff001a>the</text> <text style=background-color:#00ff0006>four</text> <text style=background-color:#00ff0030>ladies</text> <text style=background-color:#00ff0005>embark</text> <text style=background-color:#00ff0009>on</text> <text style=background-color:#00ff0003>a</text> <text style=background-color:#00ff0024>much</text> <text style=background-color:#00ff0010>needed</text> <text style=background-color:#00ff0031>relaxing</text> <text style=background-color:#00ff001e>vacation</text> <text style=background-color:#00ff0024>with</text> <text style=background-color:#00ff0014>problems</text> <text style=background-color:#00ff0009>on</text> <text style=background-color:#00ff001d>their</text> <text style=background-color:#00ff003a>minds</text> <text style=background-color:#00ff0005>over</text> <text style=background-color:#00ff001a>the</text> <text style=background-color:#00ff001e>course</text> <text style=background-color:#00ff001a>of</text> <text style=background-color:#00ff001a>the</text> <text style=background-color:#00ff001b>movie</text> <text style=background-color:#00ff000f>they</text> <text style=background-color:#00ff0014>realize</text> <text style=background-color:#00ff001d>their</text> <text style=background-color:#00ff0014>problems</text> <text style=background-color:#00ff0022>and</text> <text style=background-color:#00ff0006>begin</text> <text style=background-color:#00ff0002>fixing</text> <text style=background-color:#00ff000c>them</text> <text style=background-color:#00ff000f>they</text> <text style=background-color:#00ff000d>believe</text> <text style=background-color:#00ff0000>san</text> <text style=background-color:#00ff0000>salvatore</text> <text style=background-color:#00ff001a>the</text> <text style=background-color:#00ff0007>castle</text> <text style=background-color:#00ff000f>they</text> <text style=background-color:#00ff001e>stay</text> <text style=background-color:#00ff0007>in</text> <text style=background-color:#00ff0004>has</text> <text style=background-color:#00ff0012>an</text> <text style=background-color:#00ff0018>enchanting</text> <text style=background-color:#00ff0013>effect</text> <text style=background-color:#00ff0009>on</text> <text style=background-color:#00ff0019>people</text> <text style=background-color:#00ff0018>it</text> <text style=background-color:#00ff0001>s</text> <text style=background-color:#00ff0003>a</text> <text style=background-color:#00ff0005>tub</text> <text style=background-color:#00ff001a>of</text> <text style=background-color:#00ff002d>love</text> <text style=background-color:#00ff0002>says</text> <text style=background-color:#00ff0000>lottie</text> <text style=background-color:#00ff0000>wilkins</text> <text style=background-color:#00ff0020>you</text> <text style=background-color:#00ff0017>can</text> <text style=background-color:#00ff000b>watch</text> <text style=background-color:#00ff001d>their</text> <text style=background-color:#00ff0001>gradual</text> <text style=background-color:#00ff0016>change</text> <text style=background-color:#00ff0011>from</text> <text style=background-color:#00ff0001>dissatisfied</text> <text style=background-color:#00ff000a>to</text> <text style=background-color:#00ff0002>exuberant</text> <text style=background-color:#00ff0006>as</text> <text style=background-color:#00ff001a>the</text> <text style=background-color:#00ff000b>italian</text> <text style=background-color:#00ff0004>seaside</text> <text style=background-color:#00ff0014>works</text> <text style=background-color:#00ff0017>its</text> <text style=background-color:#00ff0017>magic</text> <text style=background-color:#00ff0009>on</text> <text style=background-color:#00ff000c>them</text> <text style=background-color:#00ff0000>br</text> <text style=background-color:#00ff0000>br</text> <text style=background-color:#00ff001e>all</text> <text style=background-color:#00ff001d>their</text> <text style=background-color:#00ff0014>problems</text> <text style=background-color:#00ff0022>and</text> <text style=background-color:#00ff001d>their</text> <text style=background-color:#00ff0003>solutions</text> <text style=background-color:#00ff0017>are</text> <text style=background-color:#00ff0001>plausible</text> <text style=background-color:#00ff001a>the</text> <text style=background-color:#00ff0008>actresses</text> <text style=background-color:#00ff000c>were</text> <text style=background-color:#00ff0042>great</text> <text style=background-color:#00ff001a>the</text> <text style=background-color:#00ff0012>background</text> <text style=background-color:#00ff0025>music</text> <text style=background-color:#00ff000c>seemed</text> <text style=background-color:#00ff003a>very</text> <text style=background-color:#00ff001b>appropriate</text> <text style=background-color:#00ff0017>for</text> <text style=background-color:#00ff0012>an</text> <text style=background-color:#00ff00ff>romantic</text> <text style=background-color:#00ff000b>italian</text> <text style=background-color:#00ff0000>locale</text> <text style=background-color:#00ff001e>all</text> <text style=background-color:#00ff0007>in</text> <text style=background-color:#00ff001e>all</text> <text style=background-color:#00ff0003>a</text> <text style=background-color:#00ff001b>movie</text> <text style=background-color:#00ff0017>for</text> <text style=background-color:#00ff0001>me</text> <br> <text style=background-color:#00ff0023>the</text> <text style=background-color:#00ff0025>movie</text> <text style=background-color:#00ff0000>wasn</text> <text style=background-color:#00ff0002>t</text> <text style=background-color:#00ff0028>all</text> <text style=background-color:#00ff001f>that</text> <text style=background-color:#00ff004e>great</text> <text style=background-color:#00ff0023>the</text> <text style=background-color:#00ff0029>book</text> <text style=background-color:#00ff001b>is</text> <text style=background-color:#00ff002b>better</text> <text style=background-color:#00ff0024>but</text> <text style=background-color:#00ff0023>the</text> <text style=background-color:#00ff0025>movie</text> <text style=background-color:#00ff0000>wasn</text> <text style=background-color:#00ff0002>t</text> <text style=background-color:#00ff0028>all</text> <text style=background-color:#00ff001f>that</text> <text style=background-color:#00ff0022>bad</text> <text style=background-color:#00ff001b>either</text> <text style=background-color:#00ff0021>it</text> <text style=background-color:#00ff000d>was</text> <text style=background-color:#00ff002c>interesting</text> <text style=background-color:#00ff0010>to</text> <text style=background-color:#00ff0015>say</text> <text style=background-color:#00ff0023>the</text> <text style=background-color:#00ff0018>least</text> <text style=background-color:#00ff0023>the</text> <text style=background-color:#00ff000f>plot</text> <text style=background-color:#00ff000e>had</text> <text style=background-color:#00ff003b>enough</text> <text style=background-color:#00ff000f>suspense</text> <text style=background-color:#00ff0010>to</text> <text style=background-color:#00ff0027>keep</text> <text style=background-color:#00ff0002>me</text> <text style=background-color:#00ff001f>watching</text> <text style=background-color:#00ff0036>although</text> <text style=background-color:#00ff0014>i</text> <text style=background-color:#00ff0000>wouldn</text> <text style=background-color:#00ff0002>t</text> <text style=background-color:#00ff0015>say</text> <text style=background-color:#00ff0014>i</text> <text style=background-color:#00ff000d>was</text> <text style=background-color:#00ff001d>actually</text> <text style=background-color:#00ff0013>interested</text> <text style=background-color:#00ff000c>in</text> <text style=background-color:#00ff0023>the</text> <text style=background-color:#00ff0025>movie</text> <text style=background-color:#00ff0008>itself</text> <text style=background-color:#00ff0001>janine</text> <text style=background-color:#00ff0004>turner</text> <text style=background-color:#00ff002d>and</text> <text style=background-color:#00ff0000>antonio</text> <text style=background-color:#00ff0000>sabato</text> <text style=background-color:#00ff0002>jr</text> <text style=background-color:#00ff0020>are</text> <text style=background-color:#00ff001b>both</text> <text style=background-color:#00ff0044>gorgeous</text> <text style=background-color:#00ff003b>enough</text> <text style=background-color:#00ff0010>to</text> <text style=background-color:#00ff0027>keep</text> <text style=background-color:#00ff002a>you</text> <text style=background-color:#00ff001f>watching</text> <text style=background-color:#00ff0016>they</text> <text style=background-color:#00ff0024>have</text> <text style=background-color:#00ff0006>a</text> <text style=background-color:#00ff001b>few</text> <text style=background-color:#00ff002d>cute</text> <text style=background-color:#00ff002a>scene</text> <text style=background-color:#00ff0002>s</text> <text style=background-color:#00ff001f>that</text> <text style=background-color:#00ff0013>should</text> <text style=background-color:#00ff0006>appeal</text> <text style=background-color:#00ff0010>to</text> <text style=background-color:#00ff0023>the</text> <text style=background-color:#00ff00ff>romantic</text> <text style=background-color:#00ff0002>s</text> <text style=background-color:#00ff0013>overall</text> <text style=background-color:#00ff0014>i</text> <text style=background-color:#00ff0002>d</text> <text style=background-color:#00ff0022>give</text> <text style=background-color:#00ff0023>the</text> <text style=background-color:#00ff0025>movie</text> <text style=background-color:#00ff0006>a</text> <text style=background-color:#00ff0025>or</text> <text style=background-color:#00ff0021>it</text> <text style=background-color:#00ff0000>wasn</text> <text style=background-color:#00ff0002>t</text> <text style=background-color:#00ff0022>bad</text> <text style=background-color:#00ff001b>just</text> <text style=background-color:#00ff0006>a</text> <text style=background-color:#00ff0046>little</text> <text style=background-color:#00ff0013>lacking</text> <text style=background-color:#00ff000f>plot</text> <text style=background-color:#00ff003e>wise</text> <br> <text style=background-color:#00ff0003>ultimately</text> <text style=background-color:#00ff001a>too</text> <text style=background-color:#00ff0013>silly</text> <text style=background-color:#00ff001b>and</text> <text style=background-color:#00ff0005>pointless</text> <text style=background-color:#00ff000c>yes</text> <text style=background-color:#00ff0016>there</text> <text style=background-color:#00ff000d>is</text> <text style=background-color:#00ff0013>the</text> <text style=background-color:#00ff0000>gilded</text> <text style=background-color:#00ff0001>cage</text> <text style=background-color:#00ff0007>metaphor</text> <text style=background-color:#00ff0014>but</text> <text style=background-color:#00ff000a>probably</text> <text style=background-color:#00ff0021>most</text> <text style=background-color:#00ff0014>kids</text> <text style=background-color:#00ff000a>would</text> <text style=background-color:#00ff0013>miss</text> <text style=background-color:#00ff0010>that</text> <text style=background-color:#00ff0002>forgettable</text> <text style=background-color:#00ff0001>instantly</text> <text style=background-color:#00ff0000>br</text> <text style=background-color:#00ff0000>br</text> <text style=background-color:#00ff0007>animation</text> <text style=background-color:#00ff000d>is</text> <text style=background-color:#00ff0003>as</text> <text style=background-color:#00ff0006>we</text> <text style=background-color:#00ff0014>have</text> <text style=background-color:#00ff0003>come</text> <text style=background-color:#00ff0006>to</text> <text style=background-color:#00ff0012>expect</text> <text style=background-color:#00ff0005>super</text> <text style=background-color:#00ff0007>real</text> <text style=background-color:#00ff0013>the</text> <text style=background-color:#00ff0006>plot</text> <text style=background-color:#00ff0004>line</text> <text style=background-color:#00ff000b>could</text> <text style=background-color:#00ff002c>best</text> <text style=background-color:#00ff0017>be</text> <text style=background-color:#00ff0005>described</text> <text style=background-color:#00ff0003>as</text> <text style=background-color:#00ff000d>thin</text> <text style=background-color:#00ff0014>but</text> <text style=background-color:#00ff0003>tenacious</text> <text style=background-color:#00ff0022>although</text> <text style=background-color:#00ff0013>the</text> <text style=background-color:#00ff0028>ending</text> <text style=background-color:#00ff0008>seemed</text> <text style=background-color:#00ff0000>arbitrary</text> <text style=background-color:#00ff0006>to</text> <text style=background-color:#00ff0000>me</text> <text style=background-color:#00ff0000>br</text> <text style=background-color:#00ff0000>br</text> <text style=background-color:#00ff0013>the</text> <text style=background-color:#00ff0000>sewer</text> <text style=background-color:#00ff0000>underworld</text> <text style=background-color:#00ff000d>is</text> <text style=background-color:#00ff0001>a</text> <text style=background-color:#00ff0000>suitably</text> <text style=background-color:#00ff0004>disgusting</text> <text style=background-color:#00ff0024>reflection</text> <text style=background-color:#00ff0013>of</text> <text style=background-color:#00ff0013>the</text> <text style=background-color:#00ff001e>world</text> <text style=background-color:#00ff0006>above</text> <text style=background-color:#00ff001b>and</text> <text style=background-color:#00ff0006>somehow</text> <text style=background-color:#00ff0007>wealth</text> <text style=background-color:#00ff001b>and</text> <text style=background-color:#00ff0005>money</text> <text style=background-color:#00ff000b>seem</text> <text style=background-color:#00ff0006>to</text> <text style=background-color:#00ff0008>count</text> <text style=background-color:#00ff0011>for</text> <text style=background-color:#00ff0001>a</text> <text style=background-color:#00ff0019>lot</text> <text style=background-color:#00ff0016>there</text> <text style=background-color:#00ff001a>too</text> <text style=background-color:#00ff0004>oh</text> <text style=background-color:#00ff000c>yes</text> <text style=background-color:#00ff001b>and</text> <text style=background-color:#00ff0016>there</text> <text style=background-color:#00ff0000>s</text> <text style=background-color:#00ff0001>a</text> <text style=background-color:#00ff00ff>romantic</text> <text style=background-color:#00ff0007>interest</text> <text style=background-color:#00ff001d>with</text> <text style=background-color:#00ff0013>the</text> <text style=background-color:#00ff0016>female</text> <text style=background-color:#00ff0013>being</text> <text style=background-color:#00ff0013>the</text> <text style=background-color:#00ff0006>smarter</text> <text style=background-color:#00ff0025>more</text> <text style=background-color:#00ff0002>savvy</text> <text style=background-color:#00ff001b>and</text> <text style=background-color:#00ff0007>go</text> <text style=background-color:#00ff0007>getting</text> <text style=background-color:#00ff0013>of</text> <text style=background-color:#00ff0013>the</text> <text style=background-color:#00ff0002>pair</text> <text style=background-color:#00ff0013>this</text> <text style=background-color:#00ff0004>in</text> <text style=background-color:#00ff0002>itself</text> <text style=background-color:#00ff000d>is</text> <text style=background-color:#00ff0000>rapidly</text> <text style=background-color:#00ff0013>becoming</text> <text style=background-color:#00ff0001>a</text> <text style=background-color:#00ff0001>tiresome</text> <text style=background-color:#00ff0000>anti</text> <text style=background-color:#00ff0001>stereotype</text> <text style=background-color:#00ff000a>probably</text> <text style=background-color:#00ff0025>your</text> <text style=background-color:#00ff0014>kids</text> <text style=background-color:#00ff000a>will</text> <text style=background-color:#00ff0025>love</text> <text style=background-color:#00ff0012>it</text> <text style=background-color:#00ff000c>though</text> <br> <text style=background-color:#00ff0009>fever</text> <text style=background-color:#00ff000a>pitch</text> <text style=background-color:#00ff0017>is</text> <text style=background-color:#00ff0005>a</text> <text style=background-color:#00ff0049>fun</text> <text style=background-color:#00ff0036>enough</text> <text style=background-color:#00ff0021>movie</text> <text style=background-color:#00ff001d>it</text> <text style=background-color:#00ff0006>has</text> <text style=background-color:#00ff0005>a</text> <text style=background-color:#00ff0027>lot</text> <text style=background-color:#00ff001f>of</text> <text style=background-color:#00ff0016>funny</text> <text style=background-color:#00ff0035>moments</text> <text style=background-color:#00ff000c>including</text> <text style=background-color:#00ff0005>a</text> <text style=background-color:#00ff0001>hilariously</text> <text style=background-color:#00ff0010>disturbing</text> <text style=background-color:#00ff001a>shower</text> <text style=background-color:#00ff0026>scene</text> <text style=background-color:#00ff0019>like</text> <text style=background-color:#00ff002f>most</text> <text style=background-color:#00ff00ff>romantic</text> <text style=background-color:#00ff000c>comedies</text> <text style=background-color:#00ff001d>it</text> <text style=background-color:#00ff0006>has</text> <text style=background-color:#00ff0005>a</text> <text style=background-color:#00ff0008>dead</text> <text style=background-color:#00ff000a>zone</text> <text style=background-color:#00ff000a>in</text> <text style=background-color:#00ff001f>the</text> <text style=background-color:#00ff0010>middle</text> <text style=background-color:#00ff0016>where</text> <text style=background-color:#00ff0024>all</text> <text style=background-color:#00ff001f>the</text> <text style=background-color:#00ff0010>heavy</text> <text style=background-color:#00ff0014>she</text> <text style=background-color:#00ff0001>s</text> <text style=background-color:#00ff0006>breaking</text> <text style=background-color:#00ff0012>up</text> <text style=background-color:#00ff002b>with</text> <text style=background-color:#00ff0002>me</text> <text style=background-color:#00ff0026>stuff</text> <text style=background-color:#00ff0019>happens</text> <text style=background-color:#00ff0020>but</text> <text style=background-color:#00ff0021>other</text> <text style=background-color:#00ff0028>than</text> <text style=background-color:#00ff001b>that</text> <text style=background-color:#00ff001d>it</text> <text style=background-color:#00ff0007>continues</text> <text style=background-color:#00ff000d>to</text> <text style=background-color:#00ff0024>be</text> <text style=background-color:#00ff0016>funny</text> <text style=background-color:#00ff0016>until</text> <text style=background-color:#00ff001f>the</text> <text style=background-color:#00ff001a>end</text> <text style=background-color:#00ff0000>br</text> <text style=background-color:#00ff0000>br</text> <text style=background-color:#00ff0013>even</text> <text style=background-color:#00ff0016>though</text> <text style=background-color:#00ff001f>the</text> <text style=background-color:#00ff000d>plot</text> <text style=background-color:#00ff0004>revolves</text> <text style=background-color:#00ff0014>around</text> <text style=background-color:#00ff0004>fanaticism</text> <text style=background-color:#00ff0018>towards</text> <text style=background-color:#00ff001f>the</text> <text style=background-color:#00ff000a>red</text> <text style=background-color:#00ff0000>sox</text> <text style=background-color:#00ff001d>it</text> <text style=background-color:#00ff0001>s</text> <text style=background-color:#00ff001b>not</text> <text style=background-color:#00ff0003>overloaded</text> <text style=background-color:#00ff002b>with</text> <text style=background-color:#00ff0007>sports</text> <text style=background-color:#00ff0026>you</text> <text style=background-color:#00ff0003>don</text> <text style=background-color:#00ff0002>t</text> <text style=background-color:#00ff0020>have</text> <text style=background-color:#00ff000d>to</text> <text style=background-color:#00ff0024>be</text> <text style=background-color:#00ff0005>a</text> <text style=background-color:#00ff000b>fan</text> <text style=background-color:#00ff000d>to</text> <text style=background-color:#00ff0051>enjoy</text> <text style=background-color:#00ff001f>this</text> <text style=background-color:#00ff000f>film</text> <text style=background-color:#00ff0000>br</text> <text style=background-color:#00ff0000>br</text> <text style=background-color:#00ff001f>of</text> <text style=background-color:#00ff0024>course</text> <text style=background-color:#00ff001b>that</text> <text style=background-color:#00ff0001>s</text> <text style=background-color:#00ff002e>easy</text> <text style=background-color:#00ff001c>for</text> <text style=background-color:#00ff0002>me</text> <text style=background-color:#00ff000d>to</text> <text style=background-color:#00ff0012>say</text> <text style=background-color:#00ff0011>i</text> <text style=background-color:#00ff0000>ve</text> <text style=background-color:#00ff000e>been</text> <text style=background-color:#00ff0005>a</text> <text style=background-color:#00ff000a>red</text> <text style=background-color:#00ff0000>sox</text> <text style=background-color:#00ff000b>fan</text> <text style=background-color:#00ff000e>since</text> <text style=background-color:#00ff0011>i</text> <text style=background-color:#00ff000a>was</text> <text style=background-color:#00ff0005>a</text> <text style=background-color:#00ff001c>boy</text> <text style=background-color:#00ff0027>too</text> <text style=background-color:#00ff0000>br</text> <text style=background-color:#00ff0000>br</text> <text style=background-color:#00ff0013>out</text> <text style=background-color:#00ff001f>of</text> <text style=background-color:#00ff0000>br</text> <text style=background-color:#00ff0000>br</text> <text style=background-color:#00ff0000>barky</text> <br> <text style=background-color:#00ff001f>the</text> <text style=background-color:#00ff0007>pioneering</text> <text style=background-color:#00ff0005>technicolor</text> <text style=background-color:#00ff0009>cinematography</text> <text style=background-color:#00ff000c>winner</text> <text style=background-color:#00ff001f>of</text> <text style=background-color:#00ff0054>special</text> <text style=background-color:#00ff0004>technical</text> <text style=background-color:#00ff0014>achievement</text> <text style=background-color:#00ff0003>oscar</text> <text style=background-color:#00ff0017>is</text> <text style=background-color:#00ff0037>indeed</text> <text style=background-color:#00ff001e>enchanting</text> <text style=background-color:#00ff0007>add</text> <text style=background-color:#00ff0017>an</text> <text style=background-color:#00ff003e>endless</text> <text style=background-color:#00ff0048>variety</text> <text style=background-color:#00ff001f>of</text> <text style=background-color:#00ff0032>glamorous</text> <text style=background-color:#00ff000b>costumes</text> <text style=background-color:#00ff0029>and</text> <text style=background-color:#00ff0005>a</text> <text style=background-color:#00ff00ff>romantic</text> <text style=background-color:#00ff0002>cinema</text> <text style=background-color:#00ff006b>dream</text> <text style=background-color:#00ff000a>team</text> <text style=background-color:#00ff0019>like</text> <text style=background-color:#00ff0000>marlene</text> <text style=background-color:#00ff0000>dietrich</text> <text style=background-color:#00ff0029>and</text> <text style=background-color:#00ff0003>charles</text> <text style=background-color:#00ff0000>boyer</text> <text style=background-color:#00ff0029>and</text> <text style=background-color:#00ff0026>you</text> <text style=background-color:#00ff0000>ve</text> <text style=background-color:#00ff000b>got</text> <text style=background-color:#00ff0005>a</text> <text style=background-color:#00ff002a>rather</text> <text style=background-color:#00ff0031>pleasant</text> <text style=background-color:#00ff001d>picture</text> <text style=background-color:#00ff0000>br</text> <text style=background-color:#00ff0000>br</text> <text style=background-color:#00ff000e>unfortunately</text> <text style=background-color:#00ff001f>the</text> <text style=background-color:#00ff0001>contrived</text> <text style=background-color:#00ff000d>plot</text> <text style=background-color:#00ff0008>as</text> <text style=background-color:#00ff001c>well</text> <text style=background-color:#00ff0008>as</text> <text style=background-color:#00ff001f>the</text> <text style=background-color:#00ff0007>over</text> <text style=background-color:#00ff0007>blown</text> <text style=background-color:#00ff0020>acting</text> <text style=background-color:#00ff0012>leave</text> <text style=background-color:#00ff002b>much</text> <text style=background-color:#00ff000d>to</text> <text style=background-color:#00ff0024>be</text> <text style=background-color:#00ff0010>desired</text> <text style=background-color:#00ff0015>still</text> <text style=background-color:#00ff0022>there</text> <text style=background-color:#00ff0020>have</text> <text style=background-color:#00ff001b>not</text> <text style=background-color:#00ff000e>been</text> <text style=background-color:#00ff001d>any</text> <text style=background-color:#00ff0034>more</text> <text style=background-color:#00ff0018>breathtaking</text> <text style=background-color:#00ff0005>technicolor</text> <text style=background-color:#00ff000f>films</text> <text style=background-color:#00ff0015>before</text> <text style=background-color:#00ff001f>this</text> <text style=background-color:#00ff001e>one</text> <text style=background-color:#00ff0029>and</text> <text style=background-color:#00ff0041>very</text> <text style=background-color:#00ff0018>few</text> <text style=background-color:#00ff000e>since</text> <text style=background-color:#00ff0017>then</text> <text style=background-color:#00ff001b>that</text> <text style=background-color:#00ff001c>can</text> <text style=background-color:#00ff000d>top</text> <text style=background-color:#00ff001f>this</text> <text style=background-color:#00ff0018>breathtaking</text> <text style=background-color:#00ff0014>visual</text> <text style=background-color:#00ff0046>experience</text> <text style=background-color:#00ff001f>of</text> <text style=background-color:#00ff0031>stunning</text> <text style=background-color:#00ff0016>colors</text> <text style=background-color:#00ff0002>cinema</text> <text style=background-color:#00ff0009>fans</text> <text style=background-color:#00ff0016>who</text> <text style=background-color:#00ff0020>have</text> <text style=background-color:#00ff0031>enjoyed</text> <text style=background-color:#00ff001f>the</text> <text style=background-color:#00ff0041>glorious</text> <text style=background-color:#00ff0007>color</text> <text style=background-color:#00ff0009>cinematography</text> <text style=background-color:#00ff000a>in</text> <text style=background-color:#00ff0004>robin</text> <text style=background-color:#00ff0008>hood</text> <text style=background-color:#00ff0003>jesse</text> <text style=background-color:#00ff0004>james</text> <text style=background-color:#00ff0029>and</text> <text style=background-color:#00ff0008>gone</text> <text style=background-color:#00ff002b>with</text> <text style=background-color:#00ff001f>the</text> <text style=background-color:#00ff0001>wind</text> <text style=background-color:#00ff0013>will</text> <text style=background-color:#00ff001b>not</text> <text style=background-color:#00ff0024>be</text> <text style=background-color:#00ff000e>disappointed</text> <text style=background-color:#00ff000a>in</text> <text style=background-color:#00ff001f>the</text> <text style=background-color:#00ff0051>fantastic</text> <text style=background-color:#00ff001f>work</text> <text style=background-color:#00ff0013>done</text> <text style=background-color:#00ff001a>here</text> <text style=background-color:#00ff001f>the</text> <text style=background-color:#00ff0019>garden</text> <text style=background-color:#00ff001f>of</text> <text style=background-color:#00ff0002>allah</text> <text style=background-color:#00ff0013>will</text> <text style=background-color:#00ff0031>always</text> <text style=background-color:#00ff0024>be</text> <text style=background-color:#00ff0004>synonymous</text> <text style=background-color:#00ff002b>with</text> <text style=background-color:#00ff002f>brilliant</text> <text style=background-color:#00ff0007>color</text> <text style=background-color:#00ff0009>cinematography</text> <br> <text style=background-color:#00ff000b>i</text> <text style=background-color:#00ff0004>went</text> <text style=background-color:#00ff0008>to</text> <text style=background-color:#00ff0012>see</text> <text style=background-color:#00ff0005>fever</text> <text style=background-color:#00ff0006>pitch</text> <text style=background-color:#00ff0020>with</text> <text style=background-color:#00ff001d>my</text> <text style=background-color:#00ff0018>mom</text> <text style=background-color:#00ff001f>and</text> <text style=background-color:#00ff000b>i</text> <text style=background-color:#00ff0014>can</text> <text style=background-color:#00ff000b>say</text> <text style=background-color:#00ff0013>that</text> <text style=background-color:#00ff0008>we</text> <text style=background-color:#00ff0010>both</text> <text style=background-color:#00ff002f>loved</text> <text style=background-color:#00ff0014>it</text> <text style=background-color:#00ff0014>it</text> <text style=background-color:#00ff0000>wasn</text> <text style=background-color:#00ff0001>t</text> <text style=background-color:#00ff0016>the</text> <text style=background-color:#00ff0011>typical</text> <text style=background-color:#00ff00ff>romantic</text> <text style=background-color:#00ff0016>comedy</text> <text style=background-color:#00ff000f>where</text> <text style=background-color:#00ff0017>someone</text> <text style=background-color:#00ff000f>is</text> <text style=background-color:#00ff0000>pining</text> <text style=background-color:#00ff0014>for</text> <text style=background-color:#00ff0016>the</text> <text style=background-color:#00ff0017>other</text> <text style=background-color:#00ff001f>and</text> <text style=background-color:#00ff0001>blah</text> <text style=background-color:#00ff0001>blah</text> <text style=background-color:#00ff0001>blah</text> <text style=background-color:#00ff001c>you</text> <text style=background-color:#00ff0000>weren</text> <text style=background-color:#00ff0001>t</text> <text style=background-color:#00ff0014>waiting</text> <text style=background-color:#00ff0014>for</text> <text style=background-color:#00ff0016>the</text> <text style=background-color:#00ff0000>climatic</text> <text style=background-color:#00ff0016>first</text> <text style=background-color:#00ff001d>kiss</text> <text style=background-color:#00ff0018>or</text> <text style=background-color:#00ff0014>for</text> <text style=background-color:#00ff000a>them</text> <text style=background-color:#00ff0008>to</text> <text style=background-color:#00ff0008>finally</text> <text style=background-color:#00ff000b>get</text> <text style=background-color:#00ff0020>together</text> <text style=background-color:#00ff0014>it</text> <text style=background-color:#00ff0006>was</text> <text style=background-color:#00ff0029>more</text> <text style=background-color:#00ff0009>real</text> <text style=background-color:#00ff0016>because</text> <text style=background-color:#00ff001c>you</text> <text style=background-color:#00ff000c>saw</text> <text style=background-color:#00ff000a>them</text> <text style=background-color:#00ff000e>through</text> <text style=background-color:#00ff0016>the</text> <text style=background-color:#00ff0044>relationship</text> <text style=background-color:#00ff0020>rather</text> <text style=background-color:#00ff001e>than</text> <text style=background-color:#00ff0016>the</text> <text style=background-color:#00ff0017>whole</text> <text style=background-color:#00ff0018>movie</text> <text style=background-color:#00ff001a>be</text> <text style=background-color:#00ff0019>about</text> <text style=background-color:#00ff000a>them</text> <text style=background-color:#00ff0009>getting</text> <text style=background-color:#00ff0020>together</text> <text style=background-color:#00ff0015>people</text> <text style=background-color:#00ff000d>could</text> <text style=background-color:#00ff0011>actually</text> <text style=background-color:#00ff000e>relate</text> <text style=background-color:#00ff0008>to</text> <text style=background-color:#00ff0016>the</text> <text style=background-color:#00ff0009>film</text> <text style=background-color:#00ff0016>because</text> <text style=background-color:#00ff0014>it</text> <text style=background-color:#00ff0000>didn</text> <text style=background-color:#00ff0001>t</text> <text style=background-color:#00ff000d>seem</text> <text style=background-color:#00ff0011>like</text> <text style=background-color:#00ff0047>extraordinary</text> <text style=background-color:#00ff000f>circumstances</text> <text style=background-color:#00ff0018>or</text> <text style=background-color:#00ff0017>impossible</text> <text style=background-color:#00ff000d>situations</text> <text style=background-color:#00ff0014>it</text> <text style=background-color:#00ff0006>was</text> <text style=background-color:#00ff0014>really</text> <text style=background-color:#00ff000f>funny</text> <text style=background-color:#00ff001f>and</text> <text style=background-color:#00ff000b>i</text> <text style=background-color:#00ff0011>think</text> <text style=background-color:#00ff0014>it</text> <text style=background-color:#00ff0006>was</text> <text style=background-color:#00ff0002>jimmy</text> <text style=background-color:#00ff0000>fallon</text> <text style=background-color:#00ff0000>s</text> <text style=background-color:#00ff0031>best</text> <text style=background-color:#00ff001d>performance</text> <text style=background-color:#00ff001a>all</text> <text style=background-color:#00ff0005>in</text> <text style=background-color:#00ff001a>all</text> <text style=background-color:#00ff000b>i</text> <text style=background-color:#00ff000c>would</text> <text style=background-color:#00ff0019>definitely</text> <text style=background-color:#00ff000e>recommend</text> <text style=background-color:#00ff0014>it</text> <br> <text style=background-color:#00ff0015>i</text> <text style=background-color:#00ff000e>watched</text> <text style=background-color:#00ff0024>the</text> <text style=background-color:#00ff0025>movie</text> <text style=background-color:#00ff0020>while</text> <text style=background-color:#00ff0005>recovering</text> <text style=background-color:#00ff0019>from</text> <text style=background-color:#00ff0019>major</text> <text style=background-color:#00ff000a>surgery</text> <text style=background-color:#00ff0020>while</text> <text style=background-color:#00ff0015>i</text> <text style=background-color:#00ff0010>knew</text> <text style=background-color:#00ff0022>it</text> <text style=background-color:#00ff000d>was</text> <text style=background-color:#00ff0024>only</text> <text style=background-color:#00ff0006>a</text> <text style=background-color:#00ff0005>b</text> <text style=background-color:#00ff0012>film</text> <text style=background-color:#00ff0006>a</text> <text style=background-color:#00ff001a>space</text> <text style=background-color:#00ff000a>western</text> <text style=background-color:#00ff0015>i</text> <text style=background-color:#00ff0040>loved</text> <text style=background-color:#00ff0022>it</text> <text style=background-color:#00ff0022>it</text> <text style=background-color:#00ff001b>may</text> <text style=background-color:#00ff0025>have</text> <text style=background-color:#00ff0006>lacked</text> <text style=background-color:#00ff0024>the</text> <text style=background-color:#00ff0005>flash</text> <text style=background-color:#00ff0024>of</text> <text style=background-color:#00ff0018>high</text> <text style=background-color:#00ff0002>dollar</text> <text style=background-color:#00ff0007>productions</text> <text style=background-color:#00ff0022>it</text> <text style=background-color:#00ff0001>non</text> <text style=background-color:#00ff0024>the</text> <text style=background-color:#00ff0024>less</text> <text style=background-color:#00ff0007>held</text> <text style=background-color:#00ff002d>my</text> <text style=background-color:#00ff0042>imagination</text> <text style=background-color:#00ff002e>and</text> <text style=background-color:#00ff000a>provided</text> <text style=background-color:#00ff004f>great</text> <text style=background-color:#00ff0002>escapism</text> <text style=background-color:#00ff000e>sadly</text> <text style=background-color:#00ff0036>our</text> <text style=background-color:#00ff0022>society</text> <text style=background-color:#00ff0009>has</text> <text style=background-color:#00ff0017>so</text> <text style=background-color:#00ff0030>much</text> <text style=background-color:#00ff000c>available</text> <text style=background-color:#00ff0000>discounting</text> <text style=background-color:#00ff002f>small</text> <text style=background-color:#00ff0006>attempts</text> <text style=background-color:#00ff001b>is</text> <text style=background-color:#00ff002c>too</text> <text style=background-color:#00ff0033>easy</text> <text style=background-color:#00ff000d>in</text> <text style=background-color:#00ff0024>the</text> <text style=background-color:#00ff0025>same</text> <text style=background-color:#00ff002c>way</text> <text style=background-color:#00ff0020>that</text> <text style=background-color:#00ff0015>i</text> <text style=background-color:#00ff0021>can</text> <text style=background-color:#00ff0057>enjoy</text> <text style=background-color:#00ff0006>a</text> <text style=background-color:#00ff0017>even</text> <text style=background-color:#00ff0006>a</text> <text style=background-color:#00ff000a>grade</text> <text style=background-color:#00ff000d>school</text> <text style=background-color:#00ff002c>performance</text> <text style=background-color:#00ff0024>of</text> <text style=background-color:#00ff000b>shakespeare</text> <text style=background-color:#00ff0015>i</text> <text style=background-color:#00ff0021>can</text> <text style=background-color:#00ff0047>appreciate</text> <text style=background-color:#00ff001e>many</text> <text style=background-color:#00ff0009>levels</text> <text style=background-color:#00ff0024>of</text> <text style=background-color:#00ff0018>achievement</text> <text style=background-color:#00ff0021>for</text> <text style=background-color:#00ff0024>the</text> <text style=background-color:#00ff0031>art</text> <text style=background-color:#00ff000f>sake</text> <text style=background-color:#00ff0015>i</text> <text style=background-color:#00ff0010>am</text> <text style=background-color:#00ff0006>a</text> <text style=background-color:#00ff0003>cop</text> <text style=background-color:#00ff002e>and</text> <text style=background-color:#00ff0011>found</text> <text style=background-color:#00ff000c>affinity</text> <text style=background-color:#00ff0030>with</text> <text style=background-color:#00ff0024>the</text> <text style=background-color:#00ff0003>retired</text> <text style=background-color:#00ff0000>lapd</text> <text style=background-color:#00ff005f>dreams</text> <text style=background-color:#00ff001d>like</text> <text style=background-color:#00ff001a>his</text> <text style=background-color:#00ff0009>haunt</text> <text style=background-color:#00ff0003>me</text> <text style=background-color:#00ff0020>that</text> <text style=background-color:#00ff0015>i</text> <text style=background-color:#00ff0017>will</text> <text style=background-color:#00ff0029>be</text> <text style=background-color:#00ff0006>unable</text> <text style=background-color:#00ff000d>in</text> <text style=background-color:#00ff0024>the</text> <text style=background-color:#00ff0032>moment</text> <text style=background-color:#00ff0024>of</text> <text style=background-color:#00ff0000>crisis</text> <text style=background-color:#00ff0029>be</text> <text style=background-color:#00ff0020>able</text> <text style=background-color:#00ff0011>to</text> <text style=background-color:#00ff0004>respond</text> <text style=background-color:#00ff0011>to</text> <text style=background-color:#00ff0012>save</text> <text style=background-color:#00ff0029>another</text> <text style=background-color:#00ff0002>s</text> <text style=background-color:#00ff0049>life</text> <text style=background-color:#00ff0026>or</text> <text style=background-color:#00ff002d>my</text> <text style=background-color:#00ff002c>own</text> <text style=background-color:#00ff0020>while</text> <text style=background-color:#00ff0022>it</text> <text style=background-color:#00ff000d>was</text> <text style=background-color:#00ff0006>a</text> <text style=background-color:#00ff00ff>romantic</text> <text style=background-color:#00ff003d>ending</text> <text style=background-color:#00ff001a>where</text> <text style=background-color:#00ff0000>farnsworth</text> <text style=background-color:#00ff000e>did</text> <text style=background-color:#00ff0022>take</text> <text style=background-color:#00ff0017>out</text> <text style=background-color:#00ff0024>the</text> <text style=background-color:#00ff0023>bad</text> <text style=background-color:#00ff0021>guy</text> <text style=background-color:#00ff0010>predictable</text> <text style=background-color:#00ff0015>i</text> <text style=background-color:#00ff0019>needed</text> <text style=background-color:#00ff0006>a</text> <text style=background-color:#00ff0047>little</text> <text style=background-color:#00ff003f>happy</text> <text style=background-color:#00ff0035>romance</text> <text style=background-color:#00ff001a>where</text> <text style=background-color:#00ff0046>good</text> <text style=background-color:#00ff0021>can</text> <text style=background-color:#00ff0008>triumph</text> <text style=background-color:#00ff002d>my</text> <text style=background-color:#00ff0031>world</text> <text style=background-color:#00ff001b>is</text> <text style=background-color:#00ff0022>really</text> <text style=background-color:#00ff002c>too</text> <text style=background-color:#00ff000d>cynical</text> <br> <text style=background-color:#00ff0011>i</text> <text style=background-color:#00ff000d>found</text> <text style=background-color:#00ff001f>this</text> <text style=background-color:#00ff000f>film</text> <text style=background-color:#00ff000d>to</text> <text style=background-color:#00ff0024>be</text> <text style=background-color:#00ff0017>an</text> <text style=background-color:#00ff0008>utter</text> <text style=background-color:#00ff0001>dissapointment</text> <text style=background-color:#00ff001f>the</text> <text style=background-color:#00ff0030>talent</text> <text style=background-color:#00ff0009>available</text> <text style=background-color:#00ff000d>to</text> <text style=background-color:#00ff001f>the</text> <text style=background-color:#00ff0002>director</text> <text style=background-color:#00ff0000>notably</text> <text style=background-color:#00ff0000>stanley</text> <text style=background-color:#00ff0000>tucci</text> <text style=background-color:#00ff0004>chris</text> <text style=background-color:#00ff0000>walken</text> <text style=background-color:#00ff0001>hank</text> <text style=background-color:#00ff0000>azaria</text> <text style=background-color:#00ff0029>and</text> <text style=background-color:#00ff0000>alan</text> <text style=background-color:#00ff0000>arkin</text> <text style=background-color:#00ff0024>without</text> <text style=background-color:#00ff0013>even</text> <text style=background-color:#00ff0002>mentioning</text> <text style=background-color:#00ff001f>the</text> <text style=background-color:#00ff0009>four</text> <text style=background-color:#00ff0004>main</text> <text style=background-color:#00ff0004>leads</text> <text style=background-color:#00ff0020>have</text> <text style=background-color:#00ff000e>been</text> <text style=background-color:#00ff000a>completely</text> <text style=background-color:#00ff0017>wasted</text> <text style=background-color:#00ff000c>on</text> <text style=background-color:#00ff0017>an</text> <text style=background-color:#00ff0004>unfunny</text> <text style=background-color:#00ff0007>mediocre</text> <text style=background-color:#00ff002f>story</text> <text style=background-color:#00ff002d>whose</text> <text style=background-color:#00ff0010>conclusion</text> <text style=background-color:#00ff001e>one</text> <text style=background-color:#00ff0000>couldn</text> <text style=background-color:#00ff0002>t</text> <text style=background-color:#00ff001d>really</text> <text style=background-color:#00ff0027>care</text> <text style=background-color:#00ff0022>about</text> <text style=background-color:#00ff0010>once</text> <text style=background-color:#00ff0003>introduced</text> <text style=background-color:#00ff000d>to</text> <text style=background-color:#00ff001f>the</text> <text style=background-color:#00ff0001>dire</text> <text style=background-color:#00ff0001>stereo</text> <text style=background-color:#00ff0000>typed</text> <text style=background-color:#00ff001e>characters</text> <text style=background-color:#00ff0002>julia</text> <text style=background-color:#00ff0003>roberts</text> <text style=background-color:#00ff0017>is</text> <text style=background-color:#00ff0001>feeble</text> <text style=background-color:#00ff0001>zeta</text> <text style=background-color:#00ff0004>jones</text> <text style=background-color:#00ff0017>is</text> <text style=background-color:#00ff0018>just</text> <text style=background-color:#00ff000b>plain</text> <text style=background-color:#00ff0011>annoying</text> <text style=background-color:#00ff0005>appearing</text> <text style=background-color:#00ff000d>to</text> <text style=background-color:#00ff0000>reprise</text> <text style=background-color:#00ff0012>her</text> <text style=background-color:#00ff000d>role</text> <text style=background-color:#00ff0015>from</text> <text style=background-color:#00ff0014>high</text> <text style=background-color:#00ff0001>fidelity</text> <text style=background-color:#00ff0018>minus</text> <text style=background-color:#00ff001f>the</text> <text style=background-color:#00ff0017>humour</text> <text style=background-color:#00ff0008>crystal</text> <text style=background-color:#00ff0018>just</text> <text style=background-color:#00ff0009>plays</text> <text style=background-color:#00ff0016>his</text> <text style=background-color:#00ff0021>same</text> <text style=background-color:#00ff0021>old</text> <text style=background-color:#00ff0013>hyper</text> <text style=background-color:#00ff0024>active</text> <text style=background-color:#00ff0002>neurotic</text> <text style=background-color:#00ff0011>annoying</text> <text style=background-color:#00ff0008>alter</text> <text style=background-color:#00ff0007>ego</text> <text style=background-color:#00ff0029>and</text> <text style=background-color:#00ff0000>cusack</text> <text style=background-color:#00ff0028>simply</text> <text style=background-color:#00ff000b>walks</text> <text style=background-color:#00ff0015>through</text> <text style=background-color:#00ff0016>his</text> <text style=background-color:#00ff002f>part</text> <text style=background-color:#00ff0009>apparently</text> <text style=background-color:#00ff000a>bored</text> <text style=background-color:#00ff002b>with</text> <text style=background-color:#00ff001f>the</text> <text style=background-color:#00ff0020>whole</text> <text style=background-color:#00ff001a>project</text> <text style=background-color:#00ff0000>br</text> <text style=background-color:#00ff0000>br</text> <text style=background-color:#00ff001d>for</text> <text style=background-color:#00ff001c>what</text> <text style=background-color:#00ff0017>is</text> <text style=background-color:#00ff0017>supposed</text> <text style=background-color:#00ff000d>to</text> <text style=background-color:#00ff0024>be</text> <text style=background-color:#00ff0005>a</text> <text style=background-color:#00ff00ff>romantic</text> <text style=background-color:#00ff001f>comedy</text> <text style=background-color:#00ff0022>there</text> <text style=background-color:#00ff0017>is</text> <text style=background-color:#00ff0017>absolutely</text> <text style=background-color:#00ff0000>no</text> <text style=background-color:#00ff0030>romance</text> <text style=background-color:#00ff0018>between</text> <text style=background-color:#00ff001f>the</text> <text style=background-color:#00ff0000>central</text> <text style=background-color:#00ff001e>characters</text> <text style=background-color:#00ff0019>let</text> <text style=background-color:#00ff0019>alone</text> <text style=background-color:#00ff000a>chemistry</text> <text style=background-color:#00ff0029>and</text> <text style=background-color:#00ff0008>as</text> <text style=background-color:#00ff001d>for</text> <text style=background-color:#00ff001f>the</text> <text style=background-color:#00ff001f>comedy</text> <text style=background-color:#00ff0015>possible</text> <text style=background-color:#00ff0001>spoilers</text> <text style=background-color:#00ff001c>well</text> <text style=background-color:#00ff001f>the</text> <text style=background-color:#00ff001f>only</text> <text style=background-color:#00ff0036>moments</text> <text style=background-color:#00ff001f>of</text> <text style=background-color:#00ff0010>mild</text> <text style=background-color:#00ff0017>humour</text> <text style=background-color:#00ff000c>came</text> <text style=background-color:#00ff0009>off</text> <text style=background-color:#00ff001f>the</text> <text style=background-color:#00ff0009>back</text> <text style=background-color:#00ff001f>of</text> <text style=background-color:#00ff0000>cusack</text> <text style=background-color:#00ff0001>s</text> <text style=background-color:#00ff000d>role</text> <text style=background-color:#00ff000a>in</text> <text style=background-color:#00ff0001>grosse</text> <text style=background-color:#00ff0001>pointe</text> <text style=background-color:#00ff0029>and</text> <text style=background-color:#00ff0016>his</text> <text style=background-color:#00ff0051>relationship</text> <text style=background-color:#00ff002b>with</text> <text style=background-color:#00ff0000>alan</text> <text style=background-color:#00ff0000>arkin</text> <text style=background-color:#00ff001f>the</text> <text style=background-color:#00ff0001>scriptwriter</text> <text style=background-color:#00ff000f>obviously</text> <text style=background-color:#00ff0004>unable</text> <text style=background-color:#00ff000d>to</text> <text style=background-color:#00ff0011>show</text> <text style=background-color:#00ff001e>any</text> <text style=background-color:#00ff0009>originality</text> <text style=background-color:#00ff0007>whatsoever</text> <text style=background-color:#00ff0001>spoilers</text> <text style=background-color:#00ff0000>azaria</text> <text style=background-color:#00ff000a>was</text> <text style=background-color:#00ff0004>reasonably</text> <text style=background-color:#00ff000c>amusing</text> <text style=background-color:#00ff0008>as</text> <text style=background-color:#00ff001f>the</text> <text style=background-color:#00ff000b>mexican</text> <text style=background-color:#00ff007d>lover</text> <text style=background-color:#00ff0029>and</text> <text style=background-color:#00ff0000>walken</text> <text style=background-color:#00ff000b>did</text> <text style=background-color:#00ff001a>quite</text> <text style=background-color:#00ff0017>an</text> <text style=background-color:#00ff000c>amusing</text> <text style=background-color:#00ff001c>turn</text> <text style=background-color:#00ff0008>as</text> <text style=background-color:#00ff0005>a</text> <text style=background-color:#00ff000c>parody</text> <text style=background-color:#00ff001f>of</text> <text style=background-color:#00ff0017>an</text> <text style=background-color:#00ff0000>arthouse</text> <text style=background-color:#00ff0000>maverick</text> <text style=background-color:#00ff0000>dogme</text> <text style=background-color:#00ff0029>type</text> <text style=background-color:#00ff0002>director</text> <text style=background-color:#00ff0020>but</text> <text style=background-color:#00ff0014>these</text> <text style=background-color:#00ff000f>parts</text> <text style=background-color:#00ff0000>constituted</text> <text style=background-color:#00ff0041>very</text> <text style=background-color:#00ff0042>little</text> <text style=background-color:#00ff0005>screen</text> <text style=background-color:#00ff0020>time</text> <text style=background-color:#00ff0029>and</text> <text style=background-color:#00ff0016>instead</text> <text style=background-color:#00ff0001>spoilers</text> <text style=background-color:#00ff000e>we</text> <text style=background-color:#00ff0010>were</text> <text style=background-color:#00ff0012>treated</text> <text style=background-color:#00ff000d>to</text> <text style=background-color:#00ff000c>billy</text> <text style=background-color:#00ff0008>crystal</text> <text style=background-color:#00ff0031>having</text> <text style=background-color:#00ff0016>his</text> <text style=background-color:#00ff0000>groin</text> <text style=background-color:#00ff0000>sniffed</text> <text style=background-color:#00ff0016>by</text> <text style=background-color:#00ff0005>a</text> <text style=background-color:#00ff0014>dog</text> <text style=background-color:#00ff0019>pure</text> <text style=background-color:#00ff0018>genius</text> <text style=background-color:#00ff0000>br</text> <text style=background-color:#00ff0000>br</text> <text style=background-color:#00ff001d>for</text> <text style=background-color:#00ff0005>a</text> <text style=background-color:#00ff0020>huge</text> <text style=background-color:#00ff000b>fan</text> <text style=background-color:#00ff001f>of</text> <text style=background-color:#00ff001f>the</text> <text style=background-color:#00ff0008>majority</text> <text style=background-color:#00ff001f>of</text> <text style=background-color:#00ff0007>john</text> <text style=background-color:#00ff0000>cusack</text> <text style=background-color:#00ff0001>s</text> <text style=background-color:#00ff001f>work</text> <text style=background-color:#00ff001b>not</text> <text style=background-color:#00ff000d>to</text> <text style=background-color:#00ff0007>mention</text> <text style=background-color:#00ff001f>the</text> <text style=background-color:#00ff0023>rest</text> <text style=background-color:#00ff001f>of</text> <text style=background-color:#00ff001f>the</text> <text style=background-color:#00ff0051>fantastic</text> <text style=background-color:#00ff0021>cast</text> <text style=background-color:#00ff0011>i</text> <text style=background-color:#00ff000a>was</text> <text style=background-color:#00ff000a>completely</text> <text style=background-color:#00ff0019>let</text> <text style=background-color:#00ff000a>down</text> <text style=background-color:#00ff0016>by</text> <text style=background-color:#00ff0005>a</text> <text style=background-color:#00ff000f>film</text> <text style=background-color:#00ff002b>with</text> <text style=background-color:#00ff0018>plenty</text> <text style=background-color:#00ff001f>of</text> <text style=background-color:#00ff0041>good</text> <text style=background-color:#00ff0013>ideas</text> <text style=background-color:#00ff0029>and</text> <text style=background-color:#00ff0013>at</text> <text style=background-color:#00ff001f>the</text> <text style=background-color:#00ff0021>same</text> <text style=background-color:#00ff0020>time</text> <text style=background-color:#00ff000a>completely</text> <text style=background-color:#00ff0002>unwilling</text> <text style=background-color:#00ff000d>to</text> <text style=background-color:#00ff001f>explore</text> <text style=background-color:#00ff0021>or</text> <text style=background-color:#00ff0014>elaborate</text> <text style=background-color:#00ff000c>on</text> <text style=background-color:#00ff001e>any</text> <text style=background-color:#00ff001f>of</text> <text style=background-color:#00ff0010>them</text> <text style=background-color:#00ff0016>instead</text> <text style=background-color:#00ff0000>resorting</text> <text style=background-color:#00ff000d>to</text> <text style=background-color:#00ff001f>the</text> <text style=background-color:#00ff0021>same</text> <text style=background-color:#00ff0021>old</text> <text style=background-color:#00ff0004>genre</text> <text style=background-color:#00ff0001>cliches</text> <text style=background-color:#00ff0029>and</text> <text style=background-color:#00ff0013>even</text> <text style=background-color:#00ff0001>lowering</text> <text style=background-color:#00ff0007>itself</text> <text style=background-color:#00ff000d>to</text> <text style=background-color:#00ff001f>the</text> <text style=background-color:#00ff000a>depths</text> <text style=background-color:#00ff001f>of</text> <text style=background-color:#00ff000e>almost</text> <text style=background-color:#00ff0004>gross</text> <text style=background-color:#00ff0013>out</text> <text style=background-color:#00ff0011>teen</text> <text style=background-color:#00ff0021>movie</text> <text style=background-color:#00ff0017>humour</text> <text style=background-color:#00ff0013>at</text> <text style=background-color:#00ff0010>times</text> <text style=background-color:#00ff0000>br</text> <text style=background-color:#00ff0000>br</text> <text style=background-color:#00ff0005>a</text> <text style=background-color:#00ff0041>very</text> <text style=background-color:#00ff0011>poor</text>"
      ],
      "text/plain": [
       "<IPython.core.display.HTML object>"
      ]
     },
     "execution_count": 50,
     "metadata": {},
     "output_type": "execute_result"
    }
   ],
   "source": [
    "html_print (\" <br> \".join (np.array (coloured_texts) [ordering [0:10]]))"
   ]
  },
  {
   "cell_type": "code",
   "execution_count": null,
   "metadata": {},
   "outputs": [],
   "source": []
  },
  {
   "cell_type": "code",
   "execution_count": null,
   "metadata": {},
   "outputs": [],
   "source": []
  },
  {
   "cell_type": "code",
   "execution_count": null,
   "metadata": {},
   "outputs": [],
   "source": []
  },
  {
   "cell_type": "code",
   "execution_count": null,
   "metadata": {},
   "outputs": [],
   "source": []
  },
  {
   "cell_type": "code",
   "execution_count": 135,
   "metadata": {},
   "outputs": [],
   "source": [
    "embeds = imdb_task.embeds ['train']['glove-twitter-25']"
   ]
  },
  {
   "cell_type": "code",
   "execution_count": 280,
   "metadata": {},
   "outputs": [],
   "source": [
    " "
   ]
  },
  {
   "cell_type": "code",
   "execution_count": 299,
   "metadata": {},
   "outputs": [],
   "source": [
    "for i in range (len (embeds)):\n",
    "    a = cosine_similarity(embeds [i], lookup_text_emb)"
   ]
  },
  {
   "cell_type": "code",
   "execution_count": 260,
   "metadata": {},
   "outputs": [],
   "source": []
  },
  {
   "cell_type": "code",
   "execution_count": 544,
   "metadata": {},
   "outputs": [],
   "source": [
    "pretrained_model_tag = 'glove-twitter-25'"
   ]
  },
  {
   "cell_type": "code",
   "execution_count": 567,
   "metadata": {},
   "outputs": [],
   "source": [
    "lookup_text = 'violent action'"
   ]
  },
  {
   "cell_type": "code",
   "execution_count": 568,
   "metadata": {},
   "outputs": [],
   "source": [
    "text_tag = 'train'"
   ]
  },
  {
   "cell_type": "code",
   "execution_count": 558,
   "metadata": {},
   "outputs": [
    {
     "data": {
      "text/plain": [
       "dict_keys(['train'])"
      ]
     },
     "execution_count": 558,
     "metadata": {},
     "output_type": "execute_result"
    }
   ],
   "source": [
    "imdb_task.embeds.keys()"
   ]
  },
  {
   "cell_type": "code",
   "execution_count": 563,
   "metadata": {},
   "outputs": [],
   "source": [
    "lookup_agg_method = np.mean"
   ]
  },
  {
   "cell_type": "code",
   "execution_count": 576,
   "metadata": {},
   "outputs": [],
   "source": [
    "text_agg_method = np.max"
   ]
  },
  {
   "cell_type": "code",
   "execution_count": 592,
   "metadata": {},
   "outputs": [],
   "source": [
    "# imdb_task.load_embedding_model(pretrained_model_tag)\n",
    "# \n",
    "# emb_model = imdb_task.emb_models [pretrained_model_tag]\n",
    "# \n",
    "# lookup_text_tok = imdb_task._tokenize([lookup_text])\n",
    "# #print (lookup_text_tok)\n",
    "# emb_length = emb_model ['a'].shape [0]\n",
    "# lookup_text_emb = imdb_task._embed_line(lookup_text_tok, emb_model, emb_length)\n",
    "# lookup_text_emb = np.array (lookup_text_emb)\n",
    "# lookup_text_emb = lookup_text_emb.squeeze (0)\n",
    "# \n",
    "# embs = imdb_task.embeds [text_tag][pretrained_model_tag]\n",
    "# \n",
    "# emb_sims = []\n",
    "# emb_sims_max = []\n",
    "# for i in range(0, len(embs)):\n",
    "#     if (i % 1000) == 0:\n",
    "#         print(i)\n",
    "# \n",
    "#     lin_cos_sim = cosine_similarity(embs[i], lookup_text_emb)\n",
    "#     lin_cos_sim = lookup_agg_method(lin_cos_sim, axis=1)\n",
    "#     emb_sims.append(lin_cos_sim)\n",
    "#     max_sims = text_agg_method (lin_cos_sim)\n",
    "#     emb_sims_max.append(max_sims)\n",
    "# \n",
    "# emb_sims = np.array (emb_sims)\n",
    "# emb_sims_max = np.array (emb_sims_max)\n",
    "# \n",
    "# ordering = np.argsort(-emb_sims_max)"
   ]
  },
  {
   "cell_type": "code",
   "execution_count": 99,
   "metadata": {},
   "outputs": [
    {
     "data": {
      "text/plain": [
       "array([ 0.010751, -0.72868 ,  0.02601 ,  0.69312 ,  0.97722 , -0.22981 ,\n",
       "        1.5951  ,  0.14071 ,  0.27606 , -1.4623  ,  0.03556 , -0.46209 ,\n",
       "       -2.2854  , -0.40581 , -0.27038 ,  0.51349 , -0.46135 ,  0.38363 ,\n",
       "        0.54332 , -0.1618  , -0.64526 , -0.14408 , -0.9408  , -0.32212 ,\n",
       "        0.64805 ], dtype=float32)"
      ]
     },
     "execution_count": 99,
     "metadata": {},
     "output_type": "execute_result"
    }
   ],
   "source": [
    "imdb_task.emb_models['glove-twitter-25']['romance']"
   ]
  },
  {
   "cell_type": "code",
   "execution_count": 117,
   "metadata": {},
   "outputs": [
    {
     "name": "stdout",
     "output_type": "stream",
     "text": [
      "0\n",
      "1000\n",
      "2000\n",
      "3000\n",
      "4000\n"
     ]
    }
   ],
   "source": [
    "word_sims, max_sims, ordering = imdb_task.embedding_lookup('train', 'glove-twitter-25', 'romantic', \n",
    "                                                           lookup_agg_method = np.mean, \n",
    "                                                           text_agg_method = np.max)"
   ]
  },
  {
   "cell_type": "code",
   "execution_count": 101,
   "metadata": {},
   "outputs": [
    {
     "data": {
      "text/plain": [
       "array([3041, 4262, 4036, ..., 2449,  302, 2236], dtype=int64)"
      ]
     },
     "execution_count": 101,
     "metadata": {},
     "output_type": "execute_result"
    }
   ],
   "source": [
    "ordering"
   ]
  },
  {
   "cell_type": "code",
   "execution_count": 118,
   "metadata": {},
   "outputs": [],
   "source": [
    "attention_weights = word_sims"
   ]
  },
  {
   "cell_type": "code",
   "execution_count": 119,
   "metadata": {},
   "outputs": [],
   "source": [
    "subset = None"
   ]
  },
  {
   "cell_type": "code",
   "execution_count": 120,
   "metadata": {},
   "outputs": [],
   "source": [
    "text_tag = \"train\""
   ]
  },
  {
   "cell_type": "code",
   "execution_count": 121,
   "metadata": {},
   "outputs": [
    {
     "name": "stdout",
     "output_type": "stream",
     "text": [
      "0\n",
      "1000\n",
      "2000\n",
      "3000\n",
      "4000\n"
     ]
    }
   ],
   "source": [
    "from sklearn.utils.extmath import softmax\n",
    "\n",
    "text_tok = imdb_task.texts_tok [text_tag]\n",
    "\n",
    "if subset is not None:\n",
    "    text_tok = text_tok [subset]\n",
    "    attention_weights = attention_weights [subset]\n",
    "\n",
    "def cstr(s, color='black'):\n",
    "    return \"<text style=background-color:{}>{}</text>\".format(color, s)\n",
    "\n",
    "\n",
    "def norm (x):\n",
    "    return ((x-min(x))/(max(x)-min(x)))\n",
    "    \n",
    "\n",
    "red = np.array([255, 0, 0])\n",
    "green = np.array([0, 255, 0])\n",
    "blue = np.array([0, 0, 255])\n",
    "red = np.round(red).astype(\"int64\")\n",
    "blue = np.round(blue).astype(\"int64\")\n",
    "green = np.round(green).astype(\"int64\")\n",
    "\n",
    "col = green\n",
    "\n",
    "coloured_sents = []\n",
    "for ref in range (len (text_tok)):\n",
    "    col_sent = []\n",
    "    attn_weights = attention_weights [ref]\n",
    "    attn_weights = norm(attn_weights)**5\n",
    "    #attn_weights = softmax(np.array (attn_weights))\n",
    "\n",
    "    #attn_weights = attn_weights [0,:]\n",
    "    \n",
    "    if (ref % 1000) == 0:\n",
    "        print(ref)\n",
    "\n",
    "    for i in range(0, len(text_tok [ref])):\n",
    "\n",
    "        assert (len (attn_weights) == len (text_tok[ref]))\n",
    "\n",
    "        alpha = np.array(attn_weights[i]) * 255\n",
    "\n",
    "        alpha = np.round(alpha).astype(\"int64\")\n",
    "\n",
    "        col_word = cstr(text_tok[ref][i],\n",
    "                        '#{:02x}{:02x}{:02x}{:02x}'.format(col[0], col[1], col[2], alpha))\n",
    "\n",
    "#         if (i % 10) == 0:\n",
    "#             col_sent.append(\" <br> \" + col_word)\n",
    "#         else:\n",
    "        col_sent.append(col_word)\n",
    "\n",
    "    coloured_sents.append(\" \".join(col_sent))"
   ]
  },
  {
   "cell_type": "code",
   "execution_count": null,
   "metadata": {},
   "outputs": [],
   "source": []
  },
  {
   "cell_type": "code",
   "execution_count": null,
   "metadata": {},
   "outputs": [],
   "source": []
  },
  {
   "cell_type": "code",
   "execution_count": 41,
   "metadata": {},
   "outputs": [],
   "source": [
    "#alpha"
   ]
  },
  {
   "cell_type": "code",
   "execution_count": 33,
   "metadata": {},
   "outputs": [],
   "source": [
    "#attn_weights"
   ]
  },
  {
   "cell_type": "code",
   "execution_count": 71,
   "metadata": {},
   "outputs": [],
   "source": [
    "#coloured_sents [0]"
   ]
  },
  {
   "cell_type": "code",
   "execution_count": null,
   "metadata": {},
   "outputs": [],
   "source": []
  },
  {
   "cell_type": "code",
   "execution_count": 36,
   "metadata": {},
   "outputs": [],
   "source": [
    "#coloured_sents = imdb_task.colour_attention ('train', word_sims)"
   ]
  },
  {
   "cell_type": "code",
   "execution_count": 122,
   "metadata": {},
   "outputs": [],
   "source": [
    "from IPython.display import HTML as html_print"
   ]
  },
  {
   "cell_type": "code",
   "execution_count": 123,
   "metadata": {},
   "outputs": [
    {
     "data": {
      "text/html": [
       "<text style=background-color:#00ff001d>the</text> <text style=background-color:#00ff0008>title</text> <text style=background-color:#00ff001d>of</text> <text style=background-color:#00ff001d>this</text> <text style=background-color:#00ff000e>film</text> <text style=background-color:#00ff0016>is</text> <text style=background-color:#00ff001b>taken</text> <text style=background-color:#00ff0014>from</text> <text style=background-color:#00ff0004>a</text> <text style=background-color:#00ff0017>party</text> <text style=background-color:#00ff0006>game</text> <text style=background-color:#00ff0014>called</text> <text style=background-color:#00ff0004>seven</text> <text style=background-color:#00ff0004>minutes</text> <text style=background-color:#00ff0009>in</text> <text style=background-color:#00ff0033>heaven</text> <text style=background-color:#00ff001d>the</text> <text style=background-color:#00ff0006>game</text> <text style=background-color:#00ff0009>was</text> <text style=background-color:#00ff000a>popular</text> <text style=background-color:#00ff000d>among</text> <text style=background-color:#00ff0025>my</text> <text style=background-color:#00ff002d>husband</text> <text style=background-color:#00ff0001>s</text> <text style=background-color:#00ff003c>friends</text> <text style=background-color:#00ff001d>when</text> <text style=background-color:#00ff0005>he</text> <text style=background-color:#00ff0009>was</text> <text style=background-color:#00ff0009>in</text> <text style=background-color:#00ff0007>junior</text> <text style=background-color:#00ff0012>high</text> <text style=background-color:#00ff0009>school</text> <text style=background-color:#00ff0009>in</text> <text style=background-color:#00ff0002>brooklyn</text> <text style=background-color:#00ff0002>ny</text> <text style=background-color:#00ff0027>and</text> <text style=background-color:#00ff0005>he</text> <text style=background-color:#00ff000d>describes</text> <text style=background-color:#00ff001b>it</text> <text style=background-color:#00ff0007>as</text> <text style=background-color:#00ff0025>something</text> <text style=background-color:#00ff0017>like</text> <text style=background-color:#00ff0006>spin</text> <text style=background-color:#00ff001d>the</text> <text style=background-color:#00ff0006>bottle</text> <text style=background-color:#00ff0008>lifesaver</text> <text style=background-color:#00ff0006>relay</text> <text style=background-color:#00ff0027>and</text> <text style=background-color:#00ff001f>other</text> <text style=background-color:#00ff0002>preteen</text> <text style=background-color:#00ff001a>kissing</text> <text style=background-color:#00ff0006>games</text> <text style=background-color:#00ff0008>according</text> <text style=background-color:#00ff000c>to</text> <text style=background-color:#00ff001d>the</text> <text style=background-color:#00ff000a>rules</text> <text style=background-color:#00ff0004>a</text> <text style=background-color:#00ff001a>boy</text> <text style=background-color:#00ff0001>s</text> <text style=background-color:#00ff0013>name</text> <text style=background-color:#00ff0027>and</text> <text style=background-color:#00ff0004>a</text> <text style=background-color:#00ff002c>girl</text> <text style=background-color:#00ff0001>s</text> <text style=background-color:#00ff0011>would</text> <text style=background-color:#00ff0022>be</text> <text style=background-color:#00ff0006>drawn</text> <text style=background-color:#00ff0027>and</text> <text style=background-color:#00ff001d>the</text> <text style=background-color:#00ff0015>chosen</text> <text style=background-color:#00ff0035>ones</text> <text style=background-color:#00ff0001>ordered</text> <text style=background-color:#00ff000c>to</text> <text style=background-color:#00ff0010>get</text> <text style=background-color:#00ff0014>into</text> <text style=background-color:#00ff0004>a</text> <text style=background-color:#00ff0029>dark</text> <text style=background-color:#00ff0006>closet</text> <text style=background-color:#00ff0028>together</text> <text style=background-color:#00ff0027>and</text> <text style=background-color:#00ff000c>to</text> <text style=background-color:#00ff0022>stay</text> <text style=background-color:#00ff0020>there</text> <text style=background-color:#00ff001b>for</text> <text style=background-color:#00ff0004>seven</text> <text style=background-color:#00ff0004>minutes</text> <text style=background-color:#00ff0009>in</text> <text style=background-color:#00ff001d>the</text> <text style=background-color:#00ff0004>meantime</text> <text style=background-color:#00ff0020>there</text> <text style=background-color:#00ff0011>would</text> <text style=background-color:#00ff0022>be</text> <text style=background-color:#00ff0000>speculation</text> <text style=background-color:#00ff000d>among</text> <text style=background-color:#00ff0017>party</text> <text style=background-color:#00ff001f>guests</text> <text style=background-color:#00ff0007>as</text> <text style=background-color:#00ff000c>to</text> <text style=background-color:#00ff0014>whether</text> <text style=background-color:#00ff001f>or</text> <text style=background-color:#00ff0019>not</text> <text style=background-color:#00ff001d>the</text> <text style=background-color:#00ff0011>two</text> <text style=background-color:#00ff000a>had</text> <text style=background-color:#00ff001d>the</text> <text style=background-color:#00ff0007>nerve</text> <text style=background-color:#00ff000c>to</text> <text style=background-color:#00ff0011>hold</text> <text style=background-color:#00ff0015>hands</text> <text style=background-color:#00ff003c>embrace</text> <text style=background-color:#00ff0027>and</text> <text style=background-color:#00ff001f>or</text> <text style=background-color:#00ff0025>kiss</text> <text style=background-color:#00ff001e>each</text> <text style=background-color:#00ff001f>other</text> <text style=background-color:#00ff0009>in</text> <text style=background-color:#00ff001d>the</text> <text style=background-color:#00ff0002>privacy</text> <text style=background-color:#00ff001d>of</text> <text style=background-color:#00ff001d>the</text> <text style=background-color:#00ff0006>closet</text> <text style=background-color:#00ff0011>at</text> <text style=background-color:#00ff001d>the</text> <text style=background-color:#00ff0018>end</text> <text style=background-color:#00ff001d>of</text> <text style=background-color:#00ff0004>seven</text> <text style=background-color:#00ff0004>minutes</text> <text style=background-color:#00ff001d>the</text> <text style=background-color:#00ff0006>game</text> <text style=background-color:#00ff0011>leader</text> <text style=background-color:#00ff0011>would</text> <text style=background-color:#00ff0010>say</text> <text style=background-color:#00ff001e>time</text> <text style=background-color:#00ff0001>s</text> <text style=background-color:#00ff0010>up</text> <text style=background-color:#00ff001f>or</text> <text style=background-color:#00ff0004>knock</text> <text style=background-color:#00ff000b>on</text> <text style=background-color:#00ff001d>the</text> <text style=background-color:#00ff0006>closet</text> <text style=background-color:#00ff0001>door</text> <text style=background-color:#00ff0027>and</text> <text style=background-color:#00ff001d>the</text> <text style=background-color:#00ff0029>couple</text> <text style=background-color:#00ff0011>would</text> <text style=background-color:#00ff0001>emerge</text> <text style=background-color:#00ff0014>from</text> <text style=background-color:#00ff001d>the</text> <text style=background-color:#00ff0006>closet</text> <text style=background-color:#00ff000d>after</text> <text style=background-color:#00ff001d>being</text> <text style=background-color:#00ff0000>quizzed</text> <text style=background-color:#00ff0014>by</text> <text style=background-color:#00ff001d>the</text> <text style=background-color:#00ff001f>other</text> <text style=background-color:#00ff001f>guests</text> <text style=background-color:#00ff001d>the</text> <text style=background-color:#00ff0029>couple</text> <text style=background-color:#00ff0011>would</text> <text style=background-color:#00ff001e>have</text> <text style=background-color:#00ff000c>to</text> <text style=background-color:#00ff000f>admit</text> <text style=background-color:#00ff001a>what</text> <text style=background-color:#00ff0012>they</text> <text style=background-color:#00ff000a>had</text> <text style=background-color:#00ff0012>done</text> <text style=background-color:#00ff0012>during</text> <text style=background-color:#00ff0021>their</text> <text style=background-color:#00ff0004>seven</text> <text style=background-color:#00ff0004>minutes</text> <text style=background-color:#00ff0009>in</text> <text style=background-color:#00ff0033>heaven</text> <text style=background-color:#00ff0016>then</text> <text style=background-color:#00ff001f>other</text> <text style=background-color:#00ff001c>couples</text> <text style=background-color:#00ff0011>would</text> <text style=background-color:#00ff0022>be</text> <text style=background-color:#00ff0015>chosen</text> <text style=background-color:#00ff000c>to</text> <text style=background-color:#00ff0007>enter</text> <text style=background-color:#00ff001d>the</text> <text style=background-color:#00ff0006>closet</text> <text style=background-color:#00ff0015>until</text> <text style=background-color:#00ff0022>all</text> <text style=background-color:#00ff001d>the</text> <text style=background-color:#00ff001f>guests</text> <text style=background-color:#00ff000a>had</text> <text style=background-color:#00ff0002>participated</text> <text style=background-color:#00ff001d>the</text> <text style=background-color:#00ff0029>couple</text> <text style=background-color:#00ff0014>who</text> <text style=background-color:#00ff0001>admitted</text> <text style=background-color:#00ff000c>to</text> <text style=background-color:#00ff0019>doing</text> <text style=background-color:#00ff001d>the</text> <text style=background-color:#00ff002d>most</text> <text style=background-color:#00ff0011>would</text> <text style=background-color:#00ff0022>be</text> <text style=background-color:#00ff001d>the</text> <text style=background-color:#00ff0009>winners</text> <text style=background-color:#00ff001d>of</text> <text style=background-color:#00ff001d>the</text> <text style=background-color:#00ff0006>game</text> <text style=background-color:#00ff0000>br</text> <text style=background-color:#00ff0000>br</text> <text style=background-color:#00ff004e>such</text> <text style=background-color:#00ff0006>games</text> <text style=background-color:#00ff001e>have</text> <text style=background-color:#00ff0009>served</text> <text style=background-color:#00ff0007>as</text> <text style=background-color:#00ff0006>social</text> <text style=background-color:#00ff000e>ice</text> <text style=background-color:#00ff0003>breakers</text> <text style=background-color:#00ff001b>for</text> <text style=background-color:#00ff001c>children</text> <text style=background-color:#00ff0027>and</text> <text style=background-color:#00ff0012>teens</text> <text style=background-color:#00ff001e>but</text> <text style=background-color:#00ff0012>they</text> <text style=background-color:#00ff001a>can</text> <text style=background-color:#00ff0022>be</text> <text style=background-color:#00ff0008>embarrassing</text> <text style=background-color:#00ff0027>and</text> <text style=background-color:#00ff000b>intimidating</text> <text style=background-color:#00ff000c>to</text> <text style=background-color:#00ff0016>shy</text> <text style=background-color:#00ff0016>individuals</text> <text style=background-color:#00ff001d>the</text> <text style=background-color:#00ff000e>film</text> <text style=background-color:#00ff0006>has</text> <text style=background-color:#00ff000d>been</text> <text style=background-color:#00ff0015>given</text> <text style=background-color:#00ff001d>this</text> <text style=background-color:#00ff0008>title</text> <text style=background-color:#00ff001d>because</text> <text style=background-color:#00ff001b>it</text> <text style=background-color:#00ff0003>deals</text> <text style=background-color:#00ff0029>with</text> <text style=background-color:#00ff001d>the</text> <text style=background-color:#00ff0012>teens</text> <text style=background-color:#00ff001d>first</text> <text style=background-color:#00ff002e>experiences</text> <text style=background-color:#00ff0029>with</text> <text style=background-color:#00ff0006>crushes</text> <text style=background-color:#00ff0027>and</text> <text style=background-color:#00ff00ff>romantic</text> <text style=background-color:#00ff0031>love</text> <br> <text style=background-color:#00ff0013>i</text> <text style=background-color:#00ff000d>watched</text> <text style=background-color:#00ff0021>this</text> <text style=background-color:#00ff0023>movie</text> <text style=background-color:#00ff001e>for</text> <text style=background-color:#00ff0005>a</text> <text style=background-color:#00ff001c>project</text> <text style=background-color:#00ff000e>on</text> <text style=background-color:#00ff0036>love</text> <text style=background-color:#00ff000e>please</text> <text style=background-color:#00ff0014>tell</text> <text style=background-color:#00ff0000>nicolas</text> <text style=background-color:#00ff0005>cage</text> <text style=background-color:#00ff000f>to</text> <text style=background-color:#00ff0025>learn</text> <text style=background-color:#00ff001e>what</text> <text style=background-color:#00ff001f>it</text> <text style=background-color:#00ff0014>would</text> <text style=background-color:#00ff0027>feel</text> <text style=background-color:#00ff001b>like</text> <text style=background-color:#00ff000f>to</text> <text style=background-color:#00ff0026>be</text> <text style=background-color:#00ff0018>his</text> <text style=background-color:#00ff0031>character</text> <text style=background-color:#00ff002b>and</text> <text style=background-color:#00ff0019>then</text> <text style=background-color:#00ff0000>re</text> <text style=background-color:#00ff001b>read</text> <text style=background-color:#00ff0021>the</text> <text style=background-color:#00ff001f>lines</text> <text style=background-color:#00ff0007>he</text> <text style=background-color:#00ff0002>s</text> <text style=background-color:#00ff000c>saying</text> <text style=background-color:#00ff002a>my</text> <text style=background-color:#00ff0045>life</text> <text style=background-color:#00ff001a>cannot</text> <text style=background-color:#00ff000f>go</text> <text style=background-color:#00ff000e>on</text> <text style=background-color:#00ff0013>i</text> <text style=background-color:#00ff0001>accidentally</text> <text style=background-color:#00ff0010>cut</text> <text style=background-color:#00ff000a>off</text> <text style=background-color:#00ff002a>my</text> <text style=background-color:#00ff0029>own</text> <text style=background-color:#00ff000e>hand</text> <text style=background-color:#00ff002a>my</text> <text style=background-color:#00ff0016>brother</text> <text style=background-color:#00ff000b>was</text> <text style=background-color:#00ff0019>close</text> <text style=background-color:#00ff0018>by</text> <text style=background-color:#00ff0011>obviously</text> <text style=background-color:#00ff0018>his</text> <text style=background-color:#00ff000b>fault</text> <text style=background-color:#00ff002b>and</text> <text style=background-color:#00ff000f>since</text> <text style=background-color:#00ff0021>when</text> <text style=background-color:#00ff0022>have</text> <text style=background-color:#00ff003c>happy</text> <text style=background-color:#00ff002d>endings</text> <text style=background-color:#00ff0008>included</text> <text style=background-color:#00ff0021>the</text> <text style=background-color:#00ff003c>nice</text> <text style=background-color:#00ff001f>guy</text> <text style=background-color:#00ff0018>who</text> <text style=background-color:#00ff001c>takes</text> <text style=background-color:#00ff0029>care</text> <text style=background-color:#00ff0021>of</text> <text style=background-color:#00ff0023>mom</text> <text style=background-color:#00ff0024>sad</text> <text style=background-color:#00ff002b>and</text> <text style=background-color:#00ff001b>alone</text> <text style=background-color:#00ff0001>no</text> <text style=background-color:#00ff0001>closure</text> <text style=background-color:#00ff0020>bad</text> <text style=background-color:#00ff000d>script</text> <text style=background-color:#00ff002b>and</text> <text style=background-color:#00ff0003>doesn</text> <text style=background-color:#00ff0002>t</text> <text style=background-color:#00ff0022>have</text> <text style=background-color:#00ff0038>enough</text> <text style=background-color:#00ff0001>extension</text> <text style=background-color:#00ff0021>of</text> <text style=background-color:#00ff0007>minor</text> <text style=background-color:#00ff0020>characters</text> <text style=background-color:#00ff0010>save</text> <text style=background-color:#00ff0028>yourself</text> <text style=background-color:#00ff001a>unless</text> <text style=background-color:#00ff0036>your</text> <text style=background-color:#00ff0013>up</text> <text style=background-color:#00ff001e>for</text> <text style=background-color:#00ff0005>a</text> <text style=background-color:#00ff0043>good</text> <text style=background-color:#00ff0024>laugh</text> <text style=background-color:#00ff000c>costumes</text> <text style=background-color:#00ff0011>were</text> <text style=background-color:#00ff0015>done</text> <text style=background-color:#00ff0003>appropriately</text> <text style=background-color:#00ff002b>and</text> <text style=background-color:#00ff0002>extras</text> <text style=background-color:#00ff000d>did</text> <text style=background-color:#00ff0005>a</text> <text style=background-color:#00ff005e>fabulous</text> <text style=background-color:#00ff000f>job</text> <text style=background-color:#00ff0013>i</text> <text style=background-color:#00ff0002>m</text> <text style=background-color:#00ff001e>sure</text> <text style=background-color:#00ff001f>it</text> <text style=background-color:#00ff0014>would</text> <text style=background-color:#00ff0022>have</text> <text style=background-color:#00ff000f>been</text> <text style=background-color:#00ff0005>a</text> <text style=background-color:#00ff004c>fun</text> <text style=background-color:#00ff0023>movie</text> <text style=background-color:#00ff000f>to</text> <text style=background-color:#00ff002a>make</text> <text style=background-color:#00ff0022>but</text> <text style=background-color:#00ff0025>keep</text> <text style=background-color:#00ff001f>it</text> <text style=background-color:#00ff0036>more</text> <text style=background-color:#00ff0005>genre</text> <text style=background-color:#00ff0015>specific</text> <text style=background-color:#00ff0013>i</text> <text style=background-color:#00ff001e>can</text> <text style=background-color:#00ff0002>t</text> <text style=background-color:#00ff0017>recommend</text> <text style=background-color:#00ff0021>this</text> <text style=background-color:#00ff0023>movie</text> <text style=background-color:#00ff000f>to</text> <text style=background-color:#00ff0018>anyone</text> <text style=background-color:#00ff0013>i</text> <text style=background-color:#00ff001b>know</text> <text style=background-color:#00ff0021>because</text> <text style=background-color:#00ff001f>it</text> <text style=background-color:#00ff0019>is</text> <text style=background-color:#00ff001d>not</text> <text style=background-color:#00ff0019>an</text> <text style=background-color:#00ff0033>intellectual</text> <text style=background-color:#00ff0023>movie</text> <text style=background-color:#00ff001f>it</text> <text style=background-color:#00ff0019>is</text> <text style=background-color:#00ff001d>not</text> <text style=background-color:#00ff0005>a</text> <text style=background-color:#00ff0015>chick</text> <text style=background-color:#00ff000d>flick</text> <text style=background-color:#00ff001f>it</text> <text style=background-color:#00ff0019>is</text> <text style=background-color:#00ff001d>not</text> <text style=background-color:#00ff0005>a</text> <text style=background-color:#00ff0011>strict</text> <text style=background-color:#00ff00ff>romantic</text> <text style=background-color:#00ff002b>and</text> <text style=background-color:#00ff0013>i</text> <text style=background-color:#00ff001e>can</text> <text style=background-color:#00ff0002>t</text> <text style=background-color:#00ff0013>show</text> <text style=background-color:#00ff0022>kids</text> <text style=background-color:#00ff0021>because</text> <text style=background-color:#00ff0021>of</text> <text style=background-color:#00ff0021>the</text> <text style=background-color:#00ff0026>sex</text> <text style=background-color:#00ff002b>and</text> <text style=background-color:#00ff000c>questions</text> <text style=background-color:#00ff000f>to</text> <text style=background-color:#00ff0007>follow</text> <text style=background-color:#00ff0026>all</text> <text style=background-color:#00ff000b>in</text> <text style=background-color:#00ff0026>all</text> <text style=background-color:#00ff0019>just</text> <text style=background-color:#00ff001d>not</text> <text style=background-color:#00ff0005>a</text> <text style=background-color:#00ff0043>good</text> <text style=background-color:#00ff000d>flick</text> <br> <text style=background-color:#00ff000d>i</text> <text style=background-color:#00ff0001>m</text> <text style=background-color:#00ff0006>biased</text> <text style=background-color:#00ff0013>towards</text> <text style=background-color:#00ff0018>any</text> <text style=background-color:#00ff001b>movie</text> <text style=background-color:#00ff0016>that</text> <text style=background-color:#00ff0001>paints</text> <text style=background-color:#00ff0003>a</text> <text style=background-color:#00ff0000>luxuriant</text> <text style=background-color:#00ff0018>picture</text> <text style=background-color:#00ff001a>of</text> <text style=background-color:#00ff0001>italy</text> <text style=background-color:#00ff0007>in</text> <text style=background-color:#00ff0021>my</text> <text style=background-color:#00ff000a>opinion</text> <text style=background-color:#00ff001a>the</text> <text style=background-color:#00ff0029>most</text> <text style=background-color:#00ff00ff>romantic</text> <text style=background-color:#00ff0014>country</text> <text style=background-color:#00ff0007>in</text> <text style=background-color:#00ff001a>the</text> <text style=background-color:#00ff0025>world</text> <text style=background-color:#00ff000a>unfortunately</text> <text style=background-color:#00ff001a>the</text> <text style=background-color:#00ff001b>movie</text> <text style=background-color:#00ff0007>was</text> <text style=background-color:#00ff0024>rather</text> <text style=background-color:#00ff001f>short</text> <text style=background-color:#00ff0001>unusually</text> <text style=background-color:#00ff000f>so</text> <text style=background-color:#00ff0017>for</text> <text style=background-color:#00ff0003>a</text> <text style=background-color:#00ff0010>period</text> <text style=background-color:#00ff001f>piece</text> <text style=background-color:#00ff0022>and</text> <text style=background-color:#00ff0003>a</text> <text style=background-color:#00ff003a>little</text> <text style=background-color:#00ff0000>sparse</text> <text style=background-color:#00ff0009>on</text> <text style=background-color:#00ff001a>the</text> <text style=background-color:#00ff0006>cinematography</text> <text style=background-color:#00ff001d>aspect</text> <text style=background-color:#00ff0018>however</text> <text style=background-color:#00ff001a>the</text> <text style=background-color:#00ff002a>excellent</text> <text style=background-color:#00ff0028>story</text> <text style=background-color:#00ff0029>makes</text> <text style=background-color:#00ff000d>up</text> <text style=background-color:#00ff0017>for</text> <text style=background-color:#00ff0018>it</text> <text style=background-color:#00ff001a>the</text> <text style=background-color:#00ff0006>four</text> <text style=background-color:#00ff0030>ladies</text> <text style=background-color:#00ff0005>embark</text> <text style=background-color:#00ff0009>on</text> <text style=background-color:#00ff0003>a</text> <text style=background-color:#00ff0024>much</text> <text style=background-color:#00ff0010>needed</text> <text style=background-color:#00ff0031>relaxing</text> <text style=background-color:#00ff001e>vacation</text> <text style=background-color:#00ff0024>with</text> <text style=background-color:#00ff0014>problems</text> <text style=background-color:#00ff0009>on</text> <text style=background-color:#00ff001d>their</text> <text style=background-color:#00ff003a>minds</text> <text style=background-color:#00ff0005>over</text> <text style=background-color:#00ff001a>the</text> <text style=background-color:#00ff001e>course</text> <text style=background-color:#00ff001a>of</text> <text style=background-color:#00ff001a>the</text> <text style=background-color:#00ff001b>movie</text> <text style=background-color:#00ff000f>they</text> <text style=background-color:#00ff0014>realize</text> <text style=background-color:#00ff001d>their</text> <text style=background-color:#00ff0014>problems</text> <text style=background-color:#00ff0022>and</text> <text style=background-color:#00ff0006>begin</text> <text style=background-color:#00ff0002>fixing</text> <text style=background-color:#00ff000c>them</text> <text style=background-color:#00ff000f>they</text> <text style=background-color:#00ff000d>believe</text> <text style=background-color:#00ff0000>san</text> <text style=background-color:#00ff0000>salvatore</text> <text style=background-color:#00ff001a>the</text> <text style=background-color:#00ff0007>castle</text> <text style=background-color:#00ff000f>they</text> <text style=background-color:#00ff001e>stay</text> <text style=background-color:#00ff0007>in</text> <text style=background-color:#00ff0004>has</text> <text style=background-color:#00ff0012>an</text> <text style=background-color:#00ff0018>enchanting</text> <text style=background-color:#00ff0013>effect</text> <text style=background-color:#00ff0009>on</text> <text style=background-color:#00ff0019>people</text> <text style=background-color:#00ff0018>it</text> <text style=background-color:#00ff0001>s</text> <text style=background-color:#00ff0003>a</text> <text style=background-color:#00ff0005>tub</text> <text style=background-color:#00ff001a>of</text> <text style=background-color:#00ff002d>love</text> <text style=background-color:#00ff0002>says</text> <text style=background-color:#00ff0000>lottie</text> <text style=background-color:#00ff0000>wilkins</text> <text style=background-color:#00ff0020>you</text> <text style=background-color:#00ff0017>can</text> <text style=background-color:#00ff000b>watch</text> <text style=background-color:#00ff001d>their</text> <text style=background-color:#00ff0001>gradual</text> <text style=background-color:#00ff0016>change</text> <text style=background-color:#00ff0011>from</text> <text style=background-color:#00ff0001>dissatisfied</text> <text style=background-color:#00ff000a>to</text> <text style=background-color:#00ff0002>exuberant</text> <text style=background-color:#00ff0006>as</text> <text style=background-color:#00ff001a>the</text> <text style=background-color:#00ff000b>italian</text> <text style=background-color:#00ff0004>seaside</text> <text style=background-color:#00ff0014>works</text> <text style=background-color:#00ff0017>its</text> <text style=background-color:#00ff0017>magic</text> <text style=background-color:#00ff0009>on</text> <text style=background-color:#00ff000c>them</text> <text style=background-color:#00ff0000>br</text> <text style=background-color:#00ff0000>br</text> <text style=background-color:#00ff001e>all</text> <text style=background-color:#00ff001d>their</text> <text style=background-color:#00ff0014>problems</text> <text style=background-color:#00ff0022>and</text> <text style=background-color:#00ff001d>their</text> <text style=background-color:#00ff0003>solutions</text> <text style=background-color:#00ff0017>are</text> <text style=background-color:#00ff0001>plausible</text> <text style=background-color:#00ff001a>the</text> <text style=background-color:#00ff0008>actresses</text> <text style=background-color:#00ff000c>were</text> <text style=background-color:#00ff0042>great</text> <text style=background-color:#00ff001a>the</text> <text style=background-color:#00ff0012>background</text> <text style=background-color:#00ff0025>music</text> <text style=background-color:#00ff000c>seemed</text> <text style=background-color:#00ff003a>very</text> <text style=background-color:#00ff001b>appropriate</text> <text style=background-color:#00ff0017>for</text> <text style=background-color:#00ff0012>an</text> <text style=background-color:#00ff00ff>romantic</text> <text style=background-color:#00ff000b>italian</text> <text style=background-color:#00ff0000>locale</text> <text style=background-color:#00ff001e>all</text> <text style=background-color:#00ff0007>in</text> <text style=background-color:#00ff001e>all</text> <text style=background-color:#00ff0003>a</text> <text style=background-color:#00ff001b>movie</text> <text style=background-color:#00ff0017>for</text> <text style=background-color:#00ff0001>me</text> <br> <text style=background-color:#00ff0023>the</text> <text style=background-color:#00ff0025>movie</text> <text style=background-color:#00ff0000>wasn</text> <text style=background-color:#00ff0002>t</text> <text style=background-color:#00ff0028>all</text> <text style=background-color:#00ff001f>that</text> <text style=background-color:#00ff004e>great</text> <text style=background-color:#00ff0023>the</text> <text style=background-color:#00ff0029>book</text> <text style=background-color:#00ff001b>is</text> <text style=background-color:#00ff002b>better</text> <text style=background-color:#00ff0024>but</text> <text style=background-color:#00ff0023>the</text> <text style=background-color:#00ff0025>movie</text> <text style=background-color:#00ff0000>wasn</text> <text style=background-color:#00ff0002>t</text> <text style=background-color:#00ff0028>all</text> <text style=background-color:#00ff001f>that</text> <text style=background-color:#00ff0022>bad</text> <text style=background-color:#00ff001b>either</text> <text style=background-color:#00ff0021>it</text> <text style=background-color:#00ff000d>was</text> <text style=background-color:#00ff002c>interesting</text> <text style=background-color:#00ff0010>to</text> <text style=background-color:#00ff0015>say</text> <text style=background-color:#00ff0023>the</text> <text style=background-color:#00ff0018>least</text> <text style=background-color:#00ff0023>the</text> <text style=background-color:#00ff000f>plot</text> <text style=background-color:#00ff000e>had</text> <text style=background-color:#00ff003b>enough</text> <text style=background-color:#00ff000f>suspense</text> <text style=background-color:#00ff0010>to</text> <text style=background-color:#00ff0027>keep</text> <text style=background-color:#00ff0002>me</text> <text style=background-color:#00ff001f>watching</text> <text style=background-color:#00ff0036>although</text> <text style=background-color:#00ff0014>i</text> <text style=background-color:#00ff0000>wouldn</text> <text style=background-color:#00ff0002>t</text> <text style=background-color:#00ff0015>say</text> <text style=background-color:#00ff0014>i</text> <text style=background-color:#00ff000d>was</text> <text style=background-color:#00ff001d>actually</text> <text style=background-color:#00ff0013>interested</text> <text style=background-color:#00ff000c>in</text> <text style=background-color:#00ff0023>the</text> <text style=background-color:#00ff0025>movie</text> <text style=background-color:#00ff0008>itself</text> <text style=background-color:#00ff0001>janine</text> <text style=background-color:#00ff0004>turner</text> <text style=background-color:#00ff002d>and</text> <text style=background-color:#00ff0000>antonio</text> <text style=background-color:#00ff0000>sabato</text> <text style=background-color:#00ff0002>jr</text> <text style=background-color:#00ff0020>are</text> <text style=background-color:#00ff001b>both</text> <text style=background-color:#00ff0044>gorgeous</text> <text style=background-color:#00ff003b>enough</text> <text style=background-color:#00ff0010>to</text> <text style=background-color:#00ff0027>keep</text> <text style=background-color:#00ff002a>you</text> <text style=background-color:#00ff001f>watching</text> <text style=background-color:#00ff0016>they</text> <text style=background-color:#00ff0024>have</text> <text style=background-color:#00ff0006>a</text> <text style=background-color:#00ff001b>few</text> <text style=background-color:#00ff002d>cute</text> <text style=background-color:#00ff002a>scene</text> <text style=background-color:#00ff0002>s</text> <text style=background-color:#00ff001f>that</text> <text style=background-color:#00ff0013>should</text> <text style=background-color:#00ff0006>appeal</text> <text style=background-color:#00ff0010>to</text> <text style=background-color:#00ff0023>the</text> <text style=background-color:#00ff00ff>romantic</text> <text style=background-color:#00ff0002>s</text> <text style=background-color:#00ff0013>overall</text> <text style=background-color:#00ff0014>i</text> <text style=background-color:#00ff0002>d</text> <text style=background-color:#00ff0022>give</text> <text style=background-color:#00ff0023>the</text> <text style=background-color:#00ff0025>movie</text> <text style=background-color:#00ff0006>a</text> <text style=background-color:#00ff0025>or</text> <text style=background-color:#00ff0021>it</text> <text style=background-color:#00ff0000>wasn</text> <text style=background-color:#00ff0002>t</text> <text style=background-color:#00ff0022>bad</text> <text style=background-color:#00ff001b>just</text> <text style=background-color:#00ff0006>a</text> <text style=background-color:#00ff0046>little</text> <text style=background-color:#00ff0013>lacking</text> <text style=background-color:#00ff000f>plot</text> <text style=background-color:#00ff003e>wise</text> <br> <text style=background-color:#00ff0003>ultimately</text> <text style=background-color:#00ff001a>too</text> <text style=background-color:#00ff0013>silly</text> <text style=background-color:#00ff001b>and</text> <text style=background-color:#00ff0005>pointless</text> <text style=background-color:#00ff000c>yes</text> <text style=background-color:#00ff0016>there</text> <text style=background-color:#00ff000d>is</text> <text style=background-color:#00ff0013>the</text> <text style=background-color:#00ff0000>gilded</text> <text style=background-color:#00ff0001>cage</text> <text style=background-color:#00ff0007>metaphor</text> <text style=background-color:#00ff0014>but</text> <text style=background-color:#00ff000a>probably</text> <text style=background-color:#00ff0021>most</text> <text style=background-color:#00ff0014>kids</text> <text style=background-color:#00ff000a>would</text> <text style=background-color:#00ff0013>miss</text> <text style=background-color:#00ff0010>that</text> <text style=background-color:#00ff0002>forgettable</text> <text style=background-color:#00ff0001>instantly</text> <text style=background-color:#00ff0000>br</text> <text style=background-color:#00ff0000>br</text> <text style=background-color:#00ff0007>animation</text> <text style=background-color:#00ff000d>is</text> <text style=background-color:#00ff0003>as</text> <text style=background-color:#00ff0006>we</text> <text style=background-color:#00ff0014>have</text> <text style=background-color:#00ff0003>come</text> <text style=background-color:#00ff0006>to</text> <text style=background-color:#00ff0012>expect</text> <text style=background-color:#00ff0005>super</text> <text style=background-color:#00ff0007>real</text> <text style=background-color:#00ff0013>the</text> <text style=background-color:#00ff0006>plot</text> <text style=background-color:#00ff0004>line</text> <text style=background-color:#00ff000b>could</text> <text style=background-color:#00ff002c>best</text> <text style=background-color:#00ff0017>be</text> <text style=background-color:#00ff0005>described</text> <text style=background-color:#00ff0003>as</text> <text style=background-color:#00ff000d>thin</text> <text style=background-color:#00ff0014>but</text> <text style=background-color:#00ff0003>tenacious</text> <text style=background-color:#00ff0022>although</text> <text style=background-color:#00ff0013>the</text> <text style=background-color:#00ff0028>ending</text> <text style=background-color:#00ff0008>seemed</text> <text style=background-color:#00ff0000>arbitrary</text> <text style=background-color:#00ff0006>to</text> <text style=background-color:#00ff0000>me</text> <text style=background-color:#00ff0000>br</text> <text style=background-color:#00ff0000>br</text> <text style=background-color:#00ff0013>the</text> <text style=background-color:#00ff0000>sewer</text> <text style=background-color:#00ff0000>underworld</text> <text style=background-color:#00ff000d>is</text> <text style=background-color:#00ff0001>a</text> <text style=background-color:#00ff0000>suitably</text> <text style=background-color:#00ff0004>disgusting</text> <text style=background-color:#00ff0024>reflection</text> <text style=background-color:#00ff0013>of</text> <text style=background-color:#00ff0013>the</text> <text style=background-color:#00ff001e>world</text> <text style=background-color:#00ff0006>above</text> <text style=background-color:#00ff001b>and</text> <text style=background-color:#00ff0006>somehow</text> <text style=background-color:#00ff0007>wealth</text> <text style=background-color:#00ff001b>and</text> <text style=background-color:#00ff0005>money</text> <text style=background-color:#00ff000b>seem</text> <text style=background-color:#00ff0006>to</text> <text style=background-color:#00ff0008>count</text> <text style=background-color:#00ff0011>for</text> <text style=background-color:#00ff0001>a</text> <text style=background-color:#00ff0019>lot</text> <text style=background-color:#00ff0016>there</text> <text style=background-color:#00ff001a>too</text> <text style=background-color:#00ff0004>oh</text> <text style=background-color:#00ff000c>yes</text> <text style=background-color:#00ff001b>and</text> <text style=background-color:#00ff0016>there</text> <text style=background-color:#00ff0000>s</text> <text style=background-color:#00ff0001>a</text> <text style=background-color:#00ff00ff>romantic</text> <text style=background-color:#00ff0007>interest</text> <text style=background-color:#00ff001d>with</text> <text style=background-color:#00ff0013>the</text> <text style=background-color:#00ff0016>female</text> <text style=background-color:#00ff0013>being</text> <text style=background-color:#00ff0013>the</text> <text style=background-color:#00ff0006>smarter</text> <text style=background-color:#00ff0025>more</text> <text style=background-color:#00ff0002>savvy</text> <text style=background-color:#00ff001b>and</text> <text style=background-color:#00ff0007>go</text> <text style=background-color:#00ff0007>getting</text> <text style=background-color:#00ff0013>of</text> <text style=background-color:#00ff0013>the</text> <text style=background-color:#00ff0002>pair</text> <text style=background-color:#00ff0013>this</text> <text style=background-color:#00ff0004>in</text> <text style=background-color:#00ff0002>itself</text> <text style=background-color:#00ff000d>is</text> <text style=background-color:#00ff0000>rapidly</text> <text style=background-color:#00ff0013>becoming</text> <text style=background-color:#00ff0001>a</text> <text style=background-color:#00ff0001>tiresome</text> <text style=background-color:#00ff0000>anti</text> <text style=background-color:#00ff0001>stereotype</text> <text style=background-color:#00ff000a>probably</text> <text style=background-color:#00ff0025>your</text> <text style=background-color:#00ff0014>kids</text> <text style=background-color:#00ff000a>will</text> <text style=background-color:#00ff0025>love</text> <text style=background-color:#00ff0012>it</text> <text style=background-color:#00ff000c>though</text> <br> <text style=background-color:#00ff0009>fever</text> <text style=background-color:#00ff000a>pitch</text> <text style=background-color:#00ff0017>is</text> <text style=background-color:#00ff0005>a</text> <text style=background-color:#00ff0049>fun</text> <text style=background-color:#00ff0036>enough</text> <text style=background-color:#00ff0021>movie</text> <text style=background-color:#00ff001d>it</text> <text style=background-color:#00ff0006>has</text> <text style=background-color:#00ff0005>a</text> <text style=background-color:#00ff0027>lot</text> <text style=background-color:#00ff001f>of</text> <text style=background-color:#00ff0016>funny</text> <text style=background-color:#00ff0035>moments</text> <text style=background-color:#00ff000c>including</text> <text style=background-color:#00ff0005>a</text> <text style=background-color:#00ff0001>hilariously</text> <text style=background-color:#00ff0010>disturbing</text> <text style=background-color:#00ff001a>shower</text> <text style=background-color:#00ff0026>scene</text> <text style=background-color:#00ff0019>like</text> <text style=background-color:#00ff002f>most</text> <text style=background-color:#00ff00ff>romantic</text> <text style=background-color:#00ff000c>comedies</text> <text style=background-color:#00ff001d>it</text> <text style=background-color:#00ff0006>has</text> <text style=background-color:#00ff0005>a</text> <text style=background-color:#00ff0008>dead</text> <text style=background-color:#00ff000a>zone</text> <text style=background-color:#00ff000a>in</text> <text style=background-color:#00ff001f>the</text> <text style=background-color:#00ff0010>middle</text> <text style=background-color:#00ff0016>where</text> <text style=background-color:#00ff0024>all</text> <text style=background-color:#00ff001f>the</text> <text style=background-color:#00ff0010>heavy</text> <text style=background-color:#00ff0014>she</text> <text style=background-color:#00ff0001>s</text> <text style=background-color:#00ff0006>breaking</text> <text style=background-color:#00ff0012>up</text> <text style=background-color:#00ff002b>with</text> <text style=background-color:#00ff0002>me</text> <text style=background-color:#00ff0026>stuff</text> <text style=background-color:#00ff0019>happens</text> <text style=background-color:#00ff0020>but</text> <text style=background-color:#00ff0021>other</text> <text style=background-color:#00ff0028>than</text> <text style=background-color:#00ff001b>that</text> <text style=background-color:#00ff001d>it</text> <text style=background-color:#00ff0007>continues</text> <text style=background-color:#00ff000d>to</text> <text style=background-color:#00ff0024>be</text> <text style=background-color:#00ff0016>funny</text> <text style=background-color:#00ff0016>until</text> <text style=background-color:#00ff001f>the</text> <text style=background-color:#00ff001a>end</text> <text style=background-color:#00ff0000>br</text> <text style=background-color:#00ff0000>br</text> <text style=background-color:#00ff0013>even</text> <text style=background-color:#00ff0016>though</text> <text style=background-color:#00ff001f>the</text> <text style=background-color:#00ff000d>plot</text> <text style=background-color:#00ff0004>revolves</text> <text style=background-color:#00ff0014>around</text> <text style=background-color:#00ff0004>fanaticism</text> <text style=background-color:#00ff0018>towards</text> <text style=background-color:#00ff001f>the</text> <text style=background-color:#00ff000a>red</text> <text style=background-color:#00ff0000>sox</text> <text style=background-color:#00ff001d>it</text> <text style=background-color:#00ff0001>s</text> <text style=background-color:#00ff001b>not</text> <text style=background-color:#00ff0003>overloaded</text> <text style=background-color:#00ff002b>with</text> <text style=background-color:#00ff0007>sports</text> <text style=background-color:#00ff0026>you</text> <text style=background-color:#00ff0003>don</text> <text style=background-color:#00ff0002>t</text> <text style=background-color:#00ff0020>have</text> <text style=background-color:#00ff000d>to</text> <text style=background-color:#00ff0024>be</text> <text style=background-color:#00ff0005>a</text> <text style=background-color:#00ff000b>fan</text> <text style=background-color:#00ff000d>to</text> <text style=background-color:#00ff0051>enjoy</text> <text style=background-color:#00ff001f>this</text> <text style=background-color:#00ff000f>film</text> <text style=background-color:#00ff0000>br</text> <text style=background-color:#00ff0000>br</text> <text style=background-color:#00ff001f>of</text> <text style=background-color:#00ff0024>course</text> <text style=background-color:#00ff001b>that</text> <text style=background-color:#00ff0001>s</text> <text style=background-color:#00ff002e>easy</text> <text style=background-color:#00ff001c>for</text> <text style=background-color:#00ff0002>me</text> <text style=background-color:#00ff000d>to</text> <text style=background-color:#00ff0012>say</text> <text style=background-color:#00ff0011>i</text> <text style=background-color:#00ff0000>ve</text> <text style=background-color:#00ff000e>been</text> <text style=background-color:#00ff0005>a</text> <text style=background-color:#00ff000a>red</text> <text style=background-color:#00ff0000>sox</text> <text style=background-color:#00ff000b>fan</text> <text style=background-color:#00ff000e>since</text> <text style=background-color:#00ff0011>i</text> <text style=background-color:#00ff000a>was</text> <text style=background-color:#00ff0005>a</text> <text style=background-color:#00ff001c>boy</text> <text style=background-color:#00ff0027>too</text> <text style=background-color:#00ff0000>br</text> <text style=background-color:#00ff0000>br</text> <text style=background-color:#00ff0013>out</text> <text style=background-color:#00ff001f>of</text> <text style=background-color:#00ff0000>br</text> <text style=background-color:#00ff0000>br</text> <text style=background-color:#00ff0000>barky</text> <br> <text style=background-color:#00ff001f>the</text> <text style=background-color:#00ff0007>pioneering</text> <text style=background-color:#00ff0005>technicolor</text> <text style=background-color:#00ff0009>cinematography</text> <text style=background-color:#00ff000c>winner</text> <text style=background-color:#00ff001f>of</text> <text style=background-color:#00ff0054>special</text> <text style=background-color:#00ff0004>technical</text> <text style=background-color:#00ff0014>achievement</text> <text style=background-color:#00ff0003>oscar</text> <text style=background-color:#00ff0017>is</text> <text style=background-color:#00ff0037>indeed</text> <text style=background-color:#00ff001e>enchanting</text> <text style=background-color:#00ff0007>add</text> <text style=background-color:#00ff0017>an</text> <text style=background-color:#00ff003e>endless</text> <text style=background-color:#00ff0048>variety</text> <text style=background-color:#00ff001f>of</text> <text style=background-color:#00ff0032>glamorous</text> <text style=background-color:#00ff000b>costumes</text> <text style=background-color:#00ff0029>and</text> <text style=background-color:#00ff0005>a</text> <text style=background-color:#00ff00ff>romantic</text> <text style=background-color:#00ff0002>cinema</text> <text style=background-color:#00ff006b>dream</text> <text style=background-color:#00ff000a>team</text> <text style=background-color:#00ff0019>like</text> <text style=background-color:#00ff0000>marlene</text> <text style=background-color:#00ff0000>dietrich</text> <text style=background-color:#00ff0029>and</text> <text style=background-color:#00ff0003>charles</text> <text style=background-color:#00ff0000>boyer</text> <text style=background-color:#00ff0029>and</text> <text style=background-color:#00ff0026>you</text> <text style=background-color:#00ff0000>ve</text> <text style=background-color:#00ff000b>got</text> <text style=background-color:#00ff0005>a</text> <text style=background-color:#00ff002a>rather</text> <text style=background-color:#00ff0031>pleasant</text> <text style=background-color:#00ff001d>picture</text> <text style=background-color:#00ff0000>br</text> <text style=background-color:#00ff0000>br</text> <text style=background-color:#00ff000e>unfortunately</text> <text style=background-color:#00ff001f>the</text> <text style=background-color:#00ff0001>contrived</text> <text style=background-color:#00ff000d>plot</text> <text style=background-color:#00ff0008>as</text> <text style=background-color:#00ff001c>well</text> <text style=background-color:#00ff0008>as</text> <text style=background-color:#00ff001f>the</text> <text style=background-color:#00ff0007>over</text> <text style=background-color:#00ff0007>blown</text> <text style=background-color:#00ff0020>acting</text> <text style=background-color:#00ff0012>leave</text> <text style=background-color:#00ff002b>much</text> <text style=background-color:#00ff000d>to</text> <text style=background-color:#00ff0024>be</text> <text style=background-color:#00ff0010>desired</text> <text style=background-color:#00ff0015>still</text> <text style=background-color:#00ff0022>there</text> <text style=background-color:#00ff0020>have</text> <text style=background-color:#00ff001b>not</text> <text style=background-color:#00ff000e>been</text> <text style=background-color:#00ff001d>any</text> <text style=background-color:#00ff0034>more</text> <text style=background-color:#00ff0018>breathtaking</text> <text style=background-color:#00ff0005>technicolor</text> <text style=background-color:#00ff000f>films</text> <text style=background-color:#00ff0015>before</text> <text style=background-color:#00ff001f>this</text> <text style=background-color:#00ff001e>one</text> <text style=background-color:#00ff0029>and</text> <text style=background-color:#00ff0041>very</text> <text style=background-color:#00ff0018>few</text> <text style=background-color:#00ff000e>since</text> <text style=background-color:#00ff0017>then</text> <text style=background-color:#00ff001b>that</text> <text style=background-color:#00ff001c>can</text> <text style=background-color:#00ff000d>top</text> <text style=background-color:#00ff001f>this</text> <text style=background-color:#00ff0018>breathtaking</text> <text style=background-color:#00ff0014>visual</text> <text style=background-color:#00ff0046>experience</text> <text style=background-color:#00ff001f>of</text> <text style=background-color:#00ff0031>stunning</text> <text style=background-color:#00ff0016>colors</text> <text style=background-color:#00ff0002>cinema</text> <text style=background-color:#00ff0009>fans</text> <text style=background-color:#00ff0016>who</text> <text style=background-color:#00ff0020>have</text> <text style=background-color:#00ff0031>enjoyed</text> <text style=background-color:#00ff001f>the</text> <text style=background-color:#00ff0041>glorious</text> <text style=background-color:#00ff0007>color</text> <text style=background-color:#00ff0009>cinematography</text> <text style=background-color:#00ff000a>in</text> <text style=background-color:#00ff0004>robin</text> <text style=background-color:#00ff0008>hood</text> <text style=background-color:#00ff0003>jesse</text> <text style=background-color:#00ff0004>james</text> <text style=background-color:#00ff0029>and</text> <text style=background-color:#00ff0008>gone</text> <text style=background-color:#00ff002b>with</text> <text style=background-color:#00ff001f>the</text> <text style=background-color:#00ff0001>wind</text> <text style=background-color:#00ff0013>will</text> <text style=background-color:#00ff001b>not</text> <text style=background-color:#00ff0024>be</text> <text style=background-color:#00ff000e>disappointed</text> <text style=background-color:#00ff000a>in</text> <text style=background-color:#00ff001f>the</text> <text style=background-color:#00ff0051>fantastic</text> <text style=background-color:#00ff001f>work</text> <text style=background-color:#00ff0013>done</text> <text style=background-color:#00ff001a>here</text> <text style=background-color:#00ff001f>the</text> <text style=background-color:#00ff0019>garden</text> <text style=background-color:#00ff001f>of</text> <text style=background-color:#00ff0002>allah</text> <text style=background-color:#00ff0013>will</text> <text style=background-color:#00ff0031>always</text> <text style=background-color:#00ff0024>be</text> <text style=background-color:#00ff0004>synonymous</text> <text style=background-color:#00ff002b>with</text> <text style=background-color:#00ff002f>brilliant</text> <text style=background-color:#00ff0007>color</text> <text style=background-color:#00ff0009>cinematography</text> <br> <text style=background-color:#00ff000b>i</text> <text style=background-color:#00ff0004>went</text> <text style=background-color:#00ff0008>to</text> <text style=background-color:#00ff0012>see</text> <text style=background-color:#00ff0005>fever</text> <text style=background-color:#00ff0006>pitch</text> <text style=background-color:#00ff0020>with</text> <text style=background-color:#00ff001d>my</text> <text style=background-color:#00ff0018>mom</text> <text style=background-color:#00ff001f>and</text> <text style=background-color:#00ff000b>i</text> <text style=background-color:#00ff0014>can</text> <text style=background-color:#00ff000b>say</text> <text style=background-color:#00ff0013>that</text> <text style=background-color:#00ff0008>we</text> <text style=background-color:#00ff0010>both</text> <text style=background-color:#00ff002f>loved</text> <text style=background-color:#00ff0014>it</text> <text style=background-color:#00ff0014>it</text> <text style=background-color:#00ff0000>wasn</text> <text style=background-color:#00ff0001>t</text> <text style=background-color:#00ff0016>the</text> <text style=background-color:#00ff0011>typical</text> <text style=background-color:#00ff00ff>romantic</text> <text style=background-color:#00ff0016>comedy</text> <text style=background-color:#00ff000f>where</text> <text style=background-color:#00ff0017>someone</text> <text style=background-color:#00ff000f>is</text> <text style=background-color:#00ff0000>pining</text> <text style=background-color:#00ff0014>for</text> <text style=background-color:#00ff0016>the</text> <text style=background-color:#00ff0017>other</text> <text style=background-color:#00ff001f>and</text> <text style=background-color:#00ff0001>blah</text> <text style=background-color:#00ff0001>blah</text> <text style=background-color:#00ff0001>blah</text> <text style=background-color:#00ff001c>you</text> <text style=background-color:#00ff0000>weren</text> <text style=background-color:#00ff0001>t</text> <text style=background-color:#00ff0014>waiting</text> <text style=background-color:#00ff0014>for</text> <text style=background-color:#00ff0016>the</text> <text style=background-color:#00ff0000>climatic</text> <text style=background-color:#00ff0016>first</text> <text style=background-color:#00ff001d>kiss</text> <text style=background-color:#00ff0018>or</text> <text style=background-color:#00ff0014>for</text> <text style=background-color:#00ff000a>them</text> <text style=background-color:#00ff0008>to</text> <text style=background-color:#00ff0008>finally</text> <text style=background-color:#00ff000b>get</text> <text style=background-color:#00ff0020>together</text> <text style=background-color:#00ff0014>it</text> <text style=background-color:#00ff0006>was</text> <text style=background-color:#00ff0029>more</text> <text style=background-color:#00ff0009>real</text> <text style=background-color:#00ff0016>because</text> <text style=background-color:#00ff001c>you</text> <text style=background-color:#00ff000c>saw</text> <text style=background-color:#00ff000a>them</text> <text style=background-color:#00ff000e>through</text> <text style=background-color:#00ff0016>the</text> <text style=background-color:#00ff0044>relationship</text> <text style=background-color:#00ff0020>rather</text> <text style=background-color:#00ff001e>than</text> <text style=background-color:#00ff0016>the</text> <text style=background-color:#00ff0017>whole</text> <text style=background-color:#00ff0018>movie</text> <text style=background-color:#00ff001a>be</text> <text style=background-color:#00ff0019>about</text> <text style=background-color:#00ff000a>them</text> <text style=background-color:#00ff0009>getting</text> <text style=background-color:#00ff0020>together</text> <text style=background-color:#00ff0015>people</text> <text style=background-color:#00ff000d>could</text> <text style=background-color:#00ff0011>actually</text> <text style=background-color:#00ff000e>relate</text> <text style=background-color:#00ff0008>to</text> <text style=background-color:#00ff0016>the</text> <text style=background-color:#00ff0009>film</text> <text style=background-color:#00ff0016>because</text> <text style=background-color:#00ff0014>it</text> <text style=background-color:#00ff0000>didn</text> <text style=background-color:#00ff0001>t</text> <text style=background-color:#00ff000d>seem</text> <text style=background-color:#00ff0011>like</text> <text style=background-color:#00ff0047>extraordinary</text> <text style=background-color:#00ff000f>circumstances</text> <text style=background-color:#00ff0018>or</text> <text style=background-color:#00ff0017>impossible</text> <text style=background-color:#00ff000d>situations</text> <text style=background-color:#00ff0014>it</text> <text style=background-color:#00ff0006>was</text> <text style=background-color:#00ff0014>really</text> <text style=background-color:#00ff000f>funny</text> <text style=background-color:#00ff001f>and</text> <text style=background-color:#00ff000b>i</text> <text style=background-color:#00ff0011>think</text> <text style=background-color:#00ff0014>it</text> <text style=background-color:#00ff0006>was</text> <text style=background-color:#00ff0002>jimmy</text> <text style=background-color:#00ff0000>fallon</text> <text style=background-color:#00ff0000>s</text> <text style=background-color:#00ff0031>best</text> <text style=background-color:#00ff001d>performance</text> <text style=background-color:#00ff001a>all</text> <text style=background-color:#00ff0005>in</text> <text style=background-color:#00ff001a>all</text> <text style=background-color:#00ff000b>i</text> <text style=background-color:#00ff000c>would</text> <text style=background-color:#00ff0019>definitely</text> <text style=background-color:#00ff000e>recommend</text> <text style=background-color:#00ff0014>it</text> <br> <text style=background-color:#00ff0015>i</text> <text style=background-color:#00ff000e>watched</text> <text style=background-color:#00ff0024>the</text> <text style=background-color:#00ff0025>movie</text> <text style=background-color:#00ff0020>while</text> <text style=background-color:#00ff0005>recovering</text> <text style=background-color:#00ff0019>from</text> <text style=background-color:#00ff0019>major</text> <text style=background-color:#00ff000a>surgery</text> <text style=background-color:#00ff0020>while</text> <text style=background-color:#00ff0015>i</text> <text style=background-color:#00ff0010>knew</text> <text style=background-color:#00ff0022>it</text> <text style=background-color:#00ff000d>was</text> <text style=background-color:#00ff0024>only</text> <text style=background-color:#00ff0006>a</text> <text style=background-color:#00ff0005>b</text> <text style=background-color:#00ff0012>film</text> <text style=background-color:#00ff0006>a</text> <text style=background-color:#00ff001a>space</text> <text style=background-color:#00ff000a>western</text> <text style=background-color:#00ff0015>i</text> <text style=background-color:#00ff0040>loved</text> <text style=background-color:#00ff0022>it</text> <text style=background-color:#00ff0022>it</text> <text style=background-color:#00ff001b>may</text> <text style=background-color:#00ff0025>have</text> <text style=background-color:#00ff0006>lacked</text> <text style=background-color:#00ff0024>the</text> <text style=background-color:#00ff0005>flash</text> <text style=background-color:#00ff0024>of</text> <text style=background-color:#00ff0018>high</text> <text style=background-color:#00ff0002>dollar</text> <text style=background-color:#00ff0007>productions</text> <text style=background-color:#00ff0022>it</text> <text style=background-color:#00ff0001>non</text> <text style=background-color:#00ff0024>the</text> <text style=background-color:#00ff0024>less</text> <text style=background-color:#00ff0007>held</text> <text style=background-color:#00ff002d>my</text> <text style=background-color:#00ff0042>imagination</text> <text style=background-color:#00ff002e>and</text> <text style=background-color:#00ff000a>provided</text> <text style=background-color:#00ff004f>great</text> <text style=background-color:#00ff0002>escapism</text> <text style=background-color:#00ff000e>sadly</text> <text style=background-color:#00ff0036>our</text> <text style=background-color:#00ff0022>society</text> <text style=background-color:#00ff0009>has</text> <text style=background-color:#00ff0017>so</text> <text style=background-color:#00ff0030>much</text> <text style=background-color:#00ff000c>available</text> <text style=background-color:#00ff0000>discounting</text> <text style=background-color:#00ff002f>small</text> <text style=background-color:#00ff0006>attempts</text> <text style=background-color:#00ff001b>is</text> <text style=background-color:#00ff002c>too</text> <text style=background-color:#00ff0033>easy</text> <text style=background-color:#00ff000d>in</text> <text style=background-color:#00ff0024>the</text> <text style=background-color:#00ff0025>same</text> <text style=background-color:#00ff002c>way</text> <text style=background-color:#00ff0020>that</text> <text style=background-color:#00ff0015>i</text> <text style=background-color:#00ff0021>can</text> <text style=background-color:#00ff0057>enjoy</text> <text style=background-color:#00ff0006>a</text> <text style=background-color:#00ff0017>even</text> <text style=background-color:#00ff0006>a</text> <text style=background-color:#00ff000a>grade</text> <text style=background-color:#00ff000d>school</text> <text style=background-color:#00ff002c>performance</text> <text style=background-color:#00ff0024>of</text> <text style=background-color:#00ff000b>shakespeare</text> <text style=background-color:#00ff0015>i</text> <text style=background-color:#00ff0021>can</text> <text style=background-color:#00ff0047>appreciate</text> <text style=background-color:#00ff001e>many</text> <text style=background-color:#00ff0009>levels</text> <text style=background-color:#00ff0024>of</text> <text style=background-color:#00ff0018>achievement</text> <text style=background-color:#00ff0021>for</text> <text style=background-color:#00ff0024>the</text> <text style=background-color:#00ff0031>art</text> <text style=background-color:#00ff000f>sake</text> <text style=background-color:#00ff0015>i</text> <text style=background-color:#00ff0010>am</text> <text style=background-color:#00ff0006>a</text> <text style=background-color:#00ff0003>cop</text> <text style=background-color:#00ff002e>and</text> <text style=background-color:#00ff0011>found</text> <text style=background-color:#00ff000c>affinity</text> <text style=background-color:#00ff0030>with</text> <text style=background-color:#00ff0024>the</text> <text style=background-color:#00ff0003>retired</text> <text style=background-color:#00ff0000>lapd</text> <text style=background-color:#00ff005f>dreams</text> <text style=background-color:#00ff001d>like</text> <text style=background-color:#00ff001a>his</text> <text style=background-color:#00ff0009>haunt</text> <text style=background-color:#00ff0003>me</text> <text style=background-color:#00ff0020>that</text> <text style=background-color:#00ff0015>i</text> <text style=background-color:#00ff0017>will</text> <text style=background-color:#00ff0029>be</text> <text style=background-color:#00ff0006>unable</text> <text style=background-color:#00ff000d>in</text> <text style=background-color:#00ff0024>the</text> <text style=background-color:#00ff0032>moment</text> <text style=background-color:#00ff0024>of</text> <text style=background-color:#00ff0000>crisis</text> <text style=background-color:#00ff0029>be</text> <text style=background-color:#00ff0020>able</text> <text style=background-color:#00ff0011>to</text> <text style=background-color:#00ff0004>respond</text> <text style=background-color:#00ff0011>to</text> <text style=background-color:#00ff0012>save</text> <text style=background-color:#00ff0029>another</text> <text style=background-color:#00ff0002>s</text> <text style=background-color:#00ff0049>life</text> <text style=background-color:#00ff0026>or</text> <text style=background-color:#00ff002d>my</text> <text style=background-color:#00ff002c>own</text> <text style=background-color:#00ff0020>while</text> <text style=background-color:#00ff0022>it</text> <text style=background-color:#00ff000d>was</text> <text style=background-color:#00ff0006>a</text> <text style=background-color:#00ff00ff>romantic</text> <text style=background-color:#00ff003d>ending</text> <text style=background-color:#00ff001a>where</text> <text style=background-color:#00ff0000>farnsworth</text> <text style=background-color:#00ff000e>did</text> <text style=background-color:#00ff0022>take</text> <text style=background-color:#00ff0017>out</text> <text style=background-color:#00ff0024>the</text> <text style=background-color:#00ff0023>bad</text> <text style=background-color:#00ff0021>guy</text> <text style=background-color:#00ff0010>predictable</text> <text style=background-color:#00ff0015>i</text> <text style=background-color:#00ff0019>needed</text> <text style=background-color:#00ff0006>a</text> <text style=background-color:#00ff0047>little</text> <text style=background-color:#00ff003f>happy</text> <text style=background-color:#00ff0035>romance</text> <text style=background-color:#00ff001a>where</text> <text style=background-color:#00ff0046>good</text> <text style=background-color:#00ff0021>can</text> <text style=background-color:#00ff0008>triumph</text> <text style=background-color:#00ff002d>my</text> <text style=background-color:#00ff0031>world</text> <text style=background-color:#00ff001b>is</text> <text style=background-color:#00ff0022>really</text> <text style=background-color:#00ff002c>too</text> <text style=background-color:#00ff000d>cynical</text> <br> <text style=background-color:#00ff0011>i</text> <text style=background-color:#00ff000d>found</text> <text style=background-color:#00ff001f>this</text> <text style=background-color:#00ff000f>film</text> <text style=background-color:#00ff000d>to</text> <text style=background-color:#00ff0024>be</text> <text style=background-color:#00ff0017>an</text> <text style=background-color:#00ff0008>utter</text> <text style=background-color:#00ff0001>dissapointment</text> <text style=background-color:#00ff001f>the</text> <text style=background-color:#00ff0030>talent</text> <text style=background-color:#00ff0009>available</text> <text style=background-color:#00ff000d>to</text> <text style=background-color:#00ff001f>the</text> <text style=background-color:#00ff0002>director</text> <text style=background-color:#00ff0000>notably</text> <text style=background-color:#00ff0000>stanley</text> <text style=background-color:#00ff0000>tucci</text> <text style=background-color:#00ff0004>chris</text> <text style=background-color:#00ff0000>walken</text> <text style=background-color:#00ff0001>hank</text> <text style=background-color:#00ff0000>azaria</text> <text style=background-color:#00ff0029>and</text> <text style=background-color:#00ff0000>alan</text> <text style=background-color:#00ff0000>arkin</text> <text style=background-color:#00ff0024>without</text> <text style=background-color:#00ff0013>even</text> <text style=background-color:#00ff0002>mentioning</text> <text style=background-color:#00ff001f>the</text> <text style=background-color:#00ff0009>four</text> <text style=background-color:#00ff0004>main</text> <text style=background-color:#00ff0004>leads</text> <text style=background-color:#00ff0020>have</text> <text style=background-color:#00ff000e>been</text> <text style=background-color:#00ff000a>completely</text> <text style=background-color:#00ff0017>wasted</text> <text style=background-color:#00ff000c>on</text> <text style=background-color:#00ff0017>an</text> <text style=background-color:#00ff0004>unfunny</text> <text style=background-color:#00ff0007>mediocre</text> <text style=background-color:#00ff002f>story</text> <text style=background-color:#00ff002d>whose</text> <text style=background-color:#00ff0010>conclusion</text> <text style=background-color:#00ff001e>one</text> <text style=background-color:#00ff0000>couldn</text> <text style=background-color:#00ff0002>t</text> <text style=background-color:#00ff001d>really</text> <text style=background-color:#00ff0027>care</text> <text style=background-color:#00ff0022>about</text> <text style=background-color:#00ff0010>once</text> <text style=background-color:#00ff0003>introduced</text> <text style=background-color:#00ff000d>to</text> <text style=background-color:#00ff001f>the</text> <text style=background-color:#00ff0001>dire</text> <text style=background-color:#00ff0001>stereo</text> <text style=background-color:#00ff0000>typed</text> <text style=background-color:#00ff001e>characters</text> <text style=background-color:#00ff0002>julia</text> <text style=background-color:#00ff0003>roberts</text> <text style=background-color:#00ff0017>is</text> <text style=background-color:#00ff0001>feeble</text> <text style=background-color:#00ff0001>zeta</text> <text style=background-color:#00ff0004>jones</text> <text style=background-color:#00ff0017>is</text> <text style=background-color:#00ff0018>just</text> <text style=background-color:#00ff000b>plain</text> <text style=background-color:#00ff0011>annoying</text> <text style=background-color:#00ff0005>appearing</text> <text style=background-color:#00ff000d>to</text> <text style=background-color:#00ff0000>reprise</text> <text style=background-color:#00ff0012>her</text> <text style=background-color:#00ff000d>role</text> <text style=background-color:#00ff0015>from</text> <text style=background-color:#00ff0014>high</text> <text style=background-color:#00ff0001>fidelity</text> <text style=background-color:#00ff0018>minus</text> <text style=background-color:#00ff001f>the</text> <text style=background-color:#00ff0017>humour</text> <text style=background-color:#00ff0008>crystal</text> <text style=background-color:#00ff0018>just</text> <text style=background-color:#00ff0009>plays</text> <text style=background-color:#00ff0016>his</text> <text style=background-color:#00ff0021>same</text> <text style=background-color:#00ff0021>old</text> <text style=background-color:#00ff0013>hyper</text> <text style=background-color:#00ff0024>active</text> <text style=background-color:#00ff0002>neurotic</text> <text style=background-color:#00ff0011>annoying</text> <text style=background-color:#00ff0008>alter</text> <text style=background-color:#00ff0007>ego</text> <text style=background-color:#00ff0029>and</text> <text style=background-color:#00ff0000>cusack</text> <text style=background-color:#00ff0028>simply</text> <text style=background-color:#00ff000b>walks</text> <text style=background-color:#00ff0015>through</text> <text style=background-color:#00ff0016>his</text> <text style=background-color:#00ff002f>part</text> <text style=background-color:#00ff0009>apparently</text> <text style=background-color:#00ff000a>bored</text> <text style=background-color:#00ff002b>with</text> <text style=background-color:#00ff001f>the</text> <text style=background-color:#00ff0020>whole</text> <text style=background-color:#00ff001a>project</text> <text style=background-color:#00ff0000>br</text> <text style=background-color:#00ff0000>br</text> <text style=background-color:#00ff001d>for</text> <text style=background-color:#00ff001c>what</text> <text style=background-color:#00ff0017>is</text> <text style=background-color:#00ff0017>supposed</text> <text style=background-color:#00ff000d>to</text> <text style=background-color:#00ff0024>be</text> <text style=background-color:#00ff0005>a</text> <text style=background-color:#00ff00ff>romantic</text> <text style=background-color:#00ff001f>comedy</text> <text style=background-color:#00ff0022>there</text> <text style=background-color:#00ff0017>is</text> <text style=background-color:#00ff0017>absolutely</text> <text style=background-color:#00ff0000>no</text> <text style=background-color:#00ff0030>romance</text> <text style=background-color:#00ff0018>between</text> <text style=background-color:#00ff001f>the</text> <text style=background-color:#00ff0000>central</text> <text style=background-color:#00ff001e>characters</text> <text style=background-color:#00ff0019>let</text> <text style=background-color:#00ff0019>alone</text> <text style=background-color:#00ff000a>chemistry</text> <text style=background-color:#00ff0029>and</text> <text style=background-color:#00ff0008>as</text> <text style=background-color:#00ff001d>for</text> <text style=background-color:#00ff001f>the</text> <text style=background-color:#00ff001f>comedy</text> <text style=background-color:#00ff0015>possible</text> <text style=background-color:#00ff0001>spoilers</text> <text style=background-color:#00ff001c>well</text> <text style=background-color:#00ff001f>the</text> <text style=background-color:#00ff001f>only</text> <text style=background-color:#00ff0036>moments</text> <text style=background-color:#00ff001f>of</text> <text style=background-color:#00ff0010>mild</text> <text style=background-color:#00ff0017>humour</text> <text style=background-color:#00ff000c>came</text> <text style=background-color:#00ff0009>off</text> <text style=background-color:#00ff001f>the</text> <text style=background-color:#00ff0009>back</text> <text style=background-color:#00ff001f>of</text> <text style=background-color:#00ff0000>cusack</text> <text style=background-color:#00ff0001>s</text> <text style=background-color:#00ff000d>role</text> <text style=background-color:#00ff000a>in</text> <text style=background-color:#00ff0001>grosse</text> <text style=background-color:#00ff0001>pointe</text> <text style=background-color:#00ff0029>and</text> <text style=background-color:#00ff0016>his</text> <text style=background-color:#00ff0051>relationship</text> <text style=background-color:#00ff002b>with</text> <text style=background-color:#00ff0000>alan</text> <text style=background-color:#00ff0000>arkin</text> <text style=background-color:#00ff001f>the</text> <text style=background-color:#00ff0001>scriptwriter</text> <text style=background-color:#00ff000f>obviously</text> <text style=background-color:#00ff0004>unable</text> <text style=background-color:#00ff000d>to</text> <text style=background-color:#00ff0011>show</text> <text style=background-color:#00ff001e>any</text> <text style=background-color:#00ff0009>originality</text> <text style=background-color:#00ff0007>whatsoever</text> <text style=background-color:#00ff0001>spoilers</text> <text style=background-color:#00ff0000>azaria</text> <text style=background-color:#00ff000a>was</text> <text style=background-color:#00ff0004>reasonably</text> <text style=background-color:#00ff000c>amusing</text> <text style=background-color:#00ff0008>as</text> <text style=background-color:#00ff001f>the</text> <text style=background-color:#00ff000b>mexican</text> <text style=background-color:#00ff007d>lover</text> <text style=background-color:#00ff0029>and</text> <text style=background-color:#00ff0000>walken</text> <text style=background-color:#00ff000b>did</text> <text style=background-color:#00ff001a>quite</text> <text style=background-color:#00ff0017>an</text> <text style=background-color:#00ff000c>amusing</text> <text style=background-color:#00ff001c>turn</text> <text style=background-color:#00ff0008>as</text> <text style=background-color:#00ff0005>a</text> <text style=background-color:#00ff000c>parody</text> <text style=background-color:#00ff001f>of</text> <text style=background-color:#00ff0017>an</text> <text style=background-color:#00ff0000>arthouse</text> <text style=background-color:#00ff0000>maverick</text> <text style=background-color:#00ff0000>dogme</text> <text style=background-color:#00ff0029>type</text> <text style=background-color:#00ff0002>director</text> <text style=background-color:#00ff0020>but</text> <text style=background-color:#00ff0014>these</text> <text style=background-color:#00ff000f>parts</text> <text style=background-color:#00ff0000>constituted</text> <text style=background-color:#00ff0041>very</text> <text style=background-color:#00ff0042>little</text> <text style=background-color:#00ff0005>screen</text> <text style=background-color:#00ff0020>time</text> <text style=background-color:#00ff0029>and</text> <text style=background-color:#00ff0016>instead</text> <text style=background-color:#00ff0001>spoilers</text> <text style=background-color:#00ff000e>we</text> <text style=background-color:#00ff0010>were</text> <text style=background-color:#00ff0012>treated</text> <text style=background-color:#00ff000d>to</text> <text style=background-color:#00ff000c>billy</text> <text style=background-color:#00ff0008>crystal</text> <text style=background-color:#00ff0031>having</text> <text style=background-color:#00ff0016>his</text> <text style=background-color:#00ff0000>groin</text> <text style=background-color:#00ff0000>sniffed</text> <text style=background-color:#00ff0016>by</text> <text style=background-color:#00ff0005>a</text> <text style=background-color:#00ff0014>dog</text> <text style=background-color:#00ff0019>pure</text> <text style=background-color:#00ff0018>genius</text> <text style=background-color:#00ff0000>br</text> <text style=background-color:#00ff0000>br</text> <text style=background-color:#00ff001d>for</text> <text style=background-color:#00ff0005>a</text> <text style=background-color:#00ff0020>huge</text> <text style=background-color:#00ff000b>fan</text> <text style=background-color:#00ff001f>of</text> <text style=background-color:#00ff001f>the</text> <text style=background-color:#00ff0008>majority</text> <text style=background-color:#00ff001f>of</text> <text style=background-color:#00ff0007>john</text> <text style=background-color:#00ff0000>cusack</text> <text style=background-color:#00ff0001>s</text> <text style=background-color:#00ff001f>work</text> <text style=background-color:#00ff001b>not</text> <text style=background-color:#00ff000d>to</text> <text style=background-color:#00ff0007>mention</text> <text style=background-color:#00ff001f>the</text> <text style=background-color:#00ff0023>rest</text> <text style=background-color:#00ff001f>of</text> <text style=background-color:#00ff001f>the</text> <text style=background-color:#00ff0051>fantastic</text> <text style=background-color:#00ff0021>cast</text> <text style=background-color:#00ff0011>i</text> <text style=background-color:#00ff000a>was</text> <text style=background-color:#00ff000a>completely</text> <text style=background-color:#00ff0019>let</text> <text style=background-color:#00ff000a>down</text> <text style=background-color:#00ff0016>by</text> <text style=background-color:#00ff0005>a</text> <text style=background-color:#00ff000f>film</text> <text style=background-color:#00ff002b>with</text> <text style=background-color:#00ff0018>plenty</text> <text style=background-color:#00ff001f>of</text> <text style=background-color:#00ff0041>good</text> <text style=background-color:#00ff0013>ideas</text> <text style=background-color:#00ff0029>and</text> <text style=background-color:#00ff0013>at</text> <text style=background-color:#00ff001f>the</text> <text style=background-color:#00ff0021>same</text> <text style=background-color:#00ff0020>time</text> <text style=background-color:#00ff000a>completely</text> <text style=background-color:#00ff0002>unwilling</text> <text style=background-color:#00ff000d>to</text> <text style=background-color:#00ff001f>explore</text> <text style=background-color:#00ff0021>or</text> <text style=background-color:#00ff0014>elaborate</text> <text style=background-color:#00ff000c>on</text> <text style=background-color:#00ff001e>any</text> <text style=background-color:#00ff001f>of</text> <text style=background-color:#00ff0010>them</text> <text style=background-color:#00ff0016>instead</text> <text style=background-color:#00ff0000>resorting</text> <text style=background-color:#00ff000d>to</text> <text style=background-color:#00ff001f>the</text> <text style=background-color:#00ff0021>same</text> <text style=background-color:#00ff0021>old</text> <text style=background-color:#00ff0004>genre</text> <text style=background-color:#00ff0001>cliches</text> <text style=background-color:#00ff0029>and</text> <text style=background-color:#00ff0013>even</text> <text style=background-color:#00ff0001>lowering</text> <text style=background-color:#00ff0007>itself</text> <text style=background-color:#00ff000d>to</text> <text style=background-color:#00ff001f>the</text> <text style=background-color:#00ff000a>depths</text> <text style=background-color:#00ff001f>of</text> <text style=background-color:#00ff000e>almost</text> <text style=background-color:#00ff0004>gross</text> <text style=background-color:#00ff0013>out</text> <text style=background-color:#00ff0011>teen</text> <text style=background-color:#00ff0021>movie</text> <text style=background-color:#00ff0017>humour</text> <text style=background-color:#00ff0013>at</text> <text style=background-color:#00ff0010>times</text> <text style=background-color:#00ff0000>br</text> <text style=background-color:#00ff0000>br</text> <text style=background-color:#00ff0005>a</text> <text style=background-color:#00ff0041>very</text> <text style=background-color:#00ff0011>poor</text>"
      ],
      "text/plain": [
       "<IPython.core.display.HTML object>"
      ]
     },
     "execution_count": 123,
     "metadata": {},
     "output_type": "execute_result"
    }
   ],
   "source": [
    "html_print (\" <br> \".join (np.array (coloured_sents) [ordering [0:10]]))"
   ]
  },
  {
   "cell_type": "code",
   "execution_count": 602,
   "metadata": {},
   "outputs": [
    {
     "data": {
      "text/plain": [
       "array(['this was excellent touching action packed and perfect for kurt russel i loved this movie it deserves more than or so stars this movie is the story of an obsolete soldier who learns there is more to life than soldiering and people who learn that there is a time for fighting a need to defend i cried laughed and mostly sat in awe of this story good writing job for an action flick and the plot was appropriate and fairly solid the ending wasn t twisty but it was still excellent if you like escape from new york or rooting for the underdog this movie is for you not an undue amount of gore or violence it was not difficult to watch in that respect something for everyone',\n",
       "       'after gorging myself on a variety of seemingly immature movies purchased on ex rental dvds i figured that the time was right for a little serious drama and who better to provide it than sam mendes for a number of reasons american beauty doesn t appeal to me as much as this film which is easily the darkest thing that tom hanks has ever done and probably one of the most underrated films of the last decade for this is not a simple gangster tale lifted from its graphic novel origins and is simply wonderful to watch because of it and despite my usual allergy to any film with tom hanks name on it still can t watch big without wanting a cat to kick i m glad i gave this a try because this is one of those movies that you ll kick yourself for if you miss it br br normally squeaky clean hanks plays michael sullivan a devoted family man and father of two sons growing up during prohibition in the early s he is also a professional hit man to mob boss john rooney paul newman but has managed to keep his job a secret from his sons but after his eldest tyler hoechlin witnesses his dad involved in a mob killing the pair are forced to go on the run as john seeks to tidy the matter up soon father and son are pursued to chicago where a fellow hit man a menacing jude law is waiting for them br br on the face of it it reads like a pretty standard gangster film but as i ve said this isn t really about gangsters at all it s about the relationship between a father and son thrown together in the most tragic of circumstances hanks is grits teeth superb as the tortured man who finds out that everything has its price and little hoechlin is also good as sullivan s son in all honesty there is not a single performance that i could single out as weaker than the others the cast is pretty much faultless as is the cinematography and costumes and it s not often i praise costumes which recreates the s with stunning effect there has been so much effort to get everything right and it pays off in spades this could easily have looked rubbish they admit that the early s look was difficult to put down but it doesn t and that deserves every bit of credit chicago especially looks fantastic lined with hundreds of rickety cars from the era and filled with people in monochrome suits and hats true time travel even if a little cgi is needed br br the story is also a winner offering a human face to what is often seen as a stereotypical genre of movie villain law is surprisingly menacing as the almost mechanical killer maguire and proves that you don t have to be cagney or de niro or brando to play a gangster the film is decidedly noir ish driving rain and ill lit warehouses predominate but at least violence and killing are finally seen to have an emotional and psychological impact on those who perpetrate and those who merely witness such acts the whole thing is evocative of a previous age and previous movies but it sweeps away the old and refreshes with a modern tale of redemption amid the tommy gun shootouts and extortion rackets it can feel a little slow in places especially if you re used to masses of gun play in movies like most modern audiences like yours truly but sometimes words can speak louder than actions mendes has delivered a fine follow up to his oscar winning debut a film which is as intelligent as it is beautiful to watch road to perdition may not be to everyone s tastes but this is one dvd i shall not be exchanging anytime soon',\n",
       "       'if you find yourself in need of an escape something that will hold your attention for two hours and allow you to be lost in another world domino will satisfy that need this is entertainment after all the plot keeps your brain in motion one of those movies like usual suspects where you want to see it a second time to figure it all out i wondered about domino harvey herself how her life became of interest to hollywood as for the acting lots of celebrity appearances not shown in the trailers and any actor that makes me forget who they are has done their job well not once did i think of kiera in a soccer uniform or pirate costume and granted mickey rourke plays mickey rourke well and often but here despite the violence he shows signs of being capable of caring for other people',\n",
       "       ...,\n",
       "       'did sandra yes she must have know we would still be here for her some nine years later br br see it if you haven t again if you have see her live while you can',\n",
       "       'you d better choose paul verhoeven s even if you have watched it',\n",
       "       'long boring blasphemous never have i been so glad to see ending credits roll'],\n",
       "      dtype='<U8784')"
      ]
     },
     "execution_count": 602,
     "metadata": {},
     "output_type": "execute_result"
    }
   ],
   "source": [
    "np.array (imdb_task.texts['train'])[ordering]"
   ]
  },
  {
   "cell_type": "code",
   "execution_count": null,
   "metadata": {},
   "outputs": [],
   "source": []
  },
  {
   "cell_type": "code",
   "execution_count": null,
   "metadata": {},
   "outputs": [],
   "source": []
  },
  {
   "cell_type": "code",
   "execution_count": null,
   "metadata": {},
   "outputs": [],
   "source": []
  },
  {
   "cell_type": "code",
   "execution_count": 595,
   "metadata": {},
   "outputs": [],
   "source": [
    "#np.mean (word_sims[0])"
   ]
  },
  {
   "cell_type": "code",
   "execution_count": 596,
   "metadata": {},
   "outputs": [],
   "source": [
    "#max_sims_a = [np.max (x) for x in word_sims]"
   ]
  },
  {
   "cell_type": "code",
   "execution_count": 597,
   "metadata": {},
   "outputs": [],
   "source": [
    "#ordering = np.argsort (-np.array (max_sims_a))"
   ]
  },
  {
   "cell_type": "code",
   "execution_count": 461,
   "metadata": {},
   "outputs": [],
   "source": [
    "#np.array (imdb_task.texts ['train']) [ordering]"
   ]
  },
  {
   "cell_type": "code",
   "execution_count": null,
   "metadata": {},
   "outputs": [],
   "source": []
  },
  {
   "cell_type": "code",
   "execution_count": null,
   "metadata": {},
   "outputs": [],
   "source": []
  },
  {
   "cell_type": "code",
   "execution_count": null,
   "metadata": {},
   "outputs": [],
   "source": []
  },
  {
   "cell_type": "code",
   "execution_count": null,
   "metadata": {},
   "outputs": [],
   "source": []
  },
  {
   "cell_type": "code",
   "execution_count": 462,
   "metadata": {},
   "outputs": [],
   "source": [
    "embs = imdb_task.embeds['train']['glove-twitter-25']"
   ]
  },
  {
   "cell_type": "code",
   "execution_count": 463,
   "metadata": {},
   "outputs": [],
   "source": [
    "emb_model = imdb_task.emb_models ['glove-twitter-25']"
   ]
  },
  {
   "cell_type": "code",
   "execution_count": 464,
   "metadata": {},
   "outputs": [],
   "source": [
    "lookup_text = \"action\""
   ]
  },
  {
   "cell_type": "code",
   "execution_count": 465,
   "metadata": {},
   "outputs": [],
   "source": [
    "lookup_text_tok = lookup_text.split (\" \")"
   ]
  },
  {
   "cell_type": "code",
   "execution_count": 466,
   "metadata": {},
   "outputs": [],
   "source": [
    "emb_length = emb_model ['a'].shape [0]"
   ]
  },
  {
   "cell_type": "code",
   "execution_count": 467,
   "metadata": {},
   "outputs": [],
   "source": [
    "lookup_text_emb = imdb_task._embed_line (lookup_text_tok, emb_model, emb_length)"
   ]
  },
  {
   "cell_type": "code",
   "execution_count": 468,
   "metadata": {},
   "outputs": [],
   "source": [
    "from sklearn.metrics.pairwise import cosine_similarity"
   ]
  },
  {
   "cell_type": "code",
   "execution_count": 469,
   "metadata": {},
   "outputs": [],
   "source": [
    "lin_cos_sim = cosine_similarity (embs[0], lookup_text_emb)"
   ]
  },
  {
   "cell_type": "code",
   "execution_count": 209,
   "metadata": {},
   "outputs": [
    {
     "data": {
      "text/plain": [
       "array([0.7064953 , 0.589067  , 0.6213429 , 0.59356546, 0.7458868 ,\n",
       "       0.589079  , 0.69953656, 0.6129971 , 0.7839712 , 0.5932517 ,\n",
       "       0.66459924, 0.7034769 , 0.63008404, 0.43208623, 0.20198816,\n",
       "       0.7342957 , 0.5363021 , 0.67736506, 0.5144093 , 0.518046  ,\n",
       "       0.7123766 , 0.584567  , 0.49265343, 0.70720315, 0.56344473,\n",
       "       0.7123766 , 0.7157514 , 0.63224745, 0.73522794, 0.7342957 ,\n",
       "       0.5645032 , 0.47523054, 0.70720315, 0.5645032 , 0.61516124,\n",
       "       0.5932517 , 0.6221181 , 0.69119936, 0.6563445 , 0.6570064 ,\n",
       "       0.523802  , 0.66994524, 0.7064953 , 0.70720315, 0.6591221 ,\n",
       "       0.55855596, 0.70603883, 0.5363021 , 0.5598166 , 0.72054225,\n",
       "       0.60620964, 0.67439103, 0.49265248, 0.6046612 ], dtype=float32)"
      ]
     },
     "execution_count": 209,
     "metadata": {},
     "output_type": "execute_result"
    }
   ],
   "source": [
    "np.mean (lin_cos_sim, axis = 1)"
   ]
  },
  {
   "cell_type": "code",
   "execution_count": 193,
   "metadata": {},
   "outputs": [
    {
     "data": {
      "text/plain": [
       "0.8427038"
      ]
     },
     "execution_count": 193,
     "metadata": {},
     "output_type": "execute_result"
    }
   ],
   "source": [
    "np.max (lin_cos_sim)"
   ]
  },
  {
   "cell_type": "code",
   "execution_count": 218,
   "metadata": {},
   "outputs": [
    {
     "name": "stdout",
     "output_type": "stream",
     "text": [
      "0\n",
      "1000\n",
      "2000\n",
      "3000\n",
      "4000\n"
     ]
    }
   ],
   "source": [
    "lookup_agg_method = np.max\n",
    "text_agg_method = np.max \n",
    "\n",
    "emb_sims = []\n",
    "emb_sims_max = []\n",
    "for i in range (0, len (embs)):\n",
    "    if (i % 1000) == 0:\n",
    "        print (i)\n",
    "    lin_cos_sim = cosine_similarity (embs[i], lookup_text_emb)\n",
    "    lin_cos_sim = text_agg_method (lin_cos_sim, axis = 1)\n",
    "    emb_sims.append (lin_cos_sim)\n",
    "    emb_sims_max.append (agg_method (lin_cos_sim))\n",
    "    \n",
    "    "
   ]
  },
  {
   "cell_type": "code",
   "execution_count": null,
   "metadata": {},
   "outputs": [],
   "source": []
  },
  {
   "cell_type": "code",
   "execution_count": null,
   "metadata": {},
   "outputs": [],
   "source": []
  },
  {
   "cell_type": "code",
   "execution_count": 219,
   "metadata": {},
   "outputs": [
    {
     "data": {
      "text/plain": [
       "1.0000000000000002"
      ]
     },
     "execution_count": 219,
     "metadata": {},
     "output_type": "execute_result"
    }
   ],
   "source": [
    "emb_sims_max [1]"
   ]
  },
  {
   "cell_type": "code",
   "execution_count": 220,
   "metadata": {},
   "outputs": [
    {
     "data": {
      "text/plain": [
       "[0.8427038,\n",
       " 1.0000000000000002,\n",
       " 0.87328947,\n",
       " 0.8541685497959718,\n",
       " 1.0000000000000002,\n",
       " 0.9999999,\n",
       " 0.8500843365069591,\n",
       " 0.8769028008141451,\n",
       " 0.8841082724194276,\n",
       " 0.85008436,\n",
       " 0.9999999,\n",
       " 0.85008436,\n",
       " 1.0000000000000002,\n",
       " 0.99999994,\n",
       " 1.0000000000000002,\n",
       " 0.85008436,\n",
       " 1.0000000000000002,\n",
       " 0.8607826,\n",
       " 0.8500843365069591,\n",
       " 0.86093867,\n",
       " 0.8624499122122617,\n",
       " 0.8968295,\n",
       " 0.8620199623511139,\n",
       " 0.8500843365069591,\n",
       " 0.99999994,\n",
       " 0.8500843365069591,\n",
       " 1.0000000000000002,\n",
       " 1.0000000000000002,\n",
       " 0.8427036851650482,\n",
       " 0.85008436,\n",
       " 1.0000000000000002,\n",
       " 0.8518469169916202,\n",
       " 0.8500843365069591,\n",
       " 0.8841082724194276,\n",
       " 0.8500843365069591,\n",
       " 0.8841082724194276,\n",
       " 0.8427036851650482,\n",
       " 0.85008436,\n",
       " 0.8500843365069591,\n",
       " 0.8681443,\n",
       " 0.8841082,\n",
       " 0.9999999,\n",
       " 0.85008436,\n",
       " 0.85008436,\n",
       " 0.8624499122122617,\n",
       " 0.99999994,\n",
       " 1.0000000000000002,\n",
       " 0.82852024,\n",
       " 0.8620199623511139,\n",
       " 0.8500843365069591,\n",
       " 0.85008436,\n",
       " 0.8427038,\n",
       " 0.9999999,\n",
       " 0.8500843365069591,\n",
       " 0.875910588479086,\n",
       " 0.8968294526476451,\n",
       " 1.0000000000000002,\n",
       " 0.9171534947963127,\n",
       " 0.8500843365069591,\n",
       " 0.8541685497959718,\n",
       " 0.916721424794774,\n",
       " 0.8427038,\n",
       " 0.85008436,\n",
       " 0.85008436,\n",
       " 0.85008436,\n",
       " 0.8806683,\n",
       " 0.85008436,\n",
       " 1.0000000000000002,\n",
       " 0.85008436,\n",
       " 0.87328947,\n",
       " 1.0000000000000002,\n",
       " 1.0000000000000002,\n",
       " 0.8541685497959718,\n",
       " 0.8609387410156721,\n",
       " 0.851208946929955,\n",
       " 0.86336374,\n",
       " 0.8624499122122617,\n",
       " 1.0000000000000002,\n",
       " 0.875910588479086,\n",
       " 0.99999994,\n",
       " 1.0000000000000002,\n",
       " 1.0000000000000002,\n",
       " 0.85008436,\n",
       " 0.8500843365069591,\n",
       " 0.8968294526476451,\n",
       " 0.8841082,\n",
       " 0.8841082724194276,\n",
       " 0.8607826,\n",
       " 0.8599060418420801,\n",
       " 0.859906,\n",
       " 0.85008436,\n",
       " 0.875910588479086,\n",
       " 0.8427038,\n",
       " 0.8500843365069591,\n",
       " 0.8841082724194276,\n",
       " 0.8500843365069591,\n",
       " 0.8841082724194276,\n",
       " 0.8500843365069591,\n",
       " 0.8694297207291432,\n",
       " 0.85008436]"
      ]
     },
     "execution_count": 220,
     "metadata": {},
     "output_type": "execute_result"
    }
   ],
   "source": [
    "emb_sims_max [0:100]"
   ]
  },
  {
   "cell_type": "code",
   "execution_count": 169,
   "metadata": {},
   "outputs": [
    {
     "data": {
      "text/plain": [
       "0.84270376"
      ]
     },
     "execution_count": 169,
     "metadata": {},
     "output_type": "execute_result"
    }
   ],
   "source": [
    "np.max (lin_cos_sim)"
   ]
  },
  {
   "cell_type": "code",
   "execution_count": 51,
   "metadata": {},
   "outputs": [],
   "source": [
    "import gensim"
   ]
  },
  {
   "cell_type": "code",
   "execution_count": 52,
   "metadata": {},
   "outputs": [],
   "source": [
    "import gensim.downloader as api"
   ]
  },
  {
   "cell_type": "code",
   "execution_count": 3,
   "metadata": {},
   "outputs": [],
   "source": [
    "a = api.info()\n"
   ]
  },
  {
   "cell_type": "code",
   "execution_count": null,
   "metadata": {},
   "outputs": [
    {
     "data": {
      "text/plain": [
       "dict_keys(['fasttext-wiki-news-subwords-300', 'conceptnet-numberbatch-17-06-300', 'word2vec-ruscorpora-300', 'word2vec-google-news-300', 'glove-wiki-gigaword-50', 'glove-wiki-gigaword-100', 'glove-wiki-gigaword-200', 'glove-wiki-gigaword-300', 'glove-twitter-25', 'glove-twitter-50', 'glove-twitter-100', 'glove-twitter-200', '__testing_word2vec-matrix-synopsis'])"
      ]
     },
     "execution_count": 7,
     "metadata": {},
     "output_type": "execute_result"
    }
   ],
   "source": [
    "list (a[\"models\"].keys())"
   ]
  },
  {
   "cell_type": "code",
   "execution_count": 14,
   "metadata": {},
   "outputs": [],
   "source": [
    "emb_model = api.load (\"glove-twitter-25\")"
   ]
  },
  {
   "cell_type": "code",
   "execution_count": 19,
   "metadata": {},
   "outputs": [
    {
     "data": {
      "text/plain": [
       "25"
      ]
     },
     "execution_count": 19,
     "metadata": {},
     "output_type": "execute_result"
    }
   ],
   "source": [
    "emb_model ['a'].shape[0]"
   ]
  },
  {
   "cell_type": "code",
   "execution_count": 510,
   "metadata": {},
   "outputs": [
    {
     "data": {
      "text/plain": [
       "<module 'gensim.models' from 'C:\\\\Users\\\\dfleetwood\\\\PycharmProjects\\\\text_analysis\\\\venv\\\\lib\\\\site-packages\\\\gensim\\\\models\\\\__init__.py'>"
      ]
     },
     "execution_count": 510,
     "metadata": {},
     "output_type": "execute_result"
    }
   ],
   "source": [
    "gensim.models.word2vec.Word2VecKeyedVectors()"
   ]
  },
  {
   "cell_type": "code",
   "execution_count": 508,
   "metadata": {},
   "outputs": [],
   "source": []
  },
  {
   "cell_type": "code",
   "execution_count": 508,
   "metadata": {},
   "outputs": [],
   "source": []
  },
  {
   "cell_type": "code",
   "execution_count": 508,
   "metadata": {},
   "outputs": [],
   "source": []
  },
  {
   "cell_type": "code",
   "execution_count": 508,
   "metadata": {},
   "outputs": [],
   "source": []
  },
  {
   "cell_type": "code",
   "execution_count": 508,
   "metadata": {},
   "outputs": [],
   "source": []
  },
  {
   "cell_type": "code",
   "execution_count": null,
   "metadata": {},
   "outputs": [],
   "source": []
  }
 ],
 "metadata": {
  "kernelspec": {
   "display_name": "Python 3",
   "language": "python",
   "name": "python3"
  },
  "language_info": {
   "codemirror_mode": {
    "name": "ipython",
    "version": 3
   },
   "file_extension": ".py",
   "mimetype": "text/x-python",
   "name": "python",
   "nbconvert_exporter": "python",
   "pygments_lexer": "ipython3",
   "version": "3.6.4"
  }
 },
 "nbformat": 4,
 "nbformat_minor": 1
}
