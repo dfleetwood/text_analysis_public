{
  "nbformat": 4,
  "nbformat_minor": 0,
  "metadata": {
    "colab": {
      "name": "Copy of text_demo.ipynb",
      "version": "0.3.2",
      "provenance": [],
      "collapsed_sections": []
    },
    "kernelspec": {
      "name": "python3",
      "display_name": "Python 3"
    },
    "accelerator": "GPU"
  },
  "cells": [
    {
      "metadata": {
        "id": "-pZf4G75qw9v",
        "colab_type": "text"
      },
      "cell_type": "markdown",
      "source": [
        "# Text analysis demo\n",
        "\n",
        "This session will put into practice the methods we coverered last week. \n",
        "\n",
        "We'll run through:\n",
        " * tf-idf\n",
        " * topic modelling\n",
        " * word embeddings\n",
        " * ltsms\n",
        " \n",
        "We'll use a module we've started developing to make it quicker and less repetitive to code and use these techniques, imaginatively called 'text_analysis'.\n",
        "\n",
        "The code (along with this notebook) lives at: https://github.com/dfleetwood/text_analysis . Please send me your github username and I'll add you to the repository. The code is very new - so there are probably lots of bugs at the moment, but we'll be doing a fair bit of work on it over the coming weeks...\n",
        "\n",
        "<b>Make sure you switch to a 'GPU' runtime. Click 'Runtime' -> 'Change runtime type' -> Change 'Hardware accelerator' to GPU"
      ]
    },
    {
      "metadata": {
        "id": "PSBQoQpzq2_t",
        "colab_type": "code",
        "outputId": "e7d67287-a4cf-401d-e64a-3ece3ea797aa",
        "colab": {
          "base_uri": "https://localhost:8080/",
          "height": 391
        }
      },
      "cell_type": "code",
      "source": [
        "#A few housekeeping things to make sure everything runs ok\n",
        "\n",
        "!wget https://raw.githubusercontent.com/dfleetwood/text_analysis_public/master/text_task.py\n",
        "!wget https://raw.githubusercontent.com/dfleetwood/text_analysis_public/master/imdb_small.csv\n",
        "    \n",
        "import text_task\n",
        "imdb_task.load_embedding_model ('glove-twitter-25')\n",
        "del imdb_task"
      ],
      "execution_count": 0,
      "outputs": [
        {
          "output_type": "stream",
          "text": [
            "--2019-02-08 13:15:54--  https://raw.githubusercontent.com/dfleetwood/text_analysis_public/master/text_task.py\n",
            "Resolving raw.githubusercontent.com (raw.githubusercontent.com)... 151.101.0.133, 151.101.64.133, 151.101.128.133, ...\n",
            "Connecting to raw.githubusercontent.com (raw.githubusercontent.com)|151.101.0.133|:443... connected.\n",
            "HTTP request sent, awaiting response... 200 OK\n",
            "Length: 17632 (17K) [text/plain]\n",
            "Saving to: ‘text_task.py’\n",
            "\n",
            "\rtext_task.py          0%[                    ]       0  --.-KB/s               \rtext_task.py        100%[===================>]  17.22K  --.-KB/s    in 0.01s   \n",
            "\n",
            "2019-02-08 13:15:55 (1.42 MB/s) - ‘text_task.py’ saved [17632/17632]\n",
            "\n",
            "--2019-02-08 13:15:58--  https://raw.githubusercontent.com/dfleetwood/text_analysis_public/master/imdb_small.csv\n",
            "Resolving raw.githubusercontent.com (raw.githubusercontent.com)... 151.101.0.133, 151.101.64.133, 151.101.128.133, ...\n",
            "Connecting to raw.githubusercontent.com (raw.githubusercontent.com)|151.101.0.133|:443... connected.\n",
            "HTTP request sent, awaiting response... 200 OK\n",
            "Length: 9380178 (8.9M) [text/plain]\n",
            "Saving to: ‘imdb_small.csv’\n",
            "\n",
            "imdb_small.csv      100%[===================>]   8.95M  --.-KB/s    in 0.1s    \n",
            "\n",
            "2019-02-08 13:15:59 (63.0 MB/s) - ‘imdb_small.csv’ saved [9380178/9380178]\n",
            "\n"
          ],
          "name": "stdout"
        }
      ]
    },
    {
      "metadata": {
        "id": "vMrREvNXqw9z",
        "colab_type": "code",
        "colab": {}
      },
      "cell_type": "code",
      "source": [
        "#Import libraries\n",
        "import pandas as pd\n",
        "import numpy as np\n",
        "import text_task"
      ],
      "execution_count": 0,
      "outputs": []
    },
    {
      "metadata": {
        "id": "b9yO08ORqw-A",
        "colab_type": "text"
      },
      "cell_type": "markdown",
      "source": [
        "## Data processing\n",
        "\n",
        "Our task for this session will be to estimate the sentiment (positive/negative) of movie reviews from https://www.imdb.com/\n",
        "\n",
        "To make things quicker today, I've made a much smaller version of the data - for the full dataset go to: https://www.kaggle.com/utathya/imdb-review-dataset\n",
        "\n",
        "IMDB asks for both a textual description and a score for how much someone liked or disliked a movie. This makes it really useful for testing sentiment analysis - we can link text to quantitative sentiment scores (in this dataset the scores are reduced to 'positive' and 'negative'.\n"
      ]
    },
    {
      "metadata": {
        "id": "zi0FtTDMqw-B",
        "colab_type": "code",
        "colab": {}
      },
      "cell_type": "code",
      "source": [
        "#Read in the data\n",
        "imdb = pd.read_csv (\"imdb_small.csv\", encoding = \"latin\")"
      ],
      "execution_count": 0,
      "outputs": []
    },
    {
      "metadata": {
        "id": "s03bs4YLqw-H",
        "colab_type": "text"
      },
      "cell_type": "markdown",
      "source": [
        "The file has five columns:\n",
        " * ID: The id of the review\n",
        " * Type: Whether the review is from the training or test set (more on this later)\n",
        " * Review: The actual review text\n",
        " * Label: Whether the quantitative scoring was positive or negative - this is what we'll be trying to predict\n",
        " * File: The original file name the review was drawn from (this is just an administrative column)"
      ]
    },
    {
      "metadata": {
        "id": "6KpNXd21qw-I",
        "colab_type": "code",
        "outputId": "a1fea0b1-4430-4f65-c036-9a78221d6d1d",
        "colab": {
          "base_uri": "https://localhost:8080/",
          "height": 34
        }
      },
      "cell_type": "code",
      "source": [
        "imdb.columns"
      ],
      "execution_count": 0,
      "outputs": [
        {
          "output_type": "execute_result",
          "data": {
            "text/plain": [
              "Index(['Unnamed: 0', 'type', 'review', 'label', 'file'], dtype='object')"
            ]
          },
          "metadata": {
            "tags": []
          },
          "execution_count": 4
        }
      ]
    },
    {
      "metadata": {
        "id": "A_O-FgmHqw-N",
        "colab_type": "code",
        "outputId": "80ba4966-5b89-4e54-f819-e307e4c5f010",
        "colab": {
          "base_uri": "https://localhost:8080/",
          "height": 1969
        }
      },
      "cell_type": "code",
      "source": [
        "imdb"
      ],
      "execution_count": 0,
      "outputs": [
        {
          "output_type": "execute_result",
          "data": {
            "text/html": [
              "<div>\n",
              "<style scoped>\n",
              "    .dataframe tbody tr th:only-of-type {\n",
              "        vertical-align: middle;\n",
              "    }\n",
              "\n",
              "    .dataframe tbody tr th {\n",
              "        vertical-align: top;\n",
              "    }\n",
              "\n",
              "    .dataframe thead th {\n",
              "        text-align: right;\n",
              "    }\n",
              "</style>\n",
              "<table border=\"1\" class=\"dataframe\">\n",
              "  <thead>\n",
              "    <tr style=\"text-align: right;\">\n",
              "      <th></th>\n",
              "      <th>Unnamed: 0</th>\n",
              "      <th>type</th>\n",
              "      <th>review</th>\n",
              "      <th>label</th>\n",
              "      <th>file</th>\n",
              "    </tr>\n",
              "  </thead>\n",
              "  <tbody>\n",
              "    <tr>\n",
              "      <th>0</th>\n",
              "      <td>43228</td>\n",
              "      <td>train</td>\n",
              "      <td>This has to be the funniest stand up comedy I ...</td>\n",
              "      <td>pos</td>\n",
              "      <td>3906_10.txt</td>\n",
              "    </tr>\n",
              "    <tr>\n",
              "      <th>1</th>\n",
              "      <td>48074</td>\n",
              "      <td>train</td>\n",
              "      <td>This is apparently the second remake of this f...</td>\n",
              "      <td>pos</td>\n",
              "      <td>8268_7.txt</td>\n",
              "    </tr>\n",
              "    <tr>\n",
              "      <th>2</th>\n",
              "      <td>38204</td>\n",
              "      <td>train</td>\n",
              "      <td>In order to stop her homosexual friend Albert ...</td>\n",
              "      <td>pos</td>\n",
              "      <td>10634_10.txt</td>\n",
              "    </tr>\n",
              "    <tr>\n",
              "      <th>3</th>\n",
              "      <td>25573</td>\n",
              "      <td>train</td>\n",
              "      <td>Forest of the Damned starts out as five young ...</td>\n",
              "      <td>neg</td>\n",
              "      <td>10516_4.txt</td>\n",
              "    </tr>\n",
              "    <tr>\n",
              "      <th>4</th>\n",
              "      <td>34858</td>\n",
              "      <td>train</td>\n",
              "      <td>This little show is obviously some stupid litt...</td>\n",
              "      <td>neg</td>\n",
              "      <td>7623_4.txt</td>\n",
              "    </tr>\n",
              "    <tr>\n",
              "      <th>5</th>\n",
              "      <td>46871</td>\n",
              "      <td>train</td>\n",
              "      <td>Sitting on the front porch of his Burbank home...</td>\n",
              "      <td>pos</td>\n",
              "      <td>7185_10.txt</td>\n",
              "    </tr>\n",
              "    <tr>\n",
              "      <th>6</th>\n",
              "      <td>47078</td>\n",
              "      <td>train</td>\n",
              "      <td>A suspenseful thriller that bears some resembl...</td>\n",
              "      <td>pos</td>\n",
              "      <td>7371_7.txt</td>\n",
              "    </tr>\n",
              "    <tr>\n",
              "      <th>7</th>\n",
              "      <td>37631</td>\n",
              "      <td>train</td>\n",
              "      <td>I really like Miikes movies about Yakuza, this...</td>\n",
              "      <td>pos</td>\n",
              "      <td>10118_7.txt</td>\n",
              "    </tr>\n",
              "    <tr>\n",
              "      <th>8</th>\n",
              "      <td>26896</td>\n",
              "      <td>train</td>\n",
              "      <td>This 2003 made for TV movie was shown on a wom...</td>\n",
              "      <td>neg</td>\n",
              "      <td>11707_1.txt</td>\n",
              "    </tr>\n",
              "    <tr>\n",
              "      <th>9</th>\n",
              "      <td>32027</td>\n",
              "      <td>train</td>\n",
              "      <td>The animation was good, the imagery was good, ...</td>\n",
              "      <td>neg</td>\n",
              "      <td>5075_3.txt</td>\n",
              "    </tr>\n",
              "    <tr>\n",
              "      <th>10</th>\n",
              "      <td>40274</td>\n",
              "      <td>train</td>\n",
              "      <td>this movie is the best movie ever it has a lot...</td>\n",
              "      <td>pos</td>\n",
              "      <td>12498_10.txt</td>\n",
              "    </tr>\n",
              "    <tr>\n",
              "      <th>11</th>\n",
              "      <td>32765</td>\n",
              "      <td>train</td>\n",
              "      <td>The last reviewer was very generous. I quiet l...</td>\n",
              "      <td>neg</td>\n",
              "      <td>573_1.txt</td>\n",
              "    </tr>\n",
              "    <tr>\n",
              "      <th>12</th>\n",
              "      <td>47848</td>\n",
              "      <td>train</td>\n",
              "      <td>John Ford is one of the most influential and b...</td>\n",
              "      <td>pos</td>\n",
              "      <td>8064_10.txt</td>\n",
              "    </tr>\n",
              "    <tr>\n",
              "      <th>13</th>\n",
              "      <td>42700</td>\n",
              "      <td>train</td>\n",
              "      <td>I caught this at a screening at the Sundance F...</td>\n",
              "      <td>pos</td>\n",
              "      <td>3430_10.txt</td>\n",
              "    </tr>\n",
              "    <tr>\n",
              "      <th>14</th>\n",
              "      <td>41939</td>\n",
              "      <td>train</td>\n",
              "      <td>Imagine turning out the lights in your remote ...</td>\n",
              "      <td>pos</td>\n",
              "      <td>2746_10.txt</td>\n",
              "    </tr>\n",
              "    <tr>\n",
              "      <th>15</th>\n",
              "      <td>28617</td>\n",
              "      <td>train</td>\n",
              "      <td>Not that I was really surprised....movies are ...</td>\n",
              "      <td>neg</td>\n",
              "      <td>2005_3.txt</td>\n",
              "    </tr>\n",
              "    <tr>\n",
              "      <th>16</th>\n",
              "      <td>43813</td>\n",
              "      <td>train</td>\n",
              "      <td>I happily admit that I'm a sucker for a beauti...</td>\n",
              "      <td>pos</td>\n",
              "      <td>4432_10.txt</td>\n",
              "    </tr>\n",
              "    <tr>\n",
              "      <th>17</th>\n",
              "      <td>40864</td>\n",
              "      <td>train</td>\n",
              "      <td>I love this movie! 10 out of 10 hands down! It...</td>\n",
              "      <td>pos</td>\n",
              "      <td>1779_10.txt</td>\n",
              "    </tr>\n",
              "    <tr>\n",
              "      <th>18</th>\n",
              "      <td>33101</td>\n",
              "      <td>train</td>\n",
              "      <td>This story about three women is a very sensiti...</td>\n",
              "      <td>neg</td>\n",
              "      <td>6041_1.txt</td>\n",
              "    </tr>\n",
              "    <tr>\n",
              "      <th>19</th>\n",
              "      <td>46056</td>\n",
              "      <td>train</td>\n",
              "      <td>Firstly, I really enjoyed this movie and its m...</td>\n",
              "      <td>pos</td>\n",
              "      <td>6451_8.txt</td>\n",
              "    </tr>\n",
              "    <tr>\n",
              "      <th>20</th>\n",
              "      <td>48866</td>\n",
              "      <td>train</td>\n",
              "      <td>Dig! I would say to anyone even if you don't l...</td>\n",
              "      <td>pos</td>\n",
              "      <td>8981_7.txt</td>\n",
              "    </tr>\n",
              "    <tr>\n",
              "      <th>21</th>\n",
              "      <td>39429</td>\n",
              "      <td>train</td>\n",
              "      <td>OK, this movie is stupid. I mean that in a goo...</td>\n",
              "      <td>pos</td>\n",
              "      <td>11737_8.txt</td>\n",
              "    </tr>\n",
              "    <tr>\n",
              "      <th>22</th>\n",
              "      <td>42001</td>\n",
              "      <td>train</td>\n",
              "      <td>My scalp still smarts from the burning coals h...</td>\n",
              "      <td>pos</td>\n",
              "      <td>2801_9.txt</td>\n",
              "    </tr>\n",
              "    <tr>\n",
              "      <th>23</th>\n",
              "      <td>41090</td>\n",
              "      <td>train</td>\n",
              "      <td>This was my favourite film as a child, and I h...</td>\n",
              "      <td>pos</td>\n",
              "      <td>1982_10.txt</td>\n",
              "    </tr>\n",
              "    <tr>\n",
              "      <th>24</th>\n",
              "      <td>29984</td>\n",
              "      <td>train</td>\n",
              "      <td>I recently watched the first Guinea Pig film, ...</td>\n",
              "      <td>neg</td>\n",
              "      <td>3236_4.txt</td>\n",
              "    </tr>\n",
              "    <tr>\n",
              "      <th>25</th>\n",
              "      <td>35444</td>\n",
              "      <td>train</td>\n",
              "      <td>If you want an undemanding and reasonably amus...</td>\n",
              "      <td>neg</td>\n",
              "      <td>8150_2.txt</td>\n",
              "    </tr>\n",
              "    <tr>\n",
              "      <th>26</th>\n",
              "      <td>35451</td>\n",
              "      <td>train</td>\n",
              "      <td>Hello Mary Lou: Prom Night II starts at the Ha...</td>\n",
              "      <td>neg</td>\n",
              "      <td>8157_4.txt</td>\n",
              "    </tr>\n",
              "    <tr>\n",
              "      <th>27</th>\n",
              "      <td>37704</td>\n",
              "      <td>train</td>\n",
              "      <td>A strong woman oriented subject after long, di...</td>\n",
              "      <td>pos</td>\n",
              "      <td>10184_9.txt</td>\n",
              "    </tr>\n",
              "    <tr>\n",
              "      <th>28</th>\n",
              "      <td>36345</td>\n",
              "      <td>train</td>\n",
              "      <td>i think this one sucked on ice, because it lef...</td>\n",
              "      <td>neg</td>\n",
              "      <td>8962_2.txt</td>\n",
              "    </tr>\n",
              "    <tr>\n",
              "      <th>29</th>\n",
              "      <td>26645</td>\n",
              "      <td>train</td>\n",
              "      <td>If they could get Ed Asner why didn't they get...</td>\n",
              "      <td>neg</td>\n",
              "      <td>11481_1.txt</td>\n",
              "    </tr>\n",
              "    <tr>\n",
              "      <th>...</th>\n",
              "      <td>...</td>\n",
              "      <td>...</td>\n",
              "      <td>...</td>\n",
              "      <td>...</td>\n",
              "      <td>...</td>\n",
              "    </tr>\n",
              "    <tr>\n",
              "      <th>6970</th>\n",
              "      <td>5280</td>\n",
              "      <td>test</td>\n",
              "      <td>What a disappointment. The story line is so si...</td>\n",
              "      <td>neg</td>\n",
              "      <td>3502_1.txt</td>\n",
              "    </tr>\n",
              "    <tr>\n",
              "      <th>6971</th>\n",
              "      <td>24622</td>\n",
              "      <td>test</td>\n",
              "      <td>My teacher did this movie. It's a new beginnin...</td>\n",
              "      <td>pos</td>\n",
              "      <td>9661_10.txt</td>\n",
              "    </tr>\n",
              "    <tr>\n",
              "      <th>6972</th>\n",
              "      <td>3224</td>\n",
              "      <td>test</td>\n",
              "      <td>Oh how I laughed....this has it all...an Asian...</td>\n",
              "      <td>neg</td>\n",
              "      <td>1652_1.txt</td>\n",
              "    </tr>\n",
              "    <tr>\n",
              "      <th>6973</th>\n",
              "      <td>14016</td>\n",
              "      <td>test</td>\n",
              "      <td>A great production, that should be revived/reb...</td>\n",
              "      <td>pos</td>\n",
              "      <td>11365_10.txt</td>\n",
              "    </tr>\n",
              "    <tr>\n",
              "      <th>6974</th>\n",
              "      <td>11534</td>\n",
              "      <td>test</td>\n",
              "      <td>There seems to be a spectrum of cinema. On the...</td>\n",
              "      <td>neg</td>\n",
              "      <td>9131_1.txt</td>\n",
              "    </tr>\n",
              "    <tr>\n",
              "      <th>6975</th>\n",
              "      <td>12874</td>\n",
              "      <td>test</td>\n",
              "      <td>When I was in 7th grade(back in 1977), I was a...</td>\n",
              "      <td>pos</td>\n",
              "      <td>10337_10.txt</td>\n",
              "    </tr>\n",
              "    <tr>\n",
              "      <th>6976</th>\n",
              "      <td>13012</td>\n",
              "      <td>test</td>\n",
              "      <td>This film offers many delights and surprises. ...</td>\n",
              "      <td>pos</td>\n",
              "      <td>10461_10.txt</td>\n",
              "    </tr>\n",
              "    <tr>\n",
              "      <th>6977</th>\n",
              "      <td>14044</td>\n",
              "      <td>test</td>\n",
              "      <td>A small town kid working in a big city becomes...</td>\n",
              "      <td>pos</td>\n",
              "      <td>11390_10.txt</td>\n",
              "    </tr>\n",
              "    <tr>\n",
              "      <th>6978</th>\n",
              "      <td>9981</td>\n",
              "      <td>test</td>\n",
              "      <td>It is impossible to avoid comparing Zhang Yimo...</td>\n",
              "      <td>neg</td>\n",
              "      <td>7734_1.txt</td>\n",
              "    </tr>\n",
              "    <tr>\n",
              "      <th>6979</th>\n",
              "      <td>8359</td>\n",
              "      <td>test</td>\n",
              "      <td>This movie is so bad they should burn the mast...</td>\n",
              "      <td>neg</td>\n",
              "      <td>6274_1.txt</td>\n",
              "    </tr>\n",
              "    <tr>\n",
              "      <th>6980</th>\n",
              "      <td>5861</td>\n",
              "      <td>test</td>\n",
              "      <td>I rented this DVD because I'm a big science fi...</td>\n",
              "      <td>neg</td>\n",
              "      <td>4025_2.txt</td>\n",
              "    </tr>\n",
              "    <tr>\n",
              "      <th>6981</th>\n",
              "      <td>3266</td>\n",
              "      <td>test</td>\n",
              "      <td>this is a dreadful adaption of Charles Kingsle...</td>\n",
              "      <td>neg</td>\n",
              "      <td>1690_1.txt</td>\n",
              "    </tr>\n",
              "    <tr>\n",
              "      <th>6982</th>\n",
              "      <td>2859</td>\n",
              "      <td>test</td>\n",
              "      <td>The war in the East,as the Germans referred to...</td>\n",
              "      <td>neg</td>\n",
              "      <td>1323_3.txt</td>\n",
              "    </tr>\n",
              "    <tr>\n",
              "      <th>6983</th>\n",
              "      <td>2526</td>\n",
              "      <td>test</td>\n",
              "      <td>I was expecting a lot more of this film than w...</td>\n",
              "      <td>neg</td>\n",
              "      <td>12274_4.txt</td>\n",
              "    </tr>\n",
              "    <tr>\n",
              "      <th>6984</th>\n",
              "      <td>10264</td>\n",
              "      <td>test</td>\n",
              "      <td>I know that so many reviews on IMDb are extrem...</td>\n",
              "      <td>neg</td>\n",
              "      <td>798_1.txt</td>\n",
              "    </tr>\n",
              "    <tr>\n",
              "      <th>6985</th>\n",
              "      <td>14299</td>\n",
              "      <td>test</td>\n",
              "      <td>I like The Wind and the Lion very much. It was...</td>\n",
              "      <td>pos</td>\n",
              "      <td>1161_10.txt</td>\n",
              "    </tr>\n",
              "    <tr>\n",
              "      <th>6986</th>\n",
              "      <td>5770</td>\n",
              "      <td>test</td>\n",
              "      <td>I could tell this would be a bad one from the ...</td>\n",
              "      <td>neg</td>\n",
              "      <td>3944_1.txt</td>\n",
              "    </tr>\n",
              "    <tr>\n",
              "      <th>6987</th>\n",
              "      <td>7679</td>\n",
              "      <td>test</td>\n",
              "      <td>iCarly is about a teenage girl named Carly Sha...</td>\n",
              "      <td>neg</td>\n",
              "      <td>5662_1.txt</td>\n",
              "    </tr>\n",
              "    <tr>\n",
              "      <th>6988</th>\n",
              "      <td>9227</td>\n",
              "      <td>test</td>\n",
              "      <td>The film's title makes it sound like a porno b...</td>\n",
              "      <td>neg</td>\n",
              "      <td>7055_2.txt</td>\n",
              "    </tr>\n",
              "    <tr>\n",
              "      <th>6989</th>\n",
              "      <td>4303</td>\n",
              "      <td>test</td>\n",
              "      <td>Thank God I was not operating any heavy machin...</td>\n",
              "      <td>neg</td>\n",
              "      <td>2623_1.txt</td>\n",
              "    </tr>\n",
              "    <tr>\n",
              "      <th>6990</th>\n",
              "      <td>10830</td>\n",
              "      <td>test</td>\n",
              "      <td>I wouldn't have given this film such a low rat...</td>\n",
              "      <td>neg</td>\n",
              "      <td>8499_1.txt</td>\n",
              "    </tr>\n",
              "    <tr>\n",
              "      <th>6991</th>\n",
              "      <td>17230</td>\n",
              "      <td>test</td>\n",
              "      <td>I just started watching The Show around July. ...</td>\n",
              "      <td>pos</td>\n",
              "      <td>3007_10.txt</td>\n",
              "    </tr>\n",
              "    <tr>\n",
              "      <th>6992</th>\n",
              "      <td>14451</td>\n",
              "      <td>test</td>\n",
              "      <td>We all want to fall in love... The experience ...</td>\n",
              "      <td>pos</td>\n",
              "      <td>11757_9.txt</td>\n",
              "    </tr>\n",
              "    <tr>\n",
              "      <th>6993</th>\n",
              "      <td>21007</td>\n",
              "      <td>test</td>\n",
              "      <td>\"Where to begin, where to begin . . ?(Savannah...</td>\n",
              "      <td>pos</td>\n",
              "      <td>6407_10.txt</td>\n",
              "    </tr>\n",
              "    <tr>\n",
              "      <th>6994</th>\n",
              "      <td>22169</td>\n",
              "      <td>test</td>\n",
              "      <td>Graphics: brilliant, obviously. The most stunn...</td>\n",
              "      <td>pos</td>\n",
              "      <td>7453_10.txt</td>\n",
              "    </tr>\n",
              "    <tr>\n",
              "      <th>6995</th>\n",
              "      <td>10198</td>\n",
              "      <td>test</td>\n",
              "      <td>i thought id check this film out as I'm curren...</td>\n",
              "      <td>neg</td>\n",
              "      <td>792_2.txt</td>\n",
              "    </tr>\n",
              "    <tr>\n",
              "      <th>6996</th>\n",
              "      <td>22761</td>\n",
              "      <td>test</td>\n",
              "      <td>First off, this film has no story. It's obviou...</td>\n",
              "      <td>pos</td>\n",
              "      <td>7987_8.txt</td>\n",
              "    </tr>\n",
              "    <tr>\n",
              "      <th>6997</th>\n",
              "      <td>314</td>\n",
              "      <td>test</td>\n",
              "      <td>I think cheaters needs to be off the air and e...</td>\n",
              "      <td>neg</td>\n",
              "      <td>10283_1.txt</td>\n",
              "    </tr>\n",
              "    <tr>\n",
              "      <th>6998</th>\n",
              "      <td>5039</td>\n",
              "      <td>test</td>\n",
              "      <td>The actors &amp; actresses on this series are OK, ...</td>\n",
              "      <td>neg</td>\n",
              "      <td>3286_1.txt</td>\n",
              "    </tr>\n",
              "    <tr>\n",
              "      <th>6999</th>\n",
              "      <td>24684</td>\n",
              "      <td>test</td>\n",
              "      <td>Sadly, every single person I ask about this se...</td>\n",
              "      <td>pos</td>\n",
              "      <td>9717_10.txt</td>\n",
              "    </tr>\n",
              "  </tbody>\n",
              "</table>\n",
              "<p>7000 rows × 5 columns</p>\n",
              "</div>"
            ],
            "text/plain": [
              "      Unnamed: 0   type                                             review  \\\n",
              "0          43228  train  This has to be the funniest stand up comedy I ...   \n",
              "1          48074  train  This is apparently the second remake of this f...   \n",
              "2          38204  train  In order to stop her homosexual friend Albert ...   \n",
              "3          25573  train  Forest of the Damned starts out as five young ...   \n",
              "4          34858  train  This little show is obviously some stupid litt...   \n",
              "5          46871  train  Sitting on the front porch of his Burbank home...   \n",
              "6          47078  train  A suspenseful thriller that bears some resembl...   \n",
              "7          37631  train  I really like Miikes movies about Yakuza, this...   \n",
              "8          26896  train  This 2003 made for TV movie was shown on a wom...   \n",
              "9          32027  train  The animation was good, the imagery was good, ...   \n",
              "10         40274  train  this movie is the best movie ever it has a lot...   \n",
              "11         32765  train  The last reviewer was very generous. I quiet l...   \n",
              "12         47848  train  John Ford is one of the most influential and b...   \n",
              "13         42700  train  I caught this at a screening at the Sundance F...   \n",
              "14         41939  train  Imagine turning out the lights in your remote ...   \n",
              "15         28617  train  Not that I was really surprised....movies are ...   \n",
              "16         43813  train  I happily admit that I'm a sucker for a beauti...   \n",
              "17         40864  train  I love this movie! 10 out of 10 hands down! It...   \n",
              "18         33101  train  This story about three women is a very sensiti...   \n",
              "19         46056  train  Firstly, I really enjoyed this movie and its m...   \n",
              "20         48866  train  Dig! I would say to anyone even if you don't l...   \n",
              "21         39429  train  OK, this movie is stupid. I mean that in a goo...   \n",
              "22         42001  train  My scalp still smarts from the burning coals h...   \n",
              "23         41090  train  This was my favourite film as a child, and I h...   \n",
              "24         29984  train  I recently watched the first Guinea Pig film, ...   \n",
              "25         35444  train  If you want an undemanding and reasonably amus...   \n",
              "26         35451  train  Hello Mary Lou: Prom Night II starts at the Ha...   \n",
              "27         37704  train  A strong woman oriented subject after long, di...   \n",
              "28         36345  train  i think this one sucked on ice, because it lef...   \n",
              "29         26645  train  If they could get Ed Asner why didn't they get...   \n",
              "...          ...    ...                                                ...   \n",
              "6970        5280   test  What a disappointment. The story line is so si...   \n",
              "6971       24622   test  My teacher did this movie. It's a new beginnin...   \n",
              "6972        3224   test  Oh how I laughed....this has it all...an Asian...   \n",
              "6973       14016   test  A great production, that should be revived/reb...   \n",
              "6974       11534   test  There seems to be a spectrum of cinema. On the...   \n",
              "6975       12874   test  When I was in 7th grade(back in 1977), I was a...   \n",
              "6976       13012   test  This film offers many delights and surprises. ...   \n",
              "6977       14044   test  A small town kid working in a big city becomes...   \n",
              "6978        9981   test  It is impossible to avoid comparing Zhang Yimo...   \n",
              "6979        8359   test  This movie is so bad they should burn the mast...   \n",
              "6980        5861   test  I rented this DVD because I'm a big science fi...   \n",
              "6981        3266   test  this is a dreadful adaption of Charles Kingsle...   \n",
              "6982        2859   test  The war in the East,as the Germans referred to...   \n",
              "6983        2526   test  I was expecting a lot more of this film than w...   \n",
              "6984       10264   test  I know that so many reviews on IMDb are extrem...   \n",
              "6985       14299   test  I like The Wind and the Lion very much. It was...   \n",
              "6986        5770   test  I could tell this would be a bad one from the ...   \n",
              "6987        7679   test  iCarly is about a teenage girl named Carly Sha...   \n",
              "6988        9227   test  The film's title makes it sound like a porno b...   \n",
              "6989        4303   test  Thank God I was not operating any heavy machin...   \n",
              "6990       10830   test  I wouldn't have given this film such a low rat...   \n",
              "6991       17230   test  I just started watching The Show around July. ...   \n",
              "6992       14451   test  We all want to fall in love... The experience ...   \n",
              "6993       21007   test  \"Where to begin, where to begin . . ?(Savannah...   \n",
              "6994       22169   test  Graphics: brilliant, obviously. The most stunn...   \n",
              "6995       10198   test  i thought id check this film out as I'm curren...   \n",
              "6996       22761   test  First off, this film has no story. It's obviou...   \n",
              "6997         314   test  I think cheaters needs to be off the air and e...   \n",
              "6998        5039   test  The actors & actresses on this series are OK, ...   \n",
              "6999       24684   test  Sadly, every single person I ask about this se...   \n",
              "\n",
              "     label          file  \n",
              "0      pos   3906_10.txt  \n",
              "1      pos    8268_7.txt  \n",
              "2      pos  10634_10.txt  \n",
              "3      neg   10516_4.txt  \n",
              "4      neg    7623_4.txt  \n",
              "5      pos   7185_10.txt  \n",
              "6      pos    7371_7.txt  \n",
              "7      pos   10118_7.txt  \n",
              "8      neg   11707_1.txt  \n",
              "9      neg    5075_3.txt  \n",
              "10     pos  12498_10.txt  \n",
              "11     neg     573_1.txt  \n",
              "12     pos   8064_10.txt  \n",
              "13     pos   3430_10.txt  \n",
              "14     pos   2746_10.txt  \n",
              "15     neg    2005_3.txt  \n",
              "16     pos   4432_10.txt  \n",
              "17     pos   1779_10.txt  \n",
              "18     neg    6041_1.txt  \n",
              "19     pos    6451_8.txt  \n",
              "20     pos    8981_7.txt  \n",
              "21     pos   11737_8.txt  \n",
              "22     pos    2801_9.txt  \n",
              "23     pos   1982_10.txt  \n",
              "24     neg    3236_4.txt  \n",
              "25     neg    8150_2.txt  \n",
              "26     neg    8157_4.txt  \n",
              "27     pos   10184_9.txt  \n",
              "28     neg    8962_2.txt  \n",
              "29     neg   11481_1.txt  \n",
              "...    ...           ...  \n",
              "6970   neg    3502_1.txt  \n",
              "6971   pos   9661_10.txt  \n",
              "6972   neg    1652_1.txt  \n",
              "6973   pos  11365_10.txt  \n",
              "6974   neg    9131_1.txt  \n",
              "6975   pos  10337_10.txt  \n",
              "6976   pos  10461_10.txt  \n",
              "6977   pos  11390_10.txt  \n",
              "6978   neg    7734_1.txt  \n",
              "6979   neg    6274_1.txt  \n",
              "6980   neg    4025_2.txt  \n",
              "6981   neg    1690_1.txt  \n",
              "6982   neg    1323_3.txt  \n",
              "6983   neg   12274_4.txt  \n",
              "6984   neg     798_1.txt  \n",
              "6985   pos   1161_10.txt  \n",
              "6986   neg    3944_1.txt  \n",
              "6987   neg    5662_1.txt  \n",
              "6988   neg    7055_2.txt  \n",
              "6989   neg    2623_1.txt  \n",
              "6990   neg    8499_1.txt  \n",
              "6991   pos   3007_10.txt  \n",
              "6992   pos   11757_9.txt  \n",
              "6993   pos   6407_10.txt  \n",
              "6994   pos   7453_10.txt  \n",
              "6995   neg     792_2.txt  \n",
              "6996   pos    7987_8.txt  \n",
              "6997   neg   10283_1.txt  \n",
              "6998   neg    3286_1.txt  \n",
              "6999   pos   9717_10.txt  \n",
              "\n",
              "[7000 rows x 5 columns]"
            ]
          },
          "metadata": {
            "tags": []
          },
          "execution_count": 5
        }
      ]
    },
    {
      "metadata": {
        "id": "GvuGK0g9qw-V",
        "colab_type": "text"
      },
      "cell_type": "markdown",
      "source": [
        "In total, we've got 7,000 reviews. The full dataset has 100,000"
      ]
    },
    {
      "metadata": {
        "id": "8njNMVeTqw-W",
        "colab_type": "code",
        "outputId": "7d9f0ac4-cbf2-4d1e-d415-ada90dae66fc",
        "colab": {
          "base_uri": "https://localhost:8080/",
          "height": 34
        }
      },
      "cell_type": "code",
      "source": [
        "imdb.shape"
      ],
      "execution_count": 0,
      "outputs": [
        {
          "output_type": "execute_result",
          "data": {
            "text/plain": [
              "(7000, 5)"
            ]
          },
          "metadata": {
            "tags": []
          },
          "execution_count": 6
        }
      ]
    },
    {
      "metadata": {
        "id": "_yJBDxFPqw-c",
        "colab_type": "text"
      },
      "cell_type": "markdown",
      "source": [
        "Whenever you're developing a model it's a very good idea to hold back some data that you won't use for training, and will just be used to give you an indication of how well your model perform on data it's never seen before - https://scikit-learn.org/stable/modules/cross_validation.html\n",
        "\n",
        "Our data is already split into training examples, that we'll use to train the model, and testing examples, that we'll use to see how well it's doing.\n",
        "\n",
        "We have 5,000 training examples and 2,000 test examples"
      ]
    },
    {
      "metadata": {
        "id": "1yjFLZOfqw-e",
        "colab_type": "code",
        "colab": {}
      },
      "cell_type": "code",
      "source": [
        "#Split training and test data\n",
        "imdb_train = imdb [imdb.type == \"train\"]\n",
        "imdb_test = imdb [imdb.type == \"test\"]"
      ],
      "execution_count": 0,
      "outputs": []
    },
    {
      "metadata": {
        "id": "Sk3txSF4qw-j",
        "colab_type": "code",
        "outputId": "7c9759b9-38cb-4860-c3b5-2dd07fdaf27b",
        "colab": {
          "base_uri": "https://localhost:8080/",
          "height": 34
        }
      },
      "cell_type": "code",
      "source": [
        "imdb_train.shape, imdb_test.shape"
      ],
      "execution_count": 0,
      "outputs": [
        {
          "output_type": "execute_result",
          "data": {
            "text/plain": [
              "((5000, 5), (2000, 5))"
            ]
          },
          "metadata": {
            "tags": []
          },
          "execution_count": 8
        }
      ]
    },
    {
      "metadata": {
        "id": "mDGPYrCPqw-q",
        "colab_type": "text"
      },
      "cell_type": "markdown",
      "source": [
        "## Creating 'text task' class instance and loading data into it\n",
        "\n",
        "The text_analysis module is organised around 'TextTasks'. This is a class that holds all the data and routines for a text analysis job in one place. Once the data is loaded in you can save and load the class instance to pick up where you left off."
      ]
    },
    {
      "metadata": {
        "id": "IytgMiGFqw-s",
        "colab_type": "code",
        "colab": {}
      },
      "cell_type": "code",
      "source": [
        "#Initialise tast task object\n",
        "imdb_task = text_task.TextTask()"
      ],
      "execution_count": 0,
      "outputs": []
    },
    {
      "metadata": {
        "id": "g0Y1sJFbqw-w",
        "colab_type": "text"
      },
      "cell_type": "markdown",
      "source": [
        "You can load as many different text datasets into task as you like - here we load the training and test data in separately to make sure they don't get mixed up. \n",
        "\n",
        "Give each dataset you load in a tag/label so you know what data you're working with later."
      ]
    },
    {
      "metadata": {
        "id": "nv_-QOo7qw-x",
        "colab_type": "code",
        "colab": {}
      },
      "cell_type": "code",
      "source": [
        "#Load training data into the text task instance - we label it 'train'\n",
        "imdb_task.add_text(text = imdb_train.review.values, text_tag=\"train\")\n",
        "#And load the test data - we label it 'test'\n",
        "imdb_task.add_text(text = imdb_test.review.values, text_tag=\"test\")"
      ],
      "execution_count": 0,
      "outputs": []
    },
    {
      "metadata": {
        "id": "Yh-8fAN5qw-z",
        "colab_type": "text"
      },
      "cell_type": "markdown",
      "source": [
        "The text is saved in a dictionary called 'texts' within the class"
      ]
    },
    {
      "metadata": {
        "id": "OM8e0Q7wqw-0",
        "colab_type": "code",
        "outputId": "f1ca0db5-17fb-4f92-c915-1fd5b0b6035a",
        "colab": {
          "base_uri": "https://localhost:8080/",
          "height": 207
        }
      },
      "cell_type": "code",
      "source": [
        "imdb_task.texts ['train']"
      ],
      "execution_count": 0,
      "outputs": [
        {
          "output_type": "execute_result",
          "data": {
            "text/plain": [
              "array([\"This has to be the funniest stand up comedy I have ever seen. Eddie Izzard is a genius, he picks in Brits, Americans and everyone in between. His style is completely natural and completely hilarious. I doubt that anyone could sit through this and not laugh their a** off. Watch, enjoy, it's funny.\",\n",
              "       'This is apparently the second remake of this film, having been filmed before in 1911 and 1918. And, in so many ways it reminds me of the later film, A YANK AT OXFORD. Both films concern a conceited blow-hard who arrives at one of the top schools in the world and both, ultimately, show the blow-hard slowly learning about teamwork and decency. In this film, William Haines is \"Tom Brown\" and his main rival, \"Bob\" is played by Frances X. Bushman. And, in a supporting role is Jack Pickford--always remembered as the brother of Mary. Of these three, Pickford comes off the best, as the sympathetic loser who becomes Tom\\'s pal--he actually has a few decent scenes as well as a dramatic moment just before the Big Game! All the standard clichÃ\\x83Â©s are there and the movie, because it was done so many times before and since, offers few surprises. However, it is pleasant film and is enjoyable viewing.<br /><br />In my opinion, for a better silent college film, try Harold Lloyd\\'s THE FRESHMAN--it\\'s football scenes are frankly more exciting and Harold is far more likable and sympathetic than the annoying Tom Brown. THE FRESHMAN is probably the best college picture you can find from the era. Another reason why BROWN AT HARVARD is a lesser picture is that William Haines played essentially the same unlikable and bombastic character with the same plot again and again and again (such as in WESTPOINT and THE SMART SET, among others)--and if you\\'ve seen one of these films, you\\'ve seen them all. Well made, but certainly NOT original! And, because it is just a rehash of his other films, anyone giving the film a score of 10 is STRONGLY advised to see these other films.<br /><br />4/25/08==I just checked and saw this this small film was the highest rated film on IMDb from the 1920!! Talk about over-rated! There are dozens and dozens of better films--how this film got to be #1 is anyone\\'s guess.',\n",
              "       'In order to stop her homosexual friend Albert (Perry King) from being deported back to Belgium, Stella (Meg Foster) decides to marry him. The only other problem with that is that Stella herself is a lesbian. The two have their separate lives when one night after Albert\\'s birthday party, they fall into bed and then into love. Later in the film after falling in love, Stella suspects Albert of cheating and shows up at his job one night late after closing. What she finds will leave the viewer stunned. This is a great film, very original. Perry King and Meg Foster are so good in their roles that it is amazing that they were not better recognized for their work here. Very controversial upon its release in 1978, the \"R\" rated film is now \"PG\" in this much more liberal time.<br /><br />Recently released on DVD, the disc contains a \"Making Of\" segment on the special features and in it it\\'s stated that the film was based on an actual story so the viewers who say the film is not \"real\" are mistaken. Everyone is an individual and different people fall in love for different reasons-these are the issues explored in this wonderful film for everyone who has ever loved!',\n",
              "       \"Forest of the Damned starts out as five young friends, brother & sister Emilio (Richard Cambridge) & Ally (Sophie Holland) along with Judd (Daniel Maclagan), Molly (Nicole Petty) & Andrew (David Hood), set off on a week long holiday 'in the middle of nowhere', their words not mine. Anyway, before they know it they're deep in a forest & Emilio clumsily runs over a woman (Frances Da Costa), along with a badly injured person to add to their problems the van they're travelling in won't start & they can't get any signals on their mobile phones. They need to find help quickly so Molly & Judd wander off in the hope of finding a house, as time goes by & darkness begins to fall it becomes clear that they are not alone & that there is something nasty lurking in the woods...<br /><br />This English production was written & directed by Johannes Roberts & having looked over several other comments & reviews both here on the IMDb & across the internet Forest of the Damned seems to divide opinion with some liking it & other's not, personally it didn't do much for at all. The script is credited on screen to Roberts but here on the IMDb it lists Joseph London with 'additional screenplay material' whatever that means, the film is your basic backwoods slasher type thing like The Texas Chainsaw Massacre (1974) with your basic stranded faceless teenage victims being bumped off but uses the interesting concept of fallen angels who roam the forest & kill people for reason that are never explained to any great deal of satisfaction. Then there's Stephen, played by the ever fantastic Tom Savini, who is never given any sort of justification for what he does. Is he there to get victims for the angels? If so why did he kill Andrew by bashing his head in? The story is very loose, it never felt like a proper film. The character's are poor, the dialogue not much better & the lack of any significant story makes it hard to get into it or care about anything that's going on. Having said that it moves along at a reasonable pace & there are a couple of decent scenes here.<br /><br />Director Johannes doesn't do anything special, it's not a particularly stylish or flash film to look at. There's a few decent horror scenes & the Tom Savini character is great whenever he's on screen (although why didn't he hear Judd breaking the door down with an axe while escaping with Molly?) & it's a shame when he gets killed off. There are a couple of decent gore scenes here, someone has their head bashed in, there's a decapitation, someone gets shotgun blasted, someone throat is bitten out, someones lips are bitten off & someone is ripped in half. There is also a fair amount of full frontal female nudity, not that it helps much.<br /><br />Technically Forest of the Damned is OK, it's reasonably well made but nothing overly special or eye-catching. This was shot in England & Wales & it's quite odd to see an English setting for a very American themed backwards horror. The acting is generally pretty poor save for Savini who deserves to be in better than this. Horror author Shaun Hutson has an embarrassing cameo at the end & proves he should stick to writing rather than acting.<br /><br />Forest of the Damned was a pretty poor horror film, it seems to have fans out there so maybe I'm missing something but it's not a film I have much fondness for. Apart from one or two decent moments there's not much here to recommend.\",\n",
              "       ...,\n",
              "       'I love the munna bhai MBBS but \"Lagge raho...\" SUX really SUX. I have never seen such a boring movie in my whole life. And these high ratings really astonished me that wat happened to the taste of Indian cinema viewers ?? <br /><br />**MAY BE SPOILER** <br /><br />An educated girl needs an advice from a Bhai, people discussing their personal prob. on phones come on man from which part of the world u r ??? I agree that films should be fictitious but these things are really indigestible.<br /><br />2 out of 10. (2 stars is for 15 mins good starting)',\n",
              "       \"OK, I kinda like the idea of this movie. I'm in the age demographic, and I kinda identify with some of the stories. Even the sometimes tacky and meaningless dialogue seems semi-realistic, and in a different movie would have been forgivable.<br /><br />I'm trying as hard as possible not to trash this movie like the others did, but it's not that easy when the filmmakers weren't trying at all.<br /><br />The editing in this movie is terrible! Possibly the worst editing I've ever seen in a movie! There are things that you don't have to go to film school to learn, leaning good editing is not one of them, but identifying a bad one is.<br /><br />Also, the shot... Oh my God the shots, just awful! I can't even go into the details, but we sometimes just see random things popping up, and that, in conjunction with the editing will give you the most painful film viewing experience.<br /><br />This movie being made on low or no budget with 4 cast and crew is not an excuse also. I've seen short films on youtube with a lot more artistic integrity! Joe, Greta, I don't know what the heck you were thinking, but this movie is nothing but a masturbation of both your egos. You should be ashamed of yourselves! In conclusion, this movie is like what a really lazy amateur porn movie will be if it was filled with 3 or 4 lousy sex scenes separated by long boring conversations and one disgusting masturbation scene. If that's not your kind of thing, avoid this at all cost!\",\n",
              "       \"... Bad at being intentionally bad...<br /><br />This little gem shot straight onto the MST3k big screen. While it's obvious the movie isn't trying to be taken seriously (Hopefully that their goal, anyway...), the movie is still plain bad. Hell, it makes Leprechaun In Space look big budgeted...<br /><br />In short: Paint my muscle car prune colored!\",\n",
              "       'Great Woody Allen? No. Good Woody Allen? Definitely. I found myself, along with the audience in attendance, laughing hard and often at some of the best Woody Allen lines we\\'ve heard in a while. The aging Allen created an appropriate role for himself as Scarlett Johansson\\'s \"father\" ... well, sort of. Some have said Johansson plays \"a young Dianne Keaton.\" I beg to differ. She plays Woody\\'s dialogue, which, in his comedies, always has a very similar feel...like, well, a Woody Allen comedy. That\\'s fine for us Woody appreciators. She certainly did Woody\\'s dialogue far better than the young cast of his last comedy, Melinda/Melinda. Some may find Woody\\'s humor tiresome, but for those of us who love it when it\\'s done right, we look forward to the next.'],\n",
              "      dtype=object)"
            ]
          },
          "metadata": {
            "tags": []
          },
          "execution_count": 11
        }
      ]
    },
    {
      "metadata": {
        "id": "74Q9oQyaqw-6",
        "colab_type": "text"
      },
      "cell_type": "markdown",
      "source": [
        "## Cleaning/preprocessing text\n",
        "\n",
        "The first real job with working with text is to clean/preprocess it.\n",
        "\n",
        "We do this with the 'clean_text' method (or write your own routine). Specify the dataset you want to clean using the tag you gave it, and how you want to clean it. At the moment, the method will overwrite your data, make sure you save the original version somewhere else!"
      ]
    },
    {
      "metadata": {
        "id": "n60EV18zqw-8",
        "colab_type": "code",
        "outputId": "e81cb2a8-8422-4671-f386-8d715b939290",
        "colab": {
          "base_uri": "https://localhost:8080/",
          "height": 54
        }
      },
      "cell_type": "code",
      "source": [
        "#Before\n",
        "imdb_task.texts ['train'][0]"
      ],
      "execution_count": 0,
      "outputs": [
        {
          "output_type": "execute_result",
          "data": {
            "text/plain": [
              "\"This has to be the funniest stand up comedy I have ever seen. Eddie Izzard is a genius, he picks in Brits, Americans and everyone in between. His style is completely natural and completely hilarious. I doubt that anyone could sit through this and not laugh their a** off. Watch, enjoy, it's funny.\""
            ]
          },
          "metadata": {
            "tags": []
          },
          "execution_count": 12
        }
      ]
    },
    {
      "metadata": {
        "id": "IO53VEyTqw_E",
        "colab_type": "code",
        "colab": {}
      },
      "cell_type": "code",
      "source": [
        "imdb_task.clean_text (text_tag=\"train\", processes=['urls', 'punctuation', 'numeric', 'lower'])"
      ],
      "execution_count": 0,
      "outputs": []
    },
    {
      "metadata": {
        "id": "0r_7TSq7qw_K",
        "colab_type": "code",
        "outputId": "63cb9a34-a48b-4fc4-caf6-23635cfc23b3",
        "colab": {
          "base_uri": "https://localhost:8080/",
          "height": 54
        }
      },
      "cell_type": "code",
      "source": [
        "#After\n",
        "imdb_task.texts ['train'][0]"
      ],
      "execution_count": 0,
      "outputs": [
        {
          "output_type": "execute_result",
          "data": {
            "text/plain": [
              "'this has to be the funniest stand up comedy i have ever seen eddie izzard is a genius he picks in brits americans and everyone in between his style is completely natural and completely hilarious i doubt that anyone could sit through this and not laugh their a off watch enjoy it s funny'"
            ]
          },
          "metadata": {
            "tags": []
          },
          "execution_count": 14
        }
      ]
    },
    {
      "metadata": {
        "id": "-IgEjeEGqw_R",
        "colab_type": "code",
        "colab": {}
      },
      "cell_type": "code",
      "source": [
        "#Clean test data\n",
        "imdb_task.clean_text (text_tag=\"test\", processes=['urls', 'punctuation', 'numeric', 'lower'])"
      ],
      "execution_count": 0,
      "outputs": []
    },
    {
      "metadata": {
        "id": "DUmuB6-_qw_X",
        "colab_type": "text"
      },
      "cell_type": "markdown",
      "source": [
        "Save the task instance - with a lot of text the cleaning can take a while, so it's a good idea to save so you don't need to do it again and can just pick up where you left off"
      ]
    },
    {
      "metadata": {
        "id": "c8Sgcc-Gqw_Y",
        "colab_type": "code",
        "colab": {}
      },
      "cell_type": "code",
      "source": [
        "imdb_task.save (\"imdb_text.pkl\")"
      ],
      "execution_count": 0,
      "outputs": []
    },
    {
      "metadata": {
        "id": "Y7mBqoUsqw_d",
        "colab_type": "code",
        "colab": {}
      },
      "cell_type": "code",
      "source": [
        "#Reload the instance - uncomment this if you're picking up from here\n",
        "#mdb_task = text_task.load (\"imdb_text.pkl\")"
      ],
      "execution_count": 0,
      "outputs": []
    },
    {
      "metadata": {
        "id": "sqr5DH2hqw_g",
        "colab_type": "text"
      },
      "cell_type": "markdown",
      "source": [
        "## Tf-idf\n",
        "\n",
        "Tf-idf (text frequency-inverse document frequency) is a good place to start with most tasks"
      ]
    },
    {
      "metadata": {
        "id": "xl4stO20qw_h",
        "colab_type": "text"
      },
      "cell_type": "markdown",
      "source": [
        "Calculating the tf-idf scores for each review is easy with the class instance - just call 'fit_tf_idf' with the tag of the dataset you want to train the model on"
      ]
    },
    {
      "metadata": {
        "id": "H-dgK9cKqw_l",
        "colab_type": "code",
        "colab": {}
      },
      "cell_type": "code",
      "source": [
        "from sklearn.feature_extraction.text import TfidfVectorizer, CountVectorizer\n",
        "from sklearn.decomposition import LatentDirichletAllocation, NMF"
      ],
      "execution_count": 0,
      "outputs": []
    },
    {
      "metadata": {
        "id": "LWhruo7vqw_o",
        "colab_type": "code",
        "colab": {}
      },
      "cell_type": "code",
      "source": [
        "count_vectorizer = CountVectorizer(max_features=10000, stop_words='english')"
      ],
      "execution_count": 0,
      "outputs": []
    },
    {
      "metadata": {
        "id": "MExV1av2qw_r",
        "colab_type": "code",
        "colab": {}
      },
      "cell_type": "code",
      "source": [
        "cvec_train = count_vectorizer.fit_transform(imdb_task.texts ['train'])\n",
        "cvec_test = count_vectorizer.fit_transform(imdb_task.texts ['test'])"
      ],
      "execution_count": 0,
      "outputs": []
    },
    {
      "metadata": {
        "id": "VRSvOt4Qqw_v",
        "colab_type": "code",
        "colab": {}
      },
      "cell_type": "code",
      "source": [
        "cvec_feature_names = count_vectorizer.get_feature_names()"
      ],
      "execution_count": 0,
      "outputs": []
    },
    {
      "metadata": {
        "id": "P3UjBscvqw_z",
        "colab_type": "code",
        "colab": {}
      },
      "cell_type": "code",
      "source": [
        "#lda_model = LatentDirichletAllocation(n_components=5, max_iter=10, learning_method = \"batch\", random_state=2344)\n",
        "topic_model = NMF(n_components=20,  random_state=2344)"
      ],
      "execution_count": 0,
      "outputs": []
    },
    {
      "metadata": {
        "id": "FVJi0VbEqw_3",
        "colab_type": "code",
        "outputId": "1c1f253e-423f-46d9-983f-3c721f7a2e8d",
        "colab": {
          "base_uri": "https://localhost:8080/",
          "height": 68
        }
      },
      "cell_type": "code",
      "source": [
        "topic_model.fit(cvec_train)"
      ],
      "execution_count": 0,
      "outputs": [
        {
          "output_type": "execute_result",
          "data": {
            "text/plain": [
              "NMF(alpha=0.0, beta_loss='frobenius', init=None, l1_ratio=0.0, max_iter=200,\n",
              "  n_components=20, random_state=2344, shuffle=False, solver='cd',\n",
              "  tol=0.0001, verbose=0)"
            ]
          },
          "metadata": {
            "tags": []
          },
          "execution_count": 23
        }
      ]
    },
    {
      "metadata": {
        "id": "s4VHXqRQqw_9",
        "colab_type": "code",
        "colab": {}
      },
      "cell_type": "code",
      "source": [
        "def display_topics(model, feature_names, no_top_words):\n",
        "    for topic_idx, topic in enumerate(model.components_):\n",
        "        print (\"Topic %d:\" % (topic_idx))\n",
        "        print (\" \".join([feature_names[i] for i in topic.argsort()[:-no_top_words - 1:-1]]))"
      ],
      "execution_count": 0,
      "outputs": []
    },
    {
      "metadata": {
        "id": "LajE4Jt5qxAA",
        "colab_type": "code",
        "colab": {}
      },
      "cell_type": "code",
      "source": [
        "no_top_words = 5"
      ],
      "execution_count": 0,
      "outputs": []
    },
    {
      "metadata": {
        "id": "OyhNFxxaqxAD",
        "colab_type": "code",
        "outputId": "a79c19ab-bd6c-4493-b435-bf7fb17be3c3",
        "colab": {
          "base_uri": "https://localhost:8080/",
          "height": 697
        }
      },
      "cell_type": "code",
      "source": [
        "display_topics(topic_model, cvec_feature_names, no_top_words)"
      ],
      "execution_count": 0,
      "outputs": [
        {
          "output_type": "stream",
          "text": [
            "Topic 0:\n",
            "boots elisabeth days extended poses\n",
            "Topic 1:\n",
            "mstk mtv watts selina porno\n",
            "Topic 2:\n",
            "files filmed die schtick manufactured\n",
            "Topic 3:\n",
            "lisa mtv lovely disliked loneliness\n",
            "Topic 4:\n",
            "changed chaos porno schreiber elisabeth\n",
            "Topic 5:\n",
            "granted proceedings acolytes threads carpenters\n",
            "Topic 6:\n",
            "kissing disliked laser discusses devine\n",
            "Topic 7:\n",
            "strange strained ii activities trucks\n",
            "Topic 8:\n",
            "baba acolytes wreaking mansfield happen\n",
            "Topic 9:\n",
            "pg disliked weaknesses threads scares\n",
            "Topic 10:\n",
            "titanic elisabeth yokozuna louis selina\n",
            "Topic 11:\n",
            "reasonable disliked threads devine watts\n",
            "Topic 12:\n",
            "idealistic filmed ii gravic nickel\n",
            "Topic 13:\n",
            "servant england turmoil network engineers\n",
            "Topic 14:\n",
            "beginnings active die selina combination\n",
            "Topic 15:\n",
            "margaret liner fades farik yuko\n",
            "Topic 16:\n",
            "vice value laser killjoy ranch\n",
            "Topic 17:\n",
            "lunk liner passions chaos weaknesses\n",
            "Topic 18:\n",
            "judicial damn ifc schreiber laughless\n",
            "Topic 19:\n",
            "grutter discussed mussolini luckily woody\n"
          ],
          "name": "stdout"
        }
      ]
    },
    {
      "metadata": {
        "id": "cPFXbZAuqxAI",
        "colab_type": "code",
        "colab": {}
      },
      "cell_type": "code",
      "source": [
        "train_vec = topic_model.transform (cvec_train)\n",
        "test_vec = topic_model.transform (cvec_test)"
      ],
      "execution_count": 0,
      "outputs": []
    },
    {
      "metadata": {
        "id": "re9T4GcoqxAM",
        "colab_type": "code",
        "colab": {}
      },
      "cell_type": "code",
      "source": [
        "import sklearn.linear_model\n",
        "log_reg = sklearn.linear_model.LogisticRegression (C=0.1, solver='newton-cg', random_state=46543)\n",
        "train_labs = np.array (imdb.label.values [imdb.type == \"train\"] == \"pos\")*1\n",
        "test_labs = np.array (imdb.label.values [imdb.type == \"test\"] == \"pos\")*1"
      ],
      "execution_count": 0,
      "outputs": []
    },
    {
      "metadata": {
        "id": "mmsJL_smqxAU",
        "colab_type": "code",
        "outputId": "ac9cbfa2-4e24-485e-a90a-55a4ff6b0fbf",
        "colab": {
          "base_uri": "https://localhost:8080/",
          "height": 85
        }
      },
      "cell_type": "code",
      "source": [
        "log_reg.fit (train_vec, train_labs)"
      ],
      "execution_count": 0,
      "outputs": [
        {
          "output_type": "execute_result",
          "data": {
            "text/plain": [
              "LogisticRegression(C=0.1, class_weight=None, dual=False, fit_intercept=True,\n",
              "          intercept_scaling=1, max_iter=100, multi_class='warn',\n",
              "          n_jobs=None, penalty='l2', random_state=46543,\n",
              "          solver='newton-cg', tol=0.0001, verbose=0, warm_start=False)"
            ]
          },
          "metadata": {
            "tags": []
          },
          "execution_count": 29
        }
      ]
    },
    {
      "metadata": {
        "id": "qXifuvcjqxAY",
        "colab_type": "code",
        "outputId": "2bdaa653-b0eb-4876-e370-c86b395f6568",
        "colab": {
          "base_uri": "https://localhost:8080/",
          "height": 34
        }
      },
      "cell_type": "code",
      "source": [
        "log_reg.score (train_vec, train_labs)"
      ],
      "execution_count": 0,
      "outputs": [
        {
          "output_type": "execute_result",
          "data": {
            "text/plain": [
              "0.7014"
            ]
          },
          "metadata": {
            "tags": []
          },
          "execution_count": 30
        }
      ]
    },
    {
      "metadata": {
        "id": "II_qgGoEqxAc",
        "colab_type": "code",
        "outputId": "0042818c-e5a1-46f2-b2dc-beae63a18ad9",
        "colab": {
          "base_uri": "https://localhost:8080/",
          "height": 34
        }
      },
      "cell_type": "code",
      "source": [
        "log_reg.score (test_vec, test_labs)"
      ],
      "execution_count": 0,
      "outputs": [
        {
          "output_type": "execute_result",
          "data": {
            "text/plain": [
              "0.4995"
            ]
          },
          "metadata": {
            "tags": []
          },
          "execution_count": 31
        }
      ]
    },
    {
      "metadata": {
        "id": "Cn6HXSobqxAh",
        "colab_type": "code",
        "colab": {}
      },
      "cell_type": "code",
      "source": [
        ""
      ],
      "execution_count": 0,
      "outputs": []
    },
    {
      "metadata": {
        "id": "7c1hD4FVqxAk",
        "colab_type": "text"
      },
      "cell_type": "markdown",
      "source": [
        "#### Train tf-idf model"
      ]
    },
    {
      "metadata": {
        "id": "DnEBJrNKqxAm",
        "colab_type": "code",
        "colab": {}
      },
      "cell_type": "code",
      "source": [
        "#Train/fit tf-idf model\n",
        "imdb_task.fit_tf_idf(text_tag='train')"
      ],
      "execution_count": 0,
      "outputs": []
    },
    {
      "metadata": {
        "id": "YM97BEhJqxAs",
        "colab_type": "text"
      },
      "cell_type": "markdown",
      "source": [
        "We can access the fitted scores via 'get_tf_idf' with the dataset tag\n",
        "\n",
        "By default, the tf-idf scores will be as long as our vocabulary is large, which can be massive for a big dataset. I've clipped this to be only the most common 30,000 words.\n",
        "\n",
        "\n",
        "So we get a matrix that is 5,000 (the number of training reviews) by 30,000 (our clipped vocabulary)"
      ]
    },
    {
      "metadata": {
        "id": "rN752SppqxAt",
        "colab_type": "code",
        "outputId": "6b5be6ed-8dd2-4767-b660-1f2ca48a56ea",
        "colab": {
          "base_uri": "https://localhost:8080/",
          "height": 34
        }
      },
      "cell_type": "code",
      "source": [
        "imdb_task.get_tf_idf('train').shape"
      ],
      "execution_count": 0,
      "outputs": [
        {
          "output_type": "execute_result",
          "data": {
            "text/plain": [
              "(5000, 30000)"
            ]
          },
          "metadata": {
            "tags": []
          },
          "execution_count": 33
        }
      ]
    },
    {
      "metadata": {
        "id": "Bt3Yyh5sqxA4",
        "colab_type": "text"
      },
      "cell_type": "markdown",
      "source": [
        "Most of the columns are 0.0 (the word in our vocabulary wasn't mentioned in the particular review) - tf-idf is not very efficient..."
      ]
    },
    {
      "metadata": {
        "id": "mc-rHNCuqxA5",
        "colab_type": "code",
        "outputId": "d506a8ad-6bc0-4c79-e8ac-e67f9ce94570",
        "colab": {
          "base_uri": "https://localhost:8080/",
          "height": 17034
        }
      },
      "cell_type": "code",
      "source": [
        "list (imdb_task.get_tf_idf('train')[0])"
      ],
      "execution_count": 0,
      "outputs": [
        {
          "output_type": "execute_result",
          "data": {
            "text/plain": [
              "[0.0,\n",
              " 0.0,\n",
              " 0.0,\n",
              " 0.0,\n",
              " 0.0,\n",
              " 0.0,\n",
              " 0.0,\n",
              " 0.0,\n",
              " 0.0,\n",
              " 0.0,\n",
              " 0.0,\n",
              " 0.0,\n",
              " 0.0,\n",
              " 0.0,\n",
              " 0.0,\n",
              " 0.0,\n",
              " 0.0,\n",
              " 0.0,\n",
              " 0.0,\n",
              " 0.0,\n",
              " 0.0,\n",
              " 0.0,\n",
              " 0.0,\n",
              " 0.0,\n",
              " 0.0,\n",
              " 0.0,\n",
              " 0.0,\n",
              " 0.0,\n",
              " 0.0,\n",
              " 0.0,\n",
              " 0.0,\n",
              " 0.0,\n",
              " 0.0,\n",
              " 0.0,\n",
              " 0.0,\n",
              " 0.0,\n",
              " 0.0,\n",
              " 0.0,\n",
              " 0.0,\n",
              " 0.0,\n",
              " 0.0,\n",
              " 0.0,\n",
              " 0.0,\n",
              " 0.0,\n",
              " 0.0,\n",
              " 0.0,\n",
              " 0.0,\n",
              " 0.0,\n",
              " 0.0,\n",
              " 0.0,\n",
              " 0.0,\n",
              " 0.0,\n",
              " 0.0,\n",
              " 0.0,\n",
              " 0.0,\n",
              " 0.0,\n",
              " 0.0,\n",
              " 0.0,\n",
              " 0.0,\n",
              " 0.0,\n",
              " 0.0,\n",
              " 0.0,\n",
              " 0.0,\n",
              " 0.0,\n",
              " 0.0,\n",
              " 0.0,\n",
              " 0.0,\n",
              " 0.0,\n",
              " 0.0,\n",
              " 0.0,\n",
              " 0.0,\n",
              " 0.0,\n",
              " 0.0,\n",
              " 0.0,\n",
              " 0.0,\n",
              " 0.0,\n",
              " 0.0,\n",
              " 0.0,\n",
              " 0.0,\n",
              " 0.0,\n",
              " 0.0,\n",
              " 0.0,\n",
              " 0.0,\n",
              " 0.0,\n",
              " 0.0,\n",
              " 0.0,\n",
              " 0.0,\n",
              " 0.0,\n",
              " 0.0,\n",
              " 0.0,\n",
              " 0.0,\n",
              " 0.0,\n",
              " 0.0,\n",
              " 0.0,\n",
              " 0.0,\n",
              " 0.0,\n",
              " 0.0,\n",
              " 0.0,\n",
              " 0.0,\n",
              " 0.0,\n",
              " 0.0,\n",
              " 0.0,\n",
              " 0.0,\n",
              " 0.0,\n",
              " 0.0,\n",
              " 0.0,\n",
              " 0.0,\n",
              " 0.0,\n",
              " 0.0,\n",
              " 0.0,\n",
              " 0.0,\n",
              " 0.0,\n",
              " 0.0,\n",
              " 0.0,\n",
              " 0.0,\n",
              " 0.0,\n",
              " 0.0,\n",
              " 0.0,\n",
              " 0.0,\n",
              " 0.0,\n",
              " 0.0,\n",
              " 0.0,\n",
              " 0.0,\n",
              " 0.0,\n",
              " 0.0,\n",
              " 0.0,\n",
              " 0.0,\n",
              " 0.0,\n",
              " 0.0,\n",
              " 0.0,\n",
              " 0.0,\n",
              " 0.0,\n",
              " 0.0,\n",
              " 0.0,\n",
              " 0.0,\n",
              " 0.0,\n",
              " 0.0,\n",
              " 0.0,\n",
              " 0.0,\n",
              " 0.0,\n",
              " 0.0,\n",
              " 0.0,\n",
              " 0.0,\n",
              " 0.0,\n",
              " 0.0,\n",
              " 0.0,\n",
              " 0.0,\n",
              " 0.0,\n",
              " 0.0,\n",
              " 0.0,\n",
              " 0.0,\n",
              " 0.0,\n",
              " 0.0,\n",
              " 0.0,\n",
              " 0.0,\n",
              " 0.0,\n",
              " 0.0,\n",
              " 0.0,\n",
              " 0.0,\n",
              " 0.0,\n",
              " 0.0,\n",
              " 0.0,\n",
              " 0.0,\n",
              " 0.0,\n",
              " 0.0,\n",
              " 0.0,\n",
              " 0.0,\n",
              " 0.0,\n",
              " 0.0,\n",
              " 0.0,\n",
              " 0.0,\n",
              " 0.0,\n",
              " 0.0,\n",
              " 0.0,\n",
              " 0.0,\n",
              " 0.0,\n",
              " 0.0,\n",
              " 0.0,\n",
              " 0.0,\n",
              " 0.0,\n",
              " 0.0,\n",
              " 0.0,\n",
              " 0.0,\n",
              " 0.0,\n",
              " 0.0,\n",
              " 0.0,\n",
              " 0.0,\n",
              " 0.0,\n",
              " 0.0,\n",
              " 0.0,\n",
              " 0.0,\n",
              " 0.0,\n",
              " 0.0,\n",
              " 0.0,\n",
              " 0.0,\n",
              " 0.0,\n",
              " 0.0,\n",
              " 0.0,\n",
              " 0.0,\n",
              " 0.0,\n",
              " 0.0,\n",
              " 0.0,\n",
              " 0.0,\n",
              " 0.0,\n",
              " 0.0,\n",
              " 0.0,\n",
              " 0.0,\n",
              " 0.0,\n",
              " 0.0,\n",
              " 0.0,\n",
              " 0.0,\n",
              " 0.0,\n",
              " 0.0,\n",
              " 0.0,\n",
              " 0.0,\n",
              " 0.0,\n",
              " 0.0,\n",
              " 0.0,\n",
              " 0.0,\n",
              " 0.0,\n",
              " 0.0,\n",
              " 0.0,\n",
              " 0.0,\n",
              " 0.0,\n",
              " 0.0,\n",
              " 0.0,\n",
              " 0.0,\n",
              " 0.0,\n",
              " 0.0,\n",
              " 0.0,\n",
              " 0.0,\n",
              " 0.0,\n",
              " 0.0,\n",
              " 0.0,\n",
              " 0.0,\n",
              " 0.0,\n",
              " 0.0,\n",
              " 0.0,\n",
              " 0.0,\n",
              " 0.0,\n",
              " 0.0,\n",
              " 0.0,\n",
              " 0.0,\n",
              " 0.0,\n",
              " 0.0,\n",
              " 0.0,\n",
              " 0.0,\n",
              " 0.0,\n",
              " 0.0,\n",
              " 0.0,\n",
              " 0.0,\n",
              " 0.0,\n",
              " 0.0,\n",
              " 0.0,\n",
              " 0.0,\n",
              " 0.0,\n",
              " 0.0,\n",
              " 0.0,\n",
              " 0.0,\n",
              " 0.0,\n",
              " 0.0,\n",
              " 0.0,\n",
              " 0.0,\n",
              " 0.0,\n",
              " 0.0,\n",
              " 0.0,\n",
              " 0.0,\n",
              " 0.0,\n",
              " 0.0,\n",
              " 0.0,\n",
              " 0.0,\n",
              " 0.0,\n",
              " 0.0,\n",
              " 0.0,\n",
              " 0.0,\n",
              " 0.0,\n",
              " 0.0,\n",
              " 0.0,\n",
              " 0.0,\n",
              " 0.0,\n",
              " 0.0,\n",
              " 0.0,\n",
              " 0.0,\n",
              " 0.0,\n",
              " 0.0,\n",
              " 0.0,\n",
              " 0.0,\n",
              " 0.0,\n",
              " 0.0,\n",
              " 0.0,\n",
              " 0.0,\n",
              " 0.0,\n",
              " 0.0,\n",
              " 0.0,\n",
              " 0.0,\n",
              " 0.0,\n",
              " 0.0,\n",
              " 0.0,\n",
              " 0.0,\n",
              " 0.0,\n",
              " 0.0,\n",
              " 0.0,\n",
              " 0.0,\n",
              " 0.0,\n",
              " 0.0,\n",
              " 0.0,\n",
              " 0.0,\n",
              " 0.0,\n",
              " 0.0,\n",
              " 0.0,\n",
              " 0.0,\n",
              " 0.0,\n",
              " 0.0,\n",
              " 0.0,\n",
              " 0.0,\n",
              " 0.0,\n",
              " 0.0,\n",
              " 0.0,\n",
              " 0.0,\n",
              " 0.0,\n",
              " 0.0,\n",
              " 0.0,\n",
              " 0.0,\n",
              " 0.0,\n",
              " 0.0,\n",
              " 0.0,\n",
              " 0.0,\n",
              " 0.0,\n",
              " 0.0,\n",
              " 0.0,\n",
              " 0.0,\n",
              " 0.0,\n",
              " 0.0,\n",
              " 0.0,\n",
              " 0.0,\n",
              " 0.0,\n",
              " 0.0,\n",
              " 0.0,\n",
              " 0.0,\n",
              " 0.0,\n",
              " 0.0,\n",
              " 0.0,\n",
              " 0.0,\n",
              " 0.0,\n",
              " 0.0,\n",
              " 0.0,\n",
              " 0.0,\n",
              " 0.0,\n",
              " 0.0,\n",
              " 0.0,\n",
              " 0.0,\n",
              " 0.0,\n",
              " 0.0,\n",
              " 0.0,\n",
              " 0.0,\n",
              " 0.0,\n",
              " 0.0,\n",
              " 0.0,\n",
              " 0.0,\n",
              " 0.0,\n",
              " 0.0,\n",
              " 0.0,\n",
              " 0.0,\n",
              " 0.0,\n",
              " 0.0,\n",
              " 0.0,\n",
              " 0.0,\n",
              " 0.0,\n",
              " 0.0,\n",
              " 0.0,\n",
              " 0.0,\n",
              " 0.0,\n",
              " 0.0,\n",
              " 0.0,\n",
              " 0.0,\n",
              " 0.0,\n",
              " 0.0,\n",
              " 0.0,\n",
              " 0.0,\n",
              " 0.0,\n",
              " 0.0,\n",
              " 0.0,\n",
              " 0.0,\n",
              " 0.0,\n",
              " 0.0,\n",
              " 0.0,\n",
              " 0.0,\n",
              " 0.0,\n",
              " 0.0,\n",
              " 0.0,\n",
              " 0.0,\n",
              " 0.0,\n",
              " 0.0,\n",
              " 0.0,\n",
              " 0.0,\n",
              " 0.0,\n",
              " 0.0,\n",
              " 0.0,\n",
              " 0.0,\n",
              " 0.0,\n",
              " 0.0,\n",
              " 0.0,\n",
              " 0.0,\n",
              " 0.0,\n",
              " 0.0,\n",
              " 0.0,\n",
              " 0.0,\n",
              " 0.0,\n",
              " 0.0,\n",
              " 0.0,\n",
              " 0.0,\n",
              " 0.0,\n",
              " 0.0,\n",
              " 0.0,\n",
              " 0.0,\n",
              " 0.0,\n",
              " 0.0,\n",
              " 0.0,\n",
              " 0.0,\n",
              " 0.0,\n",
              " 0.0,\n",
              " 0.0,\n",
              " 0.0,\n",
              " 0.0,\n",
              " 0.0,\n",
              " 0.0,\n",
              " 0.0,\n",
              " 0.0,\n",
              " 0.0,\n",
              " 0.0,\n",
              " 0.0,\n",
              " 0.0,\n",
              " 0.0,\n",
              " 0.0,\n",
              " 0.0,\n",
              " 0.0,\n",
              " 0.0,\n",
              " 0.0,\n",
              " 0.0,\n",
              " 0.0,\n",
              " 0.0,\n",
              " 0.0,\n",
              " 0.0,\n",
              " 0.0,\n",
              " 0.0,\n",
              " 0.0,\n",
              " 0.0,\n",
              " 0.0,\n",
              " 0.0,\n",
              " 0.0,\n",
              " 0.0,\n",
              " 0.0,\n",
              " 0.0,\n",
              " 0.0,\n",
              " 0.0,\n",
              " 0.0,\n",
              " 0.0,\n",
              " 0.0,\n",
              " 0.0,\n",
              " 0.0,\n",
              " 0.0,\n",
              " 0.0,\n",
              " 0.0,\n",
              " 0.0,\n",
              " 0.0,\n",
              " 0.0,\n",
              " 0.0,\n",
              " 0.0,\n",
              " 0.0,\n",
              " 0.0,\n",
              " 0.0,\n",
              " 0.0,\n",
              " 0.0,\n",
              " 0.0,\n",
              " 0.0,\n",
              " 0.0,\n",
              " 0.0,\n",
              " 0.0,\n",
              " 0.0,\n",
              " 0.0,\n",
              " 0.0,\n",
              " 0.0,\n",
              " 0.0,\n",
              " 0.0,\n",
              " 0.0,\n",
              " 0.0,\n",
              " 0.0,\n",
              " 0.0,\n",
              " 0.0,\n",
              " 0.0,\n",
              " 0.0,\n",
              " 0.0,\n",
              " 0.0,\n",
              " 0.0,\n",
              " 0.0,\n",
              " 0.0,\n",
              " 0.0,\n",
              " 0.0,\n",
              " 0.0,\n",
              " 0.0,\n",
              " 0.0,\n",
              " 0.0,\n",
              " 0.0,\n",
              " 0.0,\n",
              " 0.0,\n",
              " 0.0,\n",
              " 0.0,\n",
              " 0.0,\n",
              " 0.0,\n",
              " 0.0,\n",
              " 0.0,\n",
              " 0.0,\n",
              " 0.0,\n",
              " 0.0,\n",
              " 0.0,\n",
              " 0.0,\n",
              " 0.0,\n",
              " 0.0,\n",
              " 0.0,\n",
              " 0.0,\n",
              " 0.0,\n",
              " 0.0,\n",
              " 0.0,\n",
              " 0.0,\n",
              " 0.0,\n",
              " 0.0,\n",
              " 0.0,\n",
              " 0.0,\n",
              " 0.0,\n",
              " 0.0,\n",
              " 0.0,\n",
              " 0.0,\n",
              " 0.0,\n",
              " 0.0,\n",
              " 0.0,\n",
              " 0.0,\n",
              " 0.0,\n",
              " 0.0,\n",
              " 0.0,\n",
              " 0.0,\n",
              " 0.0,\n",
              " 0.0,\n",
              " 0.0,\n",
              " 0.0,\n",
              " 0.0,\n",
              " 0.0,\n",
              " 0.0,\n",
              " 0.0,\n",
              " 0.0,\n",
              " 0.0,\n",
              " 0.0,\n",
              " 0.0,\n",
              " 0.0,\n",
              " 0.0,\n",
              " 0.0,\n",
              " 0.0,\n",
              " 0.0,\n",
              " 0.0,\n",
              " 0.0,\n",
              " 0.0,\n",
              " 0.0,\n",
              " 0.0,\n",
              " 0.0,\n",
              " 0.0,\n",
              " 0.0,\n",
              " 0.0,\n",
              " 0.0,\n",
              " 0.0,\n",
              " 0.0,\n",
              " 0.0,\n",
              " 0.0,\n",
              " 0.0,\n",
              " 0.0,\n",
              " 0.0,\n",
              " 0.0,\n",
              " 0.0,\n",
              " 0.0,\n",
              " 0.0,\n",
              " 0.0,\n",
              " 0.0,\n",
              " 0.0,\n",
              " 0.0,\n",
              " 0.0,\n",
              " 0.0,\n",
              " 0.0,\n",
              " 0.0,\n",
              " 0.0,\n",
              " 0.0,\n",
              " 0.0,\n",
              " 0.0,\n",
              " 0.0,\n",
              " 0.0,\n",
              " 0.0,\n",
              " 0.0,\n",
              " 0.0,\n",
              " 0.0,\n",
              " 0.0,\n",
              " 0.0,\n",
              " 0.0,\n",
              " 0.0,\n",
              " 0.0,\n",
              " 0.0,\n",
              " 0.0,\n",
              " 0.0,\n",
              " 0.0,\n",
              " 0.0,\n",
              " 0.0,\n",
              " 0.0,\n",
              " 0.0,\n",
              " 0.0,\n",
              " 0.0,\n",
              " 0.0,\n",
              " 0.0,\n",
              " 0.0,\n",
              " 0.0,\n",
              " 0.0,\n",
              " 0.0,\n",
              " 0.0,\n",
              " 0.0,\n",
              " 0.0,\n",
              " 0.0,\n",
              " 0.0,\n",
              " 0.0,\n",
              " 0.0,\n",
              " 0.0,\n",
              " 0.0,\n",
              " 0.0,\n",
              " 0.0,\n",
              " 0.0,\n",
              " 0.0,\n",
              " 0.0,\n",
              " 0.0,\n",
              " 0.0,\n",
              " 0.0,\n",
              " 0.0,\n",
              " 0.0,\n",
              " 0.0,\n",
              " 0.0,\n",
              " 0.0,\n",
              " 0.0,\n",
              " 0.0,\n",
              " 0.0,\n",
              " 0.0,\n",
              " 0.0,\n",
              " 0.0,\n",
              " 0.0,\n",
              " 0.0,\n",
              " 0.0,\n",
              " 0.2205222491643291,\n",
              " 0.0,\n",
              " 0.0,\n",
              " 0.0,\n",
              " 0.0,\n",
              " 0.0,\n",
              " 0.0,\n",
              " 0.0,\n",
              " 0.0,\n",
              " 0.0,\n",
              " 0.0,\n",
              " 0.0,\n",
              " 0.0,\n",
              " 0.0,\n",
              " 0.0,\n",
              " 0.0,\n",
              " 0.0,\n",
              " 0.0,\n",
              " 0.0,\n",
              " 0.0,\n",
              " 0.0,\n",
              " 0.0,\n",
              " 0.0,\n",
              " 0.0,\n",
              " 0.0,\n",
              " 0.0,\n",
              " 0.0,\n",
              " 0.0,\n",
              " 0.0,\n",
              " 0.0,\n",
              " 0.0,\n",
              " 0.0,\n",
              " 0.0,\n",
              " 0.0,\n",
              " 0.0,\n",
              " 0.0,\n",
              " 0.0,\n",
              " 0.0,\n",
              " 0.0,\n",
              " 0.0,\n",
              " 0.0,\n",
              " 0.0,\n",
              " 0.0,\n",
              " 0.0,\n",
              " 0.0,\n",
              " 0.0,\n",
              " 0.0,\n",
              " 0.0,\n",
              " 0.0,\n",
              " 0.0,\n",
              " 0.0,\n",
              " 0.0,\n",
              " 0.0,\n",
              " 0.0,\n",
              " 0.0,\n",
              " 0.0,\n",
              " 0.0,\n",
              " 0.0,\n",
              " 0.0,\n",
              " 0.0,\n",
              " 0.0,\n",
              " 0.0,\n",
              " 0.0,\n",
              " 0.0,\n",
              " 0.0,\n",
              " 0.0,\n",
              " 0.0,\n",
              " 0.0,\n",
              " 0.12425205604596097,\n",
              " 0.0,\n",
              " 0.0,\n",
              " 0.0,\n",
              " 0.0,\n",
              " 0.0,\n",
              " 0.0,\n",
              " 0.0,\n",
              " 0.0,\n",
              " 0.0,\n",
              " 0.0,\n",
              " 0.0,\n",
              " 0.0,\n",
              " 0.0,\n",
              " 0.0,\n",
              " 0.0,\n",
              " 0.0,\n",
              " 0.0,\n",
              " 0.0,\n",
              " 0.0,\n",
              " 0.0,\n",
              " 0.0,\n",
              " 0.0,\n",
              " 0.0,\n",
              " 0.0,\n",
              " 0.0,\n",
              " 0.0,\n",
              " 0.0,\n",
              " 0.0,\n",
              " 0.0,\n",
              " 0.0,\n",
              " 0.0,\n",
              " 0.0,\n",
              " 0.0,\n",
              " 0.0,\n",
              " 0.0,\n",
              " 0.0,\n",
              " 0.0,\n",
              " 0.0,\n",
              " 0.0,\n",
              " 0.0,\n",
              " 0.0,\n",
              " 0.0,\n",
              " 0.0,\n",
              " 0.0,\n",
              " 0.0,\n",
              " 0.0,\n",
              " 0.0,\n",
              " 0.0,\n",
              " 0.0,\n",
              " 0.0,\n",
              " 0.0,\n",
              " 0.0,\n",
              " 0.0,\n",
              " 0.0,\n",
              " 0.0,\n",
              " 0.0,\n",
              " 0.0,\n",
              " 0.0,\n",
              " 0.0,\n",
              " 0.0,\n",
              " 0.0,\n",
              " 0.0,\n",
              " 0.0,\n",
              " 0.0,\n",
              " 0.0,\n",
              " 0.0,\n",
              " 0.0,\n",
              " 0.0,\n",
              " 0.0,\n",
              " 0.0,\n",
              " 0.0,\n",
              " 0.0,\n",
              " 0.0,\n",
              " 0.0,\n",
              " 0.0,\n",
              " 0.0,\n",
              " 0.0,\n",
              " 0.0,\n",
              " 0.0,\n",
              " 0.0,\n",
              " 0.0,\n",
              " 0.0,\n",
              " 0.0,\n",
              " 0.0,\n",
              " 0.0,\n",
              " 0.0,\n",
              " 0.0,\n",
              " 0.0,\n",
              " 0.0,\n",
              " 0.0,\n",
              " 0.0,\n",
              " 0.0,\n",
              " 0.0,\n",
              " 0.0,\n",
              " 0.0,\n",
              " 0.0,\n",
              " 0.0,\n",
              " 0.0,\n",
              " 0.0,\n",
              " 0.0,\n",
              " 0.0,\n",
              " 0.0,\n",
              " 0.0,\n",
              " 0.0,\n",
              " 0.0,\n",
              " 0.0,\n",
              " 0.0,\n",
              " 0.0,\n",
              " 0.0,\n",
              " 0.0,\n",
              " 0.0,\n",
              " 0.0,\n",
              " 0.0,\n",
              " 0.0,\n",
              " 0.0,\n",
              " 0.0,\n",
              " 0.0,\n",
              " 0.0,\n",
              " 0.0,\n",
              " 0.0,\n",
              " 0.0,\n",
              " 0.0,\n",
              " 0.0,\n",
              " 0.0,\n",
              " 0.0,\n",
              " 0.0,\n",
              " 0.0,\n",
              " 0.0,\n",
              " 0.0,\n",
              " 0.0,\n",
              " 0.0,\n",
              " 0.0,\n",
              " 0.0,\n",
              " 0.0,\n",
              " 0.13312433276641772,\n",
              " 0.0,\n",
              " 0.0,\n",
              " 0.0,\n",
              " 0.0,\n",
              " 0.0,\n",
              " 0.0,\n",
              " 0.0,\n",
              " 0.0,\n",
              " 0.0,\n",
              " 0.0,\n",
              " 0.0,\n",
              " 0.0,\n",
              " 0.0,\n",
              " 0.0,\n",
              " 0.0,\n",
              " 0.0,\n",
              " 0.0,\n",
              " 0.0,\n",
              " 0.0,\n",
              " 0.0,\n",
              " 0.0,\n",
              " 0.0,\n",
              " 0.0,\n",
              " 0.0,\n",
              " 0.0,\n",
              " 0.0,\n",
              " 0.0,\n",
              " 0.0,\n",
              " 0.0,\n",
              " 0.0,\n",
              " 0.0,\n",
              " 0.0,\n",
              " 0.0,\n",
              " 0.0,\n",
              " 0.0,\n",
              " 0.0,\n",
              " 0.0,\n",
              " 0.0,\n",
              " 0.0,\n",
              " 0.0,\n",
              " 0.0,\n",
              " 0.0,\n",
              " 0.0,\n",
              " 0.0,\n",
              " 0.0,\n",
              " 0.0,\n",
              " 0.0,\n",
              " 0.0,\n",
              " 0.0,\n",
              " 0.0,\n",
              " 0.0,\n",
              " 0.0,\n",
              " 0.0,\n",
              " 0.0,\n",
              " 0.0,\n",
              " 0.0,\n",
              " 0.0,\n",
              " 0.0,\n",
              " 0.0,\n",
              " 0.0,\n",
              " 0.0,\n",
              " 0.0,\n",
              " 0.0,\n",
              " 0.0,\n",
              " 0.0,\n",
              " 0.0,\n",
              " 0.0,\n",
              " 0.0,\n",
              " 0.0,\n",
              " 0.0,\n",
              " 0.0,\n",
              " 0.0,\n",
              " 0.0,\n",
              " 0.0,\n",
              " 0.0,\n",
              " 0.0,\n",
              " 0.0,\n",
              " 0.0,\n",
              " 0.0,\n",
              " 0.0,\n",
              " 0.0,\n",
              " 0.0,\n",
              " 0.0,\n",
              " 0.0,\n",
              " 0.0,\n",
              " 0.0,\n",
              " 0.0,\n",
              " 0.0,\n",
              " 0.0,\n",
              " 0.0,\n",
              " 0.0,\n",
              " 0.0,\n",
              " 0.0,\n",
              " 0.0,\n",
              " 0.0,\n",
              " 0.0,\n",
              " 0.0,\n",
              " 0.0,\n",
              " 0.0,\n",
              " 0.0,\n",
              " 0.0,\n",
              " 0.0,\n",
              " 0.0,\n",
              " 0.0,\n",
              " 0.0,\n",
              " 0.0,\n",
              " 0.0,\n",
              " 0.0,\n",
              " 0.0,\n",
              " 0.0,\n",
              " 0.0,\n",
              " 0.0,\n",
              " 0.0,\n",
              " 0.0,\n",
              " 0.0,\n",
              " 0.0,\n",
              " 0.0,\n",
              " 0.0,\n",
              " 0.0,\n",
              " 0.0,\n",
              " 0.0,\n",
              " 0.0,\n",
              " 0.0,\n",
              " 0.0,\n",
              " 0.0,\n",
              " 0.0,\n",
              " 0.0,\n",
              " 0.0,\n",
              " 0.0,\n",
              " 0.0,\n",
              " 0.0,\n",
              " 0.0,\n",
              " 0.0,\n",
              " 0.0,\n",
              " 0.0,\n",
              " 0.0,\n",
              " 0.0,\n",
              " 0.0,\n",
              " 0.0,\n",
              " 0.0,\n",
              " 0.0,\n",
              " 0.0,\n",
              " 0.0,\n",
              " 0.0,\n",
              " 0.0,\n",
              " 0.0,\n",
              " 0.0,\n",
              " 0.0,\n",
              " ...]"
            ]
          },
          "metadata": {
            "tags": []
          },
          "execution_count": 34
        }
      ]
    },
    {
      "metadata": {
        "id": "fpDarBTzqxA-",
        "colab_type": "text"
      },
      "cell_type": "markdown",
      "source": [
        "#### Apply model to test set"
      ]
    },
    {
      "metadata": {
        "id": "76YWh9TVqxA-",
        "colab_type": "text"
      },
      "cell_type": "markdown",
      "source": [
        "While we could use the above method on our test set that's likely to give use a biased result - the test set is supposed to represent data we've never seen before.\n",
        "\n",
        "So instead of calling 'fit_tf_idf' call 'transform_tf_idf' - this <b>applies</b> the model we trained earlier rather than training it. We specify the tag of data it was trained on and the tag of the data we want to apply it to"
      ]
    },
    {
      "metadata": {
        "id": "UxGSX06vqxBE",
        "colab_type": "code",
        "colab": {}
      },
      "cell_type": "code",
      "source": [
        "imdb_task.transform_tf_idf(fit_model_tag = 'train', to_text_tag='test')"
      ],
      "execution_count": 0,
      "outputs": []
    },
    {
      "metadata": {
        "id": "nyxfSEI2qxBJ",
        "colab_type": "text"
      },
      "cell_type": "markdown",
      "source": [
        "For the test data we get a matrix that's 2,000 (the number of test reviews) by 30,000 (the clipped vocabulary size of the <b> training data </b>)"
      ]
    },
    {
      "metadata": {
        "id": "2IwwpQjQqxBK",
        "colab_type": "code",
        "outputId": "802e81c5-a85d-4d84-f590-bd021925a7f2",
        "colab": {
          "base_uri": "https://localhost:8080/",
          "height": 34
        }
      },
      "cell_type": "code",
      "source": [
        "imdb_task.get_tf_idf('test').shape"
      ],
      "execution_count": 0,
      "outputs": [
        {
          "output_type": "execute_result",
          "data": {
            "text/plain": [
              "(2000, 30000)"
            ]
          },
          "metadata": {
            "tags": []
          },
          "execution_count": 36
        }
      ]
    },
    {
      "metadata": {
        "id": "-a5EIJlAqxBN",
        "colab_type": "text"
      },
      "cell_type": "markdown",
      "source": [
        "#### Predict sentiment using the tf-idf scores\n",
        "\n",
        "We can use the tf-idf scores just like any other data.\n",
        "\n",
        "Here we feed them into a logistic regression model to try to predict the sentiment of the reviews"
      ]
    },
    {
      "metadata": {
        "id": "cnnmKtQOqxBO",
        "colab_type": "code",
        "colab": {}
      },
      "cell_type": "code",
      "source": [
        "import sklearn.linear_model"
      ],
      "execution_count": 0,
      "outputs": []
    },
    {
      "metadata": {
        "id": "YaA8GCcEqxBV",
        "colab_type": "code",
        "colab": {}
      },
      "cell_type": "code",
      "source": [
        "#Create regression model class instance\n",
        "log_reg = sklearn.linear_model.LogisticRegression (C=0.1, solver='newton-cg', random_state=46543)"
      ],
      "execution_count": 0,
      "outputs": []
    },
    {
      "metadata": {
        "id": "7R_OpquMqxBb",
        "colab_type": "code",
        "colab": {}
      },
      "cell_type": "code",
      "source": [
        "#Format the sentiment labels from the imdb data so we can use them in the regression model (turn 'pos' to '1' and 'neg' to '0')\n",
        "train_labs = np.array (imdb.label.values [imdb.type == \"train\"] == \"pos\")*1\n",
        "test_labs = np.array (imdb.label.values [imdb.type == \"test\"] == \"pos\")*1"
      ],
      "execution_count": 0,
      "outputs": []
    },
    {
      "metadata": {
        "id": "DiLlbhKzqxBd",
        "colab_type": "text"
      },
      "cell_type": "markdown",
      "source": [
        "Train the regression model on the training data. Because our data are 30,000 columns wide this takes a long time to fit even with 5,000 reviews, it takes a very long time and isn't really practical with a big dataset (though dimensionality reduction could help here: https://scikit-learn.org/stable/modules/unsupervised_reduction.html"
      ]
    },
    {
      "metadata": {
        "id": "rvnKfJncqxBd",
        "colab_type": "code",
        "outputId": "424a50f8-3b86-4bcd-f804-59fb94034644",
        "colab": {
          "base_uri": "https://localhost:8080/",
          "height": 85
        }
      },
      "cell_type": "code",
      "source": [
        "#Train the regression model on the training data. Because our data are 30,000 columns wide this takes a long time to fit (even with )\n",
        "log_reg.fit (imdb_task.get_tf_idf(text_tag='train'), train_labs)"
      ],
      "execution_count": 0,
      "outputs": [
        {
          "output_type": "execute_result",
          "data": {
            "text/plain": [
              "LogisticRegression(C=0.1, class_weight=None, dual=False, fit_intercept=True,\n",
              "          intercept_scaling=1, max_iter=100, multi_class='warn',\n",
              "          n_jobs=None, penalty='l2', random_state=46543,\n",
              "          solver='newton-cg', tol=0.0001, verbose=0, warm_start=False)"
            ]
          },
          "metadata": {
            "tags": []
          },
          "execution_count": 40
        }
      ]
    },
    {
      "metadata": {
        "id": "VMxFecMbqxBn",
        "colab_type": "text"
      },
      "cell_type": "markdown",
      "source": [
        "We get 84% accuracy on training data "
      ]
    },
    {
      "metadata": {
        "id": "KoDJxo10qxBo",
        "colab_type": "code",
        "outputId": "c7f26ad5-f62b-4aad-cdf6-3c4f972ba0b3",
        "colab": {
          "base_uri": "https://localhost:8080/",
          "height": 34
        }
      },
      "cell_type": "code",
      "source": [
        "log_reg.score(imdb_task.get_tf_idf(text_tag='train'), train_labs)"
      ],
      "execution_count": 0,
      "outputs": [
        {
          "output_type": "execute_result",
          "data": {
            "text/plain": [
              "0.843"
            ]
          },
          "metadata": {
            "tags": []
          },
          "execution_count": 41
        }
      ]
    },
    {
      "metadata": {
        "id": "FnYTTB8aqxBr",
        "colab_type": "text"
      },
      "cell_type": "markdown",
      "source": [
        "And 80% on the test data"
      ]
    },
    {
      "metadata": {
        "id": "ZeJO-sYjqxBr",
        "colab_type": "code",
        "outputId": "c0334de4-fc98-43e3-9542-0c9d15179300",
        "colab": {
          "base_uri": "https://localhost:8080/",
          "height": 34
        }
      },
      "cell_type": "code",
      "source": [
        "log_reg.score(imdb_task.get_tf_idf(text_tag='test'), test_labs)"
      ],
      "execution_count": 0,
      "outputs": [
        {
          "output_type": "execute_result",
          "data": {
            "text/plain": [
              "0.8055"
            ]
          },
          "metadata": {
            "tags": []
          },
          "execution_count": 42
        }
      ]
    },
    {
      "metadata": {
        "id": "xi3kqQUzUuz_",
        "colab_type": "text"
      },
      "cell_type": "markdown",
      "source": [
        "## Topic modelling\n",
        "\n",
        "Topic modelling refers to a set techniques to automatically identify key topics in a corpus of text."
      ]
    },
    {
      "metadata": {
        "id": "ODQC9EgNVVnB",
        "colab_type": "code",
        "colab": {}
      },
      "cell_type": "code",
      "source": [
        "#To train the topic model we need to specify the number of topics we want to find\n",
        "#We choose 20 in this case, but it's a good idea to play with this \n",
        "#and see what results come out\n",
        "imdb_task.train_topic_model (text_tag = \"train\", ntopics = 20)"
      ],
      "execution_count": 0,
      "outputs": []
    },
    {
      "metadata": {
        "id": "By-Yjxr8VoVc",
        "colab_type": "code",
        "colab": {}
      },
      "cell_type": "code",
      "source": [
        "#To try to understand what the topics relate to, we show the 5 words (or more)\n",
        "#that are most stronly associated with each topic.\n",
        "\n",
        "#These can be a little hard to understand at first and usually need a bit of \n",
        "#digging to interpret!\n",
        "imdb_task.display_topics(nwords = 5)"
      ],
      "execution_count": 0,
      "outputs": []
    },
    {
      "metadata": {
        "id": "3DG-gscuVzwf",
        "colab_type": "code",
        "colab": {}
      },
      "cell_type": "code",
      "source": [
        "#We can also get the probability of each topic being referred to in \n",
        "#each review. We do this for the train and test sets\n",
        "train_topic_preds = imdb_task.get_topic_preds ('train')\n",
        "test_topic_preds = imdb_task.get_topic_preds ('test')"
      ],
      "execution_count": 0,
      "outputs": []
    },
    {
      "metadata": {
        "id": "d62P6MipWJ79",
        "colab_type": "code",
        "colab": {}
      },
      "cell_type": "code",
      "source": [
        "#We get a matrix with each review (5000) by each topic (20).\n",
        "#This is a much more manageable set of data that we can try to classify\n",
        "#sentiment with\n",
        "train_topic_preds.shape"
      ],
      "execution_count": 0,
      "outputs": []
    },
    {
      "metadata": {
        "id": "1Ve6lyeqWk_1",
        "colab_type": "code",
        "colab": {}
      },
      "cell_type": "code",
      "source": [
        "#Load the logistic regression model and format the labels as before\n",
        "import sklearn.linear_model\n",
        "log_reg = sklearn.linear_model.LogisticRegression (C=0.1, solver='newton-cg', random_state=46543)\n",
        "train_labs = np.array (imdb.label.values [imdb.type == \"train\"] == \"pos\")*1\n",
        "test_labs = np.array (imdb.label.values [imdb.type == \"test\"] == \"pos\")*1"
      ],
      "execution_count": 0,
      "outputs": []
    },
    {
      "metadata": {
        "id": "4zkwhBGFWsPU",
        "colab_type": "code",
        "colab": {}
      },
      "cell_type": "code",
      "source": [
        "#Fit the model to the training data\n",
        "log_reg.fit (train_topic_preds, train_labs)"
      ],
      "execution_count": 0,
      "outputs": []
    },
    {
      "metadata": {
        "id": "f3cCUu9YW1h5",
        "colab_type": "text"
      },
      "cell_type": "markdown",
      "source": [
        "Our accuracy has gone down quite a bit... we could try other \"dimensionality reduction\" techniques https://scikit-learn.org/stable/modules/unsupervised_reduction.html"
      ]
    },
    {
      "metadata": {
        "id": "gFC95fS2Wv87",
        "colab_type": "code",
        "colab": {}
      },
      "cell_type": "code",
      "source": [
        "log_reg.score (train_topic_preds, train_labs)"
      ],
      "execution_count": 0,
      "outputs": []
    },
    {
      "metadata": {
        "id": "Vd9fAEZ0Wza-",
        "colab_type": "code",
        "colab": {}
      },
      "cell_type": "code",
      "source": [
        "log_reg.score (test_topic_preds, test_labs)"
      ],
      "execution_count": 0,
      "outputs": []
    },
    {
      "metadata": {
        "id": "AQVca2Y1qxBu",
        "colab_type": "text"
      },
      "cell_type": "markdown",
      "source": [
        "## Word embeddings\n",
        "\n",
        "Word embeddings often do a much better job of capturing the semantic relationships between words that bag-of-words methods with tf-idf, and are easier to work with.\n",
        "\n",
        "If the text we're using isn't too obscure, you can usually get better performance using 'pre-trained' embeddings rather than training your own. These are models that Google, Facebook and other companies with lots of computing power available have trained on enormous datasets."
      ]
    },
    {
      "metadata": {
        "id": "nAbkN9e0qxBv",
        "colab_type": "code",
        "outputId": "30a568b3-7a75-4baf-ec6b-e3cf4482af45",
        "colab": {
          "base_uri": "https://localhost:8080/",
          "height": 238
        }
      },
      "cell_type": "code",
      "source": [
        "#There are lots of pretrained models available. You can list them like this. This shows the type of model (e.g. glove)\n",
        "#the data it was trained on (e.g. wikipedia or twitter) and the size of the embedding (the number of columns). \n",
        "\n",
        "#Glove/Word2vec are often better at capturing semantic relationships while fasttext is often better at semantics.\n",
        "#Larger embedding sizes usually give better performance but are slower to work with.\n",
        "\n",
        "imdb_task.get_available_embeddings()"
      ],
      "execution_count": 0,
      "outputs": [
        {
          "output_type": "execute_result",
          "data": {
            "text/plain": [
              "['fasttext-wiki-news-subwords-300',\n",
              " 'conceptnet-numberbatch-17-06-300',\n",
              " 'word2vec-ruscorpora-300',\n",
              " 'word2vec-google-news-300',\n",
              " 'glove-wiki-gigaword-50',\n",
              " 'glove-wiki-gigaword-100',\n",
              " 'glove-wiki-gigaword-200',\n",
              " 'glove-wiki-gigaword-300',\n",
              " 'glove-twitter-25',\n",
              " 'glove-twitter-50',\n",
              " 'glove-twitter-100',\n",
              " 'glove-twitter-200',\n",
              " '__testing_word2vec-matrix-synopsis']"
            ]
          },
          "metadata": {
            "tags": []
          },
          "execution_count": 43
        }
      ]
    },
    {
      "metadata": {
        "id": "i53LpiOHqxB3",
        "colab_type": "text"
      },
      "cell_type": "markdown",
      "source": [
        "The models can take a long time to download (the fasttext one is 1GB), so we'll use the smallest embedding size. I'd strongly recommend changing this for a bigger model for a real application.\n",
        "\n",
        "Applying the model to text is as simple as calling 'embed_text' with the dataset tag and the model you want to use. This will take quite a while to load the model, but you only need to do this once every session and it's really quick to apply after this."
      ]
    },
    {
      "metadata": {
        "id": "VfmnzEh5qxB6",
        "colab_type": "code",
        "outputId": "560c5139-bb11-4bfd-f2b0-cb39b0882a43",
        "colab": {
          "base_uri": "https://localhost:8080/",
          "height": 153
        }
      },
      "cell_type": "code",
      "source": [
        "imdb_task.embed_text(text_tags='train', pretrained_model_tag='glove-twitter-25')"
      ],
      "execution_count": 0,
      "outputs": [
        {
          "output_type": "stream",
          "text": [
            "Loading model\n",
            "[==================================================] 100.0% 104.8/104.8MB downloaded\n",
            "Embedding 5000 texts\n",
            "0\n",
            "1000\n",
            "2000\n",
            "3000\n",
            "4000\n"
          ],
          "name": "stdout"
        }
      ]
    },
    {
      "metadata": {
        "id": "C7qB3V-nqxCD",
        "colab_type": "code",
        "outputId": "9c4e39d5-571e-4543-f5d9-57a2ec2b694c",
        "colab": {
          "base_uri": "https://localhost:8080/",
          "height": 68
        }
      },
      "cell_type": "code",
      "source": [
        "imdb_task.embed_text(text_tags='test', pretrained_model_tag='glove-twitter-25')"
      ],
      "execution_count": 0,
      "outputs": [
        {
          "output_type": "stream",
          "text": [
            "Embedding 2000 texts\n",
            "0\n",
            "1000\n"
          ],
          "name": "stdout"
        }
      ]
    },
    {
      "metadata": {
        "id": "u6UjL6MvqxCG",
        "colab_type": "text"
      },
      "cell_type": "markdown",
      "source": [
        "#### Semantics of word embeddings"
      ]
    },
    {
      "metadata": {
        "id": "Q4-kptAxqxCH",
        "colab_type": "code",
        "outputId": "2af47ce8-1eea-4c2d-e092-cbd15e68caf1",
        "colab": {
          "base_uri": "https://localhost:8080/",
          "height": 326
        }
      },
      "cell_type": "code",
      "source": [
        "imdb_task.emb_models ['glove-twitter-25'].most_similar (\"kanye\", topn = 15)"
      ],
      "execution_count": 0,
      "outputs": [
        {
          "output_type": "stream",
          "text": [
            "/usr/local/lib/python3.6/dist-packages/gensim/matutils.py:737: FutureWarning: Conversion of the second argument of issubdtype from `int` to `np.signedinteger` is deprecated. In future, it will be treated as `np.int64 == np.dtype(int).type`.\n",
            "  if np.issubdtype(vec.dtype, np.int):\n"
          ],
          "name": "stderr"
        },
        {
          "output_type": "execute_result",
          "data": {
            "text/plain": [
              "[('jay-z', 0.9496527314186096),\n",
              " ('drake', 0.9476633667945862),\n",
              " ('trey', 0.9405695796012878),\n",
              " ('wayne', 0.9334985017776489),\n",
              " ('ross', 0.9329334497451782),\n",
              " ('beyonce', 0.9278717041015625),\n",
              " ('stevie', 0.924564778804779),\n",
              " ('usher', 0.9236401915550232),\n",
              " ('ciara', 0.9228289723396301),\n",
              " ('nicki', 0.9154650568962097),\n",
              " ('pharrell', 0.9058845639228821),\n",
              " ('mariah', 0.9040012955665588),\n",
              " ('minaj', 0.903660774230957),\n",
              " ('chainz', 0.9019912481307983),\n",
              " ('tyga', 0.9009972214698792)]"
            ]
          },
          "metadata": {
            "tags": []
          },
          "execution_count": 46
        }
      ]
    },
    {
      "metadata": {
        "id": "6EYLJ-yCqxCL",
        "colab_type": "code",
        "outputId": "21d4f539-e9f2-4369-e57c-7957bd0b6011",
        "colab": {
          "base_uri": "https://localhost:8080/",
          "height": 326
        }
      },
      "cell_type": "code",
      "source": [
        "imdb_task.emb_models ['glove-twitter-25'].most_similar (\"queen\", topn = 15)"
      ],
      "execution_count": 0,
      "outputs": [
        {
          "output_type": "stream",
          "text": [
            "/usr/local/lib/python3.6/dist-packages/gensim/matutils.py:737: FutureWarning: Conversion of the second argument of issubdtype from `int` to `np.signedinteger` is deprecated. In future, it will be treated as `np.int64 == np.dtype(int).type`.\n",
            "  if np.issubdtype(vec.dtype, np.int):\n"
          ],
          "name": "stderr"
        },
        {
          "output_type": "execute_result",
          "data": {
            "text/plain": [
              "[('princess', 0.9393543004989624),\n",
              " ('lady', 0.933632493019104),\n",
              " ('prince', 0.9268781542778015),\n",
              " ('king', 0.9202420711517334),\n",
              " ('aka', 0.8976844549179077),\n",
              " ('hero', 0.8970822095870972),\n",
              " ('beautiful', 0.8900729417800903),\n",
              " ('angel', 0.8794295787811279),\n",
              " ('love', 0.8791000843048096),\n",
              " ('lana', 0.8773646354675293),\n",
              " ('song', 0.8772189617156982),\n",
              " ('hunter', 0.874837338924408),\n",
              " ('baby', 0.8734958171844482),\n",
              " ('singer', 0.871101975440979),\n",
              " ('star', 0.8697962164878845)]"
            ]
          },
          "metadata": {
            "tags": []
          },
          "execution_count": 47
        }
      ]
    },
    {
      "metadata": {
        "id": "uFkDW9GQqxCO",
        "colab_type": "code",
        "outputId": "59c013d2-c28f-41c9-eae9-3f1d4b7b48a6",
        "colab": {
          "base_uri": "https://localhost:8080/",
          "height": 156
        }
      },
      "cell_type": "code",
      "source": [
        "emb_model = imdb_task.emb_models ['glove-twitter-25']\n",
        "emb_model.similar_by_vector (emb_model[\"london\"] - emb_model [\"uk\"] + emb_model [\"france\"], topn = 5)"
      ],
      "execution_count": 0,
      "outputs": [
        {
          "output_type": "stream",
          "text": [
            "/usr/local/lib/python3.6/dist-packages/gensim/matutils.py:737: FutureWarning: Conversion of the second argument of issubdtype from `int` to `np.signedinteger` is deprecated. In future, it will be treated as `np.int64 == np.dtype(int).type`.\n",
            "  if np.issubdtype(vec.dtype, np.int):\n"
          ],
          "name": "stderr"
        },
        {
          "output_type": "execute_result",
          "data": {
            "text/plain": [
              "[('france', 0.9207379221916199),\n",
              " ('paris', 0.9196597337722778),\n",
              " ('lyon', 0.8785386085510254),\n",
              " ('grand', 0.8772081732749939),\n",
              " ('marseille', 0.8520588874816895)]"
            ]
          },
          "metadata": {
            "tags": []
          },
          "execution_count": 48
        }
      ]
    },
    {
      "metadata": {
        "id": "ZaYid_ZjqxCU",
        "colab_type": "code",
        "outputId": "754edd79-e71f-4546-93ac-53775ce52b9a",
        "colab": {
          "base_uri": "https://localhost:8080/",
          "height": 105
        }
      },
      "cell_type": "code",
      "source": [
        "print (\"Similarity nurse/she: \" + str (emb_model.similarity (\"nurse\", \"she\")) + \" Similarity nurse/he: \" + str (emb_model.similarity (\"nurse\", \"he\")))\n",
        "print (\"Similarity doctor/she: \" + str (emb_model.similarity (\"doctor\", \"she\")) + \" Similarity nurse/he: \" + str (emb_model.similarity (\"doctor\", \"he\")))"
      ],
      "execution_count": 0,
      "outputs": [
        {
          "output_type": "stream",
          "text": [
            "Similarity nurse/she: 0.49813786 Similarity nurse/he: 0.3893748\n",
            "Similarity doctor/she: 0.70306164 Similarity nurse/he: 0.7907317\n"
          ],
          "name": "stdout"
        },
        {
          "output_type": "stream",
          "text": [
            "/usr/local/lib/python3.6/dist-packages/gensim/matutils.py:737: FutureWarning: Conversion of the second argument of issubdtype from `int` to `np.signedinteger` is deprecated. In future, it will be treated as `np.int64 == np.dtype(int).type`.\n",
            "  if np.issubdtype(vec.dtype, np.int):\n"
          ],
          "name": "stderr"
        }
      ]
    },
    {
      "metadata": {
        "id": "77IVnT6BqxCX",
        "colab_type": "text"
      },
      "cell_type": "markdown",
      "source": [
        "#### Search text\n",
        "\n",
        "One useful application of word embeddings is searching for text matching a particular term or phrase"
      ]
    },
    {
      "metadata": {
        "id": "OARdWubqqxCX",
        "colab_type": "code",
        "colab": {}
      },
      "cell_type": "code",
      "source": [
        "lookup_word = 'horror'"
      ],
      "execution_count": 0,
      "outputs": []
    },
    {
      "metadata": {
        "id": "UvxHK6oWqxCb",
        "colab_type": "code",
        "outputId": "9da70f72-82a3-4925-e2d6-552acd4d850b",
        "colab": {
          "base_uri": "https://localhost:8080/",
          "height": 102
        }
      },
      "cell_type": "code",
      "source": [
        "#Specify the lookup word or phrase, the model you want to use (make sure to apply the embeddings first) and the dataset.\n",
        "#We get back the similarity to the lookup word for each word in the specified dataset, the similarity for each document,\n",
        "#and the order of the index of the dataset, with the most similar document first and the least similar last.\n",
        "\n",
        "word_similarities, document_similarities, ordering = imdb_task.embedding_lookup(text_tag='train', \n",
        "                                                           pretrained_model_tag='glove-twitter-25', \n",
        "                                                           lookup_text=lookup_word)"
      ],
      "execution_count": 0,
      "outputs": [
        {
          "output_type": "stream",
          "text": [
            "0\n",
            "1000\n",
            "2000\n",
            "3000\n",
            "4000\n"
          ],
          "name": "stdout"
        }
      ]
    },
    {
      "metadata": {
        "id": "6Xe6ZsWVqxCe",
        "colab_type": "text"
      },
      "cell_type": "markdown",
      "source": [
        "We can use the word simiarities to highlight the words the model is paying attention to when searching.\n",
        "\n",
        "The advantage of using word embeddings to do this search over a simple keyword search is that the embeddings pay attention to similar words, not just exact matches: e.g. evil, killer, ghost"
      ]
    },
    {
      "metadata": {
        "id": "D-3l7G_3qxCf",
        "colab_type": "code",
        "outputId": "e1477ddc-2e9a-4a1b-9421-22789a2df4f2",
        "colab": {
          "base_uri": "https://localhost:8080/",
          "height": 2295
        }
      },
      "cell_type": "code",
      "source": [
        "imdb_task.print_coloured_text (np.array (imdb_task.colour_attention (text_tag='train', attention_weights = word_similarities)) [ordering [0:20]])"
      ],
      "execution_count": 0,
      "outputs": [
        {
          "output_type": "stream",
          "text": [
            "0\n",
            "1000\n",
            "2000\n",
            "3000\n",
            "4000\n"
          ],
          "name": "stdout"
        },
        {
          "output_type": "execute_result",
          "data": {
            "text/html": [
              "<text style=background-color:#00ff0023>this</text> <text style=background-color:#00ff0025>is</text> <text style=background-color:#00ff001b>a</text> <text style=background-color:#00ff0011>very</text> <text style=background-color:#00ff0030>dark</text> <text style=background-color:#00ff0015>and</text> <text style=background-color:#00ff0003>intriguing</text> <text style=background-color:#00ff00ff>horror</text> <text style=background-color:#00ff0021>type</text> <text style=background-color:#00ff0041>thriller</text> <text style=background-color:#00ff0013>based</text> <text style=background-color:#00ff0013>on</text> <text style=background-color:#00ff0024>the</text> <text style=background-color:#00ff0032>idea</text> <text style=background-color:#00ff0023>of</text> <text style=background-color:#00ff0008>religious</text> <text style=background-color:#00ff0002>murders</text> <text style=background-color:#00ff0024>the</text> <text style=background-color:#00ff001a>storyline</text> <text style=background-color:#00ff0000>centres</text> <text style=background-color:#00ff0013>on</text> <text style=background-color:#00ff001b>a</text> <text style=background-color:#00ff0001>deranged</text> <text style=background-color:#00ff0023>man</text> <text style=background-color:#00ff000d>who</text> <text style=background-color:#00ff0010>lives</text> <text style=background-color:#00ff0015>in</text> <text style=background-color:#00ff0006>texas</text> <text style=background-color:#00ff000c>us</text> <text style=background-color:#00ff000d>who</text> <text style=background-color:#00ff000f>suddenly</text> <text style=background-color:#00ff0013>goes</text> <text style=background-color:#00ff0013>on</text> <text style=background-color:#00ff001b>a</text> <text style=background-color:#00ff000f>killing</text> <text style=background-color:#00ff0001>spree</text> <text style=background-color:#00ff0018>with</text> <text style=background-color:#00ff000d>his</text> <text style=background-color:#00ff0013>two</text> <text style=background-color:#00ff0017>young</text> <text style=background-color:#00ff0014>sons</text> <text style=background-color:#00ff0017>after</text> <text style=background-color:#00ff000f>being</text> <text style=background-color:#00ff0000>instructed</text> <text style=background-color:#00ff0014>by</text> <text style=background-color:#00ff001c>god</text> <text style=background-color:#00ff0014>to</text> <text style=background-color:#00ff0000>redeem</text> <text style=background-color:#00ff0024>the</text> <text style=background-color:#00ff002a>world</text> <text style=background-color:#00ff0023>of</text> <text style=background-color:#00ff0030>bad</text> <text style=background-color:#00ff0011>people</text> <text style=background-color:#00ff0005>br</text> <text style=background-color:#00ff0005>br</text> <text style=background-color:#00ff0005>bill</text> <text style=background-color:#00ff0000>paxton</text> <text style=background-color:#00ff000d>who</text> <text style=background-color:#00ff0000>directs</text> <text style=background-color:#00ff0023>this</text> <text style=background-color:#00ff0082>movie</text> <text style=background-color:#00ff0021>plays</text> <text style=background-color:#00ff0024>the</text> <text style=background-color:#00ff0001>deranged</text> <text style=background-color:#00ff000e>father</text> <text style=background-color:#00ff000d>who</text> <text style=background-color:#00ff0025>is</text> <text style=background-color:#00ff0011>known</text> <text style=background-color:#00ff0015>as</text> <text style=background-color:#00ff0024>the</text> <text style=background-color:#00ff0007>hand</text> <text style=background-color:#00ff0023>of</text> <text style=background-color:#00ff001c>god</text> <text style=background-color:#00ff0054>killer</text> <text style=background-color:#00ff0016>while</text> <text style=background-color:#00ff0004>matthew</text> <text style=background-color:#00ff0001>mcconaughey</text> <text style=background-color:#00ff0021>plays</text> <text style=background-color:#00ff000d>his</text> <text style=background-color:#00ff000b>finest</text> <text style=background-color:#00ff0012>performances</text> <text style=background-color:#00ff0014>to</text> <text style=background-color:#00ff001e>date</text> <text style=background-color:#00ff0015>as</text> <text style=background-color:#00ff0024>the</text> <text style=background-color:#00ff0008>oldest</text> <text style=background-color:#00ff0007>son</text> <text style=background-color:#00ff0000>fenton</text> <text style=background-color:#00ff0000>meiks</text> <text style=background-color:#00ff0024>the</text> <text style=background-color:#00ff0044>film</text> <text style=background-color:#00ff0003>revolves</text> <text style=background-color:#00ff0009>around</text> <text style=background-color:#00ff0000>fenton</text> <text style=background-color:#00ff000d>who</text> <text style=background-color:#00ff0007>decides</text> <text style=background-color:#00ff0015>he</text> <text style=background-color:#00ff000b>can</text> <text style=background-color:#00ff0018>no</text> <text style=background-color:#00ff000a>longer</text> <text style=background-color:#00ff0006>hold</text> <text style=background-color:#00ff0024>the</text> <text style=background-color:#00ff0000>burden</text> <text style=background-color:#00ff0023>of</text> <text style=background-color:#00ff000d>his</text> <text style=background-color:#00ff0000>murderous</text> <text style=background-color:#00ff003c>childhood</text> <text style=background-color:#00ff0028>alone</text> <text style=background-color:#00ff0015>and</text> <text style=background-color:#00ff000c>uses</text> <text style=background-color:#00ff0006>flashbacks</text> <text style=background-color:#00ff0014>to</text> <text style=background-color:#00ff0000>hauntingly</text> <text style=background-color:#00ff000c>tell</text> <text style=background-color:#00ff0024>the</text> <text style=background-color:#00ff005b>story</text> <text style=background-color:#00ff0014>to</text> <text style=background-color:#00ff0005>fbi</text> <text style=background-color:#00ff0003>agent</text> <text style=background-color:#00ff0001>wesley</text> <text style=background-color:#00ff0001>doyle</text> <text style=background-color:#00ff001b>played</text> <text style=background-color:#00ff0014>by</text> <text style=background-color:#00ff000c>powers</text> <text style=background-color:#00ff0000>boothe</text> <text style=background-color:#00ff0005>br</text> <text style=background-color:#00ff0005>br</text> <text style=background-color:#00ff0014>i</text> <text style=background-color:#00ff0012>cannot</text> <text style=background-color:#00ff0018>think</text> <text style=background-color:#00ff0023>of</text> <text style=background-color:#00ff000f>many</text> <text style=background-color:#00ff0059>movies</text> <text style=background-color:#00ff001b>that</text> <text style=background-color:#00ff001b>literally</text> <text style=background-color:#00ff000b>keep</text> <text style=background-color:#00ff0024>the</text> <text style=background-color:#00ff0001>viewer</text> <text style=background-color:#00ff0000>chained</text> <text style=background-color:#00ff0014>to</text> <text style=background-color:#00ff000e>their</text> <text style=background-color:#00ff0001>seat</text> <text style=background-color:#00ff0011>from</text> <text style=background-color:#00ff0012>start</text> <text style=background-color:#00ff0014>to</text> <text style=background-color:#00ff0013>finish</text> <text style=background-color:#00ff0015>and</text> <text style=background-color:#00ff0023>this</text> <text style=background-color:#00ff0025>is</text> <text style=background-color:#00ff001c>definitely</text> <text style=background-color:#00ff0028>one</text> <text style=background-color:#00ff0023>of</text> <text style=background-color:#00ff0008>them</text> <text style=background-color:#00ff001b>even</text> <text style=background-color:#00ff000d>if</text> <text style=background-color:#00ff0011>you</text> <text style=background-color:#00ff0010>want</text> <text style=background-color:#00ff0014>to</text> <text style=background-color:#00ff0010>stop</text> <text style=background-color:#00ff0039>watching</text> <text style=background-color:#00ff0011>you</text> <text style=background-color:#00ff0006>wont</text> <text style=background-color:#00ff000f>be</text> <text style=background-color:#00ff000c>able</text> <text style=background-color:#00ff0014>to</text> <text style=background-color:#00ff001b>because</text> <text style=background-color:#00ff0023>of</text> <text style=background-color:#00ff0024>the</text> <text style=background-color:#00ff0001>sheer</text> <text style=background-color:#00ff001f>power</text> <text style=background-color:#00ff0023>of</text> <text style=background-color:#00ff0023>this</text> <text style=background-color:#00ff0082>movie</text> <text style=background-color:#00ff0005>br</text> <text style=background-color:#00ff0005>br</text> <text style=background-color:#00ff0024>the</text> <text style=background-color:#00ff0004>directors</text> <text style=background-color:#00ff0017>have</text> <text style=background-color:#00ff000c>filmed</text> <text style=background-color:#00ff0023>this</text> <text style=background-color:#00ff0082>movie</text> <text style=background-color:#00ff0011>very</text> <text style=background-color:#00ff0014>well</text> <text style=background-color:#00ff0015>and</text> <text style=background-color:#00ff0010>they</text> <text style=background-color:#00ff000a>help</text> <text style=background-color:#00ff0014>to</text> <text style=background-color:#00ff0019>set</text> <text style=background-color:#00ff0024>the</text> <text style=background-color:#00ff002a>plot</text> <text style=background-color:#00ff000f>through</text> <text style=background-color:#00ff0024>the</text> <text style=background-color:#00ff001f>good</text> <text style=background-color:#00ff0001>scenery</text> <text style=background-color:#00ff0024>the</text> <text style=background-color:#00ff0017>acting</text> <text style=background-color:#00ff0015>in</text> <text style=background-color:#00ff0023>this</text> <text style=background-color:#00ff0082>movie</text> <text style=background-color:#00ff0025>is</text> <text style=background-color:#00ff001e>great</text> <text style=background-color:#00ff0019>but</text> <text style=background-color:#00ff000d>if</text> <text style=background-color:#00ff001c>there</text> <text style=background-color:#00ff0025>is</text> <text style=background-color:#00ff0017>any</text> <text style=background-color:#00ff0000>drawback</text> <text style=background-color:#00ff001b>it</text> <text style=background-color:#00ff0025>is</text> <text style=background-color:#00ff001b>that</text> <text style=background-color:#00ff0017>some</text> <text style=background-color:#00ff000b>parts</text> <text style=background-color:#00ff0014>are</text> <text style=background-color:#00ff0011>very</text> <text style=background-color:#00ff0012>powerful</text> <text style=background-color:#00ff0015>and</text> <text style=background-color:#00ff0016>may</text> <text style=background-color:#00ff0001>disturb</text> <text style=background-color:#00ff0017>some</text> <text style=background-color:#00ff0011>people</text> <text style=background-color:#00ff0005>br</text> <text style=background-color:#00ff0005>br</text> <text style=background-color:#00ff000b>whilst</text> <text style=background-color:#00ff0024>the</text> <text style=background-color:#00ff0014>concept</text> <text style=background-color:#00ff0023>of</text> <text style=background-color:#00ff0023>this</text> <text style=background-color:#00ff0044>film</text> <text style=background-color:#00ff0025>is</text> <text style=background-color:#00ff0011>very</text> <text style=background-color:#00ff0030>dark</text> <text style=background-color:#00ff0024>the</text> <text style=background-color:#00ff0017>young</text> <text style=background-color:#00ff000a>children</text> <text style=background-color:#00ff000a>help</text> <text style=background-color:#00ff0014>to</text> <text style=background-color:#00ff0002>portray</text> <text style=background-color:#00ff0024>the</text> <text style=background-color:#00ff0032>idea</text> <text style=background-color:#00ff000f>through</text> <text style=background-color:#00ff0021>brilliant</text> <text style=background-color:#00ff0017>acting</text> <text style=background-color:#00ff0023>this</text> <text style=background-color:#00ff001a>really</text> <text style=background-color:#00ff0025>is</text> <text style=background-color:#00ff001b>a</text> <text style=background-color:#00ff0000>spine</text> <text style=background-color:#00ff0001>tingly</text> <text style=background-color:#00ff0082>movie</text> <text style=background-color:#00ff0015>and</text> <text style=background-color:#00ff001b>it</text> <text style=background-color:#00ff0025>is</text> <text style=background-color:#00ff0000>guaranteed</text> <text style=background-color:#00ff0014>to</text> <text style=background-color:#00ff0017>have</text> <text style=background-color:#00ff0011>you</text> <text style=background-color:#00ff0011>at</text> <text style=background-color:#00ff0024>the</text> <text style=background-color:#00ff000a>edge</text> <text style=background-color:#00ff0023>of</text> <text style=background-color:#00ff0010>your</text> <text style=background-color:#00ff0001>seat</text> <text style=background-color:#00ff000a>throughout</text> <text style=background-color:#00ff0014>i</text> <text style=background-color:#00ff000e>would</text> <text style=background-color:#00ff0002>highly</text> <text style=background-color:#00ff0005>recommend</text> <text style=background-color:#00ff0023>this</text> <text style=background-color:#00ff0082>movie</text> <text style=background-color:#00ff0014>to</text> <text style=background-color:#00ff000e>anyone</text> <text style=background-color:#00ff000d>who</text> <text style=background-color:#00ff0003>enjoys</text> <text style=background-color:#00ff00ff>horror</text> <text style=background-color:#00ff000b>disturbing</text> <text style=background-color:#00ff0015>and</text> <text style=background-color:#00ff0012>powerful</text> <text style=background-color:#00ff0059>movies</text> <text style=background-color:#00ff0016>or</text> <text style=background-color:#00ff000e>anyone</text> <text style=background-color:#00ff000d>who</text> <text style=background-color:#00ff0018>just</text> <text style=background-color:#00ff0008>wants</text> <text style=background-color:#00ff0014>to</text> <text style=background-color:#00ff0017>see</text> <text style=background-color:#00ff0017>something</text> <text style=background-color:#00ff0017>different</text> <text style=background-color:#00ff0005>br</text> <text style=background-color:#00ff0005>br</text> <br> <text style=background-color:#00ff0014>i</text> <text style=background-color:#00ff0030>watched</text> <text style=background-color:#00ff0022>this</text> <text style=background-color:#00ff0081>movie</text> <text style=background-color:#00ff0016>after</text> <text style=background-color:#00ff0014>seeing</text> <text style=background-color:#00ff0012>other</text> <text style=background-color:#00ff0005>comments</text> <text style=background-color:#00ff0012>on</text> <text style=background-color:#00ff0001>imdb</text> <text style=background-color:#00ff001a>even</text> <text style=background-color:#00ff0005>convincing</text> <text style=background-color:#00ff0015>my</text> <text style=background-color:#00ff0007>wife</text> <text style=background-color:#00ff001b>that</text> <text style=background-color:#00ff001a>it</text> <text style=background-color:#00ff001d>was</text> <text style=background-color:#00ff001a>a</text> <text style=background-color:#00ff0006>unique</text> <text style=background-color:#00ff00ff>horror</text> <text style=background-color:#00ff0081>movie</text> <text style=background-color:#00ff0014>i</text> <text style=background-color:#00ff0017>wanted</text> <text style=background-color:#00ff0013>to</text> <text style=background-color:#00ff001c>like</text> <text style=background-color:#00ff0022>this</text> <text style=background-color:#00ff0081>movie</text> <text style=background-color:#00ff0018>but</text> <text style=background-color:#00ff001d>was</text> <text style=background-color:#00ff0001>unable</text> <text style=background-color:#00ff0013>to</text> <text style=background-color:#00ff0005>br</text> <text style=background-color:#00ff0005>br</text> <text style=background-color:#00ff0023>the</text> <text style=background-color:#00ff0019>love</text> <text style=background-color:#00ff005a>story</text> <text style=background-color:#00ff001d>was</text> <text style=background-color:#00ff001e>good</text> <text style=background-color:#00ff0018>but</text> <text style=background-color:#00ff0023>the</text> <text style=background-color:#00ff00ff>horror</text> <text style=background-color:#00ff0009>aspect</text> <text style=background-color:#00ff001d>was</text> <text style=background-color:#00ff0014>quite</text> <text style=background-color:#00ff002f>bad</text> <text style=background-color:#00ff000d>if</text> <text style=background-color:#00ff0023>the</text> <text style=background-color:#00ff005a>story</text> <text style=background-color:#00ff001d>was</text> <text style=background-color:#00ff0017>just</text> <text style=background-color:#00ff001f>about</text> <text style=background-color:#00ff001a>a</text> <text style=background-color:#00ff0016>young</text> <text style=background-color:#00ff0022>man</text> <text style=background-color:#00ff000c>who</text> <text style=background-color:#00ff0004>fell</text> <text style=background-color:#00ff0014>in</text> <text style=background-color:#00ff0019>love</text> <text style=background-color:#00ff0017>with</text> <text style=background-color:#00ff001a>a</text> <text style=background-color:#00ff001b>girl</text> <text style=background-color:#00ff0005>suffering</text> <text style=background-color:#00ff0011>from</text> <text style=background-color:#00ff0000>parasomnia</text> <text style=background-color:#00ff0012>then</text> <text style=background-color:#00ff001a>it</text> <text style=background-color:#00ff000e>would</text> <text style=background-color:#00ff0017>have</text> <text style=background-color:#00ff000f>been</text> <text style=background-color:#00ff001a>a</text> <text style=background-color:#00ff0016>better</text> <text style=background-color:#00ff0081>movie</text> <text style=background-color:#00ff0005>br</text> <text style=background-color:#00ff0005>br</text> <text style=background-color:#00ff0023>the</text> <text style=background-color:#00ff000d>care</text> <text style=background-color:#00ff0004>centre</text> <text style=background-color:#00ff0000>stretched</text> <text style=background-color:#00ff0000>credulity</text> <text style=background-color:#00ff0013>well</text> <text style=background-color:#00ff0014>past</text> <text style=background-color:#00ff0023>the</text> <text style=background-color:#00ff0002>limits</text> <text style=background-color:#00ff0014>in</text> <text style=background-color:#00ff0024>fact</text> <text style=background-color:#00ff001a>it</text> <text style=background-color:#00ff001d>was</text> <text style=background-color:#00ff0014>quite</text> <text style=background-color:#00ff000e>ridiculous</text> <text style=background-color:#00ff0023>the</text> <text style=background-color:#00ff002c>doctor</text> <text style=background-color:#00ff0004>happily</text> <text style=background-color:#00ff0000>ignors</text> <text style=background-color:#00ff0004>privacy</text> <text style=background-color:#00ff0002>laws</text> <text style=background-color:#00ff0015>and</text> <text style=background-color:#00ff0000>professionalism</text> <text style=background-color:#00ff001a>a</text> <text style=background-color:#00ff0002>nurse</text> <text style=background-color:#00ff0012>goes</text> <text style=background-color:#00ff0012>into</text> <text style=background-color:#00ff001a>a</text> <text style=background-color:#00ff0014>room</text> <text style=background-color:#00ff0015>for</text> <text style=background-color:#00ff001a>a</text> <text style=background-color:#00ff0011>routine</text> <text style=background-color:#00ff0001>feeding</text> <text style=background-color:#00ff0022>of</text> <text style=background-color:#00ff001a>a</text> <text style=background-color:#00ff0011>dangerous</text> <text style=background-color:#00ff0003>patient</text> <text style=background-color:#00ff001a>without</text> <text style=background-color:#00ff0003>security</text> <text style=background-color:#00ff0000>escort</text> <text style=background-color:#00ff0015>and</text> <text style=background-color:#00ff0005>drops</text> <text style=background-color:#00ff0023>the</text> <text style=background-color:#00ff0001>tray</text> <text style=background-color:#00ff0015>and</text> <text style=background-color:#00ff0002>runs</text> <text style=background-color:#00ff0013>out</text> <text style=background-color:#00ff0022>of</text> <text style=background-color:#00ff0023>the</text> <text style=background-color:#00ff0014>room</text> <text style=background-color:#00ff0008>screaming</text> <text style=background-color:#00ff0015>for</text> <text style=background-color:#00ff0018>no</text> <text style=background-color:#00ff0003>apparent</text> <text style=background-color:#00ff0017>reason</text> <text style=background-color:#00ff0023>the</text> <text style=background-color:#00ff0005>forensic</text> <text style=background-color:#00ff0003>patient</text> <text style=background-color:#00ff0015>and</text> <text style=background-color:#00ff0023>the</text> <text style=background-color:#00ff0043>film</text> <text style=background-color:#00ff0007>s</text> <text style=background-color:#00ff0029>villain</text> <text style=background-color:#00ff0024>is</text> <text style=background-color:#00ff0001>tied</text> <text style=background-color:#00ff0011>up</text> <text style=background-color:#00ff0014>in</text> <text style=background-color:#00ff001a>a</text> <text style=background-color:#00ff0008>standing</text> <text style=background-color:#00ff0004>position</text> <text style=background-color:#00ff0003>fully</text> <text style=background-color:#00ff0000>clothed</text> <text style=background-color:#00ff0013>apparently</text> <text style=background-color:#00ff0015>for</text> <text style=background-color:#00ff001a>years</text> <text style=background-color:#00ff0007>none</text> <text style=background-color:#00ff0022>of</text> <text style=background-color:#00ff001a>it</text> <text style=background-color:#00ff001f>makes</text> <text style=background-color:#00ff0014>much</text> <text style=background-color:#00ff0015>sense</text> <text style=background-color:#00ff0005>br</text> <text style=background-color:#00ff0005>br</text> <text style=background-color:#00ff0023>the</text> <text style=background-color:#00ff0081>movie</text> <text style=background-color:#00ff001a>even</text> <text style=background-color:#00ff0017>had</text> <text style=background-color:#00ff0016>some</text> <text style=background-color:#00ff0017>actors</text> <text style=background-color:#00ff001b>that</text> <text style=background-color:#00ff0014>i</text> <text style=background-color:#00ff0000>ve</text> <text style=background-color:#00ff0012>liked</text> <text style=background-color:#00ff0014>in</text> <text style=background-color:#00ff0012>other</text> <text style=background-color:#00ff0022>things</text> <text style=background-color:#00ff0029>such</text> <text style=background-color:#00ff0014>as</text> <text style=background-color:#00ff0023>the</text> <text style=background-color:#00ff0002>detectives</text> <text style=background-color:#00ff0018>but</text> <text style=background-color:#00ff0013>still</text> <text style=background-color:#00ff0014>i</text> <text style=background-color:#00ff000b>can</text> <text style=background-color:#00ff0005>t</text> <text style=background-color:#00ff0005>recommend</text> <text style=background-color:#00ff0022>this</text> <text style=background-color:#00ff0081>movie</text> <br> <text style=background-color:#00ff0025>this</text> <text style=background-color:#00ff0007>mindless</text> <text style=background-color:#00ff0084>movie</text> <text style=background-color:#00ff0027>is</text> <text style=background-color:#00ff001d>a</text> <text style=background-color:#00ff0024>piece</text> <text style=background-color:#00ff0026>of</text> <text style=background-color:#00ff0022>crap</text> <text style=background-color:#00ff0017>and</text> <text style=background-color:#00ff0029>boring</text> <text style=background-color:#00ff001f>like</text> <text style=background-color:#00ff0027>the</text> <text style=background-color:#00ff002f>full</text> <text style=background-color:#00ff0019>house</text> <text style=background-color:#00ff0000>repetitions</text> <text style=background-color:#00ff0017>for</text> <text style=background-color:#00ff0017>all</text> <text style=background-color:#00ff0027>the</text> <text style=background-color:#00ff0013>people</text> <text style=background-color:#00ff000f>who</text> <text style=background-color:#00ff0011>want</text> <text style=background-color:#00ff0016>to</text> <text style=background-color:#00ff0019>see</text> <text style=background-color:#00ff001d>a</text> <text style=background-color:#00ff0021>great</text> <text style=background-color:#00ff001c>exciting</text> <text style=background-color:#00ff0017>and</text> <text style=background-color:#00ff0020>cool</text> <text style=background-color:#00ff00ff>horror</text> <text style=background-color:#00ff0084>movie</text> <text style=background-color:#00ff0000>shouldn</text> <text style=background-color:#00ff0007>t</text> <text style=background-color:#00ff001d>even</text> <text style=background-color:#00ff001a>think</text> <text style=background-color:#00ff0022>about</text> <text style=background-color:#00ff003c>watching</text> <text style=background-color:#00ff0025>this</text> <text style=background-color:#00ff000e>bunch</text> <text style=background-color:#00ff0026>of</text> <text style=background-color:#00ff0007>mindless</text> <text style=background-color:#00ff001a>work</text> <text style=background-color:#00ff001d>a</text> <text style=background-color:#00ff0003>f</text> <text style=background-color:#00ff0017>in</text> <text style=background-color:#00ff0018>my</text> <text style=background-color:#00ff0011>opinion</text> <text style=background-color:#00ff0016>i</text> <text style=background-color:#00ff0019>have</text> <text style=background-color:#00ff002b>one</text> <text style=background-color:#00ff0014>question</text> <text style=background-color:#00ff0026>what</text> <text style=background-color:#00ff0015>were</text> <text style=background-color:#00ff0011>they</text> <text style=background-color:#00ff001a>thinking</text> <text style=background-color:#00ff0017>let</text> <text style=background-color:#00ff0009>s</text> <text style=background-color:#00ff0019>make</text> <text style=background-color:#00ff001d>a</text> <text style=background-color:#00ff0013>list</text> <text style=background-color:#00ff0033>bad</text> <text style=background-color:#00ff0038>script</text> <text style=background-color:#00ff0033>bad</text> <text style=background-color:#00ff0038>script</text> <text style=background-color:#00ff0033>bad</text> <text style=background-color:#00ff0038>script</text> <text style=background-color:#00ff0033>bad</text> <text style=background-color:#00ff0019>acting</text> <text style=background-color:#00ff0033>bad</text> <text style=background-color:#00ff0007>directing</text> <text style=background-color:#00ff0017>and</text> <text style=background-color:#00ff0028>last</text> <text style=background-color:#00ff001b>but</text> <text style=background-color:#00ff0018>not</text> <text style=background-color:#00ff0014>least</text> <text style=background-color:#00ff001d>a</text> <text style=background-color:#00ff0033>bad</text> <text style=background-color:#00ff0038>script</text> <text style=background-color:#00ff0016>i</text> <text style=background-color:#00ff0010>mean</text> <text style=background-color:#00ff0016>i</text> <text style=background-color:#00ff001c>am</text> <text style=background-color:#00ff0018>not</text> <text style=background-color:#00ff001f>like</text> <text style=background-color:#00ff0000>grumping</text> <text style=background-color:#00ff0022>about</text> <text style=background-color:#00ff0021>every</text> <text style=background-color:#00ff0084>movie</text> <text style=background-color:#00ff001b>but</text> <text style=background-color:#00ff0016>i</text> <text style=background-color:#00ff0020>was</text> <text style=background-color:#00ff000a>disappointed</text> <text style=background-color:#00ff001a>when</text> <text style=background-color:#00ff0016>i</text> <text style=background-color:#00ff0034>watched</text> <text style=background-color:#00ff001d>it</text> <text style=background-color:#00ff0025>this</text> <text style=background-color:#00ff0084>movie</text> <text style=background-color:#00ff0012>should</text> <text style=background-color:#00ff0011>be</text> <text style=background-color:#00ff0006>banned</text> <text style=background-color:#00ff0015>into</text> <text style=background-color:#00ff001d>a</text> <text style=background-color:#00ff0017>box</text> <text style=background-color:#00ff0006>locked</text> <text style=background-color:#00ff0017>and</text> <text style=background-color:#00ff0000>sunk</text> <text style=background-color:#00ff000f>down</text> <text style=background-color:#00ff0015>into</text> <text style=background-color:#00ff0027>the</text> <text style=background-color:#00ff0011>sea</text> <text style=background-color:#00ff001e>so</text> <text style=background-color:#00ff0009>please</text> <text style=background-color:#00ff000f>don</text> <text style=background-color:#00ff0007>t</text> <text style=background-color:#00ff0019>do</text> <text style=background-color:#00ff0019>something</text> <text style=background-color:#00ff001f>like</text> <text style=background-color:#00ff0025>this</text> <text style=background-color:#00ff001d>again</text> <text style=background-color:#00ff0009>please</text> <text style=background-color:#00ff0009>please</text> <text style=background-color:#00ff0009>please</text> <br> <text style=background-color:#00ff001b>an</text> <text style=background-color:#00ff000f>italian</text> <text style=background-color:#00ff003a>american</text> <text style=background-color:#00ff0003>co</text> <text style=background-color:#00ff0013>production</text> <text style=background-color:#00ff0003>co</text> <text style=background-color:#00ff0019>starring</text> <text style=background-color:#00ff0004>linda</text> <text style=background-color:#00ff0005>blair</text> <text style=background-color:#00ff001a>and</text> <text style=background-color:#00ff0013>david</text> <text style=background-color:#00ff002a>the</text> <text style=background-color:#00ff0000>hoff</text> <text style=background-color:#00ff0000>hasselhoff</text> <text style=background-color:#00ff001b>how</text> <text style=background-color:#00ff0014>could</text> <text style=background-color:#00ff001b>any</text> <text style=background-color:#00ff002c>fan</text> <text style=background-color:#00ff0029>of</text> <text style=background-color:#00ff0003>trashy</text> <text style=background-color:#00ff00ff>horror</text> <text style=background-color:#00ff0004>resist</text> <text style=background-color:#00ff002f>such</text> <text style=background-color:#00ff001f>a</text> <text style=background-color:#00ff0009>treat</text> <text style=background-color:#00ff0007>br</text> <text style=background-color:#00ff0007>br</text> <text style=background-color:#00ff0018>well</text> <text style=background-color:#00ff0017>based</text> <text style=background-color:#00ff0017>on</text> <text style=background-color:#00ff002a>the</text> <text style=background-color:#00ff0003>uneventful</text> <text style=background-color:#00ff0007>extremely</text> <text style=background-color:#00ff0003>tedious</text> <text style=background-color:#00ff001a>and</text> <text style=background-color:#00ff0003>utterly</text> <text style=background-color:#00ff0001>nonsensical</text> <text style=background-color:#00ff002a>first</text> <text style=background-color:#00ff0000>forty</text> <text style=background-color:#00ff000e>minutes</text> <text style=background-color:#00ff001b>or</text> <text style=background-color:#00ff0021>so</text> <text style=background-color:#00ff0019>i</text> <text style=background-color:#00ff0012>would</text> <text style=background-color:#00ff001c>have</text> <text style=background-color:#00ff000d>said</text> <text style=background-color:#00ff0015>very</text> <text style=background-color:#00ff0007>easily</text> <text style=background-color:#00ff0003>thankfully</text> <text style=background-color:#00ff000b>however</text> <text style=background-color:#00ff0029>things</text> <text style=background-color:#00ff001c>do</text> <text style=background-color:#00ff0008>eventually</text> <text style=background-color:#00ff0010>get</text> <text style=background-color:#00ff001f>a</text> <text style=background-color:#00ff0001>tad</text> <text style=background-color:#00ff0014>more</text> <text style=background-color:#00ff0015>entertaining</text> <text style=background-color:#00ff001c>with</text> <text style=background-color:#00ff002a>the</text> <text style=background-color:#00ff0012>introduction</text> <text style=background-color:#00ff0029>of</text> <text style=background-color:#00ff0005>several</text> <text style=background-color:#00ff0000>inventive</text> <text style=background-color:#00ff002a>death</text> <text style=background-color:#00ff0040>scenes</text> <text style=background-color:#00ff001a>and</text> <text style=background-color:#00ff001a>for</text> <text style=background-color:#00ff0011>those</text> <text style=background-color:#00ff0016>lucky</text> <text style=background-color:#00ff0018>enough</text> <text style=background-color:#00ff0018>to</text> <text style=background-color:#00ff0015>find</text> <text style=background-color:#00ff001b>an</text> <text style=background-color:#00ff0009>uncut</text> <text style=background-color:#00ff0015>copy</text> <text style=background-color:#00ff001f>a</text> <text style=background-color:#00ff0000>smattering</text> <text style=background-color:#00ff0029>of</text> <text style=background-color:#00ff0003>nudity</text> <text style=background-color:#00ff0015>too</text> <text style=background-color:#00ff000d>unfortunately</text> <text style=background-color:#00ff001a>my</text> <text style=background-color:#00ff0015>copy</text> <text style=background-color:#00ff0022>was</text> <text style=background-color:#00ff0000>optically</text> <text style=background-color:#00ff0008>edited</text> <text style=background-color:#00ff0018>to</text> <text style=background-color:#00ff0002>remove</text> <text style=background-color:#00ff002f>such</text> <text style=background-color:#00ff0007>offensive</text> <text style=background-color:#00ff0017>material</text> <text style=background-color:#00ff0007>br</text> <text style=background-color:#00ff0007>br</text> <text style=background-color:#00ff002a>the</text> <text style=background-color:#00ff0000>hoff</text> <text style=background-color:#00ff001a>stars</text> <text style=background-color:#00ff0019>as</text> <text style=background-color:#00ff000b>gary</text> <text style=background-color:#00ff001f>a</text> <text style=background-color:#00ff0008>photographer</text> <text style=background-color:#00ff0010>who</text> <text style=background-color:#00ff0000>accompanies</text> <text style=background-color:#00ff0010>his</text> <text style=background-color:#00ff0017>beautiful</text> <text style=background-color:#00ff0012>girlfriend</text> <text style=background-color:#00ff0001>leslie</text> <text style=background-color:#00ff0001>leslie</text> <text style=background-color:#00ff0000>cumming</text> <text style=background-color:#00ff0018>to</text> <text style=background-color:#00ff001f>a</text> <text style=background-color:#00ff001a>run</text> <text style=background-color:#00ff0011>down</text> <text style=background-color:#00ff0012>hotel</text> <text style=background-color:#00ff0017>on</text> <text style=background-color:#00ff001f>a</text> <text style=background-color:#00ff0001>seemingly</text> <text style=background-color:#00ff0000>deserted</text> <text style=background-color:#00ff0012>island</text> <text style=background-color:#00ff0019>in</text> <text style=background-color:#00ff0006>order</text> <text style=background-color:#00ff0018>to</text> <text style=background-color:#00ff0017>take</text> <text style=background-color:#00ff0016>pictures</text> <text style=background-color:#00ff001a>for</text> <text style=background-color:#00ff0005>her</text> <text style=background-color:#00ff000f>latest</text> <text style=background-color:#00ff0031>project</text> <text style=background-color:#00ff001f>a</text> <text style=background-color:#00ff003d>book</text> <text style=background-color:#00ff0025>about</text> <text style=background-color:#00ff0003>witches</text> <text style=background-color:#00ff000e>whilst</text> <text style=background-color:#00ff0021>there</text> <text style=background-color:#00ff0004>frustrated</text> <text style=background-color:#00ff000b>gary</text> <text style=background-color:#00ff0017>also</text> <text style=background-color:#00ff0003>hopes</text> <text style=background-color:#00ff0018>to</text> <text style=background-color:#00ff0016>try</text> <text style=background-color:#00ff001a>and</text> <text style=background-color:#00ff0017>cure</text> <text style=background-color:#00ff001f>a</text> <text style=background-color:#00ff0036>bad</text> <text style=background-color:#00ff0014>case</text> <text style=background-color:#00ff0029>of</text> <text style=background-color:#00ff0010>blue</text> <text style=background-color:#00ff0008>balls</text> <text style=background-color:#00ff0018>by</text> <text style=background-color:#00ff0000>relieving</text> <text style=background-color:#00ff0001>leslie</text> <text style=background-color:#00ff0029>of</text> <text style=background-color:#00ff0005>her</text> <text style=background-color:#00ff0003>virginity</text> <text style=background-color:#00ff0007>br</text> <text style=background-color:#00ff0007>br</text> <text style=background-color:#00ff0010>his</text> <text style=background-color:#00ff000a>plans</text> <text style=background-color:#00ff001a>for</text> <text style=background-color:#00ff0000>nookie</text> <text style=background-color:#00ff0018>are</text> <text style=background-color:#00ff0000>scuppered</text> <text style=background-color:#00ff000b>however</text> <text style=background-color:#00ff0018>by</text> <text style=background-color:#00ff002a>the</text> <text style=background-color:#00ff000b>unexpected</text> <text style=background-color:#00ff0002>arrival</text> <text style=background-color:#00ff0029>of</text> <text style=background-color:#00ff0001>property</text> <text style=background-color:#00ff0001>developers</text> <text style=background-color:#00ff0007>freddie</text> <text style=background-color:#00ff001a>and</text> <text style=background-color:#00ff0007>rose</text> <text style=background-color:#00ff0000>brooks</text> <text style=background-color:#00ff000f>robert</text> <text style=background-color:#00ff0006>champagne</text> <text style=background-color:#00ff001a>and</text> <text style=background-color:#00ff0009>annie</text> <text style=background-color:#00ff0009>ross</text> <text style=background-color:#00ff0011>their</text> <text style=background-color:#00ff0008>pregnant</text> <text style=background-color:#00ff000c>daughter</text> <text style=background-color:#00ff0011>jane</text> <text style=background-color:#00ff0005>blair</text> <text style=background-color:#00ff0009>son</text> <text style=background-color:#00ff0007>tommy</text> <text style=background-color:#00ff000e>michael</text> <text style=background-color:#00ff0005>manchester</text> <text style=background-color:#00ff001b>pretty</text> <text style=background-color:#00ff0002>nymphomaniac</text> <text style=background-color:#00ff0003>architect</text> <text style=background-color:#00ff0004>linda</text> <text style=background-color:#00ff0002>sullivan</text> <text style=background-color:#00ff0002>catherine</text> <text style=background-color:#00ff0000>hickland</text> <text style=background-color:#00ff001a>and</text> <text style=background-color:#00ff0001>estate</text> <text style=background-color:#00ff0005>agent</text> <text style=background-color:#00ff001f>jerry</text> <text style=background-color:#00ff000d>rick</text> <text style=background-color:#00ff0000>farnsworth</text> <text style=background-color:#00ff0010>who</text> <text style=background-color:#00ff001c>have</text> <text style=background-color:#00ff0011>come</text> <text style=background-color:#00ff0018>to</text> <text style=background-color:#00ff0000>inspect</text> <text style=background-color:#00ff002a>the</text> <text style=background-color:#00ff0012>island</text> <text style=background-color:#00ff000a>s</text> <text style=background-color:#00ff0012>hotel</text> <text style=background-color:#00ff0007>br</text> <text style=background-color:#00ff0007>br</text> <text style=background-color:#00ff001c>after</text> <text style=background-color:#00ff000a>explaining</text> <text style=background-color:#00ff0011>their</text> <text style=background-color:#00ff000b>unexpected</text> <text style=background-color:#00ff0007>presence</text> <text style=background-color:#00ff0017>on</text> <text style=background-color:#00ff002a>the</text> <text style=background-color:#00ff0012>island</text> <text style=background-color:#00ff000b>gary</text> <text style=background-color:#00ff001a>and</text> <text style=background-color:#00ff0001>leslie</text> <text style=background-color:#00ff0018>are</text> <text style=background-color:#00ff0000>welcomed</text> <text style=background-color:#00ff0018>by</text> <text style=background-color:#00ff002a>the</text> <text style=background-color:#00ff0001>property</text> <text style=background-color:#00ff000a>s</text> <text style=background-color:#00ff0020>new</text> <text style=background-color:#00ff0001>owners</text> <text style=background-color:#00ff001a>and</text> <text style=background-color:#00ff001c>when</text> <text style=background-color:#00ff001f>a</text> <text style=background-color:#00ff0011>violent</text> <text style=background-color:#00ff0017>storm</text> <text style=background-color:#00ff0012>suddenly</text> <text style=background-color:#00ff0003>picks</text> <text style=background-color:#00ff0016>up</text> <text style=background-color:#00ff001e>making</text> <text style=background-color:#00ff001f>it</text> <text style=background-color:#00ff0001>perilous</text> <text style=background-color:#00ff0018>to</text> <text style=background-color:#00ff0009>return</text> <text style=background-color:#00ff0018>to</text> <text style=background-color:#00ff002a>the</text> <text style=background-color:#00ff0000>mainland</text> <text style=background-color:#00ff000a>everyone</text> <text style=background-color:#00ff0000>agrees</text> <text style=background-color:#00ff0018>to</text> <text style=background-color:#00ff0007>spend</text> <text style=background-color:#00ff002a>the</text> <text style=background-color:#00ff002b>night</text> <text style=background-color:#00ff0019>in</text> <text style=background-color:#00ff002a>the</text> <text style=background-color:#00ff0027>old</text> <text style=background-color:#00ff000e>building</text> <text style=background-color:#00ff000d>unfortunately</text> <text style=background-color:#00ff0000>unbeknownst</text> <text style=background-color:#00ff0018>to</text> <text style=background-color:#00ff002a>the</text> <text style=background-color:#00ff0012>hotel</text> <text style=background-color:#00ff000a>s</text> <text style=background-color:#00ff0020>new</text> <text style=background-color:#00ff0004>guests</text> <text style=background-color:#00ff002a>the</text> <text style=background-color:#00ff0014>place</text> <text style=background-color:#00ff002a>is</text> <text style=background-color:#00ff0017>also</text> <text style=background-color:#00ff0016>home</text> <text style=background-color:#00ff0018>to</text> <text style=background-color:#00ff002a>the</text> <text style=background-color:#00ff0021>spirit</text> <text style=background-color:#00ff0029>of</text> <text style=background-color:#00ff001b>an</text> <text style=background-color:#00ff0058>evil</text> <text style=background-color:#00ff002c>witch</text> <text style=background-color:#00ff0000>hildegard</text> <text style=background-color:#00ff0000>knef</text> <text style=background-color:#00ff0010>who</text> <text style=background-color:#00ff0008>requires</text> <text style=background-color:#00ff0024>human</text> <text style=background-color:#00ff0001>sacrifices</text> <text style=background-color:#00ff0019>in</text> <text style=background-color:#00ff0006>order</text> <text style=background-color:#00ff0018>to</text> <text style=background-color:#00ff0014>bring</text> <text style=background-color:#00ff0005>herself</text> <text style=background-color:#00ff0006>back</text> <text style=background-color:#00ff0018>to</text> <text style=background-color:#00ff0033>life</text> <text style=background-color:#00ff002e>one</text> <text style=background-color:#00ff0018>by</text> <text style=background-color:#00ff002e>one</text> <text style=background-color:#00ff0003>victims</text> <text style=background-color:#00ff0018>are</text> <text style=background-color:#00ff0004>pulled</text> <text style=background-color:#00ff0017>into</text> <text style=background-color:#00ff001f>a</text> <text style=background-color:#00ff0000>swirling</text> <text style=background-color:#00ff001d>red</text> <text style=background-color:#00ff0004>vortex</text> <text style=background-color:#00ff0020>which</text> <text style=background-color:#00ff002a>is</text> <text style=background-color:#00ff0000>guaranteed</text> <text style=background-color:#00ff0018>to</text> <text style=background-color:#00ff0003>provide</text> <text style=background-color:#00ff0001>unintentional</text> <text style=background-color:#00ff0005>laughs</text> <text style=background-color:#00ff001c>before</text> <text style=background-color:#00ff0017>meeting</text> <text style=background-color:#00ff001f>a</text> <text style=background-color:#00ff003f>terrible</text> <text style=background-color:#00ff0004>fate</text> <text style=background-color:#00ff0007>br</text> <text style=background-color:#00ff0007>br</text> <text style=background-color:#00ff000b>none</text> <text style=background-color:#00ff0029>of</text> <text style=background-color:#00ff0028>this</text> <text style=background-color:#00ff0025>makes</text> <text style=background-color:#00ff0019>much</text> <text style=background-color:#00ff001a>sense</text> <text style=background-color:#00ff001a>and</text> <text style=background-color:#00ff002a>the</text> <text style=background-color:#00ff001b>acting</text> <text style=background-color:#00ff002a>is</text> <text style=background-color:#00ff0003>atrocious</text> <text style=background-color:#00ff0005>manchester</text> <text style=background-color:#00ff0019>as</text> <text style=background-color:#00ff0007>tommy</text> <text style=background-color:#00ff002a>is</text> <text style=background-color:#00ff0002>particularly</text> <text style=background-color:#00ff0036>bad</text> <text style=background-color:#00ff000e>whilst</text> <text style=background-color:#00ff0000>hasselhoff</text> <text style=background-color:#00ff000f>proves</text> <text style=background-color:#00ff0018>to</text> <text style=background-color:#00ff0013>be</text> <text style=background-color:#00ff002e>one</text> <text style=background-color:#00ff0029>of</text> <text style=background-color:#00ff002a>the</text> <text style=background-color:#00ff001b>better</text> <text style=background-color:#00ff0009>performers</text> <text style=background-color:#00ff0020>which</text> <text style=background-color:#00ff0010>speaks</text> <text style=background-color:#00ff0002>volumes</text> <text style=background-color:#00ff0025>about</text> <text style=background-color:#00ff002a>the</text> <text style=background-color:#00ff0006>others</text> <text style=background-color:#00ff001e>but</text> <text style=background-color:#00ff0011>those</text> <text style=background-color:#00ff0005>viewers</text> <text style=background-color:#00ff0010>who</text> <text style=background-color:#00ff001c>make</text> <text style=background-color:#00ff001f>it</text> <text style=background-color:#00ff0019>past</text> <text style=background-color:#00ff002a>the</text> <text style=background-color:#00ff0001>dreary</text> <text style=background-color:#00ff002a>first</text> <text style=background-color:#00ff0018>half</text> <text style=background-color:#00ff0018>are</text> <text style=background-color:#00ff0000>rewarded</text> <text style=background-color:#00ff001c>with</text> <text style=background-color:#00ff001b>some</text> <text style=background-color:#00ff001b>pretty</text> <text style=background-color:#00ff0014>decent</text> <text style=background-color:#00ff0033>moments</text> <text style=background-color:#00ff0029>of</text> <text style=background-color:#00ff0001>gore</text> <text style=background-color:#00ff0007>rose</text> <text style=background-color:#00ff001a>has</text> <text style=background-color:#00ff0005>her</text> <text style=background-color:#00ff0003>lips</text> <text style=background-color:#00ff0000>sewn</text> <text style=background-color:#00ff001e>together</text> <text style=background-color:#00ff001c>before</text> <text style=background-color:#00ff0013>being</text> <text style=background-color:#00ff0000>roasted</text> <text style=background-color:#00ff0029>alive</text> <text style=background-color:#00ff0019>in</text> <text style=background-color:#00ff001f>a</text> <text style=background-color:#00ff0002>fireplace</text> <text style=background-color:#00ff001f>jerry</text> <text style=background-color:#00ff002a>is</text> <text style=background-color:#00ff0000>crucified</text> <text style=background-color:#00ff001a>and</text> <text style=background-color:#00ff0002>burnt</text> <text style=background-color:#00ff0029>alive</text> <text style=background-color:#00ff0004>linda</text> <text style=background-color:#00ff002a>is</text> <text style=background-color:#00ff0001>tortured</text> <text style=background-color:#00ff0018>by</text> <text style=background-color:#00ff0000>hags</text> <text style=background-color:#00ff001a>and</text> <text style=background-color:#00ff0000>impaled</text> <text style=background-color:#00ff0017>on</text> <text style=background-color:#00ff001f>a</text> <text style=background-color:#00ff0000>swordfish</text> <text style=background-color:#00ff0007>freddie</text> <text style=background-color:#00ff000a>s</text> <text style=background-color:#00ff0001>veins</text> <text style=background-color:#00ff0000>pulsate</text> <text style=background-color:#00ff001a>and</text> <text style=background-color:#00ff0000>erupt</text> <text style=background-color:#00ff0019>in</text> <text style=background-color:#00ff0000>geysers</text> <text style=background-color:#00ff0029>of</text> <text style=background-color:#00ff001a>blood</text> <text style=background-color:#00ff001a>and</text> <text style=background-color:#00ff000b>gary</text> <text style=background-color:#00ff000f>gets</text> <text style=background-color:#00ff0001>stabbed</text> <text style=background-color:#00ff0019>in</text> <text style=background-color:#00ff002a>the</text> <text style=background-color:#00ff0006>back</text> <text style=background-color:#00ff0007>br</text> <text style=background-color:#00ff0007>br</text> <text style=background-color:#00ff002c>oh</text> <text style=background-color:#00ff001a>and</text> <text style=background-color:#00ff0001>leslie</text> <text style=background-color:#00ff002a>is</text> <text style=background-color:#00ff0001>raped</text> <text style=background-color:#00ff0018>by</text> <text style=background-color:#00ff001f>a</text> <text style=background-color:#00ff0022>guy</text> <text style=background-color:#00ff001c>with</text> <text style=background-color:#00ff001d>no</text> <text style=background-color:#00ff0003>lips</text> <text style=background-color:#00ff001a>and</text> <text style=background-color:#00ff0005>blair</text> <text style=background-color:#00ff000f>gets</text> <text style=background-color:#00ff0007>possessed</text> <text style=background-color:#00ff001f>again</text> <br> <text style=background-color:#00ff0016>i</text> <text style=background-color:#00ff0024>remember</text> <text style=background-color:#00ff0025>devil</text> <text style=background-color:#00ff0015>dog</text> <text style=background-color:#00ff002a>playing</text> <text style=background-color:#00ff0014>on</text> <text style=background-color:#00ff0001>tbs</text> <text style=background-color:#00ff0012>almost</text> <text style=background-color:#00ff001d>years</text> <text style=background-color:#00ff001c>ago</text> <text style=background-color:#00ff0017>and</text> <text style=background-color:#00ff0017>my</text> <text style=background-color:#00ff000a>older</text> <text style=background-color:#00ff0014>sister</text> <text style=background-color:#00ff0017>and</text> <text style=background-color:#00ff0004>her</text> <text style=background-color:#00ff001e>friends</text> <text style=background-color:#00ff003c>watching</text> <text style=background-color:#00ff001c>it</text> <text style=background-color:#00ff0017>and</text> <text style=background-color:#00ff000f>laughing</text> <text style=background-color:#00ff0017>all</text> <text style=background-color:#00ff0026>the</text> <text style=background-color:#00ff0021>next</text> <text style=background-color:#00ff0022>day</text> <text style=background-color:#00ff001c>it</text> <text style=background-color:#00ff0009>s</text> <text style=background-color:#00ff0018>not</text> <text style=background-color:#00ff001d>that</text> <text style=background-color:#00ff0033>bad</text> <text style=background-color:#00ff0017>for</text> <text style=background-color:#00ff001d>a</text> <text style=background-color:#00ff0020>made</text> <text style=background-color:#00ff0017>for</text> <text style=background-color:#00ff0046>tv</text> <text style=background-color:#00ff00ff>horror</text> <text style=background-color:#00ff0084>movie</text> <text style=background-color:#00ff001b>but</text> <text style=background-color:#00ff001c>it</text> <text style=background-color:#00ff0027>is</text> <text style=background-color:#00ff0000>derivative</text> <text style=background-color:#00ff000a>mostly</text> <text style=background-color:#00ff0025>of</text> <text style=background-color:#00ff0026>the</text> <text style=background-color:#00ff0018>exorcist</text> <text style=background-color:#00ff0017>and</text> <text style=background-color:#00ff0000>businesslike</text> <text style=background-color:#00ff0017>for</text> <text style=background-color:#00ff000b>lack</text> <text style=background-color:#00ff0025>of</text> <text style=background-color:#00ff001d>a</text> <text style=background-color:#00ff0019>better</text> <text style=background-color:#00ff002b>word</text> <text style=background-color:#00ff001c>it</text> <text style=background-color:#00ff000f>won</text> <text style=background-color:#00ff0007>t</text> <text style=background-color:#00ff000a>blow</text> <text style=background-color:#00ff0012>you</text> <text style=background-color:#00ff000d>away</text> <text style=background-color:#00ff0019>with</text> <text style=background-color:#00ff0000>artful</text> <text style=background-color:#00ff0007>cinematography</text> <text style=background-color:#00ff0018>or</text> <text style=background-color:#00ff0020>great</text> <text style=background-color:#00ff0019>acting</text> <text style=background-color:#00ff001b>but</text> <text style=background-color:#00ff001c>it</text> <text style=background-color:#00ff0009>s</text> <text style=background-color:#00ff0018>not</text> <text style=background-color:#00ff001d>a</text> <text style=background-color:#00ff000c>waste</text> <text style=background-color:#00ff0025>of</text> <text style=background-color:#00ff0033>time</text> <text style=background-color:#00ff0012>either</text> <text style=background-color:#00ff001c>it</text> <text style=background-color:#00ff0009>s</text> <text style=background-color:#00ff0026>the</text> <text style=background-color:#00ff0027>kind</text> <text style=background-color:#00ff0025>of</text> <text style=background-color:#00ff0084>movie</text> <text style=background-color:#00ff0012>you</text> <text style=background-color:#00ff002c>watch</text> <text style=background-color:#00ff0015>to</text> <text style=background-color:#00ff001b>kill</text> <text style=background-color:#00ff001d>a</text> <text style=background-color:#00ff000c>couple</text> <text style=background-color:#00ff0025>of</text> <text style=background-color:#00ff0014>hours</text> <text style=background-color:#00ff0019>when</text> <text style=background-color:#00ff0012>you</text> <text style=background-color:#00ff0000>aren</text> <text style=background-color:#00ff0007>t</text> <text style=background-color:#00ff0017>in</text> <text style=background-color:#00ff0026>the</text> <text style=background-color:#00ff0026>mood</text> <text style=background-color:#00ff0015>to</text> <text style=background-color:#00ff001a>think</text> <text style=background-color:#00ff0013>too</text> <text style=background-color:#00ff0020>hard</text> <text style=background-color:#00ff0006>br</text> <text style=background-color:#00ff0006>br</text> <text style=background-color:#00ff0009>however</text> <text style=background-color:#00ff000e>if</text> <text style=background-color:#00ff0012>you</text> <text style=background-color:#00ff000e>go</text> <text style=background-color:#00ff0015>into</text> <text style=background-color:#00ff0026>the</text> <text style=background-color:#00ff0084>movie</text> <text style=background-color:#00ff000f>looking</text> <text style=background-color:#00ff0017>for</text> <text style=background-color:#00ff0018>some</text> <text style=background-color:#00ff0004>laughs</text> <text style=background-color:#00ff0012>you</text> <text style=background-color:#00ff000f>won</text> <text style=background-color:#00ff0007>t</text> <text style=background-color:#00ff0010>be</text> <text style=background-color:#00ff000a>disappointed</text> <text style=background-color:#00ff0026>the</text> <text style=background-color:#00ff0012>early</text> <text style=background-color:#00ff003c>scenes</text> <text style=background-color:#00ff0019>with</text> <text style=background-color:#00ff0013>lucky</text> <text style=background-color:#00ff0026>the</text> <text style=background-color:#00ff0025>devil</text> <text style=background-color:#00ff0015>dog</text> <text style=background-color:#00ff0017>as</text> <text style=background-color:#00ff001d>a</text> <text style=background-color:#00ff0011>cute</text> <text style=background-color:#00ff0028>little</text> <text style=background-color:#00ff000b>puppy</text> <text style=background-color:#00ff0019>with</text> <text style=background-color:#00ff000c>children</text> <text style=background-color:#00ff0025>of</text> <text style=background-color:#00ff0026>the</text> <text style=background-color:#00ff0006>damned</text> <text style=background-color:#00ff000a>eyes</text> <text style=background-color:#00ff0016>are</text> <text style=background-color:#00ff0001>hilariously</text> <text style=background-color:#00ff0004>non</text> <text style=background-color:#00ff0001>threatening</text> <text style=background-color:#00ff0017>and</text> <text style=background-color:#00ff0026>the</text> <text style=background-color:#00ff0001>climactic</text> <text style=background-color:#00ff000e>blue</text> <text style=background-color:#00ff0010>screen</text> <text style=background-color:#00ff0018>effects</text> <text style=background-color:#00ff0025>of</text> <text style=background-color:#00ff001d>a</text> <text style=background-color:#00ff000a>giant</text> <text style=background-color:#00ff0017>black</text> <text style=background-color:#00ff0015>dog</text> <text style=background-color:#00ff0019>with</text> <text style=background-color:#00ff0000>horns</text> <text style=background-color:#00ff0016>are</text> <text style=background-color:#00ff0018>pretty</text> <text style=background-color:#00ff0012>side</text> <text style=background-color:#00ff0000>splitting</text> <text style=background-color:#00ff0017>and</text> <text style=background-color:#00ff000c>keep</text> <text style=background-color:#00ff0018>an</text> <text style=background-color:#00ff000d>eye</text> <text style=background-color:#00ff0015>out</text> <text style=background-color:#00ff0017>for</text> <text style=background-color:#00ff0026>the</text> <text style=background-color:#00ff0000>cloaked</text> <text style=background-color:#00ff0000>satanist</text> <text style=background-color:#00ff0017>in</text> <text style=background-color:#00ff0001>maverick</text> <text style=background-color:#00ff0012>shades</text> <text style=background-color:#00ff0001>toward</text> <text style=background-color:#00ff0026>the</text> <text style=background-color:#00ff001c>beginning</text> <text style=background-color:#00ff0006>br</text> <text style=background-color:#00ff0006>br</text> <text style=background-color:#00ff0018>not</text> <text style=background-color:#00ff001d>a</text> <text style=background-color:#00ff0020>great</text> <text style=background-color:#00ff00ff>horror</text> <text style=background-color:#00ff0046>film</text> <text style=background-color:#00ff0015>by</text> <text style=background-color:#00ff0019>any</text> <text style=background-color:#00ff0001>stretch</text> <text style=background-color:#00ff0025>of</text> <text style=background-color:#00ff0026>the</text> <text style=background-color:#00ff0010>imagination</text> <text style=background-color:#00ff001b>but</text> <text style=background-color:#00ff0016>i</text> <text style=background-color:#00ff0015>wish</text> <text style=background-color:#00ff0011>they</text> <text style=background-color:#00ff0015>still</text> <text style=background-color:#00ff0020>made</text> <text style=background-color:#00ff001e>stuff</text> <text style=background-color:#00ff001f>like</text> <text style=background-color:#00ff0025>this</text> <text style=background-color:#00ff0017>for</text> <text style=background-color:#00ff0046>tv</text> <br> <text style=background-color:#00ff002b>the</text> <text style=background-color:#00ff001e>british</text> <text style=background-color:#00ff00ff>horror</text> <text style=background-color:#00ff004b>film</text> <text style=background-color:#00ff0023>was</text> <text style=background-color:#00ff001a>in</text> <text style=background-color:#00ff0004>terminal</text> <text style=background-color:#00ff0001>decline</text> <text style=background-color:#00ff0019>by</text> <text style=background-color:#00ff002b>the</text> <text style=background-color:#00ff0017>start</text> <text style=background-color:#00ff002a>of</text> <text style=background-color:#00ff002b>the</text> <text style=background-color:#00ff0001>seventies</text> <text style=background-color:#00ff001f>but</text> <text style=background-color:#00ff0019>out</text> <text style=background-color:#00ff002a>of</text> <text style=background-color:#00ff002b>the</text> <text style=background-color:#00ff0000>blackness</text> <text style=background-color:#00ff0015>came</text> <text style=background-color:#00ff0013>three</text> <text style=background-color:#00ff003e>films</text> <text style=background-color:#00ff0021>that</text> <text style=background-color:#00ff0018>were</text> <text style=background-color:#00ff0008>among</text> <text style=background-color:#00ff002b>the</text> <text style=background-color:#00ff003b>best</text> <text style=background-color:#00ff0018>our</text> <text style=background-color:#00ff0012>island</text> <text style=background-color:#00ff0011>produced</text> <text style=background-color:#00ff002b>the</text> <text style=background-color:#00ff0001>wickerman</text> <text style=background-color:#00ff001b>blood</text> <text style=background-color:#00ff0018>on</text> <text style=background-color:#00ff0007>satan</text> <text style=background-color:#00ff000b>s</text> <text style=background-color:#00ff0001>claw</text> <text style=background-color:#00ff001b>and</text> <text style=background-color:#00ff002b>the</text> <text style=background-color:#00ff001d>house</text> <text style=background-color:#00ff0021>that</text> <text style=background-color:#00ff0000>dripped</text> <text style=background-color:#00ff001b>blood</text> <text style=background-color:#00ff0024>made</text> <text style=background-color:#00ff002b>the</text> <text style=background-color:#00ff0021>future</text> <text style=background-color:#00ff000b>seem</text> <text style=background-color:#00ff0000>rosy</text> <text style=background-color:#00ff0021>even</text> <text style=background-color:#00ff001e>though</text> <text style=background-color:#00ff0020>a</text> <text style=background-color:#00ff0016>lot</text> <text style=background-color:#00ff002a>of</text> <text style=background-color:#00ff0016>people</text> <text style=background-color:#00ff0019>knew</text> <text style=background-color:#00ff0019>by</text> <text style=background-color:#00ff0029>this</text> <text style=background-color:#00ff0019>point</text> <text style=background-color:#00ff0022>there</text> <text style=background-color:#00ff0000>wasn</text> <text style=background-color:#00ff0009>t</text> <text style=background-color:#00ff0017>going</text> <text style=background-color:#00ff0019>to</text> <text style=background-color:#00ff0013>be</text> <text style=background-color:#00ff002f>one</text> <text style=background-color:#00ff0000>thtdb</text> <text style=background-color:#00ff001b>has</text> <text style=background-color:#00ff002b>the</text> <text style=background-color:#00ff0010>sort</text> <text style=background-color:#00ff002a>of</text> <text style=background-color:#00ff0047>cast</text> <text style=background-color:#00ff0021>that</text> <text style=background-color:#00ff0015>could</text> <text style=background-color:#00ff0007>easily</text> <text style=background-color:#00ff001e>form</text> <text style=background-color:#00ff0020>a</text> <text style=background-color:#00ff0002>wishlist</text> <text style=background-color:#00ff0011>if</text> <text style=background-color:#00ff0020>it</text> <text style=background-color:#00ff0000>hadn</text> <text style=background-color:#00ff0009>t</text> <text style=background-color:#00ff002c>actually</text> <text style=background-color:#00ff0015>been</text> <text style=background-color:#00ff0000>assembled</text> <text style=background-color:#00ff001a>in</text> <text style=background-color:#00ff002b>the</text> <text style=background-color:#00ff0000>bleak</text> <text style=background-color:#00ff0000>hinterland</text> <text style=background-color:#00ff002a>of</text> <text style=background-color:#00ff0016>you</text> <text style=background-color:#00ff001c>may</text> <text style=background-color:#00ff0019>well</text> <text style=background-color:#00ff0016>find</text> <text style=background-color:#00ff000d>yourself</text> <text style=background-color:#00ff0006>expecting</text> <text style=background-color:#00ff0019>to</text> <text style=background-color:#00ff0010>wake</text> <text style=background-color:#00ff0016>up</text> <text style=background-color:#00ff0000>waxworks</text> <text style=background-color:#00ff002b>is</text> <text style=background-color:#00ff002b>the</text> <text style=background-color:#00ff001d>most</text> <text style=background-color:#00ff0002>overlooked</text> <text style=background-color:#00ff002a>of</text> <text style=background-color:#00ff002b>the</text> <text style=background-color:#00ff0011>four</text> <text style=background-color:#00ff002e>stories</text> <text style=background-color:#00ff001b>and</text> <text style=background-color:#00ff002b>is</text> <text style=background-color:#00ff0003>naturally</text> <text style=background-color:#00ff001b>my</text> <text style=background-color:#00ff0034>favourite</text> <text style=background-color:#00ff0000>cushing</text> <text style=background-color:#00ff000b>s</text> <text style=background-color:#00ff0034>life</text> <text style=background-color:#00ff001b>and</text> <text style=background-color:#00ff002d>art</text> <text style=background-color:#00ff0019>are</text> <text style=background-color:#00ff0000>interlinked</text> <text style=background-color:#00ff0022>so</text> <text style=background-color:#00ff0000>firmly</text> <text style=background-color:#00ff0021>that</text> <text style=background-color:#00ff0016>you</text> <text style=background-color:#00ff000f>can</text> <text style=background-color:#00ff0009>t</text> <text style=background-color:#00ff0010>tell</text> <text style=background-color:#00ff001c>where</text> <text style=background-color:#00ff0045>performance</text> <text style=background-color:#00ff000a>ends</text> <text style=background-color:#00ff001b>and</text> <text style=background-color:#00ff0014>pain</text> <text style=background-color:#00ff0014>begins</text> <text style=background-color:#00ff002f>one</text> <text style=background-color:#00ff000f>can</text> <text style=background-color:#00ff0017>only</text> <text style=background-color:#00ff0017>guess</text> <text style=background-color:#00ff001c>how</text> <text style=background-color:#00ff0029>this</text> <text style=background-color:#00ff0024>role</text> <text style=background-color:#00ff0003>affected</text> <text style=background-color:#00ff0030>such</text> <text style=background-color:#00ff0020>a</text> <text style=background-color:#00ff0004>gentle</text> <text style=background-color:#00ff0004>sensitive</text> <text style=background-color:#00ff002a>man</text> <text style=background-color:#00ff002b>death</text> <text style=background-color:#00ff001b>and</text> <text style=background-color:#00ff002b>the</text> <text style=background-color:#00ff001f>maiden</text> <text style=background-color:#00ff0018>rip</text> <text style=background-color:#00ff001c>peter</text> <br> <text style=background-color:#00ff0037>spoilers</text> <text style=background-color:#00ff0009>br</text> <text style=background-color:#00ff0009>br</text> <text style=background-color:#00ff002e>the</text> <text style=background-color:#00ff0008>unfunny</text> <text style=background-color:#00ff0052>radio</text> <text style=background-color:#00ff0023>quiz</text> <text style=background-color:#00ff004f>show</text> <text style=background-color:#00ff0027>host</text> <text style=background-color:#00ff0000>kyser</text> <text style=background-color:#00ff001d>and</text> <text style=background-color:#00ff0013>his</text> <text style=background-color:#00ff001b>mediocre</text> <text style=background-color:#00ff004e>band</text> <text style=background-color:#00ff001c>are</text> <text style=background-color:#00ff002e>the</text> <text style=background-color:#00ff0017>excuse</text> <text style=background-color:#00ff001d>for</text> <text style=background-color:#00ff0000>lugosi</text> <text style=background-color:#00ff0000>karloff</text> <text style=background-color:#00ff001d>and</text> <text style=background-color:#00ff0000>lorre</text> <text style=background-color:#00ff001b>to</text> <text style=background-color:#00ff000e>pick</text> <text style=background-color:#00ff0019>up</text> <text style=background-color:#00ff0023>a</text> <text style=background-color:#00ff0001>paycheck</text> <text style=background-color:#00ff001d>in</text> <text style=background-color:#00ff002c>this</text> <text style=background-color:#00ff0003>bland</text> <text style=background-color:#00ff0000>sporatically</text> <text style=background-color:#00ff0002>watchable</text> <text style=background-color:#00ff0024>haunted</text> <text style=background-color:#00ff001f>house</text> <text style=background-color:#00ff000f>spoof</text> <text style=background-color:#00ff0000>lugosi</text> <text style=background-color:#00ff002e>is</text> <text style=background-color:#00ff0023>a</text> <text style=background-color:#00ff0005>mystic</text> <text style=background-color:#00ff0012>whose</text> <text style=background-color:#00ff0000>seances</text> <text style=background-color:#00ff001c>are</text> <text style=background-color:#00ff0003>exposed</text> <text style=background-color:#00ff001d>as</text> <text style=background-color:#00ff0023>a</text> <text style=background-color:#00ff0000>fraudulent</text> <text style=background-color:#00ff000b>attempt</text> <text style=background-color:#00ff001b>to</text> <text style=background-color:#00ff0000>bilk</text> <text style=background-color:#00ff001f>an</text> <text style=background-color:#00ff0000>heiress</text> <text style=background-color:#00ff000c>fortune</text> <text style=background-color:#00ff0000>karloff</text> <text style=background-color:#00ff002e>is</text> <text style=background-color:#00ff002e>the</text> <text style=background-color:#00ff0005>butler</text> <text style=background-color:#00ff001d>and</text> <text style=background-color:#00ff0000>lorre</text> <text style=background-color:#00ff002e>is</text> <text style=background-color:#00ff0023>a</text> <text style=background-color:#00ff0025>professor</text> <text style=background-color:#00ff0013>who</text> <text style=background-color:#00ff0001>exposes</text> <text style=background-color:#00ff0019>fake</text> <text style=background-color:#00ff0000>mediums</text> <text style=background-color:#00ff0022>but</text> <text style=background-color:#00ff0023>it</text> <text style=background-color:#00ff0013>turns</text> <text style=background-color:#00ff001c>out</text> <text style=background-color:#00ff0024>that</text> <text style=background-color:#00ff0017>they</text> <text style=background-color:#00ff0010>re</text> <text style=background-color:#00ff0014>both</text> <text style=background-color:#00ff001d>in</text> <text style=background-color:#00ff0012>conspiracy</text> <text style=background-color:#00ff0020>with</text> <text style=background-color:#00ff0000>lugosi</text> <text style=background-color:#00ff0009>br</text> <text style=background-color:#00ff0009>br</text> <text style=background-color:#00ff002d>of</text> <text style=background-color:#00ff002b>course</text> <text style=background-color:#00ff0009>kay</text> <text style=background-color:#00ff0000>kyser</text> <text style=background-color:#00ff001d>and</text> <text style=background-color:#00ff0013>his</text> <text style=background-color:#00ff004e>band</text> <text style=background-color:#00ff002d>of</text> <text style=background-color:#00ff001f>something</text> <text style=background-color:#00ff0023>year</text> <text style=background-color:#00ff002c>old</text> <text style=background-color:#00ff0029>kids</text> <text style=background-color:#00ff0001>uncover</text> <text style=background-color:#00ff002e>the</text> <text style=background-color:#00ff001b>truth</text> <text style=background-color:#00ff0020>with</text> <text style=background-color:#00ff002e>the</text> <text style=background-color:#00ff0001>minimum</text> <text style=background-color:#00ff002d>of</text> <text style=background-color:#00ff0017>possible</text> <text style=background-color:#00ff002b>humor</text> <text style=background-color:#00ff0015>along</text> <text style=background-color:#00ff002e>the</text> <text style=background-color:#00ff0025>way</text> <text style=background-color:#00ff001f>not</text> <text style=background-color:#00ff0004>recommended</text> <text style=background-color:#00ff001b>to</text> <text style=background-color:#00ff001f>any</text> <text style=background-color:#00ff0022>but</text> <text style=background-color:#00ff002e>the</text> <text style=background-color:#00ff001e>absolute</text> <text style=background-color:#00ff00ff>horror</text> <text style=background-color:#00ff0000>completist</text> <br> <text style=background-color:#00ff0000>creepshow</text> <text style=background-color:#00ff0027>is</text> <text style=background-color:#00ff0028>little</text> <text style=background-color:#00ff0012>more</text> <text style=background-color:#00ff001d>than</text> <text style=background-color:#00ff001d>a</text> <text style=background-color:#00ff0005>pale</text> <text style=background-color:#00ff0001>imitation</text> <text style=background-color:#00ff0026>of</text> <text style=background-color:#00ff0027>the</text> <text style=background-color:#00ff0038>original</text> <text style=background-color:#00ff0002>designed</text> <text style=background-color:#00ff001a>with</text> <text style=background-color:#00ff0028>little</text> <text style=background-color:#00ff000d>purpose</text> <text style=background-color:#00ff0014>other</text> <text style=background-color:#00ff001d>than</text> <text style=background-color:#00ff0016>to</text> <text style=background-color:#00ff0002>cash</text> <text style=background-color:#00ff0017>in</text> <text style=background-color:#00ff0015>on</text> <text style=background-color:#00ff0027>the</text> <text style=background-color:#00ff0018>name</text> <text style=background-color:#00ff0026>of</text> <text style=background-color:#00ff0027>the</text> <text style=background-color:#00ff0007>previous</text> <text style=background-color:#00ff0047>film</text> <text style=background-color:#00ff001d>it</text> <text style=background-color:#00ff001d>even</text> <text style=background-color:#00ff0000>amplifies</text> <text style=background-color:#00ff0027>the</text> <text style=background-color:#00ff0001>flaws</text> <text style=background-color:#00ff0026>of</text> <text style=background-color:#00ff001b>its</text> <text style=background-color:#00ff0000>predecessor</text> <text style=background-color:#00ff001d>which</text> <text style=background-color:#00ff0020>was</text> <text style=background-color:#00ff000b>often</text> <text style=background-color:#00ff000b>predictable</text> <text style=background-color:#00ff0017>and</text> <text style=background-color:#00ff0017>heavy</text> <text style=background-color:#00ff0001>handed</text> <text style=background-color:#00ff0015>still</text> <text style=background-color:#00ff0027>the</text> <text style=background-color:#00ff0027>first</text> <text style=background-color:#00ff0033>time</text> <text style=background-color:#00ff000a>around</text> <text style=background-color:#00ff001e>there</text> <text style=background-color:#00ff0015>were</text> <text style=background-color:#00ff0015>enough</text> <text style=background-color:#00ff0000>thrills</text> <text style=background-color:#00ff0016>to</text> <text style=background-color:#00ff0019>make</text> <text style=background-color:#00ff0013>up</text> <text style=background-color:#00ff0017>for</text> <text style=background-color:#00ff001d>it</text> <text style=background-color:#00ff0009>s</text> <text style=background-color:#00ff0006>periodic</text> <text style=background-color:#00ff0000>lulls</text> <text style=background-color:#00ff0000>resulting</text> <text style=background-color:#00ff0017>in</text> <text style=background-color:#00ff0018>an</text> <text style=background-color:#00ff0000>uneven</text> <text style=background-color:#00ff001b>but</text> <text style=background-color:#00ff0006>overall</text> <text style=background-color:#00ff0002>fairly</text> <text style=background-color:#00ff0012>entertaining</text> <text style=background-color:#00ff000f>effort</text> <text style=background-color:#00ff0027>the</text> <text style=background-color:#00ff003d>sequel</text> <text style=background-color:#00ff0018>has</text> <text style=background-color:#00ff000e>few</text> <text style=background-color:#00ff0003>worthwhile</text> <text style=background-color:#00ff0030>moments</text> <text style=background-color:#00ff001e>so</text> <text style=background-color:#00ff0027>the</text> <text style=background-color:#00ff0000>transparency</text> <text style=background-color:#00ff0026>of</text> <text style=background-color:#00ff0027>the</text> <text style=background-color:#00ff002a>stories</text> <text style=background-color:#00ff0016>are</text> <text style=background-color:#00ff001d>even</text> <text style=background-color:#00ff0012>more</text> <text style=background-color:#00ff0004>apparent</text> <text style=background-color:#00ff0013>once</text> <text style=background-color:#00ff0017>in</text> <text style=background-color:#00ff001d>a</text> <text style=background-color:#00ff0018>while</text> <text style=background-color:#00ff001d>it</text> <text style=background-color:#00ff0002>delivers</text> <text style=background-color:#00ff001b>but</text> <text style=background-color:#00ff001a>most</text> <text style=background-color:#00ff0026>of</text> <text style=background-color:#00ff0027>the</text> <text style=background-color:#00ff0033>time</text> <text style=background-color:#00ff001d>it</text> <text style=background-color:#00ff001a>just</text> <text style=background-color:#00ff0000>lingers</text> <text style=background-color:#00ff001e>there</text> <text style=background-color:#00ff0006>br</text> <text style=background-color:#00ff0006>br</text> <text style=background-color:#00ff0017>as</text> <text style=background-color:#00ff0017>in</text> <text style=background-color:#00ff0027>the</text> <text style=background-color:#00ff0038>original</text> <text style=background-color:#00ff0017>all</text> <text style=background-color:#00ff0027>the</text> <text style=background-color:#00ff002a>stories</text> <text style=background-color:#00ff0001>revolve</text> <text style=background-color:#00ff000a>around</text> <text style=background-color:#00ff0027>the</text> <text style=background-color:#00ff001d>common</text> <text style=background-color:#00ff004e>theme</text> <text style=background-color:#00ff0026>of</text> <text style=background-color:#00ff0054>revenge</text> <text style=background-color:#00ff0017>and</text> <text style=background-color:#00ff001a>just</text> <text style=background-color:#00ff0001>desserts</text> <text style=background-color:#00ff001d>a</text> <text style=background-color:#00ff0003>wooden</text> <text style=background-color:#00ff0009>indian</text> <text style=background-color:#00ff0029>comes</text> <text style=background-color:#00ff0016>to</text> <text style=background-color:#00ff0030>life</text> <text style=background-color:#00ff0000>wreaking</text> <text style=background-color:#00ff0005>vengeance</text> <text style=background-color:#00ff0009>upon</text> <text style=background-color:#00ff0027>the</text> <text style=background-color:#00ff0032>killers</text> <text style=background-color:#00ff0026>of</text> <text style=background-color:#00ff001b>its</text> <text style=background-color:#00ff0002>owner</text> <text style=background-color:#00ff000d>teenagers</text> <text style=background-color:#00ff0016>are</text> <text style=background-color:#00ff0000>devoured</text> <text style=background-color:#00ff0015>by</text> <text style=background-color:#00ff0018>an</text> <text style=background-color:#00ff0003>aquatic</text> <text style=background-color:#00ff0045>monster</text> <text style=background-color:#00ff001d>a</text> <text style=background-color:#00ff0000>hitchhiker</text> <text style=background-color:#00ff0007>returns</text> <text style=background-color:#00ff0013>from</text> <text style=background-color:#00ff0027>the</text> <text style=background-color:#00ff0038>dead</text> <text style=background-color:#00ff0016>to</text> <text style=background-color:#00ff0002>pursue</text> <text style=background-color:#00ff001d>a</text> <text style=background-color:#00ff000a>careless</text> <text style=background-color:#00ff0000>motorist</text> <text style=background-color:#00ff0009>none</text> <text style=background-color:#00ff0026>of</text> <text style=background-color:#00ff0011>these</text> <text style=background-color:#00ff0000>premises</text> <text style=background-color:#00ff0016>are</text> <text style=background-color:#00ff0000>inherently</text> <text style=background-color:#00ff0033>bad</text> <text style=background-color:#00ff0017>in</text> <text style=background-color:#00ff0005>themselves</text> <text style=background-color:#00ff001b>but</text> <text style=background-color:#00ff0011>they</text> <text style=background-color:#00ff0016>are</text> <text style=background-color:#00ff0003>utterly</text> <text style=background-color:#00ff0003>lacking</text> <text style=background-color:#00ff0017>in</text> <text style=background-color:#00ff0015>inspiration</text> <text style=background-color:#00ff001e>there</text> <text style=background-color:#00ff0016>are</text> <text style=background-color:#00ff000e>few</text> <text style=background-color:#00ff0004>surprises</text> <text style=background-color:#00ff0017>and</text> <text style=background-color:#00ff001a>no</text> <text style=background-color:#00ff000a>scares</text> <text style=background-color:#00ff0025>this</text> <text style=background-color:#00ff001d>a</text> <text style=background-color:#00ff0009>textbook</text> <text style=background-color:#00ff001b>example</text> <text style=background-color:#00ff0026>of</text> <text style=background-color:#00ff0001>unmotivated</text> <text style=background-color:#00ff0015>by</text> <text style=background-color:#00ff0027>the</text> <text style=background-color:#00ff0004>numbers</text> <text style=background-color:#00ff0002>filmmaking</text> <text style=background-color:#00ff001d>it</text> <text style=background-color:#00ff0000>doesn</text> <text style=background-color:#00ff0007>t</text> <text style=background-color:#00ff000b>help</text> <text style=background-color:#00ff001d>that</text> <text style=background-color:#00ff0025>this</text> <text style=background-color:#00ff0003>cheap</text> <text style=background-color:#00ff000f>looking</text> <text style=background-color:#00ff0084>movie</text> <text style=background-color:#00ff0001>suffers</text> <text style=background-color:#00ff0013>from</text> <text style=background-color:#00ff001d>a</text> <text style=background-color:#00ff0005>flat</text> <text style=background-color:#00ff0000>directorial</text> <text style=background-color:#00ff0037>style</text> <text style=background-color:#00ff000b>although</text> <text style=background-color:#00ff0016>to</text> <text style=background-color:#00ff0011>be</text> <text style=background-color:#00ff0009>honest</text> <text style=background-color:#00ff001e>there</text> <text style=background-color:#00ff0000>wasn</text> <text style=background-color:#00ff0007>t</text> <text style=background-color:#00ff0016>much</text> <text style=background-color:#00ff0016>to</text> <text style=background-color:#00ff0019>work</text> <text style=background-color:#00ff001a>with</text> <text style=background-color:#00ff0017>in</text> <text style=background-color:#00ff0027>the</text> <text style=background-color:#00ff001f>end</text> <text style=background-color:#00ff0027>the</text> <text style=background-color:#00ff001a>second</text> <text style=background-color:#00ff005e>story</text> <text style=background-color:#00ff0029>comes</text> <text style=background-color:#00ff000b>off</text> <text style=background-color:#00ff0037>best</text> <text style=background-color:#00ff001b>but</text> <text style=background-color:#00ff0018>not</text> <text style=background-color:#00ff0015>by</text> <text style=background-color:#00ff0016>much</text> <text style=background-color:#00ff0006>br</text> <text style=background-color:#00ff0006>br</text> <text style=background-color:#00ff0017>for</text> <text style=background-color:#00ff0027>the</text> <text style=background-color:#00ff001a>most</text> <text style=background-color:#00ff003c>part</text> <text style=background-color:#00ff0027>the</text> <text style=background-color:#00ff0013>performances</text> <text style=background-color:#00ff0016>are</text> <text style=background-color:#00ff0011>okay</text> <text style=background-color:#00ff0013>at</text> <text style=background-color:#00ff0037>best</text> <text style=background-color:#00ff000c>george</text> <text style=background-color:#00ff0006>kennedy</text> <text style=background-color:#00ff0017>as</text> <text style=background-color:#00ff0027>the</text> <text style=background-color:#00ff0008>ill</text> <text style=background-color:#00ff0000>fated</text> <text style=background-color:#00ff000f>general</text> <text style=background-color:#00ff0007>store</text> <text style=background-color:#00ff0002>owner</text> <text style=background-color:#00ff0016>does</text> <text style=background-color:#00ff0018>an</text> <text style=background-color:#00ff0000>adequate</text> <text style=background-color:#00ff000f>if</text> <text style=background-color:#00ff0018>not</text> <text style=background-color:#00ff0002>particularly</text> <text style=background-color:#00ff0019>inspired</text> <text style=background-color:#00ff000a>job</text> <text style=background-color:#00ff0000>dorothy</text> <text style=background-color:#00ff0000>lamour</text> <text style=background-color:#00ff0015>on</text> <text style=background-color:#00ff0027>the</text> <text style=background-color:#00ff0014>other</text> <text style=background-color:#00ff0008>hand</text> <text style=background-color:#00ff0027>is</text> <text style=background-color:#00ff0016>quite</text> <text style=background-color:#00ff0021>good</text> <text style=background-color:#00ff0017>as</text> <text style=background-color:#00ff0027>the</text> <text style=background-color:#00ff0007>guilt</text> <text style=background-color:#00ff0001>ridden</text> <text style=background-color:#00ff0000>motorist</text> <text style=background-color:#00ff0000>evoking</text> <text style=background-color:#00ff0001>sympathy</text> <text style=background-color:#00ff0017>for</text> <text style=background-color:#00ff0004>her</text> <text style=background-color:#00ff0000>plight</text> <text style=background-color:#00ff0004>despite</text> <text style=background-color:#00ff0027>the</text> <text style=background-color:#00ff000b>predictable</text> <text style=background-color:#00ff0001>redundant</text> <text style=background-color:#00ff0015>material</text> <text style=background-color:#00ff0009>however</text> <text style=background-color:#00ff001a>most</text> <text style=background-color:#00ff0026>of</text> <text style=background-color:#00ff0027>the</text> <text style=background-color:#00ff0039>characters</text> <text style=background-color:#00ff0016>are</text> <text style=background-color:#00ff0019>pretty</text> <text style=background-color:#00ff0003>thin</text> <text style=background-color:#00ff0006>overall</text> <text style=background-color:#00ff0006>br</text> <text style=background-color:#00ff0006>br</text> <text style=background-color:#00ff002b>one</text> <text style=background-color:#00ff0010>would</text> <text style=background-color:#00ff001a>think</text> <text style=background-color:#00ff001d>that</text> <text style=background-color:#00ff0000>creepshow</text> <text style=background-color:#00ff0010>would</text> <text style=background-color:#00ff0019>have</text> <text style=background-color:#00ff0013>turned</text> <text style=background-color:#00ff0016>out</text> <text style=background-color:#00ff0019>better</text> <text style=background-color:#00ff000c>george</text> <text style=background-color:#00ff0001>romero</text> <text style=background-color:#00ff000e>who</text> <text style=background-color:#00ff0009>directed</text> <text style=background-color:#00ff0027>the</text> <text style=background-color:#00ff0038>original</text> <text style=background-color:#00ff0001>returned</text> <text style=background-color:#00ff0016>to</text> <text style=background-color:#00ff000c>pen</text> <text style=background-color:#00ff0027>the</text> <text style=background-color:#00ff000a>screenplay</text> <text style=background-color:#00ff0014>based</text> <text style=background-color:#00ff0015>on</text> <text style=background-color:#00ff0012>more</text> <text style=background-color:#00ff0026>of</text> <text style=background-color:#00ff000b>stephen</text> <text style=background-color:#00ff0029>king</text> <text style=background-color:#00ff0009>s</text> <text style=background-color:#00ff002a>stories</text> <text style=background-color:#00ff000d>makeup</text> <text style=background-color:#00ff0018>effects</text> <text style=background-color:#00ff001f>artist</text> <text style=background-color:#00ff0024>tom</text> <text style=background-color:#00ff0000>savini</text> <text style=background-color:#00ff000f>turns</text> <text style=background-color:#00ff0017>in</text> <text style=background-color:#00ff0019>some</text> <text style=background-color:#00ff0021>good</text> <text style=background-color:#00ff0005>gory</text> <text style=background-color:#00ff0019>work</text> <text style=background-color:#00ff001e>so</text> <text style=background-color:#00ff001a>why</text> <text style=background-color:#00ff0027>is</text> <text style=background-color:#00ff0027>the</text> <text style=background-color:#00ff0047>film</text> <text style=background-color:#00ff001d>a</text> <text style=background-color:#00ff0001>letdown</text> <text style=background-color:#00ff0016>i</text> <text style=background-color:#00ff0014>guess</text> <text style=background-color:#00ff0001>romero</text> <text style=background-color:#00ff0000>didn</text> <text style=background-color:#00ff0007>t</text> <text style=background-color:#00ff001c>really</text> <text style=background-color:#00ff0011>want</text> <text style=background-color:#00ff0016>to</text> <text style=background-color:#00ff0019>make</text> <text style=background-color:#00ff001d>a</text> <text style=background-color:#00ff001a>second</text> <text style=background-color:#00ff0047>film</text> <text style=background-color:#00ff001b>but</text> <text style=background-color:#00ff0020>was</text> <text style=background-color:#00ff0003>forced</text> <text style=background-color:#00ff0016>to</text> <text style=background-color:#00ff0019>do</text> <text style=background-color:#00ff001e>so</text> <text style=background-color:#00ff0017>for</text> <text style=background-color:#00ff0003>financial</text> <text style=background-color:#00ff000e>reasons</text> <text style=background-color:#00ff001d>it</text> <text style=background-color:#00ff0020>was</text> <text style=background-color:#00ff001d>a</text> <text style=background-color:#00ff0008>decade</text> <text style=background-color:#00ff0026>of</text> <text style=background-color:#00ff00ff>horror</text> <text style=background-color:#00ff000a>sequels</text> <text style=background-color:#00ff0003>clones</text> <text style=background-color:#00ff0014>rip</text> <text style=background-color:#00ff0004>offs</text> <text style=background-color:#00ff0017>and</text> <text style=background-color:#00ff0000>whatnot</text> <text style=background-color:#00ff001e>so</text> <text style=background-color:#00ff0025>this</text> <text style=background-color:#00ff002b>one</text> <text style=background-color:#00ff0020>was</text> <text style=background-color:#00ff0007>certainly</text> <text style=background-color:#00ff0017>inevitable</text> <text style=background-color:#00ff0016>i</text> <text style=background-color:#00ff000d>can</text> <text style=background-color:#00ff002f>imagine</text> <text style=background-color:#00ff0027>the</text> <text style=background-color:#00ff001f>guy</text> <text style=background-color:#00ff0029>writing</text> <text style=background-color:#00ff0027>the</text> <text style=background-color:#00ff0038>script</text> <text style=background-color:#00ff0017>in</text> <text style=background-color:#00ff001d>a</text> <text style=background-color:#00ff0002>hurry</text> <text style=background-color:#00ff0003>picking</text> <text style=background-color:#00ff0013>up</text> <text style=background-color:#00ff000e>his</text> <text style=background-color:#00ff0000>paycheck</text> <text style=background-color:#00ff0017>and</text> <text style=background-color:#00ff0017>running</text> <text style=background-color:#00ff000b>off</text> <text style=background-color:#00ff0016>i</text> <text style=background-color:#00ff0014>guess</text> <text style=background-color:#00ff0017>he</text> <text style=background-color:#00ff001a>had</text> <text style=background-color:#00ff0016>to</text> <text style=background-color:#00ff0019>do</text> <text style=background-color:#00ff0026>what</text> <text style=background-color:#00ff0020>was</text> <text style=background-color:#00ff0007>necessary</text> <text style=background-color:#00ff0016>to</text> <text style=background-color:#00ff000e>get</text> <text style=background-color:#00ff000e>his</text> <text style=background-color:#00ff0019>own</text> <text style=background-color:#00ff0009>projects</text> <text style=background-color:#00ff0000>financed</text> <text style=background-color:#00ff001f>we</text> <text style=background-color:#00ff000d>can</text> <text style=background-color:#00ff0007>t</text> <text style=background-color:#00ff000b>blame</text> <text style=background-color:#00ff0009>him</text> <text style=background-color:#00ff0006>br</text> <text style=background-color:#00ff0006>br</text> <text style=background-color:#00ff0003>rating</text> <text style=background-color:#00ff0016>out</text> <text style=background-color:#00ff0026>of</text> <text style=background-color:#00ff0006>br</text> <text style=background-color:#00ff0006>br</text> <text style=background-color:#00ff000f>released</text> <text style=background-color:#00ff0015>by</text> <text style=background-color:#00ff001e>new</text> <text style=background-color:#00ff002c>world</text> <text style=background-color:#00ff0013>pictures</text> <br> <text style=background-color:#00ff0017>i</text> <text style=background-color:#00ff0019>look</text> <text style=background-color:#00ff0013>at</text> <text style=background-color:#00ff0026>this</text> <text style=background-color:#00ff0011>page</text> <text style=background-color:#00ff0018>and</text> <text style=background-color:#00ff001d>it</text> <text style=background-color:#00ff0014>seems</text> <text style=background-color:#00ff0000>disapproving</text> <text style=background-color:#00ff0016>to</text> <text style=background-color:#00ff0011>me</text> <text style=background-color:#00ff0016>to</text> <text style=background-color:#00ff001a>have</text> <text style=background-color:#00ff0016>to</text> <text style=background-color:#00ff0022>listen</text> <text style=background-color:#00ff0016>to</text> <text style=background-color:#00ff000f>someone</text> <text style=background-color:#00ff0001>ramble</text> <text style=background-color:#00ff0018>and</text> <text style=background-color:#00ff0006>rant</text> <text style=background-color:#00ff0013>at</text> <text style=background-color:#00ff001d>a</text> <text style=background-color:#00ff002a>real</text> <text style=background-color:#00ff0029>classic</text> <text style=background-color:#00ff0016>sure</text> <text style=background-color:#00ff0017>i</text> <text style=background-color:#00ff000a>agree</text> <text style=background-color:#00ff0016>to</text> <text style=background-color:#00ff0017>let</text> <text style=background-color:#00ff0009>everyone</text> <text style=background-color:#00ff001a>have</text> <text style=background-color:#00ff000f>their</text> <text style=background-color:#00ff0012>opinion</text> <text style=background-color:#00ff001b>but</text> <text style=background-color:#00ff0016>here</text> <text style=background-color:#00ff0009>s</text> <text style=background-color:#00ff0010>mine</text> <text style=background-color:#00ff0006>br</text> <text style=background-color:#00ff0006>br</text> <text style=background-color:#00ff0026>this</text> <text style=background-color:#00ff0085>movie</text> <text style=background-color:#00ff0013>should</text> <text style=background-color:#00ff0019>not</text> <text style=background-color:#00ff0011>be</text> <text style=background-color:#00ff0011>missed</text> <text style=background-color:#00ff0016>by</text> <text style=background-color:#00ff0019>any</text> <text style=background-color:#00ff0029>classic</text> <text style=background-color:#00ff00ff>horror</text> <text style=background-color:#00ff0001>watcher</text> <text style=background-color:#00ff0018>and</text> <text style=background-color:#00ff0013>should</text> <text style=background-color:#00ff0011>be</text> <text style=background-color:#00ff001e>seen</text> <text style=background-color:#00ff0011>many</text> <text style=background-color:#00ff0012>casual</text> <text style=background-color:#00ff0004>viewers</text> <text style=background-color:#00ff000a>around</text> <text style=background-color:#00ff0027>the</text> <text style=background-color:#00ff002d>world</text> <text style=background-color:#00ff0016>sure</text> <text style=background-color:#00ff001d>it</text> <text style=background-color:#00ff0018>has</text> <text style=background-color:#00ff001a>lost</text> <text style=background-color:#00ff0019>some</text> <text style=background-color:#00ff0026>of</text> <text style=background-color:#00ff001d>it</text> <text style=background-color:#00ff0009>s</text> <text style=background-color:#00ff0001>flair</text> <text style=background-color:#00ff0018>and</text> <text style=background-color:#00ff0006>greatness</text> <text style=background-color:#00ff001a>with</text> <text style=background-color:#00ff002c>age</text> <text style=background-color:#00ff0017>especially</text> <text style=background-color:#00ff0017>in</text> <text style=background-color:#00ff000c>todays</text> <text style=background-color:#00ff002d>world</text> <text style=background-color:#00ff0026>of</text> <text style=background-color:#00ff0009>cgi</text> <text style=background-color:#00ff0018>effects</text> <text style=background-color:#00ff001b>but</text> <text style=background-color:#00ff001e>that</text> <text style=background-color:#00ff0009>s</text> <text style=background-color:#00ff0019>not</text> <text style=background-color:#00ff001b>why</text> <text style=background-color:#00ff0013>you</text> <text style=background-color:#00ff0013>should</text> <text style=background-color:#00ff001f>like</text> <text style=background-color:#00ff001d>it</text> <text style=background-color:#00ff0006>br</text> <text style=background-color:#00ff0006>br</text> <text style=background-color:#00ff0013>you</text> <text style=background-color:#00ff0013>should</text> <text style=background-color:#00ff001f>like</text> <text style=background-color:#00ff001d>it</text> <text style=background-color:#00ff001e>because</text> <text style=background-color:#00ff001d>it</text> <text style=background-color:#00ff0029>actually</text> <text style=background-color:#00ff0027>is</text> <text style=background-color:#00ff001d>a</text> <text style=background-color:#00ff0046>scary</text> <text style=background-color:#00ff0085>movie</text> <text style=background-color:#00ff001d>even</text> <text style=background-color:#00ff0018>for</text> <text style=background-color:#00ff0017>today</text> <text style=background-color:#00ff0009>s</text> <text style=background-color:#00ff0003>standards</text> <text style=background-color:#00ff001d>it</text> <text style=background-color:#00ff0009>s</text> <text style=background-color:#00ff0006>overall</text> <text style=background-color:#00ff0000>ickyness</text> <text style=background-color:#00ff0012>will</text> <text style=background-color:#00ff000d>creep</text> <text style=background-color:#00ff0013>you</text> <text style=background-color:#00ff0016>out</text> <text style=background-color:#00ff001a>just</text> <text style=background-color:#00ff0017>as</text> <text style=background-color:#00ff0017>much</text> <text style=background-color:#00ff0017>as</text> <text style=background-color:#00ff0027>the</text> <text style=background-color:#00ff0039>original</text> <text style=background-color:#00ff0002>audiences</text> <text style=background-color:#00ff001e>so</text> <text style=background-color:#00ff000f>don</text> <text style=background-color:#00ff0007>t</text> <text style=background-color:#00ff0006>slam</text> <text style=background-color:#00ff001d>a</text> <text style=background-color:#00ff0029>classic</text> <text style=background-color:#00ff000f>if</text> <text style=background-color:#00ff0013>you</text> <text style=background-color:#00ff000c>haven</text> <text style=background-color:#00ff0007>t</text> <text style=background-color:#00ff0008>given</text> <text style=background-color:#00ff001d>it</text> <text style=background-color:#00ff001d>a</text> <text style=background-color:#00ff000f>chance</text> <text style=background-color:#00ff002d>watch</text> <text style=background-color:#00ff001d>it</text> <text style=background-color:#00ff001b>but</text> <text style=background-color:#00ff0019>not</text> <text style=background-color:#00ff001a>with</text> <text style=background-color:#00ff001d>a</text> <text style=background-color:#00ff0005>critical</text> <text style=background-color:#00ff000c>attitude</text> <text style=background-color:#00ff002d>watch</text> <text style=background-color:#00ff001d>it</text> <text style=background-color:#00ff0016>to</text> <text style=background-color:#00ff001a>have</text> <text style=background-color:#00ff0030>fun</text> <text style=background-color:#00ff0019>how</text> <text style=background-color:#00ff001d>it</text> <text style=background-color:#00ff0020>was</text> <text style=background-color:#00ff0007>originally</text> <text style=background-color:#00ff0007>intended</text> <br> <text style=background-color:#00ff0000>alexandre</text> <text style=background-color:#00ff0001>aja</text> <text style=background-color:#00ff0005>s</text> <text style=background-color:#00ff0046>remake</text> <text style=background-color:#00ff001b>of</text> <text style=background-color:#00ff001c>the</text> <text style=background-color:#00ff0002>hills</text> <text style=background-color:#00ff0011>have</text> <text style=background-color:#00ff0005>eyes</text> <text style=background-color:#00ff0016>was</text> <text style=background-color:#00ff0020>one</text> <text style=background-color:#00ff001b>of</text> <text style=background-color:#00ff001c>the</text> <text style=background-color:#00ff0002>bright</text> <text style=background-color:#00ff0003>spots</text> <text style=background-color:#00ff001b>of</text> <text style=background-color:#00ff0010>not</text> <text style=background-color:#00ff000c>only</text> <text style=background-color:#00ff0016>was</text> <text style=background-color:#00ff0014>it</text> <text style=background-color:#00ff0014>a</text> <text style=background-color:#00ff0046>remake</text> <text style=background-color:#00ff001b>of</text> <text style=background-color:#00ff0014>a</text> <text style=background-color:#00ff001e>classic</text> <text style=background-color:#00ff00ff>horror</text> <text style=background-color:#00ff003a>film</text> <text style=background-color:#00ff0012>but</text> <text style=background-color:#00ff0014>it</text> <text style=background-color:#00ff0016>was</text> <text style=background-color:#00ff0010>pretty</text> <text style=background-color:#00ff0003>damned</text> <text style=background-color:#00ff0017>good</text> <text style=background-color:#00ff000c>too</text> <text style=background-color:#00ff0015>so</text> <text style=background-color:#00ff0002>nearly</text> <text style=background-color:#00ff0014>a</text> <text style=background-color:#00ff0014>year</text> <text style=background-color:#00ff000c>later</text> <text style=background-color:#00ff0016>we</text> <text style=background-color:#00ff000e>are</text> <text style=background-color:#00ff000a>being</text> <text style=background-color:#00ff0001>treated</text> <text style=background-color:#00ff000e>to</text> <text style=background-color:#00ff001c>the</text> <text style=background-color:#00ff0031>sequel</text> <text style=background-color:#00ff000e>to</text> <text style=background-color:#00ff0014>that</text> <text style=background-color:#00ff0046>remake</text> <text style=background-color:#00ff0010>while</text> <text style=background-color:#00ff002c>original</text> <text style=background-color:#00ff0000>scripter</text> <text style=background-color:#00ff0000>wes</text> <text style=background-color:#00ff0000>craven</text> <text style=background-color:#00ff001d>is</text> <text style=background-color:#00ff0002>back</text> <text style=background-color:#00ff000f>as</text> <text style=background-color:#00ff0009>producer</text> <text style=background-color:#00ff000f>and</text> <text style=background-color:#00ff0001>co</text> <text style=background-color:#00ff000a>scripted</text> <text style=background-color:#00ff001b>this</text> <text style=background-color:#00ff003a>film</text> <text style=background-color:#00ff0011>just</text> <text style=background-color:#00ff000e>fails</text> <text style=background-color:#00ff000e>to</text> <text style=background-color:#00ff0003>rise</text> <text style=background-color:#00ff000e>to</text> <text style=background-color:#00ff001c>the</text> <text style=background-color:#00ff001e>level</text> <text style=background-color:#00ff0013>set</text> <text style=background-color:#00ff000e>by</text> <text style=background-color:#00ff001c>the</text> <text style=background-color:#00ff002c>original</text> <text style=background-color:#00ff000f>and</text> <text style=background-color:#00ff001c>the</text> <text style=background-color:#00ff0046>remake</text> <text style=background-color:#00ff0014>a</text> <text style=background-color:#00ff0011>group</text> <text style=background-color:#00ff001b>of</text> <text style=background-color:#00ff0002>military</text> <text style=background-color:#00ff0000>trainees</text> <text style=background-color:#00ff000b>stop</text> <text style=background-color:#00ff000e>by</text> <text style=background-color:#00ff000f>in</text> <text style=background-color:#00ff001c>the</text> <text style=background-color:#00ff0003>desert</text> <text style=background-color:#00ff000e>to</text> <text style=background-color:#00ff000d>check</text> <text style=background-color:#00ff000f>in</text> <text style=background-color:#00ff000d>on</text> <text style=background-color:#00ff0010>some</text> <text style=background-color:#00ff0004>scientists</text> <text style=background-color:#00ff000f>and</text> <text style=background-color:#00ff000c>find</text> <text style=background-color:#00ff0002>themselves</text> <text style=background-color:#00ff0010>run</text> <text style=background-color:#00ff0000>afoul</text> <text style=background-color:#00ff001b>of</text> <text style=background-color:#00ff001c>the</text> <text style=background-color:#00ff000a>mutant</text> <text style=background-color:#00ff0014>family</text> <text style=background-color:#00ff000c>from</text> <text style=background-color:#00ff001c>the</text> <text style=background-color:#00ff001c>first</text> <text style=background-color:#00ff003a>film</text> <text style=background-color:#00ff000c>at</text> <text style=background-color:#00ff000d>least</text> <text style=background-color:#00ff0009>those</text> <text style=background-color:#00ff0014>that</text> <text style=background-color:#00ff0001>remain</text> <text style=background-color:#00ff0002>plus</text> <text style=background-color:#00ff0010>some</text> <text style=background-color:#00ff0015>new</text> <text style=background-color:#00ff000d>ones</text> <text style=background-color:#00ff0015>there</text> <text style=background-color:#00ff0005>s</text> <text style=background-color:#00ff0002>plenty</text> <text style=background-color:#00ff001b>of</text> <text style=background-color:#00ff0000>gore</text> <text style=background-color:#00ff000e>to</text> <text style=background-color:#00ff000a>be</text> <text style=background-color:#00ff0012>had</text> <text style=background-color:#00ff000e>here</text> <text style=background-color:#00ff001c>what</text> <text style=background-color:#00ff0002>annoys</text> <text style=background-color:#00ff000a>me</text> <text style=background-color:#00ff0018>about</text> <text style=background-color:#00ff001b>this</text> <text style=background-color:#00ff003a>film</text> <text style=background-color:#00ff001d>is</text> <text style=background-color:#00ff001c>the</text> <text style=background-color:#00ff0006>utter</text> <text style=background-color:#00ff0006>lack</text> <text style=background-color:#00ff001b>of</text> <text style=background-color:#00ff0000>characterization</text> <text style=background-color:#00ff001c>the</text> <text style=background-color:#00ff0000>viewer</text> <text style=background-color:#00ff000f>does</text> <text style=background-color:#00ff0010>not</text> <text style=background-color:#00ff0008>give</text> <text style=background-color:#00ff0014>a</text> <text style=background-color:#00ff0010>damn</text> <text style=background-color:#00ff0018>about</text> <text style=background-color:#00ff001c>what</text> <text style=background-color:#00ff0011>happens</text> <text style=background-color:#00ff000e>to</text> <text style=background-color:#00ff0011>any</text> <text style=background-color:#00ff001b>of</text> <text style=background-color:#00ff000a>these</text> <text style=background-color:#00ff000c>people</text> <text style=background-color:#00ff0014>because</text> <text style=background-color:#00ff0016>we</text> <text style=background-color:#00ff0007>haven</text> <text style=background-color:#00ff0003>t</text> <text style=background-color:#00ff0002>gotten</text> <text style=background-color:#00ff000d>into</text> <text style=background-color:#00ff0005>them</text> <text style=background-color:#00ff0014>even</text> <text style=background-color:#00ff001c>the</text> <text style=background-color:#00ff0000>mutants</text> <text style=background-color:#00ff0012>had</text> <text style=background-color:#00ff0010>some</text> <text style=background-color:#00ff0000>characterization</text> <text style=background-color:#00ff001d>last</text> <text style=background-color:#00ff0028>time</text> <text style=background-color:#00ff000e>out</text> <text style=background-color:#00ff000f>and</text> <text style=background-color:#00ff001b>this</text> <text style=background-color:#00ff0028>time</text> <text style=background-color:#00ff0016>nothing</text> <text style=background-color:#00ff0000>gore</text> <text style=background-color:#00ff000f>for</text> <text style=background-color:#00ff001c>the</text> <text style=background-color:#00ff0003>sake</text> <text style=background-color:#00ff001b>of</text> <text style=background-color:#00ff0000>gore</text> <text style=background-color:#00ff001d>is</text> <text style=background-color:#00ff000d>pointless</text> <text style=background-color:#00ff0015>there</text> <text style=background-color:#00ff0010>has</text> <text style=background-color:#00ff000e>to</text> <text style=background-color:#00ff000a>be</text> <text style=background-color:#00ff0014>a</text> <text style=background-color:#00ff0012>reason</text> <text style=background-color:#00ff000f>for</text> <text style=background-color:#00ff001b>this</text> <text style=background-color:#00ff000e>to</text> <text style=background-color:#00ff0010>happen</text> <text style=background-color:#00ff000f>for</text> <text style=background-color:#00ff0014>it</text> <text style=background-color:#00ff000e>to</text> <text style=background-color:#00ff000a>be</text> <text style=background-color:#00ff001c>interesting</text> <text style=background-color:#00ff0016>nothing</text> <text style=background-color:#00ff0014>that</text> <text style=background-color:#00ff0011>happens</text> <text style=background-color:#00ff000e>here</text> <text style=background-color:#00ff001d>is</text> <text style=background-color:#00ff001c>interesting</text> <text style=background-color:#00ff000f>and</text> <text style=background-color:#00ff001c>what</text> <text style=background-color:#00ff001d>is</text> <text style=background-color:#00ff0014>it</text> <text style=background-color:#00ff0010>lately</text> <text style=background-color:#00ff0011>with</text> <text style=background-color:#00ff0006>rape</text> <text style=background-color:#00ff0030>scenes</text> <text style=background-color:#00ff000f>in</text> <text style=background-color:#00ff002e>films</text> <text style=background-color:#00ff000e>here</text> <text style=background-color:#00ff0016>we</text> <text style=background-color:#00ff0008>get</text> <text style=background-color:#00ff0012>yet</text> <text style=background-color:#00ff0013>another</text> <text style=background-color:#00ff0020>one</text> <text style=background-color:#00ff000f>for</text> <text style=background-color:#00ff0012>no</text> <text style=background-color:#00ff001f>real</text> <text style=background-color:#00ff0012>reason</text> <text style=background-color:#00ff0006>hopefully</text> <text style=background-color:#00ff001b>this</text> <text style=background-color:#00ff001d>is</text> <text style=background-color:#00ff0020>one</text> <text style=background-color:#00ff0013>set</text> <text style=background-color:#00ff001b>of</text> <text style=background-color:#00ff0002>hills</text> <text style=background-color:#00ff0014>that</text> <text style=background-color:#00ff0009>won</text> <text style=background-color:#00ff0003>t</text> <text style=background-color:#00ff000a>be</text> <text style=background-color:#00ff0001>visited</text> <text style=background-color:#00ff0014>again</text> <br> <text style=background-color:#00ff0016>i</text> <text style=background-color:#00ff0006>bought</text> <text style=background-color:#00ff001d>a</text> <text style=background-color:#00ff001b>set</text> <text style=background-color:#00ff0025>of</text> <text style=background-color:#00ff000a>dvds</text> <text style=background-color:#00ff0017>for</text> <text style=background-color:#00ff0000>bucks</text> <text style=background-color:#00ff0013>at</text> <text style=background-color:#00ff0017>my</text> <text style=background-color:#00ff0012>local</text> <text style=background-color:#00ff0000>suncoast</text> <text style=background-color:#00ff001d>which</text> <text style=background-color:#00ff0000>contained</text> <text style=background-color:#00ff0025>this</text> <text style=background-color:#00ff0084>movie</text> <text style=background-color:#00ff0017>and</text> <text style=background-color:#00ff0010>three</text> <text style=background-color:#00ff0014>other</text> <text style=background-color:#00ff0002>trashy</text> <text style=background-color:#00ff00ff>horror</text> <text style=background-color:#00ff0001>flicks</text> <text style=background-color:#00ff0008>including</text> <text style=background-color:#00ff001a>its</text> <text style=background-color:#00ff003c>sequel</text> <text style=background-color:#00ff0006>witchcraft</text> <text style=background-color:#00ff0002>xi</text> <text style=background-color:#00ff001e>so</text> <text style=background-color:#00ff0018>basically</text> <text style=background-color:#00ff0016>i</text> <text style=background-color:#00ff0003>paid</text> <text style=background-color:#00ff0026>the</text> <text style=background-color:#00ff0050>rock</text> <text style=background-color:#00ff0006>bottom</text> <text style=background-color:#00ff0002>price</text> <text style=background-color:#00ff0025>of</text> <text style=background-color:#00ff0017>for</text> <text style=background-color:#00ff0025>this</text> <text style=background-color:#00ff0084>movie</text> <text style=background-color:#00ff000e>if</text> <text style=background-color:#00ff0012>you</text> <text style=background-color:#00ff0019>do</text> <text style=background-color:#00ff0026>the</text> <text style=background-color:#00ff002e>math</text> <text style=background-color:#00ff0016>i</text> <text style=background-color:#00ff000d>can</text> <text style=background-color:#00ff0007>t</text> <text style=background-color:#00ff0013>exactly</text> <text style=background-color:#00ff0011>say</text> <text style=background-color:#00ff0016>i</text> <text style=background-color:#00ff001f>was</text> <text style=background-color:#00ff0001>ripped</text> <text style=background-color:#00ff000b>off</text> <text style=background-color:#00ff0016>i</text> <text style=background-color:#00ff0019>have</text> <text style=background-color:#00ff001d>a</text> <text style=background-color:#00ff0037>thing</text> <text style=background-color:#00ff0017>for</text> <text style=background-color:#00ff0002>trashy</text> <text style=background-color:#00ff00ff>horror</text> <text style=background-color:#00ff005b>movies</text> <text style=background-color:#00ff001b>but</text> <text style=background-color:#00ff0025>this</text> <text style=background-color:#00ff0027>is</text> <text style=background-color:#00ff0026>the</text> <text style=background-color:#00ff0027>kind</text> <text style=background-color:#00ff0025>of</text> <text style=background-color:#00ff000e>trash</text> <text style=background-color:#00ff001d>that</text> <text style=background-color:#00ff000a>gives</text> <text style=background-color:#00ff000e>trash</text> <text style=background-color:#00ff001d>a</text> <text style=background-color:#00ff0033>bad</text> <text style=background-color:#00ff0018>name</text> <text style=background-color:#00ff0026>the</text> <text style=background-color:#00ff0003>budget</text> <text style=background-color:#00ff0000>couldn</text> <text style=background-color:#00ff0007>t</text> <text style=background-color:#00ff0010>be</text> <text style=background-color:#00ff0015>over</text> <text style=background-color:#00ff001b>though</text> <text style=background-color:#00ff001c>it</text> <text style=background-color:#00ff0007>appears</text> <text style=background-color:#00ff0017>as</text> <text style=background-color:#00ff000e>if</text> <text style=background-color:#00ff0011>they</text> <text style=background-color:#00ff0008>spent</text> <text style=background-color:#00ff001d>a</text> <text style=background-color:#00ff0016>total</text> <text style=background-color:#00ff0025>of</text> <text style=background-color:#00ff0016>i</text> <text style=background-color:#00ff001a>know</text> <text style=background-color:#00ff001c>it</text> <text style=background-color:#00ff0009>s</text> <text style=background-color:#00ff001d>a</text> <text style=background-color:#00ff0006>low</text> <text style=background-color:#00ff0003>budget</text> <text style=background-color:#00ff0046>film</text> <text style=background-color:#00ff001b>but</text> <text style=background-color:#00ff001d>that</text> <text style=background-color:#00ff0009>s</text> <text style=background-color:#00ff001a>no</text> <text style=background-color:#00ff0011>excuse</text> <text style=background-color:#00ff0017>for</text> <text style=background-color:#00ff0018>totally</text> <text style=background-color:#00ff0000>uninspired</text> <text style=background-color:#00ff0000>camerawork</text> <text style=background-color:#00ff0026>the</text> <text style=background-color:#00ff0046>film</text> <text style=background-color:#00ff0017>blood</text> <text style=background-color:#00ff002d>cult</text> <text style=background-color:#00ff001b>though</text> <text style=background-color:#00ff0018>not</text> <text style=background-color:#00ff0013>very</text> <text style=background-color:#00ff0021>good</text> <text style=background-color:#00ff001f>was</text> <text style=background-color:#00ff0020>made</text> <text style=background-color:#00ff0017>for</text> <text style=background-color:#00ff0018>an</text> <text style=background-color:#00ff0006>extremely</text> <text style=background-color:#00ff0006>low</text> <text style=background-color:#00ff0003>budget</text> <text style=background-color:#00ff0017>and</text> <text style=background-color:#00ff0015>still</text> <text style=background-color:#00ff001a>had</text> <text style=background-color:#00ff0002>fairly</text> <text style=background-color:#00ff0021>good</text> <text style=background-color:#00ff0000>camerawork</text> <text style=background-color:#00ff0017>and</text> <text style=background-color:#00ff0019>acting</text> <text style=background-color:#00ff0026>the</text> <text style=background-color:#00ff0019>acting</text> <text style=background-color:#00ff0017>in</text> <text style=background-color:#00ff0025>this</text> <text style=background-color:#00ff0084>movie</text> <text style=background-color:#00ff0027>is</text> <text style=background-color:#00ff0026>the</text> <text style=background-color:#00ff0019>definition</text> <text style=background-color:#00ff0025>of</text> <text style=background-color:#00ff0002>effortless</text> <text style=background-color:#00ff0017>especially</text> <text style=background-color:#00ff0013>from</text> <text style=background-color:#00ff001d>that</text> <text style=background-color:#00ff0001>muscular</text> <text style=background-color:#00ff001f>guy</text> <text style=background-color:#00ff0019>with</text> <text style=background-color:#00ff0026>the</text> <text style=background-color:#00ff0007>texas</text> <text style=background-color:#00ff0018>accent</text> <text style=background-color:#00ff0009>everyone</text> <text style=background-color:#00ff0027>is</text> <text style=background-color:#00ff0018>pretty</text> <text style=background-color:#00ff0016>much</text> <text style=background-color:#00ff002b>reading</text> <text style=background-color:#00ff000f>their</text> <text style=background-color:#00ff0025>lines</text> <text style=background-color:#00ff000b>off</text> <text style=background-color:#00ff0026>the</text> <text style=background-color:#00ff0011>page</text> <text style=background-color:#00ff0012>you</text> <text style=background-color:#00ff000d>can</text> <text style=background-color:#00ff0015>take</text> <text style=background-color:#00ff001d>that</text> <text style=background-color:#00ff0000>figuratively</text> <text style=background-color:#00ff0018>or</text> <text style=background-color:#00ff001d>literally</text> <text style=background-color:#00ff0016>i</text> <text style=background-color:#00ff0000>wouldn</text> <text style=background-color:#00ff0007>t</text> <text style=background-color:#00ff0010>be</text> <text style=background-color:#00ff000b>surprised</text> <text style=background-color:#00ff000e>if</text> <text style=background-color:#00ff0026>the</text> <text style=background-color:#00ff0037>script</text> <text style=background-color:#00ff001f>was</text> <text style=background-color:#00ff000b>off</text> <text style=background-color:#00ff0010>camera</text> <text style=background-color:#00ff0017>as</text> <text style=background-color:#00ff0011>they</text> <text style=background-color:#00ff0015>were</text> <text style=background-color:#00ff001c>performing</text> <text style=background-color:#00ff0016>i</text> <text style=background-color:#00ff000b>said</text> <text style=background-color:#00ff0019>before</text> <text style=background-color:#00ff001d>that</text> <text style=background-color:#00ff0016>i</text> <text style=background-color:#00ff0000>ve</text> <text style=background-color:#00ff0020>never</text> <text style=background-color:#00ff001d>seen</text> <text style=background-color:#00ff001d>a</text> <text style=background-color:#00ff0033>bad</text> <text style=background-color:#00ff0048>english</text> <text style=background-color:#00ff0026>actor</text> <text style=background-color:#00ff0025>this</text> <text style=background-color:#00ff0084>movie</text> <text style=background-color:#00ff0018>has</text> <text style=background-color:#00ff0016>quite</text> <text style=background-color:#00ff001d>a</text> <text style=background-color:#00ff000e>few</text> <text style=background-color:#00ff0033>bad</text> <text style=background-color:#00ff0014>ones</text> <text style=background-color:#00ff0017>and</text> <text style=background-color:#00ff001b>though</text> <text style=background-color:#00ff0048>english</text> <text style=background-color:#00ff005b>movies</text> <text style=background-color:#00ff0000>aren</text> <text style=background-color:#00ff0007>t</text> <text style=background-color:#00ff0015>always</text> <text style=background-color:#00ff0021>good</text> <text style=background-color:#00ff0011>they</text> <text style=background-color:#00ff0015>always</text> <text style=background-color:#00ff0009>seem</text> <text style=background-color:#00ff0015>to</text> <text style=background-color:#00ff0019>have</text> <text style=background-color:#00ff0013>at</text> <text style=background-color:#00ff0014>least</text> <text style=background-color:#00ff001d>a</text> <text style=background-color:#00ff0029>level</text> <text style=background-color:#00ff0025>of</text> <text style=background-color:#00ff0001>sophistication</text> <text style=background-color:#00ff001d>which</text> <text style=background-color:#00ff0027>is</text> <text style=background-color:#00ff001a>why</text> <text style=background-color:#00ff0016>i</text> <text style=background-color:#00ff000f>don</text> <text style=background-color:#00ff0007>t</text> <text style=background-color:#00ff0018>see</text> <text style=background-color:#00ff001a>why</text> <text style=background-color:#00ff0019>any</text> <text style=background-color:#00ff0001>englishman</text> <text style=background-color:#00ff0018>or</text> <text style=background-color:#00ff0000>englishwoman</text> <text style=background-color:#00ff0010>would</text> <text style=background-color:#00ff0004>volunteer</text> <text style=background-color:#00ff0015>to</text> <text style=background-color:#00ff0019>do</text> <text style=background-color:#00ff001d>a</text> <text style=background-color:#00ff0014>home</text> <text style=background-color:#00ff004b>video</text> <text style=background-color:#00ff0037>style</text> <text style=background-color:#00ff0000>schlock</text> <text style=background-color:#00ff0016>flick</text> <text style=background-color:#00ff001f>like</text> <text style=background-color:#00ff0025>this</text> <text style=background-color:#00ff0016>did</text> <text style=background-color:#00ff0000>merchant</text> <text style=background-color:#00ff0000>ivory</text> <text style=background-color:#00ff0013>put</text> <text style=background-color:#00ff001d>a</text> <text style=background-color:#00ff0007>hold</text> <text style=background-color:#00ff0014>on</text> <text style=background-color:#00ff000f>their</text> <text style=background-color:#00ff002d>casting</text> <text style=background-color:#00ff0006>calls</text> <text style=background-color:#00ff000e>usually</text> <text style=background-color:#00ff0016>i</text> <text style=background-color:#00ff001a>think</text> <text style=background-color:#00ff0012>people</text> <text style=background-color:#00ff0016>are</text> <text style=background-color:#00ff0013>too</text> <text style=background-color:#00ff0020>hard</text> <text style=background-color:#00ff0014>on</text> <text style=background-color:#00ff0004>directors</text> <text style=background-color:#00ff0017>and</text> <text style=background-color:#00ff001a>actors</text> <text style=background-color:#00ff001d>even</text> <text style=background-color:#00ff0018>some</text> <text style=background-color:#00ff0025>of</text> <text style=background-color:#00ff0026>the</text> <text style=background-color:#00ff0037>worst</text> <text style=background-color:#00ff005b>movies</text> <text style=background-color:#00ff0017>in</text> <text style=background-color:#00ff0036>hollywood</text> <text style=background-color:#00ff0019>have</text> <text style=background-color:#00ff0018>some</text> <text style=background-color:#00ff0029>level</text> <text style=background-color:#00ff0025>of</text> <text style=background-color:#00ff0000>professionalism</text> <text style=background-color:#00ff0017>in</text> <text style=background-color:#00ff0026>the</text> <text style=background-color:#00ff0006>directing</text> <text style=background-color:#00ff0019>acting</text> <text style=background-color:#00ff0017>and</text> <text style=background-color:#00ff0007>cinematography</text> <text style=background-color:#00ff0000>departments</text> <text style=background-color:#00ff001d>even</text> <text style=background-color:#00ff0019>when</text> <text style=background-color:#00ff0012>you</text> <text style=background-color:#00ff002c>watch</text> <text style=background-color:#00ff001d>a</text> <text style=background-color:#00ff0084>movie</text> <text style=background-color:#00ff001f>like</text> <text style=background-color:#00ff0003>glitter</text> <text style=background-color:#00ff0012>you</text> <text style=background-color:#00ff000d>can</text> <text style=background-color:#00ff0007>t</text> <text style=background-color:#00ff0018>honestly</text> <text style=background-color:#00ff0011>say</text> <text style=background-color:#00ff001c>it</text> <text style=background-color:#00ff0017>looks</text> <text style=background-color:#00ff001f>like</text> <text style=background-color:#00ff001d>a</text> <text style=background-color:#00ff0013>third</text> <text style=background-color:#00ff0003>grader</text> <text style=background-color:#00ff0014>shot</text> <text style=background-color:#00ff000f>those</text> <text style=background-color:#00ff003c>scenes</text> <text style=background-color:#00ff001b>though</text> <text style=background-color:#00ff001d>a</text> <text style=background-color:#00ff0013>third</text> <text style=background-color:#00ff0003>grader</text> <text style=background-color:#00ff0012>could</text> <text style=background-color:#00ff0000>ve</text> <text style=background-color:#00ff0017>written</text> <text style=background-color:#00ff0026>the</text> <text style=background-color:#00ff0037>script</text> <text style=background-color:#00ff0016>i</text> <text style=background-color:#00ff0000>ve</text> <text style=background-color:#00ff001d>seen</text> <text style=background-color:#00ff0014>home</text> <text style=background-color:#00ff005b>movies</text> <text style=background-color:#00ff001d>that</text> <text style=background-color:#00ff0016>are</text> <text style=background-color:#00ff0014>shot</text> <text style=background-color:#00ff0019>better</text> <text style=background-color:#00ff001c>than</text> <text style=background-color:#00ff0006>witchcraft</text> <text style=background-color:#00ff0012>x</text> <text style=background-color:#00ff0017>and</text> <text style=background-color:#00ff001d>that</text> <text style=background-color:#00ff0009>s</text> <text style=background-color:#00ff001a>no</text> <text style=background-color:#00ff0000>exaggeration</text> <text style=background-color:#00ff0004>whatsoever</text> <text style=background-color:#00ff001d>even</text> <text style=background-color:#00ff0026>the</text> <text style=background-color:#00ff0000>gore</text> <text style=background-color:#00ff0027>is</text> <text style=background-color:#00ff0001>minimal</text> <text style=background-color:#00ff001a>since</text> <text style=background-color:#00ff0026>the</text> <text style=background-color:#00ff0001>filmmakers</text> <text style=background-color:#00ff0013>only</text> <text style=background-color:#00ff001a>had</text> <text style=background-color:#00ff0009>money</text> <text style=background-color:#00ff0015>to</text> <text style=background-color:#00ff0006>buy</text> <text style=background-color:#00ff0018>some</text> <text style=background-color:#00ff0013>fake</text> <text style=background-color:#00ff0017>blood</text> <text style=background-color:#00ff0014>on</text> <text style=background-color:#00ff0007>sale</text> <text style=background-color:#00ff0013>at</text> <text style=background-color:#00ff0026>party</text> <text style=background-color:#00ff0013>city</text> <text style=background-color:#00ff0018>not</text> <text style=background-color:#00ff001d>a</text> <text style=background-color:#00ff0039>single</text> <text style=background-color:#00ff000f>effort</text> <text style=background-color:#00ff001f>was</text> <text style=background-color:#00ff0013>put</text> <text style=background-color:#00ff0015>into</text> <text style=background-color:#00ff001c>making</text> <text style=background-color:#00ff0025>this</text> <text style=background-color:#00ff0084>movie</text> <text style=background-color:#00ff0016>let</text> <text style=background-color:#00ff0009>s</text> <text style=background-color:#00ff001a>just</text> <text style=background-color:#00ff0004>sum</text> <text style=background-color:#00ff001c>it</text> <text style=background-color:#00ff0013>up</text> <text style=background-color:#00ff001f>like</text> <text style=background-color:#00ff001d>that</text> <text style=background-color:#00ff0012>you</text> <text style=background-color:#00ff000e>get</text> <text style=background-color:#00ff0026>the</text> <text style=background-color:#00ff0020>picture</text> <text style=background-color:#00ff001e>there</text> <text style=background-color:#00ff0009>s</text> <text style=background-color:#00ff001d>a</text> <text style=background-color:#00ff0021>good</text> <text style=background-color:#00ff0008>deal</text> <text style=background-color:#00ff0025>of</text> <text style=background-color:#00ff0002>nudity</text> <text style=background-color:#00ff001b>though</text> <text style=background-color:#00ff001d>that</text> <text style=background-color:#00ff0000>doesn</text> <text style=background-color:#00ff0007>t</text> <text style=background-color:#00ff000b>save</text> <text style=background-color:#00ff001c>it</text> <text style=background-color:#00ff0009>however</text> <text style=background-color:#00ff0016>i</text> <text style=background-color:#00ff0009>must</text> <text style=background-color:#00ff0011>say</text> <text style=background-color:#00ff001d>that</text> <text style=background-color:#00ff001e>girl</text> <text style=background-color:#00ff0019>with</text> <text style=background-color:#00ff0026>the</text> <text style=background-color:#00ff001a>red</text> <text style=background-color:#00ff000a>orange</text> <text style=background-color:#00ff0007>hair</text> <text style=background-color:#00ff000e>who</text> <text style=background-color:#00ff0009>s</text> <text style=background-color:#00ff0012>either</text> <text style=background-color:#00ff000b>naked</text> <text style=background-color:#00ff0018>or</text> <text style=background-color:#00ff0005>wearing</text> <text style=background-color:#00ff001d>a</text> <text style=background-color:#00ff0002>cleavage</text> <text style=background-color:#00ff0002>popping</text> <text style=background-color:#00ff0013>outfit</text> <text style=background-color:#00ff000b>throughout</text> <text style=background-color:#00ff0026>the</text> <text style=background-color:#00ff0046>film</text> <text style=background-color:#00ff0027>is</text> <text style=background-color:#00ff001c>really</text> <text style=background-color:#00ff0020>hot</text> <text style=background-color:#00ff0006>br</text> <text style=background-color:#00ff0006>br</text> <text style=background-color:#00ff0017>my</text> <text style=background-color:#00ff000a>score</text> <text style=background-color:#00ff0015>out</text> <text style=background-color:#00ff0025>of</text> <br> <text style=background-color:#00ff001b>to</text> <text style=background-color:#00ff0015>anyone</text> <text style=background-color:#00ff0013>who</text> <text style=background-color:#00ff0000>hasn</text> <text style=background-color:#00ff000a>t</text> <text style=background-color:#00ff0023>seen</text> <text style=background-color:#00ff002b>this</text> <text style=background-color:#00ff004e>film</text> <text style=background-color:#00ff0020>yet</text> <text style=background-color:#00ff001b>i</text> <text style=background-color:#00ff001f>have</text> <text style=background-color:#00ff0023>a</text> <text style=background-color:#00ff0012>friendly</text> <text style=background-color:#00ff0007>warning</text> <text style=background-color:#00ff0013>don</text> <text style=background-color:#00ff000a>t</text> <text style=background-color:#00ff0033>watch</text> <text style=background-color:#00ff0010>la</text> <text style=background-color:#00ff0007>casa</text> <text style=background-color:#00ff0002>dell</text> <text style=background-color:#00ff0001>orco</text> <text style=background-color:#00ff0007>expecting</text> <text style=background-color:#00ff001f>any</text> <text style=background-color:#00ff000e>demons</text> <text style=background-color:#00ff0018>at</text> <text style=background-color:#00ff001d>all</text> <text style=background-color:#00ff0023>because</text> <text style=background-color:#00ff0018>you</text> <text style=background-color:#00ff0014>won</text> <text style=background-color:#00ff000a>t</text> <text style=background-color:#00ff0018>find</text> <text style=background-color:#00ff000d>them</text> <text style=background-color:#00ff001b>here</text> <text style=background-color:#00ff002b>this</text> <text style=background-color:#00ff004e>film</text> <text style=background-color:#00ff002d>is</text> <text style=background-color:#00ff001e>not</text> <text style=background-color:#00ff0023>a</text> <text style=background-color:#00ff0018>third</text> <text style=background-color:#00ff0002>installment</text> <text style=background-color:#00ff001b>to</text> <text style=background-color:#00ff002d>the</text> <text style=background-color:#00ff000e>demons</text> <text style=background-color:#00ff0042>series</text> <text style=background-color:#00ff001d>and</text> <text style=background-color:#00ff0022>it</text> <text style=background-color:#00ff001d>has</text> <text style=background-color:#00ff0026>nothing</text> <text style=background-color:#00ff001b>to</text> <text style=background-color:#00ff001f>do</text> <text style=background-color:#00ff001f>with</text> <text style=background-color:#00ff0022>it</text> <text style=background-color:#00ff0006>whatsoever</text> <text style=background-color:#00ff0021>except</text> <text style=background-color:#00ff002d>the</text> <text style=background-color:#00ff002e>fact</text> <text style=background-color:#00ff0023>that</text> <text style=background-color:#00ff0000>lamberto</text> <text style=background-color:#00ff0000>bava</text> <text style=background-color:#00ff000c>directed</text> <text style=background-color:#00ff000d>them</text> <text style=background-color:#00ff001c>as</text> <text style=background-color:#00ff0023>a</text> <text style=background-color:#00ff0016>matter</text> <text style=background-color:#00ff002c>of</text> <text style=background-color:#00ff002e>fact</text> <text style=background-color:#00ff0003>michele</text> <text style=background-color:#00ff0000>soavi</text> <text style=background-color:#00ff000c>s</text> <text style=background-color:#00ff002d>the</text> <text style=background-color:#00ff0015>church</text> <text style=background-color:#00ff002d>is</text> <text style=background-color:#00ff001a>also</text> <text style=background-color:#00ff0018>known</text> <text style=background-color:#00ff001e>an</text> <text style=background-color:#00ff0002>unofficial</text> <text style=background-color:#00ff000e>demons</text> <text style=background-color:#00ff001d>and</text> <text style=background-color:#00ff0022>it</text> <text style=background-color:#00ff000c>s</text> <text style=background-color:#00ff0023>a</text> <text style=background-color:#00ff0000>deceptive</text> <text style=background-color:#00ff001f>title</text> <text style=background-color:#00ff001c>in</text> <text style=background-color:#00ff0023>that</text> <text style=background-color:#00ff0017>case</text> <text style=background-color:#00ff001c>as</text> <text style=background-color:#00ff001b>well</text> <text style=background-color:#00ff0024>so</text> <text style=background-color:#00ff0013>go</text> <text style=background-color:#00ff0026>figure</text> <text style=background-color:#00ff0022>it</text> <text style=background-color:#00ff002d>is</text> <text style=background-color:#00ff000f>obvious</text> <text style=background-color:#00ff0023>that</text> <text style=background-color:#00ff000b>due</text> <text style=background-color:#00ff001b>to</text> <text style=background-color:#00ff002d>the</text> <text style=background-color:#00ff000e>demons</text> <text style=background-color:#00ff0041>films</text> <text style=background-color:#00ff0013>success</text> <text style=background-color:#00ff0016>they</text> <text style=background-color:#00ff000f>tried</text> <text style=background-color:#00ff001b>to</text> <text style=background-color:#00ff0000>deceive</text> <text style=background-color:#00ff002d>the</text> <text style=background-color:#00ff0014>audience</text> <text style=background-color:#00ff001f>with</text> <text style=background-color:#00ff0001>misleading</text> <text style=background-color:#00ff0011>titles</text> <text style=background-color:#00ff0023>even</text> <text style=background-color:#00ff0021>though</text> <text style=background-color:#00ff0022>it</text> <text style=background-color:#00ff002d>is</text> <text style=background-color:#00ff000f>obvious</text> <text style=background-color:#00ff0023>that</text> <text style=background-color:#00ff002b>this</text> <text style=background-color:#00ff002d>is</text> <text style=background-color:#00ff0023>a</text> <text style=background-color:#00ff0001>disconnected</text> <text style=background-color:#00ff0065>story</text> <text style=background-color:#00ff001d>having</text> <text style=background-color:#00ff000f>said</text> <text style=background-color:#00ff0023>that</text> <text style=background-color:#00ff001b>i</text> <text style=background-color:#00ff0020>think</text> <text style=background-color:#00ff0022>it</text> <text style=background-color:#00ff000c>s</text> <text style=background-color:#00ff000a>unfair</text> <text style=background-color:#00ff001a>on</text> <text style=background-color:#00ff002d>the</text> <text style=background-color:#00ff0019>other</text> <text style=background-color:#00ff000b>hand</text> <text style=background-color:#00ff001b>to</text> <text style=background-color:#00ff0016>say</text> <text style=background-color:#00ff0023>that</text> <text style=background-color:#00ff0010>la</text> <text style=background-color:#00ff0007>casa</text> <text style=background-color:#00ff0002>dell</text> <text style=background-color:#00ff0001>orco</text> <text style=background-color:#00ff002d>is</text> <text style=background-color:#00ff001e>not</text> <text style=background-color:#00ff000c>worth</text> <text style=background-color:#00ff002d>the</text> <text style=background-color:#00ff001e>look</text> <text style=background-color:#00ff001e>honestly</text> <text style=background-color:#00ff002d>the</text> <text style=background-color:#00ff008b>movie</text> <text style=background-color:#00ff002d>is</text> <text style=background-color:#00ff001c>quite</text> <text style=background-color:#00ff0002>atmospheric</text> <text style=background-color:#00ff001d>and</text> <text style=background-color:#00ff0023>even</text> <text style=background-color:#00ff0021>though</text> <text style=background-color:#00ff0024>there</text> <text style=background-color:#00ff001b>are</text> <text style=background-color:#00ff0023>a</text> <text style=background-color:#00ff0012>few</text> <text style=background-color:#00ff0000>unintentionally</text> <text style=background-color:#00ff002a>hilarious</text> <text style=background-color:#00ff000a>situations</text> <text style=background-color:#00ff001b>i</text> <text style=background-color:#00ff0023>thought</text> <text style=background-color:#00ff0022>it</text> <text style=background-color:#00ff0026>was</text> <text style=background-color:#00ff000a>genuinely</text> <text style=background-color:#00ff002d>creepy</text> <text style=background-color:#00ff001a>on</text> <text style=background-color:#00ff002d>the</text> <text style=background-color:#00ff002c>whole</text> <text style=background-color:#00ff0002>nevertheless</text> <text style=background-color:#00ff001b>i</text> <text style=background-color:#00ff0020>think</text> <text style=background-color:#00ff0022>it</text> <text style=background-color:#00ff000c>s</text> <text style=background-color:#00ff0010>fair</text> <text style=background-color:#00ff001b>to</text> <text style=background-color:#00ff0016>say</text> <text style=background-color:#00ff0023>that</text> <text style=background-color:#00ff002d>the</text> <text style=background-color:#00ff0065>story</text> <text style=background-color:#00ff000f>somehow</text> <text style=background-color:#00ff0008>tries</text> <text style=background-color:#00ff001b>to</text> <text style=background-color:#00ff0000>emulate</text> <text style=background-color:#00ff0000>lucio</text> <text style=background-color:#00ff0000>fulci</text> <text style=background-color:#00ff000c>s</text> <text style=background-color:#00ff002d>the</text> <text style=background-color:#00ff001f>house</text> <text style=background-color:#00ff001b>by</text> <text style=background-color:#00ff002d>the</text> <text style=background-color:#00ff0002>cemetery</text> <text style=background-color:#00ff002c>of</text> <text style=background-color:#00ff002a>course</text> <text style=background-color:#00ff0023>that</text> <text style=background-color:#00ff000c>s</text> <text style=background-color:#00ff001f>just</text> <text style=background-color:#00ff0023>a</text> <text style=background-color:#00ff0001>speculation</text> <text style=background-color:#00ff001b>i</text> <text style=background-color:#00ff001f>have</text> <text style=background-color:#00ff0021>but</text> <text style=background-color:#00ff001b>i</text> <text style=background-color:#00ff0020>think</text> <text style=background-color:#00ff001b>i</text> <text style=background-color:#00ff001f>have</text> <text style=background-color:#00ff001d>my</text> <text style=background-color:#00ff0004>valid</text> <text style=background-color:#00ff0000>evidences</text> <text style=background-color:#00ff001d>for</text> <text style=background-color:#00ff0003>instance</text> <text style=background-color:#00ff001c>in</text> <text style=background-color:#00ff0014>both</text> <text style=background-color:#00ff0041>films</text> <text style=background-color:#00ff0001>paolo</text> <text style=background-color:#00ff000a>marco</text> <text style=background-color:#00ff002d>is</text> <text style=background-color:#00ff002d>the</text> <text style=background-color:#00ff002c>man</text> <text style=background-color:#00ff002c>of</text> <text style=background-color:#00ff002d>the</text> <text style=background-color:#00ff0023>family</text> <text style=background-color:#00ff001c>in</text> <text style=background-color:#00ff0014>both</text> <text style=background-color:#00ff0041>films</text> <text style=background-color:#00ff0024>there</text> <text style=background-color:#00ff000c>s</text> <text style=background-color:#00ff001e>an</text> <text style=background-color:#00ff0007>irritating</text> <text style=background-color:#00ff002f>little</text> <text style=background-color:#00ff000b>son</text> <text style=background-color:#00ff0011>named</text> <text style=background-color:#00ff0007>bobby</text> <text style=background-color:#00ff001c>in</text> <text style=background-color:#00ff0014>both</text> <text style=background-color:#00ff0041>films</text> <text style=background-color:#00ff002d>the</text> <text style=background-color:#00ff0014>woman</text> <text style=background-color:#00ff002c>of</text> <text style=background-color:#00ff002d>the</text> <text style=background-color:#00ff001f>house</text> <text style=background-color:#00ff002d>is</text> <text style=background-color:#00ff0023>a</text> <text style=background-color:#00ff001a>beautiful</text> <text style=background-color:#00ff0004>thirty</text> <text style=background-color:#00ff001e>something</text> <text style=background-color:#00ff0013>who</text> <text style=background-color:#00ff0018>seems</text> <text style=background-color:#00ff001b>to</text> <text style=background-color:#00ff0015>be</text> <text style=background-color:#00ff002d>the</text> <text style=background-color:#00ff0019>only</text> <text style=background-color:#00ff0032>one</text> <text style=background-color:#00ff001b>to</text> <text style=background-color:#00ff001e>see</text> <text style=background-color:#00ff0023>that</text> <text style=background-color:#00ff0024>there</text> <text style=background-color:#00ff000c>s</text> <text style=background-color:#00ff001e>something</text> <text style=background-color:#00ff0022>really</text> <text style=background-color:#00ff0019>wrong</text> <text style=background-color:#00ff001c>in</text> <text style=background-color:#00ff002d>the</text> <text style=background-color:#00ff0024>new</text> <text style=background-color:#00ff001f>house</text> <text style=background-color:#00ff001d>and</text> <text style=background-color:#00ff001c>in</text> <text style=background-color:#00ff0014>both</text> <text style=background-color:#00ff0041>films</text> <text style=background-color:#00ff0024>there</text> <text style=background-color:#00ff000c>s</text> <text style=background-color:#00ff001e>something</text> <text style=background-color:#00ff0022>really</text> <text style=background-color:#00ff0022>really</text> <text style=background-color:#00ff0019>wrong</text> <text style=background-color:#00ff0019>going</text> <text style=background-color:#00ff001a>on</text> <text style=background-color:#00ff001c>in</text> <text style=background-color:#00ff002d>the</text> <text style=background-color:#00ff0007>basement</text> <text style=background-color:#00ff001b>i</text> <text style=background-color:#00ff000a>m</text> <text style=background-color:#00ff0026>sorry</text> <text style=background-color:#00ff0021>but</text> <text style=background-color:#00ff001b>i</text> <text style=background-color:#00ff0011>can</text> <text style=background-color:#00ff0026>relate</text> <text style=background-color:#00ff0014>both</text> <text style=background-color:#00ff0041>films</text> <text style=background-color:#00ff0018>very</text> <text style=background-color:#00ff0008>easily</text> <text style=background-color:#00ff001d>and</text> <text style=background-color:#00ff001b>i</text> <text style=background-color:#00ff000a>m</text> <text style=background-color:#00ff001e>not</text> <text style=background-color:#00ff0013>saying</text> <text style=background-color:#00ff0023>that</text> <text style=background-color:#00ff001c>as</text> <text style=background-color:#00ff001e>an</text> <text style=background-color:#00ff0001>accusation</text> <text style=background-color:#00ff001d>for</text> <text style=background-color:#00ff002d>the</text> <text style=background-color:#00ff0004>contrary</text> <text style=background-color:#00ff001d>my</text> <text style=background-color:#00ff001b>point</text> <text style=background-color:#00ff002d>is</text> <text style=background-color:#00ff0023>that</text> <text style=background-color:#00ff0013>those</text> <text style=background-color:#00ff0013>who</text> <text style=background-color:#00ff0014>enjoyed</text> <text style=background-color:#00ff002d>the</text> <text style=background-color:#00ff001f>house</text> <text style=background-color:#00ff001b>by</text> <text style=background-color:#00ff002d>the</text> <text style=background-color:#00ff0002>cemetery</text> <text style=background-color:#00ff001b>are</text> <text style=background-color:#00ff001e>probably</text> <text style=background-color:#00ff0019>going</text> <text style=background-color:#00ff001b>to</text> <text style=background-color:#00ff001f>enjoy</text> <text style=background-color:#00ff002b>this</text> <text style=background-color:#00ff008b>movie</text> <text style=background-color:#00ff001c>as</text> <text style=background-color:#00ff001b>well</text> <text style=background-color:#00ff000a>keeping</text> <text style=background-color:#00ff001c>in</text> <text style=background-color:#00ff001c>mind</text> <text style=background-color:#00ff002c>of</text> <text style=background-color:#00ff002a>course</text> <text style=background-color:#00ff0023>that</text> <text style=background-color:#00ff0010>la</text> <text style=background-color:#00ff0007>casa</text> <text style=background-color:#00ff0002>dell</text> <text style=background-color:#00ff0001>orco</text> <text style=background-color:#00ff002d>is</text> <text style=background-color:#00ff001f>far</text> <text style=background-color:#00ff0010>less</text> <text style=background-color:#00ff0003>pretentious</text> <text style=background-color:#00ff0010>less</text> <text style=background-color:#00ff004d>scary</text> <text style=background-color:#00ff001e>not</text> <text style=background-color:#00ff0007>nearly</text> <text style=background-color:#00ff001c>as</text> <text style=background-color:#00ff0002>atmospheric</text> <text style=background-color:#00ff0021>but</text> <text style=background-color:#00ff002d>the</text> <text style=background-color:#00ff0025>formula</text> <text style=background-color:#00ff002d>is</text> <text style=background-color:#00ff001a>still</text> <text style=background-color:#00ff0024>there</text> <text style=background-color:#00ff0008>br</text> <text style=background-color:#00ff0008>br</text> <text style=background-color:#00ff001c>in</text> <text style=background-color:#00ff0010>la</text> <text style=background-color:#00ff0007>casa</text> <text style=background-color:#00ff0002>dell</text> <text style=background-color:#00ff0001>orco</text> <text style=background-color:#00ff0000>charel</text> <text style=background-color:#00ff0006>her</text> <text style=background-color:#00ff000c>husband</text> <text style=background-color:#00ff002a>tom</text> <text style=background-color:#00ff001d>and</text> <text style=background-color:#00ff0013>their</text> <text style=background-color:#00ff002f>little</text> <text style=background-color:#00ff000b>son</text> <text style=background-color:#00ff0007>bobby</text> <text style=background-color:#00ff0013>go</text> <text style=background-color:#00ff001a>on</text> <text style=background-color:#00ff0023>a</text> <text style=background-color:#00ff000e>vacation</text> <text style=background-color:#00ff0010>trip</text> <text style=background-color:#00ff001b>to</text> <text style=background-color:#00ff001e>an</text> <text style=background-color:#00ff002b>old</text> <text style=background-color:#00ff0001>deserted</text> <text style=background-color:#00ff0029>castle</text> <text style=background-color:#00ff0000>situated</text> <text style=background-color:#00ff001c>in</text> <text style=background-color:#00ff002d>the</text> <text style=background-color:#00ff0023>heart</text> <text style=background-color:#00ff002c>of</text> <text style=background-color:#00ff001e>an</text> <text style=background-color:#00ff0012>italian</text> <text style=background-color:#00ff0008>villa</text> <text style=background-color:#00ff0023>called</text> <text style=background-color:#00ff0000>trifiri</text> <text style=background-color:#00ff000b>leaving</text> <text style=background-color:#00ff0009>aside</text> <text style=background-color:#00ff002d>the</text> <text style=background-color:#00ff0023>beauty</text> <text style=background-color:#00ff002c>of</text> <text style=background-color:#00ff002d>the</text> <text style=background-color:#00ff0016>place</text> <text style=background-color:#00ff0002>shortly</text> <text style=background-color:#00ff001f>after</text> <text style=background-color:#00ff0013>their</text> <text style=background-color:#00ff0002>arrival</text> <text style=background-color:#00ff0000>charel</text> <text style=background-color:#00ff0019>starts</text> <text style=background-color:#00ff001b>to</text> <text style=background-color:#00ff001f>have</text> <text style=background-color:#00ff002d>the</text> <text style=background-color:#00ff002f>feeling</text> <text style=background-color:#00ff0023>that</text> <text style=background-color:#00ff0013>she</text> <text style=background-color:#00ff001d>has</text> <text style=background-color:#00ff0016>been</text> <text style=background-color:#00ff0024>there</text> <text style=background-color:#00ff001f>before</text> <text style=background-color:#00ff0023>which</text> <text style=background-color:#00ff002d>is</text> <text style=background-color:#00ff001f>impossible</text> <text style=background-color:#00ff000e>considering</text> <text style=background-color:#00ff0023>that</text> <text style=background-color:#00ff0013>she</text> <text style=background-color:#00ff0020>had</text> <text style=background-color:#00ff0027>never</text> <text style=background-color:#00ff0016>been</text> <text style=background-color:#00ff001b>to</text> <text style=background-color:#00ff0000>trifiri</text> <text style=background-color:#00ff001f>before</text> <text style=background-color:#00ff000d>sadly</text> <text style=background-color:#00ff0000>charel</text> <text style=background-color:#00ff0011>can</text> <text style=background-color:#00ff000a>t</text> <text style=background-color:#00ff0013>get</text> <text style=background-color:#00ff001a>over</text> <text style=background-color:#00ff0006>her</text> <text style=background-color:#00ff0000>dãâjãâ</text> <text style=background-color:#00ff0003>vu</text> <text style=background-color:#00ff001d>and</text> <text style=background-color:#00ff002d>the</text> <text style=background-color:#00ff003e>worst</text> <text style=background-color:#00ff0043>part</text> <text style=background-color:#00ff002d>is</text> <text style=background-color:#00ff0023>that</text> <text style=background-color:#00ff0006>her</text> <text style=background-color:#00ff0002>visions</text> <text style=background-color:#00ff0014>come</text> <text style=background-color:#00ff0014>along</text> <text style=background-color:#00ff001f>with</text> <text style=background-color:#00ff002d>the</text> <text style=background-color:#00ff0014>image</text> <text style=background-color:#00ff002c>of</text> <text style=background-color:#00ff0023>a</text> <text style=background-color:#00ff0009>horrendous</text> <text style=background-color:#00ff001a>creature</text> <text style=background-color:#00ff0019>going</text> <text style=background-color:#00ff001f>after</text> <text style=background-color:#00ff0006>her</text> <text style=background-color:#00ff002a>tom</text> <text style=background-color:#00ff0013>who</text> <text style=background-color:#00ff002d>is</text> <text style=background-color:#00ff001e>not</text> <text style=background-color:#00ff0023>a</text> <text style=background-color:#00ff0018>very</text> <text style=background-color:#00ff0005>patient</text> <text style=background-color:#00ff0025>guy</text> <text style=background-color:#00ff001b>to</text> <text style=background-color:#00ff001c>begin</text> <text style=background-color:#00ff001f>with</text> <text style=background-color:#00ff0000>advices</text> <text style=background-color:#00ff0006>her</text> <text style=background-color:#00ff001b>to</text> <text style=background-color:#00ff0010>leave</text> <text style=background-color:#00ff002d>the</text> <text style=background-color:#00ff0001>nonsensical</text> <text style=background-color:#00ff0003>hallucinations</text> <text style=background-color:#00ff0009>aside</text> <text style=background-color:#00ff001d>and</text> <text style=background-color:#00ff001f>enjoy</text> <text style=background-color:#00ff002d>the</text> <text style=background-color:#00ff000e>vacation</text> <text style=background-color:#00ff000d>however</text> <text style=background-color:#00ff002d>the</text> <text style=background-color:#00ff0014>woman</text> <text style=background-color:#00ff000c>s</text> <text style=background-color:#00ff0002>visions</text> <text style=background-color:#00ff001a>become</text> <text style=background-color:#00ff0017>more</text> <text style=background-color:#00ff001d>and</text> <text style=background-color:#00ff0017>more</text> <text style=background-color:#00ff0030>real</text> <text style=background-color:#00ff001d>and</text> <text style=background-color:#00ff002d>the</text> <text style=background-color:#00ff0012>peace</text> <text style=background-color:#00ff001d>and</text> <text style=background-color:#00ff000e>quiet</text> <text style=background-color:#00ff0023>that</text> <text style=background-color:#00ff0016>they</text> <text style=background-color:#00ff001a>were</text> <text style=background-color:#00ff0017>supposed</text> <text style=background-color:#00ff001b>to</text> <text style=background-color:#00ff001f>enjoy</text> <text style=background-color:#00ff0015>suddenly</text> <text style=background-color:#00ff001b>turn</text> <text style=background-color:#00ff001a>into</text> <text style=background-color:#00ff0023>a</text> <text style=background-color:#00ff001e>living</text> <text style=background-color:#00ff005c>nightmare</text> <text style=background-color:#00ff002d>the</text> <text style=background-color:#00ff002b>old</text> <text style=background-color:#00ff005c>nightmare</text> <text style=background-color:#00ff0018>from</text> <text style=background-color:#00ff0000>charel</text> <text style=background-color:#00ff000c>s</text> <text style=background-color:#00ff0047>childhood</text> <text style=background-color:#00ff0014>becomes</text> <text style=background-color:#00ff0030>real</text> <text style=background-color:#00ff001d>and</text> <text style=background-color:#00ff002b>this</text> <text style=background-color:#00ff003a>time</text> <text style=background-color:#00ff0013>she</text> <text style=background-color:#00ff0014>won</text> <text style=background-color:#00ff000a>t</text> <text style=background-color:#00ff0015>be</text> <text style=background-color:#00ff0011>able</text> <text style=background-color:#00ff001b>to</text> <text style=background-color:#00ff002d>escape</text> <text style=background-color:#00ff0023>without</text> <text style=background-color:#00ff0000>confronting</text> <text style=background-color:#00ff0023>that</text> <text style=background-color:#00ff0000>menacing</text> <text style=background-color:#00ff0001>ogre</text> <text style=background-color:#00ff002d>first</text> <text style=background-color:#00ff0008>br</text> <text style=background-color:#00ff0008>br</text> <text style=background-color:#00ff001c>as</text> <text style=background-color:#00ff0022>it</text> <text style=background-color:#00ff002d>is</text> <text style=background-color:#00ff0004>expected</text> <text style=background-color:#00ff002d>the</text> <text style=background-color:#00ff0033>plot</text> <text style=background-color:#00ff000f>somehow</text> <text style=background-color:#00ff0013>turns</text> <text style=background-color:#00ff001b>out</text> <text style=background-color:#00ff001b>to</text> <text style=background-color:#00ff0015>be</text> <text style=background-color:#00ff0023>a</text> <text style=background-color:#00ff002f>little</text> <text style=background-color:#00ff001b>bit</text> <text style=background-color:#00ff0001>simplistic</text> <text style=background-color:#00ff001d>and</text> <text style=background-color:#00ff001c>as</text> <text style=background-color:#00ff0023>a</text> <text style=background-color:#00ff0007>consequence</text> <text style=background-color:#00ff0022>it</text> <text style=background-color:#00ff002d>is</text> <text style=background-color:#00ff0026>hard</text> <text style=background-color:#00ff001b>to</text> <text style=background-color:#00ff0009>fill</text> <text style=background-color:#00ff001e>an</text> <text style=background-color:#00ff0021>hour</text> <text style=background-color:#00ff001d>and</text> <text style=background-color:#00ff0023>a</text> <text style=background-color:#00ff001a>half</text> <text style=background-color:#00ff002b>this</text> <text style=background-color:#00ff001c>means</text> <text style=background-color:#00ff0023>that</text> <text style=background-color:#00ff0010>la</text> <text style=background-color:#00ff0007>casa</text> <text style=background-color:#00ff0002>dell</text> <text style=background-color:#00ff0001>orco</text> <text style=background-color:#00ff0003>offers</text> <text style=background-color:#00ff0017>more</text> <text style=background-color:#00ff0023>than</text> <text style=background-color:#00ff0023>a</text> <text style=background-color:#00ff0010>couple</text> <text style=background-color:#00ff002c>of</text> <text style=background-color:#00ff0003>sequences</text> <text style=background-color:#00ff001f>with</text> <text style=background-color:#00ff0026>nothing</text> <text style=background-color:#00ff0021>but</text> <text style=background-color:#00ff001b>total</text> <text style=background-color:#00ff0019>silence</text> <text style=background-color:#00ff001d>and</text> <text style=background-color:#00ff002d>the</text> <text style=background-color:#00ff0014>image</text> <text style=background-color:#00ff002c>of</text> <text style=background-color:#00ff002d>the</text> <text style=background-color:#00ff000b>main</text> <text style=background-color:#00ff0050>character</text> <text style=background-color:#00ff0032>walking</text> <text style=background-color:#00ff000e>around</text> <text style=background-color:#00ff002d>the</text> <text style=background-color:#00ff0029>castle</text> <text style=background-color:#00ff001d>for</text> <text style=background-color:#00ff0007>several</text> <text style=background-color:#00ff0010>minutes</text> <text style=background-color:#00ff0000>reviving</text> <text style=background-color:#00ff002d>the</text> <text style=background-color:#00ff000b>images</text> <text style=background-color:#00ff002c>of</text> <text style=background-color:#00ff0006>her</text> <text style=background-color:#00ff0047>childhood</text> <text style=background-color:#00ff001d>and</text> <text style=background-color:#00ff0026>nothing</text> <text style=background-color:#00ff0010>else</text> <text style=background-color:#00ff0022>it</text> <text style=background-color:#00ff0011>gets</text> <text style=background-color:#00ff0011>rather</text> <text style=background-color:#00ff0004>tedious</text> <text style=background-color:#00ff0018>from</text> <text style=background-color:#00ff003a>time</text> <text style=background-color:#00ff001b>to</text> <text style=background-color:#00ff003a>time</text> <text style=background-color:#00ff0021>but</text> <text style=background-color:#00ff0009>overall</text> <text style=background-color:#00ff0022>it</text> <text style=background-color:#00ff000c>s</text> <text style=background-color:#00ff0026>nothing</text> <text style=background-color:#00ff0020>serious</text> <text style=background-color:#00ff0025>like</text> <text style=background-color:#00ff0015>many</text> <text style=background-color:#00ff0012>italian</text> <text style=background-color:#00ff00ff>horror</text> <text style=background-color:#00ff0041>films</text> <text style=background-color:#00ff0023>that</text> <text style=background-color:#00ff0017>came</text> <text style=background-color:#00ff001b>out</text> <text style=background-color:#00ff000f>throughout</text> <text style=background-color:#00ff002d>the</text> <text style=background-color:#00ff002b>late</text> <text style=background-color:#00ff0001>eighties</text> <text style=background-color:#00ff002b>this</text> <text style=background-color:#00ff008b>movie</text> <text style=background-color:#00ff002d>is</text> <text style=background-color:#00ff001e>pretty</text> <text style=background-color:#00ff0003>stylish</text> <text style=background-color:#00ff001d>and</text> <text style=background-color:#00ff000f>effective</text> <text style=background-color:#00ff0021>but</text> <text style=background-color:#00ff0022>it</text> <text style=background-color:#00ff001a>also</text> <text style=background-color:#00ff0003>offers</text> <text style=background-color:#00ff0023>a</text> <text style=background-color:#00ff0013>nice</text> <text style=background-color:#00ff001f>variety</text> <text style=background-color:#00ff002c>of</text> <text style=background-color:#00ff0000>unintentionally</text> <text style=background-color:#00ff0029>funny</text> <text style=background-color:#00ff0037>moments</text> <text style=background-color:#00ff0023>that</text> <text style=background-color:#00ff001f>make</text> <text style=background-color:#00ff002d>the</text> <text style=background-color:#00ff008b>movie</text> <text style=background-color:#00ff0017>unforgettable</text> <text style=background-color:#00ff001c>in</text> <text style=background-color:#00ff0023>a</text> <text style=background-color:#00ff0024>way</text> <text style=background-color:#00ff001d>for</text> <text style=background-color:#00ff0003>instance</text> <text style=background-color:#00ff002d>the</text> <text style=background-color:#00ff0043>part</text> <text style=background-color:#00ff001c>in</text> <text style=background-color:#00ff0023>which</text> <text style=background-color:#00ff0000>charel</text> <text style=background-color:#00ff002d>is</text> <text style=background-color:#00ff0001>brutally</text> <text style=background-color:#00ff0001>slapped</text> <text style=background-color:#00ff001b>by</text> <text style=background-color:#00ff0006>her</text> <text style=background-color:#00ff000c>husband</text> <text style=background-color:#00ff001d>and</text> <text style=background-color:#00ff001d>instead</text> <text style=background-color:#00ff002c>of</text> <text style=background-color:#00ff0019>going</text> <text style=background-color:#00ff001b>to</text> <text style=background-color:#00ff0006>her</text> <text style=background-color:#00ff0006>bedroom</text> <text style=background-color:#00ff0018>crying</text> <text style=background-color:#00ff0025>like</text> <text style=background-color:#00ff001b>i</text> <text style=background-color:#00ff0014>would</text> <text style=background-color:#00ff001f>have</text> <text style=background-color:#00ff0004>expected</text> <text style=background-color:#00ff0013>she</text> <text style=background-color:#00ff0004>strikes</text> <text style=background-color:#00ff0007>back</text> <text style=background-color:#00ff0009>against</text> <text style=background-color:#00ff000d>him</text> <text style=background-color:#00ff001b>by</text> <text style=background-color:#00ff0002>punching</text> <text style=background-color:#00ff000d>him</text> <text style=background-color:#00ff001a>on</text> <text style=background-color:#00ff002d>the</text> <text style=background-color:#00ff001c>face</text> <text style=background-color:#00ff0022>really</text> <text style=background-color:#00ff0026>hard</text> <text style=background-color:#00ff001d>and</text> <text style=background-color:#00ff001c>running</text> <text style=background-color:#00ff0011>away</text> <text style=background-color:#00ff001b>to</text> <text style=background-color:#00ff002d>the</text> <text style=background-color:#00ff0008>woods</text> <text style=background-color:#00ff0025>like</text> <text style=background-color:#00ff0023>a</text> <text style=background-color:#00ff000d>maniac</text> <text style=background-color:#00ff002d>the</text> <text style=background-color:#00ff0031>funniest</text> <text style=background-color:#00ff003e>thing</text> <text style=background-color:#00ff000d>however</text> <text style=background-color:#00ff002d>is</text> <text style=background-color:#00ff002d>the</text> <text style=background-color:#00ff002e>fact</text> <text style=background-color:#00ff0023>that</text> <text style=background-color:#00ff001a>two</text> <text style=background-color:#00ff0010>minutes</text> <text style=background-color:#00ff0018>later</text> <text style=background-color:#00ff0016>they</text> <text style=background-color:#00ff000f>re</text> <text style=background-color:#00ff0023>a</text> <text style=background-color:#00ff0015>happy</text> <text style=background-color:#00ff0010>couple</text> <text style=background-color:#00ff0022>again</text> <text style=background-color:#00ff001c>as</text> <text style=background-color:#00ff0013>if</text> <text style=background-color:#00ff0002>punching</text> <text style=background-color:#00ff000d>each</text> <text style=background-color:#00ff0019>other</text> <text style=background-color:#00ff0025>like</text> <text style=background-color:#00ff0023>that</text> <text style=background-color:#00ff0026>was</text> <text style=background-color:#00ff002d>the</text> <text style=background-color:#00ff0020>most</text> <text style=background-color:#00ff0019>natural</text> <text style=background-color:#00ff003e>thing</text> <text style=background-color:#00ff001c>in</text> <text style=background-color:#00ff002d>the</text> <text style=background-color:#00ff0033>world</text> <text style=background-color:#00ff001b>i</text> <text style=background-color:#00ff0020>know</text> <text style=background-color:#00ff0022>it</text> <text style=background-color:#00ff000c>s</text> <text style=background-color:#00ff0013>silly</text> <text style=background-color:#00ff0021>but</text> <text style=background-color:#00ff001b>i</text> <text style=background-color:#00ff0015>myself</text> <text style=background-color:#00ff001a>found</text> <text style=background-color:#00ff0022>it</text> <text style=background-color:#00ff001b>absolutely</text> <text style=background-color:#00ff002a>hilarious</text> <text style=background-color:#00ff002d>the</text> <text style=background-color:#00ff0001>ogre</text> <text style=background-color:#00ff0023>which</text> <text style=background-color:#00ff002d>is</text> <text style=background-color:#00ff0017>obviously</text> <text style=background-color:#00ff002d>the</text> <text style=background-color:#00ff0033>villain</text> <text style=background-color:#00ff002c>of</text> <text style=background-color:#00ff002d>the</text> <text style=background-color:#00ff0065>story</text> <text style=background-color:#00ff001c>looks</text> <text style=background-color:#00ff002d>creepy</text> <text style=background-color:#00ff001d>and</text> <text style=background-color:#00ff0029>funny</text> <text style=background-color:#00ff0018>at</text> <text style=background-color:#00ff002d>the</text> <text style=background-color:#00ff0029>same</text> <text style=background-color:#00ff003a>time</text> <text style=background-color:#00ff0018>too</text> <text style=background-color:#00ff001d>and</text> <text style=background-color:#00ff001c>let</text> <text style=background-color:#00ff000c>s</text> <text style=background-color:#00ff001c>face</text> <text style=background-color:#00ff0022>it</text> <text style=background-color:#00ff0023>a</text> <text style=background-color:#00ff0033>villain</text> <text style=background-color:#00ff0013>who</text> <text style=background-color:#00ff0011>can</text> <text style=background-color:#00ff001a>freak</text> <text style=background-color:#00ff0012>us</text> <text style=background-color:#00ff001b>out</text> <text style=background-color:#00ff001d>and</text> <text style=background-color:#00ff001f>make</text> <text style=background-color:#00ff0012>us</text> <text style=background-color:#00ff001d>laugh</text> <text style=background-color:#00ff0023>a</text> <text style=background-color:#00ff002f>little</text> <text style=background-color:#00ff001b>bit</text> <text style=background-color:#00ff0022>it</text> <text style=background-color:#00ff000c>s</text> <text style=background-color:#00ff000d>twice</text> <text style=background-color:#00ff001c>as</text> <text style=background-color:#00ff0000>welcomed</text> <text style=background-color:#00ff0022>it</text> <text style=background-color:#00ff0014>reminded</text> <text style=background-color:#00ff0015>me</text> <text style=background-color:#00ff002c>of</text> <text style=background-color:#00ff0010>michael</text> <text style=background-color:#00ff0019>jackson</text> <text style=background-color:#00ff001c>in</text> <text style=background-color:#00ff004b>thriller</text> <text style=background-color:#00ff0021>but</text> <text style=background-color:#00ff001c>much</text> <text style=background-color:#00ff0017>more</text> <text style=background-color:#00ff0019>natural</text> <text style=background-color:#00ff001d>and</text> <text style=background-color:#00ff0027>human</text> <text style=background-color:#00ff002c>of</text> <text style=background-color:#00ff002a>course</text> <text style=background-color:#00ff0021>but</text> <text style=background-color:#00ff0013>if</text> <text style=background-color:#00ff0005>focusing</text> <text style=background-color:#00ff001a>on</text> <text style=background-color:#00ff002d>the</text> <text style=background-color:#00ff000a>genuinely</text> <text style=background-color:#00ff0027>good</text> <text style=background-color:#00ff0004>aspects</text> <text style=background-color:#00ff0023>that</text> <text style=background-color:#00ff001b>i</text> <text style=background-color:#00ff0005>mentioned</text> <text style=background-color:#00ff001f>before</text> <text style=background-color:#00ff002d>the</text> <text style=background-color:#00ff0052>music</text> <text style=background-color:#00ff0004>composed</text> <text style=background-color:#00ff001b>by</text> <text style=background-color:#00ff001a>simon</text> <text style=background-color:#00ff0000>boswell</text> <text style=background-color:#00ff002d>is</text> <text style=background-color:#00ff0032>one</text> <text style=background-color:#00ff002c>of</text> <text style=background-color:#00ff002d>the</text> <text style=background-color:#00ff001e>high</text> <text style=background-color:#00ff0005>points</text> <text style=background-color:#00ff001d>and</text> <text style=background-color:#00ff0023>even</text> <text style=background-color:#00ff0013>if</text> <text style=background-color:#00ff0022>it</text> <text style=background-color:#00ff001e>pretty</text> <text style=background-color:#00ff001c>much</text> <text style=background-color:#00ff001b>always</text> <text style=background-color:#00ff002d>the</text> <text style=background-color:#00ff0029>same</text> <text style=background-color:#00ff0022>it</text> <text style=background-color:#00ff0004>fits</text> <text style=background-color:#00ff0009>perfectly</text> <text style=background-color:#00ff001d>and</text> <text style=background-color:#00ff0022>it</text> <text style=background-color:#00ff0007>helps</text> <text style=background-color:#00ff001b>to</text> <text style=background-color:#00ff0012>create</text> <text style=background-color:#00ff0023>a</text> <text style=background-color:#00ff0011>rather</text> <text style=background-color:#00ff003a>dark</text> <text style=background-color:#00ff0012>atmosphere</text> <text style=background-color:#00ff002b>during</text> <text style=background-color:#00ff002d>the</text> <text style=background-color:#00ff0037>moments</text> <text style=background-color:#00ff002c>of</text> <text style=background-color:#00ff000c>tension</text> <text style=background-color:#00ff0024>so</text> <text style=background-color:#00ff0013>if</text> <text style=background-color:#00ff001b>i</text> <text style=background-color:#00ff001f>have</text> <text style=background-color:#00ff001b>to</text> <text style=background-color:#00ff0011>give</text> <text style=background-color:#00ff001d>my</text> <text style=background-color:#00ff002e>final</text> <text style=background-color:#00ff000b>statement</text> <text style=background-color:#00ff0006>regarding</text> <text style=background-color:#00ff002b>this</text> <text style=background-color:#00ff008b>movie</text> <text style=background-color:#00ff001b>i</text> <text style=background-color:#00ff000a>m</text> <text style=background-color:#00ff0019>going</text> <text style=background-color:#00ff001b>to</text> <text style=background-color:#00ff001f>have</text> <text style=background-color:#00ff001b>to</text> <text style=background-color:#00ff0016>say</text> <text style=background-color:#00ff0023>that</text> <text style=background-color:#00ff001b>i</text> <text style=background-color:#00ff0011>can</text> <text style=background-color:#00ff000a>t</text> <text style=background-color:#00ff000f>help</text> <text style=background-color:#00ff0018>loving</text> <text style=background-color:#00ff0022>it</text> <text style=background-color:#00ff000b>including</text> <text style=background-color:#00ff002d>the</text> <text style=background-color:#00ff000b>small</text> <text style=background-color:#00ff0002>flaws</text> <text style=background-color:#00ff001d>and</text> <text style=background-color:#00ff0020>most</text> <text style=background-color:#00ff0018>people</text> <text style=background-color:#00ff0013>who</text> <text style=background-color:#00ff001f>enjoy</text> <text style=background-color:#00ff0016>these</text> <text style=background-color:#00ff0015>typical</text> <text style=background-color:#00ff0012>italian</text> <text style=background-color:#00ff00ff>horror</text> <text style=background-color:#00ff0063>movies</text> <text style=background-color:#00ff0018>from</text> <text style=background-color:#00ff002d>the</text> <text style=background-color:#00ff002b>late</text> <text style=background-color:#00ff0001>eighties</text> <text style=background-color:#00ff0014>won</text> <text style=background-color:#00ff000a>t</text> <text style=background-color:#00ff0015>be</text> <text style=background-color:#00ff000e>disappointed</text> <text style=background-color:#00ff001b>by</text> <text style=background-color:#00ff002b>this</text> <text style=background-color:#00ff0032>one</text> <text style=background-color:#00ff0022>it</text> <text style=background-color:#00ff001d>has</text> <text style=background-color:#00ff001d>all</text> <text style=background-color:#00ff002d>the</text> <text style=background-color:#00ff0015>typical</text> <text style=background-color:#00ff001d>and</text> <text style=background-color:#00ff001b>always</text> <text style=background-color:#00ff001b>well</text> <text style=background-color:#00ff0003>received</text> <text style=background-color:#00ff0000>clichãâs</text> <text style=background-color:#00ff0025>like</text> <text style=background-color:#00ff002d>the</text> <text style=background-color:#00ff002a>crazy</text> <text style=background-color:#00ff002b>old</text> <text style=background-color:#00ff002c>man</text> <text style=background-color:#00ff0013>who</text> <text style=background-color:#00ff002f>actually</text> <text style=background-color:#00ff0012>speaks</text> <text style=background-color:#00ff002d>the</text> <text style=background-color:#00ff001a>truth</text> <text style=background-color:#00ff002d>the</text> <text style=background-color:#00ff0000>foxy</text> <text style=background-color:#00ff0017>local</text> <text style=background-color:#00ff0014>woman</text> <text style=background-color:#00ff0013>who</text> <text style=background-color:#00ff002d>is</text> <text style=background-color:#00ff000f>said</text> <text style=background-color:#00ff001b>to</text> <text style=background-color:#00ff0015>be</text> <text style=background-color:#00ff0023>a</text> <text style=background-color:#00ff0030>witch</text> <text style=background-color:#00ff0023>a</text> <text style=background-color:#00ff002d>creepy</text> <text style=background-color:#00ff0029>castle</text> <text style=background-color:#00ff0023>a</text> <text style=background-color:#00ff000e>huge</text> <text style=background-color:#00ff003a>dark</text> <text style=background-color:#00ff0007>basement</text> <text style=background-color:#00ff001f>with</text> <text style=background-color:#00ff0023>a</text> <text style=background-color:#00ff0043>terrible</text> <text style=background-color:#00ff002b>secret</text> <text style=background-color:#00ff001d>and</text> <text style=background-color:#00ff002d>the</text> <text style=background-color:#00ff0017>local</text> <text style=background-color:#00ff0009>folks</text> <text style=background-color:#00ff0013>who</text> <text style=background-color:#00ff0019>try</text> <text style=background-color:#00ff001b>to</text> <text style=background-color:#00ff0004>prevent</text> <text style=background-color:#00ff002d>the</text> <text style=background-color:#00ff000b>tourist</text> <text style=background-color:#00ff001f>with</text> <text style=background-color:#00ff0013>their</text> <text style=background-color:#00ff0000>hostility</text> <text style=background-color:#00ff001b>to</text> <text style=background-color:#00ff0011>stay</text> <text style=background-color:#00ff0011>away</text> <text style=background-color:#00ff0018>from</text> <text style=background-color:#00ff002d>the</text> <text style=background-color:#00ff000f>infamous</text> <text style=background-color:#00ff0003>lands</text> <text style=background-color:#00ff001b>i</text> <text style=background-color:#00ff0014>would</text> <text style=background-color:#00ff0016>say</text> <text style=background-color:#00ff0023>that</text> <text style=background-color:#00ff0010>la</text> <text style=background-color:#00ff0007>casa</text> <text style=background-color:#00ff0002>dell</text> <text style=background-color:#00ff0001>orco</text> <text style=background-color:#00ff0008>deserves</text> <text style=background-color:#00ff001a>two</text> <text style=background-color:#00ff0002>thumbs</text> <text style=background-color:#00ff0018>up</text> <text style=background-color:#00ff001d>and</text> <text style=background-color:#00ff0023>a</text> <text style=background-color:#00ff000f>punch</text> <text style=background-color:#00ff0018>at</text> <text style=background-color:#00ff0017>your</text> <text style=background-color:#00ff0002>spouse</text> <text style=background-color:#00ff000c>s</text> <text style=background-color:#00ff001c>face</text> <text style=background-color:#00ff001c>as</text> <text style=background-color:#00ff0023>a</text> <text style=background-color:#00ff0024>way</text> <text style=background-color:#00ff001b>to</text> <text style=background-color:#00ff0006>pay</text> <text style=background-color:#00ff001e>tribute</text> <text style=background-color:#00ff001b>to</text> <text style=background-color:#00ff002d>the</text> <text style=background-color:#00ff000c>heroine</text> <text style=background-color:#00ff002c>of</text> <text style=background-color:#00ff002d>the</text> <text style=background-color:#00ff0065>story</text> <text style=background-color:#00ff001a>take</text> <text style=background-color:#00ff002b>this</text> <text style=background-color:#00ff008b>movie</text> <text style=background-color:#00ff001d>for</text> <text style=background-color:#00ff002c>what</text> <text style=background-color:#00ff0022>it</text> <text style=background-color:#00ff002d>is</text> <text style=background-color:#00ff001d>and</text> <text style=background-color:#00ff001f>enjoy</text> <text style=background-color:#00ff0022>it</text> <br> <text style=background-color:#00ff001a>understand</text> <text style=background-color:#00ff0017>i</text> <text style=background-color:#00ff0008>m</text> <text style=background-color:#00ff0001>reviewing</text> <text style=background-color:#00ff0027>the</text> <text style=background-color:#00ff0047>film</text> <text style=background-color:#00ff0017>i</text> <text style=background-color:#00ff001a>have</text> <text style=background-color:#00ff001e>seen</text> <text style=background-color:#00ff0017>i</text> <text style=background-color:#00ff0014>realize</text> <text style=background-color:#00ff0000>virtually</text> <text style=background-color:#00ff0018>all</text> <text style=background-color:#00ff0027>the</text> <text style=background-color:#00ff0002>nudity</text> <text style=background-color:#00ff0018>and</text> <text style=background-color:#00ff0000>gore</text> <text style=background-color:#00ff0020>was</text> <text style=background-color:#00ff000a>cut</text> <text style=background-color:#00ff0013>from</text> <text style=background-color:#00ff0026>this</text> <text style=background-color:#00ff0047>film</text> <text style=background-color:#00ff000e>thus</text> <text style=background-color:#00ff0000>neutering</text> <text style=background-color:#00ff001d>it</text> <text style=background-color:#00ff000b>completely</text> <text style=background-color:#00ff001a>when</text> <text style=background-color:#00ff0017>seeing</text> <text style=background-color:#00ff000c>names</text> <text style=background-color:#00ff001f>like</text> <text style=background-color:#00ff0004>ginger</text> <text style=background-color:#00ff0002>lynn</text> <text style=background-color:#00ff0018>and</text> <text style=background-color:#00ff0005>jenna</text> <text style=background-color:#00ff0000>jameson</text> <text style=background-color:#00ff0003>attached</text> <text style=background-color:#00ff0017>i</text> <text style=background-color:#00ff0016>knew</text> <text style=background-color:#00ff0017>i</text> <text style=background-color:#00ff0000>wasn</text> <text style=background-color:#00ff0007>t</text> <text style=background-color:#00ff0014>going</text> <text style=background-color:#00ff0016>to</text> <text style=background-color:#00ff000f>get</text> <text style=background-color:#00ff001d>a</text> <text style=background-color:#00ff00ff>horror</text> <text style=background-color:#00ff0029>classic</text> <text style=background-color:#00ff001c>but</text> <text style=background-color:#00ff0013>at</text> <text style=background-color:#00ff0027>the</text> <text style=background-color:#00ff0013>very</text> <text style=background-color:#00ff0014>least</text> <text style=background-color:#00ff0017>i</text> <text style=background-color:#00ff0003>expected</text> <text style=background-color:#00ff0000>gratuitous</text> <text style=background-color:#00ff0000>boobies</text> <text style=background-color:#00ff0018>and</text> <text style=background-color:#00ff0000>bloodshed</text> <text style=background-color:#00ff001c>but</text> <text style=background-color:#00ff001b>no</text> <text style=background-color:#00ff0026>this</text> <text style=background-color:#00ff0018>has</text> <text style=background-color:#00ff0010>got</text> <text style=background-color:#00ff0016>to</text> <text style=background-color:#00ff0011>be</text> <text style=background-color:#00ff0027>the</text> <text style=background-color:#00ff001a>most</text> <text style=background-color:#00ff0000>butchered</text> <text style=background-color:#00ff0023>modern</text> <text style=background-color:#00ff00ff>horror</text> <text style=background-color:#00ff0047>film</text> <text style=background-color:#00ff0017>i</text> <text style=background-color:#00ff0010>mean</text> <text style=background-color:#00ff001d>it</text> <text style=background-color:#00ff0009>s</text> <text style=background-color:#00ff0016>easy</text> <text style=background-color:#00ff0016>to</text> <text style=background-color:#00ff000d>tell</text> <text style=background-color:#00ff001f>there</text> <text style=background-color:#00ff0027>is</text> <text style=background-color:#00ff0017>much</text> <text style=background-color:#00ff0012>more</text> <text style=background-color:#00ff0016>to</text> <text style=background-color:#00ff000e>certain</text> <text style=background-color:#00ff003d>scenes</text> <text style=background-color:#00ff001c>but</text> <text style=background-color:#00ff0012>they</text> <text style=background-color:#00ff0011>suddenly</text> <text style=background-color:#00ff000a>cut</text> <text style=background-color:#00ff000e>away</text> <text style=background-color:#00ff0019>or</text> <text style=background-color:#00ff0027>the</text> <text style=background-color:#00ff0053>scene</text> <text style=background-color:#00ff001a>just</text> <text style=background-color:#00ff0019>totally</text> <text style=background-color:#00ff0009>ends</text> <text style=background-color:#00ff001b>right</text> <text style=background-color:#00ff0017>as</text> <text style=background-color:#00ff001d>it</text> <text style=background-color:#00ff0012>begins</text> <text style=background-color:#00ff0019>how</text> <text style=background-color:#00ff0017>does</text> <text style=background-color:#00ff002b>one</text> <text style=background-color:#00ff000d>screw</text> <text style=background-color:#00ff0014>up</text> <text style=background-color:#00ff0000>cannibals</text> <text style=background-color:#00ff0018>and</text> <text style=background-color:#00ff0011>porn</text> <text style=background-color:#00ff0018>stars</text> <text style=background-color:#00ff0017>i</text> <text style=background-color:#00ff0010>mean</text> <text style=background-color:#00ff0013>thats</text> <text style=background-color:#00ff001d>a</text> <text style=background-color:#00ff000e>winning</text> <text style=background-color:#00ff001f>formula</text> <text style=background-color:#00ff001d>it</text> <text style=background-color:#00ff0023>makes</text> <text style=background-color:#00ff0011>me</text> <text style=background-color:#00ff001e>wonder</text> <text style=background-color:#00ff000f>if</text> <text style=background-color:#00ff0027>the</text> <text style=background-color:#00ff0014>director</text> <text style=background-color:#00ff0006>slept</text> <text style=background-color:#00ff001a>with</text> <text style=background-color:#00ff0019>some</text> <text style=background-color:#00ff0002>executive</text> <text style=background-color:#00ff0009>s</text> <text style=background-color:#00ff0008>wife</text> <text style=background-color:#00ff0019>or</text> <text style=background-color:#00ff0019>something</text> <text style=background-color:#00ff001e>because</text> <text style=background-color:#00ff001d>it</text> <text style=background-color:#00ff0027>is</text> <text style=background-color:#00ff001e>literally</text> <text style=background-color:#00ff002d>amazing</text> <text style=background-color:#00ff0019>how</text> <text style=background-color:#00ff0017>much</text> <text style=background-color:#00ff0010>got</text> <text style=background-color:#00ff000a>cut</text> <text style=background-color:#00ff0013>from</text> <text style=background-color:#00ff0026>this</text> <text style=background-color:#00ff002c>reading</text> <text style=background-color:#00ff0023>about</text> <text style=background-color:#00ff001d>it</text> <text style=background-color:#00ff001d>a</text> <text style=background-color:#00ff000e>few</text> <text style=background-color:#00ff001e>years</text> <text style=background-color:#00ff0005>back</text> <text style=background-color:#00ff0017>in</text> <text style=background-color:#00ff0000>fangoria</text> <text style=background-color:#00ff0017>i</text> <text style=background-color:#00ff0020>was</text> <text style=background-color:#00ff0023>excited</text> <text style=background-color:#00ff001d>it</text> <text style=background-color:#00ff000b>looked</text> <text style=background-color:#00ff001f>like</text> <text style=background-color:#00ff001d>a</text> <text style=background-color:#00ff0030>fun</text> <text style=background-color:#00ff0047>film</text> <text style=background-color:#00ff001c>but</text> <text style=background-color:#00ff000b>unfortunately</text> <text style=background-color:#00ff0027>the</text> <text style=background-color:#00ff0030>true</text> <text style=background-color:#00ff0047>film</text> <text style=background-color:#00ff0027>is</text> <text style=background-color:#00ff0006>locked</text> <text style=background-color:#00ff0017>in</text> <text style=background-color:#00ff001d>a</text> <text style=background-color:#00ff0005>vault</text> <text style=background-color:#00ff000d>somewhere</text> <text style=background-color:#00ff0018>and</text> <text style=background-color:#00ff001f>we</text> <text style=background-color:#00ff000a>must</text> <text style=background-color:#00ff0002>endure</text> <text style=background-color:#00ff0026>this</text> <text style=background-color:#00ff0024>piece</text> <text style=background-color:#00ff0026>of</text> <text style=background-color:#00ff0000>excrement</text> <text style=background-color:#00ff0000>retitled</text> <text style=background-color:#00ff0055>evil</text> <text style=background-color:#00ff0011>breed</text> <text style=background-color:#00ff000c>hopefully</text> <text style=background-color:#00ff0019>an</text> <text style=background-color:#00ff0001>unrated</text> <text style=background-color:#00ff000a>cut</text> <text style=background-color:#00ff0012>will</text> <text style=background-color:#00ff0011>be</text> <text style=background-color:#00ff000f>released</text> <text style=background-color:#00ff0011>someday</text> <text style=background-color:#00ff0017>as</text> <text style=background-color:#00ff0017>i</text> <text style=background-color:#00ff001a>think</text> <text style=background-color:#00ff001d>a</text> <text style=background-color:#00ff0022>good</text> <text style=background-color:#00ff0085>movie</text> <text style=background-color:#00ff000e>exists</text> <text style=background-color:#00ff0017>in</text> <text style=background-color:#00ff0026>this</text> <text style=background-color:#00ff0012>mess</text> <text style=background-color:#00ff001c>but</text> <text style=background-color:#00ff0014>until</text> <text style=background-color:#00ff0015>then</text> <text style=background-color:#00ff0037>best</text> <text style=background-color:#00ff0002>grab</text> <text style=background-color:#00ff001d>a</text> <text style=background-color:#00ff0002>twelve</text> <text style=background-color:#00ff000b>pack</text> <text style=background-color:#00ff0026>of</text> <text style=background-color:#00ff0009>bud</text> <text style=background-color:#00ff0013>cause</text> <text style=background-color:#00ff0013>thats</text> <text style=background-color:#00ff0027>the</text> <text style=background-color:#00ff0014>only</text> <text style=background-color:#00ff001f>way</text> <text style=background-color:#00ff0013>you</text> <text style=background-color:#00ff0001>ll</text> <text style=background-color:#00ff0019>make</text> <text style=background-color:#00ff001d>it</text> <text style=background-color:#00ff0011>through</text> <text style=background-color:#00ff0026>this</text> <text style=background-color:#00ff0085>movie</text> <br> <text style=background-color:#00ff0025>a</text> <text style=background-color:#00ff0021>chinese</text> <text style=background-color:#00ff005b>ghost</text> <text style=background-color:#00ff0068>story</text> <text style=background-color:#00ff001f>stars</text> <text style=background-color:#00ff0030>the</text> <text style=background-color:#00ff002d>late</text> <text style=background-color:#00ff0029>great</text> <text style=background-color:#00ff0002>leslie</text> <text style=background-color:#00ff0000>cheung</text> <text style=background-color:#00ff001f>as</text> <text style=background-color:#00ff0003>ling</text> <text style=background-color:#00ff0004>choi</text> <text style=background-color:#00ff000e>sin</text> <text style=background-color:#00ff0025>a</text> <text style=background-color:#00ff0000>penniless</text> <text style=background-color:#00ff0002>tax</text> <text style=background-color:#00ff0008>collector</text> <text style=background-color:#00ff0015>who</text> <text style=background-color:#00ff000d>decides</text> <text style=background-color:#00ff001d>to</text> <text style=background-color:#00ff000a>spend</text> <text style=background-color:#00ff0030>the</text> <text style=background-color:#00ff0031>night</text> <text style=background-color:#00ff001a>at</text> <text style=background-color:#00ff0025>a</text> <text style=background-color:#00ff0001>deserted</text> <text style=background-color:#00ff002c>temple</text> <text style=background-color:#00ff0020>where</text> <text style=background-color:#00ff001f>he</text> <text style=background-color:#00ff001f>meets</text> <text style=background-color:#00ff001f>and</text> <text style=background-color:#00ff0005>falls</text> <text style=background-color:#00ff001f>for</text> <text style=background-color:#00ff0025>a</text> <text style=background-color:#00ff001c>beautiful</text> <text style=background-color:#00ff0016>woman</text> <text style=background-color:#00ff0026>called</text> <text style=background-color:#00ff0000>tsing</text> <text style=background-color:#00ff0011>joey</text> <text style=background-color:#00ff0000>wang</text> <text style=background-color:#00ff0022>when</text> <text style=background-color:#00ff0003>ling</text> <text style=background-color:#00ff0002>discovers</text> <text style=background-color:#00ff0026>that</text> <text style=background-color:#00ff0000>tsing</text> <text style=background-color:#00ff0030>is</text> <text style=background-color:#00ff0032>actually</text> <text style=background-color:#00ff0025>a</text> <text style=background-color:#00ff005b>ghost</text> <text style=background-color:#00ff0015>who</text> <text style=background-color:#00ff0020>has</text> <text style=background-color:#00ff0019>been</text> <text style=background-color:#00ff0006>forced</text> <text style=background-color:#00ff001d>to</text> <text style=background-color:#00ff0002>seduce</text> <text style=background-color:#00ff0005>victims</text> <text style=background-color:#00ff001f>for</text> <text style=background-color:#00ff0021>an</text> <text style=background-color:#00ff005f>evil</text> <text style=background-color:#00ff0012>tree</text> <text style=background-color:#00ff0027>spirit</text> <text style=background-color:#00ff0015>who</text> <text style=background-color:#00ff0002>feeds</text> <text style=background-color:#00ff001c>on</text> <text style=background-color:#00ff0004>chi</text> <text style=background-color:#00ff003a>life</text> <text style=background-color:#00ff000f>force</text> <text style=background-color:#00ff001f>he</text> <text style=background-color:#00ff000d>decides</text> <text style=background-color:#00ff001d>to</text> <text style=background-color:#00ff001b>try</text> <text style=background-color:#00ff001f>and</text> <text style=background-color:#00ff0014>free</text> <text style=background-color:#00ff0030>the</text> <text style=background-color:#00ff0027>girl</text> <text style=background-color:#00ff001d>by</text> <text style=background-color:#00ff000d>giving</text> <text style=background-color:#00ff0007>her</text> <text style=background-color:#00ff0005>remains</text> <text style=background-color:#00ff0025>a</text> <text style=background-color:#00ff0025>proper</text> <text style=background-color:#00ff0005>burial</text> <text style=background-color:#00ff0000>enlisting</text> <text style=background-color:#00ff0030>the</text> <text style=background-color:#00ff0011>help</text> <text style=background-color:#00ff002f>of</text> <text style=background-color:#00ff0001>swordsman</text> <text style=background-color:#00ff0001>yin</text> <text style=background-color:#00ff0011>wu</text> <text style=background-color:#00ff0008>ma</text> <text style=background-color:#00ff0025>a</text> <text style=background-color:#00ff002d>crazy</text> <text style=background-color:#00ff0001>taoist</text> <text style=background-color:#00ff0006>monk</text> <text style=background-color:#00ff0003>ling</text> <text style=background-color:#00ff0006>successfully</text> <text style=background-color:#00ff0003>defeats</text> <text style=background-color:#00ff0030>the</text> <text style=background-color:#00ff0012>tree</text> <text style=background-color:#00ff0027>spirit</text> <text style=background-color:#00ff0023>but</text> <text style=background-color:#00ff000f>must</text> <text style=background-color:#00ff001c>also</text> <text style=background-color:#00ff0021>do</text> <text style=background-color:#00ff0041>battle</text> <text style=background-color:#00ff001f>in</text> <text style=background-color:#00ff0026>hell</text> <text style=background-color:#00ff000a>against</text> <text style=background-color:#00ff0030>the</text> <text style=background-color:#00ff005f>evil</text> <text style=background-color:#00ff0018>lord</text> <text style=background-color:#00ff001f>black</text> <text style=background-color:#00ff001d>to</text> <text style=background-color:#00ff0006>whom</text> <text style=background-color:#00ff0000>tsing</text> <text style=background-color:#00ff0030>is</text> <text style=background-color:#00ff000c>due</text> <text style=background-color:#00ff001d>to</text> <text style=background-color:#00ff0017>be</text> <text style=background-color:#00ff0009>wed</text> <text style=background-color:#00ff000a>br</text> <text style=background-color:#00ff000a>br</text> <text style=background-color:#00ff0030>the</text> <text style=background-color:#00ff0030>first</text> <text style=background-color:#00ff0006>hong</text> <text style=background-color:#00ff001b>kong</text> <text style=background-color:#00ff0051>film</text> <text style=background-color:#00ff0026>that</text> <text style=background-color:#00ff001e>i</text> <text style=background-color:#00ff0017>saw</text> <text style=background-color:#00ff0026>which</text> <text style=background-color:#00ff0000>wasn</text> <text style=background-color:#00ff000b>t</text> <text style=background-color:#00ff000a>purely</text> <text style=background-color:#00ff001c>martial</text> <text style=background-color:#00ff0023>arts</text> <text style=background-color:#00ff0039>action</text> <text style=background-color:#00ff0025>a</text> <text style=background-color:#00ff0021>chinese</text> <text style=background-color:#00ff005b>ghost</text> <text style=background-color:#00ff0068>story</text> <text style=background-color:#00ff0007>opened</text> <text style=background-color:#00ff0020>my</text> <text style=background-color:#00ff000f>eyes</text> <text style=background-color:#00ff001d>to</text> <text style=background-color:#00ff0030>the</text> <text style=background-color:#00ff0026>incredible</text> <text style=background-color:#00ff0036>world</text> <text style=background-color:#00ff002f>of</text> <text style=background-color:#00ff0010>asian</text> <text style=background-color:#00ff0048>fantasy</text> <text style=background-color:#00ff00ff>horror</text> <text style=background-color:#00ff0025>a</text> <text style=background-color:#00ff0023>magical</text> <text style=background-color:#00ff0015>realm</text> <text style=background-color:#00ff0001>inhabited</text> <text style=background-color:#00ff001d>by</text> <text style=background-color:#00ff001c>beautiful</text> <text style=background-color:#00ff0016>female</text> <text style=background-color:#00ff002f>ghosts</text> <text style=background-color:#00ff0001>bumbling</text> <text style=background-color:#00ff000d>innocent</text> <text style=background-color:#00ff002f>heroes</text> <text style=background-color:#00ff0017>sword</text> <text style=background-color:#00ff0000>wielding</text> <text style=background-color:#00ff0001>taoist</text> <text style=background-color:#00ff0000>monks</text> <text style=background-color:#00ff0001>monstrous</text> <text style=background-color:#00ff0007>spirits</text> <text style=background-color:#00ff001f>and</text> <text style=background-color:#00ff003d>dark</text> <text style=background-color:#00ff000a>lords</text> <text style=background-color:#00ff002f>of</text> <text style=background-color:#00ff0030>the</text> <text style=background-color:#00ff0010>underworld</text> <text style=background-color:#00ff001e>i</text> <text style=background-color:#00ff0001>instantly</text> <text style=background-color:#00ff0009>fell</text> <text style=background-color:#00ff001f>in</text> <text style=background-color:#00ff0024>love</text> <text style=background-color:#00ff0022>with</text> <text style=background-color:#00ff0030>the</text> <text style=background-color:#00ff0051>film</text> <text style=background-color:#00ff000e>s</text> <text style=background-color:#00ff0000>exuberance</text> <text style=background-color:#00ff000f>energy</text> <text style=background-color:#00ff0010>humour</text> <text style=background-color:#00ff0000>inventiveness</text> <text style=background-color:#00ff001f>and</text> <text style=background-color:#00ff0033>visual</text> <text style=background-color:#00ff000a>excellence</text> <text style=background-color:#00ff000a>br</text> <text style=background-color:#00ff000a>br</text> <text style=background-color:#00ff001d>two</text> <text style=background-color:#00ff0005>decades</text> <text style=background-color:#00ff001a>later</text> <text style=background-color:#00ff001f>and</text> <text style=background-color:#00ff002e>this</text> <text style=background-color:#00ff0036>amazing</text> <text style=background-color:#00ff008e>movie</text> <text style=background-color:#00ff001d>still</text> <text style=background-color:#00ff0005>remains</text> <text style=background-color:#00ff0035>one</text> <text style=background-color:#00ff002f>of</text> <text style=background-color:#00ff0030>the</text> <text style=background-color:#00ff0012>finest</text> <text style=background-color:#00ff0008>examples</text> <text style=background-color:#00ff002f>of</text> <text style=background-color:#00ff0023>its</text> <text style=background-color:#00ff0016>genre</text> <text style=background-color:#00ff0026>that</text> <text style=background-color:#00ff001e>i</text> <text style=background-color:#00ff0022>have</text> <text style=background-color:#00ff0000>seenã</text> <text style=background-color:#00ff0025>a</text> <text style=background-color:#00ff0000>sumptuous</text> <text style=background-color:#00ff0005>breathtaking</text> <text style=background-color:#00ff0028>masterpiece</text> <text style=background-color:#00ff0026>that</text> <text style=background-color:#00ff0005>brilliantly</text> <text style=background-color:#00ff0001>blends</text> <text style=background-color:#00ff00ff>horror</text> <text style=background-color:#00ff0071>comedy</text> <text style=background-color:#00ff0048>fantasy</text> <text style=background-color:#00ff001f>and</text> <text style=background-color:#00ff0067>romance</text> <text style=background-color:#00ff0022>with</text> <text style=background-color:#00ff0013>superb</text> <text style=background-color:#00ff0023>direction</text> <text style=background-color:#00ff001a>from</text> <text style=background-color:#00ff0000>siu</text> <text style=background-color:#00ff0001>tung</text> <text style=background-color:#00ff0000>ching</text> <text style=background-color:#00ff0013>excellent</text> <text style=background-color:#00ff0018>editing</text> <text style=background-color:#00ff001a>from</text> <text style=background-color:#00ff0017>david</text> <text style=background-color:#00ff0011>wu</text> <text style=background-color:#00ff000b>stunning</text> <text style=background-color:#00ff000b>cinematography</text> <text style=background-color:#00ff001f>and</text> <text style=background-color:#00ff0025>a</text> <text style=background-color:#00ff002f>whole</text> <text style=background-color:#00ff0000>slew</text> <text style=background-color:#00ff002f>of</text> <text style=background-color:#00ff0001>imaginative</text> <text style=background-color:#00ff0025>special</text> <text style=background-color:#00ff0020>effects</text> <text style=background-color:#00ff000d>including</text> <text style=background-color:#00ff0025>a</text> <text style=background-color:#00ff0000>humongous</text> <text style=background-color:#00ff0062>killer</text> <text style=background-color:#00ff0008>tongue</text> <text style=background-color:#00ff0025>a</text> <text style=background-color:#00ff0017>many</text> <text style=background-color:#00ff0000>tentacled</text> <text style=background-color:#00ff0050>monster</text> <text style=background-color:#00ff001f>and</text> <text style=background-color:#00ff000b>multiple</text> <text style=background-color:#00ff0011>flying</text> <text style=background-color:#00ff0008>heads</text> <text style=background-color:#00ff0025>a</text> <text style=background-color:#00ff0021>chinese</text> <text style=background-color:#00ff005b>ghost</text> <text style=background-color:#00ff0068>story</text> <text style=background-color:#00ff0030>is</text> <text style=background-color:#00ff0025>a</text> <text style=background-color:#00ff0010>completely</text> <text style=background-color:#00ff0019>unforgettable</text> <text style=background-color:#00ff001f>and</text> <text style=background-color:#00ff0002>thoroughly</text> <text style=background-color:#00ff0013>enjoyable</text> <text style=background-color:#00ff0032>experience</text> <text style=background-color:#00ff001a>from</text> <text style=background-color:#00ff001c>start</text> <text style=background-color:#00ff001d>to</text> <text style=background-color:#00ff001c>finish</text> <br> <text style=background-color:#00ff0025>this</text> <text style=background-color:#00ff0027>is</text> <text style=background-color:#00ff001d>a</text> <text style=background-color:#00ff0001>wonderfully</text> <text style=background-color:#00ff0017>written</text> <text style=background-color:#00ff0017>and</text> <text style=background-color:#00ff0015>well</text> <text style=background-color:#00ff0002>acted</text> <text style=background-color:#00ff000d>psychological</text> <text style=background-color:#00ff0090>drama</text> <text style=background-color:#00ff001c>it</text> <text style=background-color:#00ff0027>is</text> <text style=background-color:#00ff0018>not</text> <text style=background-color:#00ff001c>really</text> <text style=background-color:#00ff001d>a</text> <text style=background-color:#00ff00ff>horror</text> <text style=background-color:#00ff0016>flick</text> <text style=background-color:#00ff001e>so</text> <text style=background-color:#00ff000f>those</text> <text style=background-color:#00ff000f>looking</text> <text style=background-color:#00ff0017>for</text> <text style=background-color:#00ff0019>something</text> <text style=background-color:#00ff001f>like</text> <text style=background-color:#00ff0027>the</text> <text style=background-color:#00ff000d>ring</text> <text style=background-color:#00ff0018>or</text> <text style=background-color:#00ff0027>the</text> <text style=background-color:#00ff0005>grudge</text> <text style=background-color:#00ff0011>will</text> <text style=background-color:#00ff0011>be</text> <text style=background-color:#00ff000a>disappointed</text> <text style=background-color:#00ff0026>what</text> <text style=background-color:#00ff001c>really</text> <text style=background-color:#00ff000b>surprised</text> <text style=background-color:#00ff0011>me</text> <text style=background-color:#00ff0022>about</text> <text style=background-color:#00ff0025>this</text> <text style=background-color:#00ff0047>film</text> <text style=background-color:#00ff0020>was</text> <text style=background-color:#00ff0027>the</text> <text style=background-color:#00ff0005>intelligence</text> <text style=background-color:#00ff0017>and</text> <text style=background-color:#00ff0002>subtle</text> <text style=background-color:#00ff0005>attention</text> <text style=background-color:#00ff0015>to</text> <text style=background-color:#00ff0003>detail</text> <text style=background-color:#00ff0017>in</text> <text style=background-color:#00ff0027>the</text> <text style=background-color:#00ff002c>plot</text> <text style=background-color:#00ff0017>and</text> <text style=background-color:#00ff0027>the</text> <text style=background-color:#00ff000f>effort</text> <text style=background-color:#00ff0020>made</text> <text style=background-color:#00ff0015>to</text> <text style=background-color:#00ff0011>be</text> <text style=background-color:#00ff0000>internally</text> <text style=background-color:#00ff0005>consistent</text> <text style=background-color:#00ff0016>i</text> <text style=background-color:#00ff0014>also</text> <text style=background-color:#00ff0001>appreciated</text> <text style=background-color:#00ff0027>the</text> <text style=background-color:#00ff0004>absence</text> <text style=background-color:#00ff0026>of</text> <text style=background-color:#00ff0007>dr</text> <text style=background-color:#00ff000c>phil</text> <text style=background-color:#00ff0000>psychobabble</text> <text style=background-color:#00ff0018>or</text> <text style=background-color:#00ff001d>new</text> <text style=background-color:#00ff002b>age</text> <text style=background-color:#00ff0000>revisionism</text> <text style=background-color:#00ff000c>rather</text> <text style=background-color:#00ff001d>than</text> <text style=background-color:#00ff0000>advancing</text> <text style=background-color:#00ff0018>an</text> <text style=background-color:#00ff001a>agenda</text> <text style=background-color:#00ff0027>the</text> <text style=background-color:#00ff0001>filmmakers</text> <text style=background-color:#00ff001a>just</text> <text style=background-color:#00ff0009>told</text> <text style=background-color:#00ff0027>the</text> <text style=background-color:#00ff005e>story</text> <text style=background-color:#00ff0009>told</text> <text style=background-color:#00ff001c>it</text> <text style=background-color:#00ff0015>well</text> <text style=background-color:#00ff0017>and</text> <text style=background-color:#00ff0016>let</text> <text style=background-color:#00ff0027>the</text> <text style=background-color:#00ff0002>viewer</text> <text style=background-color:#00ff001a>think</text> <text style=background-color:#00ff0022>about</text> <text style=background-color:#00ff001c>it</text> <text style=background-color:#00ff0027>the</text> <text style=background-color:#00ff0000>sparse</text> <text style=background-color:#00ff0000>dreamscapes</text> <text style=background-color:#00ff0015>were</text> <text style=background-color:#00ff0000>reminiscent</text> <text style=background-color:#00ff0026>of</text> <text style=background-color:#00ff0000>wyeth</text> <text style=background-color:#00ff0002>paintings</text> <text style=background-color:#00ff0017>and</text> <text style=background-color:#00ff0006>amazingly</text> <text style=background-color:#00ff000b>effective</text> <text style=background-color:#00ff0006>br</text> <text style=background-color:#00ff0006>br</text> <text style=background-color:#00ff001d>a</text> <text style=background-color:#00ff0020>great</text> <text style=background-color:#00ff001b>example</text> <text style=background-color:#00ff0026>of</text> <text style=background-color:#00ff0019>how</text> <text style=background-color:#00ff0015>to</text> <text style=background-color:#00ff0019>make</text> <text style=background-color:#00ff001d>a</text> <text style=background-color:#00ff0021>good</text> <text style=background-color:#00ff0047>film</text> <text style=background-color:#00ff0015>on</text> <text style=background-color:#00ff001d>a</text> <text style=background-color:#00ff0008>small</text> <text style=background-color:#00ff0003>budget</text> <text style=background-color:#00ff001d>without</text> <text style=background-color:#00ff001e>big</text> <text style=background-color:#00ff000e>studios</text> <text style=background-color:#00ff0032>star</text> <text style=background-color:#00ff001a>actors</text> <text style=background-color:#00ff001e>big</text> <text style=background-color:#00ff0018>name</text> <text style=background-color:#00ff0004>directors</text> <text style=background-color:#00ff0025>this</text> <text style=background-color:#00ff0020>was</text> <text style=background-color:#00ff0019>far</text> <text style=background-color:#00ff0019>better</text> <text style=background-color:#00ff001d>than</text> <text style=background-color:#00ff0010>many</text> <text style=background-color:#00ff0026>of</text> <text style=background-color:#00ff000c>hitchcock</text> <text style=background-color:#00ff0009>s</text> <text style=background-color:#00ff0039>films</text> <text style=background-color:#00ff001c>special</text> <text style=background-color:#00ff0018>effects</text> <text style=background-color:#00ff0018>or</text> <text style=background-color:#00ff000b>clever</text> <text style=background-color:#00ff002c>plot</text> <text style=background-color:#00ff0002>twists</text> <br> <text style=background-color:#00ff0019>based</text> <text style=background-color:#00ff001a>on</text> <text style=background-color:#00ff002d>the</text> <text style=background-color:#00ff0006>average</text> <text style=background-color:#00ff0025>short</text> <text style=background-color:#00ff0065>story</text> <text style=background-color:#00ff001a>by</text> <text style=background-color:#00ff00ff>horror</text> <text style=background-color:#00ff0024>writer</text> <text style=background-color:#00ff000f>stephen</text> <text style=background-color:#00ff0030>king</text> <text style=background-color:#00ff0028>about</text> <text style=background-color:#00ff0024>so</text> <text style=background-color:#00ff0023>called</text> <text style=background-color:#00ff0000>sleepwalkers</text> <text style=background-color:#00ff0013>ancient</text> <text style=background-color:#00ff001c>and</text> <text style=background-color:#00ff0027>immortal</text> <text style=background-color:#00ff0022>cat</text> <text style=background-color:#00ff0025>like</text> <text style=background-color:#00ff0018>creatures</text> <text style=background-color:#00ff0023>that</text> <text style=background-color:#00ff0012>suck</text> <text style=background-color:#00ff002d>the</text> <text style=background-color:#00ff0037>life</text> <text style=background-color:#00ff001b>out</text> <text style=background-color:#00ff002c>of</text> <text style=background-color:#00ff0001>virgins</text> <text style=background-color:#00ff001c>in</text> <text style=background-color:#00ff0007>order</text> <text style=background-color:#00ff0023>that</text> <text style=background-color:#00ff002b>this</text> <text style=background-color:#00ff000d>energy</text> <text style=background-color:#00ff001e>may</text> <text style=background-color:#00ff0001>sustain</text> <text style=background-color:#00ff000d>them</text> <text style=background-color:#00ff0016>they</text> <text style=background-color:#00ff001f>have</text> <text style=background-color:#00ff002d>supernatural</text> <text style=background-color:#00ff0008>abilities</text> <text style=background-color:#00ff0016>they</text> <text style=background-color:#00ff0011>can</text> <text style=background-color:#00ff001e>make</text> <text style=background-color:#00ff0007>themselves</text> <text style=background-color:#00ff0008>dim</text> <text style=background-color:#00ff0023>which</text> <text style=background-color:#00ff001c>means</text> <text style=background-color:#00ff0016>they</text> <text style=background-color:#00ff001a>become</text> <text style=background-color:#00ff0019>invisible</text> <text style=background-color:#00ff001c>and</text> <text style=background-color:#00ff0011>can</text> <text style=background-color:#00ff0012>create</text> <text style=background-color:#00ff0004>subliminal</text> <text style=background-color:#00ff0000>mirages</text> <text style=background-color:#00ff001b>to</text> <text style=background-color:#00ff000d>fool</text> <text style=background-color:#00ff0017>people</text> <text style=background-color:#00ff0016>they</text> <text style=background-color:#00ff001f>have</text> <text style=background-color:#00ff0016>been</text> <text style=background-color:#00ff0000>fleeing</text> <text style=background-color:#00ff0012>humans</text> <text style=background-color:#00ff001c>for</text> <text style=background-color:#00ff000e>century</text> <text style=background-color:#00ff000c>s</text> <text style=background-color:#00ff0025>we</text> <text style=background-color:#00ff001b>are</text> <text style=background-color:#00ff000c>told</text> <text style=background-color:#00ff001c>and</text> <text style=background-color:#00ff001f>have</text> <text style=background-color:#00ff0031>one</text> <text style=background-color:#00ff001a>by</text> <text style=background-color:#00ff0031>one</text> <text style=background-color:#00ff0016>been</text> <text style=background-color:#00ff0005>picked</text> <text style=background-color:#00ff000f>off</text> <text style=background-color:#00ff000c>till</text> <text style=background-color:#00ff0024>there</text> <text style=background-color:#00ff001b>are</text> <text style=background-color:#00ff0018>only</text> <text style=background-color:#00ff001a>two</text> <text style=background-color:#00ff000e>left</text> <text style=background-color:#00ff002d>the</text> <text style=background-color:#00ff004e>film</text> <text style=background-color:#00ff0018>starts</text> <text style=background-color:#00ff001f>when</text> <text style=background-color:#00ff0022>a</text> <text style=background-color:#00ff0019>beautiful</text> <text style=background-color:#00ff001d>mother</text> <text style=background-color:#00ff001c>and</text> <text style=background-color:#00ff0006>her</text> <text style=background-color:#00ff000b>son</text> <text style=background-color:#00ff0003>arrive</text> <text style=background-color:#00ff001c>in</text> <text style=background-color:#00ff0022>a</text> <text style=background-color:#00ff000a>sleepy</text> <text style=background-color:#00ff0013>town</text> <text style=background-color:#00ff0016>they</text> <text style=background-color:#00ff001b>are</text> <text style=background-color:#00ff002d>the</text> <text style=background-color:#00ff002e>last</text> <text style=background-color:#00ff002c>of</text> <text style=background-color:#00ff002d>the</text> <text style=background-color:#00ff0000>sleepwalkers</text> <text style=background-color:#00ff001c>and</text> <text style=background-color:#00ff0016>they</text> <text style=background-color:#00ff001b>are</text> <text style=background-color:#00ff001a>on</text> <text style=background-color:#00ff002d>the</text> <text style=background-color:#00ff0000>prowl</text> <text style=background-color:#00ff001c>for</text> <text style=background-color:#00ff0001>virgins</text> <text style=background-color:#00ff001b>to</text> <text style=background-color:#00ff0013>feed</text> <text style=background-color:#00ff001a>on</text> <text style=background-color:#00ff002d>the</text> <text style=background-color:#00ff001d>mother</text> <text style=background-color:#00ff0001>sends</text> <text style=background-color:#00ff0006>her</text> <text style=background-color:#00ff000b>son</text> <text style=background-color:#00ff001b>out</text> <text style=background-color:#00ff001b>to</text> <text style=background-color:#00ff0000>enrol</text> <text style=background-color:#00ff0018>at</text> <text style=background-color:#00ff002d>the</text> <text style=background-color:#00ff0016>local</text> <text style=background-color:#00ff001e>high</text> <text style=background-color:#00ff0030>school</text> <text style=background-color:#00ff0024>so</text> <text style=background-color:#00ff001d>he</text> <text style=background-color:#00ff0011>can</text> <text style=background-color:#00ff0018>find</text> <text style=background-color:#00ff0022>a</text> <text style=background-color:#00ff0015>virgin</text> <text style=background-color:#00ff001d>he</text> <text style=background-color:#00ff001b>does</text> <text style=background-color:#00ff0000>madchen</text> <text style=background-color:#00ff0000>amick</text> <text style=background-color:#00ff001c>and</text> <text style=background-color:#00ff0000>proceeds</text> <text style=background-color:#00ff001b>to</text> <text style=background-color:#00ff0019>try</text> <text style=background-color:#00ff001b>to</text> <text style=background-color:#00ff0012>get</text> <text style=background-color:#00ff0006>her</text> <text style=background-color:#00ff0031>alone</text> <text style=background-color:#00ff0024>so</text> <text style=background-color:#00ff001d>he</text> <text style=background-color:#00ff0011>can</text> <text style=background-color:#00ff0012>suck</text> <text style=background-color:#00ff0006>her</text> <text style=background-color:#00ff0003>dry</text> <text style=background-color:#00ff0022>it</text> <text style=background-color:#00ff002d>is</text> <text style=background-color:#00ff001e>not</text> <text style=background-color:#00ff0026>made</text> <text style=background-color:#00ff0007>clear</text> <text style=background-color:#00ff0020>why</text> <text style=background-color:#00ff002d>the</text> <text style=background-color:#00ff001d>mother</text> <text style=background-color:#00ff0018>cannot</text> <text style=background-color:#00ff0004>seek</text> <text style=background-color:#00ff001b>out</text> <text style=background-color:#00ff0001>virgins</text> <text style=background-color:#00ff0006>herself</text> <text style=background-color:#00ff0022>it</text> <text style=background-color:#00ff0014>would</text> <text style=background-color:#00ff001e>make</text> <text style=background-color:#00ff002c>things</text> <text style=background-color:#00ff000c>easier</text> <text style=background-color:#00ff0031>one</text> <text style=background-color:#00ff0014>would</text> <text style=background-color:#00ff0036>imagine</text> <text style=background-color:#00ff001c>as</text> <text style=background-color:#00ff0031>teenage</text> <text style=background-color:#00ff0022>boys</text> <text style=background-color:#00ff001b>are</text> <text style=background-color:#00ff001b>much</text> <text style=background-color:#00ff0016>more</text> <text style=background-color:#00ff0002>apt</text> <text style=background-color:#00ff001b>to</text> <text style=background-color:#00ff0003>follow</text> <text style=background-color:#00ff0022>a</text> <text style=background-color:#00ff000d>older</text> <text style=background-color:#00ff0019>beautiful</text> <text style=background-color:#00ff0014>woman</text> <text style=background-color:#00ff001b>to</text> <text style=background-color:#00ff0022>a</text> <text style=background-color:#00ff0001>secluded</text> <text style=background-color:#00ff000b>area</text> <text style=background-color:#00ff0022>than</text> <text style=background-color:#00ff0022>a</text> <text style=background-color:#00ff0042>teen</text> <text style=background-color:#00ff0024>girl</text> <text style=background-color:#00ff0003>follow</text> <text style=background-color:#00ff0022>a</text> <text style=background-color:#00ff0042>teen</text> <text style=background-color:#00ff002e>boy</text> <text style=background-color:#00ff000d>however</text> <text style=background-color:#00ff0012>his</text> <text style=background-color:#00ff000c>plans</text> <text style=background-color:#00ff001b>are</text> <text style=background-color:#00ff0000>thwarted</text> <text style=background-color:#00ff001c>as</text> <text style=background-color:#00ff002d>the</text> <text style=background-color:#00ff0024>girl</text> <text style=background-color:#00ff0012>fights</text> <text style=background-color:#00ff0007>back</text> <text style=background-color:#00ff0000>jabbing</text> <text style=background-color:#00ff0022>a</text> <text style=background-color:#00ff0009>pencil</text> <text style=background-color:#00ff001c>in</text> <text style=background-color:#00ff001b>to</text> <text style=background-color:#00ff0012>his</text> <text style=background-color:#00ff0006>ear</text> <text style=background-color:#00ff002d>the</text> <text style=background-color:#00ff0007>police</text> <text style=background-color:#00ff001b>are</text> <text style=background-color:#00ff0023>called</text> <text style=background-color:#00ff001c>and</text> <text style=background-color:#00ff002d>the</text> <text style=background-color:#00ff0016>hunt</text> <text style=background-color:#00ff002d>is</text> <text style=background-color:#00ff001a>on</text> <text style=background-color:#00ff002d>the</text> <text style=background-color:#00ff000b>son</text> <text style=background-color:#00ff002d>is</text> <text style=background-color:#00ff002a>sick</text> <text style=background-color:#00ff0018>from</text> <text style=background-color:#00ff0012>his</text> <text style=background-color:#00ff0002>injuries</text> <text style=background-color:#00ff001c>and</text> <text style=background-color:#00ff0024>so</text> <text style=background-color:#00ff002d>the</text> <text style=background-color:#00ff001d>mother</text> <text style=background-color:#00ff0019>goes</text> <text style=background-color:#00ff001a>on</text> <text style=background-color:#00ff002d>the</text> <text style=background-color:#00ff0006>rampage</text> <text style=background-color:#00ff0015>killing</text> <text style=background-color:#00ff0007>cops</text> <text style=background-color:#00ff000e>left</text> <text style=background-color:#00ff001c>and</text> <text style=background-color:#00ff0020>right</text> <text style=background-color:#00ff001c>in</text> <text style=background-color:#00ff0006>her</text> <text style=background-color:#00ff0016>hunt</text> <text style=background-color:#00ff001c>for</text> <text style=background-color:#00ff002d>the</text> <text style=background-color:#00ff0024>girl</text> <text style=background-color:#00ff0013>who</text> <text style=background-color:#00ff0008>hurt</text> <text style=background-color:#00ff0006>her</text> <text style=background-color:#00ff000b>son</text> <text style=background-color:#00ff001c>and</text> <text style=background-color:#00ff0000>spouting</text> <text style=background-color:#00ff001e>some</text> <text style=background-color:#00ff0003>painfully</text> <text style=background-color:#00ff0008>unfunny</text> <text style=background-color:#00ff0031>one</text> <text style=background-color:#00ff0001>liners</text> <text style=background-color:#00ff0001>amidst</text> <text style=background-color:#00ff002d>the</text> <text style=background-color:#00ff0001>gore</text> <text style=background-color:#00ff0019>finally</text> <text style=background-color:#00ff002d>the</text> <text style=background-color:#00ff0024>girl</text> <text style=background-color:#00ff0011>kills</text> <text style=background-color:#00ff002d>the</text> <text style=background-color:#00ff001d>mother</text> <text style=background-color:#00ff0025>end</text> <text style=background-color:#00ff002c>of</text> <text style=background-color:#00ff008b>movie</text> <text style=background-color:#00ff002b>this</text> <text style=background-color:#00ff008b>movie</text> <text style=background-color:#00ff002d>is</text> <text style=background-color:#00ff0011>rubbish</text> <text style=background-color:#00ff002d>the</text> <text style=background-color:#00ff001e>acting</text> <text style=background-color:#00ff002d>is</text> <text style=background-color:#00ff0001>variable</text> <text style=background-color:#00ff0018>from</text> <text style=background-color:#00ff002d>the</text> <text style=background-color:#00ff0006>average</text> <text style=background-color:#00ff0016>brian</text> <text style=background-color:#00ff0000>krause</text> <text style=background-color:#00ff001b>to</text> <text style=background-color:#00ff002d>the</text> <text style=background-color:#00ff0011>excellent</text> <text style=background-color:#00ff0019>alice</text> <text style=background-color:#00ff0000>krige</text> <text style=background-color:#00ff002d>the</text> <text style=background-color:#00ff0022>special</text> <text style=background-color:#00ff001d>effects</text> <text style=background-color:#00ff001b>are</text> <text style=background-color:#00ff0006>average</text> <text style=background-color:#00ff001c>and</text> <text style=background-color:#00ff0012>showcase</text> <text style=background-color:#00ff001e>some</text> <text style=background-color:#00ff0016>early</text> <text style=background-color:#00ff001a>computer</text> <text style=background-color:#00ff001d>effects</text> <text style=background-color:#00ff0023>which</text> <text style=background-color:#00ff002d>is</text> <text style=background-color:#00ff0000>mildly</text> <text style=background-color:#00ff002c>interesting</text> <text style=background-color:#00ff001c>as</text> <text style=background-color:#00ff0022>it</text> <text style=background-color:#00ff003a>shows</text> <text style=background-color:#00ff001e>how</text> <text style=background-color:#00ff001f>far</text> <text style=background-color:#00ff0033>such</text> <text style=background-color:#00ff002c>things</text> <text style=background-color:#00ff001f>have</text> <text style=background-color:#00ff0000>progressed</text> <text style=background-color:#00ff001c>in</text> <text style=background-color:#00ff0033>such</text> <text style=background-color:#00ff0022>a</text> <text style=background-color:#00ff0025>short</text> <text style=background-color:#00ff003a>time</text> <text style=background-color:#00ff002d>the</text> <text style=background-color:#00ff0021>direction</text> <text style=background-color:#00ff002d>is</text> <text style=background-color:#00ff0000>muddled</text> <text style=background-color:#00ff001c>and</text> <text style=background-color:#00ff002d>the</text> <text style=background-color:#00ff004e>film</text> <text style=background-color:#00ff0004>falls</text> <text style=background-color:#00ff001c>in</text> <text style=background-color:#00ff001b>to</text> <text style=background-color:#00ff0030>camp</text> <text style=background-color:#00ff001c>in</text> <text style=background-color:#00ff0009>places</text> <text style=background-color:#00ff002d>the</text> <text style=background-color:#00ff0018>director</text> <text style=background-color:#00ff0018>seems</text> <text style=background-color:#00ff0001>unsure</text> <text style=background-color:#00ff000d>whether</text> <text style=background-color:#00ff0025>we</text> <text style=background-color:#00ff001b>are</text> <text style=background-color:#00ff0016>supposed</text> <text style=background-color:#00ff001b>to</text> <text style=background-color:#00ff0018>fear</text> <text style=background-color:#00ff002d>the</text> <text style=background-color:#00ff0000>sleepwalkers</text> <text style=background-color:#00ff001e>or</text> <text style=background-color:#00ff0000>sympathise</text> <text style=background-color:#00ff001f>with</text> <text style=background-color:#00ff000d>them</text> <text style=background-color:#00ff001c>and</text> <text style=background-color:#00ff001f>when</text> <text style=background-color:#00ff001c>in</text> <text style=background-color:#00ff0016>doubt</text> <text style=background-color:#00ff0003>allows</text> <text style=background-color:#00ff002d>the</text> <text style=background-color:#00ff004e>film</text> <text style=background-color:#00ff001b>to</text> <text style=background-color:#00ff001a>become</text> <text style=background-color:#00ff000b>hysterical</text> <text style=background-color:#00ff000f>stephen</text> <text style=background-color:#00ff0030>king</text> <text style=background-color:#00ff0028>makes</text> <text style=background-color:#00ff0022>a</text> <text style=background-color:#00ff0000>mildly</text> <text style=background-color:#00ff0008>amusing</text> <text style=background-color:#00ff000e>cameo</text> <text style=background-color:#00ff001c>as</text> <text style=background-color:#00ff001e>an</text> <text style=background-color:#00ff001a>annoying</text> <text style=background-color:#00ff0001>gardener</text> <text style=background-color:#00ff001c>as</text> <text style=background-color:#00ff001b>does</text> <text style=background-color:#00ff0013>mark</text> <text style=background-color:#00ff0000>hamill</text> <text style=background-color:#00ff001c>as</text> <text style=background-color:#00ff0022>a</text> <text style=background-color:#00ff0000>puzzled</text> <text style=background-color:#00ff000a>cop</text> <text style=background-color:#00ff0019>alice</text> <text style=background-color:#00ff0000>krige</text> <text style=background-color:#00ff0018>seems</text> <text style=background-color:#00ff001b>to</text> <text style=background-color:#00ff0001>shoulder</text> <text style=background-color:#00ff002d>the</text> <text style=background-color:#00ff004e>film</text> <text style=background-color:#00ff0006>her</text> <text style=background-color:#00ff004f>character</text> <text style=background-color:#00ff002d>is</text> <text style=background-color:#00ff000b>given</text> <text style=background-color:#00ff0005>depth</text> <text style=background-color:#00ff001c>and</text> <text style=background-color:#00ff0012>she</text> <text style=background-color:#00ff000d>gives</text> <text style=background-color:#00ff001e>an</text> <text style=background-color:#00ff0003>indication</text> <text style=background-color:#00ff002c>of</text> <text style=background-color:#00ff002c>what</text> <text style=background-color:#00ff002d>the</text> <text style=background-color:#00ff004e>film</text> <text style=background-color:#00ff0016>could</text> <text style=background-color:#00ff001f>have</text> <text style=background-color:#00ff0016>been</text> <text style=background-color:#00ff001f>with</text> <text style=background-color:#00ff0022>a</text> <text style=background-color:#00ff001e>better</text> <text style=background-color:#00ff000e>screenplay</text> <text style=background-color:#00ff001c>and</text> <text style=background-color:#00ff001e>better</text> <text style=background-color:#00ff0021>direction</text> <br> <text style=background-color:#00ff002d>this</text> <text style=background-color:#00ff0018>mess</text> <text style=background-color:#00ff002f>is</text> <text style=background-color:#00ff0025>so</text> <text style=background-color:#00ff003b>bad</text> <text style=background-color:#00ff0023>it</text> <text style=background-color:#00ff0000>doesn</text> <text style=background-color:#00ff000a>t</text> <text style=background-color:#00ff0024>even</text> <text style=background-color:#00ff0001>qualify</text> <text style=background-color:#00ff001d>as</text> <text style=background-color:#00ff00ff>horror</text> <text style=background-color:#00ff0009>br</text> <text style=background-color:#00ff0009>br</text> <text style=background-color:#00ff0001>debbie</text> <text style=background-color:#00ff0000>rochon</text> <text style=background-color:#00ff000d>s</text> <text style=background-color:#00ff002c>talent</text> <text style=background-color:#00ff002f>is</text> <text style=background-color:#00ff000f>completely</text> <text style=background-color:#00ff000f>wasted</text> <text style=background-color:#00ff001d>in</text> <text style=background-color:#00ff002d>this</text> <text style=background-color:#00ff0050>film</text> <text style=background-color:#00ff0013>she</text> <text style=background-color:#00ff002f>is</text> <text style=background-color:#00ff001f>not</text> <text style=background-color:#00ff0024>even</text> <text style=background-color:#00ff002e>the</text> <text style=background-color:#00ff0034>villain</text> <text style=background-color:#00ff002e>the</text> <text style=background-color:#00ff0020>rest</text> <text style=background-color:#00ff002d>of</text> <text style=background-color:#00ff002e>the</text> <text style=background-color:#00ff0020>actors</text> <text style=background-color:#00ff001f>look</text> <text style=background-color:#00ff0026>like</text> <text style=background-color:#00ff002a>porno</text> <text style=background-color:#00ff0001>wannabes</text> <text style=background-color:#00ff001e>and</text> <text style=background-color:#00ff002e>the</text> <text style=background-color:#00ff0034>plot</text> <text style=background-color:#00ff002f>is</text> <text style=background-color:#00ff0025>so</text> <text style=background-color:#00ff0010>lame</text> <text style=background-color:#00ff001c>i</text> <text style=background-color:#00ff0015>won</text> <text style=background-color:#00ff000a>t</text> <text style=background-color:#00ff0024>even</text> <text style=background-color:#00ff0007>mention</text> <text style=background-color:#00ff0023>it</text> <text style=background-color:#00ff0009>br</text> <text style=background-color:#00ff0009>br</text> <text style=background-color:#00ff0020>do</text> <text style=background-color:#00ff000f>yourself</text> <text style=background-color:#00ff0024>a</text> <text style=background-color:#00ff0003>favor</text> <text style=background-color:#00ff001e>and</text> <text style=background-color:#00ff0015>skip</text> <text style=background-color:#00ff001c>to</text> <text style=background-color:#00ff002e>the</text> <text style=background-color:#00ff0026>end</text> <text style=background-color:#00ff0003>credits</text> <text style=background-color:#00ff001c>to</text> <text style=background-color:#00ff0028>hear</text> <text style=background-color:#00ff001e>upcoming</text> <text style=background-color:#00ff004e>band</text> <text style=background-color:#00ff0000>twomarlowe</text> <text style=background-color:#00ff0029>perform</text> <text style=background-color:#00ff001f>better</text> <text style=background-color:#00ff0024>than</text> <text style=background-color:#00ff002b>sex</text> <text style=background-color:#00ff0023>it</text> <text style=background-color:#00ff000d>s</text> <text style=background-color:#00ff001c>total</text> <text style=background-color:#00ff000d>s</text> <text style=background-color:#00ff0035>disco</text> <text style=background-color:#00ff0025>candy</text> <text style=background-color:#00ff005f>song</text> <text style=background-color:#00ff0013>nice</text> <text style=background-color:#00ff0019>up</text> <text style=background-color:#00ff0005>tempo</text> <text style=background-color:#00ff005f>song</text> <text style=background-color:#00ff0029>about</text> <text style=background-color:#00ff0000>gambleing</text> <text style=background-color:#00ff002b>sex</text> <text style=background-color:#00ff0025>way</text> <text style=background-color:#00ff0018>more</text> <text style=background-color:#00ff0018>entertaining</text> <text style=background-color:#00ff0024>than</text> <text style=background-color:#00ff0008>bleed</text> <text style=background-color:#00ff0019>put</text> <text style=background-color:#00ff0023>it</text> <text style=background-color:#00ff002d>this</text> <text style=background-color:#00ff0025>way</text> <text style=background-color:#00ff0020>when</text> <text style=background-color:#00ff0033>one</text> <text style=background-color:#00ff001e>has</text> <text style=background-color:#00ff002e>the</text> <text style=background-color:#00ff0006>equipment</text> <text style=background-color:#00ff001c>to</text> <text style=background-color:#00ff0019>copy</text> <text style=background-color:#00ff0037>videos</text> <text style=background-color:#00ff0022>but</text> <text style=background-color:#00ff000c>decides</text> <text style=background-color:#00ff001a>only</text> <text style=background-color:#00ff001c>to</text> <text style=background-color:#00ff0025>record</text> <text style=background-color:#00ff002e>the</text> <text style=background-color:#00ff005f>song</text> <text style=background-color:#00ff0019>at</text> <text style=background-color:#00ff002e>the</text> <text style=background-color:#00ff0026>end</text> <text style=background-color:#00ff002d>of</text> <text style=background-color:#00ff008c>movie</text> <text style=background-color:#00ff0018>you</text> <text style=background-color:#00ff0020>have</text> <text style=background-color:#00ff0024>a</text> <text style=background-color:#00ff0023>really</text> <text style=background-color:#00ff003b>bad</text> <text style=background-color:#00ff008c>movie</text> <br> <text style=background-color:#00ff0026>first</text> <text style=background-color:#00ff0025>things</text> <text style=background-color:#00ff0026>first</text> <text style=background-color:#00ff0026>the</text> <text style=background-color:#00ff000f>female</text> <text style=background-color:#00ff000a>lead</text> <text style=background-color:#00ff0026>is</text> <text style=background-color:#00ff0012>too</text> <text style=background-color:#00ff0005>gorgeous</text> <text style=background-color:#00ff0015>to</text> <text style=background-color:#00ff0010>be</text> <text style=background-color:#00ff0010>missed</text> <text style=background-color:#00ff001e>now</text> <text style=background-color:#00ff000d>actress</text> <text style=background-color:#00ff0000>wang</text> <text style=background-color:#00ff0000>zu</text> <text style=background-color:#00ff0000>xian</text> <text style=background-color:#00ff0026>the</text> <text style=background-color:#00ff002a>one</text> <text style=background-color:#00ff000e>who</text> <text style=background-color:#00ff001c>played</text> <text style=background-color:#00ff0000>xiao</text> <text style=background-color:#00ff0000>qian</text> <text style=background-color:#00ff0016>in</text> <text style=background-color:#00ff0026>the</text> <text style=background-color:#00ff0083>movie</text> <text style=background-color:#00ff0026>is</text> <text style=background-color:#00ff001d>years</text> <text style=background-color:#00ff0024>old</text> <text style=background-color:#00ff0017>and</text> <text style=background-color:#00ff0015>well</text> <text style=background-color:#00ff0002>aged</text> <text style=background-color:#00ff001c>it</text> <text style=background-color:#00ff0009>s</text> <text style=background-color:#00ff0015>always</text> <text style=background-color:#00ff0020>good</text> <text style=background-color:#00ff0015>to</text> <text style=background-color:#00ff0023>review</text> <text style=background-color:#00ff0010>these</text> <text style=background-color:#00ff0009>glorious</text> <text style=background-color:#00ff001f>times</text> <text style=background-color:#00ff0019>when</text> <text style=background-color:#00ff0016>seeing</text> <text style=background-color:#00ff0024>old</text> <text style=background-color:#00ff0028>school</text> <text style=background-color:#00ff0001>hongkong</text> <text style=background-color:#00ff0003>productions</text> <text style=background-color:#00ff001e>like</text> <text style=background-color:#00ff0024>this</text> <text style=background-color:#00ff0006>br</text> <text style=background-color:#00ff0006>br</text> <text style=background-color:#00ff0026>the</text> <text style=background-color:#00ff0083>movie</text> <text style=background-color:#00ff0026>is</text> <text style=background-color:#00ff002a>one</text> <text style=background-color:#00ff0025>of</text> <text style=background-color:#00ff0026>the</text> <text style=background-color:#00ff0019>most</text> <text style=background-color:#00ff0003>influential</text> <text style=background-color:#00ff000c>titles</text> <text style=background-color:#00ff0020>made</text> <text style=background-color:#00ff0016>in</text> <text style=background-color:#00ff0009>s</text> <text style=background-color:#00ff0026>the</text> <text style=background-color:#00ff0028>art</text> <text style=background-color:#00ff001b>set</text> <text style=background-color:#00ff0001>decoration</text> <text style=background-color:#00ff0017>and</text> <text style=background-color:#00ff0014>other</text> <text style=background-color:#00ff0001>aesthetic</text> <text style=background-color:#00ff0000>facets</text> <text style=background-color:#00ff0016>are</text> <text style=background-color:#00ff0017>all</text> <text style=background-color:#00ff0000>mesmerizing</text> <text style=background-color:#00ff0011>more</text> <text style=background-color:#00ff0001>fantastically</text> <text style=background-color:#00ff0026>the</text> <text style=background-color:#00ff0083>movie</text> <text style=background-color:#00ff0019>had</text> <text style=background-color:#00ff001c>a</text> <text style=background-color:#00ff0015>total</text> <text style=background-color:#00ff0017>black</text> <text style=background-color:#00ff0001>humorous</text> <text style=background-color:#00ff0000>undertone</text> <text style=background-color:#00ff0016>in</text> <text style=background-color:#00ff001c>it</text> <text style=background-color:#00ff001c>it</text> <text style=background-color:#00ff0016>feels</text> <text style=background-color:#00ff001e>like</text> <text style=background-color:#00ff001c>a</text> <text style=background-color:#00ff00ff>horror</text> <text style=background-color:#00ff0083>movie</text> <text style=background-color:#00ff001a>but</text> <text style=background-color:#00ff0002>ultimately</text> <text style=background-color:#00ff001c>it</text> <text style=background-color:#00ff0009>s</text> <text style=background-color:#00ff0018>not</text> <text style=background-color:#00ff0001>scaring</text> <text style=background-color:#00ff001a>but</text> <text style=background-color:#00ff0013>only</text> <text style=background-color:#00ff002e>fun</text> <text style=background-color:#00ff0006>br</text> <text style=background-color:#00ff0006>br</text> <text style=background-color:#00ff0016>i</text> <text style=background-color:#00ff0019>had</text> <text style=background-color:#00ff0026>the</text> <text style=background-color:#00ff0028>experience</text> <text style=background-color:#00ff0025>of</text> <text style=background-color:#00ff0001>translating</text> <text style=background-color:#00ff0026>the</text> <text style=background-color:#00ff0019>second</text> <text style=background-color:#00ff0037>script</text> <text style=background-color:#00ff0025>of</text> <text style=background-color:#00ff001c>a</text> <text style=background-color:#00ff0018>chinese</text> <text style=background-color:#00ff0000>ghotst</text> <text style=background-color:#00ff005d>story</text> <text style=background-color:#00ff0017>and</text> <text style=background-color:#00ff0016>i</text> <text style=background-color:#00ff001c>thought</text> <text style=background-color:#00ff001d>that</text> <text style=background-color:#00ff0037>script</text> <text style=background-color:#00ff001f>was</text> <text style=background-color:#00ff001c>a</text> <text style=background-color:#00ff0011>decent</text> <text style=background-color:#00ff001b>write</text> <text style=background-color:#00ff0009>however</text> <text style=background-color:#00ff0019>when</text> <text style=background-color:#00ff0016>i</text> <text style=background-color:#00ff0010>saw</text> <text style=background-color:#00ff0026>the</text> <text style=background-color:#00ff0083>movie</text> <text style=background-color:#00ff0016>i</text> <text style=background-color:#00ff0000>firstly</text> <text style=background-color:#00ff001f>was</text> <text style=background-color:#00ff000a>disappointed</text> <text style=background-color:#00ff0016>in</text> <text style=background-color:#00ff0016>seeing</text> <text style=background-color:#00ff0026>the</text> <text style=background-color:#00ff0083>movie</text> <text style=background-color:#00ff0018>different</text> <text style=background-color:#00ff0012>from</text> <text style=background-color:#00ff0026>the</text> <text style=background-color:#00ff0037>script</text> <text style=background-color:#00ff001e>like</text> <text style=background-color:#00ff0016>in</text> <text style=background-color:#00ff001c>a</text> <text style=background-color:#00ff0001>smaller</text> <text style=background-color:#00ff0004>scale</text> <text style=background-color:#00ff0017>and</text> <text style=background-color:#00ff0006>involving</text> <text style=background-color:#00ff0011>more</text> <text style=background-color:#00ff0054>comic</text> <text style=background-color:#00ff000c>roles</text> <text style=background-color:#00ff0009>however</text> <text style=background-color:#00ff001c>it</text> <text style=background-color:#00ff0012>turned</text> <text style=background-color:#00ff0015>out</text> <text style=background-color:#00ff0015>to</text> <text style=background-color:#00ff0010>be</text> <text style=background-color:#00ff0018>better</text> <text style=background-color:#00ff0000>executed</text> <text style=background-color:#00ff0016>in</text> <text style=background-color:#00ff0005>terms</text> <text style=background-color:#00ff0025>of</text> <text style=background-color:#00ff0010>being</text> <text style=background-color:#00ff0012>entertaining</text> <text style=background-color:#00ff0006>br</text> <text style=background-color:#00ff0006>br</text> <text style=background-color:#00ff000e>if</text> <text style=background-color:#00ff0012>you</text> <text style=background-color:#00ff0019>have</text> <text style=background-color:#00ff001d>seen</text> <text style=background-color:#00ff0026>the</text> <text style=background-color:#00ff0011>lord</text> <text style=background-color:#00ff0025>of</text> <text style=background-color:#00ff0026>the</text> <text style=background-color:#00ff0008>rings</text> <text style=background-color:#00ff0012>you</text> <text style=background-color:#00ff0011>will</text> <text style=background-color:#00ff0005>notice</text> <text style=background-color:#00ff0026>the</text> <text style=background-color:#00ff0002>similarities</text> <text style=background-color:#00ff0016>in</text> <text style=background-color:#00ff0024>this</text> <text style=background-color:#00ff0083>movie</text> <text style=background-color:#00ff0015>to</text> <text style=background-color:#00ff001d>lotr</text> <text style=background-color:#00ff0026>the</text> <text style=background-color:#00ff0017>climax</text> <text style=background-color:#00ff0026>is</text> <text style=background-color:#00ff001e>like</text> <text style=background-color:#00ff001c>a</text> <text style=background-color:#00ff000b>mirror</text> <text style=background-color:#00ff0025>of</text> <text style=background-color:#00ff0003>miranda</text> <text style=background-color:#00ff0000>otto</text> <text style=background-color:#00ff0012>fighting</text> <text style=background-color:#00ff0019>with</text> <text style=background-color:#00ff0026>the</text> <text style=background-color:#00ff000c>ring</text> <text style=background-color:#00ff0028>witch</text> <text style=background-color:#00ff001c>it</text> <text style=background-color:#00ff0009>s</text> <text style=background-color:#00ff001e>definitely</text> <text style=background-color:#00ff001c>a</text> <text style=background-color:#00ff0017>laugh</text> <text style=background-color:#00ff0015>out</text> <text style=background-color:#00ff0014>loud</text> <text style=background-color:#00ff0003>bravo</text> <br> <text style=background-color:#00ff0019>a</text> <text style=background-color:#00ff0006>small</text> <text style=background-color:#00ff000d>town</text> <text style=background-color:#00ff0023>is</text> <text style=background-color:#00ff0001>attacked</text> <text style=background-color:#00ff0013>by</text> <text style=background-color:#00ff0019>a</text> <text style=background-color:#00ff0005>horde</text> <text style=background-color:#00ff0022>of</text> <text style=background-color:#00ff0000>bloodthirsty</text> <text style=background-color:#00ff0011>vampires</text> <text style=background-color:#00ff0023>the</text> <text style=background-color:#00ff0011>only</text> <text style=background-color:#00ff000c>hope</text> <text style=background-color:#00ff0023>is</text> <text style=background-color:#00ff0019>a</text> <text style=background-color:#00ff0005>lone</text> <text style=background-color:#00ff0007>avenger</text> <text style=background-color:#00ff0014>and</text> <text style=background-color:#00ff0019>a</text> <text style=background-color:#00ff0016>group</text> <text style=background-color:#00ff0022>of</text> <text style=background-color:#00ff0000>ragtag</text> <text style=background-color:#00ff0001>survivors</text> <text style=background-color:#00ff0005>br</text> <text style=background-color:#00ff0005>br</text> <text style=background-color:#00ff000c>released</text> <text style=background-color:#00ff0014>in</text> <text style=background-color:#00ff000c>darkness</text> <text style=background-color:#00ff0000>garnered</text> <text style=background-color:#00ff0016>something</text> <text style=background-color:#00ff0022>of</text> <text style=background-color:#00ff0019>a</text> <text style=background-color:#00ff0029>cult</text> <text style=background-color:#00ff0002>following</text> <text style=background-color:#00ff0007>upon</text> <text style=background-color:#00ff0013>release</text> <text style=background-color:#00ff0019>it</text> <text style=background-color:#00ff0007>s</text> <text style=background-color:#00ff0013>easy</text> <text style=background-color:#00ff0013>to</text> <text style=background-color:#00ff0015>see</text> <text style=background-color:#00ff0017>why</text> <text style=background-color:#00ff0019>it</text> <text style=background-color:#00ff0007>s</text> <text style=background-color:#00ff0001>loaded</text> <text style=background-color:#00ff0014>and</text> <text style=background-color:#00ff0013>i</text> <text style=background-color:#00ff000d>mean</text> <text style=background-color:#00ff001a>freaking</text> <text style=background-color:#00ff0001>loaded</text> <text style=background-color:#00ff0017>with</text> <text style=background-color:#00ff0000>gore</text> <text style=background-color:#00ff0014>and</text> <text style=background-color:#00ff0019>it</text> <text style=background-color:#00ff0007>s</text> <text style=background-color:#00ff0008>energy</text> <text style=background-color:#00ff0014>and</text> <text style=background-color:#00ff0001>enthusiasm</text> <text style=background-color:#00ff001b>like</text> <text style=background-color:#00ff001a>that</text> <text style=background-color:#00ff0012>found</text> <text style=background-color:#00ff0014>in</text> <text style=background-color:#00ff0011>other</text> <text style=background-color:#00ff0017>no</text> <text style=background-color:#00ff0002>budget</text> <text style=background-color:#00ff0029>cult</text> <text style=background-color:#00ff00ff>horror</text> <text style=background-color:#00ff0000>flicks</text> <text style=background-color:#00ff001b>like</text> <text style=background-color:#00ff0023>the</text> <text style=background-color:#00ff0033>dead</text> <text style=background-color:#00ff001e>next</text> <text style=background-color:#00ff0007>door</text> <text style=background-color:#00ff0014>and</text> <text style=background-color:#00ff0023>the</text> <text style=background-color:#00ff000a>children</text> <text style=background-color:#00ff0022>of</text> <text style=background-color:#00ff0000>ravensback</text> <text style=background-color:#00ff0023>is</text> <text style=background-color:#00ff0025>actually</text> <text style=background-color:#00ff000a>rather</text> <text style=background-color:#00ff0001>infectious</text> <text style=background-color:#00ff0005>br</text> <text style=background-color:#00ff0005>br</text> <text style=background-color:#00ff0015>while</text> <text style=background-color:#00ff001a>that</text> <text style=background-color:#00ff0015>may</text> <text style=background-color:#00ff000e>be</text> <text style=background-color:#00ff002b>true</text> <text style=background-color:#00ff001a>that</text> <text style=background-color:#00ff0007>s</text> <text style=background-color:#00ff0008>sadly</text> <text style=background-color:#00ff0015>not</text> <text style=background-color:#00ff0013>enough</text> <text style=background-color:#00ff0013>to</text> <text style=background-color:#00ff0009>save</text> <text style=background-color:#00ff0019>it</text> <text style=background-color:#00ff0023>the</text> <text style=background-color:#00ff0042>film</text> <text style=background-color:#00ff001c>was</text> <text style=background-color:#00ff0012>shot</text> <text style=background-color:#00ff0012>on</text> <text style=background-color:#00ff0019>a</text> <text style=background-color:#00ff0024>super</text> <text style=background-color:#00ff001b>so</text> <text style=background-color:#00ff0023>the</text> <text style=background-color:#00ff000d>image</text> <text style=background-color:#00ff0023>is</text> <text style=background-color:#00ff0000>grainy</text> <text style=background-color:#00ff0014>and</text> <text style=background-color:#00ff002f>dark</text> <text style=background-color:#00ff0019>making</text> <text style=background-color:#00ff0022>things</text> <text style=background-color:#00ff0010>very</text> <text style=background-color:#00ff000b>difficult</text> <text style=background-color:#00ff0013>to</text> <text style=background-color:#00ff0015>see</text> <text style=background-color:#00ff0019>it</text> <text style=background-color:#00ff000d>would</text> <text style=background-color:#00ff0016>have</text> <text style=background-color:#00ff000f>been</text> <text style=background-color:#00ff001d>great</text> <text style=background-color:#00ff000c>if</text> <text style=background-color:#00ff0019>it</text> <text style=background-color:#00ff0017>had</text> <text style=background-color:#00ff0000>obscured</text> <text style=background-color:#00ff0023>the</text> <text style=background-color:#00ff0000>protagonists</text> <text style=background-color:#00ff0006>dreadful</text> <text style=background-color:#00ff0000>mullet</text> <text style=background-color:#00ff0012>also</text> <text style=background-color:#00ff0000>grating</text> <text style=background-color:#00ff0023>is</text> <text style=background-color:#00ff0023>the</text> <text style=background-color:#00ff0057>soundtrack</text> <text style=background-color:#00ff001d>made</text> <text style=background-color:#00ff0011>up</text> <text style=background-color:#00ff0022>of</text> <text style=background-color:#00ff0012>annoying</text> <text style=background-color:#00ff0000>casio</text> <text style=background-color:#00ff000b>keyboard</text> <text style=background-color:#00ff0014>and</text> <text style=background-color:#00ff001a>even</text> <text style=background-color:#00ff000f>more</text> <text style=background-color:#00ff0012>annoying</text> <text style=background-color:#00ff0023>death</text> <text style=background-color:#00ff0032>metal</text> <text style=background-color:#00ff001d>seriously</text> <text style=background-color:#00ff0022>what</text> <text style=background-color:#00ff0023>is</text> <text style=background-color:#00ff0019>it</text> <text style=background-color:#00ff0017>with</text> <text style=background-color:#00ff000e>these</text> <text style=background-color:#00ff0017>no</text> <text style=background-color:#00ff0002>budget</text> <text style=background-color:#00ff00ff>horror</text> <text style=background-color:#00ff0000>flicks</text> <text style=background-color:#00ff0014>and</text> <text style=background-color:#00ff002f>bad</text> <text style=background-color:#00ff0023>death</text> <text style=background-color:#00ff0032>metal</text> <text style=background-color:#00ff0015>while</text> <text style=background-color:#00ff0027>one</text> <text style=background-color:#00ff0000>isn</text> <text style=background-color:#00ff0005>t</text> <text style=background-color:#00ff0004>expecting</text> <text style=background-color:#00ff0017>oscar</text> <text style=background-color:#00ff0007>worthy</text> <text style=background-color:#00ff0011>performances</text> <text style=background-color:#00ff0023>the</text> <text style=background-color:#00ff0016>acting</text> <text style=background-color:#00ff0023>is</text> <text style=background-color:#00ff0012>still</text> <text style=background-color:#00ff0006>strictly</text> <text style=background-color:#00ff0006>amateur</text> <text style=background-color:#00ff0018>hour</text> <text style=background-color:#00ff0014>as</text> <text style=background-color:#00ff0023>the</text> <text style=background-color:#00ff0017>actors</text> <text style=background-color:#00ff0013>sometimes</text> <text style=background-color:#00ff0007>seem</text> <text style=background-color:#00ff0010>almost</text> <text style=background-color:#00ff000e>confused</text> <text style=background-color:#00ff0014>instead</text> <text style=background-color:#00ff0022>of</text> <text style=background-color:#00ff0000>frightened</text> <text style=background-color:#00ff0015>or</text> <text style=background-color:#00ff0000>threatened</text> <text style=background-color:#00ff0005>br</text> <text style=background-color:#00ff0005>br</text> <text style=background-color:#00ff0014>in</text> <text style=background-color:#00ff0023>the</text> <text style=background-color:#00ff001c>end</text> <text style=background-color:#00ff0013>i</text> <text style=background-color:#00ff0006>m</text> <text style=background-color:#00ff0012>sure</text> <text style=background-color:#00ff0014>fans</text> <text style=background-color:#00ff0022>of</text> <text style=background-color:#00ff0017>no</text> <text style=background-color:#00ff0002>budget</text> <text style=background-color:#00ff0000>gorefests</text> <text style=background-color:#00ff000f>will</text> <text style=background-color:#00ff0018>love</text> <text style=background-color:#00ff0021>this</text> <text style=background-color:#00ff0007>everyone</text> <text style=background-color:#00ff000a>else</text> <text style=background-color:#00ff0018>though</text> <text style=background-color:#00ff000f>will</text> <text style=background-color:#00ff0012>wish</text> <text style=background-color:#00ff001b>there</text> <text style=background-color:#00ff001c>was</text> <text style=background-color:#00ff0019>a</text> <text style=background-color:#00ff0024>little</text> <text style=background-color:#00ff000f>more</text> <text style=background-color:#00ff0005>meat</text> <text style=background-color:#00ff0012>on</text> <text style=background-color:#00ff0023>the</text> <text style=background-color:#00ff0001>ribs</text> <br> <text style=background-color:#00ff002a>this</text> <text style=background-color:#00ff004c>film</text> <text style=background-color:#00ff002c>is</text> <text style=background-color:#00ff0041>terrible</text> <text style=background-color:#00ff002c>the</text> <text style=background-color:#00ff0063>story</text> <text style=background-color:#00ff0001>concerns</text> <text style=background-color:#00ff0021>a</text> <text style=background-color:#00ff0013>woman</text> <text style=background-color:#00ff0012>trying</text> <text style=background-color:#00ff0019>to</text> <text style=background-color:#00ff0017>find</text> <text style=background-color:#00ff001a>out</text> <text style=background-color:#00ff002b>what</text> <text style=background-color:#00ff001c>has</text> <text style=background-color:#00ff0023>happened</text> <text style=background-color:#00ff0019>to</text> <text style=background-color:#00ff0006>her</text> <text style=background-color:#00ff0018>sister</text> <text style=background-color:#00ff002c>the</text> <text style=background-color:#00ff004c>film</text> <text style=background-color:#00ff0008>struggles</text> <text style=background-color:#00ff001e>with</text> <text style=background-color:#00ff001f>its</text> <text style=background-color:#00ff0011>identity</text> <text style=background-color:#00ff0000>lurching</text> <text style=background-color:#00ff0017>from</text> <text style=background-color:#00ff0001>noir</text> <text style=background-color:#00ff0049>thriller</text> <text style=background-color:#00ff0019>to</text> <text style=background-color:#00ff000d>erotic</text> <text style=background-color:#00ff001e>with</text> <text style=background-color:#00ff000a>elements</text> <text style=background-color:#00ff002b>of</text> <text style=background-color:#00ff00ff>horror</text> <text style=background-color:#00ff0002>thrown</text> <text style=background-color:#00ff001b>in</text> <text style=background-color:#00ff001b>for</text> <text style=background-color:#00ff0026>good</text> <text style=background-color:#00ff0003>measure</text> <text style=background-color:#00ff002c>the</text> <text style=background-color:#00ff004c>film</text> <text style=background-color:#00ff001c>has</text> <text style=background-color:#00ff0021>a</text> <text style=background-color:#00ff0016>very</text> <text style=background-color:#00ff0014>confused</text> <text style=background-color:#00ff0009>structure</text> <text style=background-color:#00ff001b>for</text> <text style=background-color:#00ff0020>example</text> <text style=background-color:#00ff001e>with</text> <text style=background-color:#00ff0000>frequent</text> <text style=background-color:#00ff0015>use</text> <text style=background-color:#00ff002b>of</text> <text style=background-color:#00ff0009>flashbacks</text> <text style=background-color:#00ff0021>without</text> <text style=background-color:#00ff0000>tying</text> <text style=background-color:#00ff0014>these</text> <text style=background-color:#00ff0019>into</text> <text style=background-color:#00ff002c>the</text> <text style=background-color:#00ff0063>story</text> <text style=background-color:#00ff002c>the</text> <text style=background-color:#00ff0032>plot</text> <text style=background-color:#00ff002c>is</text> <text style=background-color:#00ff0004>poorly</text> <text style=background-color:#00ff0009>developed</text> <text style=background-color:#00ff001b>and</text> <text style=background-color:#00ff002c>the</text> <text style=background-color:#00ff0000>characterisation</text> <text style=background-color:#00ff0025>made</text> <text style=background-color:#00ff0021>it</text> <text style=background-color:#00ff0011>difficult</text> <text style=background-color:#00ff0019>to</text> <text style=background-color:#00ff0001>distinguish</text> <text style=background-color:#00ff0012>between</text> <text style=background-color:#00ff0012>who</text> <text style=background-color:#00ff0024>was</text> <text style=background-color:#00ff0012>who</text> <text style=background-color:#00ff001b>and</text> <text style=background-color:#00ff002c>the</text> <text style=background-color:#00ff0042>part</text> <text style=background-color:#00ff0015>they</text> <text style=background-color:#00ff0019>were</text> <text style=background-color:#00ff0030>playing</text> <text style=background-color:#00ff001d>some</text> <text style=background-color:#00ff0000>implausibilities</text> <text style=background-color:#00ff0019>exist</text> <text style=background-color:#00ff001b>in</text> <text style=background-color:#00ff0014>many</text> <text style=background-color:#00ff003f>films</text> <text style=background-color:#00ff001f>but</text> <text style=background-color:#00ff002c>the</text> <text style=background-color:#00ff0058>scene</text> <text style=background-color:#00ff001c>where</text> <text style=background-color:#00ff002c>the</text> <text style=background-color:#00ff000a>main</text> <text style=background-color:#00ff0005>protagonist</text> <text style=background-color:#00ff0000>willingly</text> <text style=background-color:#00ff0000>accompanies</text> <text style=background-color:#00ff0021>a</text> <text style=background-color:#00ff0017>virtual</text> <text style=background-color:#00ff0009>stranger</text> <text style=background-color:#00ff0019>to</text> <text style=background-color:#00ff0011>his</text> <text style=background-color:#00ff0018>home</text> <text style=background-color:#00ff0019>then</text> <text style=background-color:#00ff0000>agrees</text> <text style=background-color:#00ff0019>to</text> <text style=background-color:#00ff0012>go</text> <text style=background-color:#00ff0003>upstairs</text> <text style=background-color:#00ff002f>alone</text> <text style=background-color:#00ff0019>to</text> <text style=background-color:#00ff001c>where</text> <text style=background-color:#00ff001b>he</text> <text style=background-color:#00ff000b>says</text> <text style=background-color:#00ff0012>she</text> <text style=background-color:#00ff0015>will</text> <text style=background-color:#00ff0017>find</text> <text style=background-color:#00ff0021>a</text> <text style=background-color:#00ff000c>phone</text> <text style=background-color:#00ff000c>minus</text> <text style=background-color:#00ff002c>the</text> <text style=background-color:#00ff0005>gun</text> <text style=background-color:#00ff0012>she</text> <text style=background-color:#00ff001e>had</text> <text style=background-color:#00ff0010>brought</text> <text style=background-color:#00ff001e>with</text> <text style=background-color:#00ff0006>her</text> <text style=background-color:#00ff0019>to</text> <text style=background-color:#00ff0015>call</text> <text style=background-color:#00ff002c>the</text> <text style=background-color:#00ff0006>police</text> <text style=background-color:#00ff0024>was</text> <text style=background-color:#00ff0016>too</text> <text style=background-color:#00ff0025>hard</text> <text style=background-color:#00ff0019>to</text> <text style=background-color:#00ff0031>believe</text> <text style=background-color:#00ff001d>some</text> <text style=background-color:#00ff002b>of</text> <text style=background-color:#00ff002c>the</text> <text style=background-color:#00ff0009>cinematography</text> <text style=background-color:#00ff002c>is</text> <text style=background-color:#00ff0016>very</text> <text style=background-color:#00ff000f>poor</text> <text style=background-color:#00ff0023>we</text> <text style=background-color:#00ff0019>were</text> <text style=background-color:#00ff0041>watching</text> <text style=background-color:#00ff0018>on</text> <text style=background-color:#00ff0021>a</text> <text style=background-color:#00ff004c>tv</text> <text style=background-color:#00ff0023>so</text> <text style=background-color:#00ff001d>how</text> <text style=background-color:#00ff0013>anyone</text> <text style=background-color:#00ff001e>with</text> <text style=background-color:#00ff0021>a</text> <text style=background-color:#00ff0001>smaller</text> <text style=background-color:#00ff0020>set</text> <text style=background-color:#00ff0015>could</text> <text style=background-color:#00ff001e>work</text> <text style=background-color:#00ff001a>out</text> <text style=background-color:#00ff002b>what</text> <text style=background-color:#00ff0024>was</text> <text style=background-color:#00ff0023>happening</text> <text style=background-color:#00ff001b>in</text> <text style=background-color:#00ff002c>the</text> <text style=background-color:#00ff0042>scenes</text> <text style=background-color:#00ff001b>taken</text> <text style=background-color:#00ff001b>in</text> <text style=background-color:#00ff0016>almost</text> <text style=background-color:#00ff003a>complete</text> <text style=background-color:#00ff0011>darkness</text> <text style=background-color:#00ff002c>is</text> <text style=background-color:#00ff0015>beyond</text> <text style=background-color:#00ff0014>me</text> <text style=background-color:#00ff0008>overall</text> <text style=background-color:#00ff0021>a</text> <text style=background-color:#00ff0004>chaotic</text> <text style=background-color:#00ff0015>mess</text>"
            ],
            "text/plain": [
              "<IPython.core.display.HTML object>"
            ]
          },
          "metadata": {
            "tags": []
          },
          "execution_count": 52
        }
      ]
    },
    {
      "metadata": {
        "id": "Pgh8v4V-qxCk",
        "colab_type": "text"
      },
      "cell_type": "markdown",
      "source": [
        "#### Predict sentiment using the word embeddings\n",
        "\n",
        "To use the word embeddings to predict embeddings we'll need to turn them into sentence/document embeddings, so they look more like a traditional dataset.\n",
        "\n",
        "The 'word_to_sentence_embedding' method does this in quite a simple way - delete the embeddings of all the 'stopwords' (common uninformative words like 'a', 'it', etc.) and average the embeddings of the words that are left"
      ]
    },
    {
      "metadata": {
        "id": "8vNUHU1VqxCl",
        "colab_type": "code",
        "outputId": "bd54dba4-d01b-49f6-fc08-c02e65adbd65",
        "colab": {
          "base_uri": "https://localhost:8080/",
          "height": 170
        }
      },
      "cell_type": "code",
      "source": [
        "imdb_task.word_to_sentence_embedding(text_tag='train', pretrained_model_tag='glove-twitter-25')\n",
        "imdb_task.word_to_sentence_embedding(text_tag='test', pretrained_model_tag='glove-twitter-25')"
      ],
      "execution_count": 0,
      "outputs": [
        {
          "output_type": "stream",
          "text": [
            "Embedding 5000 sentences\n",
            "0\n",
            "1000\n",
            "2000\n",
            "3000\n",
            "4000\n",
            "Embedding 2000 sentences\n",
            "0\n",
            "1000\n"
          ],
          "name": "stdout"
        }
      ]
    },
    {
      "metadata": {
        "id": "xswWufLcKpqS",
        "colab_type": "text"
      },
      "cell_type": "markdown",
      "source": [
        "This gets us a traditional looking dataset that's 5000 (the number of training reviews) by 25 (the length of our embedding)"
      ]
    },
    {
      "metadata": {
        "id": "T7VJ0i0AqxCo",
        "colab_type": "code",
        "outputId": "02c2b99d-52c4-4187-e3dd-2bfa8c20869b",
        "colab": {
          "base_uri": "https://localhost:8080/",
          "height": 34
        }
      },
      "cell_type": "code",
      "source": [
        "imdb_task.sent_embeds['train']['glove-twitter-25'].shape"
      ],
      "execution_count": 0,
      "outputs": [
        {
          "output_type": "execute_result",
          "data": {
            "text/plain": [
              "(5000, 25)"
            ]
          },
          "metadata": {
            "tags": []
          },
          "execution_count": 54
        }
      ]
    },
    {
      "metadata": {
        "id": "gtllE1u1K9L6",
        "colab_type": "text"
      },
      "cell_type": "markdown",
      "source": [
        "Fit the logistic regression model as we did before"
      ]
    },
    {
      "metadata": {
        "id": "0KzVJNV8qxCr",
        "colab_type": "code",
        "colab": {}
      },
      "cell_type": "code",
      "source": [
        "log_reg = sklearn.linear_model.LogisticRegression (C=0.1, solver='newton-cg', random_state=46543)"
      ],
      "execution_count": 0,
      "outputs": []
    },
    {
      "metadata": {
        "id": "V8b0ZI25qxCs",
        "colab_type": "code",
        "outputId": "3207fc13-59cf-4832-c835-a0d8982376de",
        "colab": {
          "base_uri": "https://localhost:8080/",
          "height": 85
        }
      },
      "cell_type": "code",
      "source": [
        "log_reg.fit (imdb_task.sent_embeds['train']['glove-twitter-25'], train_labs)"
      ],
      "execution_count": 0,
      "outputs": [
        {
          "output_type": "execute_result",
          "data": {
            "text/plain": [
              "LogisticRegression(C=0.1, class_weight=None, dual=False, fit_intercept=True,\n",
              "          intercept_scaling=1, max_iter=100, multi_class='warn',\n",
              "          n_jobs=None, penalty='l2', random_state=46543,\n",
              "          solver='newton-cg', tol=0.0001, verbose=0, warm_start=False)"
            ]
          },
          "metadata": {
            "tags": []
          },
          "execution_count": 56
        }
      ]
    },
    {
      "metadata": {
        "id": "cNQc1Wm8LAZq",
        "colab_type": "text"
      },
      "cell_type": "markdown",
      "source": [
        "This doesn't do very well: achieving around 74% accuracy on the training and test sets. This is worse than tf-idf for this particular dataset.\n",
        "\n",
        "The problem is almost certainly the length of the text and the simple way we turned word embeddings into sentence embeddings - the reviews are quite long, so there are a lot of words left even after we remove stopwords, so we're probably still including a lot of words that aren't particuarly useful when we average the embeddings.\n",
        "\n",
        "This technique usually does much better on short texts"
      ]
    },
    {
      "metadata": {
        "id": "uwZjJIPWqxCv",
        "colab_type": "code",
        "outputId": "ab3e9bb0-b647-44c1-c352-98ad05ce1ab9",
        "colab": {
          "base_uri": "https://localhost:8080/",
          "height": 34
        }
      },
      "cell_type": "code",
      "source": [
        "log_reg.score(imdb_task.sent_embeds['train']['glove-twitter-25'], train_labs)"
      ],
      "execution_count": 0,
      "outputs": [
        {
          "output_type": "execute_result",
          "data": {
            "text/plain": [
              "0.7444"
            ]
          },
          "metadata": {
            "tags": []
          },
          "execution_count": 57
        }
      ]
    },
    {
      "metadata": {
        "id": "U1jznt7IqxCy",
        "colab_type": "code",
        "outputId": "e0f21b07-ccb9-4f82-82ca-2ed188ebf7b6",
        "colab": {
          "base_uri": "https://localhost:8080/",
          "height": 34
        }
      },
      "cell_type": "code",
      "source": [
        "log_reg.score(imdb_task.sent_embeds['test']['glove-twitter-25'], test_labs)"
      ],
      "execution_count": 0,
      "outputs": [
        {
          "output_type": "execute_result",
          "data": {
            "text/plain": [
              "0.7475"
            ]
          },
          "metadata": {
            "tags": []
          },
          "execution_count": 58
        }
      ]
    },
    {
      "metadata": {
        "id": "3f6we5ieqxC3",
        "colab_type": "code",
        "colab": {}
      },
      "cell_type": "code",
      "source": [
        "#imdb_task.save (\"imdb_task.pkl\")"
      ],
      "execution_count": 0,
      "outputs": []
    },
    {
      "metadata": {
        "id": "paxf0q0WqxC9",
        "colab_type": "code",
        "colab": {}
      },
      "cell_type": "code",
      "source": [
        "#imdb_task = text_task.load (\"imdb_task.pkl\")"
      ],
      "execution_count": 0,
      "outputs": []
    },
    {
      "metadata": {
        "id": "rNL2f5eqqxDB",
        "colab_type": "text"
      },
      "cell_type": "markdown",
      "source": [
        "## Training an LSTM"
      ]
    },
    {
      "metadata": {
        "id": "w-6us1LKL3FB",
        "colab_type": "text"
      },
      "cell_type": "markdown",
      "source": [
        "We can try using a more advanced model: Long Short-Term Memory networks (LTSMs). These are a type of neural network that is able to capture the context in which words are used (i.e. separating Apple the company from apply the fruit) and are able to learn to ignore particlar words.\n",
        "\n",
        "We use an LSTM model that has been 'pretrained' on Wikipedia, so it doesn't need to learn everything from scratch. We 'finetune' this model on our data before trying to use it to predict sentiment. This 'finetuning' involves training the model to predict the next word in the reviews based on the previous words. This way it can learn about any words that it hasn't seen before and better learn the structure of language for the data we're using.\n",
        "\n",
        "The pretrained model comes from fastai (https://docs.fast.ai/text.html), which is also a great resource for learning about neural networks."
      ]
    },
    {
      "metadata": {
        "id": "s1WSabAo0gsX",
        "colab_type": "code",
        "colab": {}
      },
      "cell_type": "code",
      "source": [
        "#Turn the sentiment labels we'll be predicting into 0's and 1's\n",
        "train_labs = np.array (imdb.label.values [imdb.type == \"train\"] == \"pos\")*1\n",
        "test_labs = np.array (imdb.label.values [imdb.type == \"test\"] == \"pos\")*1"
      ],
      "execution_count": 0,
      "outputs": []
    },
    {
      "metadata": {
        "id": "yWWPBiB1ArsC",
        "colab_type": "code",
        "colab": {}
      },
      "cell_type": "code",
      "source": [
        "#The model needs to be initialised by passing it the tags for the data we'll \n",
        "#use for pretraining and training the classifier (these are the same in this \n",
        "#case) and the sentiment labels\n",
        "imdb_task.init_ltsm_classifier (pretrain_traindf_tag = \"train\", \n",
        "                                pretrain_testdf_tag = \"test\", \n",
        "                                classif_traindf_tag = \"train\", \n",
        "                                classif_testdf_tag = \"test\", \n",
        "                                classif_trn_labs = train_labs, \n",
        "                                classif_tst_labs = test_labs)"
      ],
      "execution_count": 0,
      "outputs": []
    },
    {
      "metadata": {
        "id": "PzbvbzqTCk1T",
        "colab_type": "code",
        "outputId": "4f941a72-9f9c-4ca3-ef72-1d7697f6c7ab",
        "colab": {
          "base_uri": "https://localhost:8080/",
          "height": 171
        }
      },
      "cell_type": "code",
      "source": [
        "#Pretrain the model. The accuracy here is based on predicting the next word\n",
        "#not predicting sentiment!\n",
        "imdb_task.pretrain_ltsm()"
      ],
      "execution_count": 0,
      "outputs": [
        {
          "output_type": "display_data",
          "data": {
            "text/html": [
              "Total time: 02:05 <p><table style='width:300px; margin-bottom:10px'>\n",
              "  <tr>\n",
              "    <th>epoch</th>\n",
              "    <th>train_loss</th>\n",
              "    <th>valid_loss</th>\n",
              "    <th>accuracy</th>\n",
              "  </tr>\n",
              "  <tr>\n",
              "    <th>1</th>\n",
              "    <th>5.217520</th>\n",
              "    <th>4.825068</th>\n",
              "    <th>0.207069</th>\n",
              "  </tr>\n",
              "</table>\n"
            ],
            "text/plain": [
              "<IPython.core.display.HTML object>"
            ]
          },
          "metadata": {
            "tags": []
          }
        },
        {
          "output_type": "display_data",
          "data": {
            "text/html": [
              "Total time: 02:29 <p><table style='width:300px; margin-bottom:10px'>\n",
              "  <tr>\n",
              "    <th>epoch</th>\n",
              "    <th>train_loss</th>\n",
              "    <th>valid_loss</th>\n",
              "    <th>accuracy</th>\n",
              "  </tr>\n",
              "  <tr>\n",
              "    <th>1</th>\n",
              "    <th>4.841149</th>\n",
              "    <th>4.685379</th>\n",
              "    <th>0.219051</th>\n",
              "  </tr>\n",
              "</table>\n"
            ],
            "text/plain": [
              "<IPython.core.display.HTML object>"
            ]
          },
          "metadata": {
            "tags": []
          }
        }
      ]
    },
    {
      "metadata": {
        "id": "2lMFXAP4OiBg",
        "colab_type": "text"
      },
      "cell_type": "markdown",
      "source": [
        "Train the finetuned LSTM to predict sentiment.\n",
        "\n",
        "The model achieves ~88% accuracy, which is better than tf-idf (~80%). But it took a lot longer to train (around 30 mins in this case).\n",
        "\n",
        "Neural networks like LSTMs usually do better with more data. With the full dataset of 100,000 this model gets to 95.4% accuracy "
      ]
    },
    {
      "metadata": {
        "id": "9n1Qw6H3CpWq",
        "colab_type": "code",
        "outputId": "be32bc9d-bccb-4071-9d55-2fb1e56f855f",
        "colab": {
          "base_uri": "https://localhost:8080/",
          "height": 1216
        }
      },
      "cell_type": "code",
      "source": [
        "imdb_task.train_ltsm_classifier(nepoch = 10)"
      ],
      "execution_count": 0,
      "outputs": [
        {
          "output_type": "display_data",
          "data": {
            "text/html": [
              "Total time: 02:19 <p><table style='width:300px; margin-bottom:10px'>\n",
              "  <tr>\n",
              "    <th>epoch</th>\n",
              "    <th>train_loss</th>\n",
              "    <th>valid_loss</th>\n",
              "    <th>accuracy</th>\n",
              "  </tr>\n",
              "  <tr>\n",
              "    <th>1</th>\n",
              "    <th>0.592078</th>\n",
              "    <th>0.443124</th>\n",
              "    <th>0.809000</th>\n",
              "  </tr>\n",
              "</table>\n"
            ],
            "text/plain": [
              "<IPython.core.display.HTML object>"
            ]
          },
          "metadata": {
            "tags": []
          }
        },
        {
          "output_type": "display_data",
          "data": {
            "text/html": [
              "\n",
              "    <div>\n",
              "        <style>\n",
              "            /* Turns off some styling */\n",
              "            progress {\n",
              "                /* gets rid of default border in Firefox and Opera. */\n",
              "                border: none;\n",
              "                /* Needs to be in here for Safari polyfill so background images work as expected. */\n",
              "                background-size: auto;\n",
              "            }\n",
              "            .progress-bar-interrupted, .progress-bar-interrupted::-webkit-progress-bar {\n",
              "                background: #F44336;\n",
              "            }\n",
              "        </style>\n",
              "      <progress value='9' class='' max='10', style='width:300px; height:20px; vertical-align: middle;'></progress>\n",
              "      90.00% [9/10 25:28<02:49]\n",
              "    </div>\n",
              "    \n",
              "<table style='width:300px; margin-bottom:10px'>\n",
              "  <tr>\n",
              "    <th>epoch</th>\n",
              "    <th>train_loss</th>\n",
              "    <th>valid_loss</th>\n",
              "    <th>accuracy</th>\n",
              "  </tr>\n",
              "  <tr>\n",
              "    <th>1</th>\n",
              "    <th>0.495087</th>\n",
              "    <th>0.378202</th>\n",
              "    <th>0.840500</th>\n",
              "  </tr>\n",
              "  <tr>\n",
              "    <th>2</th>\n",
              "    <th>0.498038</th>\n",
              "    <th>0.346592</th>\n",
              "    <th>0.855500</th>\n",
              "  </tr>\n",
              "  <tr>\n",
              "    <th>3</th>\n",
              "    <th>0.449840</th>\n",
              "    <th>0.416550</th>\n",
              "    <th>0.852000</th>\n",
              "  </tr>\n",
              "  <tr>\n",
              "    <th>4</th>\n",
              "    <th>0.454005</th>\n",
              "    <th>0.372477</th>\n",
              "    <th>0.841000</th>\n",
              "  </tr>\n",
              "  <tr>\n",
              "    <th>5</th>\n",
              "    <th>0.402910</th>\n",
              "    <th>0.294019</th>\n",
              "    <th>0.877500</th>\n",
              "  </tr>\n",
              "  <tr>\n",
              "    <th>6</th>\n",
              "    <th>0.366087</th>\n",
              "    <th>0.301664</th>\n",
              "    <th>0.876500</th>\n",
              "  </tr>\n",
              "  <tr>\n",
              "    <th>7</th>\n",
              "    <th>0.396185</th>\n",
              "    <th>0.291826</th>\n",
              "    <th>0.876000</th>\n",
              "  </tr>\n",
              "  <tr>\n",
              "    <th>8</th>\n",
              "    <th>0.351480</th>\n",
              "    <th>0.301403</th>\n",
              "    <th>0.871500</th>\n",
              "  </tr>\n",
              "  <tr>\n",
              "    <th>9</th>\n",
              "    <th>0.353211</th>\n",
              "    <th>0.316715</th>\n",
              "    <th>0.875000</th>\n",
              "  </tr>\n",
              "</table>\n",
              "\n",
              "\n",
              "    <div>\n",
              "        <style>\n",
              "            /* Turns off some styling */\n",
              "            progress {\n",
              "                /* gets rid of default border in Firefox and Opera. */\n",
              "                border: none;\n",
              "                /* Needs to be in here for Safari polyfill so background images work as expected. */\n",
              "                background-size: auto;\n",
              "            }\n",
              "            .progress-bar-interrupted, .progress-bar-interrupted::-webkit-progress-bar {\n",
              "                background: #F44336;\n",
              "            }\n",
              "        </style>\n",
              "      <progress value='0' class='progress-bar-interrupted' max='312', style='width:300px; height:20px; vertical-align: middle;'></progress>\n",
              "      Interrupted\n",
              "    </div>\n",
              "    "
            ],
            "text/plain": [
              "<IPython.core.display.HTML object>"
            ]
          },
          "metadata": {
            "tags": []
          }
        },
        {
          "output_type": "error",
          "ename": "KeyboardInterrupt",
          "evalue": "ignored",
          "traceback": [
            "\u001b[0;31m---------------------------------------------------------------------------\u001b[0m",
            "\u001b[0;31mKeyboardInterrupt\u001b[0m                         Traceback (most recent call last)",
            "\u001b[0;32m<ipython-input-21-dec6f4caff02>\u001b[0m in \u001b[0;36m<module>\u001b[0;34m()\u001b[0m\n\u001b[0;32m----> 1\u001b[0;31m \u001b[0mimdb_task\u001b[0m\u001b[0;34m.\u001b[0m\u001b[0mtrain_ltsm_classifier\u001b[0m\u001b[0;34m(\u001b[0m\u001b[0mnepoch\u001b[0m \u001b[0;34m=\u001b[0m \u001b[0;36m10\u001b[0m\u001b[0;34m)\u001b[0m\u001b[0;34m\u001b[0m\u001b[0;34m\u001b[0m\u001b[0m\n\u001b[0m",
            "\u001b[0;32m/content/text_task.py\u001b[0m in \u001b[0;36mtrain_ltsm_classifier\u001b[0;34m(self, nepoch, lrate, continue_training)\u001b[0m\n\u001b[1;32m    435\u001b[0m \u001b[0;34m\u001b[0m\u001b[0m\n\u001b[1;32m    436\u001b[0m         \u001b[0mself\u001b[0m\u001b[0;34m.\u001b[0m\u001b[0mltsm_learn\u001b[0m\u001b[0;34m.\u001b[0m\u001b[0mfreeze_to\u001b[0m\u001b[0;34m(\u001b[0m\u001b[0;34m-\u001b[0m\u001b[0;36m2\u001b[0m\u001b[0;34m)\u001b[0m\u001b[0;34m\u001b[0m\u001b[0;34m\u001b[0m\u001b[0m\n\u001b[0;32m--> 437\u001b[0;31m         \u001b[0mself\u001b[0m\u001b[0;34m.\u001b[0m\u001b[0mltsm_learn\u001b[0m\u001b[0;34m.\u001b[0m\u001b[0mfit\u001b[0m \u001b[0;34m(\u001b[0m\u001b[0mnepoch\u001b[0m\u001b[0;34m,\u001b[0m \u001b[0mlrate\u001b[0m\u001b[0;34m)\u001b[0m\u001b[0;34m\u001b[0m\u001b[0;34m\u001b[0m\u001b[0m\n\u001b[0m\u001b[1;32m    438\u001b[0m \u001b[0;34m\u001b[0m\u001b[0m\n\u001b[1;32m    439\u001b[0m \u001b[0;32mdef\u001b[0m \u001b[0mload\u001b[0m \u001b[0;34m(\u001b[0m\u001b[0mfilename\u001b[0m\u001b[0;34m)\u001b[0m\u001b[0;34m:\u001b[0m\u001b[0;34m\u001b[0m\u001b[0;34m\u001b[0m\u001b[0m\n",
            "\u001b[0;32m/usr/local/lib/python3.6/dist-packages/fastai/basic_train.py\u001b[0m in \u001b[0;36mfit\u001b[0;34m(self, epochs, lr, wd, callbacks)\u001b[0m\n\u001b[1;32m    176\u001b[0m         \u001b[0mcallbacks\u001b[0m \u001b[0;34m=\u001b[0m \u001b[0;34m[\u001b[0m\u001b[0mcb\u001b[0m\u001b[0;34m(\u001b[0m\u001b[0mself\u001b[0m\u001b[0;34m)\u001b[0m \u001b[0;32mfor\u001b[0m \u001b[0mcb\u001b[0m \u001b[0;32min\u001b[0m \u001b[0mself\u001b[0m\u001b[0;34m.\u001b[0m\u001b[0mcallback_fns\u001b[0m\u001b[0;34m]\u001b[0m \u001b[0;34m+\u001b[0m \u001b[0mlistify\u001b[0m\u001b[0;34m(\u001b[0m\u001b[0mcallbacks\u001b[0m\u001b[0;34m)\u001b[0m\u001b[0;34m\u001b[0m\u001b[0;34m\u001b[0m\u001b[0m\n\u001b[1;32m    177\u001b[0m         fit(epochs, self.model, self.loss_func, opt=self.opt, data=self.data, metrics=self.metrics,\n\u001b[0;32m--> 178\u001b[0;31m             callbacks=self.callbacks+callbacks)\n\u001b[0m\u001b[1;32m    179\u001b[0m \u001b[0;34m\u001b[0m\u001b[0m\n\u001b[1;32m    180\u001b[0m     \u001b[0;32mdef\u001b[0m \u001b[0mcreate_opt\u001b[0m\u001b[0;34m(\u001b[0m\u001b[0mself\u001b[0m\u001b[0;34m,\u001b[0m \u001b[0mlr\u001b[0m\u001b[0;34m:\u001b[0m\u001b[0mFloats\u001b[0m\u001b[0;34m,\u001b[0m \u001b[0mwd\u001b[0m\u001b[0;34m:\u001b[0m\u001b[0mFloats\u001b[0m\u001b[0;34m=\u001b[0m\u001b[0;36m0.\u001b[0m\u001b[0;34m)\u001b[0m\u001b[0;34m->\u001b[0m\u001b[0;32mNone\u001b[0m\u001b[0;34m:\u001b[0m\u001b[0;34m\u001b[0m\u001b[0;34m\u001b[0m\u001b[0m\n",
            "\u001b[0;32m/usr/local/lib/python3.6/dist-packages/fastai/utils/mem.py\u001b[0m in \u001b[0;36mwrapper\u001b[0;34m(*args, **kwargs)\u001b[0m\n\u001b[1;32m     83\u001b[0m \u001b[0;34m\u001b[0m\u001b[0m\n\u001b[1;32m     84\u001b[0m         \u001b[0;32mtry\u001b[0m\u001b[0;34m:\u001b[0m\u001b[0;34m\u001b[0m\u001b[0;34m\u001b[0m\u001b[0m\n\u001b[0;32m---> 85\u001b[0;31m             \u001b[0;32mreturn\u001b[0m \u001b[0mfunc\u001b[0m\u001b[0;34m(\u001b[0m\u001b[0;34m*\u001b[0m\u001b[0margs\u001b[0m\u001b[0;34m,\u001b[0m \u001b[0;34m**\u001b[0m\u001b[0mkwargs\u001b[0m\u001b[0;34m)\u001b[0m\u001b[0;34m\u001b[0m\u001b[0;34m\u001b[0m\u001b[0m\n\u001b[0m\u001b[1;32m     86\u001b[0m         \u001b[0;32mexcept\u001b[0m \u001b[0mException\u001b[0m \u001b[0;32mas\u001b[0m \u001b[0me\u001b[0m\u001b[0;34m:\u001b[0m\u001b[0;34m\u001b[0m\u001b[0;34m\u001b[0m\u001b[0m\n\u001b[1;32m     87\u001b[0m             \u001b[0;32mif\u001b[0m \u001b[0;34m\"CUDA out of memory\"\u001b[0m \u001b[0;32min\u001b[0m \u001b[0mstr\u001b[0m\u001b[0;34m(\u001b[0m\u001b[0me\u001b[0m\u001b[0;34m)\u001b[0m \u001b[0;32mor\u001b[0m \u001b[0mtb_clear_frames\u001b[0m\u001b[0;34m==\u001b[0m\u001b[0;34m\"1\"\u001b[0m\u001b[0;34m:\u001b[0m\u001b[0;34m\u001b[0m\u001b[0;34m\u001b[0m\u001b[0m\n",
            "\u001b[0;32m/usr/local/lib/python3.6/dist-packages/fastai/basic_train.py\u001b[0m in \u001b[0;36mfit\u001b[0;34m(epochs, model, loss_func, opt, data, callbacks, metrics)\u001b[0m\n\u001b[1;32m     88\u001b[0m             \u001b[0;32mfor\u001b[0m \u001b[0mxb\u001b[0m\u001b[0;34m,\u001b[0m\u001b[0myb\u001b[0m \u001b[0;32min\u001b[0m \u001b[0mprogress_bar\u001b[0m\u001b[0;34m(\u001b[0m\u001b[0mdata\u001b[0m\u001b[0;34m.\u001b[0m\u001b[0mtrain_dl\u001b[0m\u001b[0;34m,\u001b[0m \u001b[0mparent\u001b[0m\u001b[0;34m=\u001b[0m\u001b[0mpbar\u001b[0m\u001b[0;34m)\u001b[0m\u001b[0;34m:\u001b[0m\u001b[0;34m\u001b[0m\u001b[0;34m\u001b[0m\u001b[0m\n\u001b[1;32m     89\u001b[0m                 \u001b[0mxb\u001b[0m\u001b[0;34m,\u001b[0m \u001b[0myb\u001b[0m \u001b[0;34m=\u001b[0m \u001b[0mcb_handler\u001b[0m\u001b[0;34m.\u001b[0m\u001b[0mon_batch_begin\u001b[0m\u001b[0;34m(\u001b[0m\u001b[0mxb\u001b[0m\u001b[0;34m,\u001b[0m \u001b[0myb\u001b[0m\u001b[0;34m)\u001b[0m\u001b[0;34m\u001b[0m\u001b[0;34m\u001b[0m\u001b[0m\n\u001b[0;32m---> 90\u001b[0;31m                 \u001b[0mloss\u001b[0m \u001b[0;34m=\u001b[0m \u001b[0mloss_batch\u001b[0m\u001b[0;34m(\u001b[0m\u001b[0mmodel\u001b[0m\u001b[0;34m,\u001b[0m \u001b[0mxb\u001b[0m\u001b[0;34m,\u001b[0m \u001b[0myb\u001b[0m\u001b[0;34m,\u001b[0m \u001b[0mloss_func\u001b[0m\u001b[0;34m,\u001b[0m \u001b[0mopt\u001b[0m\u001b[0;34m,\u001b[0m \u001b[0mcb_handler\u001b[0m\u001b[0;34m)\u001b[0m\u001b[0;34m\u001b[0m\u001b[0;34m\u001b[0m\u001b[0m\n\u001b[0m\u001b[1;32m     91\u001b[0m                 \u001b[0;32mif\u001b[0m \u001b[0mcb_handler\u001b[0m\u001b[0;34m.\u001b[0m\u001b[0mon_batch_end\u001b[0m\u001b[0;34m(\u001b[0m\u001b[0mloss\u001b[0m\u001b[0;34m)\u001b[0m\u001b[0;34m:\u001b[0m \u001b[0;32mbreak\u001b[0m\u001b[0;34m\u001b[0m\u001b[0;34m\u001b[0m\u001b[0m\n\u001b[1;32m     92\u001b[0m \u001b[0;34m\u001b[0m\u001b[0m\n",
            "\u001b[0;32m/usr/local/lib/python3.6/dist-packages/fastai/basic_train.py\u001b[0m in \u001b[0;36mloss_batch\u001b[0;34m(model, xb, yb, loss_func, opt, cb_handler)\u001b[0m\n\u001b[1;32m     25\u001b[0m \u001b[0;34m\u001b[0m\u001b[0m\n\u001b[1;32m     26\u001b[0m     \u001b[0;32mif\u001b[0m \u001b[0mopt\u001b[0m \u001b[0;32mis\u001b[0m \u001b[0;32mnot\u001b[0m \u001b[0;32mNone\u001b[0m\u001b[0;34m:\u001b[0m\u001b[0;34m\u001b[0m\u001b[0;34m\u001b[0m\u001b[0m\n\u001b[0;32m---> 27\u001b[0;31m         \u001b[0mloss\u001b[0m \u001b[0;34m=\u001b[0m \u001b[0mcb_handler\u001b[0m\u001b[0;34m.\u001b[0m\u001b[0mon_backward_begin\u001b[0m\u001b[0;34m(\u001b[0m\u001b[0mloss\u001b[0m\u001b[0;34m)\u001b[0m\u001b[0;34m\u001b[0m\u001b[0;34m\u001b[0m\u001b[0m\n\u001b[0m\u001b[1;32m     28\u001b[0m         \u001b[0mloss\u001b[0m\u001b[0;34m.\u001b[0m\u001b[0mbackward\u001b[0m\u001b[0;34m(\u001b[0m\u001b[0;34m)\u001b[0m\u001b[0;34m\u001b[0m\u001b[0;34m\u001b[0m\u001b[0m\n\u001b[1;32m     29\u001b[0m         \u001b[0mcb_handler\u001b[0m\u001b[0;34m.\u001b[0m\u001b[0mon_backward_end\u001b[0m\u001b[0;34m(\u001b[0m\u001b[0;34m)\u001b[0m\u001b[0;34m\u001b[0m\u001b[0;34m\u001b[0m\u001b[0m\n",
            "\u001b[0;32m/usr/local/lib/python3.6/dist-packages/fastai/callback.py\u001b[0m in \u001b[0;36mon_backward_begin\u001b[0;34m(self, loss)\u001b[0m\n\u001b[1;32m    239\u001b[0m     \u001b[0;32mdef\u001b[0m \u001b[0mon_backward_begin\u001b[0m\u001b[0;34m(\u001b[0m\u001b[0mself\u001b[0m\u001b[0;34m,\u001b[0m \u001b[0mloss\u001b[0m\u001b[0;34m:\u001b[0m\u001b[0mTensor\u001b[0m\u001b[0;34m)\u001b[0m\u001b[0;34m->\u001b[0m\u001b[0;32mNone\u001b[0m\u001b[0;34m:\u001b[0m\u001b[0;34m\u001b[0m\u001b[0;34m\u001b[0m\u001b[0m\n\u001b[1;32m    240\u001b[0m         \u001b[0;34m\"Handle gradient calculation on `loss`.\"\u001b[0m\u001b[0;34m\u001b[0m\u001b[0;34m\u001b[0m\u001b[0m\n\u001b[0;32m--> 241\u001b[0;31m         \u001b[0mself\u001b[0m\u001b[0;34m.\u001b[0m\u001b[0msmoothener\u001b[0m\u001b[0;34m.\u001b[0m\u001b[0madd_value\u001b[0m\u001b[0;34m(\u001b[0m\u001b[0mloss\u001b[0m\u001b[0;34m.\u001b[0m\u001b[0mdetach\u001b[0m\u001b[0;34m(\u001b[0m\u001b[0;34m)\u001b[0m\u001b[0;34m.\u001b[0m\u001b[0mcpu\u001b[0m\u001b[0;34m(\u001b[0m\u001b[0;34m)\u001b[0m\u001b[0;34m)\u001b[0m\u001b[0;34m\u001b[0m\u001b[0;34m\u001b[0m\u001b[0m\n\u001b[0m\u001b[1;32m    242\u001b[0m         \u001b[0mself\u001b[0m\u001b[0;34m.\u001b[0m\u001b[0mstate_dict\u001b[0m\u001b[0;34m[\u001b[0m\u001b[0;34m'last_loss'\u001b[0m\u001b[0;34m]\u001b[0m\u001b[0;34m,\u001b[0m \u001b[0mself\u001b[0m\u001b[0;34m.\u001b[0m\u001b[0mstate_dict\u001b[0m\u001b[0;34m[\u001b[0m\u001b[0;34m'smooth_loss'\u001b[0m\u001b[0;34m]\u001b[0m \u001b[0;34m=\u001b[0m \u001b[0mloss\u001b[0m\u001b[0;34m,\u001b[0m \u001b[0mself\u001b[0m\u001b[0;34m.\u001b[0m\u001b[0msmoothener\u001b[0m\u001b[0;34m.\u001b[0m\u001b[0msmooth\u001b[0m\u001b[0;34m\u001b[0m\u001b[0;34m\u001b[0m\u001b[0m\n\u001b[1;32m    243\u001b[0m         \u001b[0;32mfor\u001b[0m \u001b[0mcb\u001b[0m \u001b[0;32min\u001b[0m \u001b[0mself\u001b[0m\u001b[0;34m.\u001b[0m\u001b[0mcallbacks\u001b[0m\u001b[0;34m:\u001b[0m\u001b[0;34m\u001b[0m\u001b[0;34m\u001b[0m\u001b[0m\n",
            "\u001b[0;31mKeyboardInterrupt\u001b[0m: "
          ]
        }
      ]
    }
  ]
}