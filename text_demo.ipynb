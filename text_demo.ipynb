{
 "cells": [
  {
   "cell_type": "markdown",
   "metadata": {},
   "source": [
    "# Text analysis demo\n",
    "\n",
    "This session will put into practice the methods we coverered last week. \n",
    "\n",
    "We'll run through:\n",
    " * tf-idf\n",
    " * topic modelling\n",
    " * word embeddings\n",
    " * ltsms\n",
    " \n",
    "We'll use a module we've started developing to make it quicker and less repetitive to code and use these techniques, imaginatively called 'text_analysis'.\n",
    "\n",
    "The code (along with this notebook) lives at: https://github.com/dfleetwood/text_analysis . Please send me your github username and I'll add you to the repository. The code is very new - so there are probably lots of bugs at the moment, but we'll be doing a fair bit of work on it over the coming weeks..."
   ]
  },
  {
   "cell_type": "code",
   "execution_count": 1,
   "metadata": {},
   "outputs": [
    {
     "name": "stderr",
     "output_type": "stream",
     "text": [
      "C:\\ProgramData\\Anaconda3\\lib\\site-packages\\gensim\\utils.py:1197: UserWarning: detected Windows; aliasing chunkize to chunkize_serial\n",
      "  warnings.warn(\"detected Windows; aliasing chunkize to chunkize_serial\")\n"
     ]
    },
    {
     "data": {
      "text/plain": [
       "<module 'text_task' from 'C:\\\\Users\\\\dfleetwood\\\\Documents\\\\text\\\\text_analysis\\\\text_task.py'>"
      ]
     },
     "execution_count": 1,
     "metadata": {},
     "output_type": "execute_result"
    }
   ],
   "source": [
    "#Import libraries\n",
    "import pandas as pd\n",
    "import numpy as np\n",
    "import text_task\n",
    "\n",
    "\n",
    "from importlib import reload\n",
    "reload (text_task)"
   ]
  },
  {
   "cell_type": "markdown",
   "metadata": {},
   "source": [
    "## Data processing\n",
    "\n",
    "Our task for this session will be to estimate the sentiment (positive/negative) of movie reviews from https://www.imdb.com/\n",
    "\n",
    "To make things quicker today, I've made a much smaller version of the data - for the full dataset go to: https://www.kaggle.com/utathya/imdb-review-dataset\n",
    "\n",
    "IMDB asks for both a textual description and a score for how much someone liked or disliked a movie. This makes it really useful for testing sentiment analysis - we can link text to quantitative sentiment scores (in this dataset the scores are reduced to 'positive' and 'negative'.\n"
   ]
  },
  {
   "cell_type": "code",
   "execution_count": 2,
   "metadata": {},
   "outputs": [],
   "source": [
    "#Read in the data\n",
    "imdb = pd.read_csv (\"imdb_small.csv\", encoding = \"latin\")"
   ]
  },
  {
   "cell_type": "markdown",
   "metadata": {},
   "source": [
    "The file has five columns:\n",
    " * ID: The id of the review\n",
    " * Type: Whether the review is from the training or test set (more on this later)\n",
    " * Review: The actual review text\n",
    " * Label: Whether the quantitative scoring was positive or negative - this is what we'll be trying to predict\n",
    " * File: The original file name the review was drawn from (this is just an administrative column)"
   ]
  },
  {
   "cell_type": "code",
   "execution_count": 3,
   "metadata": {},
   "outputs": [
    {
     "data": {
      "text/plain": [
       "Index(['ID', 'type', 'review', 'label', 'file'], dtype='object')"
      ]
     },
     "execution_count": 3,
     "metadata": {},
     "output_type": "execute_result"
    }
   ],
   "source": [
    "imdb.columns"
   ]
  },
  {
   "cell_type": "code",
   "execution_count": 4,
   "metadata": {},
   "outputs": [
    {
     "data": {
      "text/html": [
       "<div>\n",
       "<style scoped>\n",
       "    .dataframe tbody tr th:only-of-type {\n",
       "        vertical-align: middle;\n",
       "    }\n",
       "\n",
       "    .dataframe tbody tr th {\n",
       "        vertical-align: top;\n",
       "    }\n",
       "\n",
       "    .dataframe thead th {\n",
       "        text-align: right;\n",
       "    }\n",
       "</style>\n",
       "<table border=\"1\" class=\"dataframe\">\n",
       "  <thead>\n",
       "    <tr style=\"text-align: right;\">\n",
       "      <th></th>\n",
       "      <th>ID</th>\n",
       "      <th>type</th>\n",
       "      <th>review</th>\n",
       "      <th>label</th>\n",
       "      <th>file</th>\n",
       "    </tr>\n",
       "  </thead>\n",
       "  <tbody>\n",
       "    <tr>\n",
       "      <th>0</th>\n",
       "      <td>43228</td>\n",
       "      <td>train</td>\n",
       "      <td>This has to be the funniest stand up comedy I ...</td>\n",
       "      <td>pos</td>\n",
       "      <td>3906_10.txt</td>\n",
       "    </tr>\n",
       "    <tr>\n",
       "      <th>1</th>\n",
       "      <td>48074</td>\n",
       "      <td>train</td>\n",
       "      <td>This is apparently the second remake of this f...</td>\n",
       "      <td>pos</td>\n",
       "      <td>8268_7.txt</td>\n",
       "    </tr>\n",
       "    <tr>\n",
       "      <th>2</th>\n",
       "      <td>38204</td>\n",
       "      <td>train</td>\n",
       "      <td>In order to stop her homosexual friend Albert ...</td>\n",
       "      <td>pos</td>\n",
       "      <td>10634_10.txt</td>\n",
       "    </tr>\n",
       "    <tr>\n",
       "      <th>3</th>\n",
       "      <td>25573</td>\n",
       "      <td>train</td>\n",
       "      <td>Forest of the Damned starts out as five young ...</td>\n",
       "      <td>neg</td>\n",
       "      <td>10516_4.txt</td>\n",
       "    </tr>\n",
       "    <tr>\n",
       "      <th>4</th>\n",
       "      <td>34858</td>\n",
       "      <td>train</td>\n",
       "      <td>This little show is obviously some stupid litt...</td>\n",
       "      <td>neg</td>\n",
       "      <td>7623_4.txt</td>\n",
       "    </tr>\n",
       "    <tr>\n",
       "      <th>5</th>\n",
       "      <td>46871</td>\n",
       "      <td>train</td>\n",
       "      <td>Sitting on the front porch of his Burbank home...</td>\n",
       "      <td>pos</td>\n",
       "      <td>7185_10.txt</td>\n",
       "    </tr>\n",
       "    <tr>\n",
       "      <th>6</th>\n",
       "      <td>47078</td>\n",
       "      <td>train</td>\n",
       "      <td>A suspenseful thriller that bears some resembl...</td>\n",
       "      <td>pos</td>\n",
       "      <td>7371_7.txt</td>\n",
       "    </tr>\n",
       "    <tr>\n",
       "      <th>7</th>\n",
       "      <td>37631</td>\n",
       "      <td>train</td>\n",
       "      <td>I really like Miikes movies about Yakuza, this...</td>\n",
       "      <td>pos</td>\n",
       "      <td>10118_7.txt</td>\n",
       "    </tr>\n",
       "    <tr>\n",
       "      <th>8</th>\n",
       "      <td>26896</td>\n",
       "      <td>train</td>\n",
       "      <td>This 2003 made for TV movie was shown on a wom...</td>\n",
       "      <td>neg</td>\n",
       "      <td>11707_1.txt</td>\n",
       "    </tr>\n",
       "    <tr>\n",
       "      <th>9</th>\n",
       "      <td>32027</td>\n",
       "      <td>train</td>\n",
       "      <td>The animation was good, the imagery was good, ...</td>\n",
       "      <td>neg</td>\n",
       "      <td>5075_3.txt</td>\n",
       "    </tr>\n",
       "    <tr>\n",
       "      <th>10</th>\n",
       "      <td>40274</td>\n",
       "      <td>train</td>\n",
       "      <td>this movie is the best movie ever it has a lot...</td>\n",
       "      <td>pos</td>\n",
       "      <td>12498_10.txt</td>\n",
       "    </tr>\n",
       "    <tr>\n",
       "      <th>11</th>\n",
       "      <td>32765</td>\n",
       "      <td>train</td>\n",
       "      <td>The last reviewer was very generous. I quiet l...</td>\n",
       "      <td>neg</td>\n",
       "      <td>573_1.txt</td>\n",
       "    </tr>\n",
       "    <tr>\n",
       "      <th>12</th>\n",
       "      <td>47848</td>\n",
       "      <td>train</td>\n",
       "      <td>John Ford is one of the most influential and b...</td>\n",
       "      <td>pos</td>\n",
       "      <td>8064_10.txt</td>\n",
       "    </tr>\n",
       "    <tr>\n",
       "      <th>13</th>\n",
       "      <td>42700</td>\n",
       "      <td>train</td>\n",
       "      <td>I caught this at a screening at the Sundance F...</td>\n",
       "      <td>pos</td>\n",
       "      <td>3430_10.txt</td>\n",
       "    </tr>\n",
       "    <tr>\n",
       "      <th>14</th>\n",
       "      <td>41939</td>\n",
       "      <td>train</td>\n",
       "      <td>Imagine turning out the lights in your remote ...</td>\n",
       "      <td>pos</td>\n",
       "      <td>2746_10.txt</td>\n",
       "    </tr>\n",
       "    <tr>\n",
       "      <th>15</th>\n",
       "      <td>28617</td>\n",
       "      <td>train</td>\n",
       "      <td>Not that I was really surprised....movies are ...</td>\n",
       "      <td>neg</td>\n",
       "      <td>2005_3.txt</td>\n",
       "    </tr>\n",
       "    <tr>\n",
       "      <th>16</th>\n",
       "      <td>43813</td>\n",
       "      <td>train</td>\n",
       "      <td>I happily admit that I'm a sucker for a beauti...</td>\n",
       "      <td>pos</td>\n",
       "      <td>4432_10.txt</td>\n",
       "    </tr>\n",
       "    <tr>\n",
       "      <th>17</th>\n",
       "      <td>40864</td>\n",
       "      <td>train</td>\n",
       "      <td>I love this movie! 10 out of 10 hands down! It...</td>\n",
       "      <td>pos</td>\n",
       "      <td>1779_10.txt</td>\n",
       "    </tr>\n",
       "    <tr>\n",
       "      <th>18</th>\n",
       "      <td>33101</td>\n",
       "      <td>train</td>\n",
       "      <td>This story about three women is a very sensiti...</td>\n",
       "      <td>neg</td>\n",
       "      <td>6041_1.txt</td>\n",
       "    </tr>\n",
       "    <tr>\n",
       "      <th>19</th>\n",
       "      <td>46056</td>\n",
       "      <td>train</td>\n",
       "      <td>Firstly, I really enjoyed this movie and its m...</td>\n",
       "      <td>pos</td>\n",
       "      <td>6451_8.txt</td>\n",
       "    </tr>\n",
       "    <tr>\n",
       "      <th>20</th>\n",
       "      <td>48866</td>\n",
       "      <td>train</td>\n",
       "      <td>Dig! I would say to anyone even if you don't l...</td>\n",
       "      <td>pos</td>\n",
       "      <td>8981_7.txt</td>\n",
       "    </tr>\n",
       "    <tr>\n",
       "      <th>21</th>\n",
       "      <td>39429</td>\n",
       "      <td>train</td>\n",
       "      <td>OK, this movie is stupid. I mean that in a goo...</td>\n",
       "      <td>pos</td>\n",
       "      <td>11737_8.txt</td>\n",
       "    </tr>\n",
       "    <tr>\n",
       "      <th>22</th>\n",
       "      <td>42001</td>\n",
       "      <td>train</td>\n",
       "      <td>My scalp still smarts from the burning coals h...</td>\n",
       "      <td>pos</td>\n",
       "      <td>2801_9.txt</td>\n",
       "    </tr>\n",
       "    <tr>\n",
       "      <th>23</th>\n",
       "      <td>41090</td>\n",
       "      <td>train</td>\n",
       "      <td>This was my favourite film as a child, and I h...</td>\n",
       "      <td>pos</td>\n",
       "      <td>1982_10.txt</td>\n",
       "    </tr>\n",
       "    <tr>\n",
       "      <th>24</th>\n",
       "      <td>29984</td>\n",
       "      <td>train</td>\n",
       "      <td>I recently watched the first Guinea Pig film, ...</td>\n",
       "      <td>neg</td>\n",
       "      <td>3236_4.txt</td>\n",
       "    </tr>\n",
       "    <tr>\n",
       "      <th>25</th>\n",
       "      <td>35444</td>\n",
       "      <td>train</td>\n",
       "      <td>If you want an undemanding and reasonably amus...</td>\n",
       "      <td>neg</td>\n",
       "      <td>8150_2.txt</td>\n",
       "    </tr>\n",
       "    <tr>\n",
       "      <th>26</th>\n",
       "      <td>35451</td>\n",
       "      <td>train</td>\n",
       "      <td>Hello Mary Lou: Prom Night II starts at the Ha...</td>\n",
       "      <td>neg</td>\n",
       "      <td>8157_4.txt</td>\n",
       "    </tr>\n",
       "    <tr>\n",
       "      <th>27</th>\n",
       "      <td>37704</td>\n",
       "      <td>train</td>\n",
       "      <td>A strong woman oriented subject after long, di...</td>\n",
       "      <td>pos</td>\n",
       "      <td>10184_9.txt</td>\n",
       "    </tr>\n",
       "    <tr>\n",
       "      <th>28</th>\n",
       "      <td>36345</td>\n",
       "      <td>train</td>\n",
       "      <td>i think this one sucked on ice, because it lef...</td>\n",
       "      <td>neg</td>\n",
       "      <td>8962_2.txt</td>\n",
       "    </tr>\n",
       "    <tr>\n",
       "      <th>29</th>\n",
       "      <td>26645</td>\n",
       "      <td>train</td>\n",
       "      <td>If they could get Ed Asner why didn't they get...</td>\n",
       "      <td>neg</td>\n",
       "      <td>11481_1.txt</td>\n",
       "    </tr>\n",
       "    <tr>\n",
       "      <th>...</th>\n",
       "      <td>...</td>\n",
       "      <td>...</td>\n",
       "      <td>...</td>\n",
       "      <td>...</td>\n",
       "      <td>...</td>\n",
       "    </tr>\n",
       "    <tr>\n",
       "      <th>6970</th>\n",
       "      <td>5280</td>\n",
       "      <td>test</td>\n",
       "      <td>What a disappointment. The story line is so si...</td>\n",
       "      <td>neg</td>\n",
       "      <td>3502_1.txt</td>\n",
       "    </tr>\n",
       "    <tr>\n",
       "      <th>6971</th>\n",
       "      <td>24622</td>\n",
       "      <td>test</td>\n",
       "      <td>My teacher did this movie. It's a new beginnin...</td>\n",
       "      <td>pos</td>\n",
       "      <td>9661_10.txt</td>\n",
       "    </tr>\n",
       "    <tr>\n",
       "      <th>6972</th>\n",
       "      <td>3224</td>\n",
       "      <td>test</td>\n",
       "      <td>Oh how I laughed....this has it all...an Asian...</td>\n",
       "      <td>neg</td>\n",
       "      <td>1652_1.txt</td>\n",
       "    </tr>\n",
       "    <tr>\n",
       "      <th>6973</th>\n",
       "      <td>14016</td>\n",
       "      <td>test</td>\n",
       "      <td>A great production, that should be revived/reb...</td>\n",
       "      <td>pos</td>\n",
       "      <td>11365_10.txt</td>\n",
       "    </tr>\n",
       "    <tr>\n",
       "      <th>6974</th>\n",
       "      <td>11534</td>\n",
       "      <td>test</td>\n",
       "      <td>There seems to be a spectrum of cinema. On the...</td>\n",
       "      <td>neg</td>\n",
       "      <td>9131_1.txt</td>\n",
       "    </tr>\n",
       "    <tr>\n",
       "      <th>6975</th>\n",
       "      <td>12874</td>\n",
       "      <td>test</td>\n",
       "      <td>When I was in 7th grade(back in 1977), I was a...</td>\n",
       "      <td>pos</td>\n",
       "      <td>10337_10.txt</td>\n",
       "    </tr>\n",
       "    <tr>\n",
       "      <th>6976</th>\n",
       "      <td>13012</td>\n",
       "      <td>test</td>\n",
       "      <td>This film offers many delights and surprises. ...</td>\n",
       "      <td>pos</td>\n",
       "      <td>10461_10.txt</td>\n",
       "    </tr>\n",
       "    <tr>\n",
       "      <th>6977</th>\n",
       "      <td>14044</td>\n",
       "      <td>test</td>\n",
       "      <td>A small town kid working in a big city becomes...</td>\n",
       "      <td>pos</td>\n",
       "      <td>11390_10.txt</td>\n",
       "    </tr>\n",
       "    <tr>\n",
       "      <th>6978</th>\n",
       "      <td>9981</td>\n",
       "      <td>test</td>\n",
       "      <td>It is impossible to avoid comparing Zhang Yimo...</td>\n",
       "      <td>neg</td>\n",
       "      <td>7734_1.txt</td>\n",
       "    </tr>\n",
       "    <tr>\n",
       "      <th>6979</th>\n",
       "      <td>8359</td>\n",
       "      <td>test</td>\n",
       "      <td>This movie is so bad they should burn the mast...</td>\n",
       "      <td>neg</td>\n",
       "      <td>6274_1.txt</td>\n",
       "    </tr>\n",
       "    <tr>\n",
       "      <th>6980</th>\n",
       "      <td>5861</td>\n",
       "      <td>test</td>\n",
       "      <td>I rented this DVD because I'm a big science fi...</td>\n",
       "      <td>neg</td>\n",
       "      <td>4025_2.txt</td>\n",
       "    </tr>\n",
       "    <tr>\n",
       "      <th>6981</th>\n",
       "      <td>3266</td>\n",
       "      <td>test</td>\n",
       "      <td>this is a dreadful adaption of Charles Kingsle...</td>\n",
       "      <td>neg</td>\n",
       "      <td>1690_1.txt</td>\n",
       "    </tr>\n",
       "    <tr>\n",
       "      <th>6982</th>\n",
       "      <td>2859</td>\n",
       "      <td>test</td>\n",
       "      <td>The war in the East,as the Germans referred to...</td>\n",
       "      <td>neg</td>\n",
       "      <td>1323_3.txt</td>\n",
       "    </tr>\n",
       "    <tr>\n",
       "      <th>6983</th>\n",
       "      <td>2526</td>\n",
       "      <td>test</td>\n",
       "      <td>I was expecting a lot more of this film than w...</td>\n",
       "      <td>neg</td>\n",
       "      <td>12274_4.txt</td>\n",
       "    </tr>\n",
       "    <tr>\n",
       "      <th>6984</th>\n",
       "      <td>10264</td>\n",
       "      <td>test</td>\n",
       "      <td>I know that so many reviews on IMDb are extrem...</td>\n",
       "      <td>neg</td>\n",
       "      <td>798_1.txt</td>\n",
       "    </tr>\n",
       "    <tr>\n",
       "      <th>6985</th>\n",
       "      <td>14299</td>\n",
       "      <td>test</td>\n",
       "      <td>I like The Wind and the Lion very much. It was...</td>\n",
       "      <td>pos</td>\n",
       "      <td>1161_10.txt</td>\n",
       "    </tr>\n",
       "    <tr>\n",
       "      <th>6986</th>\n",
       "      <td>5770</td>\n",
       "      <td>test</td>\n",
       "      <td>I could tell this would be a bad one from the ...</td>\n",
       "      <td>neg</td>\n",
       "      <td>3944_1.txt</td>\n",
       "    </tr>\n",
       "    <tr>\n",
       "      <th>6987</th>\n",
       "      <td>7679</td>\n",
       "      <td>test</td>\n",
       "      <td>iCarly is about a teenage girl named Carly Sha...</td>\n",
       "      <td>neg</td>\n",
       "      <td>5662_1.txt</td>\n",
       "    </tr>\n",
       "    <tr>\n",
       "      <th>6988</th>\n",
       "      <td>9227</td>\n",
       "      <td>test</td>\n",
       "      <td>The film's title makes it sound like a porno b...</td>\n",
       "      <td>neg</td>\n",
       "      <td>7055_2.txt</td>\n",
       "    </tr>\n",
       "    <tr>\n",
       "      <th>6989</th>\n",
       "      <td>4303</td>\n",
       "      <td>test</td>\n",
       "      <td>Thank God I was not operating any heavy machin...</td>\n",
       "      <td>neg</td>\n",
       "      <td>2623_1.txt</td>\n",
       "    </tr>\n",
       "    <tr>\n",
       "      <th>6990</th>\n",
       "      <td>10830</td>\n",
       "      <td>test</td>\n",
       "      <td>I wouldn't have given this film such a low rat...</td>\n",
       "      <td>neg</td>\n",
       "      <td>8499_1.txt</td>\n",
       "    </tr>\n",
       "    <tr>\n",
       "      <th>6991</th>\n",
       "      <td>17230</td>\n",
       "      <td>test</td>\n",
       "      <td>I just started watching The Show around July. ...</td>\n",
       "      <td>pos</td>\n",
       "      <td>3007_10.txt</td>\n",
       "    </tr>\n",
       "    <tr>\n",
       "      <th>6992</th>\n",
       "      <td>14451</td>\n",
       "      <td>test</td>\n",
       "      <td>We all want to fall in love... The experience ...</td>\n",
       "      <td>pos</td>\n",
       "      <td>11757_9.txt</td>\n",
       "    </tr>\n",
       "    <tr>\n",
       "      <th>6993</th>\n",
       "      <td>21007</td>\n",
       "      <td>test</td>\n",
       "      <td>\"Where to begin, where to begin . . ?(Savannah...</td>\n",
       "      <td>pos</td>\n",
       "      <td>6407_10.txt</td>\n",
       "    </tr>\n",
       "    <tr>\n",
       "      <th>6994</th>\n",
       "      <td>22169</td>\n",
       "      <td>test</td>\n",
       "      <td>Graphics: brilliant, obviously. The most stunn...</td>\n",
       "      <td>pos</td>\n",
       "      <td>7453_10.txt</td>\n",
       "    </tr>\n",
       "    <tr>\n",
       "      <th>6995</th>\n",
       "      <td>10198</td>\n",
       "      <td>test</td>\n",
       "      <td>i thought id check this film out as I'm curren...</td>\n",
       "      <td>neg</td>\n",
       "      <td>792_2.txt</td>\n",
       "    </tr>\n",
       "    <tr>\n",
       "      <th>6996</th>\n",
       "      <td>22761</td>\n",
       "      <td>test</td>\n",
       "      <td>First off, this film has no story. It's obviou...</td>\n",
       "      <td>pos</td>\n",
       "      <td>7987_8.txt</td>\n",
       "    </tr>\n",
       "    <tr>\n",
       "      <th>6997</th>\n",
       "      <td>314</td>\n",
       "      <td>test</td>\n",
       "      <td>I think cheaters needs to be off the air and e...</td>\n",
       "      <td>neg</td>\n",
       "      <td>10283_1.txt</td>\n",
       "    </tr>\n",
       "    <tr>\n",
       "      <th>6998</th>\n",
       "      <td>5039</td>\n",
       "      <td>test</td>\n",
       "      <td>The actors &amp; actresses on this series are OK, ...</td>\n",
       "      <td>neg</td>\n",
       "      <td>3286_1.txt</td>\n",
       "    </tr>\n",
       "    <tr>\n",
       "      <th>6999</th>\n",
       "      <td>24684</td>\n",
       "      <td>test</td>\n",
       "      <td>Sadly, every single person I ask about this se...</td>\n",
       "      <td>pos</td>\n",
       "      <td>9717_10.txt</td>\n",
       "    </tr>\n",
       "  </tbody>\n",
       "</table>\n",
       "<p>7000 rows × 5 columns</p>\n",
       "</div>"
      ],
      "text/plain": [
       "         ID   type                                             review label  \\\n",
       "0     43228  train  This has to be the funniest stand up comedy I ...   pos   \n",
       "1     48074  train  This is apparently the second remake of this f...   pos   \n",
       "2     38204  train  In order to stop her homosexual friend Albert ...   pos   \n",
       "3     25573  train  Forest of the Damned starts out as five young ...   neg   \n",
       "4     34858  train  This little show is obviously some stupid litt...   neg   \n",
       "5     46871  train  Sitting on the front porch of his Burbank home...   pos   \n",
       "6     47078  train  A suspenseful thriller that bears some resembl...   pos   \n",
       "7     37631  train  I really like Miikes movies about Yakuza, this...   pos   \n",
       "8     26896  train  This 2003 made for TV movie was shown on a wom...   neg   \n",
       "9     32027  train  The animation was good, the imagery was good, ...   neg   \n",
       "10    40274  train  this movie is the best movie ever it has a lot...   pos   \n",
       "11    32765  train  The last reviewer was very generous. I quiet l...   neg   \n",
       "12    47848  train  John Ford is one of the most influential and b...   pos   \n",
       "13    42700  train  I caught this at a screening at the Sundance F...   pos   \n",
       "14    41939  train  Imagine turning out the lights in your remote ...   pos   \n",
       "15    28617  train  Not that I was really surprised....movies are ...   neg   \n",
       "16    43813  train  I happily admit that I'm a sucker for a beauti...   pos   \n",
       "17    40864  train  I love this movie! 10 out of 10 hands down! It...   pos   \n",
       "18    33101  train  This story about three women is a very sensiti...   neg   \n",
       "19    46056  train  Firstly, I really enjoyed this movie and its m...   pos   \n",
       "20    48866  train  Dig! I would say to anyone even if you don't l...   pos   \n",
       "21    39429  train  OK, this movie is stupid. I mean that in a goo...   pos   \n",
       "22    42001  train  My scalp still smarts from the burning coals h...   pos   \n",
       "23    41090  train  This was my favourite film as a child, and I h...   pos   \n",
       "24    29984  train  I recently watched the first Guinea Pig film, ...   neg   \n",
       "25    35444  train  If you want an undemanding and reasonably amus...   neg   \n",
       "26    35451  train  Hello Mary Lou: Prom Night II starts at the Ha...   neg   \n",
       "27    37704  train  A strong woman oriented subject after long, di...   pos   \n",
       "28    36345  train  i think this one sucked on ice, because it lef...   neg   \n",
       "29    26645  train  If they could get Ed Asner why didn't they get...   neg   \n",
       "...     ...    ...                                                ...   ...   \n",
       "6970   5280   test  What a disappointment. The story line is so si...   neg   \n",
       "6971  24622   test  My teacher did this movie. It's a new beginnin...   pos   \n",
       "6972   3224   test  Oh how I laughed....this has it all...an Asian...   neg   \n",
       "6973  14016   test  A great production, that should be revived/reb...   pos   \n",
       "6974  11534   test  There seems to be a spectrum of cinema. On the...   neg   \n",
       "6975  12874   test  When I was in 7th grade(back in 1977), I was a...   pos   \n",
       "6976  13012   test  This film offers many delights and surprises. ...   pos   \n",
       "6977  14044   test  A small town kid working in a big city becomes...   pos   \n",
       "6978   9981   test  It is impossible to avoid comparing Zhang Yimo...   neg   \n",
       "6979   8359   test  This movie is so bad they should burn the mast...   neg   \n",
       "6980   5861   test  I rented this DVD because I'm a big science fi...   neg   \n",
       "6981   3266   test  this is a dreadful adaption of Charles Kingsle...   neg   \n",
       "6982   2859   test  The war in the East,as the Germans referred to...   neg   \n",
       "6983   2526   test  I was expecting a lot more of this film than w...   neg   \n",
       "6984  10264   test  I know that so many reviews on IMDb are extrem...   neg   \n",
       "6985  14299   test  I like The Wind and the Lion very much. It was...   pos   \n",
       "6986   5770   test  I could tell this would be a bad one from the ...   neg   \n",
       "6987   7679   test  iCarly is about a teenage girl named Carly Sha...   neg   \n",
       "6988   9227   test  The film's title makes it sound like a porno b...   neg   \n",
       "6989   4303   test  Thank God I was not operating any heavy machin...   neg   \n",
       "6990  10830   test  I wouldn't have given this film such a low rat...   neg   \n",
       "6991  17230   test  I just started watching The Show around July. ...   pos   \n",
       "6992  14451   test  We all want to fall in love... The experience ...   pos   \n",
       "6993  21007   test  \"Where to begin, where to begin . . ?(Savannah...   pos   \n",
       "6994  22169   test  Graphics: brilliant, obviously. The most stunn...   pos   \n",
       "6995  10198   test  i thought id check this film out as I'm curren...   neg   \n",
       "6996  22761   test  First off, this film has no story. It's obviou...   pos   \n",
       "6997    314   test  I think cheaters needs to be off the air and e...   neg   \n",
       "6998   5039   test  The actors & actresses on this series are OK, ...   neg   \n",
       "6999  24684   test  Sadly, every single person I ask about this se...   pos   \n",
       "\n",
       "              file  \n",
       "0      3906_10.txt  \n",
       "1       8268_7.txt  \n",
       "2     10634_10.txt  \n",
       "3      10516_4.txt  \n",
       "4       7623_4.txt  \n",
       "5      7185_10.txt  \n",
       "6       7371_7.txt  \n",
       "7      10118_7.txt  \n",
       "8      11707_1.txt  \n",
       "9       5075_3.txt  \n",
       "10    12498_10.txt  \n",
       "11       573_1.txt  \n",
       "12     8064_10.txt  \n",
       "13     3430_10.txt  \n",
       "14     2746_10.txt  \n",
       "15      2005_3.txt  \n",
       "16     4432_10.txt  \n",
       "17     1779_10.txt  \n",
       "18      6041_1.txt  \n",
       "19      6451_8.txt  \n",
       "20      8981_7.txt  \n",
       "21     11737_8.txt  \n",
       "22      2801_9.txt  \n",
       "23     1982_10.txt  \n",
       "24      3236_4.txt  \n",
       "25      8150_2.txt  \n",
       "26      8157_4.txt  \n",
       "27     10184_9.txt  \n",
       "28      8962_2.txt  \n",
       "29     11481_1.txt  \n",
       "...            ...  \n",
       "6970    3502_1.txt  \n",
       "6971   9661_10.txt  \n",
       "6972    1652_1.txt  \n",
       "6973  11365_10.txt  \n",
       "6974    9131_1.txt  \n",
       "6975  10337_10.txt  \n",
       "6976  10461_10.txt  \n",
       "6977  11390_10.txt  \n",
       "6978    7734_1.txt  \n",
       "6979    6274_1.txt  \n",
       "6980    4025_2.txt  \n",
       "6981    1690_1.txt  \n",
       "6982    1323_3.txt  \n",
       "6983   12274_4.txt  \n",
       "6984     798_1.txt  \n",
       "6985   1161_10.txt  \n",
       "6986    3944_1.txt  \n",
       "6987    5662_1.txt  \n",
       "6988    7055_2.txt  \n",
       "6989    2623_1.txt  \n",
       "6990    8499_1.txt  \n",
       "6991   3007_10.txt  \n",
       "6992   11757_9.txt  \n",
       "6993   6407_10.txt  \n",
       "6994   7453_10.txt  \n",
       "6995     792_2.txt  \n",
       "6996    7987_8.txt  \n",
       "6997   10283_1.txt  \n",
       "6998    3286_1.txt  \n",
       "6999   9717_10.txt  \n",
       "\n",
       "[7000 rows x 5 columns]"
      ]
     },
     "execution_count": 4,
     "metadata": {},
     "output_type": "execute_result"
    }
   ],
   "source": [
    "imdb"
   ]
  },
  {
   "cell_type": "markdown",
   "metadata": {},
   "source": [
    "In total, we've got 7,000 reviews. The full dataset has 100,000"
   ]
  },
  {
   "cell_type": "code",
   "execution_count": 5,
   "metadata": {},
   "outputs": [
    {
     "data": {
      "text/plain": [
       "(7000, 5)"
      ]
     },
     "execution_count": 5,
     "metadata": {},
     "output_type": "execute_result"
    }
   ],
   "source": [
    "imdb.shape"
   ]
  },
  {
   "cell_type": "markdown",
   "metadata": {},
   "source": [
    "Whenever you're developing a model it's a very good idea to hold back some data that you won't use for training, and will just be used to give you an indication of how well your model perform on data it's never seen before - https://scikit-learn.org/stable/modules/cross_validation.html\n",
    "\n",
    "Our data is already split into training examples, that we'll use to train the model, and testing examples, that we'll use to see how well it's doing.\n",
    "\n",
    "We have 5,000 training examples and 2,000 test examples"
   ]
  },
  {
   "cell_type": "code",
   "execution_count": 6,
   "metadata": {},
   "outputs": [],
   "source": [
    "#Split training and test data\n",
    "imdb_train = imdb [imdb.type == \"train\"]\n",
    "imdb_test = imdb [imdb.type == \"test\"]"
   ]
  },
  {
   "cell_type": "code",
   "execution_count": 7,
   "metadata": {},
   "outputs": [
    {
     "data": {
      "text/plain": [
       "((5000, 5), (2000, 5))"
      ]
     },
     "execution_count": 7,
     "metadata": {},
     "output_type": "execute_result"
    }
   ],
   "source": [
    "imdb_train.shape, imdb_test.shape"
   ]
  },
  {
   "cell_type": "markdown",
   "metadata": {},
   "source": [
    "## Creating 'text task' class instance and loading data into it\n",
    "\n",
    "The text_analysis module is organised around 'TextTasks'. This is a class that holds all the data and routines for a text analysis job in one place. Once the data is loaded in you can save and load the class instance to pick up where you left off."
   ]
  },
  {
   "cell_type": "code",
   "execution_count": 8,
   "metadata": {},
   "outputs": [],
   "source": [
    "#Initialise tast task object\n",
    "imdb_task = text_task.TextTask()"
   ]
  },
  {
   "cell_type": "markdown",
   "metadata": {},
   "source": [
    "You can load as many different text datasets into task as you like - here we load the training and test data in separately to make sure they don't get mixed up. \n",
    "\n",
    "Give each dataset you load in a tag/label so you know what data you're working with later."
   ]
  },
  {
   "cell_type": "code",
   "execution_count": 9,
   "metadata": {},
   "outputs": [],
   "source": [
    "#Load training data into the text task instance - we label it 'train'\n",
    "imdb_task.add_text(text = imdb_train.review.values, text_tag=\"train\")\n",
    "#And load the test data - we label it 'test'\n",
    "imdb_task.add_text(text = imdb_test.review.values, text_tag=\"test\")"
   ]
  },
  {
   "cell_type": "markdown",
   "metadata": {},
   "source": [
    "The text is saved in a dictionary called 'texts' within the class"
   ]
  },
  {
   "cell_type": "code",
   "execution_count": 10,
   "metadata": {},
   "outputs": [
    {
     "data": {
      "text/plain": [
       "array([\"This has to be the funniest stand up comedy I have ever seen. Eddie Izzard is a genius, he picks in Brits, Americans and everyone in between. His style is completely natural and completely hilarious. I doubt that anyone could sit through this and not laugh their a** off. Watch, enjoy, it's funny.\",\n",
       "       'This is apparently the second remake of this film, having been filmed before in 1911 and 1918. And, in so many ways it reminds me of the later film, A YANK AT OXFORD. Both films concern a conceited blow-hard who arrives at one of the top schools in the world and both, ultimately, show the blow-hard slowly learning about teamwork and decency. In this film, William Haines is \"Tom Brown\" and his main rival, \"Bob\" is played by Frances X. Bushman. And, in a supporting role is Jack Pickford--always remembered as the brother of Mary. Of these three, Pickford comes off the best, as the sympathetic loser who becomes Tom\\'s pal--he actually has a few decent scenes as well as a dramatic moment just before the Big Game! All the standard clichÃ\\x83Â©s are there and the movie, because it was done so many times before and since, offers few surprises. However, it is pleasant film and is enjoyable viewing.<br /><br />In my opinion, for a better silent college film, try Harold Lloyd\\'s THE FRESHMAN--it\\'s football scenes are frankly more exciting and Harold is far more likable and sympathetic than the annoying Tom Brown. THE FRESHMAN is probably the best college picture you can find from the era. Another reason why BROWN AT HARVARD is a lesser picture is that William Haines played essentially the same unlikable and bombastic character with the same plot again and again and again (such as in WESTPOINT and THE SMART SET, among others)--and if you\\'ve seen one of these films, you\\'ve seen them all. Well made, but certainly NOT original! And, because it is just a rehash of his other films, anyone giving the film a score of 10 is STRONGLY advised to see these other films.<br /><br />4/25/08==I just checked and saw this this small film was the highest rated film on IMDb from the 1920!! Talk about over-rated! There are dozens and dozens of better films--how this film got to be #1 is anyone\\'s guess.',\n",
       "       'In order to stop her homosexual friend Albert (Perry King) from being deported back to Belgium, Stella (Meg Foster) decides to marry him. The only other problem with that is that Stella herself is a lesbian. The two have their separate lives when one night after Albert\\'s birthday party, they fall into bed and then into love. Later in the film after falling in love, Stella suspects Albert of cheating and shows up at his job one night late after closing. What she finds will leave the viewer stunned. This is a great film, very original. Perry King and Meg Foster are so good in their roles that it is amazing that they were not better recognized for their work here. Very controversial upon its release in 1978, the \"R\" rated film is now \"PG\" in this much more liberal time.<br /><br />Recently released on DVD, the disc contains a \"Making Of\" segment on the special features and in it it\\'s stated that the film was based on an actual story so the viewers who say the film is not \"real\" are mistaken. Everyone is an individual and different people fall in love for different reasons-these are the issues explored in this wonderful film for everyone who has ever loved!',\n",
       "       ...,\n",
       "       \"OK, I kinda like the idea of this movie. I'm in the age demographic, and I kinda identify with some of the stories. Even the sometimes tacky and meaningless dialogue seems semi-realistic, and in a different movie would have been forgivable.<br /><br />I'm trying as hard as possible not to trash this movie like the others did, but it's not that easy when the filmmakers weren't trying at all.<br /><br />The editing in this movie is terrible! Possibly the worst editing I've ever seen in a movie! There are things that you don't have to go to film school to learn, leaning good editing is not one of them, but identifying a bad one is.<br /><br />Also, the shot... Oh my God the shots, just awful! I can't even go into the details, but we sometimes just see random things popping up, and that, in conjunction with the editing will give you the most painful film viewing experience.<br /><br />This movie being made on low or no budget with 4 cast and crew is not an excuse also. I've seen short films on youtube with a lot more artistic integrity! Joe, Greta, I don't know what the heck you were thinking, but this movie is nothing but a masturbation of both your egos. You should be ashamed of yourselves! In conclusion, this movie is like what a really lazy amateur porn movie will be if it was filled with 3 or 4 lousy sex scenes separated by long boring conversations and one disgusting masturbation scene. If that's not your kind of thing, avoid this at all cost!\",\n",
       "       \"... Bad at being intentionally bad...<br /><br />This little gem shot straight onto the MST3k big screen. While it's obvious the movie isn't trying to be taken seriously (Hopefully that their goal, anyway...), the movie is still plain bad. Hell, it makes Leprechaun In Space look big budgeted...<br /><br />In short: Paint my muscle car prune colored!\",\n",
       "       'Great Woody Allen? No. Good Woody Allen? Definitely. I found myself, along with the audience in attendance, laughing hard and often at some of the best Woody Allen lines we\\'ve heard in a while. The aging Allen created an appropriate role for himself as Scarlett Johansson\\'s \"father\" ... well, sort of. Some have said Johansson plays \"a young Dianne Keaton.\" I beg to differ. She plays Woody\\'s dialogue, which, in his comedies, always has a very similar feel...like, well, a Woody Allen comedy. That\\'s fine for us Woody appreciators. She certainly did Woody\\'s dialogue far better than the young cast of his last comedy, Melinda/Melinda. Some may find Woody\\'s humor tiresome, but for those of us who love it when it\\'s done right, we look forward to the next.'],\n",
       "      dtype=object)"
      ]
     },
     "execution_count": 10,
     "metadata": {},
     "output_type": "execute_result"
    }
   ],
   "source": [
    "imdb_task.texts ['train']"
   ]
  },
  {
   "cell_type": "markdown",
   "metadata": {},
   "source": [
    "## Cleaning/preprocessing text\n",
    "\n",
    "The first real job with working with text is to clean/preprocess it.\n",
    "\n",
    "We do this with the 'clean_text' method (or write your own routine). Specify the dataset you want to clean using the tag you gave it, and how you want to clean it. At the moment, the method will overwrite your data, make sure you save the original version somewhere else!"
   ]
  },
  {
   "cell_type": "code",
   "execution_count": 11,
   "metadata": {},
   "outputs": [
    {
     "data": {
      "text/plain": [
       "\"This has to be the funniest stand up comedy I have ever seen. Eddie Izzard is a genius, he picks in Brits, Americans and everyone in between. His style is completely natural and completely hilarious. I doubt that anyone could sit through this and not laugh their a** off. Watch, enjoy, it's funny.\""
      ]
     },
     "execution_count": 11,
     "metadata": {},
     "output_type": "execute_result"
    }
   ],
   "source": [
    "#Before\n",
    "imdb_task.texts ['train'][0]"
   ]
  },
  {
   "cell_type": "code",
   "execution_count": 12,
   "metadata": {},
   "outputs": [],
   "source": [
    "imdb_task.clean_text (text_tag=\"train\", processes=['urls', 'punctuation', 'numeric', 'lower'])"
   ]
  },
  {
   "cell_type": "code",
   "execution_count": 13,
   "metadata": {},
   "outputs": [
    {
     "data": {
      "text/plain": [
       "'this has to be the funniest stand up comedy i have ever seen eddie izzard is a genius he picks in brits americans and everyone in between his style is completely natural and completely hilarious i doubt that anyone could sit through this and not laugh their a off watch enjoy it s funny'"
      ]
     },
     "execution_count": 13,
     "metadata": {},
     "output_type": "execute_result"
    }
   ],
   "source": [
    "#After\n",
    "imdb_task.texts ['train'][0]"
   ]
  },
  {
   "cell_type": "code",
   "execution_count": 14,
   "metadata": {},
   "outputs": [],
   "source": [
    "#Clean test data\n",
    "imdb_task.clean_text (text_tag=\"test\", processes=['urls', 'punctuation', 'numeric', 'lower'])"
   ]
  },
  {
   "cell_type": "markdown",
   "metadata": {},
   "source": [
    "Save the task instance - with a lot of text the cleaning can take a while, so it's a good idea to save so you don't need to do it again and can just pick up where you left off"
   ]
  },
  {
   "cell_type": "code",
   "execution_count": 15,
   "metadata": {},
   "outputs": [],
   "source": [
    "imdb_task.save (\"imdb_text.pkl\")"
   ]
  },
  {
   "cell_type": "code",
   "execution_count": 16,
   "metadata": {},
   "outputs": [],
   "source": [
    "#Reload the instance - uncomment this if you're picking up from here\n",
    "#mdb_task = text_task.load (\"imdb_text.pkl\")"
   ]
  },
  {
   "cell_type": "markdown",
   "metadata": {},
   "source": [
    "## Tf-idf\n",
    "\n",
    "tf-idf (text frequency-inverse document frequency) is a good place to start with most tasks\n",
    "\n",
    "# ADD TF-IDF SLIDE IMAGE HERE"
   ]
  },
  {
   "cell_type": "markdown",
   "metadata": {},
   "source": [
    "Calculating the tf-idf scores for each review is easy with the class instance - just call 'fit_tf_idf' with the tag of the dataset you want to train the model on"
   ]
  },
  {
   "cell_type": "code",
   "execution_count": null,
   "metadata": {},
   "outputs": [],
   "source": []
  },
  {
   "cell_type": "code",
   "execution_count": 69,
   "metadata": {},
   "outputs": [],
   "source": [
    "from sklearn.feature_extraction.text import TfidfVectorizer, CountVectorizer\n",
    "from sklearn.decomposition import LatentDirichletAllocation, NMF"
   ]
  },
  {
   "cell_type": "code",
   "execution_count": 43,
   "metadata": {},
   "outputs": [],
   "source": [
    "count_vectorizer = CountVectorizer(max_features=10000, stop_words='english')"
   ]
  },
  {
   "cell_type": "code",
   "execution_count": 97,
   "metadata": {},
   "outputs": [],
   "source": [
    "cvec_train = count_vectorizer.fit_transform(imdb_task.texts ['train'])\n",
    "cvec_test = count_vectorizer.fit_transform(imdb_task.texts ['test'])"
   ]
  },
  {
   "cell_type": "code",
   "execution_count": 98,
   "metadata": {},
   "outputs": [],
   "source": [
    "cvec_feature_names = count_vectorizer.get_feature_names()"
   ]
  },
  {
   "cell_type": "code",
   "execution_count": 120,
   "metadata": {},
   "outputs": [],
   "source": [
    "#lda_model = LatentDirichletAllocation(n_components=5, max_iter=10, learning_method = \"batch\", random_state=2344)\n",
    "topic_model = NMF(n_components=20,  random_state=2344)"
   ]
  },
  {
   "cell_type": "code",
   "execution_count": 121,
   "metadata": {},
   "outputs": [
    {
     "data": {
      "text/plain": [
       "NMF(alpha=0.0, beta_loss='frobenius', init=None, l1_ratio=0.0, max_iter=200,\n",
       "  n_components=20, random_state=2344, shuffle=False, solver='cd',\n",
       "  tol=0.0001, verbose=0)"
      ]
     },
     "execution_count": 121,
     "metadata": {},
     "output_type": "execute_result"
    }
   ],
   "source": [
    "topic_model.fit(cvec_train)"
   ]
  },
  {
   "cell_type": "code",
   "execution_count": 122,
   "metadata": {},
   "outputs": [],
   "source": [
    "def display_topics(model, feature_names, no_top_words):\n",
    "    for topic_idx, topic in enumerate(model.components_):\n",
    "        print (\"Topic %d:\" % (topic_idx))\n",
    "        print (\" \".join([feature_names[i] for i in topic.argsort()[:-no_top_words - 1:-1]]))"
   ]
  },
  {
   "cell_type": "code",
   "execution_count": 123,
   "metadata": {},
   "outputs": [],
   "source": [
    "no_top_words = 5"
   ]
  },
  {
   "cell_type": "code",
   "execution_count": 124,
   "metadata": {},
   "outputs": [
    {
     "name": "stdout",
     "output_type": "stream",
     "text": [
      "Topic 0:\n",
      "boyle 007 emphasize das facing\n",
      "Topic 1:\n",
      "naff nail wealthy portrayal sensing\n",
      "Topic 2:\n",
      "films finding dies scott married\n",
      "Topic 3:\n",
      "listed nail lowest distributors loner\n",
      "Topic 4:\n",
      "championship changes portrayal scorpion emphasize\n",
      "Topic 5:\n",
      "govinda profoundly actioner timothy carries\n",
      "Topic 6:\n",
      "keira distributors lacked displays development\n",
      "Topic 7:\n",
      "studios studied huppert actual ullmann\n",
      "Topic 8:\n",
      "bacon actioner writings marlon hamill\n",
      "Topic 9:\n",
      "pierce distributors website timothy school\n",
      "Topic 10:\n",
      "touch emphasize yokozuna lover sensing\n",
      "Topic 11:\n",
      "reduce distributors timothy development wealthy\n",
      "Topic 12:\n",
      "humanity finding huppert graffiti notably\n",
      "Topic 13:\n",
      "seymour entries underground entitled nope\n",
      "Topic 14:\n",
      "bent acts dies sensing college\n",
      "Topic 15:\n",
      "mart lines fame faulkner yuck\n",
      "Topic 16:\n",
      "vile veidt lacked kansas raveena\n",
      "Topic 17:\n",
      "macarthur lines pedestrian changes website\n",
      "Topic 18:\n",
      "jeanne cybertracker hungry scorpion lang\n",
      "Topic 19:\n",
      "grip displayed nature lurking worrying\n"
     ]
    }
   ],
   "source": [
    "display_topics(topic_model, cvec_feature_names, no_top_words)"
   ]
  },
  {
   "cell_type": "code",
   "execution_count": 125,
   "metadata": {},
   "outputs": [],
   "source": [
    "train_vec = topic_model.transform (cvec_train)\n",
    "test_vec = topic_model.transform (cvec_test)"
   ]
  },
  {
   "cell_type": "code",
   "execution_count": 158,
   "metadata": {},
   "outputs": [],
   "source": [
    "import sklearn.linear_model\n",
    "log_reg = sklearn.linear_model.LogisticRegression (C=0.1, solver='newton-cg', random_state=46543)\n",
    "train_labs = np.array (imdb.label.values [imdb.type == \"train\"] == \"pos\")*1\n",
    "test_labs = np.array (imdb.label.values [imdb.type == \"test\"] == \"pos\")*1"
   ]
  },
  {
   "cell_type": "code",
   "execution_count": 159,
   "metadata": {},
   "outputs": [
    {
     "data": {
      "text/plain": [
       "LogisticRegression(C=0.1, class_weight=None, dual=False, fit_intercept=True,\n",
       "          intercept_scaling=1, max_iter=100, multi_class='ovr', n_jobs=1,\n",
       "          penalty='l2', random_state=46543, solver='newton-cg', tol=0.0001,\n",
       "          verbose=0, warm_start=False)"
      ]
     },
     "execution_count": 159,
     "metadata": {},
     "output_type": "execute_result"
    }
   ],
   "source": [
    "log_reg.fit (train_vec, train_labs)"
   ]
  },
  {
   "cell_type": "code",
   "execution_count": 160,
   "metadata": {},
   "outputs": [
    {
     "data": {
      "text/plain": [
       "0.7028"
      ]
     },
     "execution_count": 160,
     "metadata": {},
     "output_type": "execute_result"
    }
   ],
   "source": [
    "log_reg.score (train_vec, train_labs)"
   ]
  },
  {
   "cell_type": "code",
   "execution_count": 161,
   "metadata": {},
   "outputs": [
    {
     "data": {
      "text/plain": [
       "0.4995"
      ]
     },
     "execution_count": 161,
     "metadata": {},
     "output_type": "execute_result"
    }
   ],
   "source": [
    "log_reg.score (test_vec, test_labs)"
   ]
  },
  {
   "cell_type": "code",
   "execution_count": null,
   "metadata": {},
   "outputs": [],
   "source": []
  },
  {
   "cell_type": "markdown",
   "metadata": {},
   "source": [
    "#### Train tf-idf model"
   ]
  },
  {
   "cell_type": "code",
   "execution_count": 17,
   "metadata": {},
   "outputs": [],
   "source": [
    "#Train/fit tf-idf model\n",
    "imdb_task.fit_tf_idf(text_tag='train')"
   ]
  },
  {
   "cell_type": "markdown",
   "metadata": {},
   "source": [
    "We can access the fitted scores via 'get_tf_idf' with the dataset tag\n",
    "\n",
    "By default, the tf-idf scores will be as long as our vocabulary is large, which can be massive for a big dataset. I've clipped this to be only the most common 30,000 words.\n",
    "\n",
    "\n",
    "So we get a matrix that is 5,000 (the number of training reviews) by 30,000 (our clipped vocabulary)"
   ]
  },
  {
   "cell_type": "code",
   "execution_count": 18,
   "metadata": {},
   "outputs": [
    {
     "data": {
      "text/plain": [
       "(5000, 30000)"
      ]
     },
     "execution_count": 18,
     "metadata": {},
     "output_type": "execute_result"
    }
   ],
   "source": [
    "imdb_task.get_tf_idf('train').shape"
   ]
  },
  {
   "cell_type": "markdown",
   "metadata": {},
   "source": [
    "Most of the columns are 0.0 (the word in our vocabulary wasn't mentioned in the particular review) - tf-idf is not very efficient..."
   ]
  },
  {
   "cell_type": "code",
   "execution_count": 19,
   "metadata": {},
   "outputs": [
    {
     "data": {
      "text/plain": [
       "[0.0,\n",
       " 0.0,\n",
       " 0.0,\n",
       " 0.0,\n",
       " 0.0,\n",
       " 0.0,\n",
       " 0.0,\n",
       " 0.0,\n",
       " 0.0,\n",
       " 0.0,\n",
       " 0.0,\n",
       " 0.0,\n",
       " 0.0,\n",
       " 0.0,\n",
       " 0.0,\n",
       " 0.0,\n",
       " 0.0,\n",
       " 0.0,\n",
       " 0.0,\n",
       " 0.0,\n",
       " 0.0,\n",
       " 0.0,\n",
       " 0.0,\n",
       " 0.0,\n",
       " 0.0,\n",
       " 0.0,\n",
       " 0.0,\n",
       " 0.0,\n",
       " 0.0,\n",
       " 0.0,\n",
       " 0.0,\n",
       " 0.0,\n",
       " 0.0,\n",
       " 0.0,\n",
       " 0.0,\n",
       " 0.0,\n",
       " 0.0,\n",
       " 0.0,\n",
       " 0.0,\n",
       " 0.0,\n",
       " 0.0,\n",
       " 0.0,\n",
       " 0.0,\n",
       " 0.0,\n",
       " 0.0,\n",
       " 0.0,\n",
       " 0.0,\n",
       " 0.0,\n",
       " 0.0,\n",
       " 0.0,\n",
       " 0.0,\n",
       " 0.0,\n",
       " 0.0,\n",
       " 0.0,\n",
       " 0.0,\n",
       " 0.0,\n",
       " 0.0,\n",
       " 0.0,\n",
       " 0.0,\n",
       " 0.0,\n",
       " 0.0,\n",
       " 0.0,\n",
       " 0.0,\n",
       " 0.0,\n",
       " 0.0,\n",
       " 0.0,\n",
       " 0.0,\n",
       " 0.0,\n",
       " 0.0,\n",
       " 0.0,\n",
       " 0.0,\n",
       " 0.0,\n",
       " 0.0,\n",
       " 0.0,\n",
       " 0.0,\n",
       " 0.0,\n",
       " 0.0,\n",
       " 0.0,\n",
       " 0.0,\n",
       " 0.0,\n",
       " 0.0,\n",
       " 0.0,\n",
       " 0.0,\n",
       " 0.0,\n",
       " 0.0,\n",
       " 0.0,\n",
       " 0.0,\n",
       " 0.0,\n",
       " 0.0,\n",
       " 0.0,\n",
       " 0.0,\n",
       " 0.0,\n",
       " 0.0,\n",
       " 0.0,\n",
       " 0.0,\n",
       " 0.0,\n",
       " 0.0,\n",
       " 0.0,\n",
       " 0.0,\n",
       " 0.0,\n",
       " 0.0,\n",
       " 0.0,\n",
       " 0.0,\n",
       " 0.0,\n",
       " 0.0,\n",
       " 0.0,\n",
       " 0.0,\n",
       " 0.0,\n",
       " 0.0,\n",
       " 0.0,\n",
       " 0.0,\n",
       " 0.0,\n",
       " 0.0,\n",
       " 0.0,\n",
       " 0.0,\n",
       " 0.0,\n",
       " 0.0,\n",
       " 0.0,\n",
       " 0.0,\n",
       " 0.0,\n",
       " 0.0,\n",
       " 0.0,\n",
       " 0.0,\n",
       " 0.0,\n",
       " 0.0,\n",
       " 0.0,\n",
       " 0.0,\n",
       " 0.0,\n",
       " 0.0,\n",
       " 0.0,\n",
       " 0.0,\n",
       " 0.0,\n",
       " 0.0,\n",
       " 0.0,\n",
       " 0.0,\n",
       " 0.0,\n",
       " 0.0,\n",
       " 0.0,\n",
       " 0.0,\n",
       " 0.0,\n",
       " 0.0,\n",
       " 0.0,\n",
       " 0.0,\n",
       " 0.0,\n",
       " 0.0,\n",
       " 0.0,\n",
       " 0.0,\n",
       " 0.0,\n",
       " 0.0,\n",
       " 0.0,\n",
       " 0.0,\n",
       " 0.0,\n",
       " 0.0,\n",
       " 0.0,\n",
       " 0.0,\n",
       " 0.0,\n",
       " 0.0,\n",
       " 0.0,\n",
       " 0.0,\n",
       " 0.0,\n",
       " 0.0,\n",
       " 0.0,\n",
       " 0.0,\n",
       " 0.0,\n",
       " 0.0,\n",
       " 0.0,\n",
       " 0.0,\n",
       " 0.0,\n",
       " 0.0,\n",
       " 0.0,\n",
       " 0.0,\n",
       " 0.0,\n",
       " 0.0,\n",
       " 0.0,\n",
       " 0.0,\n",
       " 0.0,\n",
       " 0.0,\n",
       " 0.0,\n",
       " 0.0,\n",
       " 0.0,\n",
       " 0.0,\n",
       " 0.0,\n",
       " 0.0,\n",
       " 0.0,\n",
       " 0.0,\n",
       " 0.0,\n",
       " 0.0,\n",
       " 0.0,\n",
       " 0.0,\n",
       " 0.0,\n",
       " 0.0,\n",
       " 0.0,\n",
       " 0.0,\n",
       " 0.0,\n",
       " 0.0,\n",
       " 0.0,\n",
       " 0.0,\n",
       " 0.0,\n",
       " 0.0,\n",
       " 0.0,\n",
       " 0.0,\n",
       " 0.0,\n",
       " 0.0,\n",
       " 0.0,\n",
       " 0.0,\n",
       " 0.0,\n",
       " 0.0,\n",
       " 0.0,\n",
       " 0.0,\n",
       " 0.0,\n",
       " 0.0,\n",
       " 0.0,\n",
       " 0.0,\n",
       " 0.0,\n",
       " 0.0,\n",
       " 0.0,\n",
       " 0.0,\n",
       " 0.0,\n",
       " 0.0,\n",
       " 0.0,\n",
       " 0.0,\n",
       " 0.0,\n",
       " 0.0,\n",
       " 0.0,\n",
       " 0.0,\n",
       " 0.0,\n",
       " 0.0,\n",
       " 0.0,\n",
       " 0.0,\n",
       " 0.0,\n",
       " 0.0,\n",
       " 0.0,\n",
       " 0.0,\n",
       " 0.0,\n",
       " 0.0,\n",
       " 0.0,\n",
       " 0.0,\n",
       " 0.0,\n",
       " 0.0,\n",
       " 0.0,\n",
       " 0.0,\n",
       " 0.0,\n",
       " 0.0,\n",
       " 0.0,\n",
       " 0.0,\n",
       " 0.0,\n",
       " 0.0,\n",
       " 0.0,\n",
       " 0.0,\n",
       " 0.0,\n",
       " 0.0,\n",
       " 0.0,\n",
       " 0.0,\n",
       " 0.0,\n",
       " 0.0,\n",
       " 0.0,\n",
       " 0.0,\n",
       " 0.0,\n",
       " 0.0,\n",
       " 0.0,\n",
       " 0.0,\n",
       " 0.0,\n",
       " 0.0,\n",
       " 0.0,\n",
       " 0.0,\n",
       " 0.0,\n",
       " 0.0,\n",
       " 0.0,\n",
       " 0.0,\n",
       " 0.0,\n",
       " 0.0,\n",
       " 0.0,\n",
       " 0.0,\n",
       " 0.0,\n",
       " 0.0,\n",
       " 0.0,\n",
       " 0.0,\n",
       " 0.0,\n",
       " 0.0,\n",
       " 0.0,\n",
       " 0.0,\n",
       " 0.0,\n",
       " 0.0,\n",
       " 0.0,\n",
       " 0.0,\n",
       " 0.0,\n",
       " 0.0,\n",
       " 0.0,\n",
       " 0.0,\n",
       " 0.0,\n",
       " 0.0,\n",
       " 0.0,\n",
       " 0.0,\n",
       " 0.0,\n",
       " 0.0,\n",
       " 0.0,\n",
       " 0.0,\n",
       " 0.0,\n",
       " 0.0,\n",
       " 0.0,\n",
       " 0.0,\n",
       " 0.0,\n",
       " 0.0,\n",
       " 0.0,\n",
       " 0.0,\n",
       " 0.0,\n",
       " 0.0,\n",
       " 0.0,\n",
       " 0.0,\n",
       " 0.0,\n",
       " 0.0,\n",
       " 0.0,\n",
       " 0.0,\n",
       " 0.0,\n",
       " 0.0,\n",
       " 0.0,\n",
       " 0.0,\n",
       " 0.0,\n",
       " 0.0,\n",
       " 0.0,\n",
       " 0.0,\n",
       " 0.0,\n",
       " 0.0,\n",
       " 0.0,\n",
       " 0.0,\n",
       " 0.0,\n",
       " 0.0,\n",
       " 0.0,\n",
       " 0.0,\n",
       " 0.0,\n",
       " 0.0,\n",
       " 0.0,\n",
       " 0.0,\n",
       " 0.0,\n",
       " 0.0,\n",
       " 0.0,\n",
       " 0.0,\n",
       " 0.0,\n",
       " 0.0,\n",
       " 0.0,\n",
       " 0.0,\n",
       " 0.0,\n",
       " 0.0,\n",
       " 0.0,\n",
       " 0.0,\n",
       " 0.0,\n",
       " 0.0,\n",
       " 0.0,\n",
       " 0.0,\n",
       " 0.0,\n",
       " 0.0,\n",
       " 0.0,\n",
       " 0.0,\n",
       " 0.0,\n",
       " 0.0,\n",
       " 0.0,\n",
       " 0.0,\n",
       " 0.0,\n",
       " 0.0,\n",
       " 0.0,\n",
       " 0.0,\n",
       " 0.0,\n",
       " 0.0,\n",
       " 0.0,\n",
       " 0.0,\n",
       " 0.0,\n",
       " 0.0,\n",
       " 0.0,\n",
       " 0.0,\n",
       " 0.0,\n",
       " 0.0,\n",
       " 0.0,\n",
       " 0.0,\n",
       " 0.0,\n",
       " 0.0,\n",
       " 0.0,\n",
       " 0.0,\n",
       " 0.0,\n",
       " 0.0,\n",
       " 0.0,\n",
       " 0.0,\n",
       " 0.0,\n",
       " 0.0,\n",
       " 0.0,\n",
       " 0.0,\n",
       " 0.0,\n",
       " 0.0,\n",
       " 0.0,\n",
       " 0.0,\n",
       " 0.0,\n",
       " 0.0,\n",
       " 0.0,\n",
       " 0.0,\n",
       " 0.0,\n",
       " 0.0,\n",
       " 0.0,\n",
       " 0.0,\n",
       " 0.0,\n",
       " 0.0,\n",
       " 0.0,\n",
       " 0.0,\n",
       " 0.0,\n",
       " 0.0,\n",
       " 0.0,\n",
       " 0.0,\n",
       " 0.0,\n",
       " 0.0,\n",
       " 0.0,\n",
       " 0.0,\n",
       " 0.0,\n",
       " 0.0,\n",
       " 0.0,\n",
       " 0.0,\n",
       " 0.0,\n",
       " 0.0,\n",
       " 0.0,\n",
       " 0.0,\n",
       " 0.0,\n",
       " 0.0,\n",
       " 0.0,\n",
       " 0.0,\n",
       " 0.0,\n",
       " 0.0,\n",
       " 0.0,\n",
       " 0.0,\n",
       " 0.0,\n",
       " 0.0,\n",
       " 0.0,\n",
       " 0.0,\n",
       " 0.0,\n",
       " 0.0,\n",
       " 0.0,\n",
       " 0.0,\n",
       " 0.0,\n",
       " 0.0,\n",
       " 0.0,\n",
       " 0.0,\n",
       " 0.0,\n",
       " 0.0,\n",
       " 0.0,\n",
       " 0.0,\n",
       " 0.0,\n",
       " 0.0,\n",
       " 0.0,\n",
       " 0.0,\n",
       " 0.0,\n",
       " 0.0,\n",
       " 0.0,\n",
       " 0.0,\n",
       " 0.0,\n",
       " 0.0,\n",
       " 0.0,\n",
       " 0.0,\n",
       " 0.0,\n",
       " 0.0,\n",
       " 0.0,\n",
       " 0.0,\n",
       " 0.0,\n",
       " 0.0,\n",
       " 0.0,\n",
       " 0.0,\n",
       " 0.0,\n",
       " 0.0,\n",
       " 0.0,\n",
       " 0.0,\n",
       " 0.0,\n",
       " 0.0,\n",
       " 0.0,\n",
       " 0.0,\n",
       " 0.0,\n",
       " 0.0,\n",
       " 0.0,\n",
       " 0.0,\n",
       " 0.0,\n",
       " 0.0,\n",
       " 0.0,\n",
       " 0.0,\n",
       " 0.0,\n",
       " 0.0,\n",
       " 0.0,\n",
       " 0.0,\n",
       " 0.0,\n",
       " 0.0,\n",
       " 0.0,\n",
       " 0.0,\n",
       " 0.0,\n",
       " 0.0,\n",
       " 0.0,\n",
       " 0.0,\n",
       " 0.0,\n",
       " 0.0,\n",
       " 0.0,\n",
       " 0.0,\n",
       " 0.0,\n",
       " 0.0,\n",
       " 0.0,\n",
       " 0.0,\n",
       " 0.0,\n",
       " 0.0,\n",
       " 0.0,\n",
       " 0.0,\n",
       " 0.0,\n",
       " 0.0,\n",
       " 0.0,\n",
       " 0.0,\n",
       " 0.0,\n",
       " 0.0,\n",
       " 0.0,\n",
       " 0.0,\n",
       " 0.0,\n",
       " 0.0,\n",
       " 0.0,\n",
       " 0.0,\n",
       " 0.0,\n",
       " 0.0,\n",
       " 0.0,\n",
       " 0.0,\n",
       " 0.0,\n",
       " 0.0,\n",
       " 0.0,\n",
       " 0.0,\n",
       " 0.0,\n",
       " 0.0,\n",
       " 0.0,\n",
       " 0.0,\n",
       " 0.0,\n",
       " 0.0,\n",
       " 0.0,\n",
       " 0.0,\n",
       " 0.0,\n",
       " 0.0,\n",
       " 0.0,\n",
       " 0.0,\n",
       " 0.0,\n",
       " 0.0,\n",
       " 0.0,\n",
       " 0.0,\n",
       " 0.0,\n",
       " 0.0,\n",
       " 0.0,\n",
       " 0.0,\n",
       " 0.0,\n",
       " 0.0,\n",
       " 0.0,\n",
       " 0.0,\n",
       " 0.0,\n",
       " 0.0,\n",
       " 0.0,\n",
       " 0.0,\n",
       " 0.0,\n",
       " 0.0,\n",
       " 0.0,\n",
       " 0.0,\n",
       " 0.0,\n",
       " 0.0,\n",
       " 0.0,\n",
       " 0.0,\n",
       " 0.0,\n",
       " 0.0,\n",
       " 0.0,\n",
       " 0.0,\n",
       " 0.0,\n",
       " 0.0,\n",
       " 0.0,\n",
       " 0.0,\n",
       " 0.0,\n",
       " 0.0,\n",
       " 0.0,\n",
       " 0.0,\n",
       " 0.0,\n",
       " 0.0,\n",
       " 0.0,\n",
       " 0.0,\n",
       " 0.0,\n",
       " 0.0,\n",
       " 0.0,\n",
       " 0.0,\n",
       " 0.0,\n",
       " 0.0,\n",
       " 0.0,\n",
       " 0.0,\n",
       " 0.0,\n",
       " 0.0,\n",
       " 0.0,\n",
       " 0.0,\n",
       " 0.0,\n",
       " 0.0,\n",
       " 0.0,\n",
       " 0.0,\n",
       " 0.0,\n",
       " 0.0,\n",
       " 0.0,\n",
       " 0.0,\n",
       " 0.0,\n",
       " 0.0,\n",
       " 0.0,\n",
       " 0.0,\n",
       " 0.0,\n",
       " 0.0,\n",
       " 0.0,\n",
       " 0.0,\n",
       " 0.0,\n",
       " 0.0,\n",
       " 0.0,\n",
       " 0.0,\n",
       " 0.0,\n",
       " 0.0,\n",
       " 0.0,\n",
       " 0.0,\n",
       " 0.0,\n",
       " 0.0,\n",
       " 0.0,\n",
       " 0.0,\n",
       " 0.0,\n",
       " 0.0,\n",
       " 0.0,\n",
       " 0.0,\n",
       " 0.0,\n",
       " 0.0,\n",
       " 0.0,\n",
       " 0.0,\n",
       " 0.0,\n",
       " 0.0,\n",
       " 0.0,\n",
       " 0.0,\n",
       " 0.0,\n",
       " 0.0,\n",
       " 0.0,\n",
       " 0.0,\n",
       " 0.0,\n",
       " 0.0,\n",
       " 0.0,\n",
       " 0.0,\n",
       " 0.0,\n",
       " 0.0,\n",
       " 0.0,\n",
       " 0.0,\n",
       " 0.0,\n",
       " 0.0,\n",
       " 0.0,\n",
       " 0.0,\n",
       " 0.0,\n",
       " 0.0,\n",
       " 0.0,\n",
       " 0.0,\n",
       " 0.0,\n",
       " 0.0,\n",
       " 0.2205192771679573,\n",
       " 0.0,\n",
       " 0.0,\n",
       " 0.0,\n",
       " 0.0,\n",
       " 0.0,\n",
       " 0.0,\n",
       " 0.0,\n",
       " 0.0,\n",
       " 0.0,\n",
       " 0.0,\n",
       " 0.0,\n",
       " 0.0,\n",
       " 0.0,\n",
       " 0.0,\n",
       " 0.0,\n",
       " 0.0,\n",
       " 0.0,\n",
       " 0.0,\n",
       " 0.0,\n",
       " 0.0,\n",
       " 0.0,\n",
       " 0.0,\n",
       " 0.0,\n",
       " 0.0,\n",
       " 0.0,\n",
       " 0.0,\n",
       " 0.0,\n",
       " 0.0,\n",
       " 0.0,\n",
       " 0.0,\n",
       " 0.0,\n",
       " 0.0,\n",
       " 0.0,\n",
       " 0.0,\n",
       " 0.0,\n",
       " 0.0,\n",
       " 0.0,\n",
       " 0.0,\n",
       " 0.0,\n",
       " 0.0,\n",
       " 0.0,\n",
       " 0.0,\n",
       " 0.0,\n",
       " 0.0,\n",
       " 0.0,\n",
       " 0.0,\n",
       " 0.0,\n",
       " 0.0,\n",
       " 0.0,\n",
       " 0.0,\n",
       " 0.0,\n",
       " 0.0,\n",
       " 0.0,\n",
       " 0.0,\n",
       " 0.0,\n",
       " 0.0,\n",
       " 0.0,\n",
       " 0.0,\n",
       " 0.0,\n",
       " 0.0,\n",
       " 0.0,\n",
       " 0.0,\n",
       " 0.0,\n",
       " 0.0,\n",
       " 0.0,\n",
       " 0.0,\n",
       " 0.0,\n",
       " 0.12425038149084848,\n",
       " 0.0,\n",
       " 0.0,\n",
       " 0.0,\n",
       " 0.0,\n",
       " 0.0,\n",
       " 0.0,\n",
       " 0.0,\n",
       " 0.0,\n",
       " 0.0,\n",
       " 0.0,\n",
       " 0.0,\n",
       " 0.0,\n",
       " 0.0,\n",
       " 0.0,\n",
       " 0.0,\n",
       " 0.0,\n",
       " 0.0,\n",
       " 0.0,\n",
       " 0.0,\n",
       " 0.0,\n",
       " 0.0,\n",
       " 0.0,\n",
       " 0.0,\n",
       " 0.0,\n",
       " 0.0,\n",
       " 0.0,\n",
       " 0.0,\n",
       " 0.0,\n",
       " 0.0,\n",
       " 0.0,\n",
       " 0.0,\n",
       " 0.0,\n",
       " 0.0,\n",
       " 0.0,\n",
       " 0.0,\n",
       " 0.0,\n",
       " 0.0,\n",
       " 0.0,\n",
       " 0.0,\n",
       " 0.0,\n",
       " 0.0,\n",
       " 0.0,\n",
       " 0.0,\n",
       " 0.0,\n",
       " 0.0,\n",
       " 0.0,\n",
       " 0.0,\n",
       " 0.0,\n",
       " 0.0,\n",
       " 0.0,\n",
       " 0.0,\n",
       " 0.0,\n",
       " 0.0,\n",
       " 0.0,\n",
       " 0.0,\n",
       " 0.0,\n",
       " 0.0,\n",
       " 0.0,\n",
       " 0.0,\n",
       " 0.0,\n",
       " 0.0,\n",
       " 0.0,\n",
       " 0.0,\n",
       " 0.0,\n",
       " 0.0,\n",
       " 0.0,\n",
       " 0.0,\n",
       " 0.0,\n",
       " 0.0,\n",
       " 0.0,\n",
       " 0.0,\n",
       " 0.0,\n",
       " 0.0,\n",
       " 0.0,\n",
       " 0.0,\n",
       " 0.0,\n",
       " 0.0,\n",
       " 0.0,\n",
       " 0.0,\n",
       " 0.0,\n",
       " 0.0,\n",
       " 0.0,\n",
       " 0.0,\n",
       " 0.0,\n",
       " 0.0,\n",
       " 0.0,\n",
       " 0.0,\n",
       " 0.0,\n",
       " 0.0,\n",
       " 0.0,\n",
       " 0.0,\n",
       " 0.0,\n",
       " 0.0,\n",
       " 0.0,\n",
       " 0.0,\n",
       " 0.0,\n",
       " 0.0,\n",
       " 0.0,\n",
       " 0.0,\n",
       " 0.0,\n",
       " 0.0,\n",
       " 0.0,\n",
       " 0.0,\n",
       " 0.0,\n",
       " 0.0,\n",
       " 0.0,\n",
       " 0.0,\n",
       " 0.0,\n",
       " 0.0,\n",
       " 0.0,\n",
       " 0.0,\n",
       " 0.0,\n",
       " 0.0,\n",
       " 0.0,\n",
       " 0.0,\n",
       " 0.0,\n",
       " 0.0,\n",
       " 0.0,\n",
       " 0.0,\n",
       " 0.0,\n",
       " 0.0,\n",
       " 0.0,\n",
       " 0.0,\n",
       " 0.0,\n",
       " 0.0,\n",
       " 0.0,\n",
       " 0.0,\n",
       " 0.0,\n",
       " 0.0,\n",
       " 0.0,\n",
       " 0.0,\n",
       " 0.0,\n",
       " 0.0,\n",
       " 0.0,\n",
       " 0.13312253863890686,\n",
       " 0.0,\n",
       " 0.0,\n",
       " 0.0,\n",
       " 0.0,\n",
       " 0.0,\n",
       " 0.0,\n",
       " 0.0,\n",
       " 0.0,\n",
       " 0.0,\n",
       " 0.0,\n",
       " 0.0,\n",
       " 0.0,\n",
       " 0.0,\n",
       " 0.0,\n",
       " 0.0,\n",
       " 0.0,\n",
       " 0.0,\n",
       " 0.0,\n",
       " 0.0,\n",
       " 0.0,\n",
       " 0.0,\n",
       " 0.0,\n",
       " 0.0,\n",
       " 0.0,\n",
       " 0.0,\n",
       " 0.0,\n",
       " 0.0,\n",
       " 0.0,\n",
       " 0.0,\n",
       " 0.0,\n",
       " 0.0,\n",
       " 0.0,\n",
       " 0.0,\n",
       " 0.0,\n",
       " 0.0,\n",
       " 0.0,\n",
       " 0.0,\n",
       " 0.0,\n",
       " 0.0,\n",
       " 0.0,\n",
       " 0.0,\n",
       " 0.0,\n",
       " 0.0,\n",
       " 0.0,\n",
       " 0.0,\n",
       " 0.0,\n",
       " 0.0,\n",
       " 0.0,\n",
       " 0.0,\n",
       " 0.0,\n",
       " 0.0,\n",
       " 0.0,\n",
       " 0.0,\n",
       " 0.0,\n",
       " 0.0,\n",
       " 0.0,\n",
       " 0.0,\n",
       " 0.0,\n",
       " 0.0,\n",
       " 0.0,\n",
       " 0.0,\n",
       " 0.0,\n",
       " 0.0,\n",
       " 0.0,\n",
       " 0.0,\n",
       " 0.0,\n",
       " 0.0,\n",
       " 0.0,\n",
       " 0.0,\n",
       " 0.0,\n",
       " 0.0,\n",
       " 0.0,\n",
       " 0.0,\n",
       " 0.0,\n",
       " 0.0,\n",
       " 0.0,\n",
       " 0.0,\n",
       " 0.0,\n",
       " 0.0,\n",
       " 0.0,\n",
       " 0.0,\n",
       " 0.0,\n",
       " 0.0,\n",
       " 0.0,\n",
       " 0.0,\n",
       " 0.0,\n",
       " 0.0,\n",
       " 0.0,\n",
       " 0.0,\n",
       " 0.0,\n",
       " 0.0,\n",
       " 0.0,\n",
       " 0.0,\n",
       " 0.0,\n",
       " 0.0,\n",
       " 0.0,\n",
       " 0.0,\n",
       " 0.0,\n",
       " 0.0,\n",
       " 0.0,\n",
       " 0.0,\n",
       " 0.0,\n",
       " 0.0,\n",
       " 0.0,\n",
       " 0.0,\n",
       " 0.0,\n",
       " 0.0,\n",
       " 0.0,\n",
       " 0.0,\n",
       " 0.0,\n",
       " 0.0,\n",
       " 0.0,\n",
       " 0.0,\n",
       " 0.0,\n",
       " 0.0,\n",
       " 0.0,\n",
       " 0.0,\n",
       " 0.0,\n",
       " 0.0,\n",
       " 0.0,\n",
       " 0.0,\n",
       " 0.0,\n",
       " 0.0,\n",
       " 0.0,\n",
       " 0.0,\n",
       " 0.0,\n",
       " 0.0,\n",
       " 0.0,\n",
       " 0.0,\n",
       " 0.0,\n",
       " 0.0,\n",
       " 0.0,\n",
       " 0.0,\n",
       " 0.0,\n",
       " 0.0,\n",
       " 0.0,\n",
       " 0.0,\n",
       " 0.0,\n",
       " 0.0,\n",
       " 0.0,\n",
       " 0.0,\n",
       " 0.0,\n",
       " 0.0,\n",
       " 0.0,\n",
       " 0.0,\n",
       " 0.0,\n",
       " 0.0,\n",
       " 0.0,\n",
       " 0.0,\n",
       " ...]"
      ]
     },
     "execution_count": 19,
     "metadata": {},
     "output_type": "execute_result"
    }
   ],
   "source": [
    "list (imdb_task.get_tf_idf('train')[0])"
   ]
  },
  {
   "cell_type": "markdown",
   "metadata": {},
   "source": [
    "#### Apply model to test set"
   ]
  },
  {
   "cell_type": "markdown",
   "metadata": {},
   "source": [
    "While we could use the above method on our test set that's likely to give use a biased result - the test set is supposed to represent data we've never seen before.\n",
    "\n",
    "So instead of calling 'fit_tf_idf' call 'transform_tf_idf' - this <b>applies</b> the model we trained earlier rather than training it. We specify the tag of data it was trained on and the tag of the data we want to apply it to"
   ]
  },
  {
   "cell_type": "code",
   "execution_count": 20,
   "metadata": {},
   "outputs": [],
   "source": [
    "imdb_task.transform_tf_idf(fit_model_tag = 'train', to_text_tag='test')"
   ]
  },
  {
   "cell_type": "markdown",
   "metadata": {},
   "source": [
    "For the test data we get a matrix that's 2,000 (the number of test reviews) by 30,000 (the clipped vocabulary size of the <b> training data </b>)"
   ]
  },
  {
   "cell_type": "code",
   "execution_count": 21,
   "metadata": {},
   "outputs": [
    {
     "data": {
      "text/plain": [
       "(2000, 30000)"
      ]
     },
     "execution_count": 21,
     "metadata": {},
     "output_type": "execute_result"
    }
   ],
   "source": [
    "imdb_task.get_tf_idf('test').shape"
   ]
  },
  {
   "cell_type": "markdown",
   "metadata": {},
   "source": [
    "#### Predict sentiment using the tf-idf scores\n",
    "\n",
    "We can use the tf-idf scores just like any other data.\n",
    "\n",
    "Here we feed them into a logistic regression model to try to predict the sentiment of the reviews"
   ]
  },
  {
   "cell_type": "code",
   "execution_count": 22,
   "metadata": {},
   "outputs": [],
   "source": [
    "import sklearn.linear_model"
   ]
  },
  {
   "cell_type": "code",
   "execution_count": 23,
   "metadata": {},
   "outputs": [],
   "source": [
    "#Create regression model class instance\n",
    "log_reg = sklearn.linear_model.LogisticRegression (C=0.1, solver='newton-cg', random_state=46543)"
   ]
  },
  {
   "cell_type": "code",
   "execution_count": 15,
   "metadata": {},
   "outputs": [],
   "source": [
    "#Format the sentiment labels from the imdb data so we can use them in the regression model (turn 'pos' to '1' and 'neg' to '0')\n",
    "train_labs = np.array (imdb.label.values [imdb.type == \"train\"] == \"pos\")*1\n",
    "test_labs = np.array (imdb.label.values [imdb.type == \"test\"] == \"pos\")*1"
   ]
  },
  {
   "cell_type": "markdown",
   "metadata": {},
   "source": [
    "Train the regression model on the training data. Because our data are 30,000 columns wide this takes a long time to fit even with 5,000 reviews, it takes a very long time and isn't really practical with a big dataset (though dimensionality reduction could help here: https://scikit-learn.org/stable/modules/unsupervised_reduction.html"
   ]
  },
  {
   "cell_type": "code",
   "execution_count": 25,
   "metadata": {},
   "outputs": [
    {
     "data": {
      "text/plain": [
       "LogisticRegression(C=0.1, class_weight=None, dual=False, fit_intercept=True,\n",
       "          intercept_scaling=1, max_iter=100, multi_class='ovr', n_jobs=1,\n",
       "          penalty='l2', random_state=46543, solver='newton-cg', tol=0.0001,\n",
       "          verbose=0, warm_start=False)"
      ]
     },
     "execution_count": 25,
     "metadata": {},
     "output_type": "execute_result"
    }
   ],
   "source": [
    "#Train the regression model on the training data. Because our data are 30,000 columns wide this takes a long time to fit (even with )\n",
    "log_reg.fit (imdb_task.get_tf_idf(text_tag='train'), train_labs)"
   ]
  },
  {
   "cell_type": "markdown",
   "metadata": {},
   "source": [
    "We get 84% accuracy on training data "
   ]
  },
  {
   "cell_type": "code",
   "execution_count": 26,
   "metadata": {},
   "outputs": [
    {
     "data": {
      "text/plain": [
       "0.8434"
      ]
     },
     "execution_count": 26,
     "metadata": {},
     "output_type": "execute_result"
    }
   ],
   "source": [
    "log_reg.score(imdb_task.get_tf_idf(text_tag='train'), train_labs)"
   ]
  },
  {
   "cell_type": "markdown",
   "metadata": {},
   "source": [
    "And 80% on the test data"
   ]
  },
  {
   "cell_type": "code",
   "execution_count": 27,
   "metadata": {},
   "outputs": [
    {
     "data": {
      "text/plain": [
       "0.8065"
      ]
     },
     "execution_count": 27,
     "metadata": {},
     "output_type": "execute_result"
    }
   ],
   "source": [
    "log_reg.score(imdb_task.get_tf_idf(text_tag='test'), test_labs)"
   ]
  },
  {
   "cell_type": "markdown",
   "metadata": {},
   "source": [
    "## Word embeddings\n",
    "\n",
    "Word embeddings often do a much better job of capturing the semantic relationships between words that bag-of-words methods with tf-idf, and are easier to work with.\n",
    "\n",
    "If the text we're using isn't too obscure, you can usually get better performance using 'pre-trained' embeddings rather than training your own. These are models that Google, Facebook and other companies with lots of computing power available have trained on enormous datasets."
   ]
  },
  {
   "cell_type": "code",
   "execution_count": 28,
   "metadata": {},
   "outputs": [
    {
     "data": {
      "text/plain": [
       "['fasttext-wiki-news-subwords-300',\n",
       " 'conceptnet-numberbatch-17-06-300',\n",
       " 'word2vec-ruscorpora-300',\n",
       " 'word2vec-google-news-300',\n",
       " 'glove-wiki-gigaword-50',\n",
       " 'glove-wiki-gigaword-100',\n",
       " 'glove-wiki-gigaword-200',\n",
       " 'glove-wiki-gigaword-300',\n",
       " 'glove-twitter-25',\n",
       " 'glove-twitter-50',\n",
       " 'glove-twitter-100',\n",
       " 'glove-twitter-200',\n",
       " '__testing_word2vec-matrix-synopsis']"
      ]
     },
     "execution_count": 28,
     "metadata": {},
     "output_type": "execute_result"
    }
   ],
   "source": [
    "#There are lots of pretrained models available. You can list them like this. This shows the type of model (e.g. glove)\n",
    "#the data it was trained on (e.g. wikipedia or twitter) and the size of the embedding (the number of columns). \n",
    "\n",
    "#Glove/Word2vec are often better at capturing semantic relationships while fasttext is often better at semantics.\n",
    "#Larger embedding sizes usually give better performance but are slower to work with.\n",
    "imdb_task.get_available_embeddings()"
   ]
  },
  {
   "cell_type": "markdown",
   "metadata": {},
   "source": [
    "The models can take a long time to download (the fasttext one is 1GB), so we'll use the smallest embedding size. I'd strongly recommend changing this for a bigger model for a real application.\n",
    "\n",
    "Applying the model to text is as simple as calling 'embed_text' with the dataset tag and the model you want to use. This will take quite a while to load the model, but you only need to do this once every session and it's really quick to apply after this."
   ]
  },
  {
   "cell_type": "code",
   "execution_count": 110,
   "metadata": {},
   "outputs": [
    {
     "name": "stdout",
     "output_type": "stream",
     "text": [
      "Embedding 5000 texts\n",
      "0\n",
      "1000\n",
      "2000\n",
      "3000\n",
      "4000\n"
     ]
    }
   ],
   "source": [
    "imdb_task.embed_text(text_tags='train', pretrained_model_tag='glove-twitter-25')"
   ]
  },
  {
   "cell_type": "code",
   "execution_count": 121,
   "metadata": {},
   "outputs": [
    {
     "name": "stdout",
     "output_type": "stream",
     "text": [
      "Embedding 2000 texts\n",
      "0\n",
      "1000\n"
     ]
    }
   ],
   "source": [
    "imdb_task.embed_text(text_tags='test', pretrained_model_tag='glove-twitter-25')"
   ]
  },
  {
   "cell_type": "markdown",
   "metadata": {},
   "source": [
    "#### Semantics of word embeddings"
   ]
  },
  {
   "cell_type": "code",
   "execution_count": 55,
   "metadata": {},
   "outputs": [
    {
     "data": {
      "text/plain": [
       "[('jay-z', 0.9496528506278992),\n",
       " ('drake', 0.9476633071899414),\n",
       " ('trey', 0.9405696392059326),\n",
       " ('wayne', 0.9334985017776489),\n",
       " ('ross', 0.9329334497451782),\n",
       " ('beyonce', 0.9278717637062073),\n",
       " ('stevie', 0.9245648384094238),\n",
       " ('usher', 0.923640251159668),\n",
       " ('ciara', 0.9228290319442749),\n",
       " ('nicki', 0.9154649972915649),\n",
       " ('pharrell', 0.9058846235275269),\n",
       " ('mariah', 0.9040012955665588),\n",
       " ('minaj', 0.9036608338356018),\n",
       " ('chainz', 0.9019912481307983),\n",
       " ('tyga', 0.9009972214698792)]"
      ]
     },
     "execution_count": 55,
     "metadata": {},
     "output_type": "execute_result"
    }
   ],
   "source": [
    "imdb_task.emb_models ['glove-twitter-25'].most_similar (\"kanye\", topn = 15)"
   ]
  },
  {
   "cell_type": "code",
   "execution_count": 58,
   "metadata": {},
   "outputs": [
    {
     "data": {
      "text/plain": [
       "[('princess', 0.9393543004989624),\n",
       " ('lady', 0.933632493019104),\n",
       " ('prince', 0.9268780946731567),\n",
       " ('king', 0.9202421307563782),\n",
       " ('aka', 0.8976844549179077),\n",
       " ('hero', 0.8970820903778076),\n",
       " ('beautiful', 0.8900729417800903),\n",
       " ('angel', 0.8794296979904175),\n",
       " ('love', 0.8791000247001648),\n",
       " ('lana', 0.8773646354675293),\n",
       " ('song', 0.8772189617156982),\n",
       " ('hunter', 0.8748372793197632),\n",
       " ('baby', 0.8734957575798035),\n",
       " ('singer', 0.8711019158363342),\n",
       " ('star', 0.8697961568832397)]"
      ]
     },
     "execution_count": 58,
     "metadata": {},
     "output_type": "execute_result"
    }
   ],
   "source": [
    "imdb_task.emb_models ['glove-twitter-25'].most_similar (\"queen\", topn = 15)"
   ]
  },
  {
   "cell_type": "code",
   "execution_count": 89,
   "metadata": {},
   "outputs": [
    {
     "data": {
      "text/plain": [
       "[('france', 0.9207380414009094),\n",
       " ('paris', 0.9196597933769226),\n",
       " ('lyon', 0.8785385489463806),\n",
       " ('grand', 0.8772082328796387),\n",
       " ('marseille', 0.8520588874816895)]"
      ]
     },
     "execution_count": 89,
     "metadata": {},
     "output_type": "execute_result"
    }
   ],
   "source": [
    "emb_model = imdb_task.emb_models ['glove-twitter-25']\n",
    "emb_model.similar_by_vector (emb_model[\"london\"] - emb_model [\"uk\"] + emb_model [\"france\"], topn = 5)"
   ]
  },
  {
   "cell_type": "code",
   "execution_count": 106,
   "metadata": {},
   "outputs": [
    {
     "name": "stdout",
     "output_type": "stream",
     "text": [
      "0.49813783167652015 0.3893748164540006\n",
      "0.7030616423232617 0.7907317529481618\n"
     ]
    }
   ],
   "source": [
    "print (emb_model.similarity (\"nurse\", \"she\"), emb_model.similarity (\"nurse\", \"he\"))\n",
    "print (emb_model.similarity (\"doctor\", \"she\"), emb_model.similarity (\"doctor\", \"he\"))"
   ]
  },
  {
   "cell_type": "markdown",
   "metadata": {},
   "source": [
    "#### Search text\n",
    "\n",
    "One useful application of word embeddings is searching for text matching a particular term or phrase"
   ]
  },
  {
   "cell_type": "code",
   "execution_count": 72,
   "metadata": {},
   "outputs": [],
   "source": [
    "lookup_word = 'horror'"
   ]
  },
  {
   "cell_type": "code",
   "execution_count": 73,
   "metadata": {},
   "outputs": [
    {
     "name": "stdout",
     "output_type": "stream",
     "text": [
      "0\n",
      "1000\n",
      "2000\n",
      "3000\n",
      "4000\n"
     ]
    }
   ],
   "source": [
    "#Specify the lookup word or phrase, the model you want to use (make sure to apply the embeddings first) and the dataset.\n",
    "#We get back the similarity to the lookup word for each word in the specified dataset, the similarity for each document,\n",
    "#and the order of the index of the dataset, with the most similar document first and the least similar last.\n",
    "\n",
    "word_similarities, document_similarities, ordering = imdb_task.embedding_lookup(text_tag='train', \n",
    "                                                           pretrained_model_tag='glove-twitter-25', \n",
    "                                                           lookup_text=lookup_word)"
   ]
  },
  {
   "cell_type": "markdown",
   "metadata": {},
   "source": [
    "We can use the word simiarities to highlight the words the model is paying attention to when searching.\n",
    "\n",
    "The advantage of using word embeddings to do this search over a simple keyword search is that the embeddings pay attention to similar words, not just exact matches: e.g. zombie, vampire, halloween, thriller "
   ]
  },
  {
   "cell_type": "code",
   "execution_count": 74,
   "metadata": {},
   "outputs": [
    {
     "name": "stdout",
     "output_type": "stream",
     "text": [
      "0\n",
      "1000\n",
      "2000\n",
      "3000\n",
      "4000\n"
     ]
    },
    {
     "data": {
      "text/html": [
       "<text style=background-color:#00ff0023>this</text> <text style=background-color:#00ff0025>is</text> <text style=background-color:#00ff001b>a</text> <text style=background-color:#00ff0011>very</text> <text style=background-color:#00ff0030>dark</text> <text style=background-color:#00ff0015>and</text> <text style=background-color:#00ff0003>intriguing</text> <text style=background-color:#00ff00ff>horror</text> <text style=background-color:#00ff0021>type</text> <text style=background-color:#00ff0041>thriller</text> <text style=background-color:#00ff0013>based</text> <text style=background-color:#00ff0013>on</text> <text style=background-color:#00ff0024>the</text> <text style=background-color:#00ff0032>idea</text> <text style=background-color:#00ff0023>of</text> <text style=background-color:#00ff0008>religious</text> <text style=background-color:#00ff0002>murders</text> <text style=background-color:#00ff0024>the</text> <text style=background-color:#00ff001a>storyline</text> <text style=background-color:#00ff0000>centres</text> <text style=background-color:#00ff0013>on</text> <text style=background-color:#00ff001b>a</text> <text style=background-color:#00ff0001>deranged</text> <text style=background-color:#00ff0023>man</text> <text style=background-color:#00ff000d>who</text> <text style=background-color:#00ff0010>lives</text> <text style=background-color:#00ff0015>in</text> <text style=background-color:#00ff0006>texas</text> <text style=background-color:#00ff000c>us</text> <text style=background-color:#00ff000d>who</text> <text style=background-color:#00ff000f>suddenly</text> <text style=background-color:#00ff0013>goes</text> <text style=background-color:#00ff0013>on</text> <text style=background-color:#00ff001b>a</text> <text style=background-color:#00ff000f>killing</text> <text style=background-color:#00ff0001>spree</text> <text style=background-color:#00ff0018>with</text> <text style=background-color:#00ff000d>his</text> <text style=background-color:#00ff0013>two</text> <text style=background-color:#00ff0017>young</text> <text style=background-color:#00ff0014>sons</text> <text style=background-color:#00ff0017>after</text> <text style=background-color:#00ff000f>being</text> <text style=background-color:#00ff0000>instructed</text> <text style=background-color:#00ff0014>by</text> <text style=background-color:#00ff001c>god</text> <text style=background-color:#00ff0014>to</text> <text style=background-color:#00ff0000>redeem</text> <text style=background-color:#00ff0024>the</text> <text style=background-color:#00ff002a>world</text> <text style=background-color:#00ff0023>of</text> <text style=background-color:#00ff0030>bad</text> <text style=background-color:#00ff0011>people</text> <text style=background-color:#00ff0005>br</text> <text style=background-color:#00ff0005>br</text> <text style=background-color:#00ff0005>bill</text> <text style=background-color:#00ff0000>paxton</text> <text style=background-color:#00ff000d>who</text> <text style=background-color:#00ff0000>directs</text> <text style=background-color:#00ff0023>this</text> <text style=background-color:#00ff0082>movie</text> <text style=background-color:#00ff0021>plays</text> <text style=background-color:#00ff0024>the</text> <text style=background-color:#00ff0001>deranged</text> <text style=background-color:#00ff000e>father</text> <text style=background-color:#00ff000d>who</text> <text style=background-color:#00ff0025>is</text> <text style=background-color:#00ff0011>known</text> <text style=background-color:#00ff0015>as</text> <text style=background-color:#00ff0024>the</text> <text style=background-color:#00ff0007>hand</text> <text style=background-color:#00ff0023>of</text> <text style=background-color:#00ff001c>god</text> <text style=background-color:#00ff0054>killer</text> <text style=background-color:#00ff0016>while</text> <text style=background-color:#00ff0004>matthew</text> <text style=background-color:#00ff0001>mcconaughey</text> <text style=background-color:#00ff0021>plays</text> <text style=background-color:#00ff000d>his</text> <text style=background-color:#00ff000b>finest</text> <text style=background-color:#00ff0012>performances</text> <text style=background-color:#00ff0014>to</text> <text style=background-color:#00ff001e>date</text> <text style=background-color:#00ff0015>as</text> <text style=background-color:#00ff0024>the</text> <text style=background-color:#00ff0008>oldest</text> <text style=background-color:#00ff0007>son</text> <text style=background-color:#00ff0000>fenton</text> <text style=background-color:#00ff0000>meiks</text> <text style=background-color:#00ff0024>the</text> <text style=background-color:#00ff0044>film</text> <text style=background-color:#00ff0003>revolves</text> <text style=background-color:#00ff0009>around</text> <text style=background-color:#00ff0000>fenton</text> <text style=background-color:#00ff000d>who</text> <text style=background-color:#00ff0007>decides</text> <text style=background-color:#00ff0015>he</text> <text style=background-color:#00ff000b>can</text> <text style=background-color:#00ff0018>no</text> <text style=background-color:#00ff000a>longer</text> <text style=background-color:#00ff0006>hold</text> <text style=background-color:#00ff0024>the</text> <text style=background-color:#00ff0000>burden</text> <text style=background-color:#00ff0023>of</text> <text style=background-color:#00ff000d>his</text> <text style=background-color:#00ff0000>murderous</text> <text style=background-color:#00ff003c>childhood</text> <text style=background-color:#00ff0028>alone</text> <text style=background-color:#00ff0015>and</text> <text style=background-color:#00ff000c>uses</text> <text style=background-color:#00ff0006>flashbacks</text> <text style=background-color:#00ff0014>to</text> <text style=background-color:#00ff0000>hauntingly</text> <text style=background-color:#00ff000c>tell</text> <text style=background-color:#00ff0024>the</text> <text style=background-color:#00ff005b>story</text> <text style=background-color:#00ff0014>to</text> <text style=background-color:#00ff0005>fbi</text> <text style=background-color:#00ff0003>agent</text> <text style=background-color:#00ff0001>wesley</text> <text style=background-color:#00ff0001>doyle</text> <text style=background-color:#00ff001b>played</text> <text style=background-color:#00ff0014>by</text> <text style=background-color:#00ff000c>powers</text> <text style=background-color:#00ff0000>boothe</text> <text style=background-color:#00ff0005>br</text> <text style=background-color:#00ff0005>br</text> <text style=background-color:#00ff0014>i</text> <text style=background-color:#00ff0012>cannot</text> <text style=background-color:#00ff0018>think</text> <text style=background-color:#00ff0023>of</text> <text style=background-color:#00ff000f>many</text> <text style=background-color:#00ff0059>movies</text> <text style=background-color:#00ff001b>that</text> <text style=background-color:#00ff001b>literally</text> <text style=background-color:#00ff000b>keep</text> <text style=background-color:#00ff0024>the</text> <text style=background-color:#00ff0001>viewer</text> <text style=background-color:#00ff0000>chained</text> <text style=background-color:#00ff0014>to</text> <text style=background-color:#00ff000e>their</text> <text style=background-color:#00ff0001>seat</text> <text style=background-color:#00ff0011>from</text> <text style=background-color:#00ff0012>start</text> <text style=background-color:#00ff0014>to</text> <text style=background-color:#00ff0013>finish</text> <text style=background-color:#00ff0015>and</text> <text style=background-color:#00ff0023>this</text> <text style=background-color:#00ff0025>is</text> <text style=background-color:#00ff001c>definitely</text> <text style=background-color:#00ff0028>one</text> <text style=background-color:#00ff0023>of</text> <text style=background-color:#00ff0008>them</text> <text style=background-color:#00ff001b>even</text> <text style=background-color:#00ff000d>if</text> <text style=background-color:#00ff0011>you</text> <text style=background-color:#00ff0010>want</text> <text style=background-color:#00ff0014>to</text> <text style=background-color:#00ff0010>stop</text> <text style=background-color:#00ff0039>watching</text> <text style=background-color:#00ff0011>you</text> <text style=background-color:#00ff0006>wont</text> <text style=background-color:#00ff000f>be</text> <text style=background-color:#00ff000c>able</text> <text style=background-color:#00ff0014>to</text> <text style=background-color:#00ff001b>because</text> <text style=background-color:#00ff0023>of</text> <text style=background-color:#00ff0024>the</text> <text style=background-color:#00ff0001>sheer</text> <text style=background-color:#00ff001f>power</text> <text style=background-color:#00ff0023>of</text> <text style=background-color:#00ff0023>this</text> <text style=background-color:#00ff0082>movie</text> <text style=background-color:#00ff0005>br</text> <text style=background-color:#00ff0005>br</text> <text style=background-color:#00ff0024>the</text> <text style=background-color:#00ff0004>directors</text> <text style=background-color:#00ff0017>have</text> <text style=background-color:#00ff000c>filmed</text> <text style=background-color:#00ff0023>this</text> <text style=background-color:#00ff0082>movie</text> <text style=background-color:#00ff0011>very</text> <text style=background-color:#00ff0014>well</text> <text style=background-color:#00ff0015>and</text> <text style=background-color:#00ff0010>they</text> <text style=background-color:#00ff000a>help</text> <text style=background-color:#00ff0014>to</text> <text style=background-color:#00ff0019>set</text> <text style=background-color:#00ff0024>the</text> <text style=background-color:#00ff002a>plot</text> <text style=background-color:#00ff000f>through</text> <text style=background-color:#00ff0024>the</text> <text style=background-color:#00ff001f>good</text> <text style=background-color:#00ff0001>scenery</text> <text style=background-color:#00ff0024>the</text> <text style=background-color:#00ff0017>acting</text> <text style=background-color:#00ff0015>in</text> <text style=background-color:#00ff0023>this</text> <text style=background-color:#00ff0082>movie</text> <text style=background-color:#00ff0025>is</text> <text style=background-color:#00ff001e>great</text> <text style=background-color:#00ff0019>but</text> <text style=background-color:#00ff000d>if</text> <text style=background-color:#00ff001c>there</text> <text style=background-color:#00ff0025>is</text> <text style=background-color:#00ff0017>any</text> <text style=background-color:#00ff0000>drawback</text> <text style=background-color:#00ff001b>it</text> <text style=background-color:#00ff0025>is</text> <text style=background-color:#00ff001b>that</text> <text style=background-color:#00ff0017>some</text> <text style=background-color:#00ff000b>parts</text> <text style=background-color:#00ff0014>are</text> <text style=background-color:#00ff0011>very</text> <text style=background-color:#00ff0012>powerful</text> <text style=background-color:#00ff0015>and</text> <text style=background-color:#00ff0016>may</text> <text style=background-color:#00ff0001>disturb</text> <text style=background-color:#00ff0017>some</text> <text style=background-color:#00ff0011>people</text> <text style=background-color:#00ff0005>br</text> <text style=background-color:#00ff0005>br</text> <text style=background-color:#00ff000b>whilst</text> <text style=background-color:#00ff0024>the</text> <text style=background-color:#00ff0014>concept</text> <text style=background-color:#00ff0023>of</text> <text style=background-color:#00ff0023>this</text> <text style=background-color:#00ff0044>film</text> <text style=background-color:#00ff0025>is</text> <text style=background-color:#00ff0011>very</text> <text style=background-color:#00ff0030>dark</text> <text style=background-color:#00ff0024>the</text> <text style=background-color:#00ff0017>young</text> <text style=background-color:#00ff000a>children</text> <text style=background-color:#00ff000a>help</text> <text style=background-color:#00ff0014>to</text> <text style=background-color:#00ff0002>portray</text> <text style=background-color:#00ff0024>the</text> <text style=background-color:#00ff0032>idea</text> <text style=background-color:#00ff000f>through</text> <text style=background-color:#00ff0021>brilliant</text> <text style=background-color:#00ff0017>acting</text> <text style=background-color:#00ff0023>this</text> <text style=background-color:#00ff001a>really</text> <text style=background-color:#00ff0025>is</text> <text style=background-color:#00ff001b>a</text> <text style=background-color:#00ff0000>spine</text> <text style=background-color:#00ff0001>tingly</text> <text style=background-color:#00ff0082>movie</text> <text style=background-color:#00ff0015>and</text> <text style=background-color:#00ff001b>it</text> <text style=background-color:#00ff0025>is</text> <text style=background-color:#00ff0000>guaranteed</text> <text style=background-color:#00ff0014>to</text> <text style=background-color:#00ff0017>have</text> <text style=background-color:#00ff0011>you</text> <text style=background-color:#00ff0011>at</text> <text style=background-color:#00ff0024>the</text> <text style=background-color:#00ff000a>edge</text> <text style=background-color:#00ff0023>of</text> <text style=background-color:#00ff0010>your</text> <text style=background-color:#00ff0001>seat</text> <text style=background-color:#00ff000a>throughout</text> <text style=background-color:#00ff0014>i</text> <text style=background-color:#00ff000e>would</text> <text style=background-color:#00ff0002>highly</text> <text style=background-color:#00ff0005>recommend</text> <text style=background-color:#00ff0023>this</text> <text style=background-color:#00ff0082>movie</text> <text style=background-color:#00ff0014>to</text> <text style=background-color:#00ff000e>anyone</text> <text style=background-color:#00ff000d>who</text> <text style=background-color:#00ff0003>enjoys</text> <text style=background-color:#00ff00ff>horror</text> <text style=background-color:#00ff000b>disturbing</text> <text style=background-color:#00ff0015>and</text> <text style=background-color:#00ff0012>powerful</text> <text style=background-color:#00ff0059>movies</text> <text style=background-color:#00ff0016>or</text> <text style=background-color:#00ff000e>anyone</text> <text style=background-color:#00ff000d>who</text> <text style=background-color:#00ff0018>just</text> <text style=background-color:#00ff0008>wants</text> <text style=background-color:#00ff0014>to</text> <text style=background-color:#00ff0017>see</text> <text style=background-color:#00ff0017>something</text> <text style=background-color:#00ff0017>different</text> <text style=background-color:#00ff0005>br</text> <text style=background-color:#00ff0005>br</text> <br> <text style=background-color:#00ff001f>i</text> <text style=background-color:#00ff0021>probably</text> <text style=background-color:#00ff0014>give</text> <text style=background-color:#00ff0030>this</text> <text style=background-color:#00ff001a>more</text> <text style=background-color:#00ff0004>credit</text> <text style=background-color:#00ff0026>than</text> <text style=background-color:#00ff0026>it</text> <text style=background-color:#00ff0009>deserves</text> <text style=background-color:#00ff0027>because</text> <text style=background-color:#00ff0026>it</text> <text style=background-color:#00ff000f>s</text> <text style=background-color:#00ff0052>halloween</text> <text style=background-color:#00ff001f>i</text> <text style=background-color:#00ff002a>was</text> <text style=background-color:#00ff0023>just</text> <text style=background-color:#00ff001b>at</text> <text style=background-color:#00ff0000>knott</text> <text style=background-color:#00ff000f>s</text> <text style=background-color:#00ff0052>scary</text> <text style=background-color:#00ff000d>farm</text> <text style=background-color:#00ff0020>and</text> <text style=background-color:#00ff001f>i</text> <text style=background-color:#00ff002a>was</text> <text style=background-color:#00ff0020>in</text> <text style=background-color:#00ff0027>a</text> <text style=background-color:#00ff0031>mood</text> <text style=background-color:#00ff001e>to</text> <text style=background-color:#00ff0037>watch</text> <text style=background-color:#00ff0027>a</text> <text style=background-color:#00ff0026>really</text> <text style=background-color:#00ff001b>cheesy</text> <text style=background-color:#00ff0052>halloween</text> <text style=background-color:#00ff008f>movie</text> <text style=background-color:#00ff000a>br</text> <text style=background-color:#00ff000a>br</text> <text style=background-color:#00ff0034>oh</text> <text style=background-color:#00ff0020>and</text> <text style=background-color:#00ff0026>it</text> <text style=background-color:#00ff001c>only</text> <text style=background-color:#00ff0004>cost</text> <text style=background-color:#00ff0019>me</text> <text style=background-color:#00ff0036>one</text> <text style=background-color:#00ff0001>dollar</text> <text style=background-color:#00ff000a>br</text> <text style=background-color:#00ff000a>br</text> <text style=background-color:#00ff0016>usually</text> <text style=background-color:#00ff001f>i</text> <text style=background-color:#00ff0003>ll</text> <text style=background-color:#00ff0000>ffwd</text> <text style=background-color:#00ff0019>through</text> <text style=background-color:#00ff0027>a</text> <text style=background-color:#00ff008f>movie</text> <text style=background-color:#00ff0029>like</text> <text style=background-color:#00ff0030>this</text> <text style=background-color:#00ff001e>to</text> <text style=background-color:#00ff0016>get</text> <text style=background-color:#00ff001e>to</text> <text style=background-color:#00ff0032>the</text> <text style=background-color:#00ff002b>good</text> <text style=background-color:#00ff0028>stuff</text> <text style=background-color:#00ff0025>but</text> <text style=background-color:#00ff001f>i</text> <text style=background-color:#00ff0000>resisted</text> <text style=background-color:#00ff0032>the</text> <text style=background-color:#00ff0005>urge</text> <text style=background-color:#00ff001f>here</text> <text style=background-color:#00ff0020>and</text> <text style=background-color:#00ff001f>i</text> <text style=background-color:#00ff000d>m</text> <text style=background-color:#00ff001e>still</text> <text style=background-color:#00ff0022>not</text> <text style=background-color:#00ff001e>sure</text> <text style=background-color:#00ff0024>why</text> <text style=background-color:#00ff0026>it</text> <text style=background-color:#00ff002a>was</text> <text style=background-color:#00ff0012>obvious</text> <text style=background-color:#00ff001b>from</text> <text style=background-color:#00ff0032>the</text> <text style=background-color:#00ff0032>opening</text> <text style=background-color:#00ff000f>shots</text> <text style=background-color:#00ff0030>this</text> <text style=background-color:#00ff0000>wasn</text> <text style=background-color:#00ff000c>t</text> <text style=background-color:#00ff0027>a</text> <text style=background-color:#00ff0034>real</text> <text style=background-color:#00ff008f>movie</text> <text style=background-color:#00ff0022>not</text> <text style=background-color:#00ff0027>even</text> <text style=background-color:#00ff0027>a</text> <text style=background-color:#00ff000f>b</text> <text style=background-color:#00ff008f>movie</text> <text style=background-color:#00ff0026>it</text> <text style=background-color:#00ff000f>s</text> <text style=background-color:#00ff001a>more</text> <text style=background-color:#00ff0020>in</text> <text style=background-color:#00ff0032>the</text> <text style=background-color:#00ff000e>category</text> <text style=background-color:#00ff0030>of</text> <text style=background-color:#00ff0032>the</text> <text style=background-color:#00ff0000>decoteau</text> <text style=background-color:#00ff00ff>horror</text> <text style=background-color:#00ff0068>movies</text> <text style=background-color:#00ff0029>like</text> <text style=background-color:#00ff0032>the</text> <text style=background-color:#00ff0008>brotherhood</text> <text style=background-color:#00ff0027>that</text> <text style=background-color:#00ff001f>are</text> <text style=background-color:#00ff001d>shot</text> <text style=background-color:#00ff001d>on</text> <text style=background-color:#00ff0053>film</text> <text style=background-color:#00ff0021>look</text> <text style=background-color:#00ff0057>video</text> <text style=background-color:#00ff0020>for</text> <text style=background-color:#00ff002c>about</text> <text style=background-color:#00ff0001>cents</text> <text style=background-color:#00ff0020>in</text> <text style=background-color:#00ff0032>fact</text> <text style=background-color:#00ff001f>i</text> <text style=background-color:#00ff002a>was</text> <text style=background-color:#00ff001e>half</text> <text style=background-color:#00ff0012>afraid</text> <text style=background-color:#00ff0022>any</text> <text style=background-color:#00ff0025>minute</text> <text style=background-color:#00ff0036>one</text> <text style=background-color:#00ff0030>of</text> <text style=background-color:#00ff0015>his</text> <text style=background-color:#00ff0000>beefy</text> <text style=background-color:#00ff0022>college</text> <text style=background-color:#00ff0026>boys</text> <text style=background-color:#00ff0017>would</text> <text style=background-color:#00ff0000>stagger</text> <text style=background-color:#00ff001e>out</text> <text style=background-color:#00ff0000>rubbing</text> <text style=background-color:#00ff000b>himself</text> <text style=background-color:#00ff0020>in</text> <text style=background-color:#00ff0015>his</text> <text style=background-color:#00ff0001>underpants</text> <text style=background-color:#00ff0022>or</text> <text style=background-color:#00ff0022>something</text> <text style=background-color:#00ff0028>there</text> <text style=background-color:#00ff001e>were</text> <text style=background-color:#00ff0024>no</text> <text style=background-color:#00ff0004>cutaway</text> <text style=background-color:#00ff000f>shots</text> <text style=background-color:#00ff001b>too</text> <text style=background-color:#00ff0009>expensive</text> <text style=background-color:#00ff001e>to</text> <text style=background-color:#00ff0023>do</text> <text style=background-color:#00ff000c>multiple</text> <text style=background-color:#00ff0018>camera</text> <text style=background-color:#00ff0000>setups</text> <text style=background-color:#00ff0020>and</text> <text style=background-color:#00ff0009>flat</text> <text style=background-color:#00ff0009>lighting</text> <text style=background-color:#00ff0025>but</text> <text style=background-color:#00ff0026>it</text> <text style=background-color:#00ff000f>s</text> <text style=background-color:#00ff002a>hard</text> <text style=background-color:#00ff001e>to</text> <text style=background-color:#00ff0000>pinpoint</text> <text style=background-color:#00ff0028>there</text> <text style=background-color:#00ff000f>s</text> <text style=background-color:#00ff0022>something</text> <text style=background-color:#00ff000d>refreshing</text> <text style=background-color:#00ff002c>about</text> <text style=background-color:#00ff0048>watching</text> <text style=background-color:#00ff0027>a</text> <text style=background-color:#00ff001c>director</text> <text style=background-color:#00ff0023>with</text> <text style=background-color:#00ff0024>no</text> <text style=background-color:#00ff000e>money</text> <text style=background-color:#00ff0007>pull</text> <text style=background-color:#00ff0011>off</text> <text style=background-color:#00ff0027>a</text> <text style=background-color:#00ff001e>half</text> <text style=background-color:#00ff001a>decent</text> <text style=background-color:#00ff008f>movie</text> <text style=background-color:#00ff0032>the</text> <text style=background-color:#00ff0032>fact</text> <text style=background-color:#00ff0027>that</text> <text style=background-color:#00ff0020>he</text> <text style=background-color:#00ff000f>s</text> <text style=background-color:#00ff001e>doing</text> <text style=background-color:#00ff0027>even</text> <text style=background-color:#00ff0027>a</text> <text style=background-color:#00ff001e>half</text> <text style=background-color:#00ff001a>decent</text> <text style=background-color:#00ff0010>job</text> <text style=background-color:#00ff0032>is</text> <text style=background-color:#00ff0000>commendable</text> <text style=background-color:#00ff0020>and</text> <text style=background-color:#00ff0030>this</text> <text style=background-color:#00ff008f>movie</text> <text style=background-color:#00ff0021>has</text> <text style=background-color:#00ff0026>it</text> <text style=background-color:#00ff000f>s</text> <text style=background-color:#00ff0015>share</text> <text style=background-color:#00ff0030>of</text> <text style=background-color:#00ff0000>merits</text> <text style=background-color:#00ff0032>the</text> <text style=background-color:#00ff0022>acting</text> <text style=background-color:#00ff0000>isn</text> <text style=background-color:#00ff000c>t</text> <text style=background-color:#00ff003f>bad</text> <text style=background-color:#00ff0032>the</text> <text style=background-color:#00ff0013>photography</text> <text style=background-color:#00ff0032>is</text> <text style=background-color:#00ff0022>pretty</text> <text style=background-color:#00ff002b>good</text> <text style=background-color:#00ff0016>if</text> <text style=background-color:#00ff001b>too</text> <text style=background-color:#00ff000a>bright</text> <text style=background-color:#00ff001e>to</text> <text style=background-color:#00ff0018>be</text> <text style=background-color:#00ff0052>scary</text> <text style=background-color:#00ff0028>there</text> <text style=background-color:#00ff001f>are</text> <text style=background-color:#00ff0022>some</text> <text style=background-color:#00ff0008>surprises</text> <text style=background-color:#00ff0020>and</text> <text style=background-color:#00ff0032>the</text> <text style=background-color:#00ff0030>whole</text> <text style=background-color:#00ff0043>thing</text> <text style=background-color:#00ff0032>is</text> <text style=background-color:#00ff0014>sort</text> <text style=background-color:#00ff0030>of</text> <text style=background-color:#00ff0022>different</text> <text style=background-color:#00ff0012>somehow</text> <text style=background-color:#00ff000a>br</text> <text style=background-color:#00ff000a>br</text> <text style=background-color:#00ff0027>a</text> <text style=background-color:#00ff0015>bunch</text> <text style=background-color:#00ff0030>of</text> <text style=background-color:#00ff0022>college</text> <text style=background-color:#00ff002c>kids</text> <text style=background-color:#00ff001f>are</text> <text style=background-color:#00ff0020>for</text> <text style=background-color:#00ff0022>some</text> <text style=background-color:#00ff0016>unknown</text> <text style=background-color:#00ff0023>reason</text> <text style=background-color:#00ff0023>stuck</text> <text style=background-color:#00ff0020>in</text> <text style=background-color:#00ff0032>the</text> <text style=background-color:#00ff0004>warehouse</text> <text style=background-color:#00ff0021>where</text> <text style=background-color:#00ff0019>they</text> <text style=background-color:#00ff001f>are</text> <text style=background-color:#00ff0006>decorating</text> <text style=background-color:#00ff0032>the</text> <text style=background-color:#00ff000a>annual</text> <text style=background-color:#00ff0027>haunted</text> <text style=background-color:#00ff0022>house</text> <text style=background-color:#00ff0027>a</text> <text style=background-color:#00ff0031>creepy</text> <text style=background-color:#00ff002f>old</text> <text style=background-color:#00ff0030>man</text> <text style=background-color:#00ff0010>gives</text> <text style=background-color:#00ff000f>them</text> <text style=background-color:#00ff0027>a</text> <text style=background-color:#00ff000c>satanic</text> <text style=background-color:#00ff0045>book</text> <text style=background-color:#00ff0020>and</text> <text style=background-color:#00ff0019>they</text> <text style=background-color:#00ff0007>accidentally</text> <text style=background-color:#00ff0002>summon</text> <text style=background-color:#00ff001c>up</text> <text style=background-color:#00ff0032>the</text> <text style=background-color:#00ff0015>powers</text> <text style=background-color:#00ff0030>of</text> <text style=background-color:#00ff0028>hell</text> <text style=background-color:#00ff0030>this</text> <text style=background-color:#00ff0010>results</text> <text style=background-color:#00ff0020>in</text> <text style=background-color:#00ff0032>the</text> <text style=background-color:#00ff0000>costumed</text> <text style=background-color:#00ff001b>people</text> <text style=background-color:#00ff0020>in</text> <text style=background-color:#00ff0032>the</text> <text style=background-color:#00ff0027>haunted</text> <text style=background-color:#00ff0022>house</text> <text style=background-color:#00ff0014>becoming</text> <text style=background-color:#00ff0016>who</text> <text style=background-color:#00ff0019>they</text> <text style=background-color:#00ff001f>are</text> <text style=background-color:#00ff002a>made</text> <text style=background-color:#00ff001c>up</text> <text style=background-color:#00ff001e>to</text> <text style=background-color:#00ff0018>be</text> <text style=background-color:#00ff0020>and</text> <text style=background-color:#00ff0005>causing</text> <text style=background-color:#00ff0027>a</text> <text style=background-color:#00ff001b>lot</text> <text style=background-color:#00ff0030>of</text> <text style=background-color:#00ff001a>mayhem</text> <text style=background-color:#00ff0020>and</text> <text style=background-color:#00ff002b>human</text> <text style=background-color:#00ff000b>suffering</text> <text style=background-color:#00ff0017>along</text> <text style=background-color:#00ff0032>the</text> <text style=background-color:#00ff0028>way</text> <text style=background-color:#00ff0029>we</text> <text style=background-color:#00ff001f>are</text> <text style=background-color:#00ff0005>treated</text> <text style=background-color:#00ff001e>to</text> <text style=background-color:#00ff0022>an</text> <text style=background-color:#00ff0003>oddly</text> <text style=background-color:#00ff0014>complex</text> <text style=background-color:#00ff0020>and</text> <text style=background-color:#00ff0003>thoughtful</text> <text style=background-color:#00ff0012>lesbian</text> <text style=background-color:#00ff001a>relationship</text> <text style=background-color:#00ff0001>subplot</text> <text style=background-color:#00ff0026>it</text> <text style=background-color:#00ff000f>s</text> <text style=background-color:#00ff0030>interesting</text> <text style=background-color:#00ff0027>that</text> <text style=background-color:#00ff0030>this</text> <text style=background-color:#00ff0012>couple</text> <text style=background-color:#00ff001c>seems</text> <text style=background-color:#00ff001e>to</text> <text style=background-color:#00ff0018>be</text> <text style=background-color:#00ff0032>the</text> <text style=background-color:#00ff0023>most</text> <text style=background-color:#00ff001e>well</text> <text style=background-color:#00ff0000>rounded</text> <text style=background-color:#00ff0020>in</text> <text style=background-color:#00ff0032>the</text> <text style=background-color:#00ff008f>movie</text> <text style=background-color:#00ff002d>yes</text> <text style=background-color:#00ff0028>there</text> <text style=background-color:#00ff000f>s</text> <text style=background-color:#00ff0027>a</text> <text style=background-color:#00ff002e>sex</text> <text style=background-color:#00ff005f>scene</text> <text style=background-color:#00ff0025>but</text> <text style=background-color:#00ff0026>it</text> <text style=background-color:#00ff0000>isn</text> <text style=background-color:#00ff000c>t</text> <text style=background-color:#00ff0000>salacious</text> <text style=background-color:#00ff0022>or</text> <text style=background-color:#00ff001b>at</text> <text style=background-color:#00ff001c>least</text> <text style=background-color:#00ff0024>no</text> <text style=background-color:#00ff001a>more</text> <text style=background-color:#00ff0028>so</text> <text style=background-color:#00ff0026>than</text> <text style=background-color:#00ff001b>you</text> <text style=background-color:#00ff0018>d</text> <text style=background-color:#00ff001b>find</text> <text style=background-color:#00ff0020>in</text> <text style=background-color:#00ff0022>any</text> <text style=background-color:#00ff0029>legit</text> <text style=background-color:#00ff008f>movie</text> <text style=background-color:#00ff002c>about</text> <text style=background-color:#00ff0002>lesbians</text> <text style=background-color:#00ff0027>that</text> <text style=background-color:#00ff003f>shows</text> <text style=background-color:#00ff000f>them</text> <text style=background-color:#00ff0020>having</text> <text style=background-color:#00ff002e>sex</text> <text style=background-color:#00ff0026>it</text> <text style=background-color:#00ff000f>s</text> <text style=background-color:#00ff0013>rather</text> <text style=background-color:#00ff0009>unusual</text> <text style=background-color:#00ff0020>for</text> <text style=background-color:#00ff0027>a</text> <text style=background-color:#00ff00ff>horror</text> <text style=background-color:#00ff0053>film</text> <text style=background-color:#00ff001e>to</text> <text style=background-color:#00ff001d>take</text> <text style=background-color:#00ff0032>the</text> <text style=background-color:#00ff003f>time</text> <text style=background-color:#00ff0020>and</text> <text style=background-color:#00ff0016>effort</text> <text style=background-color:#00ff001e>to</text> <text style=background-color:#00ff0023>do</text> <text style=background-color:#00ff0030>this</text> <text style=background-color:#00ff0027>without</text> <text style=background-color:#00ff0000>resorting</text> <text style=background-color:#00ff001e>to</text> <text style=background-color:#00ff0006>cheap</text> <text style=background-color:#00ff0002>exploitation</text> <text style=background-color:#00ff000a>br</text> <text style=background-color:#00ff000a>br</text> <text style=background-color:#00ff0032>the</text> <text style=background-color:#00ff001d>other</text> <text style=background-color:#00ff0043>thing</text> <text style=background-color:#00ff002c>about</text> <text style=background-color:#00ff0030>this</text> <text style=background-color:#00ff0027>that</text> <text style=background-color:#00ff0009>held</text> <text style=background-color:#00ff0021>my</text> <text style=background-color:#00ff0006>interest</text> <text style=background-color:#00ff002a>was</text> <text style=background-color:#00ff0022>how</text> <text style=background-color:#00ff0026>it</text> <text style=background-color:#00ff002a>was</text> <text style=background-color:#00ff0015>clearly</text> <text style=background-color:#00ff0016>trying</text> <text style=background-color:#00ff001e>to</text> <text style=background-color:#00ff0000>emulate</text> <text style=background-color:#00ff0032>the</text> <text style=background-color:#00ff0026>stupid</text> <text style=background-color:#00ff002c>kids</text> <text style=background-color:#00ff0023>have</text> <text style=background-color:#00ff002e>sex</text> <text style=background-color:#00ff0020>and</text> <text style=background-color:#00ff0016>get</text> <text style=background-color:#00ff000f>killed</text> <text style=background-color:#00ff002b>vibe</text> <text style=background-color:#00ff0030>of</text> <text style=background-color:#00ff0032>the</text> <text style=background-color:#00ff000f>s</text> <text style=background-color:#00ff0000>slashers</text> <text style=background-color:#00ff0026>it</text> <text style=background-color:#00ff000f>s</text> <text style=background-color:#00ff002a>hard</text> <text style=background-color:#00ff001e>to</text> <text style=background-color:#00ff001d>take</text> <text style=background-color:#00ff0027>that</text> <text style=background-color:#00ff001d>on</text> <text style=background-color:#00ff0027>because</text> <text style=background-color:#00ff0028>there</text> <text style=background-color:#00ff001f>are</text> <text style=background-color:#00ff0028>so</text> <text style=background-color:#00ff0018>many</text> <text style=background-color:#00ff0030>of</text> <text style=background-color:#00ff0016>those</text> <text style=background-color:#00ff0045>films</text> <text style=background-color:#00ff0027>that</text> <text style=background-color:#00ff001b>already</text> <text style=background-color:#00ff001e>exist</text> <text style=background-color:#00ff0032>the</text> <text style=background-color:#00ff0017>genre</text> <text style=background-color:#00ff0021>has</text> <text style=background-color:#00ff001a>been</text> <text style=background-color:#00ff0016>done</text> <text style=background-color:#00ff001e>to</text> <text style=background-color:#00ff0032>death</text> <text style=background-color:#00ff001f>i</text> <text style=background-color:#00ff000d>m</text> <text style=background-color:#00ff0022>not</text> <text style=background-color:#00ff001e>sure</text> <text style=background-color:#00ff0016>if</text> <text style=background-color:#00ff0026>it</text> <text style=background-color:#00ff000f>s</text> <text style=background-color:#00ff002b>good</text> <text style=background-color:#00ff0022>or</text> <text style=background-color:#00ff003f>bad</text> <text style=background-color:#00ff0027>that</text> <text style=background-color:#00ff0019>these</text> <text style=background-color:#00ff0003>filmmakers</text> <text style=background-color:#00ff000b>simply</text> <text style=background-color:#00ff0012>tried</text> <text style=background-color:#00ff001e>to</text> <text style=background-color:#00ff0022>make</text> <text style=background-color:#00ff0025>another</text> <text style=background-color:#00ff0005>entry</text> <text style=background-color:#00ff0020>in</text> <text style=background-color:#00ff0027>that</text> <text style=background-color:#00ff0017>genre</text> <text style=background-color:#00ff0027>without</text> <text style=background-color:#00ff0016>irony</text> <text style=background-color:#00ff0020>as</text> <text style=background-color:#00ff0016>if</text> <text style=background-color:#00ff0026>it</text> <text style=background-color:#00ff002a>was</text> <text style=background-color:#00ff001e>still</text> <text style=background-color:#00ff0027>a</text> <text style=background-color:#00ff0022>living</text> <text style=background-color:#00ff0017>genre</text> <text style=background-color:#00ff0025>but</text> <text style=background-color:#00ff001f>i</text> <text style=background-color:#00ff0002>appreciated</text> <text style=background-color:#00ff0032>the</text> <text style=background-color:#00ff000d>attempt</text> <text style=background-color:#00ff000a>br</text> <text style=background-color:#00ff000a>br</text> <text style=background-color:#00ff0027>which</text> <text style=background-color:#00ff0032>is</text> <text style=background-color:#00ff0024>why</text> <text style=background-color:#00ff001f>i</text> <text style=background-color:#00ff0014>sat</text> <text style=background-color:#00ff0019>through</text> <text style=background-color:#00ff0026>it</text> <text style=background-color:#00ff001f>sometimes</text> <text style=background-color:#00ff001b>you</text> <text style=background-color:#00ff0023>just</text> <text style=background-color:#00ff0019>want</text> <text style=background-color:#00ff001e>to</text> <text style=background-color:#00ff0037>watch</text> <text style=background-color:#00ff0027>a</text> <text style=background-color:#00ff000c>mindless</text> <text style=background-color:#00ff0024>no</text> <text style=background-color:#00ff0007>budget</text> <text style=background-color:#00ff0027>a</text> <text style=background-color:#00ff0020>for</text> <text style=background-color:#00ff0016>effort</text> <text style=background-color:#00ff00ff>horror</text> <text style=background-color:#00ff0053>film</text> <text style=background-color:#00ff0028>there</text> <text style=background-color:#00ff0026>really</text> <text style=background-color:#00ff002a>was</text> <text style=background-color:#00ff001b>too</text> <text style=background-color:#00ff001f>much</text> <text style=background-color:#00ff0025>set</text> <text style=background-color:#00ff001c>up</text> <text style=background-color:#00ff0022>not</text> <text style=background-color:#00ff001e>enough</text> <text style=background-color:#00ff0001>gore</text> <text style=background-color:#00ff0015>endless</text> <text style=background-color:#00ff0038>plot</text> <text style=background-color:#00ff0005>holes</text> <text style=background-color:#00ff0043>dead</text> <text style=background-color:#00ff000e>ends</text> <text style=background-color:#00ff0020>and</text> <text style=background-color:#00ff0000>clichãâs</text> <text style=background-color:#00ff0020>and</text> <text style=background-color:#00ff0032>the</text> <text style=background-color:#00ff000f>unfortunate</text> <text style=background-color:#00ff000b>overall</text> <text style=background-color:#00ff0021>feel</text> <text style=background-color:#00ff0030>of</text> <text style=background-color:#00ff0027>a</text> <text style=background-color:#00ff008f>movie</text> <text style=background-color:#00ff0027>that</text> <text style=background-color:#00ff000b>simply</text> <text style=background-color:#00ff001f>did</text> <text style=background-color:#00ff0022>not</text> <text style=background-color:#00ff0023>have</text> <text style=background-color:#00ff001e>enough</text> <text style=background-color:#00ff000e>money</text> <text style=background-color:#00ff001b>behind</text> <text style=background-color:#00ff0026>it</text> <text style=background-color:#00ff001e>to</text> <text style=background-color:#00ff0018>be</text> <text style=background-color:#00ff0032>the</text> <text style=background-color:#00ff0053>film</text> <text style=background-color:#00ff0032>the</text> <text style=background-color:#00ff0008>producers</text> <text style=background-color:#00ff0000>envisioned</text> <text style=background-color:#00ff0025>but</text> <text style=background-color:#00ff001b>at</text> <text style=background-color:#00ff0032>the</text> <text style=background-color:#00ff001b>very</text> <text style=background-color:#00ff001c>least</text> <text style=background-color:#00ff0032>the</text> <text style=background-color:#00ff0027>haunted</text> <text style=background-color:#00ff0022>house</text> <text style=background-color:#00ff0048>scenes</text> <text style=background-color:#00ff001e>were</text> <text style=background-color:#00ff0022>pretty</text> <text style=background-color:#00ff002a>cool</text> <text style=background-color:#00ff001f>i</text> <text style=background-color:#00ff0018>d</text> <text style=background-color:#00ff0007>pay</text> <text style=background-color:#00ff001e>to</text> <text style=background-color:#00ff0016>go</text> <text style=background-color:#00ff001e>to</text> <text style=background-color:#00ff0027>that</text> <text style=background-color:#00ff0027>haunted</text> <text style=background-color:#00ff0022>house</text> <text style=background-color:#00ff0016>if</text> <text style=background-color:#00ff0026>it</text> <text style=background-color:#00ff0012>existed</text> <text style=background-color:#00ff0020>and</text> <text style=background-color:#00ff0001>didn</text> <text style=background-color:#00ff000c>t</text> <text style=background-color:#00ff001f>mind</text> <text style=background-color:#00ff0002>paying</text> <text style=background-color:#00ff0027>a</text> <text style=background-color:#00ff0001>dollar</text> <text style=background-color:#00ff001e>to</text> <text style=background-color:#00ff0022>see</text> <text style=background-color:#00ff0026>it</text> <text style=background-color:#00ff001d>on</text> <text style=background-color:#00ff0026>dvd</text> <text style=background-color:#00ff0027>even</text> <text style=background-color:#00ff0016>if</text> <text style=background-color:#00ff001f>i</text> <text style=background-color:#00ff0003>ll</text> <text style=background-color:#00ff002b>never</text> <text style=background-color:#00ff0037>watch</text> <text style=background-color:#00ff0030>this</text> <text style=background-color:#00ff0026>again</text> <text style=background-color:#00ff000a>br</text> <text style=background-color:#00ff000a>br</text> <text style=background-color:#00ff0034>oh</text> <text style=background-color:#00ff0020>and</text> <text style=background-color:#00ff001a>possible</text> <text style=background-color:#00ff0055>spoiler</text> <text style=background-color:#00ff0025>but</text> <text style=background-color:#00ff0028>there</text> <text style=background-color:#00ff002a>was</text> <text style=background-color:#00ff002b>great</text> <text style=background-color:#00ff0010>brief</text> <text style=background-color:#00ff0010>business</text> <text style=background-color:#00ff0023>with</text> <text style=background-color:#00ff0032>the</text> <text style=background-color:#00ff007c>vampire</text> <text style=background-color:#00ff0028>girl</text> <text style=background-color:#00ff0020>in</text> <text style=background-color:#00ff0032>the</text> <text style=background-color:#00ff0002>coffin</text> <text style=background-color:#00ff001f>i</text> <text style=background-color:#00ff0019>used</text> <text style=background-color:#00ff001e>to</text> <text style=background-color:#00ff0018>be</text> <text style=background-color:#00ff0004>claustrophobic</text> <text style=background-color:#00ff0025>but</text> <text style=background-color:#00ff001f>i</text> <text style=background-color:#00ff0000>ve</text> <text style=background-color:#00ff0019>changed</text> <text style=background-color:#00ff001a>ha</text> <text style=background-color:#00ff001a>ha</text> <text style=background-color:#00ff002b>good</text> <text style=background-color:#00ff0036>one</text> <br> <text style=background-color:#00ff0015>by</text> <text style=background-color:#00ff0017>all</text> <text style=background-color:#00ff0026>the</text> <text style=background-color:#00ff0000>fawning</text> <text style=background-color:#00ff0012>people</text> <text style=background-color:#00ff0019>have</text> <text style=background-color:#00ff0011>been</text> <text style=background-color:#00ff0015>doing</text> <text style=background-color:#00ff0015>over</text> <text style=background-color:#00ff0000>miike</text> <text style=background-color:#00ff0017>and</text> <text style=background-color:#00ff000e>his</text> <text style=background-color:#00ff0019>work</text> <text style=background-color:#00ff0016>i</text> <text style=background-color:#00ff000d>sat</text> <text style=background-color:#00ff0010>through</text> <text style=background-color:#00ff0025>this</text> <text style=background-color:#00ff0016>flick</text> <text style=background-color:#00ff0019>tonight</text> <text style=background-color:#00ff0016>i</text> <text style=background-color:#00ff0006>figured</text> <text style=background-color:#00ff000e>if</text> <text style=background-color:#00ff001c>it</text> <text style=background-color:#00ff0009>s</text> <text style=background-color:#00ff0015>half</text> <text style=background-color:#00ff0017>as</text> <text style=background-color:#00ff0020>good</text> <text style=background-color:#00ff0017>as</text> <text style=background-color:#00ff0000>ringu</text> <text style=background-color:#00ff0017>as</text> <text style=background-color:#00ff0016>i</text> <text style=background-color:#00ff0001>assumed</text> <text style=background-color:#00ff0013>from</text> <text style=background-color:#00ff0011>these</text> <text style=background-color:#00ff0006>comments</text> <text style=background-color:#00ff001c>it</text> <text style=background-color:#00ff000f>might</text> <text style=background-color:#00ff0010>be</text> <text style=background-color:#00ff001c>than</text> <text style=background-color:#00ff001c>it</text> <text style=background-color:#00ff0011>will</text> <text style=background-color:#00ff0010>be</text> <text style=background-color:#00ff0008>worth</text> <text style=background-color:#00ff0017>my</text> <text style=background-color:#00ff0033>time</text> <text style=background-color:#00ff0006>br</text> <text style=background-color:#00ff0006>br</text> <text style=background-color:#00ff001a>no</text> <text style=background-color:#00ff002c>such</text> <text style=background-color:#00ff0010>luck</text> <text style=background-color:#00ff0006>br</text> <text style=background-color:#00ff0006>br</text> <text style=background-color:#00ff0016>i</text> <text style=background-color:#00ff0007>m</text> <text style=background-color:#00ff0017>all</text> <text style=background-color:#00ff0017>for</text> <text style=background-color:#00ff0019>finding</text> <text style=background-color:#00ff0026>the</text> <text style=background-color:#00ff0021>next</text> <text style=background-color:#00ff0020>great</text> <text style=background-color:#00ff0013>director</text> <text style=background-color:#00ff0018>or</text> <text style=background-color:#00ff001e>writer</text> <text style=background-color:#00ff001b>but</text> <text style=background-color:#00ff0016>i</text> <text style=background-color:#00ff000f>don</text> <text style=background-color:#00ff0007>t</text> <text style=background-color:#00ff0019>think</text> <text style=background-color:#00ff0000>miike</text> <text style=background-color:#00ff0026>is</text> <text style=background-color:#00ff0026>the</text> <text style=background-color:#00ff002a>one</text> <text style=background-color:#00ff0016>i</text> <text style=background-color:#00ff000f>don</text> <text style=background-color:#00ff0007>t</text> <text style=background-color:#00ff0019>have</text> <text style=background-color:#00ff0018>an</text> <text style=background-color:#00ff0003>nyu</text> <text style=background-color:#00ff0019>masters</text> <text style=background-color:#00ff0025>of</text> <text style=background-color:#00ff000e>fine</text> <text style=background-color:#00ff001a>arts</text> <text style=background-color:#00ff001b>but</text> <text style=background-color:#00ff0016>i</text> <text style=background-color:#00ff0019>do</text> <text style=background-color:#00ff001a>know</text> <text style=background-color:#00ff0025>this</text> <text style=background-color:#00ff0016>much</text> <text style=background-color:#00ff001c>a</text> <text style=background-color:#00ff00ff>horror</text> <text style=background-color:#00ff0084>movie</text> <text style=background-color:#00ff0017>has</text> <text style=background-color:#00ff0015>to</text> <text style=background-color:#00ff0019>have</text> <text style=background-color:#00ff0000>pacing</text> <text style=background-color:#00ff001c>it</text> <text style=background-color:#00ff0014>also</text> <text style=background-color:#00ff0017>has</text> <text style=background-color:#00ff0015>to</text> <text style=background-color:#00ff000d>give</text> <text style=background-color:#00ff0026>the</text> <text style=background-color:#00ff0002>viewer</text> <text style=background-color:#00ff0012>more</text> <text style=background-color:#00ff0000>credulity</text> <text style=background-color:#00ff001c>than</text> <text style=background-color:#00ff0025>this</text> <text style=background-color:#00ff0084>movie</text> <text style=background-color:#00ff0016>does</text> <text style=background-color:#00ff0006>br</text> <text style=background-color:#00ff0006>br</text> <text style=background-color:#00ff0025>this</text> <text style=background-color:#00ff0046>film</text> <text style=background-color:#00ff0009>s</text> <text style=background-color:#00ff0000>pacing</text> <text style=background-color:#00ff001a>had</text> <text style=background-color:#00ff0010>me</text> <text style=background-color:#00ff0003>shaking</text> <text style=background-color:#00ff0017>my</text> <text style=background-color:#00ff000a>head</text> <text style=background-color:#00ff0018>some</text> <text style=background-color:#00ff0025>of</text> <text style=background-color:#00ff0026>the</text> <text style=background-color:#00ff003c>scenes</text> <text style=background-color:#00ff0004>near</text> <text style=background-color:#00ff0026>the</text> <text style=background-color:#00ff001f>end</text> <text style=background-color:#00ff0000>dragged</text> <text style=background-color:#00ff001e>so</text> <text style=background-color:#00ff0008>badly</text> <text style=background-color:#00ff0016>i</text> <text style=background-color:#00ff000f>went</text> <text style=background-color:#00ff0015>to</text> <text style=background-color:#00ff0026>the</text> <text style=background-color:#00ff0003>fridge</text> <text style=background-color:#00ff0017>and</text> <text style=background-color:#00ff0000>lingered</text> <text style=background-color:#00ff001e>there</text> <text style=background-color:#00ff0017>while</text> <text style=background-color:#00ff0000>kou</text> <text style=background-color:#00ff0000>shibasaki</text> <text style=background-color:#00ff0000>stared</text> <text style=background-color:#00ff0012>at</text> <text style=background-color:#00ff0026>the</text> <text style=background-color:#00ff0010>camera</text> <text style=background-color:#00ff0017>for</text> <text style=background-color:#00ff0001>seemingly</text> <text style=background-color:#00ff000c>minutes</text> <text style=background-color:#00ff0014>on</text> <text style=background-color:#00ff001f>end</text> <text style=background-color:#00ff000a>eyes</text> <text style=background-color:#00ff0009>wide</text> <text style=background-color:#00ff0017>and</text> <text style=background-color:#00ff0007>mouth</text> <text style=background-color:#00ff0000>agape</text> <text style=background-color:#00ff001c>a</text> <text style=background-color:#00ff0023>famous</text> <text style=background-color:#00ff0013>director</text> <text style=background-color:#00ff0013>once</text> <text style=background-color:#00ff0020>made</text> <text style=background-color:#00ff0026>the</text> <text style=background-color:#00ff0002>claim</text> <text style=background-color:#00ff0017>and</text> <text style=background-color:#00ff0016>i</text> <text style=background-color:#00ff0007>m</text> <text style=background-color:#00ff0000>paraphrasing</text> <text style=background-color:#00ff001c>a</text> <text style=background-color:#00ff0084>movie</text> <text style=background-color:#00ff0011>could</text> <text style=background-color:#00ff0010>be</text> <text style=background-color:#00ff0020>made</text> <text style=background-color:#00ff0015>by</text> <text style=background-color:#00ff0008>turning</text> <text style=background-color:#00ff0026>the</text> <text style=background-color:#00ff0010>camera</text> <text style=background-color:#00ff0014>on</text> <text style=background-color:#00ff001c>a</text> <text style=background-color:#00ff0014>beautiful</text> <text style=background-color:#00ff000f>woman</text> <text style=background-color:#00ff0017>and</text> <text style=background-color:#00ff0005>letting</text> <text style=background-color:#00ff001c>it</text> <text style=background-color:#00ff0019>roll</text> <text style=background-color:#00ff0000>kou</text> <text style=background-color:#00ff0026>is</text> <text style=background-color:#00ff0018>not</text> <text style=background-color:#00ff001c>a</text> <text style=background-color:#00ff0020>good</text> <text style=background-color:#00ff0015>enough</text> <text style=background-color:#00ff000d>actress</text> <text style=background-color:#00ff0015>to</text> <text style=background-color:#00ff0019>make</text> <text style=background-color:#00ff001d>that</text> <text style=background-color:#00ff0019>work</text> <text style=background-color:#00ff000e>she</text> <text style=background-color:#00ff0000>stares</text> <text style=background-color:#00ff0000>paralyzed</text> <text style=background-color:#00ff0012>at</text> <text style=background-color:#00ff0026>the</text> <text style=background-color:#00ff000e>undead</text> <text style=background-color:#00ff001e>girl</text> <text style=background-color:#00ff0017>for</text> <text style=background-color:#00ff0012>more</text> <text style=background-color:#00ff003c>scenes</text> <text style=background-color:#00ff001c>than</text> <text style=background-color:#00ff0016>i</text> <text style=background-color:#00ff000f>care</text> <text style=background-color:#00ff0015>to</text> <text style=background-color:#00ff0024>remember</text> <text style=background-color:#00ff0017>and</text> <text style=background-color:#00ff000e>she</text> <text style=background-color:#00ff0000>isn</text> <text style=background-color:#00ff0007>t</text> <text style=background-color:#00ff0026>the</text> <text style=background-color:#00ff0013>only</text> <text style=background-color:#00ff002a>one</text> <text style=background-color:#00ff0015>doing</text> <text style=background-color:#00ff0018>an</text> <text style=background-color:#00ff0003>impersonation</text> <text style=background-color:#00ff0025>of</text> <text style=background-color:#00ff001c>a</text> <text style=background-color:#00ff0003>deer</text> <text style=background-color:#00ff0016>in</text> <text style=background-color:#00ff0000>headlights</text> <text style=background-color:#00ff0014>other</text> <text style=background-color:#00ff0042>cast</text> <text style=background-color:#00ff0005>members</text> <text style=background-color:#00ff0015>apparently</text> <text style=background-color:#00ff0018>feel</text> <text style=background-color:#00ff0026>the</text> <text style=background-color:#00ff0012>need</text> <text style=background-color:#00ff0015>to</text> <text style=background-color:#00ff0001>imitate</text> <text style=background-color:#00ff0025>this</text> <text style=background-color:#00ff0004>non</text> <text style=background-color:#00ff0040>performance</text> <text style=background-color:#00ff0026>the</text> <text style=background-color:#00ff0037>script</text> <text style=background-color:#00ff000a>gives</text> <text style=background-color:#00ff0009>them</text> <text style=background-color:#00ff0028>little</text> <text style=background-color:#00ff0017>room</text> <text style=background-color:#00ff0015>to</text> <text style=background-color:#00ff0019>do</text> <text style=background-color:#00ff0016>much</text> <text style=background-color:#00ff000b>else</text> <text style=background-color:#00ff0017>for</text> <text style=background-color:#00ff0019>far</text> <text style=background-color:#00ff0012>too</text> <text style=background-color:#00ff0016>much</text> <text style=background-color:#00ff0025>of</text> <text style=background-color:#00ff0026>the</text> <text style=background-color:#00ff0033>time</text> <text style=background-color:#00ff0006>br</text> <text style=background-color:#00ff0006>br</text> <text style=background-color:#00ff0016>i</text> <text style=background-color:#00ff001e>like</text> <text style=background-color:#00ff000a>asian</text> <text style=background-color:#00ff0030>cinema</text> <text style=background-color:#00ff0003>hong</text> <text style=background-color:#00ff0013>kong</text> <text style=background-color:#00ff002e>action</text> <text style=background-color:#00ff0001>flicks</text> <text style=background-color:#00ff0013>from</text> <text style=background-color:#00ff0026>the</text> <text style=background-color:#00ff0027>last</text> <text style=background-color:#00ff001d>years</text> <text style=background-color:#00ff001f>korean</text> <text style=background-color:#00ff00ff>horror</text> <text style=background-color:#00ff001e>like</text> <text style=background-color:#00ff0009>phone</text> <text style=background-color:#00ff0017>and</text> <text style=background-color:#00ff0000>koma</text> <text style=background-color:#00ff0016>ang</text> <text style=background-color:#00ff000f>lee</text> <text style=background-color:#00ff0009>s</text> <text style=background-color:#00ff0019>work</text> <text style=background-color:#00ff0018>some</text> <text style=background-color:#00ff0025>of</text> <text style=background-color:#00ff0026>the</text> <text style=background-color:#00ff0002>trashy</text> <text style=background-color:#00ff001b>but</text> <text style=background-color:#00ff002e>fun</text> <text style=background-color:#00ff0017>filipino</text> <text style=background-color:#00ff005b>movies</text> <text style=background-color:#00ff0019>with</text> <text style=background-color:#00ff0000>gratuitous</text> <text style=background-color:#00ff0023>sex</text> <text style=background-color:#00ff0017>and</text> <text style=background-color:#00ff0012>fighting</text> <text style=background-color:#00ff0017>as</text> <text style=background-color:#00ff0015>well</text> <text style=background-color:#00ff0017>as</text> <text style=background-color:#00ff0005>others</text> <text style=background-color:#00ff0000>chakushin</text> <text style=background-color:#00ff0008>ari</text> <text style=background-color:#00ff0016>i</text> <text style=background-color:#00ff0011>could</text> <text style=background-color:#00ff0019>have</text> <text style=background-color:#00ff000f>done</text> <text style=background-color:#00ff001c>without</text> <br> <text style=background-color:#00ff002c>this</text> <text style=background-color:#00ff008b>movie</text> <text style=background-color:#00ff001d>has</text> <text style=background-color:#00ff0017>been</text> <text style=background-color:#00ff0004>poorly</text> <text style=background-color:#00ff0003>received</text> <text style=background-color:#00ff001d>and</text> <text style=background-color:#00ff000c>badly</text> <text style=background-color:#00ff0001>reviewed</text> <text style=background-color:#00ff002d>the</text> <text style=background-color:#00ff0041>book</text> <text style=background-color:#00ff001b>by</text> <text style=background-color:#00ff000a>rebecca</text> <text style=background-color:#00ff000a>west</text> <text style=background-color:#00ff0026>was</text> <text style=background-color:#00ff001d>written</text> <text style=background-color:#00ff001c>in</text> <text style=background-color:#00ff0014>soon</text> <text style=background-color:#00ff001f>after</text> <text style=background-color:#00ff0003>wwi</text> <text style=background-color:#00ff001f>when</text> <text style=background-color:#00ff0004>shell</text> <text style=background-color:#00ff0035>shock</text> <text style=background-color:#00ff001d>and</text> <text style=background-color:#00ff0027>trauma</text> <text style=background-color:#00ff0002>induced</text> <text style=background-color:#00ff0035>amnesia</text> <text style=background-color:#00ff001a>were</text> <text style=background-color:#00ff001e>not</text> <text style=background-color:#00ff0000>clichãâs</text> <text style=background-color:#00ff001c>as</text> <text style=background-color:#00ff002d>the</text> <text style=background-color:#00ff0000>reviewers</text> <text style=background-color:#00ff0017>call</text> <text style=background-color:#00ff0023>it</text> <text style=background-color:#00ff0015>many</text> <text style=background-color:#00ff0025>books</text> <text style=background-color:#00ff001d>and</text> <text style=background-color:#00ff0063>movies</text> <text style=background-color:#00ff0018>later</text> <text style=background-color:#00ff0023>it</text> <text style=background-color:#00ff002e>is</text> <text style=background-color:#00ff0012>difficult</text> <text style=background-color:#00ff001b>to</text> <text style=background-color:#00ff0013>go</text> <text style=background-color:#00ff0007>back</text> <text style=background-color:#00ff001c>in</text> <text style=background-color:#00ff003a>time</text> <text style=background-color:#00ff001d>and</text> <text style=background-color:#00ff0033>live</text> <text style=background-color:#00ff001c>as</text> <text style=background-color:#00ff002d>the</text> <text style=background-color:#00ff0040>characters</text> <text style=background-color:#00ff000d>lived</text> <text style=background-color:#00ff002d>the</text> <text style=background-color:#00ff0009>realities</text> <text style=background-color:#00ff002c>of</text> <text style=background-color:#00ff002d>the</text> <text style=background-color:#00ff003a>time</text> <text style=background-color:#00ff002d>the</text> <text style=background-color:#00ff0024>war</text> <text style=background-color:#00ff001d>and</text> <text style=background-color:#00ff002d>the</text> <text style=background-color:#00ff00ff>horror</text> <text style=background-color:#00ff002c>of</text> <text style=background-color:#00ff002d>the</text> <text style=background-color:#00ff0030>experience</text> <text style=background-color:#00ff002c>of</text> <text style=background-color:#00ff002d>the</text> <text style=background-color:#00ff002d>first</text> <text style=background-color:#00ff0024>war</text> <text style=background-color:#00ff001b>to</text> <text style=background-color:#00ff0017>use</text> <text style=background-color:#00ff0007>lethal</text> <text style=background-color:#00ff0005>gas</text> <text style=background-color:#00ff002d>the</text> <text style=background-color:#00ff0020>british</text> <text style=background-color:#00ff0031>class</text> <text style=background-color:#00ff0011>system</text> <text style=background-color:#00ff002d>the</text> <text style=background-color:#00ff000b>wife</text> <text style=background-color:#00ff0023>thought</text> <text style=background-color:#00ff001d>all</text> <text style=background-color:#00ff0013>important</text> <text style=background-color:#00ff002d>the</text> <text style=background-color:#00ff0018>hopeless</text> <text style=background-color:#00ff0000>spinster</text> <text style=background-color:#00ff001d>and</text> <text style=background-color:#00ff002d>the</text> <text style=background-color:#00ff001d>lover</text> <text style=background-color:#00ff0018>from</text> <text style=background-color:#00ff002d>the</text> <text style=background-color:#00ff001c>past</text> <text style=background-color:#00ff001a>still</text> <text style=background-color:#00ff0023>seen</text> <text style=background-color:#00ff001f>with</text> <text style=background-color:#00ff002d>the</text> <text style=background-color:#00ff000d>eyes</text> <text style=background-color:#00ff002c>of</text> <text style=background-color:#00ff0022>love</text> <text style=background-color:#00ff0015>being</text> <text style=background-color:#00ff001c>as</text> <text style=background-color:#00ff001f>young</text> <text style=background-color:#00ff001d>and</text> <text style=background-color:#00ff001c>as</text> <text style=background-color:#00ff001a>beautiful</text> <text style=background-color:#00ff001c>as</text> <text style=background-color:#00ff0013>she</text> <text style=background-color:#00ff0026>was</text> <text style=background-color:#00ff0024>years</text> <text style=background-color:#00ff0022>ago</text> <text style=background-color:#00ff0009>br</text> <text style=background-color:#00ff0009>br</text> <text style=background-color:#00ff0001>alan</text> <text style=background-color:#00ff000e>bates</text> <text style=background-color:#00ff001c>as</text> <text style=background-color:#00ff002d>the</text> <text style=background-color:#00ff0000>amnesiac</text> <text style=background-color:#00ff0011>soldier</text> <text style=background-color:#00ff0013>who</text> <text style=background-color:#00ff0016>will</text> <text style=background-color:#00ff0011>die</text> <text style=background-color:#00ff0013>if</text> <text style=background-color:#00ff001d>he</text> <text style=background-color:#00ff0000>isn</text> <text style=background-color:#00ff000a>t</text> <text style=background-color:#00ff0008>allowed</text> <text style=background-color:#00ff001b>to</text> <text style=background-color:#00ff001e>see</text> <text style=background-color:#00ff0004>margaret</text> <text style=background-color:#00ff002d>the</text> <text style=background-color:#00ff0024>girl</text> <text style=background-color:#00ff002c>of</text> <text style=background-color:#00ff0012>his</text> <text style=background-color:#00ff0000>youthful</text> <text style=background-color:#00ff001e>dreams</text> <text style=background-color:#00ff0005>builds</text> <text style=background-color:#00ff001a>on</text> <text style=background-color:#00ff002d>the</text> <text style=background-color:#00ff0004>devotion</text> <text style=background-color:#00ff0012>his</text> <text style=background-color:#00ff0050>character</text> <text style=background-color:#00ff0011>showed</text> <text style=background-color:#00ff001c>in</text> <text style=background-color:#00ff001f>far</text> <text style=background-color:#00ff0018>from</text> <text style=background-color:#00ff002d>the</text> <text style=background-color:#00ff0000>madding</text> <text style=background-color:#00ff0015>crowd</text> <text style=background-color:#00ff001d>having</text> <text style=background-color:#00ff0023>seen</text> <text style=background-color:#00ff0024>that</text> <text style=background-color:#00ff0048>performance</text> <text style=background-color:#00ff0023>it</text> <text style=background-color:#00ff002e>is</text> <text style=background-color:#00ff0017>possible</text> <text style=background-color:#00ff001b>to</text> <text style=background-color:#00ff001d>sense</text> <text style=background-color:#00ff0012>his</text> <text style=background-color:#00ff0017>strong</text> <text style=background-color:#00ff0020>romantic</text> <text style=background-color:#00ff0002>attachment</text> <text style=background-color:#00ff001b>to</text> <text style=background-color:#00ff002d>the</text> <text style=background-color:#00ff0024>girl</text> <text style=background-color:#00ff0013>who</text> <text style=background-color:#00ff0000>didn</text> <text style=background-color:#00ff000a>t</text> <text style=background-color:#00ff0033>live</text> <text style=background-color:#00ff0018>up</text> <text style=background-color:#00ff001b>to</text> <text style=background-color:#00ff002d>the</text> <text style=background-color:#00ff0023>family</text> <text style=background-color:#00ff000c>s</text> <text style=background-color:#00ff001d>and</text> <text style=background-color:#00ff0021>society</text> <text style=background-color:#00ff000c>s</text> <text style=background-color:#00ff0004>expectations</text> <text style=background-color:#00ff0004>margaret</text> <text style=background-color:#00ff000c>says</text> <text style=background-color:#00ff0025>we</text> <text style=background-color:#00ff0000>quarreled</text> <text style=background-color:#00ff001d>and</text> <text style=background-color:#00ff001c>as</text> <text style=background-color:#00ff0018>you</text> <text style=background-color:#00ff0000>rowed</text> <text style=background-color:#00ff0011>away</text> <text style=background-color:#00ff0018>you</text> <text style=background-color:#00ff0018>turned</text> <text style=background-color:#00ff0017>your</text> <text style=background-color:#00ff001c>face</text> <text style=background-color:#00ff0011>away</text> <text style=background-color:#00ff0018>from</text> <text style=background-color:#00ff0016>me</text> <text style=background-color:#00ff0024>so</text> <text style=background-color:#00ff0025>we</text> <text style=background-color:#00ff0020>know</text> <text style=background-color:#00ff0024>that</text> <text style=background-color:#00ff002d>the</text> <text style=background-color:#00ff0015>breakup</text> <text style=background-color:#00ff0026>was</text> <text style=background-color:#00ff001e>something</text> <text style=background-color:#00ff0024>that</text> <text style=background-color:#00ff001d>he</text> <text style=background-color:#00ff0000>instigated</text> <text style=background-color:#00ff0024>that</text> <text style=background-color:#00ff0023>it</text> <text style=background-color:#00ff0011>brought</text> <text style=background-color:#00ff000d>him</text> <text style=background-color:#00ff0015>shame</text> <text style=background-color:#00ff0021>but</text> <text style=background-color:#00ff0024>that</text> <text style=background-color:#00ff001d>he</text> <text style=background-color:#00ff0016>forgot</text> <text style=background-color:#00ff002d>the</text> <text style=background-color:#00ff0015>shame</text> <text style=background-color:#00ff001c>in</text> <text style=background-color:#00ff0012>his</text> <text style=background-color:#00ff0021>memory</text> <text style=background-color:#00ff002c>of</text> <text style=background-color:#00ff0012>his</text> <text style=background-color:#00ff003a>time</text> <text style=background-color:#00ff001f>with</text> <text style=background-color:#00ff0004>margaret</text> <text style=background-color:#00ff001c>i</text> <text style=background-color:#00ff0010>haven</text> <text style=background-color:#00ff000a>t</text> <text style=background-color:#00ff0023>seen</text> <text style=background-color:#00ff001d>all</text> <text style=background-color:#00ff0012>his</text> <text style=background-color:#00ff0041>films</text> <text style=background-color:#00ff0021>but</text> <text style=background-color:#00ff001c>in</text> <text style=background-color:#00ff002d>the</text> <text style=background-color:#00ff0019>ones</text> <text style=background-color:#00ff001c>i</text> <text style=background-color:#00ff0000>ve</text> <text style=background-color:#00ff0023>seen</text> <text style=background-color:#00ff001d>he</text> <text style=background-color:#00ff0000>imparts</text> <text style=background-color:#00ff0023>a</text> <text style=background-color:#00ff0017>strong</text> <text style=background-color:#00ff0001>masculinity</text> <text style=background-color:#00ff0023>which</text> <text style=background-color:#00ff0001>shines</text> <text style=background-color:#00ff0016>through</text> <text style=background-color:#00ff0023>even</text> <text style=background-color:#00ff001c>in</text> <text style=background-color:#00ff002c>this</text> <text style=background-color:#00ff0027>role</text> <text style=background-color:#00ff001c>as</text> <text style=background-color:#00ff002d>the</text> <text style=background-color:#00ff0000>disabled</text> <text style=background-color:#00ff0011>soldier</text> <text style=background-color:#00ff0009>br</text> <text style=background-color:#00ff0009>br</text> <text style=background-color:#00ff001c>i</text> <text style=background-color:#00ff0000>didn</text> <text style=background-color:#00ff000a>t</text> <text style=background-color:#00ff0023>even</text> <text style=background-color:#00ff000e>recognize</text> <text style=background-color:#00ff0002>ann</text> <text style=background-color:#00ff0004>margaret</text> <text style=background-color:#00ff0018>at</text> <text style=background-color:#00ff002d>first</text> <text style=background-color:#00ff001d>and</text> <text style=background-color:#00ff001e>feel</text> <text style=background-color:#00ff0024>that</text> <text style=background-color:#00ff0006>her</text> <text style=background-color:#00ff0048>performance</text> <text style=background-color:#00ff001d>has</text> <text style=background-color:#00ff0017>been</text> <text style=background-color:#00ff0014>underrated</text> <text style=background-color:#00ff001e>not</text> <text style=background-color:#00ff001d>having</text> <text style=background-color:#00ff002c>read</text> <text style=background-color:#00ff002d>the</text> <text style=background-color:#00ff0041>book</text> <text style=background-color:#00ff001c>i</text> <text style=background-color:#00ff0007>wondered</text> <text style=background-color:#00ff000d>whether</text> <text style=background-color:#00ff002d>the</text> <text style=background-color:#00ff001f>child</text> <text style=background-color:#00ff0013>who</text> <text style=background-color:#00ff0012>died</text> <text style=background-color:#00ff0026>was</text> <text style=background-color:#00ff002d>the</text> <text style=background-color:#00ff000a>result</text> <text style=background-color:#00ff002c>of</text> <text style=background-color:#00ff001f>acting</text> <text style=background-color:#00ff001a>on</text> <text style=background-color:#00ff0023>a</text> <text style=background-color:#00ff0006>borderline</text> <text style=background-color:#00ff0000>incestuous</text> <text style=background-color:#00ff002f>feeling</text> <text style=background-color:#00ff0013>between</text> <text style=background-color:#00ff000b>jenny</text> <text style=background-color:#00ff001d>and</text> <text style=background-color:#00ff0016>chris</text> <text style=background-color:#00ff0021>though</text> <text style=background-color:#00ff000b>jenny</text> <text style=background-color:#00ff001c>does</text> <text style=background-color:#00ff000d>state</text> <text style=background-color:#00ff0024>that</text> <text style=background-color:#00ff0013>she</text> <text style=background-color:#00ff002e>is</text> <text style=background-color:#00ff0023>a</text> <text style=background-color:#00ff000b>cousin</text> <text style=background-color:#00ff002d>the</text> <text style=background-color:#00ff0024>way</text> <text style=background-color:#00ff000e>kitty</text> <text style=background-color:#00ff000d>keeps</text> <text style=background-color:#00ff000b>jenny</text> <text style=background-color:#00ff001c>in</text> <text style=background-color:#00ff002d>the</text> <text style=background-color:#00ff0006>nursery</text> <text style=background-color:#00ff001c>in</text> <text style=background-color:#00ff002d>the</text> <text style=background-color:#00ff000a>hair</text> <text style=background-color:#00ff0001>drying</text> <text style=background-color:#00ff005a>scene</text> <text style=background-color:#00ff002d>the</text> <text style=background-color:#00ff002e>fact</text> <text style=background-color:#00ff0024>that</text> <text style=background-color:#00ff000e>kitty</text> <text style=background-color:#00ff000c>says</text> <text style=background-color:#00ff0013>she</text> <text style=background-color:#00ff001b>always</text> <text style=background-color:#00ff0000>dries</text> <text style=background-color:#00ff0006>her</text> <text style=background-color:#00ff000a>hair</text> <text style=background-color:#00ff001c>in</text> <text style=background-color:#00ff0024>that</text> <text style=background-color:#00ff001c>room</text> <text style=background-color:#00ff0019>seems</text> <text style=background-color:#00ff0017>more</text> <text style=background-color:#00ff0023>a</text> <text style=background-color:#00ff0024>way</text> <text style=background-color:#00ff001d>for</text> <text style=background-color:#00ff000e>kitty</text> <text style=background-color:#00ff001b>to</text> <text style=background-color:#00ff0010>keep</text> <text style=background-color:#00ff002d>the</text> <text style=background-color:#00ff0000>coals</text> <text style=background-color:#00ff002c>of</text> <text style=background-color:#00ff0011>anger</text> <text style=background-color:#00ff0027>hot</text> <text style=background-color:#00ff0023>than</text> <text style=background-color:#00ff002d>the</text> <text style=background-color:#00ff000c>orientation</text> <text style=background-color:#00ff002c>of</text> <text style=background-color:#00ff002d>the</text> <text style=background-color:#00ff001c>room</text> <text style=background-color:#00ff001b>to</text> <text style=background-color:#00ff002d>the</text> <text style=background-color:#00ff0016>sun</text> <text style=background-color:#00ff001e>or</text> <text style=background-color:#00ff0001>sentiment</text> <text style=background-color:#00ff0028>about</text> <text style=background-color:#00ff0023>a</text> <text style=background-color:#00ff001f>lost</text> <text style=background-color:#00ff001f>child</text> <text style=background-color:#00ff001d>and</text> <text style=background-color:#00ff002d>the</text> <text style=background-color:#00ff000b>statement</text> <text style=background-color:#00ff0013>she</text> <text style=background-color:#00ff0027>made</text> <text style=background-color:#00ff0024>that</text> <text style=background-color:#00ff0013>she</text> <text style=background-color:#00ff0005>wished</text> <text style=background-color:#00ff0016>chris</text> <text style=background-color:#00ff0000>hadn</text> <text style=background-color:#00ff000a>t</text> <text style=background-color:#00ff0010>felt</text> <text style=background-color:#00ff0023>it</text> <text style=background-color:#00ff000a>necessary</text> <text style=background-color:#00ff001b>to</text> <text style=background-color:#00ff0001>preserve</text> <text style=background-color:#00ff002d>the</text> <text style=background-color:#00ff001c>room</text> <text style=background-color:#00ff0018>exactly</text> <text style=background-color:#00ff001c>as</text> <text style=background-color:#00ff0023>it</text> <text style=background-color:#00ff0026>was</text> <text style=background-color:#00ff001f>when</text> <text style=background-color:#00ff002d>the</text> <text style=background-color:#00ff001f>child</text> <text style=background-color:#00ff0026>was</text> <text style=background-color:#00ff002d>alive</text> <text style=background-color:#00ff0027>made</text> <text style=background-color:#00ff0006>her</text> <text style=background-color:#00ff000d>seem</text> <text style=background-color:#00ff0000>uncaring</text> <text style=background-color:#00ff0002>toward</text> <text style=background-color:#00ff002d>the</text> <text style=background-color:#00ff0021>memory</text> <text style=background-color:#00ff002c>of</text> <text style=background-color:#00ff002d>the</text> <text style=background-color:#00ff001f>child</text> <text style=background-color:#00ff001a>also</text> <text style=background-color:#00ff000b>jenny</text> <text style=background-color:#00ff002e>is</text> <text style=background-color:#00ff0010>shown</text> <text style=background-color:#00ff001c>as</text> <text style=background-color:#00ff001e>living</text> <text style=background-color:#00ff001c>in</text> <text style=background-color:#00ff002d>the</text> <text style=background-color:#00ff001f>house</text> <text style=background-color:#00ff001c>in</text> <text style=background-color:#00ff0023>a</text> <text style=background-color:#00ff0000>subservient</text> <text style=background-color:#00ff0027>role</text> <text style=background-color:#00ff001c>as</text> <text style=background-color:#00ff001e>high</text> <text style=background-color:#00ff0021>society</text> <text style=background-color:#00ff0014>would</text> <text style=background-color:#00ff001f>have</text> <text style=background-color:#00ff0014>done</text> <text style=background-color:#00ff001b>to</text> <text style=background-color:#00ff0023>a</text> <text style=background-color:#00ff0010>fallen</text> <text style=background-color:#00ff000b>member</text> <text style=background-color:#00ff0018>at</text> <text style=background-color:#00ff002d>the</text> <text style=background-color:#00ff003a>time</text> <text style=background-color:#00ff0009>br</text> <text style=background-color:#00ff0009>br</text> <text style=background-color:#00ff001d>having</text> <text style=background-color:#00ff000c>recently</text> <text style=background-color:#00ff0017>been</text> <text style=background-color:#00ff002d>the</text> <text style=background-color:#00ff0000>recipient</text> <text style=background-color:#00ff002c>of</text> <text style=background-color:#00ff002d>the</text> <text style=background-color:#00ff0035>intense</text> <text style=background-color:#00ff0045>fantasy</text> <text style=background-color:#00ff002c>of</text> <text style=background-color:#00ff0023>a</text> <text style=background-color:#00ff001d>lover</text> <text style=background-color:#00ff0006>non</text> <text style=background-color:#00ff0000>sexualin</text> <text style=background-color:#00ff000a>keeping</text> <text style=background-color:#00ff001f>with</text> <text style=background-color:#00ff002d>the</text> <text style=background-color:#00ff0000>mores</text> <text style=background-color:#00ff002c>of</text> <text style=background-color:#00ff002d>the</text> <text style=background-color:#00ff003a>time</text> <text style=background-color:#00ff0018>from</text> <text style=background-color:#00ff0024>years</text> <text style=background-color:#00ff0022>ago</text> <text style=background-color:#00ff001c>i</text> <text style=background-color:#00ff0000>couldrelate</text> <text style=background-color:#00ff001b>to</text> <text style=background-color:#00ff0004>margaret</text> <text style=background-color:#00ff000c>s</text> <text style=background-color:#00ff001d>and</text> <text style=background-color:#00ff0006>her</text> <text style=background-color:#00ff000c>husband</text> <text style=background-color:#00ff000c>s</text> <text style=background-color:#00ff0012>dilemma</text> <text style=background-color:#00ff001c>i</text> <text style=background-color:#00ff0018>too</text> <text style=background-color:#00ff0026>was</text> <text style=background-color:#00ff004a>cast</text> <text style=background-color:#00ff0009>aside</text> <text style=background-color:#00ff0023>because</text> <text style=background-color:#00ff001c>i</text> <text style=background-color:#00ff0000>wasn</text> <text style=background-color:#00ff000a>t</text> <text style=background-color:#00ff0027>good</text> <text style=background-color:#00ff001b>enough</text> <text style=background-color:#00ff001d>for</text> <text style=background-color:#00ff0012>his</text> <text style=background-color:#00ff0023>family</text> <text style=background-color:#00ff001d>and</text> <text style=background-color:#00ff000c>upon</text> <text style=background-color:#00ff0012>his</text> <text style=background-color:#00ff0000>rediscovery</text> <text style=background-color:#00ff002c>of</text> <text style=background-color:#00ff0016>me</text> <text style=background-color:#00ff0011>via</text> <text style=background-color:#00ff002d>the</text> <text style=background-color:#00ff0023>internet</text> <text style=background-color:#00ff001c>i</text> <text style=background-color:#00ff0026>was</text> <text style=background-color:#00ff0000>burdened</text> <text style=background-color:#00ff001f>with</text> <text style=background-color:#00ff0005>helping</text> <text style=background-color:#00ff000d>him</text> <text style=background-color:#00ff000b>deal</text> <text style=background-color:#00ff001f>with</text> <text style=background-color:#00ff0012>his</text> <text style=background-color:#00ff001a>still</text> <text style=background-color:#00ff0018>very</text> <text style=background-color:#00ff000a>horrifying</text> <text style=background-color:#00ff0004>vietnam</text> <text style=background-color:#00ff0012>experiences</text> <text style=background-color:#00ff001d>and</text> <text style=background-color:#00ff0023>a</text> <text style=background-color:#00ff000f>marriage</text> <text style=background-color:#00ff001b>to</text> <text style=background-color:#00ff0023>a</text> <text style=background-color:#00ff0014>woman</text> <text style=background-color:#00ff0004>above</text> <text style=background-color:#00ff0012>his</text> <text style=background-color:#00ff0031>class</text> <text style=background-color:#00ff0005>whom</text> <text style=background-color:#00ff001d>he</text> <text style=background-color:#00ff0000>didn</text> <text style=background-color:#00ff000a>t</text> <text style=background-color:#00ff0033>believe</text> <text style=background-color:#00ff001d>he</text> <text style=background-color:#00ff0020>loved</text> <text style=background-color:#00ff001d>my</text> <text style=background-color:#00ff000c>husband</text> <text style=background-color:#00ff0025>like</text> <text style=background-color:#00ff0004>margaret</text> <text style=background-color:#00ff000c>s</text> <text style=background-color:#00ff0026>was</text> <text style=background-color:#00ff0018>very</text> <text style=background-color:#00ff000b>understanding</text> <text style=background-color:#00ff0021>but</text> <text style=background-color:#00ff002d>the</text> <text style=background-color:#00ff0001>strain</text> <text style=background-color:#00ff0026>was</text> <text style=background-color:#00ff0018>very</text> <text style=background-color:#00ff0030>real</text> <text style=background-color:#00ff002d>the</text> <text style=background-color:#00ff001d>lover</text> <text style=background-color:#00ff0026>was</text> <text style=background-color:#00ff0019>finally</text> <text style=background-color:#00ff0011>able</text> <text style=background-color:#00ff001b>to</text> <text style=background-color:#00ff0000>reconcile</text> <text style=background-color:#00ff0012>his</text> <text style=background-color:#00ff0030>real</text> <text style=background-color:#00ff0037>life</text> <text style=background-color:#00ff0015>situation</text> <text style=background-color:#00ff001f>with</text> <text style=background-color:#00ff0012>his</text> <text style=background-color:#00ff0045>fantasy</text> <text style=background-color:#00ff002c>of</text> <text style=background-color:#00ff0018>loving</text> <text style=background-color:#00ff0019>only</text> <text style=background-color:#00ff0016>me</text> <text style=background-color:#00ff0009>br</text> <text style=background-color:#00ff0009>br</text> <text style=background-color:#00ff001c>i</text> <text style=background-color:#00ff0023>thought</text> <text style=background-color:#00ff0024>that</text> <text style=background-color:#00ff0023>it</text> <text style=background-color:#00ff0026>was</text> <text style=background-color:#00ff0023>a</text> <text style=background-color:#00ff0027>good</text> <text style=background-color:#00ff0015>decision</text> <text style=background-color:#00ff001b>to</text> <text style=background-color:#00ff004f>show</text> <text style=background-color:#00ff0018>very</text> <text style=background-color:#00ff002f>little</text> <text style=background-color:#00ff002c>of</text> <text style=background-color:#00ff002d>the</text> <text style=background-color:#00ff0004>reliving</text> <text style=background-color:#00ff002c>of</text> <text style=background-color:#00ff002d>the</text> <text style=background-color:#00ff0024>war</text> <text style=background-color:#00ff0030>experience</text> <text style=background-color:#00ff0024>that</text> <text style=background-color:#00ff0026>was</text> <text style=background-color:#00ff0025>happening</text> <text style=background-color:#00ff001c>in</text> <text style=background-color:#00ff0016>chris</text> <text style=background-color:#00ff000c>s</text> <text style=background-color:#00ff001c>mind</text> <text style=background-color:#00ff001c>i</text> <text style=background-color:#00ff0023>thought</text> <text style=background-color:#00ff002c>of</text> <text style=background-color:#00ff000e>mrs</text> <text style=background-color:#00ff0000>dalloway</text> <text style=background-color:#00ff001f>with</text> <text style=background-color:#00ff002d>the</text> <text style=background-color:#00ff0003>wwi</text> <text style=background-color:#00ff0011>soldier</text> <text style=background-color:#00ff0013>who</text> <text style=background-color:#00ff0017>acts</text> <text style=background-color:#00ff001b>out</text> <text style=background-color:#00ff0018>very</text> <text style=background-color:#00ff0013>violent</text> <text style=background-color:#00ff003e>memories</text> <text style=background-color:#00ff001d>and</text> <text style=background-color:#00ff0000>commits</text> <text style=background-color:#00ff0018>suicide</text> <text style=background-color:#00ff000d>versus</text> <text style=background-color:#00ff0016>chris</text> <text style=background-color:#00ff000c>s</text> <text style=background-color:#00ff0020>joy</text> <text style=background-color:#00ff001c>in</text> <text style=background-color:#00ff0012>his</text> <text style=background-color:#00ff0045>fantasy</text> <text style=background-color:#00ff002c>of</text> <text style=background-color:#00ff0004>margaret</text> <text style=background-color:#00ff001c>in</text> <text style=background-color:#00ff0003>contrast</text> <text style=background-color:#00ff002d>the</text> <text style=background-color:#00ff0000>actiona</text> <text style=background-color:#00ff002c>of</text> <text style=background-color:#00ff002d>the</text> <text style=background-color:#00ff0011>soldier</text> <text style=background-color:#00ff001c>in</text> <text style=background-color:#00ff000e>mrs</text> <text style=background-color:#00ff0000>dalloway</text> <text style=background-color:#00ff0019>seems</text> <text style=background-color:#00ff0000>overwrought</text> <text style=background-color:#00ff0009>br</text> <text style=background-color:#00ff0009>br</text> <text style=background-color:#00ff0018>showing</text> <text style=background-color:#00ff0024>that</text> <text style=background-color:#00ff002d>the</text> <text style=background-color:#00ff0000>psychiatrist</text> <text style=background-color:#00ff000f>understood</text> <text style=background-color:#00ff0018>very</text> <text style=background-color:#00ff002f>little</text> <text style=background-color:#00ff002c>of</text> <text style=background-color:#00ff002d>what</text> <text style=background-color:#00ff0026>was</text> <text style=background-color:#00ff0025>happening</text> <text style=background-color:#00ff001b>to</text> <text style=background-color:#00ff0016>chris</text> <text style=background-color:#00ff0000>underlines</text> <text style=background-color:#00ff002d>what</text> <text style=background-color:#00ff0023>a</text> <text style=background-color:#00ff0029>major</text> <text style=background-color:#00ff0020>problem</text> <text style=background-color:#00ff002d>the</text> <text style=background-color:#00ff002c>whole</text> <text style=background-color:#00ff001e>group</text> <text style=background-color:#00ff0006>faced</text> <text style=background-color:#00ff000c>everyone</text> <text style=background-color:#00ff0019>seems</text> <text style=background-color:#00ff001b>to</text> <text style=background-color:#00ff0013>get</text> <text style=background-color:#00ff0014>their</text> <text style=background-color:#00ff0037>life</text> <text style=background-color:#00ff0007>back</text> <text style=background-color:#00ff0021>but</text> <text style=background-color:#00ff0026>was</text> <text style=background-color:#00ff0023>it</text> <text style=background-color:#00ff002d>the</text> <text style=background-color:#00ff0020>right</text> <text style=background-color:#00ff001d>choice</text> <br> <text style=background-color:#00ff00ff>horror</text> <text style=background-color:#00ff0061>movies</text> <text style=background-color:#00ff0010>can</text> <text style=background-color:#00ff0014>be</text> <text style=background-color:#00ff0021>a</text> <text style=background-color:#00ff0016>lot</text> <text style=background-color:#00ff002a>of</text> <text style=background-color:#00ff0034>fun</text> <text style=background-color:#00ff001e>with</text> <text style=background-color:#00ff0008>low</text> <text style=background-color:#00ff0000>budgets</text> <text style=background-color:#00ff0038>bad</text> <text style=background-color:#00ff001d>acting</text> <text style=background-color:#00ff001b>and</text> <text style=background-color:#00ff0021>a</text> <text style=background-color:#00ff0019>bit</text> <text style=background-color:#00ff002a>of</text> <text style=background-color:#00ff0000>panache</text> <text style=background-color:#00ff001a>i</text> <text style=background-color:#00ff001e>think</text> <text style=background-color:#00ff002b>the</text> <text style=background-color:#00ff004c>film</text> <text style=background-color:#00ff002c>is</text> <text style=background-color:#00ff001e>just</text> <text style=background-color:#00ff0011>missing</text> <text style=background-color:#00ff0000>panache</text> <text style=background-color:#00ff0021>because</text> <text style=background-color:#00ff0030>one</text> <text style=background-color:#00ff0000>thuddingly</text> <text style=background-color:#00ff000d>dull</text> <text style=background-color:#00ff0058>scene</text> <text style=background-color:#00ff001d>after</text> <text style=background-color:#00ff001f>another</text> <text style=background-color:#00ff0016>people</text> <text style=background-color:#00ff001d>make</text> <text style=background-color:#00ff0000>laughably</text> <text style=background-color:#00ff0001>harmless</text> <text style=background-color:#00ff0001>claw</text> <text style=background-color:#00ff0002>handed</text> <text style=background-color:#00ff0000>grabs</text> <text style=background-color:#00ff0016>at</text> <text style=background-color:#00ff002b>the</text> <text style=background-color:#00ff0007>air</text> <text style=background-color:#00ff0012>if</text> <text style=background-color:#00ff0021>it</text> <text style=background-color:#00ff0000>weren</text> <text style=background-color:#00ff0009>t</text> <text style=background-color:#00ff0022>so</text> <text style=background-color:#00ff002e>boring</text> <text style=background-color:#00ff0021>it</text> <text style=background-color:#00ff0013>might</text> <text style=background-color:#00ff0014>be</text> <text style=background-color:#00ff0028>funny</text> <text style=background-color:#00ff0008>br</text> <text style=background-color:#00ff0008>br</text> <text style=background-color:#00ff0021>a</text> <text style=background-color:#00ff00ff>horror</text> <text style=background-color:#00ff004c>film</text> <text style=background-color:#00ff0010>can</text> <text style=background-color:#00ff0012>go</text> <text style=background-color:#00ff0021>a</text> <text style=background-color:#00ff001e>long</text> <text style=background-color:#00ff0023>way</text> <text style=background-color:#00ff001e>with</text> <text style=background-color:#00ff0021>a</text> <text style=background-color:#00ff000f>tired</text> <text style=background-color:#00ff001a>concept</text> <text style=background-color:#00ff0023>like</text> <text style=background-color:#00ff001c>college</text> <text style=background-color:#00ff0026>kids</text> <text style=background-color:#00ff001b>in</text> <text style=background-color:#00ff0021>a</text> <text style=background-color:#00ff0021>haunted</text> <text style=background-color:#00ff001d>house</text> <text style=background-color:#00ff001b>in</text> <text style=background-color:#00ff001a>much</text> <text style=background-color:#00ff002b>the</text> <text style=background-color:#00ff0027>same</text> <text style=background-color:#00ff0023>way</text> <text style=background-color:#00ff002b>the</text> <text style=background-color:#00ff005a>evil</text> <text style=background-color:#00ff003d>dead</text> <text style=background-color:#00ff0061>movies</text> <text style=background-color:#00ff001e>had</text> <text style=background-color:#00ff0021>a</text> <text style=background-color:#00ff0016>lot</text> <text style=background-color:#00ff002a>of</text> <text style=background-color:#00ff0034>fun</text> <text style=background-color:#00ff001e>with</text> <text style=background-color:#00ff0021>a</text> <text style=background-color:#00ff0021>similar</text> <text style=background-color:#00ff000c>standard</text> <text style=background-color:#00ff0000>plotline</text> <text style=background-color:#00ff0003>hallow</text> <text style=background-color:#00ff000b>s</text> <text style=background-color:#00ff0024>end</text> <text style=background-color:#00ff000e>unfortunately</text> <text style=background-color:#00ff0000>doesn</text> <text style=background-color:#00ff0009>t</text> <text style=background-color:#00ff0012>go</text> <text style=background-color:#00ff0021>a</text> <text style=background-color:#00ff001e>long</text> <text style=background-color:#00ff0023>way</text> <text style=background-color:#00ff002d>actually</text> <text style=background-color:#00ff0021>it</text> <text style=background-color:#00ff0000>doesn</text> <text style=background-color:#00ff0009>t</text> <text style=background-color:#00ff0012>go</text> <text style=background-color:#00ff0008>anywhere</text> <text style=background-color:#00ff0021>it</text> <text style=background-color:#00ff0002>spends</text> <text style=background-color:#00ff002b>the</text> <text style=background-color:#00ff001d>better</text> <text style=background-color:#00ff0041>part</text> <text style=background-color:#00ff002a>of</text> <text style=background-color:#00ff001c>an</text> <text style=background-color:#00ff001f>hour</text> <text style=background-color:#00ff000e>setting</text> <text style=background-color:#00ff0017>up</text> <text style=background-color:#00ff0000>faceless</text> <text style=background-color:#00ff001b>and</text> <text style=background-color:#00ff000a>anonymous</text> <text style=background-color:#00ff003e>characters</text> <text style=background-color:#00ff001e>with</text> <text style=background-color:#00ff002b>what</text> <text style=background-color:#00ff000b>seem</text> <text style=background-color:#00ff0023>like</text> <text style=background-color:#00ff0010>endless</text> <text style=background-color:#00ff0001>interpersonal</text> <text style=background-color:#00ff0095>drama</text> <text style=background-color:#00ff001a>i</text> <text style=background-color:#00ff001d>have</text> <text style=background-color:#00ff0024>nothing</text> <text style=background-color:#00ff0008>against</text> <text style=background-color:#00ff004d>character</text> <text style=background-color:#00ff000d>development</text> <text style=background-color:#00ff001c>not</text> <text style=background-color:#00ff0021>even</text> <text style=background-color:#00ff001b>in</text> <text style=background-color:#00ff0021>a</text> <text style=background-color:#00ff00ff>horror</text> <text style=background-color:#00ff0089>movie</text> <text style=background-color:#00ff001f>but</text> <text style=background-color:#00ff0014>these</text> <text style=background-color:#00ff001a>are</text> <text style=background-color:#00ff000a>strictly</text> <text style=background-color:#00ff0030>one</text> <text style=background-color:#00ff0001>dimensional</text> <text style=background-color:#00ff003e>characters</text> <text style=background-color:#00ff002b>the</text> <text style=background-color:#00ff000b>alpha</text> <text style=background-color:#00ff0017>male</text> <text style=background-color:#00ff002b>the</text> <text style=background-color:#00ff0000>milquetoast</text> <text style=background-color:#00ff002b>the</text> <text style=background-color:#00ff0009>um</text> <text style=background-color:#00ff0000>throwaway</text> <text style=background-color:#00ff003e>characters</text> <text style=background-color:#00ff0022>that</text> <text style=background-color:#00ff0019>exist</text> <text style=background-color:#00ff000d>mostly</text> <text style=background-color:#00ff001b>for</text> <text style=background-color:#00ff0028>sex</text> <text style=background-color:#00ff0042>scenes</text> <text style=background-color:#00ff0004>spending</text> <text style=background-color:#00ff0000>forty</text> <text style=background-color:#00ff0006>plus</text> <text style=background-color:#00ff0000>bloodless</text> <text style=background-color:#00ff0000>droning</text> <text style=background-color:#00ff000f>minutes</text> <text style=background-color:#00ff001e>with</text> <text style=background-color:#00ff000c>them</text> <text style=background-color:#00ff0024>was</text> <text style=background-color:#00ff0015>more</text> <text style=background-color:#00ff000d>horrific</text> <text style=background-color:#00ff0021>than</text> <text style=background-color:#00ff001d>when</text> <text style=background-color:#00ff002b>the</text> <text style=background-color:#00ff0000>bloodshed</text> <text style=background-color:#00ff001f>started</text> <text style=background-color:#00ff0008>br</text> <text style=background-color:#00ff0008>br</text> <text style=background-color:#00ff0019>well</text> <text style=background-color:#00ff0000>implied</text> <text style=background-color:#00ff0000>bloodshed</text> <text style=background-color:#00ff0016>anyway</text> <text style=background-color:#00ff001d>when</text> <text style=background-color:#00ff002b>the</text> <text style=background-color:#00ff001c>college</text> <text style=background-color:#00ff0026>kids</text> <text style=background-color:#00ff001a>turn</text> <text style=background-color:#00ff0019>into</text> <text style=background-color:#00ff001c>whatever</text> <text style=background-color:#00ff0015>they</text> <text style=background-color:#00ff000a>dressed</text> <text style=background-color:#00ff001b>as</text> <text style=background-color:#00ff001b>for</text> <text style=background-color:#00ff0012>their</text> <text style=background-color:#00ff0021>haunted</text> <text style=background-color:#00ff001d>house</text> <text style=background-color:#00ff0030>one</text> <text style=background-color:#00ff000b>s</text> <text style=background-color:#00ff0021>a</text> <text style=background-color:#00ff0075>vampire</text> <text style=background-color:#00ff0030>one</text> <text style=background-color:#00ff000b>s</text> <text style=background-color:#00ff0007>wearing</text> <text style=background-color:#00ff000b>o</text> <text style=background-color:#00ff0006>r</text> <text style=background-color:#00ff0019>scrubs</text> <text style=background-color:#00ff001b>and</text> <text style=background-color:#00ff001d>some</text> <text style=background-color:#00ff0012>white</text> <text style=background-color:#00ff0009>pancake</text> <text style=background-color:#00ff0015>they</text> <text style=background-color:#00ff001c>look</text> <text style=background-color:#00ff001d>pretty</text> <text style=background-color:#00ff001a>much</text> <text style=background-color:#00ff002b>the</text> <text style=background-color:#00ff0023>way</text> <text style=background-color:#00ff0015>they</text> <text style=background-color:#00ff001a>did</text> <text style=background-color:#00ff001b>in</text> <text style=background-color:#00ff0012>their</text> <text style=background-color:#00ff000a>amateur</text> <text style=background-color:#00ff0021>haunted</text> <text style=background-color:#00ff001d>house</text> <text style=background-color:#00ff000b>costumes</text> <text style=background-color:#00ff002b>the</text> <text style=background-color:#00ff003d>dead</text> <text style=background-color:#00ff001e>hate</text> <text style=background-color:#00ff002b>the</text> <text style=background-color:#00ff001d>living</text> <text style=background-color:#00ff000d>using</text> <text style=background-color:#00ff0021>a</text> <text style=background-color:#00ff0021>similar</text> <text style=background-color:#00ff0054>theme</text> <text style=background-color:#00ff002c>is</text> <text style=background-color:#00ff0021>a</text> <text style=background-color:#00ff0000>masterwork</text> <text style=background-color:#00ff001b>in</text> <text style=background-color:#00ff0009>comparison</text> <text style=background-color:#00ff0022>there</text> <text style=background-color:#00ff0000>isn</text> <text style=background-color:#00ff0009>t</text> <text style=background-color:#00ff0020>really</text> <text style=background-color:#00ff001d>any</text> <text style=background-color:#00ff0001>gore</text> <text style=background-color:#00ff0019>to</text> <text style=background-color:#00ff0020>speak</text> <text style=background-color:#00ff002a>of</text> <text style=background-color:#00ff0009>nor</text> <text style=background-color:#00ff001a>are</text> <text style=background-color:#00ff0022>there</text> <text style=background-color:#00ff001d>any</text> <text style=background-color:#00ff002e>real</text> <text style=background-color:#00ff000d>scares</text> <text style=background-color:#00ff0008>br</text> <text style=background-color:#00ff0008>br</text> <text style=background-color:#00ff001a>i</text> <text style=background-color:#00ff0000>ve</text> <text style=background-color:#00ff0021>thought</text> <text style=background-color:#00ff0027>about</text> <text style=background-color:#00ff002a>this</text> <text style=background-color:#00ff0030>one</text> <text style=background-color:#00ff0017>from</text> <text style=background-color:#00ff0016>almost</text> <text style=background-color:#00ff0025>every</text> <text style=background-color:#00ff000a>approach</text> <text style=background-color:#00ff0012>if</text> <text style=background-color:#00ff0021>it</text> <text style=background-color:#00ff0024>was</text> <text style=background-color:#00ff0015>supposed</text> <text style=background-color:#00ff0019>to</text> <text style=background-color:#00ff0014>be</text> <text style=background-color:#00ff0021>a</text> <text style=background-color:#00ff0002>tight</text> <text style=background-color:#00ff000a>suspenseful</text> <text style=background-color:#00ff00ff>horror</text> <text style=background-color:#00ff0089>movie</text> <text style=background-color:#00ff0021>which</text> <text style=background-color:#00ff0013>would</text> <text style=background-color:#00ff001f>explain</text> <text style=background-color:#00ff001f>why</text> <text style=background-color:#00ff002a>things</text> <text style=background-color:#00ff0007>moved</text> <text style=background-color:#00ff0022>so</text> <text style=background-color:#00ff0003>slowly</text> <text style=background-color:#00ff002b>the</text> <text style=background-color:#00ff000f>pathetic</text> <text style=background-color:#00ff0028>sex</text> <text style=background-color:#00ff0042>scenes</text> <text style=background-color:#00ff001b>and</text> <text style=background-color:#00ff0004>cheap</text> <text style=background-color:#00ff0031>monsters</text> <text style=background-color:#00ff0013>would</text> <text style=background-color:#00ff0000>invalidate</text> <text style=background-color:#00ff0021>it</text> <text style=background-color:#00ff0012>if</text> <text style=background-color:#00ff0021>it</text> <text style=background-color:#00ff0024>was</text> <text style=background-color:#00ff0015>supposed</text> <text style=background-color:#00ff0019>to</text> <text style=background-color:#00ff0014>be</text> <text style=background-color:#00ff0021>a</text> <text style=background-color:#00ff0001>genuine</text> <text style=background-color:#00ff001c>blood</text> <text style=background-color:#00ff0006>guts</text> <text style=background-color:#00ff00ff>horror</text> <text style=background-color:#00ff0089>movie</text> <text style=background-color:#00ff0021>which</text> <text style=background-color:#00ff0013>would</text> <text style=background-color:#00ff001f>explain</text> <text style=background-color:#00ff002b>the</text> <text style=background-color:#00ff0000>schlock</text> <text style=background-color:#00ff001c>where</text> <text style=background-color:#00ff000b>s</text> <text style=background-color:#00ff002b>the</text> <text style=background-color:#00ff001c>blood</text> <text style=background-color:#00ff001b>and</text> <text style=background-color:#00ff0006>guts</text> <text style=background-color:#00ff001b>and</text> <text style=background-color:#00ff002b>the</text> <text style=background-color:#00ff0000>anticlimax</text> <text style=background-color:#00ff002c>is</text> <text style=background-color:#00ff0030>one</text> <text style=background-color:#00ff002a>of</text> <text style=background-color:#00ff002b>the</text> <text style=background-color:#00ff0001>unexciting</text> <text style=background-color:#00ff001e>endings</text> <text style=background-color:#00ff0019>to</text> <text style=background-color:#00ff0021>a</text> <text style=background-color:#00ff0089>movie</text> <text style=background-color:#00ff001a>i</text> <text style=background-color:#00ff0000>ve</text> <text style=background-color:#00ff003c>ever</text> <text style=background-color:#00ff0022>seen</text> <text style=background-color:#00ff0021>it</text> <text style=background-color:#00ff000b>s</text> <text style=background-color:#00ff002b>the</text> <text style=background-color:#00ff002c>kind</text> <text style=background-color:#00ff002a>of</text> <text style=background-color:#00ff0089>movie</text> <text style=background-color:#00ff0022>that</text> <text style=background-color:#00ff001f>though</text> <text style=background-color:#00ff0021>it</text> <text style=background-color:#00ff0000>doesn</text> <text style=background-color:#00ff0009>t</text> <text style=background-color:#00ff001d>have</text> <text style=background-color:#00ff0021>a</text> <text style=background-color:#00ff0009>narrator</text> <text style=background-color:#00ff0014>through</text> <text style=background-color:#00ff002b>the</text> <text style=background-color:#00ff004c>film</text> <text style=background-color:#00ff002c>is</text> <text style=background-color:#00ff0000>bookended</text> <text style=background-color:#00ff0019>by</text> <text style=background-color:#00ff003f>voice</text> <text style=background-color:#00ff0000>overs</text> <text style=background-color:#00ff0021>because</text> <text style=background-color:#00ff001b>all</text> <text style=background-color:#00ff002a>of</text> <text style=background-color:#00ff002b>the</text> <text style=background-color:#00ff000c>meaningless</text> <text style=background-color:#00ff0011>dialogue</text> <text style=background-color:#00ff001e>just</text> <text style=background-color:#00ff0000>wasn</text> <text style=background-color:#00ff0009>t</text> <text style=background-color:#00ff0019>enough</text> <text style=background-color:#00ff0008>br</text> <text style=background-color:#00ff0008>br</text> <text style=background-color:#00ff002a>this</text> <text style=background-color:#00ff0024>was</text> <text style=background-color:#00ff0021>a</text> <text style=background-color:#00ff0024>hard</text> <text style=background-color:#00ff0030>one</text> <text style=background-color:#00ff0018>coming</text> <text style=background-color:#00ff0019>out</text> <text style=background-color:#00ff002a>of</text> <text style=background-color:#00ff0021>it</text> <text style=background-color:#00ff001a>i</text> <text style=background-color:#00ff0022>wonder</text> <text style=background-color:#00ff0012>if</text> <text style=background-color:#00ff001a>i</text> <text style=background-color:#00ff0000>ve</text> <text style=background-color:#00ff001e>just</text> <text style=background-color:#00ff0010>sat</text> <text style=background-color:#00ff0014>through</text> <text style=background-color:#00ff0021>a</text> <text style=background-color:#00ff001e>christian</text> <text style=background-color:#00ff00ff>horror</text> <text style=background-color:#00ff004c>film</text> <text style=background-color:#00ff0027>maybe</text> <text style=background-color:#00ff002b>the</text> <text style=background-color:#00ff001a>i</text> <text style=background-color:#00ff001e>know</text> <text style=background-color:#00ff0022>hell</text> <text style=background-color:#00ff0011>exists</text> <text style=background-color:#00ff002a>of</text> <text style=background-color:#00ff002b>the</text> <text style=background-color:#00ff002c>opening</text> <text style=background-color:#00ff0000>wasn</text> <text style=background-color:#00ff0009>t</text> <text style=background-color:#00ff0017>meant</text> <text style=background-color:#00ff0022>that</text> <text style=background-color:#00ff0023>way</text> <text style=background-color:#00ff001f>but</text> <text style=background-color:#00ff0022>there</text> <text style=background-color:#00ff001a>are</text> <text style=background-color:#00ff001d>some</text> <text style=background-color:#00ff0001>hints</text> <text style=background-color:#00ff001c>or</text> <text style=background-color:#00ff0000>misdirection</text> <text style=background-color:#00ff001a>i</text> <text style=background-color:#00ff0009>m</text> <text style=background-color:#00ff001c>not</text> <text style=background-color:#00ff0019>sure</text> <text style=background-color:#00ff0021>which</text> <text style=background-color:#00ff001b>for</text> <text style=background-color:#00ff001b>all</text> <text style=background-color:#00ff002b>the</text> <text style=background-color:#00ff0003>profanity</text> <text style=background-color:#00ff001b>in</text> <text style=background-color:#00ff002b>the</text> <text style=background-color:#00ff004c>film</text> <text style=background-color:#00ff0021>a</text> <text style=background-color:#00ff0016>line</text> <text style=background-color:#00ff0023>like</text> <text style=background-color:#00ff001e>gosh</text> <text style=background-color:#00ff0000>darnit</text> <text style=background-color:#00ff002d>comes</text> <text style=background-color:#00ff000e>off</text> <text style=background-color:#00ff0021>a</text> <text style=background-color:#00ff002d>little</text> <text style=background-color:#00ff001c>absurd</text> <text style=background-color:#00ff001b>and</text> <text style=background-color:#00ff0022>so</text> <text style=background-color:#00ff001a>does</text> <text style=background-color:#00ff001e>most</text> <text style=background-color:#00ff002a>of</text> <text style=background-color:#00ff002b>the</text> <text style=background-color:#00ff0000>crucifix</text> <text style=background-color:#00ff0000>worshipping</text> <text style=background-color:#00ff0023>god</text> <text style=background-color:#00ff0001>fearing</text> <text style=background-color:#00ff001b>and</text> <text style=background-color:#00ff0007>satan</text> <text style=background-color:#00ff0007>dreading</text> <text style=background-color:#00ff001b>especially</text> <text style=background-color:#00ff001d>after</text> <text style=background-color:#00ff001d>some</text> <text style=background-color:#00ff0000>lecherous</text> <text style=background-color:#00ff0009>t</text> <text style=background-color:#00ff0021>a</text> <text style=background-color:#00ff0028>sex</text> <text style=background-color:#00ff0042>scenes</text> <text style=background-color:#00ff0030>one</text> <text style=background-color:#00ff0006>heterosexual</text> <text style=background-color:#00ff0030>one</text> <text style=background-color:#00ff000e>lesbian</text> <text style=background-color:#00ff0008>br</text> <text style=background-color:#00ff0008>br</text> <text style=background-color:#00ff0012>if</text> <text style=background-color:#00ff0021>it</text> <text style=background-color:#00ff0021>a</text> <text style=background-color:#00ff001e>christian</text> <text style=background-color:#00ff0008>company</text> <text style=background-color:#00ff0004>highland</text> <text style=background-color:#00ff0000>myst</text> <text style=background-color:#00ff000b>s</text> <text style=background-color:#00ff0010>logo</text> <text style=background-color:#00ff0021>even</text> <text style=background-color:#00ff001c>has</text> <text style=background-color:#00ff0021>a</text> <text style=background-color:#00ff0019>bit</text> <text style=background-color:#00ff002a>of</text> <text style=background-color:#00ff0021>a</text> <text style=background-color:#00ff0000>crucifix</text> <text style=background-color:#00ff0004>resemblance</text> <text style=background-color:#00ff0018>then</text> <text style=background-color:#00ff002a>this</text> <text style=background-color:#00ff004c>film</text> <text style=background-color:#00ff0000>weighs</text> <text style=background-color:#00ff001b>in</text> <text style=background-color:#00ff0000>heavily</text> <text style=background-color:#00ff001b>for</text> <text style=background-color:#00ff002b>the</text> <text style=background-color:#00ff000a>atheist</text> <text style=background-color:#00ff002e>camp</text> <text style=background-color:#00ff001c>an</text> <text style=background-color:#00ff0000>omnipotent</text> <text style=background-color:#00ff0014>being</text> <text style=background-color:#00ff0010>can</text> <text style=background-color:#00ff0009>t</text> <text style=background-color:#00ff0014>be</text> <text style=background-color:#00ff002a>this</text> <text style=background-color:#00ff0038>bad</text> <text style=background-color:#00ff0021>a</text> <text style=background-color:#00ff0004>filmmaker</text> <text style=background-color:#00ff0008>br</text> <text style=background-color:#00ff0008>br</text> <br> <text style=background-color:#00ff0013>dracula</text> <text style=background-color:#00ff0034>is</text> <text style=background-color:#00ff0029>a</text> <text style=background-color:#00ff00ff>horror</text> <text style=background-color:#00ff0056>film</text> <text style=background-color:#00ff002a>that</text> <text style=background-color:#00ff002c>was</text> <text style=background-color:#00ff0001>continually</text> <text style=background-color:#00ff0014>shown</text> <text style=background-color:#00ff001f>on</text> <text style=background-color:#00ff0024>sky</text> <text style=background-color:#00ff006a>movies</text> <text style=background-color:#00ff0022>in</text> <text style=background-color:#00ff000b>britain</text> <text style=background-color:#00ff0022>and</text> <text style=background-color:#00ff0012>considering</text> <text style=background-color:#00ff0029>it</text> <text style=background-color:#00ff000d>seemed</text> <text style=background-color:#00ff0020>to</text> <text style=background-color:#00ff001a>be</text> <text style=background-color:#00ff0000>screened</text> <text style=background-color:#00ff002f>about</text> <text style=background-color:#00ff0019>three</text> <text style=background-color:#00ff002c>times</text> <text style=background-color:#00ff0029>a</text> <text style=background-color:#00ff002d>week</text> <text style=background-color:#00ff0022>for</text> <text style=background-color:#00ff0029>a</text> <text style=background-color:#00ff0032>whole</text> <text style=background-color:#00ff0028>year</text> <text style=background-color:#00ff0021>i</text> <text style=background-color:#00ff0025>have</text> <text style=background-color:#00ff0021>absolutely</text> <text style=background-color:#00ff0026>no</text> <text style=background-color:#00ff0043>idea</text> <text style=background-color:#00ff0024>how</text> <text style=background-color:#00ff0021>i</text> <text style=background-color:#00ff0008>managed</text> <text style=background-color:#00ff0020>to</text> <text style=background-color:#00ff0029>miss</text> <text style=background-color:#00ff0029>it</text> <text style=background-color:#00ff001e>until</text> <text style=background-color:#00ff0029>it</text> <text style=background-color:#00ff0010>s</text> <text style=background-color:#00ff0034>first</text> <text style=background-color:#00ff0023>broadcast</text> <text style=background-color:#00ff001f>on</text> <text style=background-color:#00ff001c>network</text> <text style=background-color:#00ff0061>television</text> <text style=background-color:#00ff0025>tonight</text> <text style=background-color:#00ff0036>actually</text> <text style=background-color:#00ff0022>seeing</text> <text style=background-color:#00ff0022>as</text> <text style=background-color:#00ff0021>i</text> <text style=background-color:#00ff000e>m</text> <text style=background-color:#00ff0024>not</text> <text style=background-color:#00ff0021>much</text> <text style=background-color:#00ff0033>of</text> <text style=background-color:#00ff0029>a</text> <text style=background-color:#00ff0036>fan</text> <text style=background-color:#00ff0033>of</text> <text style=background-color:#00ff00ff>horror</text> <text style=background-color:#00ff006a>movies</text> <text style=background-color:#00ff0034>the</text> <text style=background-color:#00ff0026>reason</text> <text style=background-color:#00ff002c>was</text> <text style=background-color:#00ff0023>probably</text> <text style=background-color:#00ff0018>down</text> <text style=background-color:#00ff0020>to</text> <text style=background-color:#00ff0023>my</text> <text style=background-color:#00ff0072>theory</text> <text style=background-color:#00ff002a>that</text> <text style=background-color:#00ff0032>this</text> <text style=background-color:#00ff002c>was</text> <text style=background-color:#00ff001e>going</text> <text style=background-color:#00ff0020>to</text> <text style=background-color:#00ff001a>be</text> <text style=background-color:#00ff0002>tripe</text> <text style=background-color:#00ff0023>my</text> <text style=background-color:#00ff0072>theory</text> <text style=background-color:#00ff002c>was</text> <text style=background-color:#00ff000c>proved</text> <text style=background-color:#00ff0026>right</text> <text style=background-color:#00ff0022>for</text> <text style=background-color:#00ff0034>the</text> <text style=background-color:#00ff0026>most</text> <text style=background-color:#00ff004b>part</text> <text style=background-color:#00ff000c>br</text> <text style=background-color:#00ff000c>br</text> <text style=background-color:#00ff001b>minor</text> <text style=background-color:#00ff003d>spoilers</text> <text style=background-color:#00ff000c>br</text> <text style=background-color:#00ff000c>br</text> <text style=background-color:#00ff0033>what</text> <text style=background-color:#00ff002f>makes</text> <text style=background-color:#00ff0013>dracula</text> <text style=background-color:#00ff003a>such</text> <text style=background-color:#00ff0029>a</text> <text style=background-color:#00ff0041>bad</text> <text style=background-color:#00ff0091>movie</text> <text style=background-color:#00ff0034>is</text> <text style=background-color:#00ff0034>the</text> <text style=background-color:#00ff0013>amount</text> <text style=background-color:#00ff0033>of</text> <text style=background-color:#00ff0015>dumb</text> <text style=background-color:#00ff0001>scripting</text> <text style=background-color:#00ff0015>involved</text> <text style=background-color:#00ff0022>for</text> <text style=background-color:#00ff0027>example</text> <text style=background-color:#00ff001c>early</text> <text style=background-color:#00ff0022>in</text> <text style=background-color:#00ff0034>the</text> <text style=background-color:#00ff0056>film</text> <text style=background-color:#00ff0034>the</text> <text style=background-color:#00ff0041>bad</text> <text style=background-color:#00ff0020>guys</text> <text style=background-color:#00ff0021>are</text> <text style=background-color:#00ff0013>flying</text> <text style=background-color:#00ff0013>dracula</text> <text style=background-color:#00ff0010>s</text> <text style=background-color:#00ff0003>coffin</text> <text style=background-color:#00ff001d>from</text> <text style=background-color:#00ff0018>london</text> <text style=background-color:#00ff0020>to</text> <text style=background-color:#00ff002a>america</text> <text style=background-color:#00ff0022>in</text> <text style=background-color:#00ff0029>a</text> <text style=background-color:#00ff0014>twin</text> <text style=background-color:#00ff0005>engine</text> <text style=background-color:#00ff0003>turbo</text> <text style=background-color:#00ff0006>prop</text> <text style=background-color:#00ff000c>plane</text> <text style=background-color:#00ff0022>and</text> <text style=background-color:#00ff0038>one</text> <text style=background-color:#00ff0033>of</text> <text style=background-color:#00ff0034>the</text> <text style=background-color:#00ff0041>bad</text> <text style=background-color:#00ff0020>guys</text> <text style=background-color:#00ff0034>is</text> <text style=background-color:#00ff0012>left</text> <text style=background-color:#00ff0038>alone</text> <text style=background-color:#00ff0022>in</text> <text style=background-color:#00ff0034>the</text> <text style=background-color:#00ff0006>cargo</text> <text style=background-color:#00ff000e>hold</text> <text style=background-color:#00ff0024>where</text> <text style=background-color:#00ff0013>dracula</text> <text style=background-color:#00ff0036>comes</text> <text style=background-color:#00ff0020>to</text> <text style=background-color:#00ff003e>life</text> <text style=background-color:#00ff0029>a</text> <text style=background-color:#00ff0024>fight</text> <text style=background-color:#00ff0013>breaks</text> <text style=background-color:#00ff0020>out</text> <text style=background-color:#00ff002a>there</text> <text style=background-color:#00ff0010>s</text> <text style=background-color:#00ff000c>lots</text> <text style=background-color:#00ff0033>of</text> <text style=background-color:#00ff0029>noise</text> <text style=background-color:#00ff0027>but</text> <text style=background-color:#00ff0034>the</text> <text style=background-color:#00ff0041>bad</text> <text style=background-color:#00ff0020>guys</text> <text style=background-color:#00ff0022>in</text> <text style=background-color:#00ff0034>the</text> <text style=background-color:#00ff0002>cockpit</text> <text style=background-color:#00ff0018>don</text> <text style=background-color:#00ff000d>t</text> <text style=background-color:#00ff002d>hear</text> <text style=background-color:#00ff0029>a</text> <text style=background-color:#00ff0051>sound</text> <text style=background-color:#00ff001e>until</text> <text style=background-color:#00ff0034>the</text> <text style=background-color:#00ff0046>script</text> <text style=background-color:#00ff0002>demands</text> <text style=background-color:#00ff0029>it</text> <text style=background-color:#00ff0029>it</text> <text style=background-color:#00ff001f>also</text> <text style=background-color:#00ff000d>appears</text> <text style=background-color:#00ff0022>in</text> <text style=background-color:#00ff0032>this</text> <text style=background-color:#00ff001f>segment</text> <text style=background-color:#00ff0010>s</text> <text style=background-color:#00ff0022>climax</text> <text style=background-color:#00ff002a>that</text> <text style=background-color:#00ff0013>dracula</text> <text style=background-color:#00ff0015>can</text> <text style=background-color:#00ff001a>control</text> <text style=background-color:#00ff0034>the</text> <text style=background-color:#00ff0011>weather</text> <text style=background-color:#00ff0027>but</text> <text style=background-color:#00ff0032>this</text> <text style=background-color:#00ff001e>seems</text> <text style=background-color:#00ff0016>forgotten</text> <text style=background-color:#00ff002f>about</text> <text style=background-color:#00ff0022>as</text> <text style=background-color:#00ff0034>the</text> <text style=background-color:#00ff0056>film</text> <text style=background-color:#00ff0001>progresses</text> <text style=background-color:#00ff0003>sloppy</text> <text style=background-color:#00ff0001>scripting</text> <text style=background-color:#00ff0022>and</text> <text style=background-color:#00ff002a>there</text> <text style=background-color:#00ff001f>also</text> <text style=background-color:#00ff001e>seems</text> <text style=background-color:#00ff0020>to</text> <text style=background-color:#00ff001a>be</text> <text style=background-color:#00ff0029>a</text> <text style=background-color:#00ff0025>problem</text> <text style=background-color:#00ff0025>with</text> <text style=background-color:#00ff0034>the</text> <text style=background-color:#00ff000d>structure</text> <text style=background-color:#00ff0024>where</text> <text style=background-color:#00ff002a>there</text> <text style=background-color:#00ff0010>s</text> <text style=background-color:#00ff0004>numerous</text> <text style=background-color:#00ff004b>scenes</text> <text style=background-color:#00ff0033>of</text> <text style=background-color:#00ff0047>characters</text> <text style=background-color:#00ff001a>being</text> <text style=background-color:#00ff001d>at</text> <text style=background-color:#00ff0034>the</text> <text style=background-color:#00ff002a>new</text> <text style=background-color:#00ff000b>orleans</text> <text style=background-color:#00ff0006>mardi</text> <text style=background-color:#00ff0007>gras</text> <text style=background-color:#00ff001f>then</text> <text style=background-color:#00ff0034>the</text> <text style=background-color:#00ff0047>characters</text> <text style=background-color:#00ff001a>being</text> <text style=background-color:#00ff001d>at</text> <text style=background-color:#00ff0029>a</text> <text style=background-color:#00ff0024>different</text> <text style=background-color:#00ff0009>location</text> <text style=background-color:#00ff003a>such</text> <text style=background-color:#00ff0022>as</text> <text style=background-color:#00ff000a>police</text> <text style=background-color:#00ff001c>station</text> <text style=background-color:#00ff0022>in</text> <text style=background-color:#00ff0034>the</text> <text style=background-color:#00ff0008>following</text> <text style=background-color:#00ff0061>scene</text> <text style=background-color:#00ff001f>then</text> <text style=background-color:#00ff001b>they</text> <text style=background-color:#00ff0013>re</text> <text style=background-color:#00ff000a>back</text> <text style=background-color:#00ff001d>at</text> <text style=background-color:#00ff0034>the</text> <text style=background-color:#00ff0006>mardi</text> <text style=background-color:#00ff0007>gras</text> <text style=background-color:#00ff0034>the</text> <text style=background-color:#00ff0061>scene</text> <text style=background-color:#00ff0025>after</text> <text style=background-color:#00ff002a>that</text> <text style=background-color:#00ff0029>which</text> <text style=background-color:#00ff0022>means</text> <text style=background-color:#00ff0034>the</text> <text style=background-color:#00ff0013>lack</text> <text style=background-color:#00ff0033>of</text> <text style=background-color:#00ff0000>credibilty</text> <text style=background-color:#00ff0022>in</text> <text style=background-color:#00ff0034>the</text> <text style=background-color:#00ff003a>plot</text> <text style=background-color:#00ff0034>is</text> <text style=background-color:#00ff0004>enhanced</text> <text style=background-color:#00ff000c>br</text> <text style=background-color:#00ff000c>br</text> <text style=background-color:#00ff002a>there</text> <text style=background-color:#00ff0010>s</text> <text style=background-color:#00ff0024>something</text> <text style=background-color:#00ff0014>else</text> <text style=background-color:#00ff002a>that</text> <text style=background-color:#00ff0000>yanked</text> <text style=background-color:#00ff0023>my</text> <text style=background-color:#00ff0004>chain</text> <text style=background-color:#00ff0010>product</text> <text style=background-color:#00ff000f>placement</text> <text style=background-color:#00ff002a>there</text> <text style=background-color:#00ff0010>s</text> <text style=background-color:#00ff0000>umpteen</text> <text style=background-color:#00ff004b>scenes</text> <text style=background-color:#00ff0024>where</text> <text style=background-color:#00ff0034>the</text> <text style=background-color:#00ff0016>logo</text> <text style=background-color:#00ff0022>for</text> <text style=background-color:#00ff0029>a</text> <text style=background-color:#00ff0017>certain</text> <text style=background-color:#00ff002a>record</text> <text style=background-color:#00ff0013>label</text> <text style=background-color:#00ff0000>retailer</text> <text style=background-color:#00ff0004>chain</text> <text style=background-color:#00ff0034>is</text> <text style=background-color:#00ff0022>in</text> <text style=background-color:#00ff003d>full</text> <text style=background-color:#00ff0019>view</text> <text style=background-color:#00ff0021>i</text> <text style=background-color:#00ff0019>won</text> <text style=background-color:#00ff000d>t</text> <text style=background-color:#00ff0012>dare</text> <text style=background-color:#00ff0000>publicise</text> <text style=background-color:#00ff0034>the</text> <text style=background-color:#00ff000c>company</text> <text style=background-color:#00ff0018>brand</text> <text style=background-color:#00ff0027>except</text> <text style=background-color:#00ff0020>to</text> <text style=background-color:#00ff001b>say</text> <text style=background-color:#00ff001b>they</text> <text style=background-color:#00ff001f>also</text> <text style=background-color:#00ff0023>run</text> <text style=background-color:#00ff0029>a</text> <text style=background-color:#00ff0004>train</text> <text style=background-color:#00ff000c>company</text> <text style=background-color:#00ff0029>which</text> <text style=background-color:#00ff0034>is</text> <text style=background-color:#00ff0029>a</text> <text style=background-color:#00ff0025>national</text> <text style=background-color:#00ff0040>joke</text> <text style=background-color:#00ff0022>in</text> <text style=background-color:#00ff000b>britain</text> <text style=background-color:#00ff0027>but</text> <text style=background-color:#00ff0021>i</text> <text style=background-color:#00ff002c>was</text> <text style=background-color:#00ff000f>under</text> <text style=background-color:#00ff0034>the</text> <text style=background-color:#00ff0011>impression</text> <text style=background-color:#00ff0032>this</text> <text style=background-color:#00ff0030>type</text> <text style=background-color:#00ff0033>of</text> <text style=background-color:#00ff0009>advertising</text> <text style=background-color:#00ff002c>was</text> <text style=background-color:#00ff000c>against</text> <text style=background-color:#00ff0026>british</text> <text style=background-color:#00ff000f>broadcasting</text> <text style=background-color:#00ff0000>guidlines</text> <text style=background-color:#00ff0022>and</text> <text style=background-color:#00ff0021>i</text> <text style=background-color:#00ff000e>m</text> <text style=background-color:#00ff0013>surprised</text> <text style=background-color:#00ff0034>the</text> <text style=background-color:#00ff0022>bbc</text> <text style=background-color:#00ff0016>showed</text> <text style=background-color:#00ff0032>this</text> <text style=background-color:#00ff0091>movie</text> <text style=background-color:#00ff0018>if</text> <text style=background-color:#00ff002a>that</text> <text style=background-color:#00ff0010>s</text> <text style=background-color:#00ff0034>the</text> <text style=background-color:#00ff001c>case</text> <text style=background-color:#00ff000c>br</text> <text style=background-color:#00ff000c>br</text> <text style=background-color:#00ff002a>there</text> <text style=background-color:#00ff0021>are</text> <text style=background-color:#00ff0024>some</text> <text style=background-color:#00ff0001>positives</text> <text style=background-color:#00ff0022>in</text> <text style=background-color:#00ff0013>dracula</text> <text style=background-color:#00ff002b>like</text> <text style=background-color:#00ff0034>the</text> <text style=background-color:#00ff0006>visuals</text> <text style=background-color:#00ff0022>for</text> <text style=background-color:#00ff0027>example</text> <text style=background-color:#00ff0032>this</text> <text style=background-color:#00ff0034>is</text> <text style=background-color:#00ff0036>actually</text> <text style=background-color:#00ff0029>a</text> <text style=background-color:#00ff002e>good</text> <text style=background-color:#00ff0018>looking</text> <text style=background-color:#00ff0091>movie</text> <text style=background-color:#00ff0025>with</text> <text style=background-color:#00ff0029>a</text> <text style=background-color:#00ff002e>good</text> <text style=background-color:#00ff0018>looking</text> <text style=background-color:#00ff0051>cast</text> <text style=background-color:#00ff0022>and</text> <text style=background-color:#00ff0035>boy</text> <text style=background-color:#00ff0020>were</text> <text style=background-color:#00ff0018>those</text> <text style=background-color:#00ff007e>vampire</text> <text style=background-color:#00ff0012>chicks</text> <text style=background-color:#00ff002d>hot</text> <text style=background-color:#00ff0027>but</text> <text style=background-color:#00ff0029>it</text> <text style=background-color:#00ff0010>s</text> <text style=background-color:#00ff0024>something</text> <text style=background-color:#00ff002b>we</text> <text style=background-color:#00ff001c>should</text> <text style=background-color:#00ff000f>expect</text> <text style=background-color:#00ff001d>from</text> <text style=background-color:#00ff0045>hollywood</text> <text style=background-color:#00ff0020>over</text> <text style=background-color:#00ff0034>the</text> <text style=background-color:#00ff0035>last</text> <text style=background-color:#00ff0017>few</text> <text style=background-color:#00ff002a>years</text> <text style=background-color:#00ff0029>a</text> <text style=background-color:#00ff001d>very</text> <text style=background-color:#00ff002e>good</text> <text style=background-color:#00ff0018>looking</text> <text style=background-color:#00ff0091>movie</text> <text style=background-color:#00ff002a>that</text> <text style=background-color:#00ff0010>s</text> <text style=background-color:#00ff001d>very</text> <text style=background-color:#00ff0015>dumb</text> <br> <text style=background-color:#00ff0022>it</text> <text style=background-color:#00ff0026>was</text> <text style=background-color:#00ff0018>once</text> <text style=background-color:#00ff0002>suggested</text> <text style=background-color:#00ff001b>by</text> <text style=background-color:#00ff0001>pauline</text> <text style=background-color:#00ff0000>kael</text> <text style=background-color:#00ff0027>never</text> <text style=background-color:#00ff0023>a</text> <text style=background-color:#00ff002f>fan</text> <text style=background-color:#00ff0024>that</text> <text style=background-color:#00ff0000>cassavetes</text> <text style=background-color:#00ff0023>thought</text> <text style=background-color:#00ff001e>not</text> <text style=background-color:#00ff0025>like</text> <text style=background-color:#00ff0023>a</text> <text style=background-color:#00ff0018>director</text> <text style=background-color:#00ff0021>but</text> <text style=background-color:#00ff0025>like</text> <text style=background-color:#00ff001e>an</text> <text style=background-color:#00ff002d>actor</text> <text style=background-color:#00ff002d>what</text> <text style=background-color:#00ff0000>kael</text> <text style=background-color:#00ff0018>meant</text> <text style=background-color:#00ff0026>was</text> <text style=background-color:#00ff0012>his</text> <text style=background-color:#00ff0017>supposed</text> <text style=background-color:#00ff000f>lack</text> <text style=background-color:#00ff002c>of</text> <text style=background-color:#00ff0002>sophistication</text> <text style=background-color:#00ff001c>as</text> <text style=background-color:#00ff0023>a</text> <text style=background-color:#00ff0005>filmmaker</text> <text style=background-color:#00ff001b>to</text> <text style=background-color:#00ff001a>take</text> <text style=background-color:#00ff0024>that</text> <text style=background-color:#00ff000a>comparison</text> <text style=background-color:#00ff0002>further</text> <text style=background-color:#00ff001b>to</text> <text style=background-color:#00ff0015>me</text> <text style=background-color:#00ff0022>it</text> <text style=background-color:#00ff0027>never</text> <text style=background-color:#00ff001d>feels</text> <text style=background-color:#00ff0025>like</text> <text style=background-color:#00ff0000>cassavetes</text> <text style=background-color:#00ff002e>is</text> <text style=background-color:#00ff0009>directing</text> <text style=background-color:#00ff0009>himself</text> <text style=background-color:#00ff001c>in</text> <text style=background-color:#00ff0023>a</text> <text style=background-color:#00ff004e>film</text> <text style=background-color:#00ff0022>it</text> <text style=background-color:#00ff001d>feels</text> <text style=background-color:#00ff0025>like</text> <text style=background-color:#00ff0000>cassavetes</text> <text style=background-color:#00ff0000>implanting</text> <text style=background-color:#00ff0009>himself</text> <text style=background-color:#00ff0019>inside</text> <text style=background-color:#00ff0012>his</text> <text style=background-color:#00ff001f>own</text> <text style=background-color:#00ff0016>creation</text> <text style=background-color:#00ff0025>like</text> <text style=background-color:#00ff0000>orson</text> <text style=background-color:#00ff0000>welles</text> <text style=background-color:#00ff0000>cassavetes</text> <text style=background-color:#00ff002e>is</text> <text style=background-color:#00ff001f>just</text> <text style=background-color:#00ff001c>as</text> <text style=background-color:#00ff001c>much</text> <text style=background-color:#00ff002c>of</text> <text style=background-color:#00ff0023>a</text> <text style=background-color:#00ff003d>genius</text> <text style=background-color:#00ff001c>as</text> <text style=background-color:#00ff0000>welles</text> <text style=background-color:#00ff0021>but</text> <text style=background-color:#00ff001f>far</text> <text style=background-color:#00ff0017>more</text> <text style=background-color:#00ff0013>important</text> <text style=background-color:#00ff001c>as</text> <text style=background-color:#00ff0023>a</text> <text style=background-color:#00ff0036>true</text> <text style=background-color:#00ff0026>artist</text> <text style=background-color:#00ff001c>as</text> <text style=background-color:#00ff0001>opposed</text> <text style=background-color:#00ff001b>to</text> <text style=background-color:#00ff0023>a</text> <text style=background-color:#00ff0001>technician</text> <text style=background-color:#00ff001e>or</text> <text style=background-color:#00ff0000>rhetorician</text> <text style=background-color:#00ff002c>this</text> <text style=background-color:#00ff002e>is</text> <text style=background-color:#00ff0025>like</text> <text style=background-color:#00ff0023>a</text> <text style=background-color:#00ff000e>cross</text> <text style=background-color:#00ff0013>between</text> <text style=background-color:#00ff0012>italian</text> <text style=background-color:#00ff0021>passion</text> <text style=background-color:#00ff0021>though</text> <text style=background-color:#00ff0000>cassavetes</text> <text style=background-color:#00ff0026>was</text> <text style=background-color:#00ff002f>actually</text> <text style=background-color:#00ff0010>greek</text> <text style=background-color:#00ff001d>and</text> <text style=background-color:#00ff0002>scandinavian</text> <text style=background-color:#00ff0000>introversion</text> <text style=background-color:#00ff0027>never</text> <text style=background-color:#00ff001f>before</text> <text style=background-color:#00ff001f>have</text> <text style=background-color:#00ff0009>inner</text> <text style=background-color:#00ff000e>demons</text> <text style=background-color:#00ff0016>been</text> <text style=background-color:#00ff0024>so</text> <text style=background-color:#00ff0003>exposed</text> <text style=background-color:#00ff0003>physically</text> <text style=background-color:#00ff0009>br</text> <text style=background-color:#00ff0009>br</text> <text style=background-color:#00ff0022>it</text> <text style=background-color:#00ff000c>s</text> <text style=background-color:#00ff0028>about</text> <text style=background-color:#00ff002d>the</text> <text style=background-color:#00ff0027>mystery</text> <text style=background-color:#00ff002c>of</text> <text style=background-color:#00ff0011>becoming</text> <text style=background-color:#00ff0022>performing</text> <text style=background-color:#00ff001d>and</text> <text style=background-color:#00ff001f>acting</text> <text style=background-color:#00ff0025>like</text> <text style=background-color:#00ff0023>a</text> <text style=background-color:#00ff0023>haunted</text> <text style=background-color:#00ff0014>skip</text> <text style=background-color:#00ff0010>james</text> <text style=background-color:#00ff0024>record</text> <text style=background-color:#00ff0022>it</text> <text style=background-color:#00ff000c>s</text> <text style=background-color:#00ff0014>got</text> <text style=background-color:#00ff002d>the</text> <text style=background-color:#00ff0004>echoes</text> <text style=background-color:#00ff002c>of</text> <text style=background-color:#00ff002d>ghosts</text> <text style=background-color:#00ff001d>all</text> <text style=background-color:#00ff000e>around</text> <text style=background-color:#00ff0000>rowlands</text> <text style=background-color:#00ff0009>breakdowns</text> <text style=background-color:#00ff0023>which</text> <text style=background-color:#00ff001b>are</text> <text style=background-color:#00ff0000>stupefying</text> <text style=background-color:#00ff001d>and</text> <text style=background-color:#00ff0018>almost</text> <text style=background-color:#00ff0003>operatic</text> <text style=background-color:#00ff000d>surprising</text> <text style=background-color:#00ff0019>coming</text> <text style=background-color:#00ff0018>from</text> <text style=background-color:#00ff0000>cassavetes</text> <text style=background-color:#00ff001b>are</text> <text style=background-color:#00ff0001>accompanied</text> <text style=background-color:#00ff001b>by</text> <text style=background-color:#00ff0023>a</text> <text style=background-color:#00ff0000>jumpy</text> <text style=background-color:#00ff0001>unsettling</text> <text style=background-color:#00ff0069>piano</text> <text style=background-color:#00ff0013>who</text> <text style=background-color:#00ff002e>is</text> <text style=background-color:#00ff002c>this</text> <text style=background-color:#00ff003f>dead</text> <text style=background-color:#00ff0024>girl</text> <text style=background-color:#00ff002d>the</text> <text style=background-color:#00ff0004>metaphysical</text> <text style=background-color:#00ff0002>possibilities</text> <text style=background-color:#00ff001b>are</text> <text style=background-color:#00ff0012>endless</text> <text style=background-color:#00ff001d>and</text> <text style=background-color:#00ff0022>it</text> <text style=background-color:#00ff000c>s</text> <text style=background-color:#00ff0033>amazing</text> <text style=background-color:#00ff001b>to</text> <text style=background-color:#00ff0018>find</text> <text style=background-color:#00ff002c>this</text> <text style=background-color:#00ff002e>kind</text> <text style=background-color:#00ff002c>of</text> <text style=background-color:#00ff003e>thing</text> <text style=background-color:#00ff001c>in</text> <text style=background-color:#00ff0023>a</text> <text style=background-color:#00ff0000>cassavetes</text> <text style=background-color:#00ff004e>film</text> <text style=background-color:#00ff001f>just</text> <text style=background-color:#00ff002d>the</text> <text style=background-color:#00ff0000>overt</text> <text style=background-color:#00ff0011>display</text> <text style=background-color:#00ff002c>of</text> <text style=background-color:#00ff0008>intelligence</text> <text style=background-color:#00ff0024>there</text> <text style=background-color:#00ff002e>is</text> <text style=background-color:#00ff001a>also</text> <text style=background-color:#00ff0023>a</text> <text style=background-color:#00ff000e>brief</text> <text style=background-color:#00ff001b>bit</text> <text style=background-color:#00ff002c>of</text> <text style=background-color:#00ff0041>voice</text> <text style=background-color:#00ff001b>over</text> <text style=background-color:#00ff0018>at</text> <text style=background-color:#00ff002d>the</text> <text style=background-color:#00ff0022>beginning</text> <text style=background-color:#00ff0021>but</text> <text style=background-color:#00ff001a>then</text> <text style=background-color:#00ff001d>he</text> <text style=background-color:#00ff001b>always</text> <text style=background-color:#00ff0026>was</text> <text style=background-color:#00ff000a>intelligent</text> <text style=background-color:#00ff001d>he</text> <text style=background-color:#00ff001f>just</text> <text style=background-color:#00ff0027>never</text> <text style=background-color:#00ff0000>flapped</text> <text style=background-color:#00ff0022>it</text> <text style=background-color:#00ff000e>around</text> <text style=background-color:#00ff001d>for</text> <text style=background-color:#00ff001b>easy</text> <text style=background-color:#00ff000c>praise</text> <text style=background-color:#00ff002c>this</text> <text style=background-color:#00ff002e>is</text> <text style=background-color:#00ff001e>not</text> <text style=background-color:#00ff0020>adaptation</text> <text style=background-color:#00ff001b>here</text> <text style=background-color:#00ff002d>the</text> <text style=background-color:#00ff0003>blending</text> <text style=background-color:#00ff002c>of</text> <text style=background-color:#00ff004c>reality</text> <text style=background-color:#00ff001d>and</text> <text style=background-color:#00ff0043>fiction</text> <text style=background-color:#00ff001d>and</text> <text style=background-color:#00ff0097>drama</text> <text style=background-color:#00ff002e>is</text> <text style=background-color:#00ff001e>not</text> <text style=background-color:#00ff001b>to</text> <text style=background-color:#00ff004f>show</text> <text style=background-color:#00ff0000>cleverness</text> <text style=background-color:#00ff0021>but</text> <text style=background-color:#00ff001b>to</text> <text style=background-color:#00ff004f>show</text> <text style=background-color:#00ff002d>the</text> <text style=background-color:#00ff0009>inner</text> <text style=background-color:#00ff0000>turmoil</text> <text style=background-color:#00ff001d>and</text> <text style=background-color:#00ff000c>confusion</text> <text style=background-color:#00ff0022>it</text> <text style=background-color:#00ff000a>creates</text> <text style=background-color:#00ff0009>br</text> <text style=background-color:#00ff0009>br</text> <text style=background-color:#00ff0024>there</text> <text style=background-color:#00ff000c>s</text> <text style=background-color:#00ff0024>so</text> <text style=background-color:#00ff001c>much</text> <text style=background-color:#00ff0019>going</text> <text style=background-color:#00ff001a>on</text> <text style=background-color:#00ff002d>the</text> <text style=background-color:#00ff0021>pure</text> <text style=background-color:#00ff0002>joyous</text> <text style=background-color:#00ff0022>love</text> <text style=background-color:#00ff001f>when</text> <text style=background-color:#00ff0000>rowlands</text> <text style=background-color:#00ff0000>greets</text> <text style=background-color:#00ff0006>her</text> <text style=background-color:#00ff0000>doorman</text> <text style=background-color:#00ff002d>the</text> <text style=background-color:#00ff00ff>horror</text> <text style=background-color:#00ff001f>when</text> <text style=background-color:#00ff0013>she</text> <text style=background-color:#00ff0013>beats</text> <text style=background-color:#00ff0007>herself</text> <text style=background-color:#00ff0018>up</text> <text style=background-color:#00ff002d>the</text> <text style=background-color:#00ff005a>scene</text> <text style=background-color:#00ff001e>where</text> <text style=background-color:#00ff002d>the</text> <text style=background-color:#00ff0024>girl</text> <text style=background-color:#00ff0015>talks</text> <text style=background-color:#00ff0028>about</text> <text style=background-color:#00ff001f>how</text> <text style=background-color:#00ff0013>she</text> <text style=background-color:#00ff0004>devoted</text> <text style=background-color:#00ff0006>her</text> <text style=background-color:#00ff0037>life</text> <text style=background-color:#00ff001b>to</text> <text style=background-color:#00ff0030>art</text> <text style=background-color:#00ff001d>and</text> <text style=background-color:#00ff001b>to</text> <text style=background-color:#00ff0052>music</text> <text style=background-color:#00ff002e>is</text> <text style=background-color:#00ff0032>one</text> <text style=background-color:#00ff002c>of</text> <text style=background-color:#00ff002d>the</text> <text style=background-color:#00ff0020>most</text> <text style=background-color:#00ff000f>effective</text> <text style=background-color:#00ff0000>demonstrations</text> <text style=background-color:#00ff002c>of</text> <text style=background-color:#00ff000b>understanding</text> <text style=background-color:#00ff002d>what</text> <text style=background-color:#00ff0022>it</text> <text style=background-color:#00ff001c>means</text> <text style=background-color:#00ff001b>to</text> <text style=background-color:#00ff0015>be</text> <text style=background-color:#00ff0023>a</text> <text style=background-color:#00ff002f>fan</text> <text style=background-color:#00ff002c>of</text> <text style=background-color:#00ff0014>someone</text> <text style=background-color:#00ff0018>you</text> <text style=background-color:#00ff0011>can</text> <text style=background-color:#00ff001e>see</text> <text style=background-color:#00ff001e>some</text> <text style=background-color:#00ff001b>roots</text> <text style=background-color:#00ff002c>of</text> <text style=background-color:#00ff002c>this</text> <text style=background-color:#00ff001c>in</text> <text style=background-color:#00ff0023>a</text> <text style=background-color:#00ff003a>star</text> <text style=background-color:#00ff002e>is</text> <text style=background-color:#00ff001d>born</text> <text style=background-color:#00ff001d>and</text> <text style=background-color:#00ff0002>almodovar</text> <text style=background-color:#00ff0000>borrowed</text> <text style=background-color:#00ff0018>from</text> <text style=background-color:#00ff0022>it</text> <text style=background-color:#00ff001d>for</text> <text style=background-color:#00ff001d>all</text> <text style=background-color:#00ff0028>about</text> <text style=background-color:#00ff001d>my</text> <text style=background-color:#00ff001d>mother</text> <text style=background-color:#00ff001b>i</text> <text style=background-color:#00ff0020>think</text> <text style=background-color:#00ff002d>the</text> <text style=background-color:#00ff005b>ending</text> <text style=background-color:#00ff002e>is</text> <text style=background-color:#00ff0023>a</text> <text style=background-color:#00ff002f>little</text> <text style=background-color:#00ff001b>bit</text> <text style=background-color:#00ff002c>of</text> <text style=background-color:#00ff0023>a</text> <text style=background-color:#00ff000c>disappointment</text> <text style=background-color:#00ff0023>because</text> <text style=background-color:#00ff002c>of</text> <text style=background-color:#00ff002d>the</text> <text style=background-color:#00ff0013>laughing</text> <text style=background-color:#00ff0004>fits</text> <text style=background-color:#00ff0021>but</text> <text style=background-color:#00ff002d>the</text> <text style=background-color:#00ff0010>preparation</text> <text style=background-color:#00ff000b>leading</text> <text style=background-color:#00ff0018>up</text> <text style=background-color:#00ff001b>to</text> <text style=background-color:#00ff0022>it</text> <text style=background-color:#00ff002e>is</text> <text style=background-color:#00ff0018>almost</text> <text style=background-color:#00ff0006>sickening</text> <text style=background-color:#00ff0018>you</text> <text style=background-color:#00ff0011>can</text> <text style=background-color:#00ff0021>shoot</text> <text style=background-color:#00ff0015>me</text> <text style=background-color:#00ff0021>but</text> <text style=background-color:#00ff001b>i</text> <text style=background-color:#00ff0020>think</text> <text style=background-color:#00ff002d>the</text> <text style=background-color:#00ff0003>alcoholism</text> <text style=background-color:#00ff0006>despite</text> <text style=background-color:#00ff0020>its</text> <text style=background-color:#00ff0001>urgency</text> <text style=background-color:#00ff001c>in</text> <text style=background-color:#00ff0015>many</text> <text style=background-color:#00ff002c>of</text> <text style=background-color:#00ff002d>the</text> <text style=background-color:#00ff0044>scenes</text> <text style=background-color:#00ff002e>is</text> <text style=background-color:#00ff0023>a</text> <text style=background-color:#00ff0001>relatively</text> <text style=background-color:#00ff000b>small</text> <text style=background-color:#00ff001b>point</text> <text style=background-color:#00ff0028>about</text> <text style=background-color:#00ff002d>the</text> <text style=background-color:#00ff004e>film</text> <text style=background-color:#00ff0009>br</text> <text style=background-color:#00ff0009>br</text> <text style=background-color:#00ff0022>it</text> <text style=background-color:#00ff000c>s</text> <text style=background-color:#00ff0023>a</text> <text style=background-color:#00ff001e>living</text> <text style=background-color:#00ff000c>breathing</text> <text style=background-color:#00ff003e>thing</text> <text style=background-color:#00ff001d>and</text> <text style=background-color:#00ff0022>it</text> <text style=background-color:#00ff001d>feels</text> <text style=background-color:#00ff0025>like</text> <text style=background-color:#00ff0023>a</text> <text style=background-color:#00ff0010>process</text> <text style=background-color:#00ff0022>it</text> <text style=background-color:#00ff0017>could</text> <text style=background-color:#00ff0013>go</text> <text style=background-color:#00ff001f>any</text> <text style=background-color:#00ff0021>direction</text> <text style=background-color:#00ff0018>at</text> <text style=background-color:#00ff001f>any</text> <text style=background-color:#00ff003a>time</text> <text style=background-color:#00ff0025>like</text> <text style=background-color:#00ff001b>taste</text> <text style=background-color:#00ff002c>of</text> <text style=background-color:#00ff0008>cherry</text> <text style=background-color:#00ff0025>we</text> <text style=background-color:#00ff001b>are</text> <text style=background-color:#00ff0014>reminded</text> <text style=background-color:#00ff0024>that</text> <text style=background-color:#00ff0018>you</text> <text style=background-color:#00ff000d>must</text> <text style=background-color:#00ff0027>never</text> <text style=background-color:#00ff001c>forget</text> <text style=background-color:#00ff002c>this</text> <text style=background-color:#00ff002e>is</text> <text style=background-color:#00ff0019>only</text> <text style=background-color:#00ff0023>a</text> <text style=background-color:#00ff0032>play</text> <text style=background-color:#00ff0020>yet</text> <text style=background-color:#00ff0022>it</text> <text style=background-color:#00ff002e>is</text> <text style=background-color:#00ff0018>dangerous</text> <text style=background-color:#00ff001f>when</text> <text style=background-color:#00ff0000>rowlands</text> <text style=background-color:#00ff000c>says</text> <text style=background-color:#00ff0024>that</text> <text style=background-color:#00ff0017>line</text> <text style=background-color:#00ff002e>is</text> <text style=background-color:#00ff0022>it</text> <text style=background-color:#00ff0027>great</text> <text style=background-color:#00ff0097>drama</text> <text style=background-color:#00ff001f>how</text> <text style=background-color:#00ff0016>will</text> <text style=background-color:#00ff002d>the</text> <text style=background-color:#00ff0014>audience</text> <text style=background-color:#00ff001a>take</text> <text style=background-color:#00ff0022>it</text> <text style=background-color:#00ff002e>is</text> <text style=background-color:#00ff0013>she</text> <text style=background-color:#00ff0015>being</text> <text style=background-color:#00ff0000>reflexive</text> <text style=background-color:#00ff001e>or</text> <text style=background-color:#00ff001c>does</text> <text style=background-color:#00ff0013>she</text> <text style=background-color:#00ff001f>just</text> <text style=background-color:#00ff001e>not</text> <text style=background-color:#00ff0013>care</text> <text style=background-color:#00ff0006>her</text> <text style=background-color:#00ff0050>character</text> <text style=background-color:#00ff000c>s</text> <text style=background-color:#00ff0009>breakdowns</text> <text style=background-color:#00ff001b>are</text> <text style=background-color:#00ff0000>incorporated</text> <text style=background-color:#00ff001a>into</text> <text style=background-color:#00ff002d>the</text> <text style=background-color:#00ff0018>performances</text> <text style=background-color:#00ff001d>and</text> <text style=background-color:#00ff0004>ultimately</text> <text style=background-color:#00ff002d>the</text> <text style=background-color:#00ff004e>film</text> <text style=background-color:#00ff001c>in</text> <text style=background-color:#00ff0033>such</text> <text style=background-color:#00ff0023>a</text> <text style=background-color:#00ff0024>way</text> <text style=background-color:#00ff0024>that</text> <text style=background-color:#00ff0022>it</text> <text style=background-color:#00ff000c>s</text> <text style=background-color:#00ff0025>like</text> <text style=background-color:#00ff0003>witnessing</text> <text style=background-color:#00ff0023>a</text> <text style=background-color:#00ff0014>female</text> <text style=background-color:#00ff0010>james</text> <text style=background-color:#00ff0012>dean</text> <br> <text style=background-color:#00ff002f>this</text> <text style=background-color:#00ff008e>movie</text> <text style=background-color:#00ff0029>was</text> <text style=background-color:#00ff000e>recently</text> <text style=background-color:#00ff0015>released</text> <text style=background-color:#00ff001c>on</text> <text style=background-color:#00ff0025>dvd</text> <text style=background-color:#00ff001f>in</text> <text style=background-color:#00ff0031>the</text> <text style=background-color:#00ff0014>us</text> <text style=background-color:#00ff001f>and</text> <text style=background-color:#00ff001e>i</text> <text style=background-color:#00ff001c>finally</text> <text style=background-color:#00ff0016>got</text> <text style=background-color:#00ff0031>the</text> <text style=background-color:#00ff0016>chance</text> <text style=background-color:#00ff001d>to</text> <text style=background-color:#00ff0021>see</text> <text style=background-color:#00ff002f>this</text> <text style=background-color:#00ff0029>hard</text> <text style=background-color:#00ff001d>to</text> <text style=background-color:#00ff001b>find</text> <text style=background-color:#00ff000c>gem</text> <text style=background-color:#00ff0025>it</text> <text style=background-color:#00ff0026>even</text> <text style=background-color:#00ff0019>came</text> <text style=background-color:#00ff0022>with</text> <text style=background-color:#00ff0043>original</text> <text style=background-color:#00ff000b>theatrical</text> <text style=background-color:#00ff0011>previews</text> <text style=background-color:#00ff002f>of</text> <text style=background-color:#00ff001c>other</text> <text style=background-color:#00ff0014>italian</text> <text style=background-color:#00ff00ff>horror</text> <text style=background-color:#00ff001e>classics</text> <text style=background-color:#00ff0028>like</text> <text style=background-color:#00ff0000>spasmo</text> <text style=background-color:#00ff001f>and</text> <text style=background-color:#00ff0019>beyond</text> <text style=background-color:#00ff0031>the</text> <text style=background-color:#00ff0015>darkness</text> <text style=background-color:#00ff0011>unfortunately</text> <text style=background-color:#00ff0031>the</text> <text style=background-color:#00ff0011>previews</text> <text style=background-color:#00ff001d>were</text> <text style=background-color:#00ff0031>the</text> <text style=background-color:#00ff0042>best</text> <text style=background-color:#00ff0042>thing</text> <text style=background-color:#00ff002c>about</text> <text style=background-color:#00ff002f>this</text> <text style=background-color:#00ff008e>movie</text> <text style=background-color:#00ff000a>br</text> <text style=background-color:#00ff000a>br</text> <text style=background-color:#00ff0005>zombi</text> <text style=background-color:#00ff001f>in</text> <text style=background-color:#00ff0026>a</text> <text style=background-color:#00ff0018>bizarre</text> <text style=background-color:#00ff0027>way</text> <text style=background-color:#00ff0031>is</text> <text style=background-color:#00ff0032>actually</text> <text style=background-color:#00ff0002>linked</text> <text style=background-color:#00ff001d>to</text> <text style=background-color:#00ff0031>the</text> <text style=background-color:#00ff0011>infamous</text> <text style=background-color:#00ff0000>lucio</text> <text style=background-color:#00ff0000>fulci</text> <text style=background-color:#00ff008f>zombie</text> <text style=background-color:#00ff000d>franchise</text> <text style=background-color:#00ff0026>which</text> <text style=background-color:#00ff000f>began</text> <text style=background-color:#00ff001f>in</text> <text style=background-color:#00ff0000>similarly</text> <text style=background-color:#00ff0013>compared</text> <text style=background-color:#00ff001d>to</text> <text style=background-color:#00ff008f>zombie</text> <text style=background-color:#00ff0005>zombi</text> <text style=background-color:#00ff0013>consists</text> <text style=background-color:#00ff002f>of</text> <text style=background-color:#00ff0026>a</text> <text style=background-color:#00ff0000>threadbare</text> <text style=background-color:#00ff0037>plot</text> <text style=background-color:#00ff001f>and</text> <text style=background-color:#00ff0026>a</text> <text style=background-color:#00ff0002>handful</text> <text style=background-color:#00ff002f>of</text> <text style=background-color:#00ff000a>extremely</text> <text style=background-color:#00ff003e>bad</text> <text style=background-color:#00ff0022>actors</text> <text style=background-color:#00ff0026>that</text> <text style=background-color:#00ff000f>keeps</text> <text style=background-color:#00ff002f>this</text> <text style=background-color:#00ff00ff>horror</text> <text style=background-color:#00ff0015>trash</text> <text style=background-color:#00ff000d>barely</text> <text style=background-color:#00ff0000>afloat</text> <text style=background-color:#00ff0031>the</text> <text style=background-color:#00ff0001>gore</text> <text style=background-color:#00ff0031>is</text> <text style=background-color:#00ff0008>nearly</text> <text style=background-color:#00ff0007>non</text> <text style=background-color:#00ff0002>existent</text> <text style=background-color:#00ff0015>unless</text> <text style=background-color:#00ff0035>one</text> <text style=background-color:#00ff0031>is</text> <text style=background-color:#00ff0001>frightened</text> <text style=background-color:#00ff002f>of</text> <text style=background-color:#00ff001a>people</text> <text style=background-color:#00ff001f>running</text> <text style=background-color:#00ff0010>around</text> <text style=background-color:#00ff0022>with</text> <text style=background-color:#00ff0016>green</text> <text style=background-color:#00ff0006>moss</text> <text style=background-color:#00ff001c>on</text> <text style=background-color:#00ff0016>their</text> <text style=background-color:#00ff0010>faces</text> <text style=background-color:#00ff001f>and</text> <text style=background-color:#00ff0031>the</text> <text style=background-color:#00ff0054>english</text> <text style=background-color:#00ff000a>dubbing</text> <text style=background-color:#00ff0031>is</text> <text style=background-color:#00ff0026>a</text> <text style=background-color:#00ff0005>notch</text> <text style=background-color:#00ff0001>below</text> <text style=background-color:#00ff0013>embarrassing</text> <text style=background-color:#00ff000a>br</text> <text style=background-color:#00ff000a>br</text> <text style=background-color:#00ff0031>the</text> <text style=background-color:#00ff0037>plot</text> <text style=background-color:#00ff002f>this</text> <text style=background-color:#00ff003e>time</text> <text style=background-color:#00ff0010>around</text> <text style=background-color:#00ff000f>involves</text> <text style=background-color:#00ff0021>some</text> <text style=background-color:#00ff0014>sort</text> <text style=background-color:#00ff002f>of</text> <text style=background-color:#00ff0003>covert</text> <text style=background-color:#00ff0007>military</text> <text style=background-color:#00ff0011>operation</text> <text style=background-color:#00ff0022>with</text> <text style=background-color:#00ff0026>a</text> <text style=background-color:#00ff0014>bunch</text> <text style=background-color:#00ff002f>of</text> <text style=background-color:#00ff0000>inept</text> <text style=background-color:#00ff000c>scientists</text> <text style=background-color:#00ff000b>ie</text> <text style=background-color:#00ff0021>an</text> <text style=background-color:#00ff0005>idiotic</text> <text style=background-color:#00ff001b>male</text> <text style=background-color:#00ff001f>and</text> <text style=background-color:#00ff0014>his</text> <text style=background-color:#00ff0025>stupid</text> <text style=background-color:#00ff0016>female</text> <text style=background-color:#00ff001a>side</text> <text style=background-color:#00ff0015>kick</text> <text style=background-color:#00ff0015>who</text> <text style=background-color:#00ff001e>are</text> <text style=background-color:#00ff0009>developing</text> <text style=background-color:#00ff0021>some</text> <text style=background-color:#00ff0014>sort</text> <text style=background-color:#00ff002f>of</text> <text style=background-color:#00ff0021>chemical</text> <text style=background-color:#00ff0026>called</text> <text style=background-color:#00ff0031>death</text> <text style=background-color:#00ff0035>one</text> <text style=background-color:#00ff0026>that</text> <text style=background-color:#00ff0031>is</text> <text style=background-color:#00ff0019>supposed</text> <text style=background-color:#00ff001d>to</text> <text style=background-color:#00ff0011>re</text> <text style=background-color:#00ff0000>animate</text> <text style=background-color:#00ff0031>the</text> <text style=background-color:#00ff0042>dead</text> <text style=background-color:#00ff0015>unless</text> <text style=background-color:#00ff0020>my</text> <text style=background-color:#00ff0009>ears</text> <text style=background-color:#00ff0019>need</text> <text style=background-color:#00ff001d>to</text> <text style=background-color:#00ff0018>be</text> <text style=background-color:#00ff0005>checked</text> <text style=background-color:#00ff001e>i</text> <text style=background-color:#00ff0016>don</text> <text style=background-color:#00ff000b>t</text> <text style=background-color:#00ff0026>even</text> <text style=background-color:#00ff000b>recall</text> <text style=background-color:#00ff0026>a</text> <text style=background-color:#00ff0023>reason</text> <text style=background-color:#00ff001f>for</text> <text style=background-color:#00ff0031>the</text> <text style=background-color:#00ff0017>research</text> <text style=background-color:#00ff002f>of</text> <text style=background-color:#00ff0031>death</text> <text style=background-color:#00ff0035>one</text> <text style=background-color:#00ff0025>it</text> <text style=background-color:#00ff001b>seems</text> <text style=background-color:#00ff001d>to</text> <text style=background-color:#00ff001d>exist</text> <text style=background-color:#00ff001b>only</text> <text style=background-color:#00ff001d>to</text> <text style=background-color:#00ff0000>wreak</text> <text style=background-color:#00ff0008>havoc</text> <text style=background-color:#00ff000e>upon</text> <text style=background-color:#00ff0031>the</text> <text style=background-color:#00ff0012>poor</text> <text style=background-color:#00ff0016>souls</text> <text style=background-color:#00ff0015>who</text> <text style=background-color:#00ff002a>made</text> <text style=background-color:#00ff0031>the</text> <text style=background-color:#00ff0018>mistake</text> <text style=background-color:#00ff002f>of</text> <text style=background-color:#00ff0007>choosing</text> <text style=background-color:#00ff001d>to</text> <text style=background-color:#00ff003d>star</text> <text style=background-color:#00ff001f>in</text> <text style=background-color:#00ff002f>this</text> <text style=background-color:#00ff0031>cinematic</text> <text style=background-color:#00ff001f>laugh</text> <text style=background-color:#00ff0024>fest</text> <text style=background-color:#00ff000a>br</text> <text style=background-color:#00ff000a>br</text> <text style=background-color:#00ff001a>anyway</text> <text style=background-color:#00ff0031>death</text> <text style=background-color:#00ff0035>one</text> <text style=background-color:#00ff0031>is</text> <text style=background-color:#00ff0001>experimented</text> <text style=background-color:#00ff001c>on</text> <text style=background-color:#00ff0026>a</text> <text style=background-color:#00ff000d>corpse</text> <text style=background-color:#00ff0006>whom</text> <text style=background-color:#00ff001e>i</text> <text style=background-color:#00ff0020>swear</text> <text style=background-color:#00ff0010>looked</text> <text style=background-color:#00ff0028>like</text> <text style=background-color:#00ff0001>yul</text> <text style=background-color:#00ff0000>brynner</text> <text style=background-color:#00ff001f>and</text> <text style=background-color:#00ff0021>after</text> <text style=background-color:#00ff0025>it</text> <text style=background-color:#00ff0031>is</text> <text style=background-color:#00ff0000>injected</text> <text style=background-color:#00ff001d>into</text> <text style=background-color:#00ff0014>his</text> <text style=background-color:#00ff0013>system</text> <text style=background-color:#00ff0020>he</text> <text style=background-color:#00ff0002>sits</text> <text style=background-color:#00ff0001>upright</text> <text style=background-color:#00ff001f>and</text> <text style=background-color:#00ff0014>his</text> <text style=background-color:#00ff000f>head</text> <text style=background-color:#00ff0001>explodes</text> <text style=background-color:#00ff0031>the</text> <text style=background-color:#00ff004d>sound</text> <text style=background-color:#00ff0020>effects</text> <text style=background-color:#00ff001e>are</text> <text style=background-color:#00ff001c>also</text> <text style=background-color:#00ff001e>quite</text> <text style=background-color:#00ff002d>hilarious</text> <text style=background-color:#00ff001f>as</text> <text style=background-color:#00ff0031>the</text> <text style=background-color:#00ff000d>corpse</text> <text style=background-color:#00ff000e>s</text> <text style=background-color:#00ff001e>face</text> <text style=background-color:#00ff0004>bubbles</text> <text style=background-color:#00ff0022>with</text> <text style=background-color:#00ff0016>green</text> <text style=background-color:#00ff0003>slime</text> <text style=background-color:#00ff0031>the</text> <text style=background-color:#00ff004d>sound</text> <text style=background-color:#00ff002f>of</text> <text style=background-color:#00ff001e>paper</text> <text style=background-color:#00ff0000>crumpling</text> <text style=background-color:#00ff0013>can</text> <text style=background-color:#00ff0018>be</text> <text style=background-color:#00ff002a>heard</text> <text style=background-color:#00ff0031>the</text> <text style=background-color:#00ff0031>death</text> <text style=background-color:#00ff0035>one</text> <text style=background-color:#00ff0000>toxin</text> <text style=background-color:#00ff0031>is</text> <text style=background-color:#00ff0000>transported</text> <text style=background-color:#00ff0011>outside</text> <text style=background-color:#00ff001f>and</text> <text style=background-color:#00ff0031>is</text> <text style=background-color:#00ff0007>hi</text> <text style=background-color:#00ff0001>jacked</text> <text style=background-color:#00ff001d>by</text> <text style=background-color:#00ff0026>a</text> <text style=background-color:#00ff0021>group</text> <text style=background-color:#00ff002f>of</text> <text style=background-color:#00ff0001>thieves</text> <text style=background-color:#00ff0021>where</text> <text style=background-color:#00ff0035>one</text> <text style=background-color:#00ff002c>makes</text> <text style=background-color:#00ff0011>off</text> <text style=background-color:#00ff0022>with</text> <text style=background-color:#00ff0025>it</text> <text style=background-color:#00ff0024>but</text> <text style=background-color:#00ff0000>infects</text> <text style=background-color:#00ff000b>himself</text> <text style=background-color:#00ff0021>after</text> <text style=background-color:#00ff0006>cutting</text> <text style=background-color:#00ff000b>himself</text> <text style=background-color:#00ff001c>on</text> <text style=background-color:#00ff0021>an</text> <text style=background-color:#00ff0004>exposed</text> <text style=background-color:#00ff0000>vial</text> <text style=background-color:#00ff000a>br</text> <text style=background-color:#00ff000a>br</text> <text style=background-color:#00ff0004>needless</text> <text style=background-color:#00ff001d>to</text> <text style=background-color:#00ff0018>say</text> <text style=background-color:#00ff0031>the</text> <text style=background-color:#00ff0028>guy</text> <text style=background-color:#00ff0015>turns</text> <text style=background-color:#00ff001d>into</text> <text style=background-color:#00ff0026>a</text> <text style=background-color:#00ff008f>zombie</text> <text style=background-color:#00ff0024>but</text> <text style=background-color:#00ff0021>not</text> <text style=background-color:#00ff0022>before</text> <text style=background-color:#00ff0020>he</text> <text style=background-color:#00ff002c>makes</text> <text style=background-color:#00ff0014>his</text> <text style=background-color:#00ff0001>timely</text> <text style=background-color:#00ff0031>escape</text> <text style=background-color:#00ff001d>to</text> <text style=background-color:#00ff0026>a</text> <text style=background-color:#00ff0005>cheap</text> <text style=background-color:#00ff0015>motel</text> <text style=background-color:#00ff0000>infects</text> <text style=background-color:#00ff0026>a</text> <text style=background-color:#00ff0000>lowly</text> <text style=background-color:#00ff0002>porter</text> <text style=background-color:#00ff001f>and</text> <text style=background-color:#00ff0004>murders</text> <text style=background-color:#00ff0026>a</text> <text style=background-color:#00ff000c>maid</text> <text style=background-color:#00ff001d>by</text> <text style=background-color:#00ff0003>pushing</text> <text style=background-color:#00ff0008>her</text> <text style=background-color:#00ff001e>face</text> <text style=background-color:#00ff001d>into</text> <text style=background-color:#00ff0026>a</text> <text style=background-color:#00ff000c>bathroom</text> <text style=background-color:#00ff0011>mirror</text> <text style=background-color:#00ff0031>the</text> <text style=background-color:#00ff0007>military</text> <text style=background-color:#00ff001d>catch</text> <text style=background-color:#00ff0007>wind</text> <text style=background-color:#00ff002f>of</text> <text style=background-color:#00ff002f>this</text> <text style=background-color:#00ff001f>and</text> <text style=background-color:#00ff0005>immediately</text> <text style=background-color:#00ff001d>take</text> <text style=background-color:#00ff0039>action</text> <text style=background-color:#00ff0022>before</text> <text style=background-color:#00ff0000>eliminating</text> <text style=background-color:#00ff000e>everyone</text> <text style=background-color:#00ff0015>who</text> <text style=background-color:#00ff0031>is</text> <text style=background-color:#00ff0005>unlucky</text> <text style=background-color:#00ff001d>enough</text> <text style=background-color:#00ff001d>to</text> <text style=background-color:#00ff0018>be</text> <text style=background-color:#00ff000c>within</text> <text style=background-color:#00ff0031>the</text> <text style=background-color:#00ff0001>contamination</text> <text style=background-color:#00ff001c>zone</text> <text style=background-color:#00ff001f>and</text> <text style=background-color:#00ff001e>turn</text> <text style=background-color:#00ff0031>the</text> <text style=background-color:#00ff0015>motel</text> <text style=background-color:#00ff0003>upside</text> <text style=background-color:#00ff0015>down</text> <text style=background-color:#00ff0018>they</text> <text style=background-color:#00ff001b>find</text> <text style=background-color:#00ff0031>the</text> <text style=background-color:#00ff0002>infected</text> <text style=background-color:#00ff0013>thief</text> <text style=background-color:#00ff001f>and</text> <text style=background-color:#00ff0015>burn</text> <text style=background-color:#00ff0014>his</text> <text style=background-color:#00ff001a>body</text> <text style=background-color:#00ff001b>only</text> <text style=background-color:#00ff001d>to</text> <text style=background-color:#00ff0022>have</text> <text style=background-color:#00ff0031>the</text> <text style=background-color:#00ff000e>smoke</text> <text style=background-color:#00ff0000>infect</text> <text style=background-color:#00ff0026>a</text> <text style=background-color:#00ff0000>flock</text> <text style=background-color:#00ff002f>of</text> <text style=background-color:#00ff0032>birds</text> <text style=background-color:#00ff0026>that</text> <text style=background-color:#00ff001e>are</text> <text style=background-color:#00ff0011>flying</text> <text style=background-color:#00ff001d>over</text> <text style=background-color:#00ff0031>the</text> <text style=background-color:#00ff0001>chimney</text> <text style=background-color:#00ff0003>stack</text> <text style=background-color:#00ff000a>br</text> <text style=background-color:#00ff000a>br</text> <text style=background-color:#00ff0028>we</text> <text style=background-color:#00ff000f>cut</text> <text style=background-color:#00ff001d>to</text> <text style=background-color:#00ff0031>the</text> <text style=background-color:#00ff0017>introduction</text> <text style=background-color:#00ff002f>of</text> <text style=background-color:#00ff0026>a</text> <text style=background-color:#00ff0021>group</text> <text style=background-color:#00ff002f>of</text> <text style=background-color:#00ff0010>men</text> <text style=background-color:#00ff0015>who</text> <text style=background-color:#00ff001e>are</text> <text style=background-color:#00ff001c>on</text> <text style=background-color:#00ff0012>leave</text> <text style=background-color:#00ff001b>from</text> <text style=background-color:#00ff0031>the</text> <text style=background-color:#00ff000f>army</text> <text style=background-color:#00ff003e>listening</text> <text style=background-color:#00ff001d>to</text> <text style=background-color:#00ff000f>groovy</text> <text style=background-color:#00ff0056>music</text> <text style=background-color:#00ff0026>that</text> <text style=background-color:#00ff0031>is</text> <text style=background-color:#00ff001c>coming</text> <text style=background-color:#00ff001e>out</text> <text style=background-color:#00ff002f>of</text> <text style=background-color:#00ff0026>a</text> <text style=background-color:#00ff0032>little</text> <text style=background-color:#00ff0000>dinky</text> <text style=background-color:#00ff002e>boom</text> <text style=background-color:#00ff001f>box</text> <text style=background-color:#00ff0020>while</text> <text style=background-color:#00ff0000>trailing</text> <text style=background-color:#00ff0026>a</text> <text style=background-color:#00ff0067>trailer</text> <text style=background-color:#00ff0012>load</text> <text style=background-color:#00ff002f>of</text> <text style=background-color:#00ff0007>slutty</text> <text style=background-color:#00ff001d>girls</text> <text style=background-color:#00ff0015>who</text> <text style=background-color:#00ff001e>are</text> <text style=background-color:#00ff0000>leaning</text> <text style=background-color:#00ff001e>out</text> <text style=background-color:#00ff002f>of</text> <text style=background-color:#00ff0031>the</text> <text style=background-color:#00ff000c>windows</text> <text style=background-color:#00ff001f>and</text> <text style=background-color:#00ff001a>showing</text> <text style=background-color:#00ff0011>off</text> <text style=background-color:#00ff0016>their</text> <text style=background-color:#00ff0000>chests</text> <text style=background-color:#00ff0013>can</text> <text style=background-color:#00ff0016>someone</text> <text style=background-color:#00ff0018>say</text> <text style=background-color:#00ff008f>zombie</text> <text style=background-color:#00ff001a>food</text> <text style=background-color:#00ff0028>we</text> <text style=background-color:#00ff001c>also</text> <text style=background-color:#00ff0022>have</text> <text style=background-color:#00ff0026>a</text> <text style=background-color:#00ff0028>sub</text> <text style=background-color:#00ff0037>plot</text> <text style=background-color:#00ff000a>involving</text> <text style=background-color:#00ff0026>a</text> <text style=background-color:#00ff0027>girl</text> <text style=background-color:#00ff001f>and</text> <text style=background-color:#00ff0008>her</text> <text style=background-color:#00ff001f>boyfriend</text> <text style=background-color:#00ff0011>driving</text> <text style=background-color:#00ff0026>a</text> <text style=background-color:#00ff000d>car</text> <text style=background-color:#00ff0015>who</text> <text style=background-color:#00ff0019>stop</text> <text style=background-color:#00ff001d>to</text> <text style=background-color:#00ff0000>inspect</text> <text style=background-color:#00ff0026>a</text> <text style=background-color:#00ff0021>group</text> <text style=background-color:#00ff002f>of</text> <text style=background-color:#00ff0032>birds</text> <text style=background-color:#00ff0009>lying</text> <text style=background-color:#00ff001c>on</text> <text style=background-color:#00ff0031>the</text> <text style=background-color:#00ff0014>road</text> <text style=background-color:#00ff0031>the</text> <text style=background-color:#00ff002c>same</text> <text style=background-color:#00ff0032>birds</text> <text style=background-color:#00ff0026>that</text> <text style=background-color:#00ff001d>were</text> <text style=background-color:#00ff0002>infected</text> <text style=background-color:#00ff001d>by</text> <text style=background-color:#00ff0031>the</text> <text style=background-color:#00ff008f>zombie</text> <text style=background-color:#00ff000e>smoke</text> <text style=background-color:#00ff000a>br</text> <text style=background-color:#00ff000a>br</text> <text style=background-color:#00ff0031>the</text> <text style=background-color:#00ff0032>birds</text> <text style=background-color:#00ff0039>attack</text> <text style=background-color:#00ff0031>the</text> <text style=background-color:#00ff001f>boyfriend</text> <text style=background-color:#00ff001f>and</text> <text style=background-color:#00ff0031>the</text> <text style=background-color:#00ff0027>girl</text> <text style=background-color:#00ff0006>drives</text> <text style=background-color:#00ff0011>off</text> <text style=background-color:#00ff001d>to</text> <text style=background-color:#00ff0026>a</text> <text style=background-color:#00ff0001>deserted</text> <text style=background-color:#00ff0006>gas</text> <text style=background-color:#00ff0019>station</text> <text style=background-color:#00ff001d>to</text> <text style=background-color:#00ff0005>seek</text> <text style=background-color:#00ff0011>water</text> <text style=background-color:#00ff002f>this</text> <text style=background-color:#00ff0031>is</text> <text style=background-color:#00ff0035>one</text> <text style=background-color:#00ff002f>of</text> <text style=background-color:#00ff0031>the</text> <text style=background-color:#00ff0022>most</text> <text style=background-color:#00ff000a>incredibly</text> <text style=background-color:#00ff002d>hilarious</text> <text style=background-color:#00ff003b>moments</text> <text style=background-color:#00ff002f>of</text> <text style=background-color:#00ff0031>the</text> <text style=background-color:#00ff008e>movie</text> <text style=background-color:#00ff0015>she</text> <text style=background-color:#00ff0007>walks</text> <text style=background-color:#00ff0010>around</text> <text style=background-color:#00ff002f>this</text> <text style=background-color:#00ff002e>old</text> <text style=background-color:#00ff0016>dirty</text> <text style=background-color:#00ff0003>rusty</text> <text style=background-color:#00ff001f>and</text> <text style=background-color:#00ff001a>obviously</text> <text style=background-color:#00ff0006>abandoned</text> <text style=background-color:#00ff0013>building</text> <text style=background-color:#00ff0021>where</text> <text style=background-color:#00ff0015>she</text> <text style=background-color:#00ff000c>continues</text> <text style=background-color:#00ff001d>to</text> <text style=background-color:#00ff0010>ask</text> <text style=background-color:#00ff0010>aloud</text> <text style=background-color:#00ff001a>hello</text> <text style=background-color:#00ff0031>is</text> <text style=background-color:#00ff0027>there</text> <text style=background-color:#00ff0017>anyone</text> <text style=background-color:#00ff001e>here</text> <text style=background-color:#00ff000e>please</text> <text style=background-color:#00ff001e>i</text> <text style=background-color:#00ff0022>just</text> <text style=background-color:#00ff0019>need</text> <text style=background-color:#00ff0021>some</text> <text style=background-color:#00ff0011>water</text> <text style=background-color:#00ff0015>she</text> <text style=background-color:#00ff000d>encounters</text> <text style=background-color:#00ff0026>a</text> <text style=background-color:#00ff0021>group</text> <text style=background-color:#00ff002f>of</text> <text style=background-color:#00ff004e>zombies</text> <text style=background-color:#00ff0035>one</text> <text style=background-color:#00ff002f>of</text> <text style=background-color:#00ff0026>which</text> <text style=background-color:#00ff0031>is</text> <text style=background-color:#00ff0000>chained</text> <text style=background-color:#00ff001d>to</text> <text style=background-color:#00ff0026>a</text> <text style=background-color:#00ff0013>wall</text> <text style=background-color:#00ff001f>and</text> <text style=background-color:#00ff0031>the</text> <text style=background-color:#00ff001c>other</text> <text style=background-color:#00ff0031>is</text> <text style=background-color:#00ff0001>swinging</text> <text style=background-color:#00ff0026>a</text> <text style=background-color:#00ff000e>machete</text> <text style=background-color:#00ff0021>after</text> <text style=background-color:#00ff0026>a</text> <text style=background-color:#00ff001d>bit</text> <text style=background-color:#00ff002f>of</text> <text style=background-color:#00ff0001>rumbling</text> <text style=background-color:#00ff001f>and</text> <text style=background-color:#00ff0008>tumbling</text> <text style=background-color:#00ff0010>around</text> <text style=background-color:#00ff001c>on</text> <text style=background-color:#00ff0031>the</text> <text style=background-color:#00ff000b>ground</text> <text style=background-color:#00ff0015>she</text> <text style=background-color:#00ff0002>escapes</text> <text style=background-color:#00ff0024>but</text> <text style=background-color:#00ff0021>not</text> <text style=background-color:#00ff0022>before</text> <text style=background-color:#00ff0006>blowing</text> <text style=background-color:#00ff001b>up</text> <text style=background-color:#00ff0031>the</text> <text style=background-color:#00ff0006>gas</text> <text style=background-color:#00ff0019>station</text> <text style=background-color:#00ff0022>with</text> <text style=background-color:#00ff0008>her</text> <text style=background-color:#00ff0002>lighter</text> <text style=background-color:#00ff000a>br</text> <text style=background-color:#00ff000a>br</text> <text style=background-color:#00ff0007>meanwhile</text> <text style=background-color:#00ff0031>the</text> <text style=background-color:#00ff0032>birds</text> <text style=background-color:#00ff0039>attack</text> <text style=background-color:#00ff0031>the</text> <text style=background-color:#00ff0067>trailer</text> <text style=background-color:#00ff0012>load</text> <text style=background-color:#00ff002f>of</text> <text style=background-color:#00ff0003>whores</text> <text style=background-color:#00ff001f>and</text> <text style=background-color:#00ff0035>one</text> <text style=background-color:#00ff0027>girl</text> <text style=background-color:#00ff0013>gets</text> <text style=background-color:#00ff0000>pecked</text> <text style=background-color:#00ff001f>and</text> <text style=background-color:#00ff0002>infected</text> <text style=background-color:#00ff0018>they</text> <text style=background-color:#00ff001f>all</text> <text style=background-color:#00ff0007>pull</text> <text style=background-color:#00ff001b>up</text> <text style=background-color:#00ff001d>to</text> <text style=background-color:#00ff0031>the</text> <text style=background-color:#00ff002c>same</text> <text style=background-color:#00ff0015>motel</text> <text style=background-color:#00ff0021>where</text> <text style=background-color:#00ff0031>the</text> <text style=background-color:#00ff0043>original</text> <text style=background-color:#00ff0003>infection</text> <text style=background-color:#00ff0016>took</text> <text style=background-color:#00ff0019>place</text> <text style=background-color:#00ff001f>and</text> <text style=background-color:#00ff002f>this</text> <text style=background-color:#00ff0031>is</text> <text style=background-color:#00ff0021>where</text> <text style=background-color:#00ff0031>the</text> <text style=background-color:#00ff0022>second</text> <text style=background-color:#00ff0022>most</text> <text style=background-color:#00ff002d>hilarious</text> <text style=background-color:#00ff003b>moment</text> <text style=background-color:#00ff002f>of</text> <text style=background-color:#00ff0031>the</text> <text style=background-color:#00ff0052>film</text> <text style=background-color:#00ff0014>takes</text> <text style=background-color:#00ff0019>place</text> <text style=background-color:#00ff0021>after</text> <text style=background-color:#00ff0026>a</text> <text style=background-color:#00ff0019>matter</text> <text style=background-color:#00ff002f>of</text> <text style=background-color:#00ff001c>hours</text> <text style=background-color:#00ff0026>a</text> <text style=background-color:#00ff002c>day</text> <text style=background-color:#00ff001a>at</text> <text style=background-color:#00ff0031>the</text> <text style=background-color:#00ff0022>most</text> <text style=background-color:#00ff0031>the</text> <text style=background-color:#00ff002c>same</text> <text style=background-color:#00ff0015>motel</text> <text style=background-color:#00ff0031>is</text> <text style=background-color:#00ff0028>now</text> <text style=background-color:#00ff0000>caked</text> <text style=background-color:#00ff001f>in</text> <text style=background-color:#00ff0007>dust</text> <text style=background-color:#00ff0020>has</text> <text style=background-color:#00ff0018>vines</text> <text style=background-color:#00ff000e>growing</text> <text style=background-color:#00ff0012>throughout</text> <text style=background-color:#00ff0025>it</text> <text style=background-color:#00ff001f>and</text> <text style=background-color:#00ff001f>looks</text> <text style=background-color:#00ff0028>like</text> <text style=background-color:#00ff0025>it</text> <text style=background-color:#00ff0020>has</text> <text style=background-color:#00ff0019>been</text> <text style=background-color:#00ff0013>sitting</text> <text style=background-color:#00ff0000>derelict</text> <text style=background-color:#00ff001f>for</text> <text style=background-color:#00ff0026>years</text> <text style=background-color:#00ff001a>anyway</text> <text style=background-color:#00ff0030>what</text> <text style=background-color:#00ff0021>better</text> <text style=background-color:#00ff0019>place</text> <text style=background-color:#00ff001d>to</text> <text style=background-color:#00ff001d>take</text> <text style=background-color:#00ff0001>refuge</text> <text style=background-color:#00ff0026>than</text> <text style=background-color:#00ff002f>this</text> <text style=background-color:#00ff0035>particular</text> <text style=background-color:#00ff0013>building</text> <text style=background-color:#00ff0004>needless</text> <text style=background-color:#00ff001d>to</text> <text style=background-color:#00ff0018>say</text> <text style=background-color:#00ff0031>the</text> <text style=background-color:#00ff0021>group</text> <text style=background-color:#00ff0019>begins</text> <text style=background-color:#00ff001d>to</text> <text style=background-color:#00ff002e>break</text> <text style=background-color:#00ff0015>down</text> <text style=background-color:#00ff001f>as</text> <text style=background-color:#00ff0008>several</text> <text style=background-color:#00ff001a>people</text> <text style=background-color:#00ff0015>walk</text> <text style=background-color:#00ff0011>off</text> <text style=background-color:#00ff0025>together</text> <text style=background-color:#00ff001d>to</text> <text style=background-color:#00ff0015>get</text> <text style=background-color:#00ff0008>themselves</text> <text style=background-color:#00ff0022>stuck</text> <text style=background-color:#00ff001f>in</text> <text style=background-color:#00ff0021>an</text> <text style=background-color:#00ff000a>incredibly</text> <text style=background-color:#00ff0025>stupid</text> <text style=background-color:#00ff0017>situation</text> <text style=background-color:#00ff000a>involving</text> <text style=background-color:#00ff0026>a</text> <text style=background-color:#00ff008f>zombie</text> <text style=background-color:#00ff0039>attack</text> <text style=background-color:#00ff000a>br</text> <text style=background-color:#00ff000a>br</text> <text style=background-color:#00ff0031>the</text> <text style=background-color:#00ff001b>third</text> <text style=background-color:#00ff0022>most</text> <text style=background-color:#00ff002d>hilarious</text> <text style=background-color:#00ff003b>moment</text> <text style=background-color:#00ff0002>concerns</text> <text style=background-color:#00ff0026>a</text> <text style=background-color:#00ff002f>man</text> <text style=background-color:#00ff001f>and</text> <text style=background-color:#00ff0026>a</text> <text style=background-color:#00ff0017>woman</text> <text style=background-color:#00ff0015>who</text> <text style=background-color:#00ff000b>explore</text> <text style=background-color:#00ff0026>a</text> <text style=background-color:#00ff0001>deserted</text> <text style=background-color:#00ff000b>village</text> <text style=background-color:#00ff002f>of</text> <text style=background-color:#00ff0026>which</text> <text style=background-color:#00ff0031>the</text> <text style=background-color:#00ff0017>woman</text> <text style=background-color:#00ff000b>comments</text> <text style=background-color:#00ff002f>this</text> <text style=background-color:#00ff0019>place</text> <text style=background-color:#00ff0031>is</text> <text style=background-color:#00ff0026>a</text> <text style=background-color:#00ff0006>dump</text> <text style=background-color:#00ff0015>she</text> <text style=background-color:#00ff001d>then</text> <text style=background-color:#00ff0000>proceeds</text> <text style=background-color:#00ff001d>to</text> <text style=background-color:#00ff0015>get</text> <text style=background-color:#00ff0003>pushed</text> <text style=background-color:#00ff0011>off</text> <text style=background-color:#00ff0026>a</text> <text style=background-color:#00ff0004>balcony</text> <text style=background-color:#00ff001d>by</text> <text style=background-color:#00ff0026>a</text> <text style=background-color:#00ff008f>zombie</text> <text style=background-color:#00ff001d>into</text> <text style=background-color:#00ff0000>pirahna</text> <text style=background-color:#00ff0003>infested</text> <text style=background-color:#00ff0011>water</text> <text style=background-color:#00ff0021>where</text> <text style=background-color:#00ff0015>she</text> <text style=background-color:#00ff0020>has</text> <text style=background-color:#00ff0008>her</text> <text style=background-color:#00ff0006>legs</text> <text style=background-color:#00ff0001>bitten</text> <text style=background-color:#00ff0011>off</text> <text style=background-color:#00ff001f>and</text> <text style=background-color:#00ff0015>turns</text> <text style=background-color:#00ff001d>into</text> <text style=background-color:#00ff0026>a</text> <text style=background-color:#00ff008f>zombie</text> <text style=background-color:#00ff000c>within</text> <text style=background-color:#00ff000d>seconds</text> <text style=background-color:#00ff0007>meanwhile</text> <text style=background-color:#00ff0008>her</text> <text style=background-color:#00ff0020>friend</text> <text style=background-color:#00ff0009>back</text> <text style=background-color:#00ff001a>at</text> <text style=background-color:#00ff0031>the</text> <text style=background-color:#00ff0015>motel</text> <text style=background-color:#00ff0015>who</text> <text style=background-color:#00ff0016>got</text> <text style=background-color:#00ff0000>pecked</text> <text style=background-color:#00ff001f>and</text> <text style=background-color:#00ff0002>infected</text> <text style=background-color:#00ff001c>hours</text> <text style=background-color:#00ff0017>earlier</text> <text style=background-color:#00ff0031>is</text> <text style=background-color:#00ff001d>still</text> <text style=background-color:#00ff000e>turning</text> <text style=background-color:#00ff001d>into</text> <text style=background-color:#00ff0026>a</text> <text style=background-color:#00ff008f>zombie</text> <text style=background-color:#00ff000a>br</text> <text style=background-color:#00ff000a>br</text> <text style=background-color:#00ff0011>unfortunately</text> <text style=background-color:#00ff0027>there</text> <text style=background-color:#00ff001e>are</text> <text style=background-color:#00ff0022>just</text> <text style=background-color:#00ff001a>too</text> <text style=background-color:#00ff0018>many</text> <text style=background-color:#00ff0000>inconsistencies</text> <text style=background-color:#00ff001f>in</text> <text style=background-color:#00ff002f>this</text> <text style=background-color:#00ff008e>movie</text> <text style=background-color:#00ff0026>that</text> <text style=background-color:#00ff002c>makes</text> <text style=background-color:#00ff002f>this</text> <text style=background-color:#00ff008e>movie</text> <text style=background-color:#00ff0022>just</text> <text style=background-color:#00ff001a>too</text> <text style=background-color:#00ff0025>stupid</text> <text style=background-color:#00ff001f>for</text> <text style=background-color:#00ff002b>words</text> <text style=background-color:#00ff001f>for</text> <text style=background-color:#00ff0024>example</text> <text style=background-color:#00ff0031>the</text> <text style=background-color:#00ff003e>time</text> <text style=background-color:#00ff0002>rate</text> <text style=background-color:#00ff0004>concerning</text> <text style=background-color:#00ff0002>infected</text> <text style=background-color:#00ff001a>people</text> <text style=background-color:#00ff0018>being</text> <text style=background-color:#00ff0000>zombified</text> <text style=background-color:#00ff0000>differs</text> <text style=background-color:#00ff0001>greatly</text> <text style=background-color:#00ff001e>sometimes</text> <text style=background-color:#00ff0025>it</text> <text style=background-color:#00ff0014>takes</text> <text style=background-color:#00ff000d>seconds</text> <text style=background-color:#00ff001c>other</text> <text style=background-color:#00ff0029>times</text> <text style=background-color:#00ff0025>it</text> <text style=background-color:#00ff0014>takes</text> <text style=background-color:#00ff001c>hours</text> <text style=background-color:#00ff0021>some</text> <text style=background-color:#00ff004e>zombies</text> <text style=background-color:#00ff0020>run</text> <text style=background-color:#00ff0009>others</text> <text style=background-color:#00ff001d>drag</text> <text style=background-color:#00ff0016>their</text> <text style=background-color:#00ff0004>feet</text> <text style=background-color:#00ff001f>and</text> <text style=background-color:#00ff0015>walk</text> <text style=background-color:#00ff0025>really</text> <text style=background-color:#00ff001f>slow</text> <text style=background-color:#00ff0021>some</text> <text style=background-color:#00ff0026>even</text> <text style=background-color:#00ff0022>do</text> <text style=background-color:#00ff0010>kung</text> <text style=background-color:#00ff0020>fu</text> <text style=background-color:#00ff001e>moves</text> <text style=background-color:#00ff0020>while</text> <text style=background-color:#00ff0009>others</text> <text style=background-color:#00ff000e>hide</text> <text style=background-color:#00ff000d>under</text> <text style=background-color:#00ff0001>stacks</text> <text style=background-color:#00ff002f>of</text> <text style=background-color:#00ff000e>hay</text> <text style=background-color:#00ff001d>to</text> <text style=background-color:#00ff0023>surprise</text> <text style=background-color:#00ff001a>people</text> <text style=background-color:#00ff0021>some</text> <text style=background-color:#00ff002f>of</text> <text style=background-color:#00ff0031>the</text> <text style=background-color:#00ff004e>zombies</text> <text style=background-color:#00ff0026>even</text> <text style=background-color:#00ff0020>talk</text> <text style=background-color:#00ff0031>the</text> <text style=background-color:#00ff0034>funniest</text> <text style=background-color:#00ff003b>moment</text> <text style=background-color:#00ff002f>of</text> <text style=background-color:#00ff002d>course</text> <text style=background-color:#00ff0031>is</text> <text style=background-color:#00ff0031>the</text> <text style=background-color:#00ff0011>infamous</text> <text style=background-color:#00ff008f>zombie</text> <text style=background-color:#00ff000f>head</text> <text style=background-color:#00ff001f>in</text> <text style=background-color:#00ff0031>the</text> <text style=background-color:#00ff0006>fridge</text> <text style=background-color:#00ff000b>gag</text> <text style=background-color:#00ff0026>which</text> <text style=background-color:#00ff0000>elevates</text> <text style=background-color:#00ff000f>itself</text> <text style=background-color:#00ff001f>in</text> <text style=background-color:#00ff0012>mid</text> <text style=background-color:#00ff0009>air</text> <text style=background-color:#00ff001f>and</text> <text style=background-color:#00ff0009>attacks</text> <text style=background-color:#00ff0026>a</text> <text style=background-color:#00ff0025>stupid</text> <text style=background-color:#00ff002f>man</text> <text style=background-color:#00ff0015>who</text> <text style=background-color:#00ff001c>goes</text> <text style=background-color:#00ff0016>looking</text> <text style=background-color:#00ff001f>for</text> <text style=background-color:#00ff001a>food</text> <text style=background-color:#00ff0000>funnily</text> <text style=background-color:#00ff001d>enough</text> <text style=background-color:#00ff0014>his</text> <text style=background-color:#00ff0017>girlfriend</text> <text style=background-color:#00ff0013>gets</text> <text style=background-color:#00ff0008>her</text> <text style=background-color:#00ff0008>throat</text> <text style=background-color:#00ff0007>torn</text> <text style=background-color:#00ff001e>out</text> <text style=background-color:#00ff001d>by</text> <text style=background-color:#00ff0025>it</text> <text style=background-color:#00ff000e>s</text> <text style=background-color:#00ff0000>headless</text> <text style=background-color:#00ff000e>counter</text> <text style=background-color:#00ff0047>part</text> <text style=background-color:#00ff0014>lmao</text> <text style=background-color:#00ff000a>br</text> <text style=background-color:#00ff000a>br</text> <text style=background-color:#00ff0031>the</text> <text style=background-color:#00ff0023>biggest</text> <text style=background-color:#00ff000e>disappointment</text> <text style=background-color:#00ff001f>for</text> <text style=background-color:#00ff0018>me</text> <text style=background-color:#00ff0023>though</text> <text style=background-color:#00ff0029>was</text> <text style=background-color:#00ff0031>the</text> <text style=background-color:#00ff0011>lack</text> <text style=background-color:#00ff002f>of</text> <text style=background-color:#00ff0069>story</text> <text style=background-color:#00ff002f>lines</text> <text style=background-color:#00ff000a>involving</text> <text style=background-color:#00ff0031>the</text> <text style=background-color:#00ff001a>people</text> <text style=background-color:#00ff0015>who</text> <text style=background-color:#00ff001e>are</text> <text style=background-color:#00ff001f>in</text> <text style=background-color:#00ff0031>fact</text> <text style=background-color:#00ff000e>killed</text> <text style=background-color:#00ff001d>by</text> <text style=background-color:#00ff004e>zombies</text> <text style=background-color:#00ff0028>we</text> <text style=background-color:#00ff002a>never</text> <text style=background-color:#00ff0015>get</text> <text style=background-color:#00ff001d>to</text> <text style=background-color:#00ff0021>see</text> <text style=background-color:#00ff000f>them</text> <text style=background-color:#00ff0016>come</text> <text style=background-color:#00ff0009>back</text> <text style=background-color:#00ff001f>as</text> <text style=background-color:#00ff004e>zombies</text> <text style=background-color:#00ff001f>in</text> <text style=background-color:#00ff0031>fact</text> <text style=background-color:#00ff0031>the</text> <text style=background-color:#00ff001b>only</text> <text style=background-color:#00ff001b>ones</text> <text style=background-color:#00ff0028>we</text> <text style=background-color:#00ff0022>do</text> <text style=background-color:#00ff0021>see</text> <text style=background-color:#00ff0000>zombified</text> <text style=background-color:#00ff001e>are</text> <text style=background-color:#00ff0031>the</text> <text style=background-color:#00ff001b>ones</text> <text style=background-color:#00ff0000>pecked</text> <text style=background-color:#00ff001d>by</text> <text style=background-color:#00ff0031>the</text> <text style=background-color:#00ff0032>birds</text> <text style=background-color:#00ff001f>and</text> <text style=background-color:#00ff0031>the</text> <text style=background-color:#00ff0035>one</text> <text style=background-color:#00ff0027>girl</text> <text style=background-color:#00ff0015>who</text> <text style=background-color:#00ff0013>gets</text> <text style=background-color:#00ff0008>her</text> <text style=background-color:#00ff0006>legs</text> <text style=background-color:#00ff0001>bitten</text> <text style=background-color:#00ff0011>off</text> <text style=background-color:#00ff001c>other</text> <text style=background-color:#00ff0026>than</text> <text style=background-color:#00ff0026>that</text> <text style=background-color:#00ff001e>i</text> <text style=background-color:#00ff0029>was</text> <text style=background-color:#00ff001a>at</text> <text style=background-color:#00ff001c>least</text> <text style=background-color:#00ff0009>expecting</text> <text style=background-color:#00ff0031>the</text> <text style=background-color:#00ff0012>couple</text> <text style=background-color:#00ff0015>who</text> <text style=background-color:#00ff001d>were</text> <text style=background-color:#00ff000e>killed</text> <text style=background-color:#00ff001f>in</text> <text style=background-color:#00ff0031>the</text> <text style=background-color:#00ff000d>kitchen</text> <text style=background-color:#00ff001f>and</text> <text style=background-color:#00ff0021>or</text> <text style=background-color:#00ff0031>the</text> <text style=background-color:#00ff0028>guy</text> <text style=background-color:#00ff0015>who</text> <text style=background-color:#00ff0029>was</text> <text style=background-color:#00ff000e>killed</text> <text style=background-color:#00ff001c>on</text> <text style=background-color:#00ff0031>the</text> <text style=background-color:#00ff000c>bridge</text> <text style=background-color:#00ff001d>to</text> <text style=background-color:#00ff0016>come</text> <text style=background-color:#00ff0009>back</text> <text style=background-color:#00ff001f>as</text> <text style=background-color:#00ff004e>zombies</text> <text style=background-color:#00ff0025>it</text> <text style=background-color:#00ff0031>is</text> <text style=background-color:#00ff001c>also</text> <text style=background-color:#00ff0037>amazing</text> <text style=background-color:#00ff0026>that</text> <text style=background-color:#00ff0018>these</text> <text style=background-color:#00ff004e>zombies</text> <text style=background-color:#00ff001b>only</text> <text style=background-color:#00ff001d>take</text> <text style=background-color:#00ff0026>a</text> <text style=background-color:#00ff0014>few</text> <text style=background-color:#00ff0003>bites</text> <text style=background-color:#00ff001f>and</text> <text style=background-color:#00ff001d>then</text> <text style=background-color:#00ff0019>move</text> <text style=background-color:#00ff001c>on</text> <text style=background-color:#00ff001d>to</text> <text style=background-color:#00ff0016>their</text> <text style=background-color:#00ff002b>next</text> <text style=background-color:#00ff000e>victim</text> <text style=background-color:#00ff000a>br</text> <text style=background-color:#00ff000a>br</text> <text style=background-color:#00ff0031>the</text> <text style=background-color:#00ff0022>most</text> <text style=background-color:#00ff0002>laughable</text> <text style=background-color:#00ff003b>moment</text> <text style=background-color:#00ff0029>was</text> <text style=background-color:#00ff002f>of</text> <text style=background-color:#00ff002d>course</text> <text style=background-color:#00ff0031>the</text> <text style=background-color:#00ff008f>zombie</text> <text style=background-color:#00ff000d>fetus</text> <text style=background-color:#00ff0026>a</text> <text style=background-color:#00ff000c>pregnant</text> <text style=background-color:#00ff0017>woman</text> <text style=background-color:#00ff0015>who</text> <text style=background-color:#00ff0020>has</text> <text style=background-color:#00ff0019>been</text> <text style=background-color:#00ff0002>infected</text> <text style=background-color:#00ff0014>lies</text> <text style=background-color:#00ff001c>on</text> <text style=background-color:#00ff0026>a</text> <text style=background-color:#00ff0017>bed</text> <text style=background-color:#00ff001f>in</text> <text style=background-color:#00ff0026>a</text> <text style=background-color:#00ff000b>hospital</text> <text style=background-color:#00ff0026>a</text> <text style=background-color:#00ff0017>woman</text> <text style=background-color:#00ff0015>who</text> <text style=background-color:#00ff001b>seems</text> <text style=background-color:#00ff001d>to</text> <text style=background-color:#00ff0022>have</text> <text style=background-color:#00ff0026>a</text> <text style=background-color:#00ff001a>lot</text> <text style=background-color:#00ff002f>of</text> <text style=background-color:#00ff000a>medical</text> <text style=background-color:#00ff0016>knowledge</text> <text style=background-color:#00ff000a>tries</text> <text style=background-color:#00ff001d>to</text> <text style=background-color:#00ff0008>deliver</text> <text style=background-color:#00ff0031>the</text> <text style=background-color:#00ff001f>baby</text> <text style=background-color:#00ff001f>and</text> <text style=background-color:#00ff0020>has</text> <text style=background-color:#00ff0008>her</text> <text style=background-color:#00ff001e>face</text> <text style=background-color:#00ff0006>pulled</text> <text style=background-color:#00ff0011>off</text> <text style=background-color:#00ff001d>by</text> <text style=background-color:#00ff0026>a</text> <text style=background-color:#00ff008f>zombie</text> <text style=background-color:#00ff0022>before</text> <text style=background-color:#00ff001f>having</text> <text style=background-color:#00ff0008>her</text> <text style=background-color:#00ff000f>head</text> <text style=background-color:#00ff0003>pushed</text> <text style=background-color:#00ff001d>into</text> <text style=background-color:#00ff0031>the</text> <text style=background-color:#00ff0017>woman</text> <text style=background-color:#00ff000e>s</text> <text style=background-color:#00ff000a>stomach</text> <text style=background-color:#00ff0021>where</text> <text style=background-color:#00ff0026>a</text> <text style=background-color:#00ff000d>hand</text> <text style=background-color:#00ff0002>bursts</text> <text style=background-color:#00ff001e>out</text> <text style=background-color:#00ff001f>and</text> <text style=background-color:#00ff0000>proceeds</text> <text style=background-color:#00ff001d>to</text> <text style=background-color:#00ff001c>rip</text> <text style=background-color:#00ff0031>the</text> <text style=background-color:#00ff0022>rest</text> <text style=background-color:#00ff002f>of</text> <text style=background-color:#00ff0008>her</text> <text style=background-color:#00ff001e>face</text> <text style=background-color:#00ff0011>off</text> <text style=background-color:#00ff0012>timeless</text> <text style=background-color:#00ff000a>br</text> <text style=background-color:#00ff000a>br</text> <text style=background-color:#00ff001f>as</text> <text style=background-color:#00ff0023>usual</text> <text style=background-color:#00ff001f>all</text> <text style=background-color:#00ff0031>the</text> <text style=background-color:#00ff0044>characters</text> <text style=background-color:#00ff001e>are</text> <text style=background-color:#00ff003f>perfect</text> <text style=background-color:#00ff0005>stereotypes</text> <text style=background-color:#00ff002f>of</text> <text style=background-color:#00ff002f>this</text> <text style=background-color:#00ff0017>genre</text> <text style=background-color:#00ff0031>the</text> <text style=background-color:#00ff0000>megalomaniacal</text> <text style=background-color:#00ff0007>military</text> <text style=background-color:#00ff0005>officer</text> <text style=background-color:#00ff0031>the</text> <text style=background-color:#00ff0013>pathetic</text> <text style=background-color:#00ff0013>useless</text> <text style=background-color:#00ff0001>squealing</text> <text style=background-color:#00ff000b>women</text> <text style=background-color:#00ff0015>who</text> <text style=background-color:#00ff002c>scream</text> <text style=background-color:#00ff001d>to</text> <text style=background-color:#00ff0015>get</text> <text style=background-color:#00ff000e>killed</text> <text style=background-color:#00ff0031>the</text> <text style=background-color:#00ff0012>obvious</text> <text style=background-color:#00ff0044>characters</text> <text style=background-color:#00ff0015>who</text> <text style=background-color:#00ff001e>are</text> <text style=background-color:#00ff002c>about</text> <text style=background-color:#00ff001d>to</text> <text style=background-color:#00ff0015>get</text> <text style=background-color:#00ff000e>killed</text> <text style=background-color:#00ff000b>ie</text> <text style=background-color:#00ff0036>watch</text> <text style=background-color:#00ff001f>for</text> <text style=background-color:#00ff0031>the</text> <text style=background-color:#00ff002f>man</text> <text style=background-color:#00ff000b>chasing</text> <text style=background-color:#00ff0026>a</text> <text style=background-color:#00ff000c>chicken</text> <text style=background-color:#00ff001e>i</text> <text style=background-color:#00ff001c>guess</text> <text style=background-color:#00ff002f>this</text> <text style=background-color:#00ff008e>movie</text> <text style=background-color:#00ff0025>really</text> <text style=background-color:#00ff0031>is</text> <text style=background-color:#00ff0026>a</text> <text style=background-color:#00ff0071>comedy</text> <text style=background-color:#00ff0027>there</text> <text style=background-color:#00ff001d>were</text> <text style=background-color:#00ff0018>many</text> <text style=background-color:#00ff0002>laughable</text> <text style=background-color:#00ff0047>scenes</text> <text style=background-color:#00ff0036>such</text> <text style=background-color:#00ff001f>as</text> <text style=background-color:#00ff0031>the</text> <text style=background-color:#00ff0006>shed</text> <text style=background-color:#00ff0026>that</text> <text style=background-color:#00ff0013>gets</text> <text style=background-color:#00ff000c>blown</text> <text style=background-color:#00ff001b>up</text> <text style=background-color:#00ff0022>with</text> <text style=background-color:#00ff0026>a</text> <text style=background-color:#00ff000d>hand</text> <text style=background-color:#00ff0007>grenade</text> <text style=background-color:#00ff001a>obviously</text> <text style=background-color:#00ff0031>the</text> <text style=background-color:#00ff005e>scene</text> <text style=background-color:#00ff0021>where</text> <text style=background-color:#00ff0031>the</text> <text style=background-color:#00ff0029>entire</text> <text style=background-color:#00ff0006>budget</text> <text style=background-color:#00ff0029>was</text> <text style=background-color:#00ff000d>spent</text> <text style=background-color:#00ff001f>and</text> <text style=background-color:#00ff0026>a</text> <text style=background-color:#00ff0001>climatic</text> <text style=background-color:#00ff005e>scene</text> <text style=background-color:#00ff0021>where</text> <text style=background-color:#00ff0026>a</text> <text style=background-color:#00ff002f>man</text> <text style=background-color:#00ff0008>screams</text> <text style=background-color:#00ff001e>i</text> <text style=background-color:#00ff000c>m</text> <text style=background-color:#00ff0001>thirsty</text> <text style=background-color:#00ff0001>thirsty</text> <text style=background-color:#00ff001f>for</text> <text style=background-color:#00ff0019>your</text> <text style=background-color:#00ff0020>blood</text> <text style=background-color:#00ff0031>the</text> <text style=background-color:#00ff000e>costumes</text> <text style=background-color:#00ff001e>are</text> <text style=background-color:#00ff0025>really</text> <text style=background-color:#00ff003e>bad</text> <text style=background-color:#00ff0031>the</text> <text style=background-color:#00ff002c>same</text> <text style=background-color:#00ff004e>zombies</text> <text style=background-color:#00ff0000>reappear</text> <text style=background-color:#00ff0012>throughout</text> <text style=background-color:#00ff0031>the</text> <text style=background-color:#00ff002d>course</text> <text style=background-color:#00ff002f>of</text> <text style=background-color:#00ff0031>the</text> <text style=background-color:#00ff0052>film</text> <text style=background-color:#00ff0009>wearing</text> <text style=background-color:#00ff0031>the</text> <text style=background-color:#00ff002c>same</text> <text style=background-color:#00ff0010>asian</text> <text style=background-color:#00ff0028>like</text> <text style=background-color:#00ff0007>clothing</text> <text style=background-color:#00ff0026>that</text> <text style=background-color:#00ff0021>may</text> <text style=background-color:#00ff0018>be</text> <text style=background-color:#00ff001c>found</text> <text style=background-color:#00ff001f>in</text> <text style=background-color:#00ff0026>a</text> <text style=background-color:#00ff0015>bruce</text> <text style=background-color:#00ff0017>lee</text> <text style=background-color:#00ff0052>film</text> <text style=background-color:#00ff001f>and</text> <text style=background-color:#00ff0036>watch</text> <text style=background-color:#00ff001e>out</text> <text style=background-color:#00ff001f>for</text> <text style=background-color:#00ff0031>the</text> <text style=background-color:#00ff0015>blue</text> <text style=background-color:#00ff000e>s</text> <text style=background-color:#00ff0001>skirt</text> <text style=background-color:#00ff0031>the</text> <text style=background-color:#00ff0027>girl</text> <text style=background-color:#00ff001a>at</text> <text style=background-color:#00ff0031>the</text> <text style=background-color:#00ff0015>motel</text> <text style=background-color:#00ff0031>is</text> <text style=background-color:#00ff0009>wearing</text> <text style=background-color:#00ff0022>when</text> <text style=background-color:#00ff0015>she</text> <text style=background-color:#00ff001f>and</text> <text style=background-color:#00ff0008>her</text> <text style=background-color:#00ff001f>boyfriend</text> <text style=background-color:#00ff000c>bump</text> <text style=background-color:#00ff001d>into</text> <text style=background-color:#00ff0031>the</text> <text style=background-color:#00ff0002>infected</text> <text style=background-color:#00ff002f>man</text> <text style=background-color:#00ff000a>br</text> <text style=background-color:#00ff000a>br</text> <text style=background-color:#00ff0031>the</text> <text style=background-color:#00ff0028>end</text> <text style=background-color:#00ff002f>of</text> <text style=background-color:#00ff0031>the</text> <text style=background-color:#00ff0052>film</text> <text style=background-color:#00ff0008>leaves</text> <text style=background-color:#00ff0011>open</text> <text style=background-color:#00ff0031>the</text> <text style=background-color:#00ff000d>door</text> <text style=background-color:#00ff001f>as</text> <text style=background-color:#00ff0023>usual</text> <text style=background-color:#00ff001f>for</text> <text style=background-color:#00ff0031>the</text> <text style=background-color:#00ff000e>apocalyptic</text> <text style=background-color:#00ff0069>story</text> <text style=background-color:#00ff001a>line</text> <text style=background-color:#00ff0026>a</text> <text style=background-color:#00ff0055>radio</text> <text style=background-color:#00ff0044>dj</text> <text style=background-color:#00ff0015>who</text> <text style=background-color:#00ff0001>narrates</text> <text style=background-color:#00ff0012>throughout</text> <text style=background-color:#00ff0031>the</text> <text style=background-color:#00ff002f>whole</text> <text style=background-color:#00ff008e>movie</text> <text style=background-color:#00ff0015>turns</text> <text style=background-color:#00ff001e>out</text> <text style=background-color:#00ff001d>to</text> <text style=background-color:#00ff0018>be</text> <text style=background-color:#00ff0026>a</text> <text style=background-color:#00ff008f>zombie</text> <text style=background-color:#00ff000b>himself</text> <text style=background-color:#00ff001f>and</text> <text style=background-color:#00ff0001>warns</text> <text style=background-color:#00ff0014>his</text> <text style=background-color:#00ff0004>listeners</text> <text style=background-color:#00ff002c>about</text> <text style=background-color:#00ff0031>the</text> <text style=background-color:#00ff0025>beginning</text> <text style=background-color:#00ff002f>of</text> <text style=background-color:#00ff0031>the</text> <text style=background-color:#00ff0028>end</text> <text style=background-color:#00ff0020>while</text> <text style=background-color:#00ff0031>the</text> <text style=background-color:#00ff001d>two</text> <text style=background-color:#00ff0002>survivors</text> <text style=background-color:#00ff001d>take</text> <text style=background-color:#00ff0011>off</text> <text style=background-color:#00ff001f>in</text> <text style=background-color:#00ff0026>a</text> <text style=background-color:#00ff0007>helicopter</text> <text style=background-color:#00ff0011>hardly</text> <text style=background-color:#00ff0046>dawn</text> <text style=background-color:#00ff002f>of</text> <text style=background-color:#00ff0031>the</text> <text style=background-color:#00ff0042>dead</text> <text style=background-color:#00ff001d>material</text> <text style=background-color:#00ff0015>if</text> <text style=background-color:#00ff001a>you</text> <text style=background-color:#00ff0010>ask</text> <text style=background-color:#00ff0018>me</text> <text style=background-color:#00ff000a>br</text> <text style=background-color:#00ff000a>br</text> <text style=background-color:#00ff000a>regardless</text> <text style=background-color:#00ff002f>this</text> <text style=background-color:#00ff008e>movie</text> <text style=background-color:#00ff001e>does</text> <text style=background-color:#00ff0008>deliver</text> <text style=background-color:#00ff0018>many</text> <text style=background-color:#00ff0007>laughs</text> <text style=background-color:#00ff0031>the</text> <text style=background-color:#00ff0001>gore</text> <text style=background-color:#00ff0031>is</text> <text style=background-color:#00ff0003>minimal</text> <text style=background-color:#00ff001f>and</text> <text style=background-color:#00ff0030>what</text> <text style=background-color:#00ff0001>gore</text> <text style=background-color:#00ff0027>there</text> <text style=background-color:#00ff0031>is</text> <text style=background-color:#00ff0025>it</text> <text style=background-color:#00ff0031>is</text> <text style=background-color:#00ff001a>very</text> <text style=background-color:#00ff0000>unconvincing</text> <text style=background-color:#00ff001f>let</text> <text style=background-color:#00ff0034>alone</text> <text style=background-color:#00ff0000>unimaginative</text> <text style=background-color:#00ff0031>the</text> <text style=background-color:#00ff0023>usual</text> <text style=background-color:#00ff004c>mix</text> <text style=background-color:#00ff002f>of</text> <text style=background-color:#00ff001f>black</text> <text style=background-color:#00ff0020>blood</text> <text style=background-color:#00ff0003>thick</text> <text style=background-color:#00ff0016>green</text> <text style=background-color:#00ff0003>goo</text> <text style=background-color:#00ff0000>oozing</text> <text style=background-color:#00ff001e>out</text> <text style=background-color:#00ff002f>of</text> <text style=background-color:#00ff0002>weeping</text> <text style=background-color:#00ff0000>sores</text> <text style=background-color:#00ff001f>and</text> <text style=background-color:#00ff008f>zombie</text> <text style=background-color:#00ff0021>make</text> <text style=background-color:#00ff001b>up</text> <text style=background-color:#00ff0006>consisting</text> <text style=background-color:#00ff002f>of</text> <text style=background-color:#00ff0016>green</text> <text style=background-color:#00ff0006>moss</text> <text style=background-color:#00ff0005>zombi</text> <text style=background-color:#00ff002c>makes</text> <text style=background-color:#00ff001f>for</text> <text style=background-color:#00ff0026>a</text> <text style=background-color:#00ff002a>good</text> <text style=background-color:#00ff0002>rental</text> <text style=background-color:#00ff001f>for</text> <text style=background-color:#00ff0026>a</text> <text style=background-color:#00ff0019>sleep</text> <text style=background-color:#00ff001d>over</text> <text style=background-color:#00ff0030>party</text> <text style=background-color:#00ff0021>or</text> <text style=background-color:#00ff0026>a</text> <text style=background-color:#00ff0032>night</text> <text style=background-color:#00ff002f>of</text> <text style=background-color:#00ff0012>beer</text> <text style=background-color:#00ff001f>and</text> <text style=background-color:#00ff000b>popcorn</text> <text style=background-color:#00ff001c>other</text> <text style=background-color:#00ff0026>than</text> <text style=background-color:#00ff0026>that</text> <text style=background-color:#00ff00ff>horror</text> <text style=background-color:#00ff001f>fans</text> <text style=background-color:#00ff001a>should</text> <text style=background-color:#00ff0014>stay</text> <text style=background-color:#00ff0014>away</text> <text style=background-color:#00ff000a>br</text> <text style=background-color:#00ff000a>br</text> <text style=background-color:#00ff001e>out</text> <text style=background-color:#00ff002f>of</text> <br> <text style=background-color:#00ff0026>this</text> <text style=background-color:#00ff0086>movie</text> <text style=background-color:#00ff0006>deserved</text> <text style=background-color:#00ff001e>a</text> <text style=background-color:#00ff0013>working</text> <text style=background-color:#00ff0016>over</text> <text style=background-color:#00ff0016>on</text> <text style=background-color:#00ff0022>mystery</text> <text style=background-color:#00ff003c>science</text> <text style=background-color:#00ff0025>theater</text> <text style=background-color:#00ff001e>even</text> <text style=background-color:#00ff001c>though</text> <text style=background-color:#00ff001e>it</text> <text style=background-color:#00ff0019>has</text> <text style=background-color:#00ff0021>nothing</text> <text style=background-color:#00ff001a>whatever</text> <text style=background-color:#00ff0017>to</text> <text style=background-color:#00ff001a>do</text> <text style=background-color:#00ff001b>with</text> <text style=background-color:#00ff002b>king</text> <text style=background-color:#00ff0001>solomon</text> <text style=background-color:#00ff001e>it</text> <text style=background-color:#00ff000a>s</text> <text style=background-color:#00ff0009>worth</text> <text style=background-color:#00ff001e>a</text> <text style=background-color:#00ff002e>watch</text> <text style=background-color:#00ff001e>because</text> <text style=background-color:#00ff001e>it</text> <text style=background-color:#00ff0028>is</text> <text style=background-color:#00ff001a>an</text> <text style=background-color:#00ff0001>unintentional</text> <text style=background-color:#00ff0018>laugh</text> <text style=background-color:#00ff0009>riot</text> <text style=background-color:#00ff001d>really</text> <text style=background-color:#00ff001e>it</text> <text style=background-color:#00ff000a>s</text> <text style=background-color:#00ff0018>worse</text> <text style=background-color:#00ff001e>than</text> <text style=background-color:#00ff0009>destroy</text> <text style=background-color:#00ff0018>all</text> <text style=background-color:#00ff002e>monsters</text> <text style=background-color:#00ff0012>be</text> <text style=background-color:#00ff0016>sure</text> <text style=background-color:#00ff0017>to</text> <text style=background-color:#00ff0015>check</text> <text style=background-color:#00ff0017>out</text> <text style=background-color:#00ff0028>the</text> <text style=background-color:#00ff0004>following</text> <text style=background-color:#00ff0028>the</text> <text style=background-color:#00ff0014>cheesy</text> <text style=background-color:#00ff0000>medallion</text> <text style=background-color:#00ff0018>looks</text> <text style=background-color:#00ff0020>like</text> <text style=background-color:#00ff0028>the</text> <text style=background-color:#00ff0000>shriners</text> <text style=background-color:#00ff001a>have</text> <text style=background-color:#00ff0013>been</text> <text style=background-color:#00ff0017>here</text> <text style=background-color:#00ff0028>the</text> <text style=background-color:#00ff0013>obviously</text> <text style=background-color:#00ff0000>polyester</text> <text style=background-color:#00ff0000>norfolk</text> <text style=background-color:#00ff0002>jacket</text> <text style=background-color:#00ff0016>on</text> <text style=background-color:#00ff0003>allan</text> <text style=background-color:#00ff0000>quatermain</text> <text style=background-color:#00ff0012>david</text> <text style=background-color:#00ff0000>macallum</text> <text style=background-color:#00ff000a>s</text> <text style=background-color:#00ff0009>badly</text> <text style=background-color:#00ff0010>done</text> <text style=background-color:#00ff0001>stutter</text> <text style=background-color:#00ff001e>which</text> <text style=background-color:#00ff0017>does</text> <text style=background-color:#00ff000f>draw</text> <text style=background-color:#00ff0006>attention</text> <text style=background-color:#00ff000e>away</text> <text style=background-color:#00ff0014>from</text> <text style=background-color:#00ff000f>his</text> <text style=background-color:#00ff001e>even</text> <text style=background-color:#00ff0018>worse</text> <text style=background-color:#00ff001a>acting</text> <text style=background-color:#00ff0028>the</text> <text style=background-color:#00ff0006>incredibly</text> <text style=background-color:#00ff0034>bad</text> <text style=background-color:#00ff000c>process</text> <text style=background-color:#00ff001b>work</text> <text style=background-color:#00ff0016>on</text> <text style=background-color:#00ff0018>all</text> <text style=background-color:#00ff0028>the</text> <text style=background-color:#00ff002e>monsters</text> <text style=background-color:#00ff0028>the</text> <text style=background-color:#00ff002e>monsters</text> <text style=background-color:#00ff0005>themselves</text> <text style=background-color:#00ff0028>the</text> <text style=background-color:#00ff0009>hand</text> <text style=background-color:#00ff000f>puppet</text> <text style=background-color:#00ff001e>which</text> <text style=background-color:#00ff0000>menaces</text> <text style=background-color:#00ff0028>the</text> <text style=background-color:#00ff0029>little</text> <text style=background-color:#00ff001f>girl</text> <text style=background-color:#00ff0028>the</text> <text style=background-color:#00ff000b>giant</text> <text style=background-color:#00ff000e>snake</text> <text style=background-color:#00ff001f>that</text> <text style=background-color:#00ff0000>menaces</text> <text style=background-color:#00ff0000>macallum</text> <text style=background-color:#00ff0019>while</text> <text style=background-color:#00ff0018>he</text> <text style=background-color:#00ff0000>sinks</text> <text style=background-color:#00ff0018>in</text> <text style=background-color:#00ff0003>oatmeal</text> <text style=background-color:#00ff0028>the</text> <text style=background-color:#00ff001c>red</text> <text style=background-color:#00ff0000>lighted</text> <text style=background-color:#00ff000a>eyes</text> <text style=background-color:#00ff0016>on</text> <text style=background-color:#00ff0028>the</text> <text style=background-color:#00ff0000>motorized</text> <text style=background-color:#00ff0000>crabs</text> <text style=background-color:#00ff0028>the</text> <text style=background-color:#00ff0006>amazingly</text> <text style=background-color:#00ff0025>hilarious</text> <text style=background-color:#00ff000a>boat</text> <text style=background-color:#00ff002b>oh</text> <text style=background-color:#00ff0018>brother</text> <text style=background-color:#00ff001e>which</text> <text style=background-color:#00ff0007>appears</text> <text style=background-color:#00ff0017>to</text> <text style=background-color:#00ff0012>be</text> <text style=background-color:#00ff0022>made</text> <text style=background-color:#00ff0027>of</text> <text style=background-color:#00ff0000>plywood</text> <text style=background-color:#00ff0000>mounted</text> <text style=background-color:#00ff0016>on</text> <text style=background-color:#00ff001a>an</text> <text style=background-color:#00ff0026>old</text> <text style=background-color:#00ff0007>sand</text> <text style=background-color:#00ff0000>dredge</text> <text style=background-color:#00ff0018>and</text> <text style=background-color:#00ff0018>looks</text> <text style=background-color:#00ff0020>like</text> <text style=background-color:#00ff001e>a</text> <text style=background-color:#00ff0001>leftover</text> <text style=background-color:#00ff0014>from</text> <text style=background-color:#00ff001e>a</text> <text style=background-color:#00ff0009>jr</text> <text style=background-color:#00ff0001>sr</text> <text style=background-color:#00ff000f>prom</text> <text style=background-color:#00ff0003>voyage</text> <text style=background-color:#00ff0016>into</text> <text style=background-color:#00ff0028>the</text> <text style=background-color:#00ff001f>future</text> <text style=background-color:#00ff001b>with</text> <text style=background-color:#00ff0028>the</text> <text style=background-color:#00ff002c>class</text> <text style=background-color:#00ff0027>of</text> <text style=background-color:#00ff0028>the</text> <text style=background-color:#00ff0000>phoenician</text> <text style=background-color:#00ff0014>city</text> <text style=background-color:#00ff0019>where</text> <text style=background-color:#00ff0012>they</text> <text style=background-color:#00ff0007>wear</text> <text style=background-color:#00ff0011>roman</text> <text style=background-color:#00ff0007>imperial</text> <text style=background-color:#00ff0005>armor</text> <text style=background-color:#00ff001c>but</text> <text style=background-color:#00ff001e>which</text> <text style=background-color:#00ff0000>inexplicably</text> <text style=background-color:#00ff0019>has</text> <text style=background-color:#00ff0001>egyptian</text> <text style=background-color:#00ff0000>hieroglyphic</text> <text style=background-color:#00ff0000>inscriptions</text> <text style=background-color:#00ff0028>the</text> <text style=background-color:#00ff0000>phoenicians</text> <text style=background-color:#00ff0012>invented</text> <text style=background-color:#00ff0028>the</text> <text style=background-color:#00ff000e>alphabet</text> <text style=background-color:#00ff0010>come</text> <text style=background-color:#00ff0016>on</text> <text style=background-color:#00ff0018>and</text> <text style=background-color:#00ff0039>worst</text> <text style=background-color:#00ff0027>of</text> <text style=background-color:#00ff0018>all</text> <text style=background-color:#00ff0000>macallum</text> <text style=background-color:#00ff0018>and</text> <text style=background-color:#00ff0000>ekland</text> <text style=background-color:#00ff001b>with</text> <text style=background-color:#00ff0005>her</text> <text style=background-color:#00ff000b>fright</text> <text style=background-color:#00ff0003>wig</text> <text style=background-color:#00ff002c>playing</text> <text style=background-color:#00ff0000>smoochy</text> <text style=background-color:#00ff0017>face</text> <text style=background-color:#00ff002b>oh</text> <text style=background-color:#00ff0028>the</text> <text style=background-color:#00ff00ff>horror</text> <text style=background-color:#00ff0028>the</text> <text style=background-color:#00ff0038>best</text> <text style=background-color:#00ff000d>parts</text> <text style=background-color:#00ff0017>are</text> <text style=background-color:#00ff001f>that</text> <text style=background-color:#00ff0028>the</text> <text style=background-color:#00ff0000>intrepid</text> <text style=background-color:#00ff0003>explorers</text> <text style=background-color:#00ff0004>manage</text> <text style=background-color:#00ff0017>to</text> <text style=background-color:#00ff000a>lose</text> <text style=background-color:#00ff0028>the</text> <text style=background-color:#00ff0057>comic</text> <text style=background-color:#00ff0000>frenchman</text> <text style=background-color:#00ff0018>and</text> <text style=background-color:#00ff0028>the</text> <text style=background-color:#00ff000d>african</text> <text style=background-color:#00ff0020>guy</text> <text style=background-color:#00ff0000>snuffleupagus</text> <text style=background-color:#00ff0019>or</text> <text style=background-color:#00ff001a>whatever</text> <text style=background-color:#00ff0000>evidently</text> <text style=background-color:#00ff0009>chose</text> <text style=background-color:#00ff0017>to</text> <text style=background-color:#00ff000d>die</text> <text style=background-color:#00ff0000>heroically</text> <text style=background-color:#00ff000d>rather</text> <text style=background-color:#00ff001e>than</text> <text style=background-color:#00ff0012>be</text> <text style=background-color:#00ff0018>in</text> <text style=background-color:#00ff001a>any</text> <text style=background-color:#00ff0013>more</text> <text style=background-color:#00ff003e>scenes</text> <br> <text style=background-color:#00ff0012>i</text> <text style=background-color:#00ff002d>watched</text> <text style=background-color:#00ff001f>this</text> <text style=background-color:#00ff007e>movie</text> <text style=background-color:#00ff0022>last</text> <text style=background-color:#00ff0022>night</text> <text style=background-color:#00ff0013>and</text> <text style=background-color:#00ff0001>hoped</text> <text style=background-color:#00ff0013>for</text> <text style=background-color:#00ff0021>the</text> <text style=background-color:#00ff0030>best</text> <text style=background-color:#00ff0014>after</text> <text style=background-color:#00ff0035>watching</text> <text style=background-color:#00ff0013>all</text> <text style=background-color:#00ff0021>the</text> <text style=background-color:#00ff001b>cool</text> <text style=background-color:#00ff000f>trailers</text> <text style=background-color:#00ff0018>even</text> <text style=background-color:#00ff0021>the</text> <text style=background-color:#00ff0034>cover</text> <text style=background-color:#00ff0020>of</text> <text style=background-color:#00ff0021>the</text> <text style=background-color:#00ff0018>dvd</text> <text style=background-color:#00ff0007>looked</text> <text style=background-color:#00ff001c>good</text> <text style=background-color:#00ff0012>as</text> <text style=background-color:#00ff000c>soon</text> <text style=background-color:#00ff0012>as</text> <text style=background-color:#00ff0012>i</text> <text style=background-color:#00ff0016>started</text> <text style=background-color:#00ff0035>watching</text> <text style=background-color:#00ff0018>it</text> <text style=background-color:#00ff0012>i</text> <text style=background-color:#00ff001b>was</text> <text style=background-color:#00ff0015>thinking</text> <text style=background-color:#00ff001a>like</text> <text style=background-color:#00ff0003>others</text> <text style=background-color:#00ff0023>oh</text> <text style=background-color:#00ff0013>my</text> <text style=background-color:#00ff0019>god</text> <text style=background-color:#00ff000e>whats</text> <text style=background-color:#00ff001f>this</text> <text style=background-color:#00ff0019>there</text> <text style=background-color:#00ff0011>were</text> <text style=background-color:#00ff0014>some</text> <text style=background-color:#00ff002a>moments</text> <text style=background-color:#00ff0018>that</text> <text style=background-color:#00ff0011>were</text> <text style=background-color:#00ff0018>a</text> <text style=background-color:#00ff0011>bit</text> <text style=background-color:#00ff0021>creepy</text> <text style=background-color:#00ff0016>but</text> <text style=background-color:#00ff0011>then</text> <text style=background-color:#00ff0021>the</text> <text style=background-color:#00ff0020>mood</text> <text style=background-color:#00ff001b>was</text> <text style=background-color:#00ff0015>ruined</text> <text style=background-color:#00ff0011>by</text> <text style=background-color:#00ff0017>stupid</text> <text style=background-color:#00ff0044>music</text> <text style=background-color:#00ff0019>there</text> <text style=background-color:#00ff001b>was</text> <text style=background-color:#00ff0049>rock</text> <text style=background-color:#00ff0013>and</text> <text style=background-color:#00ff000d>opera</text> <text style=background-color:#00ff001f>during</text> <text style=background-color:#00ff0020>what</text> <text style=background-color:#00ff0021>is</text> <text style=background-color:#00ff000e>supposed</text> <text style=background-color:#00ff0011>to</text> <text style=background-color:#00ff000d>be</text> <text style=background-color:#00ff0005>suspenseful</text> <text style=background-color:#00ff0036>scenes</text> <text style=background-color:#00ff0018>that</text> <text style=background-color:#00ff0015>right</text> <text style=background-color:#00ff0019>there</text> <text style=background-color:#00ff0015>ruined</text> <text style=background-color:#00ff0018>it</text> <text style=background-color:#00ff0013>for</text> <text style=background-color:#00ff000d>me</text> <text style=background-color:#00ff0013>and</text> <text style=background-color:#00ff0012>i</text> <text style=background-color:#00ff001b>was</text> <text style=background-color:#00ff0002>shaking</text> <text style=background-color:#00ff0013>my</text> <text style=background-color:#00ff0007>head</text> <text style=background-color:#00ff0015>thinking</text> <text style=background-color:#00ff0013>damn</text> <text style=background-color:#00ff0012>i</text> <text style=background-color:#00ff0008>wasted</text> <text style=background-color:#00ff0006>money</text> <text style=background-color:#00ff0018>again</text> <text style=background-color:#00ff0010>on</text> <text style=background-color:#00ff0018>a</text> <text style=background-color:#00ff0000>rental</text> <text style=background-color:#00ff0013>and</text> <text style=background-color:#00ff001b>was</text> <text style=background-color:#00ff0000>deceived</text> <text style=background-color:#00ff0011>by</text> <text style=background-color:#00ff0021>the</text> <text style=background-color:#00ff0034>cover</text> <text style=background-color:#00ff0023>art</text> <text style=background-color:#00ff001a>nothing</text> <text style=background-color:#00ff0004>against</text> <text style=background-color:#00ff0021>the</text> <text style=background-color:#00ff0044>music</text> <text style=background-color:#00ff0007>itself</text> <text style=background-color:#00ff0018>it</text> <text style=background-color:#00ff001b>was</text> <text style=background-color:#00ff0015>just</text> <text style=background-color:#00ff0012>in</text> <text style=background-color:#00ff0021>the</text> <text style=background-color:#00ff0010>wrong</text> <text style=background-color:#00ff0009>parts</text> <text style=background-color:#00ff0020>of</text> <text style=background-color:#00ff0021>the</text> <text style=background-color:#00ff007e>movie</text> <text style=background-color:#00ff0004>whoever</text> <text style=background-color:#00ff0005>edited</text> <text style=background-color:#00ff0021>the</text> <text style=background-color:#00ff0040>film</text> <text style=background-color:#00ff0013>has</text> <text style=background-color:#00ff0016>no</text> <text style=background-color:#00ff0020>clue</text> <text style=background-color:#00ff0020>what</text> <text style=background-color:#00ff000d>they</text> <text style=background-color:#00ff0012>are</text> <text style=background-color:#00ff0011>doing</text> <text style=background-color:#00ff0021>the</text> <text style=background-color:#00ff0034>cover</text> <text style=background-color:#00ff000a>showed</text> <text style=background-color:#00ff0003>lightning</text> <text style=background-color:#00ff0000>implying</text> <text style=background-color:#00ff000d>they</text> <text style=background-color:#00ff0011>were</text> <text style=background-color:#00ff0008>caught</text> <text style=background-color:#00ff0012>in</text> <text style=background-color:#00ff0018>a</text> <text style=background-color:#00ff0011>storm</text> <text style=background-color:#00ff000f>at</text> <text style=background-color:#00ff000d>sea</text> <text style=background-color:#00ff0018>that</text> <text style=background-color:#00ff000c>would</text> <text style=background-color:#00ff0015>have</text> <text style=background-color:#00ff000e>been</text> <text style=background-color:#00ff000e>more</text> <text style=background-color:#00ff0020>interesting</text> <text style=background-color:#00ff0016>but</text> <text style=background-color:#00ff0018>it</text> <text style=background-color:#00ff0000>didn</text> <text style=background-color:#00ff0005>t</text> <text style=background-color:#00ff0014>happen</text> <text style=background-color:#00ff0021>the</text> <text style=background-color:#00ff0014>acting</text> <text style=background-color:#00ff0000>wasn</text> <text style=background-color:#00ff0005>t</text> <text style=background-color:#00ff0021>the</text> <text style=background-color:#00ff0031>worst</text> <text style=background-color:#00ff0012>i</text> <text style=background-color:#00ff0000>ve</text> <text style=background-color:#00ff0030>ever</text> <text style=background-color:#00ff0018>seen</text> <text style=background-color:#00ff0008>considering</text> <text style=background-color:#00ff000d>they</text> <text style=background-color:#00ff0012>are</text> <text style=background-color:#00ff0013>all</text> <text style=background-color:#00ff000b>unknown</text> <text style=background-color:#00ff0013>and</text> <text style=background-color:#00ff001f>this</text> <text style=background-color:#00ff0021>is</text> <text style=background-color:#00ff0009>obvious</text> <text style=background-color:#00ff000c>their</text> <text style=background-color:#00ff0021>first</text> <text style=background-color:#00ff0040>film</text> <text style=background-color:#00ff0016>another</text> <text style=background-color:#00ff0015>reason</text> <text style=background-color:#00ff0012>i</text> <text style=background-color:#00ff001b>was</text> <text style=background-color:#00ff0007>disappointed</text> <text style=background-color:#00ff001b>was</text> <text style=background-color:#00ff0021>the</text> <text style=background-color:#00ff0026>plot</text> <text style=background-color:#00ff001b>made</text> <text style=background-color:#00ff0016>no</text> <text style=background-color:#00ff0013>sense</text> <text style=background-color:#00ff0012>in</text> <text style=background-color:#00ff0021>the</text> <text style=background-color:#00ff0017>beginning</text> <text style=background-color:#00ff0007>men</text> <text style=background-color:#00ff000d>saw</text> <text style=background-color:#00ff0013>all</text> <text style=background-color:#00ff0020>of</text> <text style=background-color:#00ff0021>the</text> <text style=background-color:#00ff0014>teens</text> <text style=background-color:#00ff000b>get</text> <text style=background-color:#00ff0010>on</text> <text style=background-color:#00ff0018>a</text> <text style=background-color:#00ff0006>boat</text> <text style=background-color:#00ff0011>then</text> <text style=background-color:#00ff000f>at</text> <text style=background-color:#00ff0021>the</text> <text style=background-color:#00ff001a>end</text> <text style=background-color:#00ff0003>supposedly</text> <text style=background-color:#00ff0010>only</text> <text style=background-color:#00ff0019>girl</text> <text style=background-color:#00ff0009>existed</text> <text style=background-color:#00ff0013>and</text> <text style=background-color:#00ff0021>the</text> <text style=background-color:#00ff0003>others</text> <text style=background-color:#00ff0011>were</text> <text style=background-color:#00ff000e>either</text> <text style=background-color:#00ff0003>her</text> <text style=background-color:#00ff0007>imaginary</text> <text style=background-color:#00ff0019>friends</text> <text style=background-color:#00ff0014>or</text> <text style=background-color:#00ff0011>were</text> <text style=background-color:#00ff0020>ghosts</text> <text style=background-color:#00ff0012>i</text> <text style=background-color:#00ff0005>m</text> <text style=background-color:#00ff0014>not</text> <text style=background-color:#00ff0011>sure</text> <text style=background-color:#00ff0018>because</text> <text style=background-color:#00ff0018>it</text> <text style=background-color:#00ff001b>was</text> <text style=background-color:#00ff000f>very</text> <text style=background-color:#00ff0006>badly</text> <text style=background-color:#00ff0000>portrayed</text> <text style=background-color:#00ff0000>whytefox</text> <text style=background-color:#00ff000b>who</text> <text style=background-color:#00ff0014>wrote</text> <text style=background-color:#00ff0018>a</text> <text style=background-color:#00ff0004>comment</text> <text style=background-color:#00ff0010>on</text> <text style=background-color:#00ff0011>here</text> <text style=background-color:#00ff0001>claims</text> <text style=background-color:#00ff001f>this</text> <text style=background-color:#00ff0021>is</text> <text style=background-color:#00ff0018>a</text> <text style=background-color:#00ff0029>true</text> <text style=background-color:#00ff0057>story</text> <text style=background-color:#00ff0013>he</text> <text style=background-color:#00ff0014>or</text> <text style=background-color:#00ff000b>she</text> <text style=background-color:#00ff0002>believes</text> <text style=background-color:#00ff0012>in</text> <text style=background-color:#00ff0020>ghosts</text> <text style=background-color:#00ff0013>and</text> <text style=background-color:#00ff0002>spirits</text> <text style=background-color:#00ff0013>and</text> <text style=background-color:#00ff0006>says</text> <text style=background-color:#00ff0019>there</text> <text style=background-color:#00ff0021>is</text> <text style=background-color:#00ff0018>a</text> <text style=background-color:#00ff0018>haunted</text> <text style=background-color:#00ff0006>boat</text> <text style=background-color:#00ff0012>in</text> <text style=background-color:#00ff0021>the</text> <text style=background-color:#00ff0005>area</text> <text style=background-color:#00ff001f>this</text> <text style=background-color:#00ff007e>movie</text> <text style=background-color:#00ff001b>was</text> <text style=background-color:#00ff000a>filmed</text> <text style=background-color:#00ff0019>there</text> <text style=background-color:#00ff001b>was</text> <text style=background-color:#00ff0016>no</text> <text style=background-color:#00ff0003>mention</text> <text style=background-color:#00ff0012>in</text> <text style=background-color:#00ff001f>this</text> <text style=background-color:#00ff007e>movie</text> <text style=background-color:#00ff001d>about</text> <text style=background-color:#00ff0018>it</text> <text style=background-color:#00ff000d>being</text> <text style=background-color:#00ff0018>a</text> <text style=background-color:#00ff0029>true</text> <text style=background-color:#00ff0057>story</text> <text style=background-color:#00ff0012>i</text> <text style=background-color:#00ff0015>have</text> <text style=background-color:#00ff001b>never</text> <text style=background-color:#00ff0006>experienced</text> <text style=background-color:#00ff0014>something</text> <text style=background-color:#00ff001a>like</text> <text style=background-color:#00ff0018>that</text> <text style=background-color:#00ff0003>personally</text> <text style=background-color:#00ff0016>but</text> <text style=background-color:#00ff0017>am</text> <text style=background-color:#00ff0014>not</text> <text style=background-color:#00ff000b>saying</text> <text style=background-color:#00ff0018>it</text> <text style=background-color:#00ff0006>s</text> <text style=background-color:#00ff0015>impossible</text> <text style=background-color:#00ff0012>i</text> <text style=background-color:#00ff0010>guess</text> <text style=background-color:#00ff000b>if</text> <text style=background-color:#00ff000c>anyone</text> <text style=background-color:#00ff0021>is</text> <text style=background-color:#00ff0003>interested</text> <text style=background-color:#00ff0012>in</text> <text style=background-color:#00ff0000>renting</text> <text style=background-color:#00ff001f>this</text> <text style=background-color:#00ff007e>movie</text> <text style=background-color:#00ff0015>do</text> <text style=background-color:#00ff0018>it</text> <text style=background-color:#00ff000f>at</text> <text style=background-color:#00ff000e>your</text> <text style=background-color:#00ff0014>own</text> <text style=background-color:#00ff0002>risk</text> <text style=background-color:#00ff000b>if</text> <text style=background-color:#00ff000f>you</text> <text style=background-color:#00ff001a>like</text> <text style=background-color:#00ff0005>amateur</text> <text style=background-color:#00ff000b>student</text> <text style=background-color:#00ff00ff>horror</text> <text style=background-color:#00ff0033>films</text> <text style=background-color:#00ff000f>you</text> <text style=background-color:#00ff0014>may</text> <text style=background-color:#00ff001a>like</text> <text style=background-color:#00ff001f>this</text>"
      ],
      "text/plain": [
       "<IPython.core.display.HTML object>"
      ]
     },
     "execution_count": 74,
     "metadata": {},
     "output_type": "execute_result"
    }
   ],
   "source": [
    "imdb_task.print_coloured_text (np.array (imdb_task.colour_attention (text_tag='train', attention_weights = word_similarities)) [ordering [0:10]])"
   ]
  },
  {
   "cell_type": "markdown",
   "metadata": {},
   "source": [
    "#### Predict sentiment using the word embeddings"
   ]
  },
  {
   "cell_type": "code",
   "execution_count": 122,
   "metadata": {},
   "outputs": [
    {
     "name": "stdout",
     "output_type": "stream",
     "text": [
      "Embedding 5000 sentences\n",
      "0\n",
      "1000\n",
      "2000\n",
      "3000\n",
      "4000\n",
      "Embedding 2000 sentences\n",
      "0\n",
      "1000\n"
     ]
    }
   ],
   "source": [
    "imdb_task.word_to_sentence_embedding(text_tag='train', pretrained_model_tag='glove-twitter-25')\n",
    "imdb_task.word_to_sentence_embedding(text_tag='test', pretrained_model_tag='glove-twitter-25')"
   ]
  },
  {
   "cell_type": "code",
   "execution_count": 123,
   "metadata": {},
   "outputs": [
    {
     "data": {
      "text/plain": [
       "(5000, 25)"
      ]
     },
     "execution_count": 123,
     "metadata": {},
     "output_type": "execute_result"
    }
   ],
   "source": [
    "imdb_task.sent_embeds['train']['glove-twitter-25'].shape"
   ]
  },
  {
   "cell_type": "code",
   "execution_count": 124,
   "metadata": {},
   "outputs": [],
   "source": [
    "log_reg = sklearn.linear_model.LogisticRegression (C=0.1, solver='newton-cg', random_state=46543)"
   ]
  },
  {
   "cell_type": "code",
   "execution_count": 125,
   "metadata": {},
   "outputs": [
    {
     "data": {
      "text/plain": [
       "LogisticRegression(C=0.1, class_weight=None, dual=False, fit_intercept=True,\n",
       "          intercept_scaling=1, max_iter=100, multi_class='ovr', n_jobs=1,\n",
       "          penalty='l2', random_state=46543, solver='newton-cg', tol=0.0001,\n",
       "          verbose=0, warm_start=False)"
      ]
     },
     "execution_count": 125,
     "metadata": {},
     "output_type": "execute_result"
    }
   ],
   "source": [
    "log_reg.fit (imdb_task.sent_embeds['train']['glove-twitter-25'], train_labs)"
   ]
  },
  {
   "cell_type": "code",
   "execution_count": 126,
   "metadata": {},
   "outputs": [
    {
     "data": {
      "text/plain": [
       "0.7262"
      ]
     },
     "execution_count": 126,
     "metadata": {},
     "output_type": "execute_result"
    }
   ],
   "source": [
    "log_reg.score(imdb_task.sent_embeds['train']['glove-twitter-25'], train_labs)"
   ]
  },
  {
   "cell_type": "code",
   "execution_count": 127,
   "metadata": {},
   "outputs": [
    {
     "data": {
      "text/plain": [
       "0.7285"
      ]
     },
     "execution_count": 127,
     "metadata": {},
     "output_type": "execute_result"
    }
   ],
   "source": [
    "log_reg.score(imdb_task.sent_embeds['test']['glove-twitter-25'], test_labs)"
   ]
  },
  {
   "cell_type": "code",
   "execution_count": 158,
   "metadata": {},
   "outputs": [],
   "source": [
    "imdb_task.save (\"imdb_task.pkl\")"
   ]
  },
  {
   "cell_type": "code",
   "execution_count": 11,
   "metadata": {},
   "outputs": [],
   "source": [
    "#imdb_task = text_task.load (\"imdb_task.pkl\")"
   ]
  },
  {
   "cell_type": "markdown",
   "metadata": {},
   "source": [
    "## LTSM"
   ]
  },
  {
   "cell_type": "code",
   "execution_count": 12,
   "metadata": {},
   "outputs": [],
   "source": [
    "from fastai.text import * "
   ]
  },
  {
   "cell_type": "code",
   "execution_count": 13,
   "metadata": {},
   "outputs": [],
   "source": [
    "train_df = pd.DataFrame (imdb_task.texts['train'])\n",
    "train_df.columns = [\"text\"]\n",
    "\n",
    "val_df = pd.DataFrame (imdb_task.texts['test'])\n",
    "val_df.columns = [\"text\"]"
   ]
  },
  {
   "cell_type": "code",
   "execution_count": 16,
   "metadata": {},
   "outputs": [],
   "source": [
    "train_df['label'] = train_labs\n",
    "val_df['label'] = test_labs"
   ]
  },
  {
   "cell_type": "code",
   "execution_count": 17,
   "metadata": {},
   "outputs": [],
   "source": [
    "# Language model data\n",
    "data_lm = TextLMDataBunch.from_df(path = \"./\", train_df = train_df, valid_df = val_df, text_cols = \"text\", bs = 64)"
   ]
  },
  {
   "cell_type": "code",
   "execution_count": 144,
   "metadata": {},
   "outputs": [],
   "source": [
    "# Classifier model data\n",
    "data_clas = TextClasDataBunch.from_df(path = \"./\", train_df = train_df, valid_df = val_df, text_cols = \"text\", label_cols=\"label\", vocab=data_lm.train_ds.vocab, bs = 32)"
   ]
  },
  {
   "cell_type": "code",
   "execution_count": 18,
   "metadata": {},
   "outputs": [
    {
     "name": "stdout",
     "output_type": "stream",
     "text": [
      "Downloading https://s3.amazonaws.com/fast-ai-modelzoo/wt103-1\n"
     ]
    },
    {
     "data": {
      "text/html": [
       "\n",
       "    <div>\n",
       "        <style>\n",
       "            /* Turns off some styling */\n",
       "            progress {\n",
       "                /* gets rid of default border in Firefox and Opera. */\n",
       "                border: none;\n",
       "                /* Needs to be in here for Safari polyfill so background images work as expected. */\n",
       "                background-size: auto;\n",
       "            }\n",
       "            .progress-bar-interrupted, .progress-bar-interrupted::-webkit-progress-bar {\n",
       "                background: #F44336;\n",
       "            }\n",
       "        </style>\n",
       "      <progress value='63963136' class='' max='165175630', style='width:300px; height:20px; vertical-align: middle;'></progress>\n",
       "      38.72% [63963136/165175630 02:32<04:00]\n",
       "    </div>\n",
       "    "
      ],
      "text/plain": [
       "<IPython.core.display.HTML object>"
      ]
     },
     "metadata": {},
     "output_type": "display_data"
    },
    {
     "ename": "KeyboardInterrupt",
     "evalue": "",
     "output_type": "error",
     "traceback": [
      "\u001b[1;31m---------------------------------------------------------------------------\u001b[0m",
      "\u001b[1;31mWantReadError\u001b[0m                             Traceback (most recent call last)",
      "\u001b[1;32mC:\\ProgramData\\Anaconda3\\lib\\site-packages\\urllib3\\contrib\\pyopenssl.py\u001b[0m in \u001b[0;36mrecv_into\u001b[1;34m(self, *args, **kwargs)\u001b[0m\n\u001b[0;32m    279\u001b[0m         \u001b[1;32mtry\u001b[0m\u001b[1;33m:\u001b[0m\u001b[1;33m\u001b[0m\u001b[0m\n\u001b[1;32m--> 280\u001b[1;33m             \u001b[1;32mreturn\u001b[0m \u001b[0mself\u001b[0m\u001b[1;33m.\u001b[0m\u001b[0mconnection\u001b[0m\u001b[1;33m.\u001b[0m\u001b[0mrecv_into\u001b[0m\u001b[1;33m(\u001b[0m\u001b[1;33m*\u001b[0m\u001b[0margs\u001b[0m\u001b[1;33m,\u001b[0m \u001b[1;33m**\u001b[0m\u001b[0mkwargs\u001b[0m\u001b[1;33m)\u001b[0m\u001b[1;33m\u001b[0m\u001b[0m\n\u001b[0m\u001b[0;32m    281\u001b[0m         \u001b[1;32mexcept\u001b[0m \u001b[0mOpenSSL\u001b[0m\u001b[1;33m.\u001b[0m\u001b[0mSSL\u001b[0m\u001b[1;33m.\u001b[0m\u001b[0mSysCallError\u001b[0m \u001b[1;32mas\u001b[0m \u001b[0me\u001b[0m\u001b[1;33m:\u001b[0m\u001b[1;33m\u001b[0m\u001b[0m\n",
      "\u001b[1;32mC:\\ProgramData\\Anaconda3\\lib\\site-packages\\OpenSSL\\SSL.py\u001b[0m in \u001b[0;36mrecv_into\u001b[1;34m(self, buffer, nbytes, flags)\u001b[0m\n\u001b[0;32m   1714\u001b[0m             \u001b[0mresult\u001b[0m \u001b[1;33m=\u001b[0m \u001b[0m_lib\u001b[0m\u001b[1;33m.\u001b[0m\u001b[0mSSL_read\u001b[0m\u001b[1;33m(\u001b[0m\u001b[0mself\u001b[0m\u001b[1;33m.\u001b[0m\u001b[0m_ssl\u001b[0m\u001b[1;33m,\u001b[0m \u001b[0mbuf\u001b[0m\u001b[1;33m,\u001b[0m \u001b[0mnbytes\u001b[0m\u001b[1;33m)\u001b[0m\u001b[1;33m\u001b[0m\u001b[0m\n\u001b[1;32m-> 1715\u001b[1;33m         \u001b[0mself\u001b[0m\u001b[1;33m.\u001b[0m\u001b[0m_raise_ssl_error\u001b[0m\u001b[1;33m(\u001b[0m\u001b[0mself\u001b[0m\u001b[1;33m.\u001b[0m\u001b[0m_ssl\u001b[0m\u001b[1;33m,\u001b[0m \u001b[0mresult\u001b[0m\u001b[1;33m)\u001b[0m\u001b[1;33m\u001b[0m\u001b[0m\n\u001b[0m\u001b[0;32m   1716\u001b[0m \u001b[1;33m\u001b[0m\u001b[0m\n",
      "\u001b[1;32mC:\\ProgramData\\Anaconda3\\lib\\site-packages\\OpenSSL\\SSL.py\u001b[0m in \u001b[0;36m_raise_ssl_error\u001b[1;34m(self, ssl, result)\u001b[0m\n\u001b[0;32m   1520\u001b[0m         \u001b[1;32mif\u001b[0m \u001b[0merror\u001b[0m \u001b[1;33m==\u001b[0m \u001b[0m_lib\u001b[0m\u001b[1;33m.\u001b[0m\u001b[0mSSL_ERROR_WANT_READ\u001b[0m\u001b[1;33m:\u001b[0m\u001b[1;33m\u001b[0m\u001b[0m\n\u001b[1;32m-> 1521\u001b[1;33m             \u001b[1;32mraise\u001b[0m \u001b[0mWantReadError\u001b[0m\u001b[1;33m(\u001b[0m\u001b[1;33m)\u001b[0m\u001b[1;33m\u001b[0m\u001b[0m\n\u001b[0m\u001b[0;32m   1522\u001b[0m         \u001b[1;32melif\u001b[0m \u001b[0merror\u001b[0m \u001b[1;33m==\u001b[0m \u001b[0m_lib\u001b[0m\u001b[1;33m.\u001b[0m\u001b[0mSSL_ERROR_WANT_WRITE\u001b[0m\u001b[1;33m:\u001b[0m\u001b[1;33m\u001b[0m\u001b[0m\n",
      "\u001b[1;31mWantReadError\u001b[0m: ",
      "\nDuring handling of the above exception, another exception occurred:\n",
      "\u001b[1;31mWantReadError\u001b[0m                             Traceback (most recent call last)",
      "\u001b[1;32mC:\\ProgramData\\Anaconda3\\lib\\site-packages\\urllib3\\contrib\\pyopenssl.py\u001b[0m in \u001b[0;36mrecv_into\u001b[1;34m(self, *args, **kwargs)\u001b[0m\n\u001b[0;32m    279\u001b[0m         \u001b[1;32mtry\u001b[0m\u001b[1;33m:\u001b[0m\u001b[1;33m\u001b[0m\u001b[0m\n\u001b[1;32m--> 280\u001b[1;33m             \u001b[1;32mreturn\u001b[0m \u001b[0mself\u001b[0m\u001b[1;33m.\u001b[0m\u001b[0mconnection\u001b[0m\u001b[1;33m.\u001b[0m\u001b[0mrecv_into\u001b[0m\u001b[1;33m(\u001b[0m\u001b[1;33m*\u001b[0m\u001b[0margs\u001b[0m\u001b[1;33m,\u001b[0m \u001b[1;33m**\u001b[0m\u001b[0mkwargs\u001b[0m\u001b[1;33m)\u001b[0m\u001b[1;33m\u001b[0m\u001b[0m\n\u001b[0m\u001b[0;32m    281\u001b[0m         \u001b[1;32mexcept\u001b[0m \u001b[0mOpenSSL\u001b[0m\u001b[1;33m.\u001b[0m\u001b[0mSSL\u001b[0m\u001b[1;33m.\u001b[0m\u001b[0mSysCallError\u001b[0m \u001b[1;32mas\u001b[0m \u001b[0me\u001b[0m\u001b[1;33m:\u001b[0m\u001b[1;33m\u001b[0m\u001b[0m\n",
      "\u001b[1;32mC:\\ProgramData\\Anaconda3\\lib\\site-packages\\OpenSSL\\SSL.py\u001b[0m in \u001b[0;36mrecv_into\u001b[1;34m(self, buffer, nbytes, flags)\u001b[0m\n\u001b[0;32m   1714\u001b[0m             \u001b[0mresult\u001b[0m \u001b[1;33m=\u001b[0m \u001b[0m_lib\u001b[0m\u001b[1;33m.\u001b[0m\u001b[0mSSL_read\u001b[0m\u001b[1;33m(\u001b[0m\u001b[0mself\u001b[0m\u001b[1;33m.\u001b[0m\u001b[0m_ssl\u001b[0m\u001b[1;33m,\u001b[0m \u001b[0mbuf\u001b[0m\u001b[1;33m,\u001b[0m \u001b[0mnbytes\u001b[0m\u001b[1;33m)\u001b[0m\u001b[1;33m\u001b[0m\u001b[0m\n\u001b[1;32m-> 1715\u001b[1;33m         \u001b[0mself\u001b[0m\u001b[1;33m.\u001b[0m\u001b[0m_raise_ssl_error\u001b[0m\u001b[1;33m(\u001b[0m\u001b[0mself\u001b[0m\u001b[1;33m.\u001b[0m\u001b[0m_ssl\u001b[0m\u001b[1;33m,\u001b[0m \u001b[0mresult\u001b[0m\u001b[1;33m)\u001b[0m\u001b[1;33m\u001b[0m\u001b[0m\n\u001b[0m\u001b[0;32m   1716\u001b[0m \u001b[1;33m\u001b[0m\u001b[0m\n",
      "\u001b[1;32mC:\\ProgramData\\Anaconda3\\lib\\site-packages\\OpenSSL\\SSL.py\u001b[0m in \u001b[0;36m_raise_ssl_error\u001b[1;34m(self, ssl, result)\u001b[0m\n\u001b[0;32m   1520\u001b[0m         \u001b[1;32mif\u001b[0m \u001b[0merror\u001b[0m \u001b[1;33m==\u001b[0m \u001b[0m_lib\u001b[0m\u001b[1;33m.\u001b[0m\u001b[0mSSL_ERROR_WANT_READ\u001b[0m\u001b[1;33m:\u001b[0m\u001b[1;33m\u001b[0m\u001b[0m\n\u001b[1;32m-> 1521\u001b[1;33m             \u001b[1;32mraise\u001b[0m \u001b[0mWantReadError\u001b[0m\u001b[1;33m(\u001b[0m\u001b[1;33m)\u001b[0m\u001b[1;33m\u001b[0m\u001b[0m\n\u001b[0m\u001b[0;32m   1522\u001b[0m         \u001b[1;32melif\u001b[0m \u001b[0merror\u001b[0m \u001b[1;33m==\u001b[0m \u001b[0m_lib\u001b[0m\u001b[1;33m.\u001b[0m\u001b[0mSSL_ERROR_WANT_WRITE\u001b[0m\u001b[1;33m:\u001b[0m\u001b[1;33m\u001b[0m\u001b[0m\n",
      "\u001b[1;31mWantReadError\u001b[0m: ",
      "\nDuring handling of the above exception, another exception occurred:\n",
      "\u001b[1;31mWantReadError\u001b[0m                             Traceback (most recent call last)",
      "\u001b[1;32mC:\\ProgramData\\Anaconda3\\lib\\site-packages\\urllib3\\contrib\\pyopenssl.py\u001b[0m in \u001b[0;36mrecv_into\u001b[1;34m(self, *args, **kwargs)\u001b[0m\n\u001b[0;32m    279\u001b[0m         \u001b[1;32mtry\u001b[0m\u001b[1;33m:\u001b[0m\u001b[1;33m\u001b[0m\u001b[0m\n\u001b[1;32m--> 280\u001b[1;33m             \u001b[1;32mreturn\u001b[0m \u001b[0mself\u001b[0m\u001b[1;33m.\u001b[0m\u001b[0mconnection\u001b[0m\u001b[1;33m.\u001b[0m\u001b[0mrecv_into\u001b[0m\u001b[1;33m(\u001b[0m\u001b[1;33m*\u001b[0m\u001b[0margs\u001b[0m\u001b[1;33m,\u001b[0m \u001b[1;33m**\u001b[0m\u001b[0mkwargs\u001b[0m\u001b[1;33m)\u001b[0m\u001b[1;33m\u001b[0m\u001b[0m\n\u001b[0m\u001b[0;32m    281\u001b[0m         \u001b[1;32mexcept\u001b[0m \u001b[0mOpenSSL\u001b[0m\u001b[1;33m.\u001b[0m\u001b[0mSSL\u001b[0m\u001b[1;33m.\u001b[0m\u001b[0mSysCallError\u001b[0m \u001b[1;32mas\u001b[0m \u001b[0me\u001b[0m\u001b[1;33m:\u001b[0m\u001b[1;33m\u001b[0m\u001b[0m\n",
      "\u001b[1;32mC:\\ProgramData\\Anaconda3\\lib\\site-packages\\OpenSSL\\SSL.py\u001b[0m in \u001b[0;36mrecv_into\u001b[1;34m(self, buffer, nbytes, flags)\u001b[0m\n\u001b[0;32m   1714\u001b[0m             \u001b[0mresult\u001b[0m \u001b[1;33m=\u001b[0m \u001b[0m_lib\u001b[0m\u001b[1;33m.\u001b[0m\u001b[0mSSL_read\u001b[0m\u001b[1;33m(\u001b[0m\u001b[0mself\u001b[0m\u001b[1;33m.\u001b[0m\u001b[0m_ssl\u001b[0m\u001b[1;33m,\u001b[0m \u001b[0mbuf\u001b[0m\u001b[1;33m,\u001b[0m \u001b[0mnbytes\u001b[0m\u001b[1;33m)\u001b[0m\u001b[1;33m\u001b[0m\u001b[0m\n\u001b[1;32m-> 1715\u001b[1;33m         \u001b[0mself\u001b[0m\u001b[1;33m.\u001b[0m\u001b[0m_raise_ssl_error\u001b[0m\u001b[1;33m(\u001b[0m\u001b[0mself\u001b[0m\u001b[1;33m.\u001b[0m\u001b[0m_ssl\u001b[0m\u001b[1;33m,\u001b[0m \u001b[0mresult\u001b[0m\u001b[1;33m)\u001b[0m\u001b[1;33m\u001b[0m\u001b[0m\n\u001b[0m\u001b[0;32m   1716\u001b[0m \u001b[1;33m\u001b[0m\u001b[0m\n",
      "\u001b[1;32mC:\\ProgramData\\Anaconda3\\lib\\site-packages\\OpenSSL\\SSL.py\u001b[0m in \u001b[0;36m_raise_ssl_error\u001b[1;34m(self, ssl, result)\u001b[0m\n\u001b[0;32m   1520\u001b[0m         \u001b[1;32mif\u001b[0m \u001b[0merror\u001b[0m \u001b[1;33m==\u001b[0m \u001b[0m_lib\u001b[0m\u001b[1;33m.\u001b[0m\u001b[0mSSL_ERROR_WANT_READ\u001b[0m\u001b[1;33m:\u001b[0m\u001b[1;33m\u001b[0m\u001b[0m\n\u001b[1;32m-> 1521\u001b[1;33m             \u001b[1;32mraise\u001b[0m \u001b[0mWantReadError\u001b[0m\u001b[1;33m(\u001b[0m\u001b[1;33m)\u001b[0m\u001b[1;33m\u001b[0m\u001b[0m\n\u001b[0m\u001b[0;32m   1522\u001b[0m         \u001b[1;32melif\u001b[0m \u001b[0merror\u001b[0m \u001b[1;33m==\u001b[0m \u001b[0m_lib\u001b[0m\u001b[1;33m.\u001b[0m\u001b[0mSSL_ERROR_WANT_WRITE\u001b[0m\u001b[1;33m:\u001b[0m\u001b[1;33m\u001b[0m\u001b[0m\n",
      "\u001b[1;31mWantReadError\u001b[0m: ",
      "\nDuring handling of the above exception, another exception occurred:\n",
      "\u001b[1;31mWantReadError\u001b[0m                             Traceback (most recent call last)",
      "\u001b[1;32mC:\\ProgramData\\Anaconda3\\lib\\site-packages\\urllib3\\contrib\\pyopenssl.py\u001b[0m in \u001b[0;36mrecv_into\u001b[1;34m(self, *args, **kwargs)\u001b[0m\n\u001b[0;32m    279\u001b[0m         \u001b[1;32mtry\u001b[0m\u001b[1;33m:\u001b[0m\u001b[1;33m\u001b[0m\u001b[0m\n\u001b[1;32m--> 280\u001b[1;33m             \u001b[1;32mreturn\u001b[0m \u001b[0mself\u001b[0m\u001b[1;33m.\u001b[0m\u001b[0mconnection\u001b[0m\u001b[1;33m.\u001b[0m\u001b[0mrecv_into\u001b[0m\u001b[1;33m(\u001b[0m\u001b[1;33m*\u001b[0m\u001b[0margs\u001b[0m\u001b[1;33m,\u001b[0m \u001b[1;33m**\u001b[0m\u001b[0mkwargs\u001b[0m\u001b[1;33m)\u001b[0m\u001b[1;33m\u001b[0m\u001b[0m\n\u001b[0m\u001b[0;32m    281\u001b[0m         \u001b[1;32mexcept\u001b[0m \u001b[0mOpenSSL\u001b[0m\u001b[1;33m.\u001b[0m\u001b[0mSSL\u001b[0m\u001b[1;33m.\u001b[0m\u001b[0mSysCallError\u001b[0m \u001b[1;32mas\u001b[0m \u001b[0me\u001b[0m\u001b[1;33m:\u001b[0m\u001b[1;33m\u001b[0m\u001b[0m\n",
      "\u001b[1;32mC:\\ProgramData\\Anaconda3\\lib\\site-packages\\OpenSSL\\SSL.py\u001b[0m in \u001b[0;36mrecv_into\u001b[1;34m(self, buffer, nbytes, flags)\u001b[0m\n\u001b[0;32m   1714\u001b[0m             \u001b[0mresult\u001b[0m \u001b[1;33m=\u001b[0m \u001b[0m_lib\u001b[0m\u001b[1;33m.\u001b[0m\u001b[0mSSL_read\u001b[0m\u001b[1;33m(\u001b[0m\u001b[0mself\u001b[0m\u001b[1;33m.\u001b[0m\u001b[0m_ssl\u001b[0m\u001b[1;33m,\u001b[0m \u001b[0mbuf\u001b[0m\u001b[1;33m,\u001b[0m \u001b[0mnbytes\u001b[0m\u001b[1;33m)\u001b[0m\u001b[1;33m\u001b[0m\u001b[0m\n\u001b[1;32m-> 1715\u001b[1;33m         \u001b[0mself\u001b[0m\u001b[1;33m.\u001b[0m\u001b[0m_raise_ssl_error\u001b[0m\u001b[1;33m(\u001b[0m\u001b[0mself\u001b[0m\u001b[1;33m.\u001b[0m\u001b[0m_ssl\u001b[0m\u001b[1;33m,\u001b[0m \u001b[0mresult\u001b[0m\u001b[1;33m)\u001b[0m\u001b[1;33m\u001b[0m\u001b[0m\n\u001b[0m\u001b[0;32m   1716\u001b[0m \u001b[1;33m\u001b[0m\u001b[0m\n",
      "\u001b[1;32mC:\\ProgramData\\Anaconda3\\lib\\site-packages\\OpenSSL\\SSL.py\u001b[0m in \u001b[0;36m_raise_ssl_error\u001b[1;34m(self, ssl, result)\u001b[0m\n\u001b[0;32m   1520\u001b[0m         \u001b[1;32mif\u001b[0m \u001b[0merror\u001b[0m \u001b[1;33m==\u001b[0m \u001b[0m_lib\u001b[0m\u001b[1;33m.\u001b[0m\u001b[0mSSL_ERROR_WANT_READ\u001b[0m\u001b[1;33m:\u001b[0m\u001b[1;33m\u001b[0m\u001b[0m\n\u001b[1;32m-> 1521\u001b[1;33m             \u001b[1;32mraise\u001b[0m \u001b[0mWantReadError\u001b[0m\u001b[1;33m(\u001b[0m\u001b[1;33m)\u001b[0m\u001b[1;33m\u001b[0m\u001b[0m\n\u001b[0m\u001b[0;32m   1522\u001b[0m         \u001b[1;32melif\u001b[0m \u001b[0merror\u001b[0m \u001b[1;33m==\u001b[0m \u001b[0m_lib\u001b[0m\u001b[1;33m.\u001b[0m\u001b[0mSSL_ERROR_WANT_WRITE\u001b[0m\u001b[1;33m:\u001b[0m\u001b[1;33m\u001b[0m\u001b[0m\n",
      "\u001b[1;31mWantReadError\u001b[0m: ",
      "\nDuring handling of the above exception, another exception occurred:\n",
      "\u001b[1;31mWantReadError\u001b[0m                             Traceback (most recent call last)",
      "\u001b[1;32mC:\\ProgramData\\Anaconda3\\lib\\site-packages\\urllib3\\contrib\\pyopenssl.py\u001b[0m in \u001b[0;36mrecv_into\u001b[1;34m(self, *args, **kwargs)\u001b[0m\n\u001b[0;32m    279\u001b[0m         \u001b[1;32mtry\u001b[0m\u001b[1;33m:\u001b[0m\u001b[1;33m\u001b[0m\u001b[0m\n\u001b[1;32m--> 280\u001b[1;33m             \u001b[1;32mreturn\u001b[0m \u001b[0mself\u001b[0m\u001b[1;33m.\u001b[0m\u001b[0mconnection\u001b[0m\u001b[1;33m.\u001b[0m\u001b[0mrecv_into\u001b[0m\u001b[1;33m(\u001b[0m\u001b[1;33m*\u001b[0m\u001b[0margs\u001b[0m\u001b[1;33m,\u001b[0m \u001b[1;33m**\u001b[0m\u001b[0mkwargs\u001b[0m\u001b[1;33m)\u001b[0m\u001b[1;33m\u001b[0m\u001b[0m\n\u001b[0m\u001b[0;32m    281\u001b[0m         \u001b[1;32mexcept\u001b[0m \u001b[0mOpenSSL\u001b[0m\u001b[1;33m.\u001b[0m\u001b[0mSSL\u001b[0m\u001b[1;33m.\u001b[0m\u001b[0mSysCallError\u001b[0m \u001b[1;32mas\u001b[0m \u001b[0me\u001b[0m\u001b[1;33m:\u001b[0m\u001b[1;33m\u001b[0m\u001b[0m\n",
      "\u001b[1;32mC:\\ProgramData\\Anaconda3\\lib\\site-packages\\OpenSSL\\SSL.py\u001b[0m in \u001b[0;36mrecv_into\u001b[1;34m(self, buffer, nbytes, flags)\u001b[0m\n\u001b[0;32m   1714\u001b[0m             \u001b[0mresult\u001b[0m \u001b[1;33m=\u001b[0m \u001b[0m_lib\u001b[0m\u001b[1;33m.\u001b[0m\u001b[0mSSL_read\u001b[0m\u001b[1;33m(\u001b[0m\u001b[0mself\u001b[0m\u001b[1;33m.\u001b[0m\u001b[0m_ssl\u001b[0m\u001b[1;33m,\u001b[0m \u001b[0mbuf\u001b[0m\u001b[1;33m,\u001b[0m \u001b[0mnbytes\u001b[0m\u001b[1;33m)\u001b[0m\u001b[1;33m\u001b[0m\u001b[0m\n\u001b[1;32m-> 1715\u001b[1;33m         \u001b[0mself\u001b[0m\u001b[1;33m.\u001b[0m\u001b[0m_raise_ssl_error\u001b[0m\u001b[1;33m(\u001b[0m\u001b[0mself\u001b[0m\u001b[1;33m.\u001b[0m\u001b[0m_ssl\u001b[0m\u001b[1;33m,\u001b[0m \u001b[0mresult\u001b[0m\u001b[1;33m)\u001b[0m\u001b[1;33m\u001b[0m\u001b[0m\n\u001b[0m\u001b[0;32m   1716\u001b[0m \u001b[1;33m\u001b[0m\u001b[0m\n",
      "\u001b[1;32mC:\\ProgramData\\Anaconda3\\lib\\site-packages\\OpenSSL\\SSL.py\u001b[0m in \u001b[0;36m_raise_ssl_error\u001b[1;34m(self, ssl, result)\u001b[0m\n\u001b[0;32m   1520\u001b[0m         \u001b[1;32mif\u001b[0m \u001b[0merror\u001b[0m \u001b[1;33m==\u001b[0m \u001b[0m_lib\u001b[0m\u001b[1;33m.\u001b[0m\u001b[0mSSL_ERROR_WANT_READ\u001b[0m\u001b[1;33m:\u001b[0m\u001b[1;33m\u001b[0m\u001b[0m\n\u001b[1;32m-> 1521\u001b[1;33m             \u001b[1;32mraise\u001b[0m \u001b[0mWantReadError\u001b[0m\u001b[1;33m(\u001b[0m\u001b[1;33m)\u001b[0m\u001b[1;33m\u001b[0m\u001b[0m\n\u001b[0m\u001b[0;32m   1522\u001b[0m         \u001b[1;32melif\u001b[0m \u001b[0merror\u001b[0m \u001b[1;33m==\u001b[0m \u001b[0m_lib\u001b[0m\u001b[1;33m.\u001b[0m\u001b[0mSSL_ERROR_WANT_WRITE\u001b[0m\u001b[1;33m:\u001b[0m\u001b[1;33m\u001b[0m\u001b[0m\n",
      "\u001b[1;31mWantReadError\u001b[0m: ",
      "\nDuring handling of the above exception, another exception occurred:\n",
      "\u001b[1;31mWantReadError\u001b[0m                             Traceback (most recent call last)",
      "\u001b[1;32mC:\\ProgramData\\Anaconda3\\lib\\site-packages\\urllib3\\contrib\\pyopenssl.py\u001b[0m in \u001b[0;36mrecv_into\u001b[1;34m(self, *args, **kwargs)\u001b[0m\n\u001b[0;32m    279\u001b[0m         \u001b[1;32mtry\u001b[0m\u001b[1;33m:\u001b[0m\u001b[1;33m\u001b[0m\u001b[0m\n\u001b[1;32m--> 280\u001b[1;33m             \u001b[1;32mreturn\u001b[0m \u001b[0mself\u001b[0m\u001b[1;33m.\u001b[0m\u001b[0mconnection\u001b[0m\u001b[1;33m.\u001b[0m\u001b[0mrecv_into\u001b[0m\u001b[1;33m(\u001b[0m\u001b[1;33m*\u001b[0m\u001b[0margs\u001b[0m\u001b[1;33m,\u001b[0m \u001b[1;33m**\u001b[0m\u001b[0mkwargs\u001b[0m\u001b[1;33m)\u001b[0m\u001b[1;33m\u001b[0m\u001b[0m\n\u001b[0m\u001b[0;32m    281\u001b[0m         \u001b[1;32mexcept\u001b[0m \u001b[0mOpenSSL\u001b[0m\u001b[1;33m.\u001b[0m\u001b[0mSSL\u001b[0m\u001b[1;33m.\u001b[0m\u001b[0mSysCallError\u001b[0m \u001b[1;32mas\u001b[0m \u001b[0me\u001b[0m\u001b[1;33m:\u001b[0m\u001b[1;33m\u001b[0m\u001b[0m\n",
      "\u001b[1;32mC:\\ProgramData\\Anaconda3\\lib\\site-packages\\OpenSSL\\SSL.py\u001b[0m in \u001b[0;36mrecv_into\u001b[1;34m(self, buffer, nbytes, flags)\u001b[0m\n\u001b[0;32m   1714\u001b[0m             \u001b[0mresult\u001b[0m \u001b[1;33m=\u001b[0m \u001b[0m_lib\u001b[0m\u001b[1;33m.\u001b[0m\u001b[0mSSL_read\u001b[0m\u001b[1;33m(\u001b[0m\u001b[0mself\u001b[0m\u001b[1;33m.\u001b[0m\u001b[0m_ssl\u001b[0m\u001b[1;33m,\u001b[0m \u001b[0mbuf\u001b[0m\u001b[1;33m,\u001b[0m \u001b[0mnbytes\u001b[0m\u001b[1;33m)\u001b[0m\u001b[1;33m\u001b[0m\u001b[0m\n\u001b[1;32m-> 1715\u001b[1;33m         \u001b[0mself\u001b[0m\u001b[1;33m.\u001b[0m\u001b[0m_raise_ssl_error\u001b[0m\u001b[1;33m(\u001b[0m\u001b[0mself\u001b[0m\u001b[1;33m.\u001b[0m\u001b[0m_ssl\u001b[0m\u001b[1;33m,\u001b[0m \u001b[0mresult\u001b[0m\u001b[1;33m)\u001b[0m\u001b[1;33m\u001b[0m\u001b[0m\n\u001b[0m\u001b[0;32m   1716\u001b[0m \u001b[1;33m\u001b[0m\u001b[0m\n",
      "\u001b[1;32mC:\\ProgramData\\Anaconda3\\lib\\site-packages\\OpenSSL\\SSL.py\u001b[0m in \u001b[0;36m_raise_ssl_error\u001b[1;34m(self, ssl, result)\u001b[0m\n\u001b[0;32m   1520\u001b[0m         \u001b[1;32mif\u001b[0m \u001b[0merror\u001b[0m \u001b[1;33m==\u001b[0m \u001b[0m_lib\u001b[0m\u001b[1;33m.\u001b[0m\u001b[0mSSL_ERROR_WANT_READ\u001b[0m\u001b[1;33m:\u001b[0m\u001b[1;33m\u001b[0m\u001b[0m\n\u001b[1;32m-> 1521\u001b[1;33m             \u001b[1;32mraise\u001b[0m \u001b[0mWantReadError\u001b[0m\u001b[1;33m(\u001b[0m\u001b[1;33m)\u001b[0m\u001b[1;33m\u001b[0m\u001b[0m\n\u001b[0m\u001b[0;32m   1522\u001b[0m         \u001b[1;32melif\u001b[0m \u001b[0merror\u001b[0m \u001b[1;33m==\u001b[0m \u001b[0m_lib\u001b[0m\u001b[1;33m.\u001b[0m\u001b[0mSSL_ERROR_WANT_WRITE\u001b[0m\u001b[1;33m:\u001b[0m\u001b[1;33m\u001b[0m\u001b[0m\n",
      "\u001b[1;31mWantReadError\u001b[0m: ",
      "\nDuring handling of the above exception, another exception occurred:\n",
      "\u001b[1;31mKeyboardInterrupt\u001b[0m                         Traceback (most recent call last)",
      "\u001b[1;32m<ipython-input-18-9574c6e8ecab>\u001b[0m in \u001b[0;36m<module>\u001b[1;34m()\u001b[0m\n\u001b[1;32m----> 1\u001b[1;33m \u001b[0mlearn\u001b[0m \u001b[1;33m=\u001b[0m \u001b[0mlanguage_model_learner\u001b[0m\u001b[1;33m(\u001b[0m\u001b[0mdata_lm\u001b[0m\u001b[1;33m,\u001b[0m \u001b[0mpretrained_model\u001b[0m\u001b[1;33m=\u001b[0m\u001b[0mURLs\u001b[0m\u001b[1;33m.\u001b[0m\u001b[0mWT103_1\u001b[0m\u001b[1;33m,\u001b[0m \u001b[0mdrop_mult\u001b[0m\u001b[1;33m=\u001b[0m\u001b[1;36m0.5\u001b[0m\u001b[1;33m)\u001b[0m\u001b[1;33m\u001b[0m\u001b[0m\n\u001b[0m",
      "\u001b[1;32m~\\AppData\\Roaming\\Python\\Python36\\site-packages\\fastai\\text\\learner.py\u001b[0m in \u001b[0;36mlanguage_model_learner\u001b[1;34m(data, bptt, emb_sz, nh, nl, pad_token, drop_mult, tie_weights, bias, qrnn, pretrained_model, pretrained_fnames, **kwargs)\u001b[0m\n\u001b[0;32m    134\u001b[0m     \u001b[0mlearn\u001b[0m \u001b[1;33m=\u001b[0m \u001b[0mLanguageLearner\u001b[0m\u001b[1;33m(\u001b[0m\u001b[0mdata\u001b[0m\u001b[1;33m,\u001b[0m \u001b[0mmodel\u001b[0m\u001b[1;33m,\u001b[0m \u001b[0mbptt\u001b[0m\u001b[1;33m,\u001b[0m \u001b[0msplit_func\u001b[0m\u001b[1;33m=\u001b[0m\u001b[0mlm_split\u001b[0m\u001b[1;33m,\u001b[0m \u001b[1;33m**\u001b[0m\u001b[0mkwargs\u001b[0m\u001b[1;33m)\u001b[0m\u001b[1;33m\u001b[0m\u001b[0m\n\u001b[0;32m    135\u001b[0m     \u001b[1;32mif\u001b[0m \u001b[0mpretrained_model\u001b[0m \u001b[1;32mis\u001b[0m \u001b[1;32mnot\u001b[0m \u001b[1;32mNone\u001b[0m\u001b[1;33m:\u001b[0m\u001b[1;33m\u001b[0m\u001b[0m\n\u001b[1;32m--> 136\u001b[1;33m         \u001b[0mmodel_path\u001b[0m \u001b[1;33m=\u001b[0m \u001b[0muntar_data\u001b[0m\u001b[1;33m(\u001b[0m\u001b[0mpretrained_model\u001b[0m\u001b[1;33m,\u001b[0m \u001b[0mdata\u001b[0m\u001b[1;33m=\u001b[0m\u001b[1;32mFalse\u001b[0m\u001b[1;33m)\u001b[0m\u001b[1;33m\u001b[0m\u001b[0m\n\u001b[0m\u001b[0;32m    137\u001b[0m         \u001b[0mfnames\u001b[0m \u001b[1;33m=\u001b[0m \u001b[1;33m[\u001b[0m\u001b[0mlist\u001b[0m\u001b[1;33m(\u001b[0m\u001b[0mmodel_path\u001b[0m\u001b[1;33m.\u001b[0m\u001b[0mglob\u001b[0m\u001b[1;33m(\u001b[0m\u001b[1;34mf'*.{ext}'\u001b[0m\u001b[1;33m)\u001b[0m\u001b[1;33m)\u001b[0m\u001b[1;33m[\u001b[0m\u001b[1;36m0\u001b[0m\u001b[1;33m]\u001b[0m \u001b[1;32mfor\u001b[0m \u001b[0mext\u001b[0m \u001b[1;32min\u001b[0m \u001b[1;33m[\u001b[0m\u001b[1;34m'pth'\u001b[0m\u001b[1;33m,\u001b[0m \u001b[1;34m'pkl'\u001b[0m\u001b[1;33m]\u001b[0m\u001b[1;33m]\u001b[0m\u001b[1;33m\u001b[0m\u001b[0m\n\u001b[0;32m    138\u001b[0m         \u001b[0mlearn\u001b[0m\u001b[1;33m.\u001b[0m\u001b[0mload_pretrained\u001b[0m\u001b[1;33m(\u001b[0m\u001b[1;33m*\u001b[0m\u001b[0mfnames\u001b[0m\u001b[1;33m)\u001b[0m\u001b[1;33m\u001b[0m\u001b[0m\n",
      "\u001b[1;32m~\\AppData\\Roaming\\Python\\Python36\\site-packages\\fastai\\datasets.py\u001b[0m in \u001b[0;36muntar_data\u001b[1;34m(url, fname, dest, data, force_download)\u001b[0m\n\u001b[0;32m    154\u001b[0m         \u001b[0mshutil\u001b[0m\u001b[1;33m.\u001b[0m\u001b[0mrmtree\u001b[0m\u001b[1;33m(\u001b[0m\u001b[0mdest\u001b[0m\u001b[1;33m)\u001b[0m\u001b[1;33m\u001b[0m\u001b[0m\n\u001b[0;32m    155\u001b[0m     \u001b[1;32mif\u001b[0m \u001b[1;32mnot\u001b[0m \u001b[0mdest\u001b[0m\u001b[1;33m.\u001b[0m\u001b[0mexists\u001b[0m\u001b[1;33m(\u001b[0m\u001b[1;33m)\u001b[0m\u001b[1;33m:\u001b[0m\u001b[1;33m\u001b[0m\u001b[0m\n\u001b[1;32m--> 156\u001b[1;33m         \u001b[0mfname\u001b[0m \u001b[1;33m=\u001b[0m \u001b[0mdownload_data\u001b[0m\u001b[1;33m(\u001b[0m\u001b[0murl\u001b[0m\u001b[1;33m,\u001b[0m \u001b[0mfname\u001b[0m\u001b[1;33m=\u001b[0m\u001b[0mfname\u001b[0m\u001b[1;33m,\u001b[0m \u001b[0mdata\u001b[0m\u001b[1;33m=\u001b[0m\u001b[0mdata\u001b[0m\u001b[1;33m)\u001b[0m\u001b[1;33m\u001b[0m\u001b[0m\n\u001b[0m\u001b[0;32m    157\u001b[0m         \u001b[0mdata_dir\u001b[0m \u001b[1;33m=\u001b[0m \u001b[0mConfig\u001b[0m\u001b[1;33m(\u001b[0m\u001b[1;33m)\u001b[0m\u001b[1;33m.\u001b[0m\u001b[0mdata_path\u001b[0m\u001b[1;33m(\u001b[0m\u001b[1;33m)\u001b[0m\u001b[1;33m\u001b[0m\u001b[0m\n\u001b[0;32m    158\u001b[0m         \u001b[1;32massert\u001b[0m \u001b[0m_check_file\u001b[0m\u001b[1;33m(\u001b[0m\u001b[0mfname\u001b[0m\u001b[1;33m)\u001b[0m \u001b[1;33m==\u001b[0m \u001b[0m_checks\u001b[0m\u001b[1;33m[\u001b[0m\u001b[0murl\u001b[0m\u001b[1;33m]\u001b[0m\u001b[1;33m,\u001b[0m \u001b[1;34mf\"Downloaded file {fname} does not match checksum expected! Remove that file from {data_dir} and try your code again.\"\u001b[0m\u001b[1;33m\u001b[0m\u001b[0m\n",
      "\u001b[1;32m~\\AppData\\Roaming\\Python\\Python36\\site-packages\\fastai\\datasets.py\u001b[0m in \u001b[0;36mdownload_data\u001b[1;34m(url, fname, data)\u001b[0m\n\u001b[0;32m    136\u001b[0m     \u001b[1;32mif\u001b[0m \u001b[1;32mnot\u001b[0m \u001b[0mfname\u001b[0m\u001b[1;33m.\u001b[0m\u001b[0mexists\u001b[0m\u001b[1;33m(\u001b[0m\u001b[1;33m)\u001b[0m\u001b[1;33m:\u001b[0m\u001b[1;33m\u001b[0m\u001b[0m\n\u001b[0;32m    137\u001b[0m         \u001b[0mprint\u001b[0m\u001b[1;33m(\u001b[0m\u001b[1;34mf'Downloading {url}'\u001b[0m\u001b[1;33m)\u001b[0m\u001b[1;33m\u001b[0m\u001b[0m\n\u001b[1;32m--> 138\u001b[1;33m         \u001b[0mdownload_url\u001b[0m\u001b[1;33m(\u001b[0m\u001b[1;34mf'{url}.tgz'\u001b[0m\u001b[1;33m,\u001b[0m \u001b[0mfname\u001b[0m\u001b[1;33m)\u001b[0m\u001b[1;33m\u001b[0m\u001b[0m\n\u001b[0m\u001b[0;32m    139\u001b[0m     \u001b[1;32mreturn\u001b[0m \u001b[0mfname\u001b[0m\u001b[1;33m\u001b[0m\u001b[0m\n\u001b[0;32m    140\u001b[0m \u001b[1;33m\u001b[0m\u001b[0m\n",
      "\u001b[1;32m~\\AppData\\Roaming\\Python\\Python36\\site-packages\\fastai\\core.py\u001b[0m in \u001b[0;36mdownload_url\u001b[1;34m(url, dest, overwrite, pbar, show_progress, chunk_size, timeout, retries)\u001b[0m\n\u001b[0;32m    172\u001b[0m         \u001b[1;32mif\u001b[0m \u001b[0mshow_progress\u001b[0m\u001b[1;33m:\u001b[0m \u001b[0mpbar\u001b[0m \u001b[1;33m=\u001b[0m \u001b[0mprogress_bar\u001b[0m\u001b[1;33m(\u001b[0m\u001b[0mrange\u001b[0m\u001b[1;33m(\u001b[0m\u001b[0mfile_size\u001b[0m\u001b[1;33m)\u001b[0m\u001b[1;33m,\u001b[0m \u001b[0mauto_update\u001b[0m\u001b[1;33m=\u001b[0m\u001b[1;32mFalse\u001b[0m\u001b[1;33m,\u001b[0m \u001b[0mleave\u001b[0m\u001b[1;33m=\u001b[0m\u001b[1;32mFalse\u001b[0m\u001b[1;33m,\u001b[0m \u001b[0mparent\u001b[0m\u001b[1;33m=\u001b[0m\u001b[0mpbar\u001b[0m\u001b[1;33m)\u001b[0m\u001b[1;33m\u001b[0m\u001b[0m\n\u001b[0;32m    173\u001b[0m         \u001b[1;32mtry\u001b[0m\u001b[1;33m:\u001b[0m\u001b[1;33m\u001b[0m\u001b[0m\n\u001b[1;32m--> 174\u001b[1;33m             \u001b[1;32mfor\u001b[0m \u001b[0mchunk\u001b[0m \u001b[1;32min\u001b[0m \u001b[0mu\u001b[0m\u001b[1;33m.\u001b[0m\u001b[0miter_content\u001b[0m\u001b[1;33m(\u001b[0m\u001b[0mchunk_size\u001b[0m\u001b[1;33m=\u001b[0m\u001b[0mchunk_size\u001b[0m\u001b[1;33m)\u001b[0m\u001b[1;33m:\u001b[0m\u001b[1;33m\u001b[0m\u001b[0m\n\u001b[0m\u001b[0;32m    175\u001b[0m                 \u001b[0mnbytes\u001b[0m \u001b[1;33m+=\u001b[0m \u001b[0mlen\u001b[0m\u001b[1;33m(\u001b[0m\u001b[0mchunk\u001b[0m\u001b[1;33m)\u001b[0m\u001b[1;33m\u001b[0m\u001b[0m\n\u001b[0;32m    176\u001b[0m                 \u001b[1;32mif\u001b[0m \u001b[0mshow_progress\u001b[0m\u001b[1;33m:\u001b[0m \u001b[0mpbar\u001b[0m\u001b[1;33m.\u001b[0m\u001b[0mupdate\u001b[0m\u001b[1;33m(\u001b[0m\u001b[0mnbytes\u001b[0m\u001b[1;33m)\u001b[0m\u001b[1;33m\u001b[0m\u001b[0m\n",
      "\u001b[1;32mC:\\ProgramData\\Anaconda3\\lib\\site-packages\\requests\\models.py\u001b[0m in \u001b[0;36mgenerate\u001b[1;34m()\u001b[0m\n\u001b[0;32m    748\u001b[0m             \u001b[1;32mif\u001b[0m \u001b[0mhasattr\u001b[0m\u001b[1;33m(\u001b[0m\u001b[0mself\u001b[0m\u001b[1;33m.\u001b[0m\u001b[0mraw\u001b[0m\u001b[1;33m,\u001b[0m \u001b[1;34m'stream'\u001b[0m\u001b[1;33m)\u001b[0m\u001b[1;33m:\u001b[0m\u001b[1;33m\u001b[0m\u001b[0m\n\u001b[0;32m    749\u001b[0m                 \u001b[1;32mtry\u001b[0m\u001b[1;33m:\u001b[0m\u001b[1;33m\u001b[0m\u001b[0m\n\u001b[1;32m--> 750\u001b[1;33m                     \u001b[1;32mfor\u001b[0m \u001b[0mchunk\u001b[0m \u001b[1;32min\u001b[0m \u001b[0mself\u001b[0m\u001b[1;33m.\u001b[0m\u001b[0mraw\u001b[0m\u001b[1;33m.\u001b[0m\u001b[0mstream\u001b[0m\u001b[1;33m(\u001b[0m\u001b[0mchunk_size\u001b[0m\u001b[1;33m,\u001b[0m \u001b[0mdecode_content\u001b[0m\u001b[1;33m=\u001b[0m\u001b[1;32mTrue\u001b[0m\u001b[1;33m)\u001b[0m\u001b[1;33m:\u001b[0m\u001b[1;33m\u001b[0m\u001b[0m\n\u001b[0m\u001b[0;32m    751\u001b[0m                         \u001b[1;32myield\u001b[0m \u001b[0mchunk\u001b[0m\u001b[1;33m\u001b[0m\u001b[0m\n\u001b[0;32m    752\u001b[0m                 \u001b[1;32mexcept\u001b[0m \u001b[0mProtocolError\u001b[0m \u001b[1;32mas\u001b[0m \u001b[0me\u001b[0m\u001b[1;33m:\u001b[0m\u001b[1;33m\u001b[0m\u001b[0m\n",
      "\u001b[1;32mC:\\ProgramData\\Anaconda3\\lib\\site-packages\\urllib3\\response.py\u001b[0m in \u001b[0;36mstream\u001b[1;34m(self, amt, decode_content)\u001b[0m\n\u001b[0;32m    434\u001b[0m         \u001b[1;32melse\u001b[0m\u001b[1;33m:\u001b[0m\u001b[1;33m\u001b[0m\u001b[0m\n\u001b[0;32m    435\u001b[0m             \u001b[1;32mwhile\u001b[0m \u001b[1;32mnot\u001b[0m \u001b[0mis_fp_closed\u001b[0m\u001b[1;33m(\u001b[0m\u001b[0mself\u001b[0m\u001b[1;33m.\u001b[0m\u001b[0m_fp\u001b[0m\u001b[1;33m)\u001b[0m\u001b[1;33m:\u001b[0m\u001b[1;33m\u001b[0m\u001b[0m\n\u001b[1;32m--> 436\u001b[1;33m                 \u001b[0mdata\u001b[0m \u001b[1;33m=\u001b[0m \u001b[0mself\u001b[0m\u001b[1;33m.\u001b[0m\u001b[0mread\u001b[0m\u001b[1;33m(\u001b[0m\u001b[0mamt\u001b[0m\u001b[1;33m=\u001b[0m\u001b[0mamt\u001b[0m\u001b[1;33m,\u001b[0m \u001b[0mdecode_content\u001b[0m\u001b[1;33m=\u001b[0m\u001b[0mdecode_content\u001b[0m\u001b[1;33m)\u001b[0m\u001b[1;33m\u001b[0m\u001b[0m\n\u001b[0m\u001b[0;32m    437\u001b[0m \u001b[1;33m\u001b[0m\u001b[0m\n\u001b[0;32m    438\u001b[0m                 \u001b[1;32mif\u001b[0m \u001b[0mdata\u001b[0m\u001b[1;33m:\u001b[0m\u001b[1;33m\u001b[0m\u001b[0m\n",
      "\u001b[1;32mC:\\ProgramData\\Anaconda3\\lib\\site-packages\\urllib3\\response.py\u001b[0m in \u001b[0;36mread\u001b[1;34m(self, amt, decode_content, cache_content)\u001b[0m\n\u001b[0;32m    382\u001b[0m             \u001b[1;32melse\u001b[0m\u001b[1;33m:\u001b[0m\u001b[1;33m\u001b[0m\u001b[0m\n\u001b[0;32m    383\u001b[0m                 \u001b[0mcache_content\u001b[0m \u001b[1;33m=\u001b[0m \u001b[1;32mFalse\u001b[0m\u001b[1;33m\u001b[0m\u001b[0m\n\u001b[1;32m--> 384\u001b[1;33m                 \u001b[0mdata\u001b[0m \u001b[1;33m=\u001b[0m \u001b[0mself\u001b[0m\u001b[1;33m.\u001b[0m\u001b[0m_fp\u001b[0m\u001b[1;33m.\u001b[0m\u001b[0mread\u001b[0m\u001b[1;33m(\u001b[0m\u001b[0mamt\u001b[0m\u001b[1;33m)\u001b[0m\u001b[1;33m\u001b[0m\u001b[0m\n\u001b[0m\u001b[0;32m    385\u001b[0m                 \u001b[1;32mif\u001b[0m \u001b[0mamt\u001b[0m \u001b[1;33m!=\u001b[0m \u001b[1;36m0\u001b[0m \u001b[1;32mand\u001b[0m \u001b[1;32mnot\u001b[0m \u001b[0mdata\u001b[0m\u001b[1;33m:\u001b[0m  \u001b[1;31m# Platform-specific: Buggy versions of Python.\u001b[0m\u001b[1;33m\u001b[0m\u001b[0m\n\u001b[0;32m    386\u001b[0m                     \u001b[1;31m# Close the connection when no data is returned\u001b[0m\u001b[1;33m\u001b[0m\u001b[1;33m\u001b[0m\u001b[0m\n",
      "\u001b[1;32mC:\\ProgramData\\Anaconda3\\lib\\http\\client.py\u001b[0m in \u001b[0;36mread\u001b[1;34m(self, amt)\u001b[0m\n\u001b[0;32m    447\u001b[0m             \u001b[1;31m# Amount is given, implement using readinto\u001b[0m\u001b[1;33m\u001b[0m\u001b[1;33m\u001b[0m\u001b[0m\n\u001b[0;32m    448\u001b[0m             \u001b[0mb\u001b[0m \u001b[1;33m=\u001b[0m \u001b[0mbytearray\u001b[0m\u001b[1;33m(\u001b[0m\u001b[0mamt\u001b[0m\u001b[1;33m)\u001b[0m\u001b[1;33m\u001b[0m\u001b[0m\n\u001b[1;32m--> 449\u001b[1;33m             \u001b[0mn\u001b[0m \u001b[1;33m=\u001b[0m \u001b[0mself\u001b[0m\u001b[1;33m.\u001b[0m\u001b[0mreadinto\u001b[0m\u001b[1;33m(\u001b[0m\u001b[0mb\u001b[0m\u001b[1;33m)\u001b[0m\u001b[1;33m\u001b[0m\u001b[0m\n\u001b[0m\u001b[0;32m    450\u001b[0m             \u001b[1;32mreturn\u001b[0m \u001b[0mmemoryview\u001b[0m\u001b[1;33m(\u001b[0m\u001b[0mb\u001b[0m\u001b[1;33m)\u001b[0m\u001b[1;33m[\u001b[0m\u001b[1;33m:\u001b[0m\u001b[0mn\u001b[0m\u001b[1;33m]\u001b[0m\u001b[1;33m.\u001b[0m\u001b[0mtobytes\u001b[0m\u001b[1;33m(\u001b[0m\u001b[1;33m)\u001b[0m\u001b[1;33m\u001b[0m\u001b[0m\n\u001b[0;32m    451\u001b[0m         \u001b[1;32melse\u001b[0m\u001b[1;33m:\u001b[0m\u001b[1;33m\u001b[0m\u001b[0m\n",
      "\u001b[1;32mC:\\ProgramData\\Anaconda3\\lib\\http\\client.py\u001b[0m in \u001b[0;36mreadinto\u001b[1;34m(self, b)\u001b[0m\n\u001b[0;32m    491\u001b[0m         \u001b[1;31m# connection, and the user is reading more bytes than will be provided\u001b[0m\u001b[1;33m\u001b[0m\u001b[1;33m\u001b[0m\u001b[0m\n\u001b[0;32m    492\u001b[0m         \u001b[1;31m# (for example, reading in 1k chunks)\u001b[0m\u001b[1;33m\u001b[0m\u001b[1;33m\u001b[0m\u001b[0m\n\u001b[1;32m--> 493\u001b[1;33m         \u001b[0mn\u001b[0m \u001b[1;33m=\u001b[0m \u001b[0mself\u001b[0m\u001b[1;33m.\u001b[0m\u001b[0mfp\u001b[0m\u001b[1;33m.\u001b[0m\u001b[0mreadinto\u001b[0m\u001b[1;33m(\u001b[0m\u001b[0mb\u001b[0m\u001b[1;33m)\u001b[0m\u001b[1;33m\u001b[0m\u001b[0m\n\u001b[0m\u001b[0;32m    494\u001b[0m         \u001b[1;32mif\u001b[0m \u001b[1;32mnot\u001b[0m \u001b[0mn\u001b[0m \u001b[1;32mand\u001b[0m \u001b[0mb\u001b[0m\u001b[1;33m:\u001b[0m\u001b[1;33m\u001b[0m\u001b[0m\n\u001b[0;32m    495\u001b[0m             \u001b[1;31m# Ideally, we would raise IncompleteRead if the content-length\u001b[0m\u001b[1;33m\u001b[0m\u001b[1;33m\u001b[0m\u001b[0m\n",
      "\u001b[1;32mC:\\ProgramData\\Anaconda3\\lib\\socket.py\u001b[0m in \u001b[0;36mreadinto\u001b[1;34m(self, b)\u001b[0m\n\u001b[0;32m    584\u001b[0m         \u001b[1;32mwhile\u001b[0m \u001b[1;32mTrue\u001b[0m\u001b[1;33m:\u001b[0m\u001b[1;33m\u001b[0m\u001b[0m\n\u001b[0;32m    585\u001b[0m             \u001b[1;32mtry\u001b[0m\u001b[1;33m:\u001b[0m\u001b[1;33m\u001b[0m\u001b[0m\n\u001b[1;32m--> 586\u001b[1;33m                 \u001b[1;32mreturn\u001b[0m \u001b[0mself\u001b[0m\u001b[1;33m.\u001b[0m\u001b[0m_sock\u001b[0m\u001b[1;33m.\u001b[0m\u001b[0mrecv_into\u001b[0m\u001b[1;33m(\u001b[0m\u001b[0mb\u001b[0m\u001b[1;33m)\u001b[0m\u001b[1;33m\u001b[0m\u001b[0m\n\u001b[0m\u001b[0;32m    587\u001b[0m             \u001b[1;32mexcept\u001b[0m \u001b[0mtimeout\u001b[0m\u001b[1;33m:\u001b[0m\u001b[1;33m\u001b[0m\u001b[0m\n\u001b[0;32m    588\u001b[0m                 \u001b[0mself\u001b[0m\u001b[1;33m.\u001b[0m\u001b[0m_timeout_occurred\u001b[0m \u001b[1;33m=\u001b[0m \u001b[1;32mTrue\u001b[0m\u001b[1;33m\u001b[0m\u001b[0m\n",
      "\u001b[1;32mC:\\ProgramData\\Anaconda3\\lib\\site-packages\\urllib3\\contrib\\pyopenssl.py\u001b[0m in \u001b[0;36mrecv_into\u001b[1;34m(self, *args, **kwargs)\u001b[0m\n\u001b[0;32m    294\u001b[0m                 \u001b[1;32mraise\u001b[0m \u001b[0mtimeout\u001b[0m\u001b[1;33m(\u001b[0m\u001b[1;34m'The read operation timed out'\u001b[0m\u001b[1;33m)\u001b[0m\u001b[1;33m\u001b[0m\u001b[0m\n\u001b[0;32m    295\u001b[0m             \u001b[1;32melse\u001b[0m\u001b[1;33m:\u001b[0m\u001b[1;33m\u001b[0m\u001b[0m\n\u001b[1;32m--> 296\u001b[1;33m                 \u001b[1;32mreturn\u001b[0m \u001b[0mself\u001b[0m\u001b[1;33m.\u001b[0m\u001b[0mrecv_into\u001b[0m\u001b[1;33m(\u001b[0m\u001b[1;33m*\u001b[0m\u001b[0margs\u001b[0m\u001b[1;33m,\u001b[0m \u001b[1;33m**\u001b[0m\u001b[0mkwargs\u001b[0m\u001b[1;33m)\u001b[0m\u001b[1;33m\u001b[0m\u001b[0m\n\u001b[0m\u001b[0;32m    297\u001b[0m \u001b[1;33m\u001b[0m\u001b[0m\n\u001b[0;32m    298\u001b[0m     \u001b[1;32mdef\u001b[0m \u001b[0msettimeout\u001b[0m\u001b[1;33m(\u001b[0m\u001b[0mself\u001b[0m\u001b[1;33m,\u001b[0m \u001b[0mtimeout\u001b[0m\u001b[1;33m)\u001b[0m\u001b[1;33m:\u001b[0m\u001b[1;33m\u001b[0m\u001b[0m\n",
      "\u001b[1;32mC:\\ProgramData\\Anaconda3\\lib\\site-packages\\urllib3\\contrib\\pyopenssl.py\u001b[0m in \u001b[0;36mrecv_into\u001b[1;34m(self, *args, **kwargs)\u001b[0m\n\u001b[0;32m    294\u001b[0m                 \u001b[1;32mraise\u001b[0m \u001b[0mtimeout\u001b[0m\u001b[1;33m(\u001b[0m\u001b[1;34m'The read operation timed out'\u001b[0m\u001b[1;33m)\u001b[0m\u001b[1;33m\u001b[0m\u001b[0m\n\u001b[0;32m    295\u001b[0m             \u001b[1;32melse\u001b[0m\u001b[1;33m:\u001b[0m\u001b[1;33m\u001b[0m\u001b[0m\n\u001b[1;32m--> 296\u001b[1;33m                 \u001b[1;32mreturn\u001b[0m \u001b[0mself\u001b[0m\u001b[1;33m.\u001b[0m\u001b[0mrecv_into\u001b[0m\u001b[1;33m(\u001b[0m\u001b[1;33m*\u001b[0m\u001b[0margs\u001b[0m\u001b[1;33m,\u001b[0m \u001b[1;33m**\u001b[0m\u001b[0mkwargs\u001b[0m\u001b[1;33m)\u001b[0m\u001b[1;33m\u001b[0m\u001b[0m\n\u001b[0m\u001b[0;32m    297\u001b[0m \u001b[1;33m\u001b[0m\u001b[0m\n\u001b[0;32m    298\u001b[0m     \u001b[1;32mdef\u001b[0m \u001b[0msettimeout\u001b[0m\u001b[1;33m(\u001b[0m\u001b[0mself\u001b[0m\u001b[1;33m,\u001b[0m \u001b[0mtimeout\u001b[0m\u001b[1;33m)\u001b[0m\u001b[1;33m:\u001b[0m\u001b[1;33m\u001b[0m\u001b[0m\n",
      "\u001b[1;32mC:\\ProgramData\\Anaconda3\\lib\\site-packages\\urllib3\\contrib\\pyopenssl.py\u001b[0m in \u001b[0;36mrecv_into\u001b[1;34m(self, *args, **kwargs)\u001b[0m\n\u001b[0;32m    294\u001b[0m                 \u001b[1;32mraise\u001b[0m \u001b[0mtimeout\u001b[0m\u001b[1;33m(\u001b[0m\u001b[1;34m'The read operation timed out'\u001b[0m\u001b[1;33m)\u001b[0m\u001b[1;33m\u001b[0m\u001b[0m\n\u001b[0;32m    295\u001b[0m             \u001b[1;32melse\u001b[0m\u001b[1;33m:\u001b[0m\u001b[1;33m\u001b[0m\u001b[0m\n\u001b[1;32m--> 296\u001b[1;33m                 \u001b[1;32mreturn\u001b[0m \u001b[0mself\u001b[0m\u001b[1;33m.\u001b[0m\u001b[0mrecv_into\u001b[0m\u001b[1;33m(\u001b[0m\u001b[1;33m*\u001b[0m\u001b[0margs\u001b[0m\u001b[1;33m,\u001b[0m \u001b[1;33m**\u001b[0m\u001b[0mkwargs\u001b[0m\u001b[1;33m)\u001b[0m\u001b[1;33m\u001b[0m\u001b[0m\n\u001b[0m\u001b[0;32m    297\u001b[0m \u001b[1;33m\u001b[0m\u001b[0m\n\u001b[0;32m    298\u001b[0m     \u001b[1;32mdef\u001b[0m \u001b[0msettimeout\u001b[0m\u001b[1;33m(\u001b[0m\u001b[0mself\u001b[0m\u001b[1;33m,\u001b[0m \u001b[0mtimeout\u001b[0m\u001b[1;33m)\u001b[0m\u001b[1;33m:\u001b[0m\u001b[1;33m\u001b[0m\u001b[0m\n",
      "\u001b[1;32mC:\\ProgramData\\Anaconda3\\lib\\site-packages\\urllib3\\contrib\\pyopenssl.py\u001b[0m in \u001b[0;36mrecv_into\u001b[1;34m(self, *args, **kwargs)\u001b[0m\n\u001b[0;32m    294\u001b[0m                 \u001b[1;32mraise\u001b[0m \u001b[0mtimeout\u001b[0m\u001b[1;33m(\u001b[0m\u001b[1;34m'The read operation timed out'\u001b[0m\u001b[1;33m)\u001b[0m\u001b[1;33m\u001b[0m\u001b[0m\n\u001b[0;32m    295\u001b[0m             \u001b[1;32melse\u001b[0m\u001b[1;33m:\u001b[0m\u001b[1;33m\u001b[0m\u001b[0m\n\u001b[1;32m--> 296\u001b[1;33m                 \u001b[1;32mreturn\u001b[0m \u001b[0mself\u001b[0m\u001b[1;33m.\u001b[0m\u001b[0mrecv_into\u001b[0m\u001b[1;33m(\u001b[0m\u001b[1;33m*\u001b[0m\u001b[0margs\u001b[0m\u001b[1;33m,\u001b[0m \u001b[1;33m**\u001b[0m\u001b[0mkwargs\u001b[0m\u001b[1;33m)\u001b[0m\u001b[1;33m\u001b[0m\u001b[0m\n\u001b[0m\u001b[0;32m    297\u001b[0m \u001b[1;33m\u001b[0m\u001b[0m\n\u001b[0;32m    298\u001b[0m     \u001b[1;32mdef\u001b[0m \u001b[0msettimeout\u001b[0m\u001b[1;33m(\u001b[0m\u001b[0mself\u001b[0m\u001b[1;33m,\u001b[0m \u001b[0mtimeout\u001b[0m\u001b[1;33m)\u001b[0m\u001b[1;33m:\u001b[0m\u001b[1;33m\u001b[0m\u001b[0m\n",
      "\u001b[1;32mC:\\ProgramData\\Anaconda3\\lib\\site-packages\\urllib3\\contrib\\pyopenssl.py\u001b[0m in \u001b[0;36mrecv_into\u001b[1;34m(self, *args, **kwargs)\u001b[0m\n\u001b[0;32m    294\u001b[0m                 \u001b[1;32mraise\u001b[0m \u001b[0mtimeout\u001b[0m\u001b[1;33m(\u001b[0m\u001b[1;34m'The read operation timed out'\u001b[0m\u001b[1;33m)\u001b[0m\u001b[1;33m\u001b[0m\u001b[0m\n\u001b[0;32m    295\u001b[0m             \u001b[1;32melse\u001b[0m\u001b[1;33m:\u001b[0m\u001b[1;33m\u001b[0m\u001b[0m\n\u001b[1;32m--> 296\u001b[1;33m                 \u001b[1;32mreturn\u001b[0m \u001b[0mself\u001b[0m\u001b[1;33m.\u001b[0m\u001b[0mrecv_into\u001b[0m\u001b[1;33m(\u001b[0m\u001b[1;33m*\u001b[0m\u001b[0margs\u001b[0m\u001b[1;33m,\u001b[0m \u001b[1;33m**\u001b[0m\u001b[0mkwargs\u001b[0m\u001b[1;33m)\u001b[0m\u001b[1;33m\u001b[0m\u001b[0m\n\u001b[0m\u001b[0;32m    297\u001b[0m \u001b[1;33m\u001b[0m\u001b[0m\n\u001b[0;32m    298\u001b[0m     \u001b[1;32mdef\u001b[0m \u001b[0msettimeout\u001b[0m\u001b[1;33m(\u001b[0m\u001b[0mself\u001b[0m\u001b[1;33m,\u001b[0m \u001b[0mtimeout\u001b[0m\u001b[1;33m)\u001b[0m\u001b[1;33m:\u001b[0m\u001b[1;33m\u001b[0m\u001b[0m\n",
      "\u001b[1;32mC:\\ProgramData\\Anaconda3\\lib\\site-packages\\urllib3\\contrib\\pyopenssl.py\u001b[0m in \u001b[0;36mrecv_into\u001b[1;34m(self, *args, **kwargs)\u001b[0m\n\u001b[0;32m    290\u001b[0m                 \u001b[1;32mraise\u001b[0m\u001b[1;33m\u001b[0m\u001b[0m\n\u001b[0;32m    291\u001b[0m         \u001b[1;32mexcept\u001b[0m \u001b[0mOpenSSL\u001b[0m\u001b[1;33m.\u001b[0m\u001b[0mSSL\u001b[0m\u001b[1;33m.\u001b[0m\u001b[0mWantReadError\u001b[0m\u001b[1;33m:\u001b[0m\u001b[1;33m\u001b[0m\u001b[0m\n\u001b[1;32m--> 292\u001b[1;33m             \u001b[0mrd\u001b[0m \u001b[1;33m=\u001b[0m \u001b[0mutil\u001b[0m\u001b[1;33m.\u001b[0m\u001b[0mwait_for_read\u001b[0m\u001b[1;33m(\u001b[0m\u001b[0mself\u001b[0m\u001b[1;33m.\u001b[0m\u001b[0msocket\u001b[0m\u001b[1;33m,\u001b[0m \u001b[0mself\u001b[0m\u001b[1;33m.\u001b[0m\u001b[0msocket\u001b[0m\u001b[1;33m.\u001b[0m\u001b[0mgettimeout\u001b[0m\u001b[1;33m(\u001b[0m\u001b[1;33m)\u001b[0m\u001b[1;33m)\u001b[0m\u001b[1;33m\u001b[0m\u001b[0m\n\u001b[0m\u001b[0;32m    293\u001b[0m             \u001b[1;32mif\u001b[0m \u001b[1;32mnot\u001b[0m \u001b[0mrd\u001b[0m\u001b[1;33m:\u001b[0m\u001b[1;33m\u001b[0m\u001b[0m\n\u001b[0;32m    294\u001b[0m                 \u001b[1;32mraise\u001b[0m \u001b[0mtimeout\u001b[0m\u001b[1;33m(\u001b[0m\u001b[1;34m'The read operation timed out'\u001b[0m\u001b[1;33m)\u001b[0m\u001b[1;33m\u001b[0m\u001b[0m\n",
      "\u001b[1;32mC:\\ProgramData\\Anaconda3\\lib\\site-packages\\urllib3\\util\\wait.py\u001b[0m in \u001b[0;36mwait_for_read\u001b[1;34m(socks, timeout)\u001b[0m\n\u001b[0;32m     31\u001b[0m     \u001b[1;32mor\u001b[0m \u001b[0moptionally\u001b[0m \u001b[0ma\u001b[0m \u001b[0msingle\u001b[0m \u001b[0msocket\u001b[0m \u001b[1;32mif\u001b[0m \u001b[0mpassed\u001b[0m \u001b[1;32min\u001b[0m\u001b[1;33m.\u001b[0m \u001b[0mReturns\u001b[0m \u001b[0ma\u001b[0m \u001b[0mlist\u001b[0m \u001b[0mof\u001b[0m\u001b[1;33m\u001b[0m\u001b[0m\n\u001b[0;32m     32\u001b[0m     sockets that can be read from immediately. \"\"\"\n\u001b[1;32m---> 33\u001b[1;33m     \u001b[1;32mreturn\u001b[0m \u001b[0m_wait_for_io_events\u001b[0m\u001b[1;33m(\u001b[0m\u001b[0msocks\u001b[0m\u001b[1;33m,\u001b[0m \u001b[0mEVENT_READ\u001b[0m\u001b[1;33m,\u001b[0m \u001b[0mtimeout\u001b[0m\u001b[1;33m)\u001b[0m\u001b[1;33m\u001b[0m\u001b[0m\n\u001b[0m\u001b[0;32m     34\u001b[0m \u001b[1;33m\u001b[0m\u001b[0m\n\u001b[0;32m     35\u001b[0m \u001b[1;33m\u001b[0m\u001b[0m\n",
      "\u001b[1;32mC:\\ProgramData\\Anaconda3\\lib\\site-packages\\urllib3\\util\\wait.py\u001b[0m in \u001b[0;36m_wait_for_io_events\u001b[1;34m(socks, events, timeout)\u001b[0m\n\u001b[0;32m     24\u001b[0m             \u001b[0mselector\u001b[0m\u001b[1;33m.\u001b[0m\u001b[0mregister\u001b[0m\u001b[1;33m(\u001b[0m\u001b[0msock\u001b[0m\u001b[1;33m,\u001b[0m \u001b[0mevents\u001b[0m\u001b[1;33m)\u001b[0m\u001b[1;33m\u001b[0m\u001b[0m\n\u001b[0;32m     25\u001b[0m         return [key[0].fileobj for key in\n\u001b[1;32m---> 26\u001b[1;33m                 selector.select(timeout) if key[1] & events]\n\u001b[0m\u001b[0;32m     27\u001b[0m \u001b[1;33m\u001b[0m\u001b[0m\n\u001b[0;32m     28\u001b[0m \u001b[1;33m\u001b[0m\u001b[0m\n",
      "\u001b[1;32mC:\\ProgramData\\Anaconda3\\lib\\site-packages\\urllib3\\util\\selectors.py\u001b[0m in \u001b[0;36mselect\u001b[1;34m(self, timeout)\u001b[0m\n\u001b[0;32m    318\u001b[0m             \u001b[0mready\u001b[0m \u001b[1;33m=\u001b[0m \u001b[1;33m[\u001b[0m\u001b[1;33m]\u001b[0m\u001b[1;33m\u001b[0m\u001b[0m\n\u001b[0;32m    319\u001b[0m             r, w, _ = _syscall_wrapper(self._select, True, self._readers,\n\u001b[1;32m--> 320\u001b[1;33m                                        self._writers, timeout)\n\u001b[0m\u001b[0;32m    321\u001b[0m             \u001b[0mr\u001b[0m \u001b[1;33m=\u001b[0m \u001b[0mset\u001b[0m\u001b[1;33m(\u001b[0m\u001b[0mr\u001b[0m\u001b[1;33m)\u001b[0m\u001b[1;33m\u001b[0m\u001b[0m\n\u001b[0;32m    322\u001b[0m             \u001b[0mw\u001b[0m \u001b[1;33m=\u001b[0m \u001b[0mset\u001b[0m\u001b[1;33m(\u001b[0m\u001b[0mw\u001b[0m\u001b[1;33m)\u001b[0m\u001b[1;33m\u001b[0m\u001b[0m\n",
      "\u001b[1;32mC:\\ProgramData\\Anaconda3\\lib\\site-packages\\urllib3\\util\\selectors.py\u001b[0m in \u001b[0;36m_syscall_wrapper\u001b[1;34m(func, _, *args, **kwargs)\u001b[0m\n\u001b[0;32m     62\u001b[0m         and recalculate their timeouts. \"\"\"\n\u001b[0;32m     63\u001b[0m         \u001b[1;32mtry\u001b[0m\u001b[1;33m:\u001b[0m\u001b[1;33m\u001b[0m\u001b[0m\n\u001b[1;32m---> 64\u001b[1;33m             \u001b[1;32mreturn\u001b[0m \u001b[0mfunc\u001b[0m\u001b[1;33m(\u001b[0m\u001b[1;33m*\u001b[0m\u001b[0margs\u001b[0m\u001b[1;33m,\u001b[0m \u001b[1;33m**\u001b[0m\u001b[0mkwargs\u001b[0m\u001b[1;33m)\u001b[0m\u001b[1;33m\u001b[0m\u001b[0m\n\u001b[0m\u001b[0;32m     65\u001b[0m         \u001b[1;32mexcept\u001b[0m \u001b[1;33m(\u001b[0m\u001b[0mOSError\u001b[0m\u001b[1;33m,\u001b[0m \u001b[0mIOError\u001b[0m\u001b[1;33m,\u001b[0m \u001b[0mselect\u001b[0m\u001b[1;33m.\u001b[0m\u001b[0merror\u001b[0m\u001b[1;33m)\u001b[0m \u001b[1;32mas\u001b[0m \u001b[0me\u001b[0m\u001b[1;33m:\u001b[0m\u001b[1;33m\u001b[0m\u001b[0m\n\u001b[0;32m     66\u001b[0m             \u001b[0merrcode\u001b[0m \u001b[1;33m=\u001b[0m \u001b[1;32mNone\u001b[0m\u001b[1;33m\u001b[0m\u001b[0m\n",
      "\u001b[1;32mC:\\ProgramData\\Anaconda3\\lib\\site-packages\\urllib3\\util\\selectors.py\u001b[0m in \u001b[0;36m_select\u001b[1;34m(self, r, w, timeout)\u001b[0m\n\u001b[0;32m    308\u001b[0m         \u001b[1;32mdef\u001b[0m \u001b[0m_select\u001b[0m\u001b[1;33m(\u001b[0m\u001b[0mself\u001b[0m\u001b[1;33m,\u001b[0m \u001b[0mr\u001b[0m\u001b[1;33m,\u001b[0m \u001b[0mw\u001b[0m\u001b[1;33m,\u001b[0m \u001b[0mtimeout\u001b[0m\u001b[1;33m=\u001b[0m\u001b[1;32mNone\u001b[0m\u001b[1;33m)\u001b[0m\u001b[1;33m:\u001b[0m\u001b[1;33m\u001b[0m\u001b[0m\n\u001b[0;32m    309\u001b[0m             \u001b[1;34m\"\"\" Wrapper for select.select because timeout is a positional arg \"\"\"\u001b[0m\u001b[1;33m\u001b[0m\u001b[0m\n\u001b[1;32m--> 310\u001b[1;33m             \u001b[1;32mreturn\u001b[0m \u001b[0mselect\u001b[0m\u001b[1;33m.\u001b[0m\u001b[0mselect\u001b[0m\u001b[1;33m(\u001b[0m\u001b[0mr\u001b[0m\u001b[1;33m,\u001b[0m \u001b[0mw\u001b[0m\u001b[1;33m,\u001b[0m \u001b[1;33m[\u001b[0m\u001b[1;33m]\u001b[0m\u001b[1;33m,\u001b[0m \u001b[0mtimeout\u001b[0m\u001b[1;33m)\u001b[0m\u001b[1;33m\u001b[0m\u001b[0m\n\u001b[0m\u001b[0;32m    311\u001b[0m \u001b[1;33m\u001b[0m\u001b[0m\n\u001b[0;32m    312\u001b[0m         \u001b[1;32mdef\u001b[0m \u001b[0mselect\u001b[0m\u001b[1;33m(\u001b[0m\u001b[0mself\u001b[0m\u001b[1;33m,\u001b[0m \u001b[0mtimeout\u001b[0m\u001b[1;33m=\u001b[0m\u001b[1;32mNone\u001b[0m\u001b[1;33m)\u001b[0m\u001b[1;33m:\u001b[0m\u001b[1;33m\u001b[0m\u001b[0m\n",
      "\u001b[1;31mKeyboardInterrupt\u001b[0m: "
     ]
    }
   ],
   "source": [
    "learn = language_model_learner(data_lm, pretrained_model=URLs.WT103_1, drop_mult=0.5)"
   ]
  },
  {
   "cell_type": "code",
   "execution_count": null,
   "metadata": {},
   "outputs": [],
   "source": [
    "learn.fit_one_cycle(1, 1e-2)"
   ]
  },
  {
   "cell_type": "code",
   "execution_count": 152,
   "metadata": {},
   "outputs": [
    {
     "name": "stdout",
     "output_type": "stream",
     "text": [
      "Downloading https://s3.amazonaws.com/fast-ai-modelzoo/wt103-1.tgz\n"
     ]
    },
    {
     "ename": "ReadError",
     "evalue": "not a gzip file",
     "output_type": "error",
     "traceback": [
      "\u001b[1;31m---------------------------------------------------------------------------\u001b[0m",
      "\u001b[1;31mOSError\u001b[0m                                   Traceback (most recent call last)",
      "\u001b[1;32mC:\\ProgramData\\Anaconda3\\lib\\tarfile.py\u001b[0m in \u001b[0;36mgzopen\u001b[1;34m(cls, name, mode, fileobj, compresslevel, **kwargs)\u001b[0m\n\u001b[0;32m   1639\u001b[0m         \u001b[1;32mtry\u001b[0m\u001b[1;33m:\u001b[0m\u001b[1;33m\u001b[0m\u001b[0m\n\u001b[1;32m-> 1640\u001b[1;33m             \u001b[0mt\u001b[0m \u001b[1;33m=\u001b[0m \u001b[0mcls\u001b[0m\u001b[1;33m.\u001b[0m\u001b[0mtaropen\u001b[0m\u001b[1;33m(\u001b[0m\u001b[0mname\u001b[0m\u001b[1;33m,\u001b[0m \u001b[0mmode\u001b[0m\u001b[1;33m,\u001b[0m \u001b[0mfileobj\u001b[0m\u001b[1;33m,\u001b[0m \u001b[1;33m**\u001b[0m\u001b[0mkwargs\u001b[0m\u001b[1;33m)\u001b[0m\u001b[1;33m\u001b[0m\u001b[0m\n\u001b[0m\u001b[0;32m   1641\u001b[0m         \u001b[1;32mexcept\u001b[0m \u001b[0mOSError\u001b[0m\u001b[1;33m:\u001b[0m\u001b[1;33m\u001b[0m\u001b[0m\n",
      "\u001b[1;32mC:\\ProgramData\\Anaconda3\\lib\\tarfile.py\u001b[0m in \u001b[0;36mtaropen\u001b[1;34m(cls, name, mode, fileobj, **kwargs)\u001b[0m\n\u001b[0;32m   1615\u001b[0m             \u001b[1;32mraise\u001b[0m \u001b[0mValueError\u001b[0m\u001b[1;33m(\u001b[0m\u001b[1;34m\"mode must be 'r', 'a', 'w' or 'x'\"\u001b[0m\u001b[1;33m)\u001b[0m\u001b[1;33m\u001b[0m\u001b[0m\n\u001b[1;32m-> 1616\u001b[1;33m         \u001b[1;32mreturn\u001b[0m \u001b[0mcls\u001b[0m\u001b[1;33m(\u001b[0m\u001b[0mname\u001b[0m\u001b[1;33m,\u001b[0m \u001b[0mmode\u001b[0m\u001b[1;33m,\u001b[0m \u001b[0mfileobj\u001b[0m\u001b[1;33m,\u001b[0m \u001b[1;33m**\u001b[0m\u001b[0mkwargs\u001b[0m\u001b[1;33m)\u001b[0m\u001b[1;33m\u001b[0m\u001b[0m\n\u001b[0m\u001b[0;32m   1617\u001b[0m \u001b[1;33m\u001b[0m\u001b[0m\n",
      "\u001b[1;32mC:\\ProgramData\\Anaconda3\\lib\\tarfile.py\u001b[0m in \u001b[0;36m__init__\u001b[1;34m(self, name, mode, fileobj, format, tarinfo, dereference, ignore_zeros, encoding, errors, pax_headers, debug, errorlevel, copybufsize)\u001b[0m\n\u001b[0;32m   1478\u001b[0m                 \u001b[0mself\u001b[0m\u001b[1;33m.\u001b[0m\u001b[0mfirstmember\u001b[0m \u001b[1;33m=\u001b[0m \u001b[1;32mNone\u001b[0m\u001b[1;33m\u001b[0m\u001b[0m\n\u001b[1;32m-> 1479\u001b[1;33m                 \u001b[0mself\u001b[0m\u001b[1;33m.\u001b[0m\u001b[0mfirstmember\u001b[0m \u001b[1;33m=\u001b[0m \u001b[0mself\u001b[0m\u001b[1;33m.\u001b[0m\u001b[0mnext\u001b[0m\u001b[1;33m(\u001b[0m\u001b[1;33m)\u001b[0m\u001b[1;33m\u001b[0m\u001b[0m\n\u001b[0m\u001b[0;32m   1480\u001b[0m \u001b[1;33m\u001b[0m\u001b[0m\n",
      "\u001b[1;32mC:\\ProgramData\\Anaconda3\\lib\\tarfile.py\u001b[0m in \u001b[0;36mnext\u001b[1;34m(self)\u001b[0m\n\u001b[0;32m   2293\u001b[0m             \u001b[1;32mtry\u001b[0m\u001b[1;33m:\u001b[0m\u001b[1;33m\u001b[0m\u001b[0m\n\u001b[1;32m-> 2294\u001b[1;33m                 \u001b[0mtarinfo\u001b[0m \u001b[1;33m=\u001b[0m \u001b[0mself\u001b[0m\u001b[1;33m.\u001b[0m\u001b[0mtarinfo\u001b[0m\u001b[1;33m.\u001b[0m\u001b[0mfromtarfile\u001b[0m\u001b[1;33m(\u001b[0m\u001b[0mself\u001b[0m\u001b[1;33m)\u001b[0m\u001b[1;33m\u001b[0m\u001b[0m\n\u001b[0m\u001b[0;32m   2295\u001b[0m             \u001b[1;32mexcept\u001b[0m \u001b[0mEOFHeaderError\u001b[0m \u001b[1;32mas\u001b[0m \u001b[0me\u001b[0m\u001b[1;33m:\u001b[0m\u001b[1;33m\u001b[0m\u001b[0m\n",
      "\u001b[1;32mC:\\ProgramData\\Anaconda3\\lib\\tarfile.py\u001b[0m in \u001b[0;36mfromtarfile\u001b[1;34m(cls, tarfile)\u001b[0m\n\u001b[0;32m   1088\u001b[0m         \"\"\"\n\u001b[1;32m-> 1089\u001b[1;33m         \u001b[0mbuf\u001b[0m \u001b[1;33m=\u001b[0m \u001b[0mtarfile\u001b[0m\u001b[1;33m.\u001b[0m\u001b[0mfileobj\u001b[0m\u001b[1;33m.\u001b[0m\u001b[0mread\u001b[0m\u001b[1;33m(\u001b[0m\u001b[0mBLOCKSIZE\u001b[0m\u001b[1;33m)\u001b[0m\u001b[1;33m\u001b[0m\u001b[0m\n\u001b[0m\u001b[0;32m   1090\u001b[0m         \u001b[0mobj\u001b[0m \u001b[1;33m=\u001b[0m \u001b[0mcls\u001b[0m\u001b[1;33m.\u001b[0m\u001b[0mfrombuf\u001b[0m\u001b[1;33m(\u001b[0m\u001b[0mbuf\u001b[0m\u001b[1;33m,\u001b[0m \u001b[0mtarfile\u001b[0m\u001b[1;33m.\u001b[0m\u001b[0mencoding\u001b[0m\u001b[1;33m,\u001b[0m \u001b[0mtarfile\u001b[0m\u001b[1;33m.\u001b[0m\u001b[0merrors\u001b[0m\u001b[1;33m)\u001b[0m\u001b[1;33m\u001b[0m\u001b[0m\n",
      "\u001b[1;32mC:\\ProgramData\\Anaconda3\\lib\\gzip.py\u001b[0m in \u001b[0;36mread\u001b[1;34m(self, size)\u001b[0m\n\u001b[0;32m    275\u001b[0m             \u001b[1;32mraise\u001b[0m \u001b[0mOSError\u001b[0m\u001b[1;33m(\u001b[0m\u001b[0merrno\u001b[0m\u001b[1;33m.\u001b[0m\u001b[0mEBADF\u001b[0m\u001b[1;33m,\u001b[0m \u001b[1;34m\"read() on write-only GzipFile object\"\u001b[0m\u001b[1;33m)\u001b[0m\u001b[1;33m\u001b[0m\u001b[0m\n\u001b[1;32m--> 276\u001b[1;33m         \u001b[1;32mreturn\u001b[0m \u001b[0mself\u001b[0m\u001b[1;33m.\u001b[0m\u001b[0m_buffer\u001b[0m\u001b[1;33m.\u001b[0m\u001b[0mread\u001b[0m\u001b[1;33m(\u001b[0m\u001b[0msize\u001b[0m\u001b[1;33m)\u001b[0m\u001b[1;33m\u001b[0m\u001b[0m\n\u001b[0m\u001b[0;32m    277\u001b[0m \u001b[1;33m\u001b[0m\u001b[0m\n",
      "\u001b[1;32mC:\\ProgramData\\Anaconda3\\lib\\_compression.py\u001b[0m in \u001b[0;36mreadinto\u001b[1;34m(self, b)\u001b[0m\n\u001b[0;32m     67\u001b[0m         \u001b[1;32mwith\u001b[0m \u001b[0mmemoryview\u001b[0m\u001b[1;33m(\u001b[0m\u001b[0mb\u001b[0m\u001b[1;33m)\u001b[0m \u001b[1;32mas\u001b[0m \u001b[0mview\u001b[0m\u001b[1;33m,\u001b[0m \u001b[0mview\u001b[0m\u001b[1;33m.\u001b[0m\u001b[0mcast\u001b[0m\u001b[1;33m(\u001b[0m\u001b[1;34m\"B\"\u001b[0m\u001b[1;33m)\u001b[0m \u001b[1;32mas\u001b[0m \u001b[0mbyte_view\u001b[0m\u001b[1;33m:\u001b[0m\u001b[1;33m\u001b[0m\u001b[0m\n\u001b[1;32m---> 68\u001b[1;33m             \u001b[0mdata\u001b[0m \u001b[1;33m=\u001b[0m \u001b[0mself\u001b[0m\u001b[1;33m.\u001b[0m\u001b[0mread\u001b[0m\u001b[1;33m(\u001b[0m\u001b[0mlen\u001b[0m\u001b[1;33m(\u001b[0m\u001b[0mbyte_view\u001b[0m\u001b[1;33m)\u001b[0m\u001b[1;33m)\u001b[0m\u001b[1;33m\u001b[0m\u001b[0m\n\u001b[0m\u001b[0;32m     69\u001b[0m             \u001b[0mbyte_view\u001b[0m\u001b[1;33m[\u001b[0m\u001b[1;33m:\u001b[0m\u001b[0mlen\u001b[0m\u001b[1;33m(\u001b[0m\u001b[0mdata\u001b[0m\u001b[1;33m)\u001b[0m\u001b[1;33m]\u001b[0m \u001b[1;33m=\u001b[0m \u001b[0mdata\u001b[0m\u001b[1;33m\u001b[0m\u001b[0m\n",
      "\u001b[1;32mC:\\ProgramData\\Anaconda3\\lib\\gzip.py\u001b[0m in \u001b[0;36mread\u001b[1;34m(self, size)\u001b[0m\n\u001b[0;32m    462\u001b[0m                 \u001b[0mself\u001b[0m\u001b[1;33m.\u001b[0m\u001b[0m_init_read\u001b[0m\u001b[1;33m(\u001b[0m\u001b[1;33m)\u001b[0m\u001b[1;33m\u001b[0m\u001b[0m\n\u001b[1;32m--> 463\u001b[1;33m                 \u001b[1;32mif\u001b[0m \u001b[1;32mnot\u001b[0m \u001b[0mself\u001b[0m\u001b[1;33m.\u001b[0m\u001b[0m_read_gzip_header\u001b[0m\u001b[1;33m(\u001b[0m\u001b[1;33m)\u001b[0m\u001b[1;33m:\u001b[0m\u001b[1;33m\u001b[0m\u001b[0m\n\u001b[0m\u001b[0;32m    464\u001b[0m                     \u001b[0mself\u001b[0m\u001b[1;33m.\u001b[0m\u001b[0m_size\u001b[0m \u001b[1;33m=\u001b[0m \u001b[0mself\u001b[0m\u001b[1;33m.\u001b[0m\u001b[0m_pos\u001b[0m\u001b[1;33m\u001b[0m\u001b[0m\n",
      "\u001b[1;32mC:\\ProgramData\\Anaconda3\\lib\\gzip.py\u001b[0m in \u001b[0;36m_read_gzip_header\u001b[1;34m(self)\u001b[0m\n\u001b[0;32m    410\u001b[0m         \u001b[1;32mif\u001b[0m \u001b[0mmagic\u001b[0m \u001b[1;33m!=\u001b[0m \u001b[1;34mb'\\037\\213'\u001b[0m\u001b[1;33m:\u001b[0m\u001b[1;33m\u001b[0m\u001b[0m\n\u001b[1;32m--> 411\u001b[1;33m             \u001b[1;32mraise\u001b[0m \u001b[0mOSError\u001b[0m\u001b[1;33m(\u001b[0m\u001b[1;34m'Not a gzipped file (%r)'\u001b[0m \u001b[1;33m%\u001b[0m \u001b[0mmagic\u001b[0m\u001b[1;33m)\u001b[0m\u001b[1;33m\u001b[0m\u001b[0m\n\u001b[0m\u001b[0;32m    412\u001b[0m \u001b[1;33m\u001b[0m\u001b[0m\n",
      "\u001b[1;31mOSError\u001b[0m: Not a gzipped file (b'<?')",
      "\nDuring handling of the above exception, another exception occurred:\n",
      "\u001b[1;31mReadError\u001b[0m                                 Traceback (most recent call last)",
      "\u001b[1;32m<ipython-input-152-14169db3b066>\u001b[0m in \u001b[0;36m<module>\u001b[1;34m()\u001b[0m\n\u001b[1;32m----> 1\u001b[1;33m \u001b[0mlearn\u001b[0m \u001b[1;33m=\u001b[0m \u001b[0mlanguage_model_learner\u001b[0m\u001b[1;33m(\u001b[0m\u001b[0mdata_lm\u001b[0m\u001b[1;33m,\u001b[0m \u001b[0mpretrained_model\u001b[0m\u001b[1;33m=\u001b[0m\u001b[1;34m\"https://s3.amazonaws.com/fast-ai-modelzoo/wt103-1.tgz\"\u001b[0m\u001b[1;33m,\u001b[0m \u001b[0mdrop_mult\u001b[0m\u001b[1;33m=\u001b[0m\u001b[1;36m0.5\u001b[0m\u001b[1;33m)\u001b[0m\u001b[1;33m\u001b[0m\u001b[0m\n\u001b[0m\u001b[0;32m      2\u001b[0m \u001b[0mlearn\u001b[0m\u001b[1;33m.\u001b[0m\u001b[0mfit_one_cycle\u001b[0m\u001b[1;33m(\u001b[0m\u001b[1;36m1\u001b[0m\u001b[1;33m,\u001b[0m \u001b[1;36m1e-2\u001b[0m\u001b[1;33m)\u001b[0m\u001b[1;33m\u001b[0m\u001b[0m\n",
      "\u001b[1;32mC:\\ProgramData\\Anaconda3\\lib\\site-packages\\fastai\\text\\learner.py\u001b[0m in \u001b[0;36mlanguage_model_learner\u001b[1;34m(data, bptt, emb_sz, nh, nl, pad_token, drop_mult, tie_weights, bias, qrnn, pretrained_model, pretrained_fnames, **kwargs)\u001b[0m\n\u001b[0;32m    108\u001b[0m     \u001b[0mlearn\u001b[0m \u001b[1;33m=\u001b[0m \u001b[0mLanguageLearner\u001b[0m\u001b[1;33m(\u001b[0m\u001b[0mdata\u001b[0m\u001b[1;33m,\u001b[0m \u001b[0mmodel\u001b[0m\u001b[1;33m,\u001b[0m \u001b[0mbptt\u001b[0m\u001b[1;33m,\u001b[0m \u001b[0msplit_func\u001b[0m\u001b[1;33m=\u001b[0m\u001b[0mlm_split\u001b[0m\u001b[1;33m,\u001b[0m \u001b[1;33m**\u001b[0m\u001b[0mkwargs\u001b[0m\u001b[1;33m)\u001b[0m\u001b[1;33m\u001b[0m\u001b[0m\n\u001b[0;32m    109\u001b[0m     \u001b[1;32mif\u001b[0m \u001b[0mpretrained_model\u001b[0m \u001b[1;32mis\u001b[0m \u001b[1;32mnot\u001b[0m \u001b[1;32mNone\u001b[0m\u001b[1;33m:\u001b[0m\u001b[1;33m\u001b[0m\u001b[0m\n\u001b[1;32m--> 110\u001b[1;33m         \u001b[0mmodel_path\u001b[0m \u001b[1;33m=\u001b[0m \u001b[0muntar_data\u001b[0m\u001b[1;33m(\u001b[0m\u001b[0mpretrained_model\u001b[0m\u001b[1;33m,\u001b[0m \u001b[0mdata\u001b[0m\u001b[1;33m=\u001b[0m\u001b[1;32mFalse\u001b[0m\u001b[1;33m)\u001b[0m\u001b[1;33m\u001b[0m\u001b[0m\n\u001b[0m\u001b[0;32m    111\u001b[0m         \u001b[0mfnames\u001b[0m \u001b[1;33m=\u001b[0m \u001b[1;33m[\u001b[0m\u001b[0mlist\u001b[0m\u001b[1;33m(\u001b[0m\u001b[0mmodel_path\u001b[0m\u001b[1;33m.\u001b[0m\u001b[0mglob\u001b[0m\u001b[1;33m(\u001b[0m\u001b[1;34mf'*.{ext}'\u001b[0m\u001b[1;33m)\u001b[0m\u001b[1;33m)\u001b[0m\u001b[1;33m[\u001b[0m\u001b[1;36m0\u001b[0m\u001b[1;33m]\u001b[0m \u001b[1;32mfor\u001b[0m \u001b[0mext\u001b[0m \u001b[1;32min\u001b[0m \u001b[1;33m[\u001b[0m\u001b[1;34m'pth'\u001b[0m\u001b[1;33m,\u001b[0m \u001b[1;34m'pkl'\u001b[0m\u001b[1;33m]\u001b[0m\u001b[1;33m]\u001b[0m\u001b[1;33m\u001b[0m\u001b[0m\n\u001b[0;32m    112\u001b[0m         \u001b[0mlearn\u001b[0m\u001b[1;33m.\u001b[0m\u001b[0mload_pretrained\u001b[0m\u001b[1;33m(\u001b[0m\u001b[1;33m*\u001b[0m\u001b[0mfnames\u001b[0m\u001b[1;33m)\u001b[0m\u001b[1;33m\u001b[0m\u001b[0m\n",
      "\u001b[1;32mC:\\ProgramData\\Anaconda3\\lib\\site-packages\\fastai\\datasets.py\u001b[0m in \u001b[0;36muntar_data\u001b[1;34m(url, fname, dest, data)\u001b[0m\n\u001b[0;32m    104\u001b[0m     \u001b[1;32mif\u001b[0m \u001b[1;32mnot\u001b[0m \u001b[0mdest\u001b[0m\u001b[1;33m.\u001b[0m\u001b[0mexists\u001b[0m\u001b[1;33m(\u001b[0m\u001b[1;33m)\u001b[0m\u001b[1;33m:\u001b[0m\u001b[1;33m\u001b[0m\u001b[0m\n\u001b[0;32m    105\u001b[0m         \u001b[0mfname\u001b[0m \u001b[1;33m=\u001b[0m \u001b[0mdownload_data\u001b[0m\u001b[1;33m(\u001b[0m\u001b[0murl\u001b[0m\u001b[1;33m,\u001b[0m \u001b[0mfname\u001b[0m\u001b[1;33m=\u001b[0m\u001b[0mfname\u001b[0m\u001b[1;33m,\u001b[0m \u001b[0mdata\u001b[0m\u001b[1;33m=\u001b[0m\u001b[0mdata\u001b[0m\u001b[1;33m)\u001b[0m\u001b[1;33m\u001b[0m\u001b[0m\n\u001b[1;32m--> 106\u001b[1;33m         \u001b[0mtarfile\u001b[0m\u001b[1;33m.\u001b[0m\u001b[0mopen\u001b[0m\u001b[1;33m(\u001b[0m\u001b[0mfname\u001b[0m\u001b[1;33m,\u001b[0m \u001b[1;34m'r:gz'\u001b[0m\u001b[1;33m)\u001b[0m\u001b[1;33m.\u001b[0m\u001b[0mextractall\u001b[0m\u001b[1;33m(\u001b[0m\u001b[0mdest\u001b[0m\u001b[1;33m.\u001b[0m\u001b[0mparent\u001b[0m\u001b[1;33m)\u001b[0m\u001b[1;33m\u001b[0m\u001b[0m\n\u001b[0m\u001b[0;32m    107\u001b[0m     \u001b[1;32mreturn\u001b[0m \u001b[0mdest\u001b[0m\u001b[1;33m\u001b[0m\u001b[0m\n\u001b[0;32m    108\u001b[0m \u001b[1;33m\u001b[0m\u001b[0m\n",
      "\u001b[1;32mC:\\ProgramData\\Anaconda3\\lib\\tarfile.py\u001b[0m in \u001b[0;36mopen\u001b[1;34m(cls, name, mode, fileobj, bufsize, **kwargs)\u001b[0m\n\u001b[0;32m   1584\u001b[0m             \u001b[1;32melse\u001b[0m\u001b[1;33m:\u001b[0m\u001b[1;33m\u001b[0m\u001b[0m\n\u001b[0;32m   1585\u001b[0m                 \u001b[1;32mraise\u001b[0m \u001b[0mCompressionError\u001b[0m\u001b[1;33m(\u001b[0m\u001b[1;34m\"unknown compression type %r\"\u001b[0m \u001b[1;33m%\u001b[0m \u001b[0mcomptype\u001b[0m\u001b[1;33m)\u001b[0m\u001b[1;33m\u001b[0m\u001b[0m\n\u001b[1;32m-> 1586\u001b[1;33m             \u001b[1;32mreturn\u001b[0m \u001b[0mfunc\u001b[0m\u001b[1;33m(\u001b[0m\u001b[0mname\u001b[0m\u001b[1;33m,\u001b[0m \u001b[0mfilemode\u001b[0m\u001b[1;33m,\u001b[0m \u001b[0mfileobj\u001b[0m\u001b[1;33m,\u001b[0m \u001b[1;33m**\u001b[0m\u001b[0mkwargs\u001b[0m\u001b[1;33m)\u001b[0m\u001b[1;33m\u001b[0m\u001b[0m\n\u001b[0m\u001b[0;32m   1587\u001b[0m \u001b[1;33m\u001b[0m\u001b[0m\n\u001b[0;32m   1588\u001b[0m         \u001b[1;32melif\u001b[0m \u001b[1;34m\"|\"\u001b[0m \u001b[1;32min\u001b[0m \u001b[0mmode\u001b[0m\u001b[1;33m:\u001b[0m\u001b[1;33m\u001b[0m\u001b[0m\n",
      "\u001b[1;32mC:\\ProgramData\\Anaconda3\\lib\\tarfile.py\u001b[0m in \u001b[0;36mgzopen\u001b[1;34m(cls, name, mode, fileobj, compresslevel, **kwargs)\u001b[0m\n\u001b[0;32m   1642\u001b[0m             \u001b[0mfileobj\u001b[0m\u001b[1;33m.\u001b[0m\u001b[0mclose\u001b[0m\u001b[1;33m(\u001b[0m\u001b[1;33m)\u001b[0m\u001b[1;33m\u001b[0m\u001b[0m\n\u001b[0;32m   1643\u001b[0m             \u001b[1;32mif\u001b[0m \u001b[0mmode\u001b[0m \u001b[1;33m==\u001b[0m \u001b[1;34m'r'\u001b[0m\u001b[1;33m:\u001b[0m\u001b[1;33m\u001b[0m\u001b[0m\n\u001b[1;32m-> 1644\u001b[1;33m                 \u001b[1;32mraise\u001b[0m \u001b[0mReadError\u001b[0m\u001b[1;33m(\u001b[0m\u001b[1;34m\"not a gzip file\"\u001b[0m\u001b[1;33m)\u001b[0m\u001b[1;33m\u001b[0m\u001b[0m\n\u001b[0m\u001b[0;32m   1645\u001b[0m             \u001b[1;32mraise\u001b[0m\u001b[1;33m\u001b[0m\u001b[0m\n\u001b[0;32m   1646\u001b[0m         \u001b[1;32mexcept\u001b[0m\u001b[1;33m:\u001b[0m\u001b[1;33m\u001b[0m\u001b[0m\n",
      "\u001b[1;31mReadError\u001b[0m: not a gzip file"
     ]
    }
   ],
   "source": [
    "learn = language_model_learner(data_lm, pretrained_model=\"https://s3.amazonaws.com/fast-ai-modelzoo/wt103-1.tgz\", drop_mult=0.5)\n",
    "learn.fit_one_cycle(1, 1e-2)"
   ]
  },
  {
   "cell_type": "code",
   "execution_count": null,
   "metadata": {},
   "outputs": [],
   "source": [
    "learn.freeze()\n",
    "learn.fit_one_cycle(1, 1e-3)"
   ]
  },
  {
   "cell_type": "code",
   "execution_count": null,
   "metadata": {},
   "outputs": [],
   "source": []
  },
  {
   "cell_type": "code",
   "execution_count": 86,
   "metadata": {},
   "outputs": [
    {
     "data": {
      "text/plain": [
       "(25,)"
      ]
     },
     "execution_count": 86,
     "metadata": {},
     "output_type": "execute_result"
    }
   ],
   "source": [
    "imdb_task.embeds['train']['glove-twitter-25']"
   ]
  },
  {
   "cell_type": "code",
   "execution_count": null,
   "metadata": {},
   "outputs": [],
   "source": []
  },
  {
   "cell_type": "code",
   "execution_count": null,
   "metadata": {},
   "outputs": [],
   "source": []
  },
  {
   "cell_type": "code",
   "execution_count": null,
   "metadata": {},
   "outputs": [],
   "source": []
  },
  {
   "cell_type": "code",
   "execution_count": null,
   "metadata": {},
   "outputs": [],
   "source": []
  },
  {
   "cell_type": "code",
   "execution_count": 65,
   "metadata": {},
   "outputs": [
    {
     "data": {
      "text/plain": [
       "5000"
      ]
     },
     "execution_count": 65,
     "metadata": {},
     "output_type": "execute_result"
    }
   ],
   "source": [
    "len (agg_sims)"
   ]
  },
  {
   "cell_type": "code",
   "execution_count": 63,
   "metadata": {},
   "outputs": [
    {
     "data": {
      "text/plain": [
       "array([array([0.61939216, 0.42088   , 0.5062772 , 0.6405264 , 0.61984324,\n",
       "       0.5082001 , 0.5903946 , 0.54026645, 0.6164763 , 0.5372426 ,\n",
       "       0.6240126 , 0.6416653 , 0.5556282 , 0.32596833, 0.0342401 ,\n",
       "       0.576899  , 0.3858249 , 0.5833219 , 0.41261664, 0.3594917 ,\n",
       "       0.47139272, 0.37920654, 0.31073195, 0.65938735, 0.6038233 ,\n",
       "       0.47139272, 0.58252776, 0.57074076, 0.6296195 , 0.576899  ,\n",
       "       0.4744357 , 0.5962877 , 0.65938735, 0.4744357 , 0.5181165 ,\n",
       "       0.5372426 , 0.5840609 , 0.5997743 , 0.57060707, 0.556755  ,\n",
       "       0.49304223, 0.5651883 , 0.61939216, 0.65938735, 0.59958464,\n",
       "       0.6302462 , 0.6371176 , 0.3858249 , 0.4610607 , 0.51337916,\n",
       "       0.77273124, 0.60864025, 0.28311792, 0.570439  ], dtype=float32),\n",
       "       array([ 0.61939204,  0.57689902,  0.45473815,  0.61984316,  0.59676421,\n",
       "        0.44409797,  0.61955441,  0.61939204,  0.5203397 ,  0.68666828,\n",
       "        0.5090131 ,  0.35521208,  0.56355127,  0.47139274,  0.65938729,\n",
       "        0.65938729,  0.47139274,  0.55468876,  0.59266964,  0.72605096,\n",
       "        0.60864022,  0.59682833,  0.29287303,  0.61955441,  0.61984316,\n",
       "        0.45497836,  0.5203397 ,  0.38582484,  0.17444903,  0.546985  ,\n",
       "        0.29750242,  0.58035051,  0.52140116,  0.52648474,  0.38582484,\n",
       "        0.3602602 ,  0.42868461,  0.56261776,  0.56910196,  0.33233853,\n",
       "        0.546985  ,  0.61474947,  0.61955441,  0.61984316,  0.5014869 ,\n",
       "        0.32845394,  0.47139274,  0.61984316,  0.67110807,  0.65938729,\n",
       "        0.58035051,  0.44432306,  0.53781274,  0.61984316,  0.42868461,\n",
       "        0.56261776,  0.37884861,  0.65034258,  0.63368477,  0.50208308,\n",
       "        0.65938729,  0.38380801,  0.47139274,  0.61939204,  0.5203397 ,\n",
       "        0.3731748 ,  0.00417651,  0.57689902,  0.43167296,  0.46779283,\n",
       "        0.65938729,  0.57074069,  0.3839333 ,  0.21522234,  0.43948219,\n",
       "        0.57689902,  0.40114559,  0.56980566,  0.0464916 ,  0.31828514,\n",
       "       -0.0199799 ,  0.65938729,  0.47139274,  0.38582484,  0.57581398,\n",
       "        0.50028076,  0.57689902,  0.4298085 ,  0.20518102,  0.68909637,\n",
       "        0.50417844,  0.45014646,  0.61984316,  0.56002535,  0.61955441,\n",
       "        0.50345542,  0.61955441,  0.55622446,  0.48700239,  0.20518102,\n",
       "        0.60144006,  0.46106066,  0.61984316,  0.72161873,  0.45014646,\n",
       "        0.61984316,  0.60604863,  0.54415471,  0.56910196,  0.61740363,\n",
       "        0.43167296,  0.28311787,  0.17220401,  0.41261663,  0.59031211,\n",
       "        0.42087994,  0.38582484,  0.58153419,  0.63283205,  0.65802166,\n",
       "        0.45014646,  0.60536796,  0.45014646,  0.38582484,  0.6595867 ,\n",
       "        0.67202408,  0.57911092,  0.56355127,  0.61984316,  0.62506491,\n",
       "        0.42180202,  0.63848373,  0.61984316,  0.4601295 ,  0.        ,\n",
       "        0.60691473,  0.63280988,  0.65938729,  0.61984316,  0.62610649,\n",
       "        0.61944169,  0.60864022,  0.47382309,  0.55077576,  0.55468876,\n",
       "        0.59266964,  0.52488444,  0.56355127,  0.65938729,  0.51084059,\n",
       "        0.46177801,  0.58153419,  0.68004228,  0.61041878,  0.60864022,\n",
       "        0.57689902,  0.68861438,  0.5203397 ,  0.65938729,  0.57689902,\n",
       "        0.71943826,  0.61022042,  0.19158986,  0.19158986,  0.47139274,\n",
       "        0.65432432,  0.51285512,  0.60591051,  0.38582484,  0.65079929,\n",
       "        0.64582089,  0.4777371 ,  0.5203397 ,  0.60277614,  0.35742839,\n",
       "        0.36847653,  0.28311787,  0.61984316,  0.42552676,  0.60864022,\n",
       "        0.28311787,  0.45449154,  0.65802166,  0.60691473,  0.36392285,\n",
       "        0.6970934 ,  0.71525643,  0.65938729,  0.35742839,  0.57689902,\n",
       "        0.63254712,  0.6970934 ,  0.43819315,  0.65938729,  0.60604863,\n",
       "        0.6559548 ,  0.61984316,  0.5338575 ,  0.43167296,  0.46779283,\n",
       "        0.61984316,  0.42552676,  0.57689902,  0.54751679,  0.61984316,\n",
       "        0.72161873,  0.4777371 ,  0.60873928,  0.64765476,  0.60499182,\n",
       "        0.62825662,  0.56573382,  0.61984316,  0.06439093,  0.63953202,\n",
       "        0.62087714,  0.52973776,  0.46779283,  0.546985  ,  0.16387816,\n",
       "        0.57689902,  0.38582484,  0.46452896,  0.60873928,  0.57689902,\n",
       "        0.59977418,  0.3731748 ,  0.00417651,  0.40114559,  0.36530746,\n",
       "        0.61984316,  0.62560747,  0.34676071,  0.65938729,  0.33246889,\n",
       "        0.6812617 ,  0.66638253,  0.61984316,  0.62560747,  0.49987461,\n",
       "        0.52674422,  0.65938729,  0.52674422,  0.65938729,  0.52674422,\n",
       "        0.77044665,  0.45014646,  0.47139274, -0.1008757 ,  0.65938729,\n",
       "        0.61984316,  0.29019566,  0.55005479,  0.51403576,  0.58614146,\n",
       "        0.65938729,  0.57312948,  0.64765476, -0.10997251,  0.55562809,\n",
       "        0.61474947,  0.61955441,  0.55622446,  0.52140116,  0.64765476,\n",
       "       -0.10997251,  0.55562809,  0.52464203,  0.63848373,  0.60536796,\n",
       "        0.62391859,  0.62469918,  0.57317678,  0.59958459,  0.54034114,\n",
       "        0.65938729,  0.61944169,  0.60864022,  0.57689902,  0.57911092,\n",
       "        0.38582484,  0.07212732,  0.61955441,  0.57074069,  0.62538866,\n",
       "        0.52140116,  0.570607  ,  0.63486311,  0.61984316,  0.5203397 ,\n",
       "        0.38582484,  0.32329343,  0.61955441,  0.57689902,  0.3718944 ,\n",
       "        0.26547334,  0.5062772 ,  0.59424589,  0.55622446,  0.62538866,\n",
       "        0.52140116,  0.19158986,  0.19158986,  0.53724258,  0.57911092,\n",
       "        0.29564777,  0.65938729,  0.5486771 ,  0.61939204,  0.61939204,\n",
       "        0.66289605,  0.5203397 ,  0.47382309,  0.61984316,  0.45407943,\n",
       "        0.47127359,  0.5203397 ,  0.49563   ,  0.03614822,  0.56573382,\n",
       "        0.61984316,  0.59380883,  0.63368477,  0.42956368,  0.47127359,\n",
       "        0.63280988,  0.60691473,  0.05745509,  0.65938729,  0.05745509,\n",
       "        0.61955441,  0.65079929,  0.52140116,  0.6163303 ,  0.61939204,\n",
       "        0.5203397 ,  0.47810787,  0.5062772 ,  0.64052639,  0.57689902,\n",
       "        0.570607  ,  0.28311787,  0.55267117]),\n",
       "       array([ 0.47139272,  0.49782684,  0.5062772 ,  0.47906476,  0.5397652 ,\n",
       "        0.32479483,  0.7049305 ,  0.39892823,  0.42691272,  0.5693035 ,\n",
       "        0.5657339 ,  0.6161338 , -0.03431267,  0.45284882,  0.5062772 ,\n",
       "        0.16220576,  0.42920154,  0.25505385,  0.49125364,  0.32795435,\n",
       "        0.5062772 ,  0.60002846,  0.5116499 ,  0.61984324,  0.6200113 ,\n",
       "        0.62538874,  0.59946316,  0.66638255,  0.5997743 ,  0.576899  ,\n",
       "        0.5997743 ,  0.42920154,  0.5049974 ,  0.576899  ,  0.3858249 ,\n",
       "        0.62393457,  0.61984324,  0.5469831 ,  0.6240126 ,  0.6371176 ,\n",
       "        0.51410246,  0.63216287,  0.61877346,  0.61474955,  0.67409784,\n",
       "        0.513168  ,  0.39892823,  0.28311792,  0.6485276 ,  0.58790344,\n",
       "        0.55038923,  0.6129372 ,  0.5676549 ,  0.55039304,  0.65938735,\n",
       "        0.57727087,  0.5676549 ,  0.69686854,  0.4549784 ,  0.47139272,\n",
       "        0.61984324,  0.5203397 ,  0.513168  ,  0.48622096,  0.47139272,\n",
       "        0.69686854,  0.42920154,  0.1220851 ,  0.39892823,  0.6195544 ,\n",
       "        0.40844154,  0.65938735,  0.5107561 ,  0.54026645,  0.5469851 ,\n",
       "        0.57074076,  0.50486964,  0.61474955,  0.67409784,  0.5514879 ,\n",
       "        0.513168  ,  0.46430644,  0.6033286 ,  0.5590172 ,  0.52333784,\n",
       "        0.5485536 ,  0.5466752 ,  0.61984324,  0.29249907,  0.23837563,\n",
       "        0.61939216,  0.576899  ,  0.3858249 ,  0.7557397 ,  0.5203397 ,\n",
       "        0.7353832 ,  0.5403412 ,  0.42691272,  0.5693035 ,  0.65938735,\n",
       "        0.25505385,  0.49125364,  0.60691476,  0.5546888 ,  0.7330743 ,\n",
       "        0.47139272,  0.6371176 ,  0.38220724,  0.5997743 ,  0.60864025,\n",
       "        0.576899  ,  0.78047645,  0.5997743 ,  0.55038923,  0.52378184,\n",
       "        0.59958464,  0.6507994 ,  0.4554817 ,  0.60591054,  0.6371176 ,\n",
       "        0.616126  ,  0.59193385,  0.7353832 ,  0.3530722 ,  0.569209  ,\n",
       "        0.60305625,  0.4853276 ,  0.47139272,  0.61984324,  0.30163264,\n",
       "        0.4712736 ,  0.5203397 ,  0.576899  ,  0.5646553 ,  0.3046204 ,\n",
       "        0.47139272,  0.61939216,  0.6668076 ,  0.69709337,  0.36567444,\n",
       "        0.6230812 ,  0.19158985,  0.19158985,  0.42535657,  0.32007626,\n",
       "        0.49563003,  0.32963592,  0.61984324,  0.37054694,  0.32851017,\n",
       "        0.3858249 ,  0.6880574 ,  0.6195544 ,  0.49611717,  0.49563003,\n",
       "        0.61984324,  0.7798755 ,  0.5123453 ,  0.65938735,  0.47139272,\n",
       "        0.60864025,  0.60864025,  0.28311792,  0.28386092,  0.5997743 ,\n",
       "        0.61984324,  0.5203397 ,  0.47382313,  0.5762689 ,  0.49563003,\n",
       "        0.5773444 ,  0.51823443,  0.68182385,  0.5546888 ,  0.61984324,\n",
       "        0.26064053,  0.56910205,  0.54169405,  0.61984324,  0.5203397 ,\n",
       "        0.576899  ,  0.59958464,  0.5152194 ,  0.60691476,  0.5281795 ,\n",
       "        0.6038233 ,  0.576899  ,  0.5773444 ,  0.625947  ,  0.65938735,\n",
       "        0.64796746,  0.6142765 ,  0.6129372 ,  0.47139272,  0.69686854,\n",
       "        0.60591054,  0.64796746,  0.6326382 ,  0.5562245 ,  0.60691476,\n",
       "        0.61984324,  0.4445973 ,  0.2403646 ,  0.47139272,  0.61939216,\n",
       "        0.8695664 ,  0.5203397 ,  0.60591054,  0.6038233 ,  0.56910205,\n",
       "        0.42088   ,  0.6416653 ,  0.716573  ], dtype=float32),\n",
       "       ...,\n",
       "       array([ 0.34507498,  0.5372426 ,  0.5954455 ,  0.5880126 ,  0.61984324,\n",
       "        0.5842555 ,  0.6195544 ,  0.61939216,  0.6261065 ,  0.5372426 ,\n",
       "        0.30230922,  0.47139272,  0.61984324,  0.65850604,  0.3132254 ,\n",
       "        0.65938735,  0.5372426 ,  0.5954455 ,  0.36807165,  0.66638255,\n",
       "        0.59267056,  0.6195544 ,  0.61984324,  0.6297097 ,  0.5501542 ,\n",
       "        0.61984324,  0.6837092 ,  0.38659143,  0.65938735,  0.49075377,\n",
       "        0.5035671 ,  0.60109234,  0.37506697,  0.6917761 ,  0.65938735,\n",
       "        0.47139272,  0.3858249 ,  0.64796746,  0.6261065 ,  0.5456871 ,\n",
       "        0.6240126 ,  0.5090132 ,  0.2025483 ,  0.19158985,  0.19158985,\n",
       "        0.5372426 ,  0.30230922,  0.5710906 ,  0.4501465 ,  0.56261784,\n",
       "        0.4501465 ,  0.5618153 ,  0.59958464,  0.5062772 ,  0.4091658 ,\n",
       "        0.61939216,  0.6261065 ,  0.5880126 ,  0.61984324,  0.58614147,\n",
       "        0.48474544,  0.62469923,  0.60864025,  0.28311792,  0.59958464,\n",
       "        0.5997743 ,  0.6780429 ,  0.61877346,  0.61984324,  0.36661234,\n",
       "        0.01377305,  0.29741606,  0.5710906 ,  0.5469851 ,  0.63848376,\n",
       "        0.19158985,  0.19158985,  0.61984324,  0.50508714,  0.47139272,\n",
       "        0.61939216,  0.6261065 ,  0.576899  ,  0.46247256,  0.576664  ,\n",
       "        0.61984324,  0.6401303 ,  0.50508714,  0.5372426 , -0.10997249,\n",
       "        0.6416653 ,  0.5556282 ,  0.47139272,  0.3858249 ,  0.6261065 ,\n",
       "        0.63280994,  0.60691476,  0.71431077,  0.5997743 ,  0.6476548 ,\n",
       "        0.3602141 ,  0.29741606,  0.6240126 ,  0.5062772 ,  0.5097555 ,\n",
       "        0.5062772 ,  0.5203397 ,  0.47512272,  0.5062772 ,  0.63732713,\n",
       "        0.27394763,  0.7330743 ,  0.50508714,  0.576899  ,  0.59958464,\n",
       "        0.61474955,  0.6195544 ,  0.524642  ,  0.62469923,  0.3526949 ,\n",
       "        0.3858249 ,  0.6149941 ,  0.61474955,  0.576899  ,  0.19158985,\n",
       "        0.19158985,  0.56194556,  0.61984324,  0.45129114,  0.46107572,\n",
       "        0.6543244 ,  0.6712922 ,  0.61984324,  0.37898546,  0.579111  ,\n",
       "        0.579039  ,  0.5372426 ,  0.60499185,  0.29741606,  0.5501542 ,\n",
       "        0.5097555 ,  0.5676549 ,  0.61984324,  0.4265357 ,  0.62469923,\n",
       "        0.5065571 ,  0.6837092 ,  0.579111  ,  0.5942459 ,  0.6134566 ,\n",
       "        0.71431077,  0.32925805,  0.54026645,  0.65938735,  0.5997743 ,\n",
       "        0.47139272,  0.3787232 ,  0.66638255,  0.61984324,  0.50508714,\n",
       "        0.5485536 ,  0.6139457 ,  0.6476548 ,  0.61984324,  0.68312496,\n",
       "        0.60455966,  0.5203397 ,  0.61022043,  0.7469549 ,  0.19158985,\n",
       "        0.19158985,  0.61939216,  0.6261065 ,  0.6161338 ,  0.62391865,\n",
       "        0.49563003,  0.461777  ,  0.6270367 ,  0.19467045,  0.34520298,\n",
       "        0.66638255,  0.6291741 ,  0.65938735,  0.54078597,  0.576899  ,\n",
       "        0.59958464,  0.5773444 ,  0.5842365 ,  0.56194556,  0.5372426 ,\n",
       "       -0.10997249,  0.5556282 ,  0.6459096 ,  0.52140117,  0.49563003,\n",
       "        0.29548874,  0.66638255,  0.3858249 ,  0.65156513,  0.69709337,\n",
       "        0.7849637 ,  0.4744115 ,  0.3666321 , -0.0258853 ,  0.5372426 ,\n",
       "        0.3602141 ,  0.29741606,  0.5885834 ,  0.6033286 ,  0.61984324,\n",
       "        0.4205459 ,  0.6476548 ,  0.52378184,  0.65931535,  0.62469923,\n",
       "        0.61939216,  0.6261065 ,  0.576899  ,  0.6483035 ,  0.62469923,\n",
       "        0.3858249 ,  0.46897298,  0.6195544 ,  0.5803505 ,  0.69706285,\n",
       "        0.28588998,  0.6476548 ,  0.5315634 ,  0.6405264 ,  0.5308483 ,\n",
       "        0.6195544 ,  0.53968716,  0.47139272,  0.5270589 ,  0.61939216,\n",
       "        0.6261065 ,  0.576899  ,  0.5880126 ,  0.6033286 ,  0.3858249 ,\n",
       "        0.6089258 ,  0.67800605,  0.38908687,  0.4589033 ,  0.6261065 ,\n",
       "        0.5485536 ,  0.6405264 ,  0.57312953,  0.60864025,  0.47382313,\n",
       "        0.6901839 ,  0.66638255,  0.6270367 ,  0.46107772,  0.6391976 ,\n",
       "        0.6580217 ,  0.546451  ,  0.56980574,  0.6913034 ,  0.5891597 ,\n",
       "        0.61684173,  0.65938735,  0.61474955,  0.4583246 ,  0.46897298,\n",
       "        0.64968276,  0.57312953,  0.5997743 ,  0.28311792,  0.59958464,\n",
       "        0.69706285,  0.6959194 ,  0.6195544 ,  0.69725984,  0.48823816,\n",
       "        0.61939216,  0.5469851 ,  0.63848376,  0.33389872], dtype=float32),\n",
       "       array([0.61499404, 0.546985  , 0.61613377, 0.19497612, 0.61499404,\n",
       "       0.19158986, 0.19158986, 0.61939204, 0.73604082, 0.65158844,\n",
       "       0.4512911 , 0.51730423, 0.37087278, 0.61984316, 0.        ,\n",
       "       0.62506491, 0.38626535, 0.59983015, 0.60864022, 0.28311787,\n",
       "       0.49276362, 0.61984316, 0.62610649, 0.3829778 , 0.29741603,\n",
       "       0.57109052, 0.5062772 , 0.64052639, 0.60687238, 0.56854447,\n",
       "       0.55201034, 0.59977418, 0.6371176 , 0.39575905, 0.54681401,\n",
       "       0.61984316, 0.62610649, 0.57689902, 0.56124136, 0.4848167 ,\n",
       "       0.61499404, 0.48109678, 0.60864022, 0.68371169, 0.51988256,\n",
       "       0.47139274, 0.56891994, 0.60730215, 0.62506491, 0.07889291,\n",
       "       0.19158986, 0.19158986, 0.47139274, 0.64590956, 0.45599476,\n",
       "       0.65432432, 0.48540617, 0.40078247, 0.19473219, 0.50053589]),\n",
       "       array([ 0.75573968,  0.38546987,  0.20911629,  0.19467039,  0.73307425,\n",
       "        0.38546987,  0.20911629,  0.63164786,  0.53724258,  0.5061776 ,\n",
       "        0.60574378,  0.6337526 ,  0.66638253,  0.61984316,  0.62208699,\n",
       "        0.47139274,  0.36535841,  0.43704544,  0.56261776,  0.65938729,\n",
       "        0.65010501,  0.546985  ,  0.59267046,  0.61955441,  0.61984316,\n",
       "        0.72161873,  0.38546987,  0.20911629,  0.6062823 ,  0.50655702,\n",
       "       -0.10997251,  0.51662381,  0.47139274,  0.38582484,  0.59983015,\n",
       "        0.61984316,  0.53897258,  0.20911629,  0.55986779,  0.57734436,\n",
       "        0.6249728 ,  0.50028076,  0.60591051,  0.47364172,  0.45014646,\n",
       "        0.35760445,  0.24010061,  0.28311787,  0.67066348,  0.60536796,\n",
       "        0.4864134 ,  0.61955441,  0.59267046,  0.62401253,  0.45543948,\n",
       "        0.24010061,  0.46162776,  0.38582484,  0.66332237,  0.04368343,\n",
       "        0.19613099,  0.53724258,  0.40485547,  0.5062772 ,  0.31899555,\n",
       "        0.55901716,  0.46162776,  0.38546987,  0.28311787,  0.50356705,\n",
       "        0.597801  ,  0.47139274,  0.57074069,  0.49504438,  0.68909637,\n",
       "        0.42087994,  0.38582484,  0.73538323,  0.55000884,  0.64294624,\n",
       "        0.58801252,  0.60536796,  0.38582484,  0.38546987,  0.20911629,\n",
       "        0.61647627,  0.59977418,  0.28311787,  0.60844268,  0.60591051,\n",
       "        0.54597351,  0.38546987,  0.        ,  0.55901716,  0.57317678,\n",
       "        0.48474541,  0.38546987,  0.28311787,  0.50356705,  0.63254712,\n",
       "        0.65079929,  0.6559548 ,  0.61984316,  0.66332237,  0.62917411,\n",
       "        0.61955441,  0.57074069,  0.57921143,  0.61647627,  0.19243692,\n",
       "        0.19243692,  0.59267046,  0.57720924,  0.62825662,  0.38546987,\n",
       "        0.28311787,  0.38672315,  0.38501646,  0.62469918,  0.60591051,\n",
       "        0.61369269,  0.61955441,  0.54597351,  0.56910196,  0.69686849,\n",
       "        0.60864022,  0.61877345,  0.60864022,  0.28311787,  0.55077576,\n",
       "        0.59037928,  0.50655702,  0.60730215,  0.61197368,  0.5062772 ,\n",
       "        0.61984316,  0.58447962])], dtype=object)"
      ]
     },
     "execution_count": 63,
     "metadata": {},
     "output_type": "execute_result"
    }
   ],
   "source": [
    "word_sims"
   ]
  },
  {
   "cell_type": "code",
   "execution_count": null,
   "metadata": {},
   "outputs": [],
   "source": []
  },
  {
   "cell_type": "code",
   "execution_count": null,
   "metadata": {},
   "outputs": [],
   "source": []
  },
  {
   "cell_type": "code",
   "execution_count": 724,
   "metadata": {},
   "outputs": [
    {
     "name": "stdout",
     "output_type": "stream",
     "text": [
      "Training model\n"
     ]
    }
   ],
   "source": [
    "#imdb_task.train_embed_model('train', 'w2v_model', model_type='w2vec')"
   ]
  },
  {
   "cell_type": "code",
   "execution_count": 492,
   "metadata": {},
   "outputs": [],
   "source": [
    "#imdb_task.get_tf_idf('train').shape"
   ]
  },
  {
   "cell_type": "code",
   "execution_count": 493,
   "metadata": {},
   "outputs": [],
   "source": [
    "#imdb_task.transform_tf_idf(fit_model_tag= 'train', to_text_tag= 'test')"
   ]
  },
  {
   "cell_type": "code",
   "execution_count": 494,
   "metadata": {},
   "outputs": [],
   "source": [
    "#imdb_task.get_tf_idf(text_tag='test').shape"
   ]
  },
  {
   "cell_type": "code",
   "execution_count": 229,
   "metadata": {},
   "outputs": [],
   "source": [
    "import sklearn.linear_model\n"
   ]
  },
  {
   "cell_type": "code",
   "execution_count": 45,
   "metadata": {},
   "outputs": [],
   "source": [
    "log_reg = sklearn.linear_model.LogisticRegression (C=0.1, solver='newton-cg', random_state=40)"
   ]
  },
  {
   "cell_type": "code",
   "execution_count": 46,
   "metadata": {},
   "outputs": [],
   "source": [
    "train_labs = np.array (imdb.label.values == \"pos\")*1\n",
    "train_labs = train_labs [train_idx]"
   ]
  },
  {
   "cell_type": "code",
   "execution_count": 47,
   "metadata": {},
   "outputs": [],
   "source": [
    "test_labs = np.array (imdb.label.values == \"pos\")*1\n",
    "test_labs = test_labs [test_idx]"
   ]
  },
  {
   "cell_type": "code",
   "execution_count": 48,
   "metadata": {},
   "outputs": [
    {
     "data": {
      "text/plain": [
       "LogisticRegression(C=0.1, class_weight=None, dual=False, fit_intercept=True,\n",
       "          intercept_scaling=1, max_iter=100, multi_class='warn',\n",
       "          n_jobs=None, penalty='l2', random_state=40, solver='newton-cg',\n",
       "          tol=0.0001, verbose=0, warm_start=False)"
      ]
     },
     "execution_count": 48,
     "metadata": {},
     "output_type": "execute_result"
    }
   ],
   "source": [
    "log_reg.fit (imdb_task.get_tf_idf(text_tag='train'), train_labs)"
   ]
  },
  {
   "cell_type": "code",
   "execution_count": 49,
   "metadata": {},
   "outputs": [
    {
     "data": {
      "text/plain": [
       "0.8432"
      ]
     },
     "execution_count": 49,
     "metadata": {},
     "output_type": "execute_result"
    }
   ],
   "source": [
    "log_reg.score(imdb_task.get_tf_idf(text_tag='train'), train_labs)"
   ]
  },
  {
   "cell_type": "code",
   "execution_count": 50,
   "metadata": {},
   "outputs": [
    {
     "data": {
      "text/plain": [
       "0.8065"
      ]
     },
     "execution_count": 50,
     "metadata": {},
     "output_type": "execute_result"
    }
   ],
   "source": [
    "log_reg.score(imdb_task.get_tf_idf(text_tag='test'), test_labs)"
   ]
  },
  {
   "cell_type": "code",
   "execution_count": null,
   "metadata": {},
   "outputs": [],
   "source": []
  },
  {
   "cell_type": "code",
   "execution_count": 64,
   "metadata": {},
   "outputs": [],
   "source": [
    "imdb_task.emb_models = models_back"
   ]
  },
  {
   "cell_type": "code",
   "execution_count": 65,
   "metadata": {},
   "outputs": [
    {
     "name": "stdout",
     "output_type": "stream",
     "text": [
      "Embedding 5000 texts\n",
      "0\n",
      "1000\n",
      "2000\n",
      "3000\n",
      "4000\n"
     ]
    }
   ],
   "source": [
    "imdb_task.embed_text('train', 'glove-twitter-25')"
   ]
  },
  {
   "cell_type": "code",
   "execution_count": 26,
   "metadata": {},
   "outputs": [],
   "source": [
    "#models_back = imdb_task.emb_models"
   ]
  },
  {
   "cell_type": "code",
   "execution_count": 66,
   "metadata": {},
   "outputs": [
    {
     "name": "stdout",
     "output_type": "stream",
     "text": [
      "0\n",
      "1000\n",
      "2000\n",
      "3000\n",
      "4000\n"
     ]
    }
   ],
   "source": [
    "word_sims, agg_sims, ordering = imdb_task.embedding_lookup('train', 'glove-twitter-25', 'romantic', \n",
    "                                                           lookup_agg_method = np.mean, \n",
    "                                                           text_agg_method = np.max)"
   ]
  },
  {
   "cell_type": "code",
   "execution_count": 67,
   "metadata": {},
   "outputs": [
    {
     "name": "stdout",
     "output_type": "stream",
     "text": [
      "0\n",
      "1000\n",
      "2000\n",
      "3000\n",
      "4000\n"
     ]
    }
   ],
   "source": [
    "coloured_texts = imdb_task.colour_attention ('train', word_sims)"
   ]
  },
  {
   "cell_type": "code",
   "execution_count": 60,
   "metadata": {},
   "outputs": [
    {
     "data": {
      "text/html": [
       "<text style=background-color:#00ff001d>the</text> <text style=background-color:#00ff0008>title</text> <text style=background-color:#00ff001d>of</text> <text style=background-color:#00ff001d>this</text> <text style=background-color:#00ff000e>film</text> <text style=background-color:#00ff0016>is</text> <text style=background-color:#00ff001b>taken</text> <text style=background-color:#00ff0014>from</text> <text style=background-color:#00ff0004>a</text> <text style=background-color:#00ff0017>party</text> <text style=background-color:#00ff0006>game</text> <text style=background-color:#00ff0014>called</text> <text style=background-color:#00ff0004>seven</text> <text style=background-color:#00ff0004>minutes</text> <text style=background-color:#00ff0009>in</text> <text style=background-color:#00ff0033>heaven</text> <text style=background-color:#00ff001d>the</text> <text style=background-color:#00ff0006>game</text> <text style=background-color:#00ff0009>was</text> <text style=background-color:#00ff000a>popular</text> <text style=background-color:#00ff000d>among</text> <text style=background-color:#00ff0025>my</text> <text style=background-color:#00ff002d>husband</text> <text style=background-color:#00ff0001>s</text> <text style=background-color:#00ff003c>friends</text> <text style=background-color:#00ff001d>when</text> <text style=background-color:#00ff0005>he</text> <text style=background-color:#00ff0009>was</text> <text style=background-color:#00ff0009>in</text> <text style=background-color:#00ff0007>junior</text> <text style=background-color:#00ff0012>high</text> <text style=background-color:#00ff0009>school</text> <text style=background-color:#00ff0009>in</text> <text style=background-color:#00ff0002>brooklyn</text> <text style=background-color:#00ff0002>ny</text> <text style=background-color:#00ff0027>and</text> <text style=background-color:#00ff0005>he</text> <text style=background-color:#00ff000d>describes</text> <text style=background-color:#00ff001b>it</text> <text style=background-color:#00ff0007>as</text> <text style=background-color:#00ff0025>something</text> <text style=background-color:#00ff0017>like</text> <text style=background-color:#00ff0006>spin</text> <text style=background-color:#00ff001d>the</text> <text style=background-color:#00ff0006>bottle</text> <text style=background-color:#00ff0008>lifesaver</text> <text style=background-color:#00ff0006>relay</text> <text style=background-color:#00ff0027>and</text> <text style=background-color:#00ff001f>other</text> <text style=background-color:#00ff0002>preteen</text> <text style=background-color:#00ff001a>kissing</text> <text style=background-color:#00ff0006>games</text> <text style=background-color:#00ff0008>according</text> <text style=background-color:#00ff000c>to</text> <text style=background-color:#00ff001d>the</text> <text style=background-color:#00ff000a>rules</text> <text style=background-color:#00ff0004>a</text> <text style=background-color:#00ff001a>boy</text> <text style=background-color:#00ff0001>s</text> <text style=background-color:#00ff0013>name</text> <text style=background-color:#00ff0027>and</text> <text style=background-color:#00ff0004>a</text> <text style=background-color:#00ff002c>girl</text> <text style=background-color:#00ff0001>s</text> <text style=background-color:#00ff0011>would</text> <text style=background-color:#00ff0022>be</text> <text style=background-color:#00ff0006>drawn</text> <text style=background-color:#00ff0027>and</text> <text style=background-color:#00ff001d>the</text> <text style=background-color:#00ff0015>chosen</text> <text style=background-color:#00ff0035>ones</text> <text style=background-color:#00ff0001>ordered</text> <text style=background-color:#00ff000c>to</text> <text style=background-color:#00ff0010>get</text> <text style=background-color:#00ff0014>into</text> <text style=background-color:#00ff0004>a</text> <text style=background-color:#00ff0029>dark</text> <text style=background-color:#00ff0006>closet</text> <text style=background-color:#00ff0028>together</text> <text style=background-color:#00ff0027>and</text> <text style=background-color:#00ff000c>to</text> <text style=background-color:#00ff0022>stay</text> <text style=background-color:#00ff0020>there</text> <text style=background-color:#00ff001b>for</text> <text style=background-color:#00ff0004>seven</text> <text style=background-color:#00ff0004>minutes</text> <text style=background-color:#00ff0009>in</text> <text style=background-color:#00ff001d>the</text> <text style=background-color:#00ff0004>meantime</text> <text style=background-color:#00ff0020>there</text> <text style=background-color:#00ff0011>would</text> <text style=background-color:#00ff0022>be</text> <text style=background-color:#00ff0000>speculation</text> <text style=background-color:#00ff000d>among</text> <text style=background-color:#00ff0017>party</text> <text style=background-color:#00ff001f>guests</text> <text style=background-color:#00ff0007>as</text> <text style=background-color:#00ff000c>to</text> <text style=background-color:#00ff0014>whether</text> <text style=background-color:#00ff001f>or</text> <text style=background-color:#00ff0019>not</text> <text style=background-color:#00ff001d>the</text> <text style=background-color:#00ff0011>two</text> <text style=background-color:#00ff000a>had</text> <text style=background-color:#00ff001d>the</text> <text style=background-color:#00ff0007>nerve</text> <text style=background-color:#00ff000c>to</text> <text style=background-color:#00ff0011>hold</text> <text style=background-color:#00ff0015>hands</text> <text style=background-color:#00ff003c>embrace</text> <text style=background-color:#00ff0027>and</text> <text style=background-color:#00ff001f>or</text> <text style=background-color:#00ff0025>kiss</text> <text style=background-color:#00ff001e>each</text> <text style=background-color:#00ff001f>other</text> <text style=background-color:#00ff0009>in</text> <text style=background-color:#00ff001d>the</text> <text style=background-color:#00ff0002>privacy</text> <text style=background-color:#00ff001d>of</text> <text style=background-color:#00ff001d>the</text> <text style=background-color:#00ff0006>closet</text> <text style=background-color:#00ff0011>at</text> <text style=background-color:#00ff001d>the</text> <text style=background-color:#00ff0018>end</text> <text style=background-color:#00ff001d>of</text> <text style=background-color:#00ff0004>seven</text> <text style=background-color:#00ff0004>minutes</text> <text style=background-color:#00ff001d>the</text> <text style=background-color:#00ff0006>game</text> <text style=background-color:#00ff0011>leader</text> <text style=background-color:#00ff0011>would</text> <text style=background-color:#00ff0010>say</text> <text style=background-color:#00ff001e>time</text> <text style=background-color:#00ff0001>s</text> <text style=background-color:#00ff0010>up</text> <text style=background-color:#00ff001f>or</text> <text style=background-color:#00ff0004>knock</text> <text style=background-color:#00ff000b>on</text> <text style=background-color:#00ff001d>the</text> <text style=background-color:#00ff0006>closet</text> <text style=background-color:#00ff0001>door</text> <text style=background-color:#00ff0027>and</text> <text style=background-color:#00ff001d>the</text> <text style=background-color:#00ff0029>couple</text> <text style=background-color:#00ff0011>would</text> <text style=background-color:#00ff0001>emerge</text> <text style=background-color:#00ff0014>from</text> <text style=background-color:#00ff001d>the</text> <text style=background-color:#00ff0006>closet</text> <text style=background-color:#00ff000d>after</text> <text style=background-color:#00ff001d>being</text> <text style=background-color:#00ff0000>quizzed</text> <text style=background-color:#00ff0014>by</text> <text style=background-color:#00ff001d>the</text> <text style=background-color:#00ff001f>other</text> <text style=background-color:#00ff001f>guests</text> <text style=background-color:#00ff001d>the</text> <text style=background-color:#00ff0029>couple</text> <text style=background-color:#00ff0011>would</text> <text style=background-color:#00ff001e>have</text> <text style=background-color:#00ff000c>to</text> <text style=background-color:#00ff000f>admit</text> <text style=background-color:#00ff001a>what</text> <text style=background-color:#00ff0012>they</text> <text style=background-color:#00ff000a>had</text> <text style=background-color:#00ff0012>done</text> <text style=background-color:#00ff0012>during</text> <text style=background-color:#00ff0021>their</text> <text style=background-color:#00ff0004>seven</text> <text style=background-color:#00ff0004>minutes</text> <text style=background-color:#00ff0009>in</text> <text style=background-color:#00ff0033>heaven</text> <text style=background-color:#00ff0016>then</text> <text style=background-color:#00ff001f>other</text> <text style=background-color:#00ff001c>couples</text> <text style=background-color:#00ff0011>would</text> <text style=background-color:#00ff0022>be</text> <text style=background-color:#00ff0015>chosen</text> <text style=background-color:#00ff000c>to</text> <text style=background-color:#00ff0007>enter</text> <text style=background-color:#00ff001d>the</text> <text style=background-color:#00ff0006>closet</text> <text style=background-color:#00ff0015>until</text> <text style=background-color:#00ff0022>all</text> <text style=background-color:#00ff001d>the</text> <text style=background-color:#00ff001f>guests</text> <text style=background-color:#00ff000a>had</text> <text style=background-color:#00ff0002>participated</text> <text style=background-color:#00ff001d>the</text> <text style=background-color:#00ff0029>couple</text> <text style=background-color:#00ff0014>who</text> <text style=background-color:#00ff0001>admitted</text> <text style=background-color:#00ff000c>to</text> <text style=background-color:#00ff0019>doing</text> <text style=background-color:#00ff001d>the</text> <text style=background-color:#00ff002d>most</text> <text style=background-color:#00ff0011>would</text> <text style=background-color:#00ff0022>be</text> <text style=background-color:#00ff001d>the</text> <text style=background-color:#00ff0009>winners</text> <text style=background-color:#00ff001d>of</text> <text style=background-color:#00ff001d>the</text> <text style=background-color:#00ff0006>game</text> <text style=background-color:#00ff0000>br</text> <text style=background-color:#00ff0000>br</text> <text style=background-color:#00ff004e>such</text> <text style=background-color:#00ff0006>games</text> <text style=background-color:#00ff001e>have</text> <text style=background-color:#00ff0009>served</text> <text style=background-color:#00ff0007>as</text> <text style=background-color:#00ff0006>social</text> <text style=background-color:#00ff000e>ice</text> <text style=background-color:#00ff0003>breakers</text> <text style=background-color:#00ff001b>for</text> <text style=background-color:#00ff001c>children</text> <text style=background-color:#00ff0027>and</text> <text style=background-color:#00ff0012>teens</text> <text style=background-color:#00ff001e>but</text> <text style=background-color:#00ff0012>they</text> <text style=background-color:#00ff001a>can</text> <text style=background-color:#00ff0022>be</text> <text style=background-color:#00ff0008>embarrassing</text> <text style=background-color:#00ff0027>and</text> <text style=background-color:#00ff000b>intimidating</text> <text style=background-color:#00ff000c>to</text> <text style=background-color:#00ff0016>shy</text> <text style=background-color:#00ff0016>individuals</text> <text style=background-color:#00ff001d>the</text> <text style=background-color:#00ff000e>film</text> <text style=background-color:#00ff0006>has</text> <text style=background-color:#00ff000d>been</text> <text style=background-color:#00ff0015>given</text> <text style=background-color:#00ff001d>this</text> <text style=background-color:#00ff0008>title</text> <text style=background-color:#00ff001d>because</text> <text style=background-color:#00ff001b>it</text> <text style=background-color:#00ff0003>deals</text> <text style=background-color:#00ff0029>with</text> <text style=background-color:#00ff001d>the</text> <text style=background-color:#00ff0012>teens</text> <text style=background-color:#00ff001d>first</text> <text style=background-color:#00ff002e>experiences</text> <text style=background-color:#00ff0029>with</text> <text style=background-color:#00ff0006>crushes</text> <text style=background-color:#00ff0027>and</text> <text style=background-color:#00ff00ff>romantic</text> <text style=background-color:#00ff0031>love</text> <br> <text style=background-color:#00ff0013>i</text> <text style=background-color:#00ff000d>watched</text> <text style=background-color:#00ff0021>this</text> <text style=background-color:#00ff0023>movie</text> <text style=background-color:#00ff001e>for</text> <text style=background-color:#00ff0005>a</text> <text style=background-color:#00ff001c>project</text> <text style=background-color:#00ff000e>on</text> <text style=background-color:#00ff0036>love</text> <text style=background-color:#00ff000e>please</text> <text style=background-color:#00ff0014>tell</text> <text style=background-color:#00ff0000>nicolas</text> <text style=background-color:#00ff0005>cage</text> <text style=background-color:#00ff000f>to</text> <text style=background-color:#00ff0025>learn</text> <text style=background-color:#00ff001e>what</text> <text style=background-color:#00ff001f>it</text> <text style=background-color:#00ff0014>would</text> <text style=background-color:#00ff0027>feel</text> <text style=background-color:#00ff001b>like</text> <text style=background-color:#00ff000f>to</text> <text style=background-color:#00ff0026>be</text> <text style=background-color:#00ff0018>his</text> <text style=background-color:#00ff0031>character</text> <text style=background-color:#00ff002b>and</text> <text style=background-color:#00ff0019>then</text> <text style=background-color:#00ff0000>re</text> <text style=background-color:#00ff001b>read</text> <text style=background-color:#00ff0021>the</text> <text style=background-color:#00ff001f>lines</text> <text style=background-color:#00ff0007>he</text> <text style=background-color:#00ff0002>s</text> <text style=background-color:#00ff000c>saying</text> <text style=background-color:#00ff002a>my</text> <text style=background-color:#00ff0045>life</text> <text style=background-color:#00ff001a>cannot</text> <text style=background-color:#00ff000f>go</text> <text style=background-color:#00ff000e>on</text> <text style=background-color:#00ff0013>i</text> <text style=background-color:#00ff0001>accidentally</text> <text style=background-color:#00ff0010>cut</text> <text style=background-color:#00ff000a>off</text> <text style=background-color:#00ff002a>my</text> <text style=background-color:#00ff0029>own</text> <text style=background-color:#00ff000e>hand</text> <text style=background-color:#00ff002a>my</text> <text style=background-color:#00ff0016>brother</text> <text style=background-color:#00ff000b>was</text> <text style=background-color:#00ff0019>close</text> <text style=background-color:#00ff0018>by</text> <text style=background-color:#00ff0011>obviously</text> <text style=background-color:#00ff0018>his</text> <text style=background-color:#00ff000b>fault</text> <text style=background-color:#00ff002b>and</text> <text style=background-color:#00ff000f>since</text> <text style=background-color:#00ff0021>when</text> <text style=background-color:#00ff0022>have</text> <text style=background-color:#00ff003c>happy</text> <text style=background-color:#00ff002d>endings</text> <text style=background-color:#00ff0008>included</text> <text style=background-color:#00ff0021>the</text> <text style=background-color:#00ff003c>nice</text> <text style=background-color:#00ff001f>guy</text> <text style=background-color:#00ff0018>who</text> <text style=background-color:#00ff001c>takes</text> <text style=background-color:#00ff0029>care</text> <text style=background-color:#00ff0021>of</text> <text style=background-color:#00ff0023>mom</text> <text style=background-color:#00ff0024>sad</text> <text style=background-color:#00ff002b>and</text> <text style=background-color:#00ff001b>alone</text> <text style=background-color:#00ff0001>no</text> <text style=background-color:#00ff0001>closure</text> <text style=background-color:#00ff0020>bad</text> <text style=background-color:#00ff000d>script</text> <text style=background-color:#00ff002b>and</text> <text style=background-color:#00ff0003>doesn</text> <text style=background-color:#00ff0002>t</text> <text style=background-color:#00ff0022>have</text> <text style=background-color:#00ff0038>enough</text> <text style=background-color:#00ff0001>extension</text> <text style=background-color:#00ff0021>of</text> <text style=background-color:#00ff0007>minor</text> <text style=background-color:#00ff0020>characters</text> <text style=background-color:#00ff0010>save</text> <text style=background-color:#00ff0028>yourself</text> <text style=background-color:#00ff001a>unless</text> <text style=background-color:#00ff0036>your</text> <text style=background-color:#00ff0013>up</text> <text style=background-color:#00ff001e>for</text> <text style=background-color:#00ff0005>a</text> <text style=background-color:#00ff0043>good</text> <text style=background-color:#00ff0024>laugh</text> <text style=background-color:#00ff000c>costumes</text> <text style=background-color:#00ff0011>were</text> <text style=background-color:#00ff0015>done</text> <text style=background-color:#00ff0003>appropriately</text> <text style=background-color:#00ff002b>and</text> <text style=background-color:#00ff0002>extras</text> <text style=background-color:#00ff000d>did</text> <text style=background-color:#00ff0005>a</text> <text style=background-color:#00ff005e>fabulous</text> <text style=background-color:#00ff000f>job</text> <text style=background-color:#00ff0013>i</text> <text style=background-color:#00ff0002>m</text> <text style=background-color:#00ff001e>sure</text> <text style=background-color:#00ff001f>it</text> <text style=background-color:#00ff0014>would</text> <text style=background-color:#00ff0022>have</text> <text style=background-color:#00ff000f>been</text> <text style=background-color:#00ff0005>a</text> <text style=background-color:#00ff004c>fun</text> <text style=background-color:#00ff0023>movie</text> <text style=background-color:#00ff000f>to</text> <text style=background-color:#00ff002a>make</text> <text style=background-color:#00ff0022>but</text> <text style=background-color:#00ff0025>keep</text> <text style=background-color:#00ff001f>it</text> <text style=background-color:#00ff0036>more</text> <text style=background-color:#00ff0005>genre</text> <text style=background-color:#00ff0015>specific</text> <text style=background-color:#00ff0013>i</text> <text style=background-color:#00ff001e>can</text> <text style=background-color:#00ff0002>t</text> <text style=background-color:#00ff0017>recommend</text> <text style=background-color:#00ff0021>this</text> <text style=background-color:#00ff0023>movie</text> <text style=background-color:#00ff000f>to</text> <text style=background-color:#00ff0018>anyone</text> <text style=background-color:#00ff0013>i</text> <text style=background-color:#00ff001b>know</text> <text style=background-color:#00ff0021>because</text> <text style=background-color:#00ff001f>it</text> <text style=background-color:#00ff0019>is</text> <text style=background-color:#00ff001d>not</text> <text style=background-color:#00ff0019>an</text> <text style=background-color:#00ff0033>intellectual</text> <text style=background-color:#00ff0023>movie</text> <text style=background-color:#00ff001f>it</text> <text style=background-color:#00ff0019>is</text> <text style=background-color:#00ff001d>not</text> <text style=background-color:#00ff0005>a</text> <text style=background-color:#00ff0015>chick</text> <text style=background-color:#00ff000d>flick</text> <text style=background-color:#00ff001f>it</text> <text style=background-color:#00ff0019>is</text> <text style=background-color:#00ff001d>not</text> <text style=background-color:#00ff0005>a</text> <text style=background-color:#00ff0011>strict</text> <text style=background-color:#00ff00ff>romantic</text> <text style=background-color:#00ff002b>and</text> <text style=background-color:#00ff0013>i</text> <text style=background-color:#00ff001e>can</text> <text style=background-color:#00ff0002>t</text> <text style=background-color:#00ff0013>show</text> <text style=background-color:#00ff0022>kids</text> <text style=background-color:#00ff0021>because</text> <text style=background-color:#00ff0021>of</text> <text style=background-color:#00ff0021>the</text> <text style=background-color:#00ff0026>sex</text> <text style=background-color:#00ff002b>and</text> <text style=background-color:#00ff000c>questions</text> <text style=background-color:#00ff000f>to</text> <text style=background-color:#00ff0007>follow</text> <text style=background-color:#00ff0026>all</text> <text style=background-color:#00ff000b>in</text> <text style=background-color:#00ff0026>all</text> <text style=background-color:#00ff0019>just</text> <text style=background-color:#00ff001d>not</text> <text style=background-color:#00ff0005>a</text> <text style=background-color:#00ff0043>good</text> <text style=background-color:#00ff000d>flick</text> <br> <text style=background-color:#00ff000d>i</text> <text style=background-color:#00ff0001>m</text> <text style=background-color:#00ff0006>biased</text> <text style=background-color:#00ff0013>towards</text> <text style=background-color:#00ff0018>any</text> <text style=background-color:#00ff001b>movie</text> <text style=background-color:#00ff0016>that</text> <text style=background-color:#00ff0001>paints</text> <text style=background-color:#00ff0003>a</text> <text style=background-color:#00ff0000>luxuriant</text> <text style=background-color:#00ff0018>picture</text> <text style=background-color:#00ff001a>of</text> <text style=background-color:#00ff0001>italy</text> <text style=background-color:#00ff0007>in</text> <text style=background-color:#00ff0021>my</text> <text style=background-color:#00ff000a>opinion</text> <text style=background-color:#00ff001a>the</text> <text style=background-color:#00ff0029>most</text> <text style=background-color:#00ff00ff>romantic</text> <text style=background-color:#00ff0014>country</text> <text style=background-color:#00ff0007>in</text> <text style=background-color:#00ff001a>the</text> <text style=background-color:#00ff0025>world</text> <text style=background-color:#00ff000a>unfortunately</text> <text style=background-color:#00ff001a>the</text> <text style=background-color:#00ff001b>movie</text> <text style=background-color:#00ff0007>was</text> <text style=background-color:#00ff0024>rather</text> <text style=background-color:#00ff001f>short</text> <text style=background-color:#00ff0001>unusually</text> <text style=background-color:#00ff000f>so</text> <text style=background-color:#00ff0017>for</text> <text style=background-color:#00ff0003>a</text> <text style=background-color:#00ff0010>period</text> <text style=background-color:#00ff001f>piece</text> <text style=background-color:#00ff0022>and</text> <text style=background-color:#00ff0003>a</text> <text style=background-color:#00ff003a>little</text> <text style=background-color:#00ff0000>sparse</text> <text style=background-color:#00ff0009>on</text> <text style=background-color:#00ff001a>the</text> <text style=background-color:#00ff0006>cinematography</text> <text style=background-color:#00ff001d>aspect</text> <text style=background-color:#00ff0018>however</text> <text style=background-color:#00ff001a>the</text> <text style=background-color:#00ff002a>excellent</text> <text style=background-color:#00ff0028>story</text> <text style=background-color:#00ff0029>makes</text> <text style=background-color:#00ff000d>up</text> <text style=background-color:#00ff0017>for</text> <text style=background-color:#00ff0018>it</text> <text style=background-color:#00ff001a>the</text> <text style=background-color:#00ff0006>four</text> <text style=background-color:#00ff0030>ladies</text> <text style=background-color:#00ff0005>embark</text> <text style=background-color:#00ff0009>on</text> <text style=background-color:#00ff0003>a</text> <text style=background-color:#00ff0024>much</text> <text style=background-color:#00ff0010>needed</text> <text style=background-color:#00ff0031>relaxing</text> <text style=background-color:#00ff001e>vacation</text> <text style=background-color:#00ff0024>with</text> <text style=background-color:#00ff0014>problems</text> <text style=background-color:#00ff0009>on</text> <text style=background-color:#00ff001d>their</text> <text style=background-color:#00ff003a>minds</text> <text style=background-color:#00ff0005>over</text> <text style=background-color:#00ff001a>the</text> <text style=background-color:#00ff001e>course</text> <text style=background-color:#00ff001a>of</text> <text style=background-color:#00ff001a>the</text> <text style=background-color:#00ff001b>movie</text> <text style=background-color:#00ff000f>they</text> <text style=background-color:#00ff0014>realize</text> <text style=background-color:#00ff001d>their</text> <text style=background-color:#00ff0014>problems</text> <text style=background-color:#00ff0022>and</text> <text style=background-color:#00ff0006>begin</text> <text style=background-color:#00ff0002>fixing</text> <text style=background-color:#00ff000c>them</text> <text style=background-color:#00ff000f>they</text> <text style=background-color:#00ff000d>believe</text> <text style=background-color:#00ff0000>san</text> <text style=background-color:#00ff0000>salvatore</text> <text style=background-color:#00ff001a>the</text> <text style=background-color:#00ff0007>castle</text> <text style=background-color:#00ff000f>they</text> <text style=background-color:#00ff001e>stay</text> <text style=background-color:#00ff0007>in</text> <text style=background-color:#00ff0004>has</text> <text style=background-color:#00ff0012>an</text> <text style=background-color:#00ff0018>enchanting</text> <text style=background-color:#00ff0013>effect</text> <text style=background-color:#00ff0009>on</text> <text style=background-color:#00ff0019>people</text> <text style=background-color:#00ff0018>it</text> <text style=background-color:#00ff0001>s</text> <text style=background-color:#00ff0003>a</text> <text style=background-color:#00ff0005>tub</text> <text style=background-color:#00ff001a>of</text> <text style=background-color:#00ff002d>love</text> <text style=background-color:#00ff0002>says</text> <text style=background-color:#00ff0000>lottie</text> <text style=background-color:#00ff0000>wilkins</text> <text style=background-color:#00ff0020>you</text> <text style=background-color:#00ff0017>can</text> <text style=background-color:#00ff000b>watch</text> <text style=background-color:#00ff001d>their</text> <text style=background-color:#00ff0001>gradual</text> <text style=background-color:#00ff0016>change</text> <text style=background-color:#00ff0011>from</text> <text style=background-color:#00ff0001>dissatisfied</text> <text style=background-color:#00ff000a>to</text> <text style=background-color:#00ff0002>exuberant</text> <text style=background-color:#00ff0006>as</text> <text style=background-color:#00ff001a>the</text> <text style=background-color:#00ff000b>italian</text> <text style=background-color:#00ff0004>seaside</text> <text style=background-color:#00ff0014>works</text> <text style=background-color:#00ff0017>its</text> <text style=background-color:#00ff0017>magic</text> <text style=background-color:#00ff0009>on</text> <text style=background-color:#00ff000c>them</text> <text style=background-color:#00ff0000>br</text> <text style=background-color:#00ff0000>br</text> <text style=background-color:#00ff001e>all</text> <text style=background-color:#00ff001d>their</text> <text style=background-color:#00ff0014>problems</text> <text style=background-color:#00ff0022>and</text> <text style=background-color:#00ff001d>their</text> <text style=background-color:#00ff0003>solutions</text> <text style=background-color:#00ff0017>are</text> <text style=background-color:#00ff0001>plausible</text> <text style=background-color:#00ff001a>the</text> <text style=background-color:#00ff0008>actresses</text> <text style=background-color:#00ff000c>were</text> <text style=background-color:#00ff0042>great</text> <text style=background-color:#00ff001a>the</text> <text style=background-color:#00ff0012>background</text> <text style=background-color:#00ff0025>music</text> <text style=background-color:#00ff000c>seemed</text> <text style=background-color:#00ff003a>very</text> <text style=background-color:#00ff001b>appropriate</text> <text style=background-color:#00ff0017>for</text> <text style=background-color:#00ff0012>an</text> <text style=background-color:#00ff00ff>romantic</text> <text style=background-color:#00ff000b>italian</text> <text style=background-color:#00ff0000>locale</text> <text style=background-color:#00ff001e>all</text> <text style=background-color:#00ff0007>in</text> <text style=background-color:#00ff001e>all</text> <text style=background-color:#00ff0003>a</text> <text style=background-color:#00ff001b>movie</text> <text style=background-color:#00ff0017>for</text> <text style=background-color:#00ff0001>me</text> <br> <text style=background-color:#00ff0023>the</text> <text style=background-color:#00ff0025>movie</text> <text style=background-color:#00ff0000>wasn</text> <text style=background-color:#00ff0002>t</text> <text style=background-color:#00ff0028>all</text> <text style=background-color:#00ff001f>that</text> <text style=background-color:#00ff004e>great</text> <text style=background-color:#00ff0023>the</text> <text style=background-color:#00ff0029>book</text> <text style=background-color:#00ff001b>is</text> <text style=background-color:#00ff002b>better</text> <text style=background-color:#00ff0024>but</text> <text style=background-color:#00ff0023>the</text> <text style=background-color:#00ff0025>movie</text> <text style=background-color:#00ff0000>wasn</text> <text style=background-color:#00ff0002>t</text> <text style=background-color:#00ff0028>all</text> <text style=background-color:#00ff001f>that</text> <text style=background-color:#00ff0022>bad</text> <text style=background-color:#00ff001b>either</text> <text style=background-color:#00ff0021>it</text> <text style=background-color:#00ff000d>was</text> <text style=background-color:#00ff002c>interesting</text> <text style=background-color:#00ff0010>to</text> <text style=background-color:#00ff0015>say</text> <text style=background-color:#00ff0023>the</text> <text style=background-color:#00ff0018>least</text> <text style=background-color:#00ff0023>the</text> <text style=background-color:#00ff000f>plot</text> <text style=background-color:#00ff000e>had</text> <text style=background-color:#00ff003b>enough</text> <text style=background-color:#00ff000f>suspense</text> <text style=background-color:#00ff0010>to</text> <text style=background-color:#00ff0027>keep</text> <text style=background-color:#00ff0002>me</text> <text style=background-color:#00ff001f>watching</text> <text style=background-color:#00ff0036>although</text> <text style=background-color:#00ff0014>i</text> <text style=background-color:#00ff0000>wouldn</text> <text style=background-color:#00ff0002>t</text> <text style=background-color:#00ff0015>say</text> <text style=background-color:#00ff0014>i</text> <text style=background-color:#00ff000d>was</text> <text style=background-color:#00ff001d>actually</text> <text style=background-color:#00ff0013>interested</text> <text style=background-color:#00ff000c>in</text> <text style=background-color:#00ff0023>the</text> <text style=background-color:#00ff0025>movie</text> <text style=background-color:#00ff0008>itself</text> <text style=background-color:#00ff0001>janine</text> <text style=background-color:#00ff0004>turner</text> <text style=background-color:#00ff002d>and</text> <text style=background-color:#00ff0000>antonio</text> <text style=background-color:#00ff0000>sabato</text> <text style=background-color:#00ff0002>jr</text> <text style=background-color:#00ff0020>are</text> <text style=background-color:#00ff001b>both</text> <text style=background-color:#00ff0044>gorgeous</text> <text style=background-color:#00ff003b>enough</text> <text style=background-color:#00ff0010>to</text> <text style=background-color:#00ff0027>keep</text> <text style=background-color:#00ff002a>you</text> <text style=background-color:#00ff001f>watching</text> <text style=background-color:#00ff0016>they</text> <text style=background-color:#00ff0024>have</text> <text style=background-color:#00ff0006>a</text> <text style=background-color:#00ff001b>few</text> <text style=background-color:#00ff002d>cute</text> <text style=background-color:#00ff002a>scene</text> <text style=background-color:#00ff0002>s</text> <text style=background-color:#00ff001f>that</text> <text style=background-color:#00ff0013>should</text> <text style=background-color:#00ff0006>appeal</text> <text style=background-color:#00ff0010>to</text> <text style=background-color:#00ff0023>the</text> <text style=background-color:#00ff00ff>romantic</text> <text style=background-color:#00ff0002>s</text> <text style=background-color:#00ff0013>overall</text> <text style=background-color:#00ff0014>i</text> <text style=background-color:#00ff0002>d</text> <text style=background-color:#00ff0022>give</text> <text style=background-color:#00ff0023>the</text> <text style=background-color:#00ff0025>movie</text> <text style=background-color:#00ff0006>a</text> <text style=background-color:#00ff0025>or</text> <text style=background-color:#00ff0021>it</text> <text style=background-color:#00ff0000>wasn</text> <text style=background-color:#00ff0002>t</text> <text style=background-color:#00ff0022>bad</text> <text style=background-color:#00ff001b>just</text> <text style=background-color:#00ff0006>a</text> <text style=background-color:#00ff0046>little</text> <text style=background-color:#00ff0013>lacking</text> <text style=background-color:#00ff000f>plot</text> <text style=background-color:#00ff003e>wise</text> <br> <text style=background-color:#00ff0003>ultimately</text> <text style=background-color:#00ff001a>too</text> <text style=background-color:#00ff0013>silly</text> <text style=background-color:#00ff001b>and</text> <text style=background-color:#00ff0005>pointless</text> <text style=background-color:#00ff000c>yes</text> <text style=background-color:#00ff0016>there</text> <text style=background-color:#00ff000d>is</text> <text style=background-color:#00ff0013>the</text> <text style=background-color:#00ff0000>gilded</text> <text style=background-color:#00ff0001>cage</text> <text style=background-color:#00ff0007>metaphor</text> <text style=background-color:#00ff0014>but</text> <text style=background-color:#00ff000a>probably</text> <text style=background-color:#00ff0021>most</text> <text style=background-color:#00ff0014>kids</text> <text style=background-color:#00ff000a>would</text> <text style=background-color:#00ff0013>miss</text> <text style=background-color:#00ff0010>that</text> <text style=background-color:#00ff0002>forgettable</text> <text style=background-color:#00ff0001>instantly</text> <text style=background-color:#00ff0000>br</text> <text style=background-color:#00ff0000>br</text> <text style=background-color:#00ff0007>animation</text> <text style=background-color:#00ff000d>is</text> <text style=background-color:#00ff0003>as</text> <text style=background-color:#00ff0006>we</text> <text style=background-color:#00ff0014>have</text> <text style=background-color:#00ff0003>come</text> <text style=background-color:#00ff0006>to</text> <text style=background-color:#00ff0012>expect</text> <text style=background-color:#00ff0005>super</text> <text style=background-color:#00ff0007>real</text> <text style=background-color:#00ff0013>the</text> <text style=background-color:#00ff0006>plot</text> <text style=background-color:#00ff0004>line</text> <text style=background-color:#00ff000b>could</text> <text style=background-color:#00ff002c>best</text> <text style=background-color:#00ff0017>be</text> <text style=background-color:#00ff0005>described</text> <text style=background-color:#00ff0003>as</text> <text style=background-color:#00ff000d>thin</text> <text style=background-color:#00ff0014>but</text> <text style=background-color:#00ff0003>tenacious</text> <text style=background-color:#00ff0022>although</text> <text style=background-color:#00ff0013>the</text> <text style=background-color:#00ff0028>ending</text> <text style=background-color:#00ff0008>seemed</text> <text style=background-color:#00ff0000>arbitrary</text> <text style=background-color:#00ff0006>to</text> <text style=background-color:#00ff0000>me</text> <text style=background-color:#00ff0000>br</text> <text style=background-color:#00ff0000>br</text> <text style=background-color:#00ff0013>the</text> <text style=background-color:#00ff0000>sewer</text> <text style=background-color:#00ff0000>underworld</text> <text style=background-color:#00ff000d>is</text> <text style=background-color:#00ff0001>a</text> <text style=background-color:#00ff0000>suitably</text> <text style=background-color:#00ff0004>disgusting</text> <text style=background-color:#00ff0024>reflection</text> <text style=background-color:#00ff0013>of</text> <text style=background-color:#00ff0013>the</text> <text style=background-color:#00ff001e>world</text> <text style=background-color:#00ff0006>above</text> <text style=background-color:#00ff001b>and</text> <text style=background-color:#00ff0006>somehow</text> <text style=background-color:#00ff0007>wealth</text> <text style=background-color:#00ff001b>and</text> <text style=background-color:#00ff0005>money</text> <text style=background-color:#00ff000b>seem</text> <text style=background-color:#00ff0006>to</text> <text style=background-color:#00ff0008>count</text> <text style=background-color:#00ff0011>for</text> <text style=background-color:#00ff0001>a</text> <text style=background-color:#00ff0019>lot</text> <text style=background-color:#00ff0016>there</text> <text style=background-color:#00ff001a>too</text> <text style=background-color:#00ff0004>oh</text> <text style=background-color:#00ff000c>yes</text> <text style=background-color:#00ff001b>and</text> <text style=background-color:#00ff0016>there</text> <text style=background-color:#00ff0000>s</text> <text style=background-color:#00ff0001>a</text> <text style=background-color:#00ff00ff>romantic</text> <text style=background-color:#00ff0007>interest</text> <text style=background-color:#00ff001d>with</text> <text style=background-color:#00ff0013>the</text> <text style=background-color:#00ff0016>female</text> <text style=background-color:#00ff0013>being</text> <text style=background-color:#00ff0013>the</text> <text style=background-color:#00ff0006>smarter</text> <text style=background-color:#00ff0025>more</text> <text style=background-color:#00ff0002>savvy</text> <text style=background-color:#00ff001b>and</text> <text style=background-color:#00ff0007>go</text> <text style=background-color:#00ff0007>getting</text> <text style=background-color:#00ff0013>of</text> <text style=background-color:#00ff0013>the</text> <text style=background-color:#00ff0002>pair</text> <text style=background-color:#00ff0013>this</text> <text style=background-color:#00ff0004>in</text> <text style=background-color:#00ff0002>itself</text> <text style=background-color:#00ff000d>is</text> <text style=background-color:#00ff0000>rapidly</text> <text style=background-color:#00ff0013>becoming</text> <text style=background-color:#00ff0001>a</text> <text style=background-color:#00ff0001>tiresome</text> <text style=background-color:#00ff0000>anti</text> <text style=background-color:#00ff0001>stereotype</text> <text style=background-color:#00ff000a>probably</text> <text style=background-color:#00ff0025>your</text> <text style=background-color:#00ff0014>kids</text> <text style=background-color:#00ff000a>will</text> <text style=background-color:#00ff0025>love</text> <text style=background-color:#00ff0012>it</text> <text style=background-color:#00ff000c>though</text> <br> <text style=background-color:#00ff0009>fever</text> <text style=background-color:#00ff000a>pitch</text> <text style=background-color:#00ff0017>is</text> <text style=background-color:#00ff0005>a</text> <text style=background-color:#00ff0049>fun</text> <text style=background-color:#00ff0036>enough</text> <text style=background-color:#00ff0021>movie</text> <text style=background-color:#00ff001d>it</text> <text style=background-color:#00ff0006>has</text> <text style=background-color:#00ff0005>a</text> <text style=background-color:#00ff0027>lot</text> <text style=background-color:#00ff001f>of</text> <text style=background-color:#00ff0016>funny</text> <text style=background-color:#00ff0035>moments</text> <text style=background-color:#00ff000c>including</text> <text style=background-color:#00ff0005>a</text> <text style=background-color:#00ff0001>hilariously</text> <text style=background-color:#00ff0010>disturbing</text> <text style=background-color:#00ff001a>shower</text> <text style=background-color:#00ff0026>scene</text> <text style=background-color:#00ff0019>like</text> <text style=background-color:#00ff002f>most</text> <text style=background-color:#00ff00ff>romantic</text> <text style=background-color:#00ff000c>comedies</text> <text style=background-color:#00ff001d>it</text> <text style=background-color:#00ff0006>has</text> <text style=background-color:#00ff0005>a</text> <text style=background-color:#00ff0008>dead</text> <text style=background-color:#00ff000a>zone</text> <text style=background-color:#00ff000a>in</text> <text style=background-color:#00ff001f>the</text> <text style=background-color:#00ff0010>middle</text> <text style=background-color:#00ff0016>where</text> <text style=background-color:#00ff0024>all</text> <text style=background-color:#00ff001f>the</text> <text style=background-color:#00ff0010>heavy</text> <text style=background-color:#00ff0014>she</text> <text style=background-color:#00ff0001>s</text> <text style=background-color:#00ff0006>breaking</text> <text style=background-color:#00ff0012>up</text> <text style=background-color:#00ff002b>with</text> <text style=background-color:#00ff0002>me</text> <text style=background-color:#00ff0026>stuff</text> <text style=background-color:#00ff0019>happens</text> <text style=background-color:#00ff0020>but</text> <text style=background-color:#00ff0021>other</text> <text style=background-color:#00ff0028>than</text> <text style=background-color:#00ff001b>that</text> <text style=background-color:#00ff001d>it</text> <text style=background-color:#00ff0007>continues</text> <text style=background-color:#00ff000d>to</text> <text style=background-color:#00ff0024>be</text> <text style=background-color:#00ff0016>funny</text> <text style=background-color:#00ff0016>until</text> <text style=background-color:#00ff001f>the</text> <text style=background-color:#00ff001a>end</text> <text style=background-color:#00ff0000>br</text> <text style=background-color:#00ff0000>br</text> <text style=background-color:#00ff0013>even</text> <text style=background-color:#00ff0016>though</text> <text style=background-color:#00ff001f>the</text> <text style=background-color:#00ff000d>plot</text> <text style=background-color:#00ff0004>revolves</text> <text style=background-color:#00ff0014>around</text> <text style=background-color:#00ff0004>fanaticism</text> <text style=background-color:#00ff0018>towards</text> <text style=background-color:#00ff001f>the</text> <text style=background-color:#00ff000a>red</text> <text style=background-color:#00ff0000>sox</text> <text style=background-color:#00ff001d>it</text> <text style=background-color:#00ff0001>s</text> <text style=background-color:#00ff001b>not</text> <text style=background-color:#00ff0003>overloaded</text> <text style=background-color:#00ff002b>with</text> <text style=background-color:#00ff0007>sports</text> <text style=background-color:#00ff0026>you</text> <text style=background-color:#00ff0003>don</text> <text style=background-color:#00ff0002>t</text> <text style=background-color:#00ff0020>have</text> <text style=background-color:#00ff000d>to</text> <text style=background-color:#00ff0024>be</text> <text style=background-color:#00ff0005>a</text> <text style=background-color:#00ff000b>fan</text> <text style=background-color:#00ff000d>to</text> <text style=background-color:#00ff0051>enjoy</text> <text style=background-color:#00ff001f>this</text> <text style=background-color:#00ff000f>film</text> <text style=background-color:#00ff0000>br</text> <text style=background-color:#00ff0000>br</text> <text style=background-color:#00ff001f>of</text> <text style=background-color:#00ff0024>course</text> <text style=background-color:#00ff001b>that</text> <text style=background-color:#00ff0001>s</text> <text style=background-color:#00ff002e>easy</text> <text style=background-color:#00ff001c>for</text> <text style=background-color:#00ff0002>me</text> <text style=background-color:#00ff000d>to</text> <text style=background-color:#00ff0012>say</text> <text style=background-color:#00ff0011>i</text> <text style=background-color:#00ff0000>ve</text> <text style=background-color:#00ff000e>been</text> <text style=background-color:#00ff0005>a</text> <text style=background-color:#00ff000a>red</text> <text style=background-color:#00ff0000>sox</text> <text style=background-color:#00ff000b>fan</text> <text style=background-color:#00ff000e>since</text> <text style=background-color:#00ff0011>i</text> <text style=background-color:#00ff000a>was</text> <text style=background-color:#00ff0005>a</text> <text style=background-color:#00ff001c>boy</text> <text style=background-color:#00ff0027>too</text> <text style=background-color:#00ff0000>br</text> <text style=background-color:#00ff0000>br</text> <text style=background-color:#00ff0013>out</text> <text style=background-color:#00ff001f>of</text> <text style=background-color:#00ff0000>br</text> <text style=background-color:#00ff0000>br</text> <text style=background-color:#00ff0000>barky</text> <br> <text style=background-color:#00ff001f>the</text> <text style=background-color:#00ff0007>pioneering</text> <text style=background-color:#00ff0005>technicolor</text> <text style=background-color:#00ff0009>cinematography</text> <text style=background-color:#00ff000c>winner</text> <text style=background-color:#00ff001f>of</text> <text style=background-color:#00ff0054>special</text> <text style=background-color:#00ff0004>technical</text> <text style=background-color:#00ff0014>achievement</text> <text style=background-color:#00ff0003>oscar</text> <text style=background-color:#00ff0017>is</text> <text style=background-color:#00ff0037>indeed</text> <text style=background-color:#00ff001e>enchanting</text> <text style=background-color:#00ff0007>add</text> <text style=background-color:#00ff0017>an</text> <text style=background-color:#00ff003e>endless</text> <text style=background-color:#00ff0048>variety</text> <text style=background-color:#00ff001f>of</text> <text style=background-color:#00ff0032>glamorous</text> <text style=background-color:#00ff000b>costumes</text> <text style=background-color:#00ff0029>and</text> <text style=background-color:#00ff0005>a</text> <text style=background-color:#00ff00ff>romantic</text> <text style=background-color:#00ff0002>cinema</text> <text style=background-color:#00ff006b>dream</text> <text style=background-color:#00ff000a>team</text> <text style=background-color:#00ff0019>like</text> <text style=background-color:#00ff0000>marlene</text> <text style=background-color:#00ff0000>dietrich</text> <text style=background-color:#00ff0029>and</text> <text style=background-color:#00ff0003>charles</text> <text style=background-color:#00ff0000>boyer</text> <text style=background-color:#00ff0029>and</text> <text style=background-color:#00ff0026>you</text> <text style=background-color:#00ff0000>ve</text> <text style=background-color:#00ff000b>got</text> <text style=background-color:#00ff0005>a</text> <text style=background-color:#00ff002a>rather</text> <text style=background-color:#00ff0031>pleasant</text> <text style=background-color:#00ff001d>picture</text> <text style=background-color:#00ff0000>br</text> <text style=background-color:#00ff0000>br</text> <text style=background-color:#00ff000e>unfortunately</text> <text style=background-color:#00ff001f>the</text> <text style=background-color:#00ff0001>contrived</text> <text style=background-color:#00ff000d>plot</text> <text style=background-color:#00ff0008>as</text> <text style=background-color:#00ff001c>well</text> <text style=background-color:#00ff0008>as</text> <text style=background-color:#00ff001f>the</text> <text style=background-color:#00ff0007>over</text> <text style=background-color:#00ff0007>blown</text> <text style=background-color:#00ff0020>acting</text> <text style=background-color:#00ff0012>leave</text> <text style=background-color:#00ff002b>much</text> <text style=background-color:#00ff000d>to</text> <text style=background-color:#00ff0024>be</text> <text style=background-color:#00ff0010>desired</text> <text style=background-color:#00ff0015>still</text> <text style=background-color:#00ff0022>there</text> <text style=background-color:#00ff0020>have</text> <text style=background-color:#00ff001b>not</text> <text style=background-color:#00ff000e>been</text> <text style=background-color:#00ff001d>any</text> <text style=background-color:#00ff0034>more</text> <text style=background-color:#00ff0018>breathtaking</text> <text style=background-color:#00ff0005>technicolor</text> <text style=background-color:#00ff000f>films</text> <text style=background-color:#00ff0015>before</text> <text style=background-color:#00ff001f>this</text> <text style=background-color:#00ff001e>one</text> <text style=background-color:#00ff0029>and</text> <text style=background-color:#00ff0041>very</text> <text style=background-color:#00ff0018>few</text> <text style=background-color:#00ff000e>since</text> <text style=background-color:#00ff0017>then</text> <text style=background-color:#00ff001b>that</text> <text style=background-color:#00ff001c>can</text> <text style=background-color:#00ff000d>top</text> <text style=background-color:#00ff001f>this</text> <text style=background-color:#00ff0018>breathtaking</text> <text style=background-color:#00ff0014>visual</text> <text style=background-color:#00ff0046>experience</text> <text style=background-color:#00ff001f>of</text> <text style=background-color:#00ff0031>stunning</text> <text style=background-color:#00ff0016>colors</text> <text style=background-color:#00ff0002>cinema</text> <text style=background-color:#00ff0009>fans</text> <text style=background-color:#00ff0016>who</text> <text style=background-color:#00ff0020>have</text> <text style=background-color:#00ff0031>enjoyed</text> <text style=background-color:#00ff001f>the</text> <text style=background-color:#00ff0041>glorious</text> <text style=background-color:#00ff0007>color</text> <text style=background-color:#00ff0009>cinematography</text> <text style=background-color:#00ff000a>in</text> <text style=background-color:#00ff0004>robin</text> <text style=background-color:#00ff0008>hood</text> <text style=background-color:#00ff0003>jesse</text> <text style=background-color:#00ff0004>james</text> <text style=background-color:#00ff0029>and</text> <text style=background-color:#00ff0008>gone</text> <text style=background-color:#00ff002b>with</text> <text style=background-color:#00ff001f>the</text> <text style=background-color:#00ff0001>wind</text> <text style=background-color:#00ff0013>will</text> <text style=background-color:#00ff001b>not</text> <text style=background-color:#00ff0024>be</text> <text style=background-color:#00ff000e>disappointed</text> <text style=background-color:#00ff000a>in</text> <text style=background-color:#00ff001f>the</text> <text style=background-color:#00ff0051>fantastic</text> <text style=background-color:#00ff001f>work</text> <text style=background-color:#00ff0013>done</text> <text style=background-color:#00ff001a>here</text> <text style=background-color:#00ff001f>the</text> <text style=background-color:#00ff0019>garden</text> <text style=background-color:#00ff001f>of</text> <text style=background-color:#00ff0002>allah</text> <text style=background-color:#00ff0013>will</text> <text style=background-color:#00ff0031>always</text> <text style=background-color:#00ff0024>be</text> <text style=background-color:#00ff0004>synonymous</text> <text style=background-color:#00ff002b>with</text> <text style=background-color:#00ff002f>brilliant</text> <text style=background-color:#00ff0007>color</text> <text style=background-color:#00ff0009>cinematography</text> <br> <text style=background-color:#00ff000b>i</text> <text style=background-color:#00ff0004>went</text> <text style=background-color:#00ff0008>to</text> <text style=background-color:#00ff0012>see</text> <text style=background-color:#00ff0005>fever</text> <text style=background-color:#00ff0006>pitch</text> <text style=background-color:#00ff0020>with</text> <text style=background-color:#00ff001d>my</text> <text style=background-color:#00ff0018>mom</text> <text style=background-color:#00ff001f>and</text> <text style=background-color:#00ff000b>i</text> <text style=background-color:#00ff0014>can</text> <text style=background-color:#00ff000b>say</text> <text style=background-color:#00ff0013>that</text> <text style=background-color:#00ff0008>we</text> <text style=background-color:#00ff0010>both</text> <text style=background-color:#00ff002f>loved</text> <text style=background-color:#00ff0014>it</text> <text style=background-color:#00ff0014>it</text> <text style=background-color:#00ff0000>wasn</text> <text style=background-color:#00ff0001>t</text> <text style=background-color:#00ff0016>the</text> <text style=background-color:#00ff0011>typical</text> <text style=background-color:#00ff00ff>romantic</text> <text style=background-color:#00ff0016>comedy</text> <text style=background-color:#00ff000f>where</text> <text style=background-color:#00ff0017>someone</text> <text style=background-color:#00ff000f>is</text> <text style=background-color:#00ff0000>pining</text> <text style=background-color:#00ff0014>for</text> <text style=background-color:#00ff0016>the</text> <text style=background-color:#00ff0017>other</text> <text style=background-color:#00ff001f>and</text> <text style=background-color:#00ff0001>blah</text> <text style=background-color:#00ff0001>blah</text> <text style=background-color:#00ff0001>blah</text> <text style=background-color:#00ff001c>you</text> <text style=background-color:#00ff0000>weren</text> <text style=background-color:#00ff0001>t</text> <text style=background-color:#00ff0014>waiting</text> <text style=background-color:#00ff0014>for</text> <text style=background-color:#00ff0016>the</text> <text style=background-color:#00ff0000>climatic</text> <text style=background-color:#00ff0016>first</text> <text style=background-color:#00ff001d>kiss</text> <text style=background-color:#00ff0018>or</text> <text style=background-color:#00ff0014>for</text> <text style=background-color:#00ff000a>them</text> <text style=background-color:#00ff0008>to</text> <text style=background-color:#00ff0008>finally</text> <text style=background-color:#00ff000b>get</text> <text style=background-color:#00ff0020>together</text> <text style=background-color:#00ff0014>it</text> <text style=background-color:#00ff0006>was</text> <text style=background-color:#00ff0029>more</text> <text style=background-color:#00ff0009>real</text> <text style=background-color:#00ff0016>because</text> <text style=background-color:#00ff001c>you</text> <text style=background-color:#00ff000c>saw</text> <text style=background-color:#00ff000a>them</text> <text style=background-color:#00ff000e>through</text> <text style=background-color:#00ff0016>the</text> <text style=background-color:#00ff0044>relationship</text> <text style=background-color:#00ff0020>rather</text> <text style=background-color:#00ff001e>than</text> <text style=background-color:#00ff0016>the</text> <text style=background-color:#00ff0017>whole</text> <text style=background-color:#00ff0018>movie</text> <text style=background-color:#00ff001a>be</text> <text style=background-color:#00ff0019>about</text> <text style=background-color:#00ff000a>them</text> <text style=background-color:#00ff0009>getting</text> <text style=background-color:#00ff0020>together</text> <text style=background-color:#00ff0015>people</text> <text style=background-color:#00ff000d>could</text> <text style=background-color:#00ff0011>actually</text> <text style=background-color:#00ff000e>relate</text> <text style=background-color:#00ff0008>to</text> <text style=background-color:#00ff0016>the</text> <text style=background-color:#00ff0009>film</text> <text style=background-color:#00ff0016>because</text> <text style=background-color:#00ff0014>it</text> <text style=background-color:#00ff0000>didn</text> <text style=background-color:#00ff0001>t</text> <text style=background-color:#00ff000d>seem</text> <text style=background-color:#00ff0011>like</text> <text style=background-color:#00ff0047>extraordinary</text> <text style=background-color:#00ff000f>circumstances</text> <text style=background-color:#00ff0018>or</text> <text style=background-color:#00ff0017>impossible</text> <text style=background-color:#00ff000d>situations</text> <text style=background-color:#00ff0014>it</text> <text style=background-color:#00ff0006>was</text> <text style=background-color:#00ff0014>really</text> <text style=background-color:#00ff000f>funny</text> <text style=background-color:#00ff001f>and</text> <text style=background-color:#00ff000b>i</text> <text style=background-color:#00ff0011>think</text> <text style=background-color:#00ff0014>it</text> <text style=background-color:#00ff0006>was</text> <text style=background-color:#00ff0002>jimmy</text> <text style=background-color:#00ff0000>fallon</text> <text style=background-color:#00ff0000>s</text> <text style=background-color:#00ff0031>best</text> <text style=background-color:#00ff001d>performance</text> <text style=background-color:#00ff001a>all</text> <text style=background-color:#00ff0005>in</text> <text style=background-color:#00ff001a>all</text> <text style=background-color:#00ff000b>i</text> <text style=background-color:#00ff000c>would</text> <text style=background-color:#00ff0019>definitely</text> <text style=background-color:#00ff000e>recommend</text> <text style=background-color:#00ff0014>it</text> <br> <text style=background-color:#00ff0015>i</text> <text style=background-color:#00ff000e>watched</text> <text style=background-color:#00ff0024>the</text> <text style=background-color:#00ff0025>movie</text> <text style=background-color:#00ff0020>while</text> <text style=background-color:#00ff0005>recovering</text> <text style=background-color:#00ff0019>from</text> <text style=background-color:#00ff0019>major</text> <text style=background-color:#00ff000a>surgery</text> <text style=background-color:#00ff0020>while</text> <text style=background-color:#00ff0015>i</text> <text style=background-color:#00ff0010>knew</text> <text style=background-color:#00ff0022>it</text> <text style=background-color:#00ff000d>was</text> <text style=background-color:#00ff0024>only</text> <text style=background-color:#00ff0006>a</text> <text style=background-color:#00ff0005>b</text> <text style=background-color:#00ff0012>film</text> <text style=background-color:#00ff0006>a</text> <text style=background-color:#00ff001a>space</text> <text style=background-color:#00ff000a>western</text> <text style=background-color:#00ff0015>i</text> <text style=background-color:#00ff0040>loved</text> <text style=background-color:#00ff0022>it</text> <text style=background-color:#00ff0022>it</text> <text style=background-color:#00ff001b>may</text> <text style=background-color:#00ff0025>have</text> <text style=background-color:#00ff0006>lacked</text> <text style=background-color:#00ff0024>the</text> <text style=background-color:#00ff0005>flash</text> <text style=background-color:#00ff0024>of</text> <text style=background-color:#00ff0018>high</text> <text style=background-color:#00ff0002>dollar</text> <text style=background-color:#00ff0007>productions</text> <text style=background-color:#00ff0022>it</text> <text style=background-color:#00ff0001>non</text> <text style=background-color:#00ff0024>the</text> <text style=background-color:#00ff0024>less</text> <text style=background-color:#00ff0007>held</text> <text style=background-color:#00ff002d>my</text> <text style=background-color:#00ff0042>imagination</text> <text style=background-color:#00ff002e>and</text> <text style=background-color:#00ff000a>provided</text> <text style=background-color:#00ff004f>great</text> <text style=background-color:#00ff0002>escapism</text> <text style=background-color:#00ff000e>sadly</text> <text style=background-color:#00ff0036>our</text> <text style=background-color:#00ff0022>society</text> <text style=background-color:#00ff0009>has</text> <text style=background-color:#00ff0017>so</text> <text style=background-color:#00ff0030>much</text> <text style=background-color:#00ff000c>available</text> <text style=background-color:#00ff0000>discounting</text> <text style=background-color:#00ff002f>small</text> <text style=background-color:#00ff0006>attempts</text> <text style=background-color:#00ff001b>is</text> <text style=background-color:#00ff002c>too</text> <text style=background-color:#00ff0033>easy</text> <text style=background-color:#00ff000d>in</text> <text style=background-color:#00ff0024>the</text> <text style=background-color:#00ff0025>same</text> <text style=background-color:#00ff002c>way</text> <text style=background-color:#00ff0020>that</text> <text style=background-color:#00ff0015>i</text> <text style=background-color:#00ff0021>can</text> <text style=background-color:#00ff0057>enjoy</text> <text style=background-color:#00ff0006>a</text> <text style=background-color:#00ff0017>even</text> <text style=background-color:#00ff0006>a</text> <text style=background-color:#00ff000a>grade</text> <text style=background-color:#00ff000d>school</text> <text style=background-color:#00ff002c>performance</text> <text style=background-color:#00ff0024>of</text> <text style=background-color:#00ff000b>shakespeare</text> <text style=background-color:#00ff0015>i</text> <text style=background-color:#00ff0021>can</text> <text style=background-color:#00ff0047>appreciate</text> <text style=background-color:#00ff001e>many</text> <text style=background-color:#00ff0009>levels</text> <text style=background-color:#00ff0024>of</text> <text style=background-color:#00ff0018>achievement</text> <text style=background-color:#00ff0021>for</text> <text style=background-color:#00ff0024>the</text> <text style=background-color:#00ff0031>art</text> <text style=background-color:#00ff000f>sake</text> <text style=background-color:#00ff0015>i</text> <text style=background-color:#00ff0010>am</text> <text style=background-color:#00ff0006>a</text> <text style=background-color:#00ff0003>cop</text> <text style=background-color:#00ff002e>and</text> <text style=background-color:#00ff0011>found</text> <text style=background-color:#00ff000c>affinity</text> <text style=background-color:#00ff0030>with</text> <text style=background-color:#00ff0024>the</text> <text style=background-color:#00ff0003>retired</text> <text style=background-color:#00ff0000>lapd</text> <text style=background-color:#00ff005f>dreams</text> <text style=background-color:#00ff001d>like</text> <text style=background-color:#00ff001a>his</text> <text style=background-color:#00ff0009>haunt</text> <text style=background-color:#00ff0003>me</text> <text style=background-color:#00ff0020>that</text> <text style=background-color:#00ff0015>i</text> <text style=background-color:#00ff0017>will</text> <text style=background-color:#00ff0029>be</text> <text style=background-color:#00ff0006>unable</text> <text style=background-color:#00ff000d>in</text> <text style=background-color:#00ff0024>the</text> <text style=background-color:#00ff0032>moment</text> <text style=background-color:#00ff0024>of</text> <text style=background-color:#00ff0000>crisis</text> <text style=background-color:#00ff0029>be</text> <text style=background-color:#00ff0020>able</text> <text style=background-color:#00ff0011>to</text> <text style=background-color:#00ff0004>respond</text> <text style=background-color:#00ff0011>to</text> <text style=background-color:#00ff0012>save</text> <text style=background-color:#00ff0029>another</text> <text style=background-color:#00ff0002>s</text> <text style=background-color:#00ff0049>life</text> <text style=background-color:#00ff0026>or</text> <text style=background-color:#00ff002d>my</text> <text style=background-color:#00ff002c>own</text> <text style=background-color:#00ff0020>while</text> <text style=background-color:#00ff0022>it</text> <text style=background-color:#00ff000d>was</text> <text style=background-color:#00ff0006>a</text> <text style=background-color:#00ff00ff>romantic</text> <text style=background-color:#00ff003d>ending</text> <text style=background-color:#00ff001a>where</text> <text style=background-color:#00ff0000>farnsworth</text> <text style=background-color:#00ff000e>did</text> <text style=background-color:#00ff0022>take</text> <text style=background-color:#00ff0017>out</text> <text style=background-color:#00ff0024>the</text> <text style=background-color:#00ff0023>bad</text> <text style=background-color:#00ff0021>guy</text> <text style=background-color:#00ff0010>predictable</text> <text style=background-color:#00ff0015>i</text> <text style=background-color:#00ff0019>needed</text> <text style=background-color:#00ff0006>a</text> <text style=background-color:#00ff0047>little</text> <text style=background-color:#00ff003f>happy</text> <text style=background-color:#00ff0035>romance</text> <text style=background-color:#00ff001a>where</text> <text style=background-color:#00ff0046>good</text> <text style=background-color:#00ff0021>can</text> <text style=background-color:#00ff0008>triumph</text> <text style=background-color:#00ff002d>my</text> <text style=background-color:#00ff0031>world</text> <text style=background-color:#00ff001b>is</text> <text style=background-color:#00ff0022>really</text> <text style=background-color:#00ff002c>too</text> <text style=background-color:#00ff000d>cynical</text> <br> <text style=background-color:#00ff0011>i</text> <text style=background-color:#00ff000d>found</text> <text style=background-color:#00ff001f>this</text> <text style=background-color:#00ff000f>film</text> <text style=background-color:#00ff000d>to</text> <text style=background-color:#00ff0024>be</text> <text style=background-color:#00ff0017>an</text> <text style=background-color:#00ff0008>utter</text> <text style=background-color:#00ff0001>dissapointment</text> <text style=background-color:#00ff001f>the</text> <text style=background-color:#00ff0030>talent</text> <text style=background-color:#00ff0009>available</text> <text style=background-color:#00ff000d>to</text> <text style=background-color:#00ff001f>the</text> <text style=background-color:#00ff0002>director</text> <text style=background-color:#00ff0000>notably</text> <text style=background-color:#00ff0000>stanley</text> <text style=background-color:#00ff0000>tucci</text> <text style=background-color:#00ff0004>chris</text> <text style=background-color:#00ff0000>walken</text> <text style=background-color:#00ff0001>hank</text> <text style=background-color:#00ff0000>azaria</text> <text style=background-color:#00ff0029>and</text> <text style=background-color:#00ff0000>alan</text> <text style=background-color:#00ff0000>arkin</text> <text style=background-color:#00ff0024>without</text> <text style=background-color:#00ff0013>even</text> <text style=background-color:#00ff0002>mentioning</text> <text style=background-color:#00ff001f>the</text> <text style=background-color:#00ff0009>four</text> <text style=background-color:#00ff0004>main</text> <text style=background-color:#00ff0004>leads</text> <text style=background-color:#00ff0020>have</text> <text style=background-color:#00ff000e>been</text> <text style=background-color:#00ff000a>completely</text> <text style=background-color:#00ff0017>wasted</text> <text style=background-color:#00ff000c>on</text> <text style=background-color:#00ff0017>an</text> <text style=background-color:#00ff0004>unfunny</text> <text style=background-color:#00ff0007>mediocre</text> <text style=background-color:#00ff002f>story</text> <text style=background-color:#00ff002d>whose</text> <text style=background-color:#00ff0010>conclusion</text> <text style=background-color:#00ff001e>one</text> <text style=background-color:#00ff0000>couldn</text> <text style=background-color:#00ff0002>t</text> <text style=background-color:#00ff001d>really</text> <text style=background-color:#00ff0027>care</text> <text style=background-color:#00ff0022>about</text> <text style=background-color:#00ff0010>once</text> <text style=background-color:#00ff0003>introduced</text> <text style=background-color:#00ff000d>to</text> <text style=background-color:#00ff001f>the</text> <text style=background-color:#00ff0001>dire</text> <text style=background-color:#00ff0001>stereo</text> <text style=background-color:#00ff0000>typed</text> <text style=background-color:#00ff001e>characters</text> <text style=background-color:#00ff0002>julia</text> <text style=background-color:#00ff0003>roberts</text> <text style=background-color:#00ff0017>is</text> <text style=background-color:#00ff0001>feeble</text> <text style=background-color:#00ff0001>zeta</text> <text style=background-color:#00ff0004>jones</text> <text style=background-color:#00ff0017>is</text> <text style=background-color:#00ff0018>just</text> <text style=background-color:#00ff000b>plain</text> <text style=background-color:#00ff0011>annoying</text> <text style=background-color:#00ff0005>appearing</text> <text style=background-color:#00ff000d>to</text> <text style=background-color:#00ff0000>reprise</text> <text style=background-color:#00ff0012>her</text> <text style=background-color:#00ff000d>role</text> <text style=background-color:#00ff0015>from</text> <text style=background-color:#00ff0014>high</text> <text style=background-color:#00ff0001>fidelity</text> <text style=background-color:#00ff0018>minus</text> <text style=background-color:#00ff001f>the</text> <text style=background-color:#00ff0017>humour</text> <text style=background-color:#00ff0008>crystal</text> <text style=background-color:#00ff0018>just</text> <text style=background-color:#00ff0009>plays</text> <text style=background-color:#00ff0016>his</text> <text style=background-color:#00ff0021>same</text> <text style=background-color:#00ff0021>old</text> <text style=background-color:#00ff0013>hyper</text> <text style=background-color:#00ff0024>active</text> <text style=background-color:#00ff0002>neurotic</text> <text style=background-color:#00ff0011>annoying</text> <text style=background-color:#00ff0008>alter</text> <text style=background-color:#00ff0007>ego</text> <text style=background-color:#00ff0029>and</text> <text style=background-color:#00ff0000>cusack</text> <text style=background-color:#00ff0028>simply</text> <text style=background-color:#00ff000b>walks</text> <text style=background-color:#00ff0015>through</text> <text style=background-color:#00ff0016>his</text> <text style=background-color:#00ff002f>part</text> <text style=background-color:#00ff0009>apparently</text> <text style=background-color:#00ff000a>bored</text> <text style=background-color:#00ff002b>with</text> <text style=background-color:#00ff001f>the</text> <text style=background-color:#00ff0020>whole</text> <text style=background-color:#00ff001a>project</text> <text style=background-color:#00ff0000>br</text> <text style=background-color:#00ff0000>br</text> <text style=background-color:#00ff001d>for</text> <text style=background-color:#00ff001c>what</text> <text style=background-color:#00ff0017>is</text> <text style=background-color:#00ff0017>supposed</text> <text style=background-color:#00ff000d>to</text> <text style=background-color:#00ff0024>be</text> <text style=background-color:#00ff0005>a</text> <text style=background-color:#00ff00ff>romantic</text> <text style=background-color:#00ff001f>comedy</text> <text style=background-color:#00ff0022>there</text> <text style=background-color:#00ff0017>is</text> <text style=background-color:#00ff0017>absolutely</text> <text style=background-color:#00ff0000>no</text> <text style=background-color:#00ff0030>romance</text> <text style=background-color:#00ff0018>between</text> <text style=background-color:#00ff001f>the</text> <text style=background-color:#00ff0000>central</text> <text style=background-color:#00ff001e>characters</text> <text style=background-color:#00ff0019>let</text> <text style=background-color:#00ff0019>alone</text> <text style=background-color:#00ff000a>chemistry</text> <text style=background-color:#00ff0029>and</text> <text style=background-color:#00ff0008>as</text> <text style=background-color:#00ff001d>for</text> <text style=background-color:#00ff001f>the</text> <text style=background-color:#00ff001f>comedy</text> <text style=background-color:#00ff0015>possible</text> <text style=background-color:#00ff0001>spoilers</text> <text style=background-color:#00ff001c>well</text> <text style=background-color:#00ff001f>the</text> <text style=background-color:#00ff001f>only</text> <text style=background-color:#00ff0036>moments</text> <text style=background-color:#00ff001f>of</text> <text style=background-color:#00ff0010>mild</text> <text style=background-color:#00ff0017>humour</text> <text style=background-color:#00ff000c>came</text> <text style=background-color:#00ff0009>off</text> <text style=background-color:#00ff001f>the</text> <text style=background-color:#00ff0009>back</text> <text style=background-color:#00ff001f>of</text> <text style=background-color:#00ff0000>cusack</text> <text style=background-color:#00ff0001>s</text> <text style=background-color:#00ff000d>role</text> <text style=background-color:#00ff000a>in</text> <text style=background-color:#00ff0001>grosse</text> <text style=background-color:#00ff0001>pointe</text> <text style=background-color:#00ff0029>and</text> <text style=background-color:#00ff0016>his</text> <text style=background-color:#00ff0051>relationship</text> <text style=background-color:#00ff002b>with</text> <text style=background-color:#00ff0000>alan</text> <text style=background-color:#00ff0000>arkin</text> <text style=background-color:#00ff001f>the</text> <text style=background-color:#00ff0001>scriptwriter</text> <text style=background-color:#00ff000f>obviously</text> <text style=background-color:#00ff0004>unable</text> <text style=background-color:#00ff000d>to</text> <text style=background-color:#00ff0011>show</text> <text style=background-color:#00ff001e>any</text> <text style=background-color:#00ff0009>originality</text> <text style=background-color:#00ff0007>whatsoever</text> <text style=background-color:#00ff0001>spoilers</text> <text style=background-color:#00ff0000>azaria</text> <text style=background-color:#00ff000a>was</text> <text style=background-color:#00ff0004>reasonably</text> <text style=background-color:#00ff000c>amusing</text> <text style=background-color:#00ff0008>as</text> <text style=background-color:#00ff001f>the</text> <text style=background-color:#00ff000b>mexican</text> <text style=background-color:#00ff007d>lover</text> <text style=background-color:#00ff0029>and</text> <text style=background-color:#00ff0000>walken</text> <text style=background-color:#00ff000b>did</text> <text style=background-color:#00ff001a>quite</text> <text style=background-color:#00ff0017>an</text> <text style=background-color:#00ff000c>amusing</text> <text style=background-color:#00ff001c>turn</text> <text style=background-color:#00ff0008>as</text> <text style=background-color:#00ff0005>a</text> <text style=background-color:#00ff000c>parody</text> <text style=background-color:#00ff001f>of</text> <text style=background-color:#00ff0017>an</text> <text style=background-color:#00ff0000>arthouse</text> <text style=background-color:#00ff0000>maverick</text> <text style=background-color:#00ff0000>dogme</text> <text style=background-color:#00ff0029>type</text> <text style=background-color:#00ff0002>director</text> <text style=background-color:#00ff0020>but</text> <text style=background-color:#00ff0014>these</text> <text style=background-color:#00ff000f>parts</text> <text style=background-color:#00ff0000>constituted</text> <text style=background-color:#00ff0041>very</text> <text style=background-color:#00ff0042>little</text> <text style=background-color:#00ff0005>screen</text> <text style=background-color:#00ff0020>time</text> <text style=background-color:#00ff0029>and</text> <text style=background-color:#00ff0016>instead</text> <text style=background-color:#00ff0001>spoilers</text> <text style=background-color:#00ff000e>we</text> <text style=background-color:#00ff0010>were</text> <text style=background-color:#00ff0012>treated</text> <text style=background-color:#00ff000d>to</text> <text style=background-color:#00ff000c>billy</text> <text style=background-color:#00ff0008>crystal</text> <text style=background-color:#00ff0031>having</text> <text style=background-color:#00ff0016>his</text> <text style=background-color:#00ff0000>groin</text> <text style=background-color:#00ff0000>sniffed</text> <text style=background-color:#00ff0016>by</text> <text style=background-color:#00ff0005>a</text> <text style=background-color:#00ff0014>dog</text> <text style=background-color:#00ff0019>pure</text> <text style=background-color:#00ff0018>genius</text> <text style=background-color:#00ff0000>br</text> <text style=background-color:#00ff0000>br</text> <text style=background-color:#00ff001d>for</text> <text style=background-color:#00ff0005>a</text> <text style=background-color:#00ff0020>huge</text> <text style=background-color:#00ff000b>fan</text> <text style=background-color:#00ff001f>of</text> <text style=background-color:#00ff001f>the</text> <text style=background-color:#00ff0008>majority</text> <text style=background-color:#00ff001f>of</text> <text style=background-color:#00ff0007>john</text> <text style=background-color:#00ff0000>cusack</text> <text style=background-color:#00ff0001>s</text> <text style=background-color:#00ff001f>work</text> <text style=background-color:#00ff001b>not</text> <text style=background-color:#00ff000d>to</text> <text style=background-color:#00ff0007>mention</text> <text style=background-color:#00ff001f>the</text> <text style=background-color:#00ff0023>rest</text> <text style=background-color:#00ff001f>of</text> <text style=background-color:#00ff001f>the</text> <text style=background-color:#00ff0051>fantastic</text> <text style=background-color:#00ff0021>cast</text> <text style=background-color:#00ff0011>i</text> <text style=background-color:#00ff000a>was</text> <text style=background-color:#00ff000a>completely</text> <text style=background-color:#00ff0019>let</text> <text style=background-color:#00ff000a>down</text> <text style=background-color:#00ff0016>by</text> <text style=background-color:#00ff0005>a</text> <text style=background-color:#00ff000f>film</text> <text style=background-color:#00ff002b>with</text> <text style=background-color:#00ff0018>plenty</text> <text style=background-color:#00ff001f>of</text> <text style=background-color:#00ff0041>good</text> <text style=background-color:#00ff0013>ideas</text> <text style=background-color:#00ff0029>and</text> <text style=background-color:#00ff0013>at</text> <text style=background-color:#00ff001f>the</text> <text style=background-color:#00ff0021>same</text> <text style=background-color:#00ff0020>time</text> <text style=background-color:#00ff000a>completely</text> <text style=background-color:#00ff0002>unwilling</text> <text style=background-color:#00ff000d>to</text> <text style=background-color:#00ff001f>explore</text> <text style=background-color:#00ff0021>or</text> <text style=background-color:#00ff0014>elaborate</text> <text style=background-color:#00ff000c>on</text> <text style=background-color:#00ff001e>any</text> <text style=background-color:#00ff001f>of</text> <text style=background-color:#00ff0010>them</text> <text style=background-color:#00ff0016>instead</text> <text style=background-color:#00ff0000>resorting</text> <text style=background-color:#00ff000d>to</text> <text style=background-color:#00ff001f>the</text> <text style=background-color:#00ff0021>same</text> <text style=background-color:#00ff0021>old</text> <text style=background-color:#00ff0004>genre</text> <text style=background-color:#00ff0001>cliches</text> <text style=background-color:#00ff0029>and</text> <text style=background-color:#00ff0013>even</text> <text style=background-color:#00ff0001>lowering</text> <text style=background-color:#00ff0007>itself</text> <text style=background-color:#00ff000d>to</text> <text style=background-color:#00ff001f>the</text> <text style=background-color:#00ff000a>depths</text> <text style=background-color:#00ff001f>of</text> <text style=background-color:#00ff000e>almost</text> <text style=background-color:#00ff0004>gross</text> <text style=background-color:#00ff0013>out</text> <text style=background-color:#00ff0011>teen</text> <text style=background-color:#00ff0021>movie</text> <text style=background-color:#00ff0017>humour</text> <text style=background-color:#00ff0013>at</text> <text style=background-color:#00ff0010>times</text> <text style=background-color:#00ff0000>br</text> <text style=background-color:#00ff0000>br</text> <text style=background-color:#00ff0005>a</text> <text style=background-color:#00ff0041>very</text> <text style=background-color:#00ff0011>poor</text>"
      ],
      "text/plain": [
       "<IPython.core.display.HTML object>"
      ]
     },
     "execution_count": 60,
     "metadata": {},
     "output_type": "execute_result"
    }
   ],
   "source": [
    "imdb_task.print_coloured_text (np.array (coloured_texts) [ordering [0:10]])"
   ]
  },
  {
   "cell_type": "code",
   "execution_count": null,
   "metadata": {},
   "outputs": [],
   "source": []
  },
  {
   "cell_type": "code",
   "execution_count": null,
   "metadata": {},
   "outputs": [],
   "source": []
  },
  {
   "cell_type": "code",
   "execution_count": 76,
   "metadata": {},
   "outputs": [],
   "source": [
    "stopwords = ['i', 'me', 'my', 'myself', 'we', 'our', 'ours', 'ourselves', 'you', \"you're\", \"you've\", \"you'll\", \"you'd\", 'your', 'yours', 'yourself', 'yourselves', 'he', 'him', 'his', 'himself', 'she', \"she's\", 'her', 'hers', 'herself', 'it', \"it's\", 'its', 'itself', 'they', 'them', 'their', 'theirs', 'themselves', 'what', 'which', 'who', 'whom', 'this', 'that', \"that'll\", 'these', 'those', 'am', 'is', 'are', 'was', 'were', 'be', 'been', 'being', 'have', 'has', 'had', 'having', 'do', 'does', 'did', 'doing', 'a', 'an', 'the', 'and', 'but', 'if', 'or', 'because', 'as', 'until', 'while', 'of', 'at', 'by', 'for', 'with', 'about', 'against', 'between', 'into', 'through', 'during', 'before', 'after', 'above', 'below', 'to', 'from', 'up', 'down', 'in', 'out', 'on', 'off', 'over', 'under', 'again', 'further', 'then', 'once', 'here', 'there', 'when', 'where', 'why', 'how', 'all', 'any', 'both', 'each', 'few', 'more', 'most', 'other', 'some', 'such', 'no', 'nor', 'not', 'only', 'own', 'same', 'so', 'than', 'too', 'very', 's', 't', 'can', 'will', 'just', 'don', \"don't\", 'should', \"should've\", 'now', 'd', 'll', 'm', 'o', 're', 've', 'y', 'ain', 'aren', \"aren't\", 'couldn', \"couldn't\", 'didn', \"didn't\", 'doesn', \"doesn't\", 'hadn', \"hadn't\", 'hasn', \"hasn't\", 'haven', \"haven't\", 'isn', \"isn't\", 'ma', 'mightn', \"mightn't\", 'mustn', \"mustn't\", 'needn', \"needn't\", 'shan', \"shan't\", 'shouldn', \"shouldn't\", 'wasn', \"wasn't\", 'weren', \"weren't\", 'won', \"won't\", 'wouldn', \"wouldn't\"]\n",
    "stopwords_set = set (stopwords)"
   ]
  },
  {
   "cell_type": "code",
   "execution_count": 80,
   "metadata": {},
   "outputs": [
    {
     "data": {
      "text/plain": [
       "False"
      ]
     },
     "execution_count": 80,
     "metadata": {},
     "output_type": "execute_result"
    }
   ],
   "source": [
    "np.array (imdb_task.texts_tok ['train'][0]) in np.array (stopwords_set)"
   ]
  },
  {
   "cell_type": "code",
   "execution_count": 71,
   "metadata": {},
   "outputs": [
    {
     "data": {
      "text/plain": [
       "54"
      ]
     },
     "execution_count": 71,
     "metadata": {},
     "output_type": "execute_result"
    }
   ],
   "source": [
    "len (imdb_task.embeds['train']['glove-twitter-25'][0])"
   ]
  },
  {
   "cell_type": "code",
   "execution_count": 81,
   "metadata": {},
   "outputs": [
    {
     "data": {
      "text/plain": [
       "array(['americans', 'anyone', 'brits', 'comedy', 'completely', 'could',\n",
       "       'doubt', 'eddie', 'enjoy', 'ever', 'everyone', 'funniest', 'funny',\n",
       "       'genius', 'hilarious', 'izzard', 'laugh', 'natural', 'picks',\n",
       "       'seen', 'sit', 'stand', 'style', 'watch'], dtype='<U10')"
      ]
     },
     "execution_count": 81,
     "metadata": {},
     "output_type": "execute_result"
    }
   ],
   "source": [
    "np.setdiff1d(imdb_task.texts_tok ['train'][0],stopwords)"
   ]
  },
  {
   "cell_type": "code",
   "execution_count": 89,
   "metadata": {},
   "outputs": [],
   "source": [
    "#imdb_task.texts_tok ['train'][0]"
   ]
  },
  {
   "cell_type": "code",
   "execution_count": 101,
   "metadata": {},
   "outputs": [
    {
     "data": {
      "text/plain": [
       "(25,)"
      ]
     },
     "execution_count": 101,
     "metadata": {},
     "output_type": "execute_result"
    }
   ],
   "source": [
    "np.average (np.array (imdb_task.embeds['train']['glove-twitter-25'][1]) [np.where (~np.isin (imdb_task.texts_tok ['train'][1],stopwords))[0]], axis = 0)"
   ]
  },
  {
   "cell_type": "code",
   "execution_count": 94,
   "metadata": {},
   "outputs": [
    {
     "data": {
      "text/plain": [
       "array([ 5,  6,  8, 11, 12, 13, 14, 17, 19, 21, 22, 24, 28, 30, 31, 33, 34,\n",
       "       36, 38, 39, 40, 45, 49, 50, 53], dtype=int64)"
      ]
     },
     "execution_count": 94,
     "metadata": {},
     "output_type": "execute_result"
    }
   ],
   "source": [
    "np.where (~np.isin (imdb_task.texts_tok ['train'][0],stopwords))[0]"
   ]
  },
  {
   "cell_type": "code",
   "execution_count": 106,
   "metadata": {},
   "outputs": [
    {
     "name": "stdout",
     "output_type": "stream",
     "text": [
      "0\n",
      "1000\n",
      "2000\n",
      "3000\n",
      "4000\n"
     ]
    }
   ],
   "source": [
    "text_embeds = imdb_task.embeds['train']['glove-twitter-25']\n",
    "text_tok = imdb_task.texts_tok ['train']\n",
    "\n",
    "sent_embs = []\n",
    "for i in range (len (text_tok)):\n",
    "    if (i % 1000) == 0:\n",
    "        print (i)\n",
    "    assert (len (text_embeds[i]) == len (text_tok[i]))\n",
    "    sent_embs.append (np.average (np.array (text_embeds[i]) [np.where (~np.isin (text_tok[i],stopwords))[0]], axis = 0))\n",
    "    \n",
    "sent_embs = np.array (sent_embs)"
   ]
  },
  {
   "cell_type": "code",
   "execution_count": 107,
   "metadata": {},
   "outputs": [
    {
     "data": {
      "text/plain": [
       "(5000, 25)"
      ]
     },
     "execution_count": 107,
     "metadata": {},
     "output_type": "execute_result"
    }
   ],
   "source": [
    "sent_embs.shape"
   ]
  },
  {
   "cell_type": "code",
   "execution_count": null,
   "metadata": {},
   "outputs": [],
   "source": []
  },
  {
   "cell_type": "code",
   "execution_count": 49,
   "metadata": {},
   "outputs": [],
   "source": [
    "from IPython.display import HTML as html_print"
   ]
  },
  {
   "cell_type": "code",
   "execution_count": 50,
   "metadata": {},
   "outputs": [
    {
     "data": {
      "text/html": [
       "<text style=background-color:#00ff001d>the</text> <text style=background-color:#00ff0008>title</text> <text style=background-color:#00ff001d>of</text> <text style=background-color:#00ff001d>this</text> <text style=background-color:#00ff000e>film</text> <text style=background-color:#00ff0016>is</text> <text style=background-color:#00ff001b>taken</text> <text style=background-color:#00ff0014>from</text> <text style=background-color:#00ff0004>a</text> <text style=background-color:#00ff0017>party</text> <text style=background-color:#00ff0006>game</text> <text style=background-color:#00ff0014>called</text> <text style=background-color:#00ff0004>seven</text> <text style=background-color:#00ff0004>minutes</text> <text style=background-color:#00ff0009>in</text> <text style=background-color:#00ff0033>heaven</text> <text style=background-color:#00ff001d>the</text> <text style=background-color:#00ff0006>game</text> <text style=background-color:#00ff0009>was</text> <text style=background-color:#00ff000a>popular</text> <text style=background-color:#00ff000d>among</text> <text style=background-color:#00ff0025>my</text> <text style=background-color:#00ff002d>husband</text> <text style=background-color:#00ff0001>s</text> <text style=background-color:#00ff003c>friends</text> <text style=background-color:#00ff001d>when</text> <text style=background-color:#00ff0005>he</text> <text style=background-color:#00ff0009>was</text> <text style=background-color:#00ff0009>in</text> <text style=background-color:#00ff0007>junior</text> <text style=background-color:#00ff0012>high</text> <text style=background-color:#00ff0009>school</text> <text style=background-color:#00ff0009>in</text> <text style=background-color:#00ff0002>brooklyn</text> <text style=background-color:#00ff0002>ny</text> <text style=background-color:#00ff0027>and</text> <text style=background-color:#00ff0005>he</text> <text style=background-color:#00ff000d>describes</text> <text style=background-color:#00ff001b>it</text> <text style=background-color:#00ff0007>as</text> <text style=background-color:#00ff0025>something</text> <text style=background-color:#00ff0017>like</text> <text style=background-color:#00ff0006>spin</text> <text style=background-color:#00ff001d>the</text> <text style=background-color:#00ff0006>bottle</text> <text style=background-color:#00ff0008>lifesaver</text> <text style=background-color:#00ff0006>relay</text> <text style=background-color:#00ff0027>and</text> <text style=background-color:#00ff001f>other</text> <text style=background-color:#00ff0002>preteen</text> <text style=background-color:#00ff001a>kissing</text> <text style=background-color:#00ff0006>games</text> <text style=background-color:#00ff0008>according</text> <text style=background-color:#00ff000c>to</text> <text style=background-color:#00ff001d>the</text> <text style=background-color:#00ff000a>rules</text> <text style=background-color:#00ff0004>a</text> <text style=background-color:#00ff001a>boy</text> <text style=background-color:#00ff0001>s</text> <text style=background-color:#00ff0013>name</text> <text style=background-color:#00ff0027>and</text> <text style=background-color:#00ff0004>a</text> <text style=background-color:#00ff002c>girl</text> <text style=background-color:#00ff0001>s</text> <text style=background-color:#00ff0011>would</text> <text style=background-color:#00ff0022>be</text> <text style=background-color:#00ff0006>drawn</text> <text style=background-color:#00ff0027>and</text> <text style=background-color:#00ff001d>the</text> <text style=background-color:#00ff0015>chosen</text> <text style=background-color:#00ff0035>ones</text> <text style=background-color:#00ff0001>ordered</text> <text style=background-color:#00ff000c>to</text> <text style=background-color:#00ff0010>get</text> <text style=background-color:#00ff0014>into</text> <text style=background-color:#00ff0004>a</text> <text style=background-color:#00ff0029>dark</text> <text style=background-color:#00ff0006>closet</text> <text style=background-color:#00ff0028>together</text> <text style=background-color:#00ff0027>and</text> <text style=background-color:#00ff000c>to</text> <text style=background-color:#00ff0022>stay</text> <text style=background-color:#00ff0020>there</text> <text style=background-color:#00ff001b>for</text> <text style=background-color:#00ff0004>seven</text> <text style=background-color:#00ff0004>minutes</text> <text style=background-color:#00ff0009>in</text> <text style=background-color:#00ff001d>the</text> <text style=background-color:#00ff0004>meantime</text> <text style=background-color:#00ff0020>there</text> <text style=background-color:#00ff0011>would</text> <text style=background-color:#00ff0022>be</text> <text style=background-color:#00ff0000>speculation</text> <text style=background-color:#00ff000d>among</text> <text style=background-color:#00ff0017>party</text> <text style=background-color:#00ff001f>guests</text> <text style=background-color:#00ff0007>as</text> <text style=background-color:#00ff000c>to</text> <text style=background-color:#00ff0014>whether</text> <text style=background-color:#00ff001f>or</text> <text style=background-color:#00ff0019>not</text> <text style=background-color:#00ff001d>the</text> <text style=background-color:#00ff0011>two</text> <text style=background-color:#00ff000a>had</text> <text style=background-color:#00ff001d>the</text> <text style=background-color:#00ff0007>nerve</text> <text style=background-color:#00ff000c>to</text> <text style=background-color:#00ff0011>hold</text> <text style=background-color:#00ff0015>hands</text> <text style=background-color:#00ff003c>embrace</text> <text style=background-color:#00ff0027>and</text> <text style=background-color:#00ff001f>or</text> <text style=background-color:#00ff0025>kiss</text> <text style=background-color:#00ff001e>each</text> <text style=background-color:#00ff001f>other</text> <text style=background-color:#00ff0009>in</text> <text style=background-color:#00ff001d>the</text> <text style=background-color:#00ff0002>privacy</text> <text style=background-color:#00ff001d>of</text> <text style=background-color:#00ff001d>the</text> <text style=background-color:#00ff0006>closet</text> <text style=background-color:#00ff0011>at</text> <text style=background-color:#00ff001d>the</text> <text style=background-color:#00ff0018>end</text> <text style=background-color:#00ff001d>of</text> <text style=background-color:#00ff0004>seven</text> <text style=background-color:#00ff0004>minutes</text> <text style=background-color:#00ff001d>the</text> <text style=background-color:#00ff0006>game</text> <text style=background-color:#00ff0011>leader</text> <text style=background-color:#00ff0011>would</text> <text style=background-color:#00ff0010>say</text> <text style=background-color:#00ff001e>time</text> <text style=background-color:#00ff0001>s</text> <text style=background-color:#00ff0010>up</text> <text style=background-color:#00ff001f>or</text> <text style=background-color:#00ff0004>knock</text> <text style=background-color:#00ff000b>on</text> <text style=background-color:#00ff001d>the</text> <text style=background-color:#00ff0006>closet</text> <text style=background-color:#00ff0001>door</text> <text style=background-color:#00ff0027>and</text> <text style=background-color:#00ff001d>the</text> <text style=background-color:#00ff0029>couple</text> <text style=background-color:#00ff0011>would</text> <text style=background-color:#00ff0001>emerge</text> <text style=background-color:#00ff0014>from</text> <text style=background-color:#00ff001d>the</text> <text style=background-color:#00ff0006>closet</text> <text style=background-color:#00ff000d>after</text> <text style=background-color:#00ff001d>being</text> <text style=background-color:#00ff0000>quizzed</text> <text style=background-color:#00ff0014>by</text> <text style=background-color:#00ff001d>the</text> <text style=background-color:#00ff001f>other</text> <text style=background-color:#00ff001f>guests</text> <text style=background-color:#00ff001d>the</text> <text style=background-color:#00ff0029>couple</text> <text style=background-color:#00ff0011>would</text> <text style=background-color:#00ff001e>have</text> <text style=background-color:#00ff000c>to</text> <text style=background-color:#00ff000f>admit</text> <text style=background-color:#00ff001a>what</text> <text style=background-color:#00ff0012>they</text> <text style=background-color:#00ff000a>had</text> <text style=background-color:#00ff0012>done</text> <text style=background-color:#00ff0012>during</text> <text style=background-color:#00ff0021>their</text> <text style=background-color:#00ff0004>seven</text> <text style=background-color:#00ff0004>minutes</text> <text style=background-color:#00ff0009>in</text> <text style=background-color:#00ff0033>heaven</text> <text style=background-color:#00ff0016>then</text> <text style=background-color:#00ff001f>other</text> <text style=background-color:#00ff001c>couples</text> <text style=background-color:#00ff0011>would</text> <text style=background-color:#00ff0022>be</text> <text style=background-color:#00ff0015>chosen</text> <text style=background-color:#00ff000c>to</text> <text style=background-color:#00ff0007>enter</text> <text style=background-color:#00ff001d>the</text> <text style=background-color:#00ff0006>closet</text> <text style=background-color:#00ff0015>until</text> <text style=background-color:#00ff0022>all</text> <text style=background-color:#00ff001d>the</text> <text style=background-color:#00ff001f>guests</text> <text style=background-color:#00ff000a>had</text> <text style=background-color:#00ff0002>participated</text> <text style=background-color:#00ff001d>the</text> <text style=background-color:#00ff0029>couple</text> <text style=background-color:#00ff0014>who</text> <text style=background-color:#00ff0001>admitted</text> <text style=background-color:#00ff000c>to</text> <text style=background-color:#00ff0019>doing</text> <text style=background-color:#00ff001d>the</text> <text style=background-color:#00ff002d>most</text> <text style=background-color:#00ff0011>would</text> <text style=background-color:#00ff0022>be</text> <text style=background-color:#00ff001d>the</text> <text style=background-color:#00ff0009>winners</text> <text style=background-color:#00ff001d>of</text> <text style=background-color:#00ff001d>the</text> <text style=background-color:#00ff0006>game</text> <text style=background-color:#00ff0000>br</text> <text style=background-color:#00ff0000>br</text> <text style=background-color:#00ff004e>such</text> <text style=background-color:#00ff0006>games</text> <text style=background-color:#00ff001e>have</text> <text style=background-color:#00ff0009>served</text> <text style=background-color:#00ff0007>as</text> <text style=background-color:#00ff0006>social</text> <text style=background-color:#00ff000e>ice</text> <text style=background-color:#00ff0003>breakers</text> <text style=background-color:#00ff001b>for</text> <text style=background-color:#00ff001c>children</text> <text style=background-color:#00ff0027>and</text> <text style=background-color:#00ff0012>teens</text> <text style=background-color:#00ff001e>but</text> <text style=background-color:#00ff0012>they</text> <text style=background-color:#00ff001a>can</text> <text style=background-color:#00ff0022>be</text> <text style=background-color:#00ff0008>embarrassing</text> <text style=background-color:#00ff0027>and</text> <text style=background-color:#00ff000b>intimidating</text> <text style=background-color:#00ff000c>to</text> <text style=background-color:#00ff0016>shy</text> <text style=background-color:#00ff0016>individuals</text> <text style=background-color:#00ff001d>the</text> <text style=background-color:#00ff000e>film</text> <text style=background-color:#00ff0006>has</text> <text style=background-color:#00ff000d>been</text> <text style=background-color:#00ff0015>given</text> <text style=background-color:#00ff001d>this</text> <text style=background-color:#00ff0008>title</text> <text style=background-color:#00ff001d>because</text> <text style=background-color:#00ff001b>it</text> <text style=background-color:#00ff0003>deals</text> <text style=background-color:#00ff0029>with</text> <text style=background-color:#00ff001d>the</text> <text style=background-color:#00ff0012>teens</text> <text style=background-color:#00ff001d>first</text> <text style=background-color:#00ff002e>experiences</text> <text style=background-color:#00ff0029>with</text> <text style=background-color:#00ff0006>crushes</text> <text style=background-color:#00ff0027>and</text> <text style=background-color:#00ff00ff>romantic</text> <text style=background-color:#00ff0031>love</text> <br> <text style=background-color:#00ff0013>i</text> <text style=background-color:#00ff000d>watched</text> <text style=background-color:#00ff0021>this</text> <text style=background-color:#00ff0023>movie</text> <text style=background-color:#00ff001e>for</text> <text style=background-color:#00ff0005>a</text> <text style=background-color:#00ff001c>project</text> <text style=background-color:#00ff000e>on</text> <text style=background-color:#00ff0036>love</text> <text style=background-color:#00ff000e>please</text> <text style=background-color:#00ff0014>tell</text> <text style=background-color:#00ff0000>nicolas</text> <text style=background-color:#00ff0005>cage</text> <text style=background-color:#00ff000f>to</text> <text style=background-color:#00ff0025>learn</text> <text style=background-color:#00ff001e>what</text> <text style=background-color:#00ff001f>it</text> <text style=background-color:#00ff0014>would</text> <text style=background-color:#00ff0027>feel</text> <text style=background-color:#00ff001b>like</text> <text style=background-color:#00ff000f>to</text> <text style=background-color:#00ff0026>be</text> <text style=background-color:#00ff0018>his</text> <text style=background-color:#00ff0031>character</text> <text style=background-color:#00ff002b>and</text> <text style=background-color:#00ff0019>then</text> <text style=background-color:#00ff0000>re</text> <text style=background-color:#00ff001b>read</text> <text style=background-color:#00ff0021>the</text> <text style=background-color:#00ff001f>lines</text> <text style=background-color:#00ff0007>he</text> <text style=background-color:#00ff0002>s</text> <text style=background-color:#00ff000c>saying</text> <text style=background-color:#00ff002a>my</text> <text style=background-color:#00ff0045>life</text> <text style=background-color:#00ff001a>cannot</text> <text style=background-color:#00ff000f>go</text> <text style=background-color:#00ff000e>on</text> <text style=background-color:#00ff0013>i</text> <text style=background-color:#00ff0001>accidentally</text> <text style=background-color:#00ff0010>cut</text> <text style=background-color:#00ff000a>off</text> <text style=background-color:#00ff002a>my</text> <text style=background-color:#00ff0029>own</text> <text style=background-color:#00ff000e>hand</text> <text style=background-color:#00ff002a>my</text> <text style=background-color:#00ff0016>brother</text> <text style=background-color:#00ff000b>was</text> <text style=background-color:#00ff0019>close</text> <text style=background-color:#00ff0018>by</text> <text style=background-color:#00ff0011>obviously</text> <text style=background-color:#00ff0018>his</text> <text style=background-color:#00ff000b>fault</text> <text style=background-color:#00ff002b>and</text> <text style=background-color:#00ff000f>since</text> <text style=background-color:#00ff0021>when</text> <text style=background-color:#00ff0022>have</text> <text style=background-color:#00ff003c>happy</text> <text style=background-color:#00ff002d>endings</text> <text style=background-color:#00ff0008>included</text> <text style=background-color:#00ff0021>the</text> <text style=background-color:#00ff003c>nice</text> <text style=background-color:#00ff001f>guy</text> <text style=background-color:#00ff0018>who</text> <text style=background-color:#00ff001c>takes</text> <text style=background-color:#00ff0029>care</text> <text style=background-color:#00ff0021>of</text> <text style=background-color:#00ff0023>mom</text> <text style=background-color:#00ff0024>sad</text> <text style=background-color:#00ff002b>and</text> <text style=background-color:#00ff001b>alone</text> <text style=background-color:#00ff0001>no</text> <text style=background-color:#00ff0001>closure</text> <text style=background-color:#00ff0020>bad</text> <text style=background-color:#00ff000d>script</text> <text style=background-color:#00ff002b>and</text> <text style=background-color:#00ff0003>doesn</text> <text style=background-color:#00ff0002>t</text> <text style=background-color:#00ff0022>have</text> <text style=background-color:#00ff0038>enough</text> <text style=background-color:#00ff0001>extension</text> <text style=background-color:#00ff0021>of</text> <text style=background-color:#00ff0007>minor</text> <text style=background-color:#00ff0020>characters</text> <text style=background-color:#00ff0010>save</text> <text style=background-color:#00ff0028>yourself</text> <text style=background-color:#00ff001a>unless</text> <text style=background-color:#00ff0036>your</text> <text style=background-color:#00ff0013>up</text> <text style=background-color:#00ff001e>for</text> <text style=background-color:#00ff0005>a</text> <text style=background-color:#00ff0043>good</text> <text style=background-color:#00ff0024>laugh</text> <text style=background-color:#00ff000c>costumes</text> <text style=background-color:#00ff0011>were</text> <text style=background-color:#00ff0015>done</text> <text style=background-color:#00ff0003>appropriately</text> <text style=background-color:#00ff002b>and</text> <text style=background-color:#00ff0002>extras</text> <text style=background-color:#00ff000d>did</text> <text style=background-color:#00ff0005>a</text> <text style=background-color:#00ff005e>fabulous</text> <text style=background-color:#00ff000f>job</text> <text style=background-color:#00ff0013>i</text> <text style=background-color:#00ff0002>m</text> <text style=background-color:#00ff001e>sure</text> <text style=background-color:#00ff001f>it</text> <text style=background-color:#00ff0014>would</text> <text style=background-color:#00ff0022>have</text> <text style=background-color:#00ff000f>been</text> <text style=background-color:#00ff0005>a</text> <text style=background-color:#00ff004c>fun</text> <text style=background-color:#00ff0023>movie</text> <text style=background-color:#00ff000f>to</text> <text style=background-color:#00ff002a>make</text> <text style=background-color:#00ff0022>but</text> <text style=background-color:#00ff0025>keep</text> <text style=background-color:#00ff001f>it</text> <text style=background-color:#00ff0036>more</text> <text style=background-color:#00ff0005>genre</text> <text style=background-color:#00ff0015>specific</text> <text style=background-color:#00ff0013>i</text> <text style=background-color:#00ff001e>can</text> <text style=background-color:#00ff0002>t</text> <text style=background-color:#00ff0017>recommend</text> <text style=background-color:#00ff0021>this</text> <text style=background-color:#00ff0023>movie</text> <text style=background-color:#00ff000f>to</text> <text style=background-color:#00ff0018>anyone</text> <text style=background-color:#00ff0013>i</text> <text style=background-color:#00ff001b>know</text> <text style=background-color:#00ff0021>because</text> <text style=background-color:#00ff001f>it</text> <text style=background-color:#00ff0019>is</text> <text style=background-color:#00ff001d>not</text> <text style=background-color:#00ff0019>an</text> <text style=background-color:#00ff0033>intellectual</text> <text style=background-color:#00ff0023>movie</text> <text style=background-color:#00ff001f>it</text> <text style=background-color:#00ff0019>is</text> <text style=background-color:#00ff001d>not</text> <text style=background-color:#00ff0005>a</text> <text style=background-color:#00ff0015>chick</text> <text style=background-color:#00ff000d>flick</text> <text style=background-color:#00ff001f>it</text> <text style=background-color:#00ff0019>is</text> <text style=background-color:#00ff001d>not</text> <text style=background-color:#00ff0005>a</text> <text style=background-color:#00ff0011>strict</text> <text style=background-color:#00ff00ff>romantic</text> <text style=background-color:#00ff002b>and</text> <text style=background-color:#00ff0013>i</text> <text style=background-color:#00ff001e>can</text> <text style=background-color:#00ff0002>t</text> <text style=background-color:#00ff0013>show</text> <text style=background-color:#00ff0022>kids</text> <text style=background-color:#00ff0021>because</text> <text style=background-color:#00ff0021>of</text> <text style=background-color:#00ff0021>the</text> <text style=background-color:#00ff0026>sex</text> <text style=background-color:#00ff002b>and</text> <text style=background-color:#00ff000c>questions</text> <text style=background-color:#00ff000f>to</text> <text style=background-color:#00ff0007>follow</text> <text style=background-color:#00ff0026>all</text> <text style=background-color:#00ff000b>in</text> <text style=background-color:#00ff0026>all</text> <text style=background-color:#00ff0019>just</text> <text style=background-color:#00ff001d>not</text> <text style=background-color:#00ff0005>a</text> <text style=background-color:#00ff0043>good</text> <text style=background-color:#00ff000d>flick</text> <br> <text style=background-color:#00ff000d>i</text> <text style=background-color:#00ff0001>m</text> <text style=background-color:#00ff0006>biased</text> <text style=background-color:#00ff0013>towards</text> <text style=background-color:#00ff0018>any</text> <text style=background-color:#00ff001b>movie</text> <text style=background-color:#00ff0016>that</text> <text style=background-color:#00ff0001>paints</text> <text style=background-color:#00ff0003>a</text> <text style=background-color:#00ff0000>luxuriant</text> <text style=background-color:#00ff0018>picture</text> <text style=background-color:#00ff001a>of</text> <text style=background-color:#00ff0001>italy</text> <text style=background-color:#00ff0007>in</text> <text style=background-color:#00ff0021>my</text> <text style=background-color:#00ff000a>opinion</text> <text style=background-color:#00ff001a>the</text> <text style=background-color:#00ff0029>most</text> <text style=background-color:#00ff00ff>romantic</text> <text style=background-color:#00ff0014>country</text> <text style=background-color:#00ff0007>in</text> <text style=background-color:#00ff001a>the</text> <text style=background-color:#00ff0025>world</text> <text style=background-color:#00ff000a>unfortunately</text> <text style=background-color:#00ff001a>the</text> <text style=background-color:#00ff001b>movie</text> <text style=background-color:#00ff0007>was</text> <text style=background-color:#00ff0024>rather</text> <text style=background-color:#00ff001f>short</text> <text style=background-color:#00ff0001>unusually</text> <text style=background-color:#00ff000f>so</text> <text style=background-color:#00ff0017>for</text> <text style=background-color:#00ff0003>a</text> <text style=background-color:#00ff0010>period</text> <text style=background-color:#00ff001f>piece</text> <text style=background-color:#00ff0022>and</text> <text style=background-color:#00ff0003>a</text> <text style=background-color:#00ff003a>little</text> <text style=background-color:#00ff0000>sparse</text> <text style=background-color:#00ff0009>on</text> <text style=background-color:#00ff001a>the</text> <text style=background-color:#00ff0006>cinematography</text> <text style=background-color:#00ff001d>aspect</text> <text style=background-color:#00ff0018>however</text> <text style=background-color:#00ff001a>the</text> <text style=background-color:#00ff002a>excellent</text> <text style=background-color:#00ff0028>story</text> <text style=background-color:#00ff0029>makes</text> <text style=background-color:#00ff000d>up</text> <text style=background-color:#00ff0017>for</text> <text style=background-color:#00ff0018>it</text> <text style=background-color:#00ff001a>the</text> <text style=background-color:#00ff0006>four</text> <text style=background-color:#00ff0030>ladies</text> <text style=background-color:#00ff0005>embark</text> <text style=background-color:#00ff0009>on</text> <text style=background-color:#00ff0003>a</text> <text style=background-color:#00ff0024>much</text> <text style=background-color:#00ff0010>needed</text> <text style=background-color:#00ff0031>relaxing</text> <text style=background-color:#00ff001e>vacation</text> <text style=background-color:#00ff0024>with</text> <text style=background-color:#00ff0014>problems</text> <text style=background-color:#00ff0009>on</text> <text style=background-color:#00ff001d>their</text> <text style=background-color:#00ff003a>minds</text> <text style=background-color:#00ff0005>over</text> <text style=background-color:#00ff001a>the</text> <text style=background-color:#00ff001e>course</text> <text style=background-color:#00ff001a>of</text> <text style=background-color:#00ff001a>the</text> <text style=background-color:#00ff001b>movie</text> <text style=background-color:#00ff000f>they</text> <text style=background-color:#00ff0014>realize</text> <text style=background-color:#00ff001d>their</text> <text style=background-color:#00ff0014>problems</text> <text style=background-color:#00ff0022>and</text> <text style=background-color:#00ff0006>begin</text> <text style=background-color:#00ff0002>fixing</text> <text style=background-color:#00ff000c>them</text> <text style=background-color:#00ff000f>they</text> <text style=background-color:#00ff000d>believe</text> <text style=background-color:#00ff0000>san</text> <text style=background-color:#00ff0000>salvatore</text> <text style=background-color:#00ff001a>the</text> <text style=background-color:#00ff0007>castle</text> <text style=background-color:#00ff000f>they</text> <text style=background-color:#00ff001e>stay</text> <text style=background-color:#00ff0007>in</text> <text style=background-color:#00ff0004>has</text> <text style=background-color:#00ff0012>an</text> <text style=background-color:#00ff0018>enchanting</text> <text style=background-color:#00ff0013>effect</text> <text style=background-color:#00ff0009>on</text> <text style=background-color:#00ff0019>people</text> <text style=background-color:#00ff0018>it</text> <text style=background-color:#00ff0001>s</text> <text style=background-color:#00ff0003>a</text> <text style=background-color:#00ff0005>tub</text> <text style=background-color:#00ff001a>of</text> <text style=background-color:#00ff002d>love</text> <text style=background-color:#00ff0002>says</text> <text style=background-color:#00ff0000>lottie</text> <text style=background-color:#00ff0000>wilkins</text> <text style=background-color:#00ff0020>you</text> <text style=background-color:#00ff0017>can</text> <text style=background-color:#00ff000b>watch</text> <text style=background-color:#00ff001d>their</text> <text style=background-color:#00ff0001>gradual</text> <text style=background-color:#00ff0016>change</text> <text style=background-color:#00ff0011>from</text> <text style=background-color:#00ff0001>dissatisfied</text> <text style=background-color:#00ff000a>to</text> <text style=background-color:#00ff0002>exuberant</text> <text style=background-color:#00ff0006>as</text> <text style=background-color:#00ff001a>the</text> <text style=background-color:#00ff000b>italian</text> <text style=background-color:#00ff0004>seaside</text> <text style=background-color:#00ff0014>works</text> <text style=background-color:#00ff0017>its</text> <text style=background-color:#00ff0017>magic</text> <text style=background-color:#00ff0009>on</text> <text style=background-color:#00ff000c>them</text> <text style=background-color:#00ff0000>br</text> <text style=background-color:#00ff0000>br</text> <text style=background-color:#00ff001e>all</text> <text style=background-color:#00ff001d>their</text> <text style=background-color:#00ff0014>problems</text> <text style=background-color:#00ff0022>and</text> <text style=background-color:#00ff001d>their</text> <text style=background-color:#00ff0003>solutions</text> <text style=background-color:#00ff0017>are</text> <text style=background-color:#00ff0001>plausible</text> <text style=background-color:#00ff001a>the</text> <text style=background-color:#00ff0008>actresses</text> <text style=background-color:#00ff000c>were</text> <text style=background-color:#00ff0042>great</text> <text style=background-color:#00ff001a>the</text> <text style=background-color:#00ff0012>background</text> <text style=background-color:#00ff0025>music</text> <text style=background-color:#00ff000c>seemed</text> <text style=background-color:#00ff003a>very</text> <text style=background-color:#00ff001b>appropriate</text> <text style=background-color:#00ff0017>for</text> <text style=background-color:#00ff0012>an</text> <text style=background-color:#00ff00ff>romantic</text> <text style=background-color:#00ff000b>italian</text> <text style=background-color:#00ff0000>locale</text> <text style=background-color:#00ff001e>all</text> <text style=background-color:#00ff0007>in</text> <text style=background-color:#00ff001e>all</text> <text style=background-color:#00ff0003>a</text> <text style=background-color:#00ff001b>movie</text> <text style=background-color:#00ff0017>for</text> <text style=background-color:#00ff0001>me</text> <br> <text style=background-color:#00ff0023>the</text> <text style=background-color:#00ff0025>movie</text> <text style=background-color:#00ff0000>wasn</text> <text style=background-color:#00ff0002>t</text> <text style=background-color:#00ff0028>all</text> <text style=background-color:#00ff001f>that</text> <text style=background-color:#00ff004e>great</text> <text style=background-color:#00ff0023>the</text> <text style=background-color:#00ff0029>book</text> <text style=background-color:#00ff001b>is</text> <text style=background-color:#00ff002b>better</text> <text style=background-color:#00ff0024>but</text> <text style=background-color:#00ff0023>the</text> <text style=background-color:#00ff0025>movie</text> <text style=background-color:#00ff0000>wasn</text> <text style=background-color:#00ff0002>t</text> <text style=background-color:#00ff0028>all</text> <text style=background-color:#00ff001f>that</text> <text style=background-color:#00ff0022>bad</text> <text style=background-color:#00ff001b>either</text> <text style=background-color:#00ff0021>it</text> <text style=background-color:#00ff000d>was</text> <text style=background-color:#00ff002c>interesting</text> <text style=background-color:#00ff0010>to</text> <text style=background-color:#00ff0015>say</text> <text style=background-color:#00ff0023>the</text> <text style=background-color:#00ff0018>least</text> <text style=background-color:#00ff0023>the</text> <text style=background-color:#00ff000f>plot</text> <text style=background-color:#00ff000e>had</text> <text style=background-color:#00ff003b>enough</text> <text style=background-color:#00ff000f>suspense</text> <text style=background-color:#00ff0010>to</text> <text style=background-color:#00ff0027>keep</text> <text style=background-color:#00ff0002>me</text> <text style=background-color:#00ff001f>watching</text> <text style=background-color:#00ff0036>although</text> <text style=background-color:#00ff0014>i</text> <text style=background-color:#00ff0000>wouldn</text> <text style=background-color:#00ff0002>t</text> <text style=background-color:#00ff0015>say</text> <text style=background-color:#00ff0014>i</text> <text style=background-color:#00ff000d>was</text> <text style=background-color:#00ff001d>actually</text> <text style=background-color:#00ff0013>interested</text> <text style=background-color:#00ff000c>in</text> <text style=background-color:#00ff0023>the</text> <text style=background-color:#00ff0025>movie</text> <text style=background-color:#00ff0008>itself</text> <text style=background-color:#00ff0001>janine</text> <text style=background-color:#00ff0004>turner</text> <text style=background-color:#00ff002d>and</text> <text style=background-color:#00ff0000>antonio</text> <text style=background-color:#00ff0000>sabato</text> <text style=background-color:#00ff0002>jr</text> <text style=background-color:#00ff0020>are</text> <text style=background-color:#00ff001b>both</text> <text style=background-color:#00ff0044>gorgeous</text> <text style=background-color:#00ff003b>enough</text> <text style=background-color:#00ff0010>to</text> <text style=background-color:#00ff0027>keep</text> <text style=background-color:#00ff002a>you</text> <text style=background-color:#00ff001f>watching</text> <text style=background-color:#00ff0016>they</text> <text style=background-color:#00ff0024>have</text> <text style=background-color:#00ff0006>a</text> <text style=background-color:#00ff001b>few</text> <text style=background-color:#00ff002d>cute</text> <text style=background-color:#00ff002a>scene</text> <text style=background-color:#00ff0002>s</text> <text style=background-color:#00ff001f>that</text> <text style=background-color:#00ff0013>should</text> <text style=background-color:#00ff0006>appeal</text> <text style=background-color:#00ff0010>to</text> <text style=background-color:#00ff0023>the</text> <text style=background-color:#00ff00ff>romantic</text> <text style=background-color:#00ff0002>s</text> <text style=background-color:#00ff0013>overall</text> <text style=background-color:#00ff0014>i</text> <text style=background-color:#00ff0002>d</text> <text style=background-color:#00ff0022>give</text> <text style=background-color:#00ff0023>the</text> <text style=background-color:#00ff0025>movie</text> <text style=background-color:#00ff0006>a</text> <text style=background-color:#00ff0025>or</text> <text style=background-color:#00ff0021>it</text> <text style=background-color:#00ff0000>wasn</text> <text style=background-color:#00ff0002>t</text> <text style=background-color:#00ff0022>bad</text> <text style=background-color:#00ff001b>just</text> <text style=background-color:#00ff0006>a</text> <text style=background-color:#00ff0046>little</text> <text style=background-color:#00ff0013>lacking</text> <text style=background-color:#00ff000f>plot</text> <text style=background-color:#00ff003e>wise</text> <br> <text style=background-color:#00ff0003>ultimately</text> <text style=background-color:#00ff001a>too</text> <text style=background-color:#00ff0013>silly</text> <text style=background-color:#00ff001b>and</text> <text style=background-color:#00ff0005>pointless</text> <text style=background-color:#00ff000c>yes</text> <text style=background-color:#00ff0016>there</text> <text style=background-color:#00ff000d>is</text> <text style=background-color:#00ff0013>the</text> <text style=background-color:#00ff0000>gilded</text> <text style=background-color:#00ff0001>cage</text> <text style=background-color:#00ff0007>metaphor</text> <text style=background-color:#00ff0014>but</text> <text style=background-color:#00ff000a>probably</text> <text style=background-color:#00ff0021>most</text> <text style=background-color:#00ff0014>kids</text> <text style=background-color:#00ff000a>would</text> <text style=background-color:#00ff0013>miss</text> <text style=background-color:#00ff0010>that</text> <text style=background-color:#00ff0002>forgettable</text> <text style=background-color:#00ff0001>instantly</text> <text style=background-color:#00ff0000>br</text> <text style=background-color:#00ff0000>br</text> <text style=background-color:#00ff0007>animation</text> <text style=background-color:#00ff000d>is</text> <text style=background-color:#00ff0003>as</text> <text style=background-color:#00ff0006>we</text> <text style=background-color:#00ff0014>have</text> <text style=background-color:#00ff0003>come</text> <text style=background-color:#00ff0006>to</text> <text style=background-color:#00ff0012>expect</text> <text style=background-color:#00ff0005>super</text> <text style=background-color:#00ff0007>real</text> <text style=background-color:#00ff0013>the</text> <text style=background-color:#00ff0006>plot</text> <text style=background-color:#00ff0004>line</text> <text style=background-color:#00ff000b>could</text> <text style=background-color:#00ff002c>best</text> <text style=background-color:#00ff0017>be</text> <text style=background-color:#00ff0005>described</text> <text style=background-color:#00ff0003>as</text> <text style=background-color:#00ff000d>thin</text> <text style=background-color:#00ff0014>but</text> <text style=background-color:#00ff0003>tenacious</text> <text style=background-color:#00ff0022>although</text> <text style=background-color:#00ff0013>the</text> <text style=background-color:#00ff0028>ending</text> <text style=background-color:#00ff0008>seemed</text> <text style=background-color:#00ff0000>arbitrary</text> <text style=background-color:#00ff0006>to</text> <text style=background-color:#00ff0000>me</text> <text style=background-color:#00ff0000>br</text> <text style=background-color:#00ff0000>br</text> <text style=background-color:#00ff0013>the</text> <text style=background-color:#00ff0000>sewer</text> <text style=background-color:#00ff0000>underworld</text> <text style=background-color:#00ff000d>is</text> <text style=background-color:#00ff0001>a</text> <text style=background-color:#00ff0000>suitably</text> <text style=background-color:#00ff0004>disgusting</text> <text style=background-color:#00ff0024>reflection</text> <text style=background-color:#00ff0013>of</text> <text style=background-color:#00ff0013>the</text> <text style=background-color:#00ff001e>world</text> <text style=background-color:#00ff0006>above</text> <text style=background-color:#00ff001b>and</text> <text style=background-color:#00ff0006>somehow</text> <text style=background-color:#00ff0007>wealth</text> <text style=background-color:#00ff001b>and</text> <text style=background-color:#00ff0005>money</text> <text style=background-color:#00ff000b>seem</text> <text style=background-color:#00ff0006>to</text> <text style=background-color:#00ff0008>count</text> <text style=background-color:#00ff0011>for</text> <text style=background-color:#00ff0001>a</text> <text style=background-color:#00ff0019>lot</text> <text style=background-color:#00ff0016>there</text> <text style=background-color:#00ff001a>too</text> <text style=background-color:#00ff0004>oh</text> <text style=background-color:#00ff000c>yes</text> <text style=background-color:#00ff001b>and</text> <text style=background-color:#00ff0016>there</text> <text style=background-color:#00ff0000>s</text> <text style=background-color:#00ff0001>a</text> <text style=background-color:#00ff00ff>romantic</text> <text style=background-color:#00ff0007>interest</text> <text style=background-color:#00ff001d>with</text> <text style=background-color:#00ff0013>the</text> <text style=background-color:#00ff0016>female</text> <text style=background-color:#00ff0013>being</text> <text style=background-color:#00ff0013>the</text> <text style=background-color:#00ff0006>smarter</text> <text style=background-color:#00ff0025>more</text> <text style=background-color:#00ff0002>savvy</text> <text style=background-color:#00ff001b>and</text> <text style=background-color:#00ff0007>go</text> <text style=background-color:#00ff0007>getting</text> <text style=background-color:#00ff0013>of</text> <text style=background-color:#00ff0013>the</text> <text style=background-color:#00ff0002>pair</text> <text style=background-color:#00ff0013>this</text> <text style=background-color:#00ff0004>in</text> <text style=background-color:#00ff0002>itself</text> <text style=background-color:#00ff000d>is</text> <text style=background-color:#00ff0000>rapidly</text> <text style=background-color:#00ff0013>becoming</text> <text style=background-color:#00ff0001>a</text> <text style=background-color:#00ff0001>tiresome</text> <text style=background-color:#00ff0000>anti</text> <text style=background-color:#00ff0001>stereotype</text> <text style=background-color:#00ff000a>probably</text> <text style=background-color:#00ff0025>your</text> <text style=background-color:#00ff0014>kids</text> <text style=background-color:#00ff000a>will</text> <text style=background-color:#00ff0025>love</text> <text style=background-color:#00ff0012>it</text> <text style=background-color:#00ff000c>though</text> <br> <text style=background-color:#00ff0009>fever</text> <text style=background-color:#00ff000a>pitch</text> <text style=background-color:#00ff0017>is</text> <text style=background-color:#00ff0005>a</text> <text style=background-color:#00ff0049>fun</text> <text style=background-color:#00ff0036>enough</text> <text style=background-color:#00ff0021>movie</text> <text style=background-color:#00ff001d>it</text> <text style=background-color:#00ff0006>has</text> <text style=background-color:#00ff0005>a</text> <text style=background-color:#00ff0027>lot</text> <text style=background-color:#00ff001f>of</text> <text style=background-color:#00ff0016>funny</text> <text style=background-color:#00ff0035>moments</text> <text style=background-color:#00ff000c>including</text> <text style=background-color:#00ff0005>a</text> <text style=background-color:#00ff0001>hilariously</text> <text style=background-color:#00ff0010>disturbing</text> <text style=background-color:#00ff001a>shower</text> <text style=background-color:#00ff0026>scene</text> <text style=background-color:#00ff0019>like</text> <text style=background-color:#00ff002f>most</text> <text style=background-color:#00ff00ff>romantic</text> <text style=background-color:#00ff000c>comedies</text> <text style=background-color:#00ff001d>it</text> <text style=background-color:#00ff0006>has</text> <text style=background-color:#00ff0005>a</text> <text style=background-color:#00ff0008>dead</text> <text style=background-color:#00ff000a>zone</text> <text style=background-color:#00ff000a>in</text> <text style=background-color:#00ff001f>the</text> <text style=background-color:#00ff0010>middle</text> <text style=background-color:#00ff0016>where</text> <text style=background-color:#00ff0024>all</text> <text style=background-color:#00ff001f>the</text> <text style=background-color:#00ff0010>heavy</text> <text style=background-color:#00ff0014>she</text> <text style=background-color:#00ff0001>s</text> <text style=background-color:#00ff0006>breaking</text> <text style=background-color:#00ff0012>up</text> <text style=background-color:#00ff002b>with</text> <text style=background-color:#00ff0002>me</text> <text style=background-color:#00ff0026>stuff</text> <text style=background-color:#00ff0019>happens</text> <text style=background-color:#00ff0020>but</text> <text style=background-color:#00ff0021>other</text> <text style=background-color:#00ff0028>than</text> <text style=background-color:#00ff001b>that</text> <text style=background-color:#00ff001d>it</text> <text style=background-color:#00ff0007>continues</text> <text style=background-color:#00ff000d>to</text> <text style=background-color:#00ff0024>be</text> <text style=background-color:#00ff0016>funny</text> <text style=background-color:#00ff0016>until</text> <text style=background-color:#00ff001f>the</text> <text style=background-color:#00ff001a>end</text> <text style=background-color:#00ff0000>br</text> <text style=background-color:#00ff0000>br</text> <text style=background-color:#00ff0013>even</text> <text style=background-color:#00ff0016>though</text> <text style=background-color:#00ff001f>the</text> <text style=background-color:#00ff000d>plot</text> <text style=background-color:#00ff0004>revolves</text> <text style=background-color:#00ff0014>around</text> <text style=background-color:#00ff0004>fanaticism</text> <text style=background-color:#00ff0018>towards</text> <text style=background-color:#00ff001f>the</text> <text style=background-color:#00ff000a>red</text> <text style=background-color:#00ff0000>sox</text> <text style=background-color:#00ff001d>it</text> <text style=background-color:#00ff0001>s</text> <text style=background-color:#00ff001b>not</text> <text style=background-color:#00ff0003>overloaded</text> <text style=background-color:#00ff002b>with</text> <text style=background-color:#00ff0007>sports</text> <text style=background-color:#00ff0026>you</text> <text style=background-color:#00ff0003>don</text> <text style=background-color:#00ff0002>t</text> <text style=background-color:#00ff0020>have</text> <text style=background-color:#00ff000d>to</text> <text style=background-color:#00ff0024>be</text> <text style=background-color:#00ff0005>a</text> <text style=background-color:#00ff000b>fan</text> <text style=background-color:#00ff000d>to</text> <text style=background-color:#00ff0051>enjoy</text> <text style=background-color:#00ff001f>this</text> <text style=background-color:#00ff000f>film</text> <text style=background-color:#00ff0000>br</text> <text style=background-color:#00ff0000>br</text> <text style=background-color:#00ff001f>of</text> <text style=background-color:#00ff0024>course</text> <text style=background-color:#00ff001b>that</text> <text style=background-color:#00ff0001>s</text> <text style=background-color:#00ff002e>easy</text> <text style=background-color:#00ff001c>for</text> <text style=background-color:#00ff0002>me</text> <text style=background-color:#00ff000d>to</text> <text style=background-color:#00ff0012>say</text> <text style=background-color:#00ff0011>i</text> <text style=background-color:#00ff0000>ve</text> <text style=background-color:#00ff000e>been</text> <text style=background-color:#00ff0005>a</text> <text style=background-color:#00ff000a>red</text> <text style=background-color:#00ff0000>sox</text> <text style=background-color:#00ff000b>fan</text> <text style=background-color:#00ff000e>since</text> <text style=background-color:#00ff0011>i</text> <text style=background-color:#00ff000a>was</text> <text style=background-color:#00ff0005>a</text> <text style=background-color:#00ff001c>boy</text> <text style=background-color:#00ff0027>too</text> <text style=background-color:#00ff0000>br</text> <text style=background-color:#00ff0000>br</text> <text style=background-color:#00ff0013>out</text> <text style=background-color:#00ff001f>of</text> <text style=background-color:#00ff0000>br</text> <text style=background-color:#00ff0000>br</text> <text style=background-color:#00ff0000>barky</text> <br> <text style=background-color:#00ff001f>the</text> <text style=background-color:#00ff0007>pioneering</text> <text style=background-color:#00ff0005>technicolor</text> <text style=background-color:#00ff0009>cinematography</text> <text style=background-color:#00ff000c>winner</text> <text style=background-color:#00ff001f>of</text> <text style=background-color:#00ff0054>special</text> <text style=background-color:#00ff0004>technical</text> <text style=background-color:#00ff0014>achievement</text> <text style=background-color:#00ff0003>oscar</text> <text style=background-color:#00ff0017>is</text> <text style=background-color:#00ff0037>indeed</text> <text style=background-color:#00ff001e>enchanting</text> <text style=background-color:#00ff0007>add</text> <text style=background-color:#00ff0017>an</text> <text style=background-color:#00ff003e>endless</text> <text style=background-color:#00ff0048>variety</text> <text style=background-color:#00ff001f>of</text> <text style=background-color:#00ff0032>glamorous</text> <text style=background-color:#00ff000b>costumes</text> <text style=background-color:#00ff0029>and</text> <text style=background-color:#00ff0005>a</text> <text style=background-color:#00ff00ff>romantic</text> <text style=background-color:#00ff0002>cinema</text> <text style=background-color:#00ff006b>dream</text> <text style=background-color:#00ff000a>team</text> <text style=background-color:#00ff0019>like</text> <text style=background-color:#00ff0000>marlene</text> <text style=background-color:#00ff0000>dietrich</text> <text style=background-color:#00ff0029>and</text> <text style=background-color:#00ff0003>charles</text> <text style=background-color:#00ff0000>boyer</text> <text style=background-color:#00ff0029>and</text> <text style=background-color:#00ff0026>you</text> <text style=background-color:#00ff0000>ve</text> <text style=background-color:#00ff000b>got</text> <text style=background-color:#00ff0005>a</text> <text style=background-color:#00ff002a>rather</text> <text style=background-color:#00ff0031>pleasant</text> <text style=background-color:#00ff001d>picture</text> <text style=background-color:#00ff0000>br</text> <text style=background-color:#00ff0000>br</text> <text style=background-color:#00ff000e>unfortunately</text> <text style=background-color:#00ff001f>the</text> <text style=background-color:#00ff0001>contrived</text> <text style=background-color:#00ff000d>plot</text> <text style=background-color:#00ff0008>as</text> <text style=background-color:#00ff001c>well</text> <text style=background-color:#00ff0008>as</text> <text style=background-color:#00ff001f>the</text> <text style=background-color:#00ff0007>over</text> <text style=background-color:#00ff0007>blown</text> <text style=background-color:#00ff0020>acting</text> <text style=background-color:#00ff0012>leave</text> <text style=background-color:#00ff002b>much</text> <text style=background-color:#00ff000d>to</text> <text style=background-color:#00ff0024>be</text> <text style=background-color:#00ff0010>desired</text> <text style=background-color:#00ff0015>still</text> <text style=background-color:#00ff0022>there</text> <text style=background-color:#00ff0020>have</text> <text style=background-color:#00ff001b>not</text> <text style=background-color:#00ff000e>been</text> <text style=background-color:#00ff001d>any</text> <text style=background-color:#00ff0034>more</text> <text style=background-color:#00ff0018>breathtaking</text> <text style=background-color:#00ff0005>technicolor</text> <text style=background-color:#00ff000f>films</text> <text style=background-color:#00ff0015>before</text> <text style=background-color:#00ff001f>this</text> <text style=background-color:#00ff001e>one</text> <text style=background-color:#00ff0029>and</text> <text style=background-color:#00ff0041>very</text> <text style=background-color:#00ff0018>few</text> <text style=background-color:#00ff000e>since</text> <text style=background-color:#00ff0017>then</text> <text style=background-color:#00ff001b>that</text> <text style=background-color:#00ff001c>can</text> <text style=background-color:#00ff000d>top</text> <text style=background-color:#00ff001f>this</text> <text style=background-color:#00ff0018>breathtaking</text> <text style=background-color:#00ff0014>visual</text> <text style=background-color:#00ff0046>experience</text> <text style=background-color:#00ff001f>of</text> <text style=background-color:#00ff0031>stunning</text> <text style=background-color:#00ff0016>colors</text> <text style=background-color:#00ff0002>cinema</text> <text style=background-color:#00ff0009>fans</text> <text style=background-color:#00ff0016>who</text> <text style=background-color:#00ff0020>have</text> <text style=background-color:#00ff0031>enjoyed</text> <text style=background-color:#00ff001f>the</text> <text style=background-color:#00ff0041>glorious</text> <text style=background-color:#00ff0007>color</text> <text style=background-color:#00ff0009>cinematography</text> <text style=background-color:#00ff000a>in</text> <text style=background-color:#00ff0004>robin</text> <text style=background-color:#00ff0008>hood</text> <text style=background-color:#00ff0003>jesse</text> <text style=background-color:#00ff0004>james</text> <text style=background-color:#00ff0029>and</text> <text style=background-color:#00ff0008>gone</text> <text style=background-color:#00ff002b>with</text> <text style=background-color:#00ff001f>the</text> <text style=background-color:#00ff0001>wind</text> <text style=background-color:#00ff0013>will</text> <text style=background-color:#00ff001b>not</text> <text style=background-color:#00ff0024>be</text> <text style=background-color:#00ff000e>disappointed</text> <text style=background-color:#00ff000a>in</text> <text style=background-color:#00ff001f>the</text> <text style=background-color:#00ff0051>fantastic</text> <text style=background-color:#00ff001f>work</text> <text style=background-color:#00ff0013>done</text> <text style=background-color:#00ff001a>here</text> <text style=background-color:#00ff001f>the</text> <text style=background-color:#00ff0019>garden</text> <text style=background-color:#00ff001f>of</text> <text style=background-color:#00ff0002>allah</text> <text style=background-color:#00ff0013>will</text> <text style=background-color:#00ff0031>always</text> <text style=background-color:#00ff0024>be</text> <text style=background-color:#00ff0004>synonymous</text> <text style=background-color:#00ff002b>with</text> <text style=background-color:#00ff002f>brilliant</text> <text style=background-color:#00ff0007>color</text> <text style=background-color:#00ff0009>cinematography</text> <br> <text style=background-color:#00ff000b>i</text> <text style=background-color:#00ff0004>went</text> <text style=background-color:#00ff0008>to</text> <text style=background-color:#00ff0012>see</text> <text style=background-color:#00ff0005>fever</text> <text style=background-color:#00ff0006>pitch</text> <text style=background-color:#00ff0020>with</text> <text style=background-color:#00ff001d>my</text> <text style=background-color:#00ff0018>mom</text> <text style=background-color:#00ff001f>and</text> <text style=background-color:#00ff000b>i</text> <text style=background-color:#00ff0014>can</text> <text style=background-color:#00ff000b>say</text> <text style=background-color:#00ff0013>that</text> <text style=background-color:#00ff0008>we</text> <text style=background-color:#00ff0010>both</text> <text style=background-color:#00ff002f>loved</text> <text style=background-color:#00ff0014>it</text> <text style=background-color:#00ff0014>it</text> <text style=background-color:#00ff0000>wasn</text> <text style=background-color:#00ff0001>t</text> <text style=background-color:#00ff0016>the</text> <text style=background-color:#00ff0011>typical</text> <text style=background-color:#00ff00ff>romantic</text> <text style=background-color:#00ff0016>comedy</text> <text style=background-color:#00ff000f>where</text> <text style=background-color:#00ff0017>someone</text> <text style=background-color:#00ff000f>is</text> <text style=background-color:#00ff0000>pining</text> <text style=background-color:#00ff0014>for</text> <text style=background-color:#00ff0016>the</text> <text style=background-color:#00ff0017>other</text> <text style=background-color:#00ff001f>and</text> <text style=background-color:#00ff0001>blah</text> <text style=background-color:#00ff0001>blah</text> <text style=background-color:#00ff0001>blah</text> <text style=background-color:#00ff001c>you</text> <text style=background-color:#00ff0000>weren</text> <text style=background-color:#00ff0001>t</text> <text style=background-color:#00ff0014>waiting</text> <text style=background-color:#00ff0014>for</text> <text style=background-color:#00ff0016>the</text> <text style=background-color:#00ff0000>climatic</text> <text style=background-color:#00ff0016>first</text> <text style=background-color:#00ff001d>kiss</text> <text style=background-color:#00ff0018>or</text> <text style=background-color:#00ff0014>for</text> <text style=background-color:#00ff000a>them</text> <text style=background-color:#00ff0008>to</text> <text style=background-color:#00ff0008>finally</text> <text style=background-color:#00ff000b>get</text> <text style=background-color:#00ff0020>together</text> <text style=background-color:#00ff0014>it</text> <text style=background-color:#00ff0006>was</text> <text style=background-color:#00ff0029>more</text> <text style=background-color:#00ff0009>real</text> <text style=background-color:#00ff0016>because</text> <text style=background-color:#00ff001c>you</text> <text style=background-color:#00ff000c>saw</text> <text style=background-color:#00ff000a>them</text> <text style=background-color:#00ff000e>through</text> <text style=background-color:#00ff0016>the</text> <text style=background-color:#00ff0044>relationship</text> <text style=background-color:#00ff0020>rather</text> <text style=background-color:#00ff001e>than</text> <text style=background-color:#00ff0016>the</text> <text style=background-color:#00ff0017>whole</text> <text style=background-color:#00ff0018>movie</text> <text style=background-color:#00ff001a>be</text> <text style=background-color:#00ff0019>about</text> <text style=background-color:#00ff000a>them</text> <text style=background-color:#00ff0009>getting</text> <text style=background-color:#00ff0020>together</text> <text style=background-color:#00ff0015>people</text> <text style=background-color:#00ff000d>could</text> <text style=background-color:#00ff0011>actually</text> <text style=background-color:#00ff000e>relate</text> <text style=background-color:#00ff0008>to</text> <text style=background-color:#00ff0016>the</text> <text style=background-color:#00ff0009>film</text> <text style=background-color:#00ff0016>because</text> <text style=background-color:#00ff0014>it</text> <text style=background-color:#00ff0000>didn</text> <text style=background-color:#00ff0001>t</text> <text style=background-color:#00ff000d>seem</text> <text style=background-color:#00ff0011>like</text> <text style=background-color:#00ff0047>extraordinary</text> <text style=background-color:#00ff000f>circumstances</text> <text style=background-color:#00ff0018>or</text> <text style=background-color:#00ff0017>impossible</text> <text style=background-color:#00ff000d>situations</text> <text style=background-color:#00ff0014>it</text> <text style=background-color:#00ff0006>was</text> <text style=background-color:#00ff0014>really</text> <text style=background-color:#00ff000f>funny</text> <text style=background-color:#00ff001f>and</text> <text style=background-color:#00ff000b>i</text> <text style=background-color:#00ff0011>think</text> <text style=background-color:#00ff0014>it</text> <text style=background-color:#00ff0006>was</text> <text style=background-color:#00ff0002>jimmy</text> <text style=background-color:#00ff0000>fallon</text> <text style=background-color:#00ff0000>s</text> <text style=background-color:#00ff0031>best</text> <text style=background-color:#00ff001d>performance</text> <text style=background-color:#00ff001a>all</text> <text style=background-color:#00ff0005>in</text> <text style=background-color:#00ff001a>all</text> <text style=background-color:#00ff000b>i</text> <text style=background-color:#00ff000c>would</text> <text style=background-color:#00ff0019>definitely</text> <text style=background-color:#00ff000e>recommend</text> <text style=background-color:#00ff0014>it</text> <br> <text style=background-color:#00ff0015>i</text> <text style=background-color:#00ff000e>watched</text> <text style=background-color:#00ff0024>the</text> <text style=background-color:#00ff0025>movie</text> <text style=background-color:#00ff0020>while</text> <text style=background-color:#00ff0005>recovering</text> <text style=background-color:#00ff0019>from</text> <text style=background-color:#00ff0019>major</text> <text style=background-color:#00ff000a>surgery</text> <text style=background-color:#00ff0020>while</text> <text style=background-color:#00ff0015>i</text> <text style=background-color:#00ff0010>knew</text> <text style=background-color:#00ff0022>it</text> <text style=background-color:#00ff000d>was</text> <text style=background-color:#00ff0024>only</text> <text style=background-color:#00ff0006>a</text> <text style=background-color:#00ff0005>b</text> <text style=background-color:#00ff0012>film</text> <text style=background-color:#00ff0006>a</text> <text style=background-color:#00ff001a>space</text> <text style=background-color:#00ff000a>western</text> <text style=background-color:#00ff0015>i</text> <text style=background-color:#00ff0040>loved</text> <text style=background-color:#00ff0022>it</text> <text style=background-color:#00ff0022>it</text> <text style=background-color:#00ff001b>may</text> <text style=background-color:#00ff0025>have</text> <text style=background-color:#00ff0006>lacked</text> <text style=background-color:#00ff0024>the</text> <text style=background-color:#00ff0005>flash</text> <text style=background-color:#00ff0024>of</text> <text style=background-color:#00ff0018>high</text> <text style=background-color:#00ff0002>dollar</text> <text style=background-color:#00ff0007>productions</text> <text style=background-color:#00ff0022>it</text> <text style=background-color:#00ff0001>non</text> <text style=background-color:#00ff0024>the</text> <text style=background-color:#00ff0024>less</text> <text style=background-color:#00ff0007>held</text> <text style=background-color:#00ff002d>my</text> <text style=background-color:#00ff0042>imagination</text> <text style=background-color:#00ff002e>and</text> <text style=background-color:#00ff000a>provided</text> <text style=background-color:#00ff004f>great</text> <text style=background-color:#00ff0002>escapism</text> <text style=background-color:#00ff000e>sadly</text> <text style=background-color:#00ff0036>our</text> <text style=background-color:#00ff0022>society</text> <text style=background-color:#00ff0009>has</text> <text style=background-color:#00ff0017>so</text> <text style=background-color:#00ff0030>much</text> <text style=background-color:#00ff000c>available</text> <text style=background-color:#00ff0000>discounting</text> <text style=background-color:#00ff002f>small</text> <text style=background-color:#00ff0006>attempts</text> <text style=background-color:#00ff001b>is</text> <text style=background-color:#00ff002c>too</text> <text style=background-color:#00ff0033>easy</text> <text style=background-color:#00ff000d>in</text> <text style=background-color:#00ff0024>the</text> <text style=background-color:#00ff0025>same</text> <text style=background-color:#00ff002c>way</text> <text style=background-color:#00ff0020>that</text> <text style=background-color:#00ff0015>i</text> <text style=background-color:#00ff0021>can</text> <text style=background-color:#00ff0057>enjoy</text> <text style=background-color:#00ff0006>a</text> <text style=background-color:#00ff0017>even</text> <text style=background-color:#00ff0006>a</text> <text style=background-color:#00ff000a>grade</text> <text style=background-color:#00ff000d>school</text> <text style=background-color:#00ff002c>performance</text> <text style=background-color:#00ff0024>of</text> <text style=background-color:#00ff000b>shakespeare</text> <text style=background-color:#00ff0015>i</text> <text style=background-color:#00ff0021>can</text> <text style=background-color:#00ff0047>appreciate</text> <text style=background-color:#00ff001e>many</text> <text style=background-color:#00ff0009>levels</text> <text style=background-color:#00ff0024>of</text> <text style=background-color:#00ff0018>achievement</text> <text style=background-color:#00ff0021>for</text> <text style=background-color:#00ff0024>the</text> <text style=background-color:#00ff0031>art</text> <text style=background-color:#00ff000f>sake</text> <text style=background-color:#00ff0015>i</text> <text style=background-color:#00ff0010>am</text> <text style=background-color:#00ff0006>a</text> <text style=background-color:#00ff0003>cop</text> <text style=background-color:#00ff002e>and</text> <text style=background-color:#00ff0011>found</text> <text style=background-color:#00ff000c>affinity</text> <text style=background-color:#00ff0030>with</text> <text style=background-color:#00ff0024>the</text> <text style=background-color:#00ff0003>retired</text> <text style=background-color:#00ff0000>lapd</text> <text style=background-color:#00ff005f>dreams</text> <text style=background-color:#00ff001d>like</text> <text style=background-color:#00ff001a>his</text> <text style=background-color:#00ff0009>haunt</text> <text style=background-color:#00ff0003>me</text> <text style=background-color:#00ff0020>that</text> <text style=background-color:#00ff0015>i</text> <text style=background-color:#00ff0017>will</text> <text style=background-color:#00ff0029>be</text> <text style=background-color:#00ff0006>unable</text> <text style=background-color:#00ff000d>in</text> <text style=background-color:#00ff0024>the</text> <text style=background-color:#00ff0032>moment</text> <text style=background-color:#00ff0024>of</text> <text style=background-color:#00ff0000>crisis</text> <text style=background-color:#00ff0029>be</text> <text style=background-color:#00ff0020>able</text> <text style=background-color:#00ff0011>to</text> <text style=background-color:#00ff0004>respond</text> <text style=background-color:#00ff0011>to</text> <text style=background-color:#00ff0012>save</text> <text style=background-color:#00ff0029>another</text> <text style=background-color:#00ff0002>s</text> <text style=background-color:#00ff0049>life</text> <text style=background-color:#00ff0026>or</text> <text style=background-color:#00ff002d>my</text> <text style=background-color:#00ff002c>own</text> <text style=background-color:#00ff0020>while</text> <text style=background-color:#00ff0022>it</text> <text style=background-color:#00ff000d>was</text> <text style=background-color:#00ff0006>a</text> <text style=background-color:#00ff00ff>romantic</text> <text style=background-color:#00ff003d>ending</text> <text style=background-color:#00ff001a>where</text> <text style=background-color:#00ff0000>farnsworth</text> <text style=background-color:#00ff000e>did</text> <text style=background-color:#00ff0022>take</text> <text style=background-color:#00ff0017>out</text> <text style=background-color:#00ff0024>the</text> <text style=background-color:#00ff0023>bad</text> <text style=background-color:#00ff0021>guy</text> <text style=background-color:#00ff0010>predictable</text> <text style=background-color:#00ff0015>i</text> <text style=background-color:#00ff0019>needed</text> <text style=background-color:#00ff0006>a</text> <text style=background-color:#00ff0047>little</text> <text style=background-color:#00ff003f>happy</text> <text style=background-color:#00ff0035>romance</text> <text style=background-color:#00ff001a>where</text> <text style=background-color:#00ff0046>good</text> <text style=background-color:#00ff0021>can</text> <text style=background-color:#00ff0008>triumph</text> <text style=background-color:#00ff002d>my</text> <text style=background-color:#00ff0031>world</text> <text style=background-color:#00ff001b>is</text> <text style=background-color:#00ff0022>really</text> <text style=background-color:#00ff002c>too</text> <text style=background-color:#00ff000d>cynical</text> <br> <text style=background-color:#00ff0011>i</text> <text style=background-color:#00ff000d>found</text> <text style=background-color:#00ff001f>this</text> <text style=background-color:#00ff000f>film</text> <text style=background-color:#00ff000d>to</text> <text style=background-color:#00ff0024>be</text> <text style=background-color:#00ff0017>an</text> <text style=background-color:#00ff0008>utter</text> <text style=background-color:#00ff0001>dissapointment</text> <text style=background-color:#00ff001f>the</text> <text style=background-color:#00ff0030>talent</text> <text style=background-color:#00ff0009>available</text> <text style=background-color:#00ff000d>to</text> <text style=background-color:#00ff001f>the</text> <text style=background-color:#00ff0002>director</text> <text style=background-color:#00ff0000>notably</text> <text style=background-color:#00ff0000>stanley</text> <text style=background-color:#00ff0000>tucci</text> <text style=background-color:#00ff0004>chris</text> <text style=background-color:#00ff0000>walken</text> <text style=background-color:#00ff0001>hank</text> <text style=background-color:#00ff0000>azaria</text> <text style=background-color:#00ff0029>and</text> <text style=background-color:#00ff0000>alan</text> <text style=background-color:#00ff0000>arkin</text> <text style=background-color:#00ff0024>without</text> <text style=background-color:#00ff0013>even</text> <text style=background-color:#00ff0002>mentioning</text> <text style=background-color:#00ff001f>the</text> <text style=background-color:#00ff0009>four</text> <text style=background-color:#00ff0004>main</text> <text style=background-color:#00ff0004>leads</text> <text style=background-color:#00ff0020>have</text> <text style=background-color:#00ff000e>been</text> <text style=background-color:#00ff000a>completely</text> <text style=background-color:#00ff0017>wasted</text> <text style=background-color:#00ff000c>on</text> <text style=background-color:#00ff0017>an</text> <text style=background-color:#00ff0004>unfunny</text> <text style=background-color:#00ff0007>mediocre</text> <text style=background-color:#00ff002f>story</text> <text style=background-color:#00ff002d>whose</text> <text style=background-color:#00ff0010>conclusion</text> <text style=background-color:#00ff001e>one</text> <text style=background-color:#00ff0000>couldn</text> <text style=background-color:#00ff0002>t</text> <text style=background-color:#00ff001d>really</text> <text style=background-color:#00ff0027>care</text> <text style=background-color:#00ff0022>about</text> <text style=background-color:#00ff0010>once</text> <text style=background-color:#00ff0003>introduced</text> <text style=background-color:#00ff000d>to</text> <text style=background-color:#00ff001f>the</text> <text style=background-color:#00ff0001>dire</text> <text style=background-color:#00ff0001>stereo</text> <text style=background-color:#00ff0000>typed</text> <text style=background-color:#00ff001e>characters</text> <text style=background-color:#00ff0002>julia</text> <text style=background-color:#00ff0003>roberts</text> <text style=background-color:#00ff0017>is</text> <text style=background-color:#00ff0001>feeble</text> <text style=background-color:#00ff0001>zeta</text> <text style=background-color:#00ff0004>jones</text> <text style=background-color:#00ff0017>is</text> <text style=background-color:#00ff0018>just</text> <text style=background-color:#00ff000b>plain</text> <text style=background-color:#00ff0011>annoying</text> <text style=background-color:#00ff0005>appearing</text> <text style=background-color:#00ff000d>to</text> <text style=background-color:#00ff0000>reprise</text> <text style=background-color:#00ff0012>her</text> <text style=background-color:#00ff000d>role</text> <text style=background-color:#00ff0015>from</text> <text style=background-color:#00ff0014>high</text> <text style=background-color:#00ff0001>fidelity</text> <text style=background-color:#00ff0018>minus</text> <text style=background-color:#00ff001f>the</text> <text style=background-color:#00ff0017>humour</text> <text style=background-color:#00ff0008>crystal</text> <text style=background-color:#00ff0018>just</text> <text style=background-color:#00ff0009>plays</text> <text style=background-color:#00ff0016>his</text> <text style=background-color:#00ff0021>same</text> <text style=background-color:#00ff0021>old</text> <text style=background-color:#00ff0013>hyper</text> <text style=background-color:#00ff0024>active</text> <text style=background-color:#00ff0002>neurotic</text> <text style=background-color:#00ff0011>annoying</text> <text style=background-color:#00ff0008>alter</text> <text style=background-color:#00ff0007>ego</text> <text style=background-color:#00ff0029>and</text> <text style=background-color:#00ff0000>cusack</text> <text style=background-color:#00ff0028>simply</text> <text style=background-color:#00ff000b>walks</text> <text style=background-color:#00ff0015>through</text> <text style=background-color:#00ff0016>his</text> <text style=background-color:#00ff002f>part</text> <text style=background-color:#00ff0009>apparently</text> <text style=background-color:#00ff000a>bored</text> <text style=background-color:#00ff002b>with</text> <text style=background-color:#00ff001f>the</text> <text style=background-color:#00ff0020>whole</text> <text style=background-color:#00ff001a>project</text> <text style=background-color:#00ff0000>br</text> <text style=background-color:#00ff0000>br</text> <text style=background-color:#00ff001d>for</text> <text style=background-color:#00ff001c>what</text> <text style=background-color:#00ff0017>is</text> <text style=background-color:#00ff0017>supposed</text> <text style=background-color:#00ff000d>to</text> <text style=background-color:#00ff0024>be</text> <text style=background-color:#00ff0005>a</text> <text style=background-color:#00ff00ff>romantic</text> <text style=background-color:#00ff001f>comedy</text> <text style=background-color:#00ff0022>there</text> <text style=background-color:#00ff0017>is</text> <text style=background-color:#00ff0017>absolutely</text> <text style=background-color:#00ff0000>no</text> <text style=background-color:#00ff0030>romance</text> <text style=background-color:#00ff0018>between</text> <text style=background-color:#00ff001f>the</text> <text style=background-color:#00ff0000>central</text> <text style=background-color:#00ff001e>characters</text> <text style=background-color:#00ff0019>let</text> <text style=background-color:#00ff0019>alone</text> <text style=background-color:#00ff000a>chemistry</text> <text style=background-color:#00ff0029>and</text> <text style=background-color:#00ff0008>as</text> <text style=background-color:#00ff001d>for</text> <text style=background-color:#00ff001f>the</text> <text style=background-color:#00ff001f>comedy</text> <text style=background-color:#00ff0015>possible</text> <text style=background-color:#00ff0001>spoilers</text> <text style=background-color:#00ff001c>well</text> <text style=background-color:#00ff001f>the</text> <text style=background-color:#00ff001f>only</text> <text style=background-color:#00ff0036>moments</text> <text style=background-color:#00ff001f>of</text> <text style=background-color:#00ff0010>mild</text> <text style=background-color:#00ff0017>humour</text> <text style=background-color:#00ff000c>came</text> <text style=background-color:#00ff0009>off</text> <text style=background-color:#00ff001f>the</text> <text style=background-color:#00ff0009>back</text> <text style=background-color:#00ff001f>of</text> <text style=background-color:#00ff0000>cusack</text> <text style=background-color:#00ff0001>s</text> <text style=background-color:#00ff000d>role</text> <text style=background-color:#00ff000a>in</text> <text style=background-color:#00ff0001>grosse</text> <text style=background-color:#00ff0001>pointe</text> <text style=background-color:#00ff0029>and</text> <text style=background-color:#00ff0016>his</text> <text style=background-color:#00ff0051>relationship</text> <text style=background-color:#00ff002b>with</text> <text style=background-color:#00ff0000>alan</text> <text style=background-color:#00ff0000>arkin</text> <text style=background-color:#00ff001f>the</text> <text style=background-color:#00ff0001>scriptwriter</text> <text style=background-color:#00ff000f>obviously</text> <text style=background-color:#00ff0004>unable</text> <text style=background-color:#00ff000d>to</text> <text style=background-color:#00ff0011>show</text> <text style=background-color:#00ff001e>any</text> <text style=background-color:#00ff0009>originality</text> <text style=background-color:#00ff0007>whatsoever</text> <text style=background-color:#00ff0001>spoilers</text> <text style=background-color:#00ff0000>azaria</text> <text style=background-color:#00ff000a>was</text> <text style=background-color:#00ff0004>reasonably</text> <text style=background-color:#00ff000c>amusing</text> <text style=background-color:#00ff0008>as</text> <text style=background-color:#00ff001f>the</text> <text style=background-color:#00ff000b>mexican</text> <text style=background-color:#00ff007d>lover</text> <text style=background-color:#00ff0029>and</text> <text style=background-color:#00ff0000>walken</text> <text style=background-color:#00ff000b>did</text> <text style=background-color:#00ff001a>quite</text> <text style=background-color:#00ff0017>an</text> <text style=background-color:#00ff000c>amusing</text> <text style=background-color:#00ff001c>turn</text> <text style=background-color:#00ff0008>as</text> <text style=background-color:#00ff0005>a</text> <text style=background-color:#00ff000c>parody</text> <text style=background-color:#00ff001f>of</text> <text style=background-color:#00ff0017>an</text> <text style=background-color:#00ff0000>arthouse</text> <text style=background-color:#00ff0000>maverick</text> <text style=background-color:#00ff0000>dogme</text> <text style=background-color:#00ff0029>type</text> <text style=background-color:#00ff0002>director</text> <text style=background-color:#00ff0020>but</text> <text style=background-color:#00ff0014>these</text> <text style=background-color:#00ff000f>parts</text> <text style=background-color:#00ff0000>constituted</text> <text style=background-color:#00ff0041>very</text> <text style=background-color:#00ff0042>little</text> <text style=background-color:#00ff0005>screen</text> <text style=background-color:#00ff0020>time</text> <text style=background-color:#00ff0029>and</text> <text style=background-color:#00ff0016>instead</text> <text style=background-color:#00ff0001>spoilers</text> <text style=background-color:#00ff000e>we</text> <text style=background-color:#00ff0010>were</text> <text style=background-color:#00ff0012>treated</text> <text style=background-color:#00ff000d>to</text> <text style=background-color:#00ff000c>billy</text> <text style=background-color:#00ff0008>crystal</text> <text style=background-color:#00ff0031>having</text> <text style=background-color:#00ff0016>his</text> <text style=background-color:#00ff0000>groin</text> <text style=background-color:#00ff0000>sniffed</text> <text style=background-color:#00ff0016>by</text> <text style=background-color:#00ff0005>a</text> <text style=background-color:#00ff0014>dog</text> <text style=background-color:#00ff0019>pure</text> <text style=background-color:#00ff0018>genius</text> <text style=background-color:#00ff0000>br</text> <text style=background-color:#00ff0000>br</text> <text style=background-color:#00ff001d>for</text> <text style=background-color:#00ff0005>a</text> <text style=background-color:#00ff0020>huge</text> <text style=background-color:#00ff000b>fan</text> <text style=background-color:#00ff001f>of</text> <text style=background-color:#00ff001f>the</text> <text style=background-color:#00ff0008>majority</text> <text style=background-color:#00ff001f>of</text> <text style=background-color:#00ff0007>john</text> <text style=background-color:#00ff0000>cusack</text> <text style=background-color:#00ff0001>s</text> <text style=background-color:#00ff001f>work</text> <text style=background-color:#00ff001b>not</text> <text style=background-color:#00ff000d>to</text> <text style=background-color:#00ff0007>mention</text> <text style=background-color:#00ff001f>the</text> <text style=background-color:#00ff0023>rest</text> <text style=background-color:#00ff001f>of</text> <text style=background-color:#00ff001f>the</text> <text style=background-color:#00ff0051>fantastic</text> <text style=background-color:#00ff0021>cast</text> <text style=background-color:#00ff0011>i</text> <text style=background-color:#00ff000a>was</text> <text style=background-color:#00ff000a>completely</text> <text style=background-color:#00ff0019>let</text> <text style=background-color:#00ff000a>down</text> <text style=background-color:#00ff0016>by</text> <text style=background-color:#00ff0005>a</text> <text style=background-color:#00ff000f>film</text> <text style=background-color:#00ff002b>with</text> <text style=background-color:#00ff0018>plenty</text> <text style=background-color:#00ff001f>of</text> <text style=background-color:#00ff0041>good</text> <text style=background-color:#00ff0013>ideas</text> <text style=background-color:#00ff0029>and</text> <text style=background-color:#00ff0013>at</text> <text style=background-color:#00ff001f>the</text> <text style=background-color:#00ff0021>same</text> <text style=background-color:#00ff0020>time</text> <text style=background-color:#00ff000a>completely</text> <text style=background-color:#00ff0002>unwilling</text> <text style=background-color:#00ff000d>to</text> <text style=background-color:#00ff001f>explore</text> <text style=background-color:#00ff0021>or</text> <text style=background-color:#00ff0014>elaborate</text> <text style=background-color:#00ff000c>on</text> <text style=background-color:#00ff001e>any</text> <text style=background-color:#00ff001f>of</text> <text style=background-color:#00ff0010>them</text> <text style=background-color:#00ff0016>instead</text> <text style=background-color:#00ff0000>resorting</text> <text style=background-color:#00ff000d>to</text> <text style=background-color:#00ff001f>the</text> <text style=background-color:#00ff0021>same</text> <text style=background-color:#00ff0021>old</text> <text style=background-color:#00ff0004>genre</text> <text style=background-color:#00ff0001>cliches</text> <text style=background-color:#00ff0029>and</text> <text style=background-color:#00ff0013>even</text> <text style=background-color:#00ff0001>lowering</text> <text style=background-color:#00ff0007>itself</text> <text style=background-color:#00ff000d>to</text> <text style=background-color:#00ff001f>the</text> <text style=background-color:#00ff000a>depths</text> <text style=background-color:#00ff001f>of</text> <text style=background-color:#00ff000e>almost</text> <text style=background-color:#00ff0004>gross</text> <text style=background-color:#00ff0013>out</text> <text style=background-color:#00ff0011>teen</text> <text style=background-color:#00ff0021>movie</text> <text style=background-color:#00ff0017>humour</text> <text style=background-color:#00ff0013>at</text> <text style=background-color:#00ff0010>times</text> <text style=background-color:#00ff0000>br</text> <text style=background-color:#00ff0000>br</text> <text style=background-color:#00ff0005>a</text> <text style=background-color:#00ff0041>very</text> <text style=background-color:#00ff0011>poor</text>"
      ],
      "text/plain": [
       "<IPython.core.display.HTML object>"
      ]
     },
     "execution_count": 50,
     "metadata": {},
     "output_type": "execute_result"
    }
   ],
   "source": [
    "html_print (\" <br> \".join (np.array (coloured_texts) [ordering [0:10]]))"
   ]
  },
  {
   "cell_type": "code",
   "execution_count": null,
   "metadata": {},
   "outputs": [],
   "source": []
  },
  {
   "cell_type": "code",
   "execution_count": null,
   "metadata": {},
   "outputs": [],
   "source": []
  },
  {
   "cell_type": "code",
   "execution_count": null,
   "metadata": {},
   "outputs": [],
   "source": []
  },
  {
   "cell_type": "code",
   "execution_count": null,
   "metadata": {},
   "outputs": [],
   "source": []
  },
  {
   "cell_type": "code",
   "execution_count": 135,
   "metadata": {},
   "outputs": [],
   "source": [
    "embeds = imdb_task.embeds ['train']['glove-twitter-25']"
   ]
  },
  {
   "cell_type": "code",
   "execution_count": 280,
   "metadata": {},
   "outputs": [],
   "source": [
    " "
   ]
  },
  {
   "cell_type": "code",
   "execution_count": 299,
   "metadata": {},
   "outputs": [],
   "source": [
    "for i in range (len (embeds)):\n",
    "    a = cosine_similarity(embeds [i], lookup_text_emb)"
   ]
  },
  {
   "cell_type": "code",
   "execution_count": 260,
   "metadata": {},
   "outputs": [],
   "source": []
  },
  {
   "cell_type": "code",
   "execution_count": 544,
   "metadata": {},
   "outputs": [],
   "source": [
    "pretrained_model_tag = 'glove-twitter-25'"
   ]
  },
  {
   "cell_type": "code",
   "execution_count": 567,
   "metadata": {},
   "outputs": [],
   "source": [
    "lookup_text = 'violent action'"
   ]
  },
  {
   "cell_type": "code",
   "execution_count": 568,
   "metadata": {},
   "outputs": [],
   "source": [
    "text_tag = 'train'"
   ]
  },
  {
   "cell_type": "code",
   "execution_count": 558,
   "metadata": {},
   "outputs": [
    {
     "data": {
      "text/plain": [
       "dict_keys(['train'])"
      ]
     },
     "execution_count": 558,
     "metadata": {},
     "output_type": "execute_result"
    }
   ],
   "source": [
    "imdb_task.embeds.keys()"
   ]
  },
  {
   "cell_type": "code",
   "execution_count": 563,
   "metadata": {},
   "outputs": [],
   "source": [
    "lookup_agg_method = np.mean"
   ]
  },
  {
   "cell_type": "code",
   "execution_count": 576,
   "metadata": {},
   "outputs": [],
   "source": [
    "text_agg_method = np.max"
   ]
  },
  {
   "cell_type": "code",
   "execution_count": 592,
   "metadata": {},
   "outputs": [],
   "source": [
    "# imdb_task.load_embedding_model(pretrained_model_tag)\n",
    "# \n",
    "# emb_model = imdb_task.emb_models [pretrained_model_tag]\n",
    "# \n",
    "# lookup_text_tok = imdb_task._tokenize([lookup_text])\n",
    "# #print (lookup_text_tok)\n",
    "# emb_length = emb_model ['a'].shape [0]\n",
    "# lookup_text_emb = imdb_task._embed_line(lookup_text_tok, emb_model, emb_length)\n",
    "# lookup_text_emb = np.array (lookup_text_emb)\n",
    "# lookup_text_emb = lookup_text_emb.squeeze (0)\n",
    "# \n",
    "# embs = imdb_task.embeds [text_tag][pretrained_model_tag]\n",
    "# \n",
    "# emb_sims = []\n",
    "# emb_sims_max = []\n",
    "# for i in range(0, len(embs)):\n",
    "#     if (i % 1000) == 0:\n",
    "#         print(i)\n",
    "# \n",
    "#     lin_cos_sim = cosine_similarity(embs[i], lookup_text_emb)\n",
    "#     lin_cos_sim = lookup_agg_method(lin_cos_sim, axis=1)\n",
    "#     emb_sims.append(lin_cos_sim)\n",
    "#     max_sims = text_agg_method (lin_cos_sim)\n",
    "#     emb_sims_max.append(max_sims)\n",
    "# \n",
    "# emb_sims = np.array (emb_sims)\n",
    "# emb_sims_max = np.array (emb_sims_max)\n",
    "# \n",
    "# ordering = np.argsort(-emb_sims_max)"
   ]
  },
  {
   "cell_type": "code",
   "execution_count": 99,
   "metadata": {},
   "outputs": [
    {
     "data": {
      "text/plain": [
       "array([ 0.010751, -0.72868 ,  0.02601 ,  0.69312 ,  0.97722 , -0.22981 ,\n",
       "        1.5951  ,  0.14071 ,  0.27606 , -1.4623  ,  0.03556 , -0.46209 ,\n",
       "       -2.2854  , -0.40581 , -0.27038 ,  0.51349 , -0.46135 ,  0.38363 ,\n",
       "        0.54332 , -0.1618  , -0.64526 , -0.14408 , -0.9408  , -0.32212 ,\n",
       "        0.64805 ], dtype=float32)"
      ]
     },
     "execution_count": 99,
     "metadata": {},
     "output_type": "execute_result"
    }
   ],
   "source": [
    "imdb_task.emb_models['glove-twitter-25']['romance']"
   ]
  },
  {
   "cell_type": "code",
   "execution_count": 117,
   "metadata": {},
   "outputs": [
    {
     "name": "stdout",
     "output_type": "stream",
     "text": [
      "0\n",
      "1000\n",
      "2000\n",
      "3000\n",
      "4000\n"
     ]
    }
   ],
   "source": [
    "word_sims, max_sims, ordering = imdb_task.embedding_lookup('train', 'glove-twitter-25', 'romantic', \n",
    "                                                           lookup_agg_method = np.mean, \n",
    "                                                           text_agg_method = np.max)"
   ]
  },
  {
   "cell_type": "code",
   "execution_count": 101,
   "metadata": {},
   "outputs": [
    {
     "data": {
      "text/plain": [
       "array([3041, 4262, 4036, ..., 2449,  302, 2236], dtype=int64)"
      ]
     },
     "execution_count": 101,
     "metadata": {},
     "output_type": "execute_result"
    }
   ],
   "source": [
    "ordering"
   ]
  },
  {
   "cell_type": "code",
   "execution_count": 118,
   "metadata": {},
   "outputs": [],
   "source": [
    "attention_weights = word_sims"
   ]
  },
  {
   "cell_type": "code",
   "execution_count": 119,
   "metadata": {},
   "outputs": [],
   "source": [
    "subset = None"
   ]
  },
  {
   "cell_type": "code",
   "execution_count": 120,
   "metadata": {},
   "outputs": [],
   "source": [
    "text_tag = \"train\""
   ]
  },
  {
   "cell_type": "code",
   "execution_count": 121,
   "metadata": {},
   "outputs": [
    {
     "name": "stdout",
     "output_type": "stream",
     "text": [
      "0\n",
      "1000\n",
      "2000\n",
      "3000\n",
      "4000\n"
     ]
    }
   ],
   "source": [
    "from sklearn.utils.extmath import softmax\n",
    "\n",
    "text_tok = imdb_task.texts_tok [text_tag]\n",
    "\n",
    "if subset is not None:\n",
    "    text_tok = text_tok [subset]\n",
    "    attention_weights = attention_weights [subset]\n",
    "\n",
    "def cstr(s, color='black'):\n",
    "    return \"<text style=background-color:{}>{}</text>\".format(color, s)\n",
    "\n",
    "\n",
    "def norm (x):\n",
    "    return ((x-min(x))/(max(x)-min(x)))\n",
    "    \n",
    "\n",
    "red = np.array([255, 0, 0])\n",
    "green = np.array([0, 255, 0])\n",
    "blue = np.array([0, 0, 255])\n",
    "red = np.round(red).astype(\"int64\")\n",
    "blue = np.round(blue).astype(\"int64\")\n",
    "green = np.round(green).astype(\"int64\")\n",
    "\n",
    "col = green\n",
    "\n",
    "coloured_sents = []\n",
    "for ref in range (len (text_tok)):\n",
    "    col_sent = []\n",
    "    attn_weights = attention_weights [ref]\n",
    "    attn_weights = norm(attn_weights)**5\n",
    "    #attn_weights = softmax(np.array (attn_weights))\n",
    "\n",
    "    #attn_weights = attn_weights [0,:]\n",
    "    \n",
    "    if (ref % 1000) == 0:\n",
    "        print(ref)\n",
    "\n",
    "    for i in range(0, len(text_tok [ref])):\n",
    "\n",
    "        assert (len (attn_weights) == len (text_tok[ref]))\n",
    "\n",
    "        alpha = np.array(attn_weights[i]) * 255\n",
    "\n",
    "        alpha = np.round(alpha).astype(\"int64\")\n",
    "\n",
    "        col_word = cstr(text_tok[ref][i],\n",
    "                        '#{:02x}{:02x}{:02x}{:02x}'.format(col[0], col[1], col[2], alpha))\n",
    "\n",
    "#         if (i % 10) == 0:\n",
    "#             col_sent.append(\" <br> \" + col_word)\n",
    "#         else:\n",
    "        col_sent.append(col_word)\n",
    "\n",
    "    coloured_sents.append(\" \".join(col_sent))"
   ]
  },
  {
   "cell_type": "code",
   "execution_count": null,
   "metadata": {},
   "outputs": [],
   "source": []
  },
  {
   "cell_type": "code",
   "execution_count": null,
   "metadata": {},
   "outputs": [],
   "source": []
  },
  {
   "cell_type": "code",
   "execution_count": 41,
   "metadata": {},
   "outputs": [],
   "source": [
    "#alpha"
   ]
  },
  {
   "cell_type": "code",
   "execution_count": 33,
   "metadata": {},
   "outputs": [],
   "source": [
    "#attn_weights"
   ]
  },
  {
   "cell_type": "code",
   "execution_count": 71,
   "metadata": {},
   "outputs": [],
   "source": [
    "#coloured_sents [0]"
   ]
  },
  {
   "cell_type": "code",
   "execution_count": null,
   "metadata": {},
   "outputs": [],
   "source": []
  },
  {
   "cell_type": "code",
   "execution_count": 36,
   "metadata": {},
   "outputs": [],
   "source": [
    "#coloured_sents = imdb_task.colour_attention ('train', word_sims)"
   ]
  },
  {
   "cell_type": "code",
   "execution_count": 122,
   "metadata": {},
   "outputs": [],
   "source": [
    "from IPython.display import HTML as html_print"
   ]
  },
  {
   "cell_type": "code",
   "execution_count": 123,
   "metadata": {},
   "outputs": [
    {
     "data": {
      "text/html": [
       "<text style=background-color:#00ff001d>the</text> <text style=background-color:#00ff0008>title</text> <text style=background-color:#00ff001d>of</text> <text style=background-color:#00ff001d>this</text> <text style=background-color:#00ff000e>film</text> <text style=background-color:#00ff0016>is</text> <text style=background-color:#00ff001b>taken</text> <text style=background-color:#00ff0014>from</text> <text style=background-color:#00ff0004>a</text> <text style=background-color:#00ff0017>party</text> <text style=background-color:#00ff0006>game</text> <text style=background-color:#00ff0014>called</text> <text style=background-color:#00ff0004>seven</text> <text style=background-color:#00ff0004>minutes</text> <text style=background-color:#00ff0009>in</text> <text style=background-color:#00ff0033>heaven</text> <text style=background-color:#00ff001d>the</text> <text style=background-color:#00ff0006>game</text> <text style=background-color:#00ff0009>was</text> <text style=background-color:#00ff000a>popular</text> <text style=background-color:#00ff000d>among</text> <text style=background-color:#00ff0025>my</text> <text style=background-color:#00ff002d>husband</text> <text style=background-color:#00ff0001>s</text> <text style=background-color:#00ff003c>friends</text> <text style=background-color:#00ff001d>when</text> <text style=background-color:#00ff0005>he</text> <text style=background-color:#00ff0009>was</text> <text style=background-color:#00ff0009>in</text> <text style=background-color:#00ff0007>junior</text> <text style=background-color:#00ff0012>high</text> <text style=background-color:#00ff0009>school</text> <text style=background-color:#00ff0009>in</text> <text style=background-color:#00ff0002>brooklyn</text> <text style=background-color:#00ff0002>ny</text> <text style=background-color:#00ff0027>and</text> <text style=background-color:#00ff0005>he</text> <text style=background-color:#00ff000d>describes</text> <text style=background-color:#00ff001b>it</text> <text style=background-color:#00ff0007>as</text> <text style=background-color:#00ff0025>something</text> <text style=background-color:#00ff0017>like</text> <text style=background-color:#00ff0006>spin</text> <text style=background-color:#00ff001d>the</text> <text style=background-color:#00ff0006>bottle</text> <text style=background-color:#00ff0008>lifesaver</text> <text style=background-color:#00ff0006>relay</text> <text style=background-color:#00ff0027>and</text> <text style=background-color:#00ff001f>other</text> <text style=background-color:#00ff0002>preteen</text> <text style=background-color:#00ff001a>kissing</text> <text style=background-color:#00ff0006>games</text> <text style=background-color:#00ff0008>according</text> <text style=background-color:#00ff000c>to</text> <text style=background-color:#00ff001d>the</text> <text style=background-color:#00ff000a>rules</text> <text style=background-color:#00ff0004>a</text> <text style=background-color:#00ff001a>boy</text> <text style=background-color:#00ff0001>s</text> <text style=background-color:#00ff0013>name</text> <text style=background-color:#00ff0027>and</text> <text style=background-color:#00ff0004>a</text> <text style=background-color:#00ff002c>girl</text> <text style=background-color:#00ff0001>s</text> <text style=background-color:#00ff0011>would</text> <text style=background-color:#00ff0022>be</text> <text style=background-color:#00ff0006>drawn</text> <text style=background-color:#00ff0027>and</text> <text style=background-color:#00ff001d>the</text> <text style=background-color:#00ff0015>chosen</text> <text style=background-color:#00ff0035>ones</text> <text style=background-color:#00ff0001>ordered</text> <text style=background-color:#00ff000c>to</text> <text style=background-color:#00ff0010>get</text> <text style=background-color:#00ff0014>into</text> <text style=background-color:#00ff0004>a</text> <text style=background-color:#00ff0029>dark</text> <text style=background-color:#00ff0006>closet</text> <text style=background-color:#00ff0028>together</text> <text style=background-color:#00ff0027>and</text> <text style=background-color:#00ff000c>to</text> <text style=background-color:#00ff0022>stay</text> <text style=background-color:#00ff0020>there</text> <text style=background-color:#00ff001b>for</text> <text style=background-color:#00ff0004>seven</text> <text style=background-color:#00ff0004>minutes</text> <text style=background-color:#00ff0009>in</text> <text style=background-color:#00ff001d>the</text> <text style=background-color:#00ff0004>meantime</text> <text style=background-color:#00ff0020>there</text> <text style=background-color:#00ff0011>would</text> <text style=background-color:#00ff0022>be</text> <text style=background-color:#00ff0000>speculation</text> <text style=background-color:#00ff000d>among</text> <text style=background-color:#00ff0017>party</text> <text style=background-color:#00ff001f>guests</text> <text style=background-color:#00ff0007>as</text> <text style=background-color:#00ff000c>to</text> <text style=background-color:#00ff0014>whether</text> <text style=background-color:#00ff001f>or</text> <text style=background-color:#00ff0019>not</text> <text style=background-color:#00ff001d>the</text> <text style=background-color:#00ff0011>two</text> <text style=background-color:#00ff000a>had</text> <text style=background-color:#00ff001d>the</text> <text style=background-color:#00ff0007>nerve</text> <text style=background-color:#00ff000c>to</text> <text style=background-color:#00ff0011>hold</text> <text style=background-color:#00ff0015>hands</text> <text style=background-color:#00ff003c>embrace</text> <text style=background-color:#00ff0027>and</text> <text style=background-color:#00ff001f>or</text> <text style=background-color:#00ff0025>kiss</text> <text style=background-color:#00ff001e>each</text> <text style=background-color:#00ff001f>other</text> <text style=background-color:#00ff0009>in</text> <text style=background-color:#00ff001d>the</text> <text style=background-color:#00ff0002>privacy</text> <text style=background-color:#00ff001d>of</text> <text style=background-color:#00ff001d>the</text> <text style=background-color:#00ff0006>closet</text> <text style=background-color:#00ff0011>at</text> <text style=background-color:#00ff001d>the</text> <text style=background-color:#00ff0018>end</text> <text style=background-color:#00ff001d>of</text> <text style=background-color:#00ff0004>seven</text> <text style=background-color:#00ff0004>minutes</text> <text style=background-color:#00ff001d>the</text> <text style=background-color:#00ff0006>game</text> <text style=background-color:#00ff0011>leader</text> <text style=background-color:#00ff0011>would</text> <text style=background-color:#00ff0010>say</text> <text style=background-color:#00ff001e>time</text> <text style=background-color:#00ff0001>s</text> <text style=background-color:#00ff0010>up</text> <text style=background-color:#00ff001f>or</text> <text style=background-color:#00ff0004>knock</text> <text style=background-color:#00ff000b>on</text> <text style=background-color:#00ff001d>the</text> <text style=background-color:#00ff0006>closet</text> <text style=background-color:#00ff0001>door</text> <text style=background-color:#00ff0027>and</text> <text style=background-color:#00ff001d>the</text> <text style=background-color:#00ff0029>couple</text> <text style=background-color:#00ff0011>would</text> <text style=background-color:#00ff0001>emerge</text> <text style=background-color:#00ff0014>from</text> <text style=background-color:#00ff001d>the</text> <text style=background-color:#00ff0006>closet</text> <text style=background-color:#00ff000d>after</text> <text style=background-color:#00ff001d>being</text> <text style=background-color:#00ff0000>quizzed</text> <text style=background-color:#00ff0014>by</text> <text style=background-color:#00ff001d>the</text> <text style=background-color:#00ff001f>other</text> <text style=background-color:#00ff001f>guests</text> <text style=background-color:#00ff001d>the</text> <text style=background-color:#00ff0029>couple</text> <text style=background-color:#00ff0011>would</text> <text style=background-color:#00ff001e>have</text> <text style=background-color:#00ff000c>to</text> <text style=background-color:#00ff000f>admit</text> <text style=background-color:#00ff001a>what</text> <text style=background-color:#00ff0012>they</text> <text style=background-color:#00ff000a>had</text> <text style=background-color:#00ff0012>done</text> <text style=background-color:#00ff0012>during</text> <text style=background-color:#00ff0021>their</text> <text style=background-color:#00ff0004>seven</text> <text style=background-color:#00ff0004>minutes</text> <text style=background-color:#00ff0009>in</text> <text style=background-color:#00ff0033>heaven</text> <text style=background-color:#00ff0016>then</text> <text style=background-color:#00ff001f>other</text> <text style=background-color:#00ff001c>couples</text> <text style=background-color:#00ff0011>would</text> <text style=background-color:#00ff0022>be</text> <text style=background-color:#00ff0015>chosen</text> <text style=background-color:#00ff000c>to</text> <text style=background-color:#00ff0007>enter</text> <text style=background-color:#00ff001d>the</text> <text style=background-color:#00ff0006>closet</text> <text style=background-color:#00ff0015>until</text> <text style=background-color:#00ff0022>all</text> <text style=background-color:#00ff001d>the</text> <text style=background-color:#00ff001f>guests</text> <text style=background-color:#00ff000a>had</text> <text style=background-color:#00ff0002>participated</text> <text style=background-color:#00ff001d>the</text> <text style=background-color:#00ff0029>couple</text> <text style=background-color:#00ff0014>who</text> <text style=background-color:#00ff0001>admitted</text> <text style=background-color:#00ff000c>to</text> <text style=background-color:#00ff0019>doing</text> <text style=background-color:#00ff001d>the</text> <text style=background-color:#00ff002d>most</text> <text style=background-color:#00ff0011>would</text> <text style=background-color:#00ff0022>be</text> <text style=background-color:#00ff001d>the</text> <text style=background-color:#00ff0009>winners</text> <text style=background-color:#00ff001d>of</text> <text style=background-color:#00ff001d>the</text> <text style=background-color:#00ff0006>game</text> <text style=background-color:#00ff0000>br</text> <text style=background-color:#00ff0000>br</text> <text style=background-color:#00ff004e>such</text> <text style=background-color:#00ff0006>games</text> <text style=background-color:#00ff001e>have</text> <text style=background-color:#00ff0009>served</text> <text style=background-color:#00ff0007>as</text> <text style=background-color:#00ff0006>social</text> <text style=background-color:#00ff000e>ice</text> <text style=background-color:#00ff0003>breakers</text> <text style=background-color:#00ff001b>for</text> <text style=background-color:#00ff001c>children</text> <text style=background-color:#00ff0027>and</text> <text style=background-color:#00ff0012>teens</text> <text style=background-color:#00ff001e>but</text> <text style=background-color:#00ff0012>they</text> <text style=background-color:#00ff001a>can</text> <text style=background-color:#00ff0022>be</text> <text style=background-color:#00ff0008>embarrassing</text> <text style=background-color:#00ff0027>and</text> <text style=background-color:#00ff000b>intimidating</text> <text style=background-color:#00ff000c>to</text> <text style=background-color:#00ff0016>shy</text> <text style=background-color:#00ff0016>individuals</text> <text style=background-color:#00ff001d>the</text> <text style=background-color:#00ff000e>film</text> <text style=background-color:#00ff0006>has</text> <text style=background-color:#00ff000d>been</text> <text style=background-color:#00ff0015>given</text> <text style=background-color:#00ff001d>this</text> <text style=background-color:#00ff0008>title</text> <text style=background-color:#00ff001d>because</text> <text style=background-color:#00ff001b>it</text> <text style=background-color:#00ff0003>deals</text> <text style=background-color:#00ff0029>with</text> <text style=background-color:#00ff001d>the</text> <text style=background-color:#00ff0012>teens</text> <text style=background-color:#00ff001d>first</text> <text style=background-color:#00ff002e>experiences</text> <text style=background-color:#00ff0029>with</text> <text style=background-color:#00ff0006>crushes</text> <text style=background-color:#00ff0027>and</text> <text style=background-color:#00ff00ff>romantic</text> <text style=background-color:#00ff0031>love</text> <br> <text style=background-color:#00ff0013>i</text> <text style=background-color:#00ff000d>watched</text> <text style=background-color:#00ff0021>this</text> <text style=background-color:#00ff0023>movie</text> <text style=background-color:#00ff001e>for</text> <text style=background-color:#00ff0005>a</text> <text style=background-color:#00ff001c>project</text> <text style=background-color:#00ff000e>on</text> <text style=background-color:#00ff0036>love</text> <text style=background-color:#00ff000e>please</text> <text style=background-color:#00ff0014>tell</text> <text style=background-color:#00ff0000>nicolas</text> <text style=background-color:#00ff0005>cage</text> <text style=background-color:#00ff000f>to</text> <text style=background-color:#00ff0025>learn</text> <text style=background-color:#00ff001e>what</text> <text style=background-color:#00ff001f>it</text> <text style=background-color:#00ff0014>would</text> <text style=background-color:#00ff0027>feel</text> <text style=background-color:#00ff001b>like</text> <text style=background-color:#00ff000f>to</text> <text style=background-color:#00ff0026>be</text> <text style=background-color:#00ff0018>his</text> <text style=background-color:#00ff0031>character</text> <text style=background-color:#00ff002b>and</text> <text style=background-color:#00ff0019>then</text> <text style=background-color:#00ff0000>re</text> <text style=background-color:#00ff001b>read</text> <text style=background-color:#00ff0021>the</text> <text style=background-color:#00ff001f>lines</text> <text style=background-color:#00ff0007>he</text> <text style=background-color:#00ff0002>s</text> <text style=background-color:#00ff000c>saying</text> <text style=background-color:#00ff002a>my</text> <text style=background-color:#00ff0045>life</text> <text style=background-color:#00ff001a>cannot</text> <text style=background-color:#00ff000f>go</text> <text style=background-color:#00ff000e>on</text> <text style=background-color:#00ff0013>i</text> <text style=background-color:#00ff0001>accidentally</text> <text style=background-color:#00ff0010>cut</text> <text style=background-color:#00ff000a>off</text> <text style=background-color:#00ff002a>my</text> <text style=background-color:#00ff0029>own</text> <text style=background-color:#00ff000e>hand</text> <text style=background-color:#00ff002a>my</text> <text style=background-color:#00ff0016>brother</text> <text style=background-color:#00ff000b>was</text> <text style=background-color:#00ff0019>close</text> <text style=background-color:#00ff0018>by</text> <text style=background-color:#00ff0011>obviously</text> <text style=background-color:#00ff0018>his</text> <text style=background-color:#00ff000b>fault</text> <text style=background-color:#00ff002b>and</text> <text style=background-color:#00ff000f>since</text> <text style=background-color:#00ff0021>when</text> <text style=background-color:#00ff0022>have</text> <text style=background-color:#00ff003c>happy</text> <text style=background-color:#00ff002d>endings</text> <text style=background-color:#00ff0008>included</text> <text style=background-color:#00ff0021>the</text> <text style=background-color:#00ff003c>nice</text> <text style=background-color:#00ff001f>guy</text> <text style=background-color:#00ff0018>who</text> <text style=background-color:#00ff001c>takes</text> <text style=background-color:#00ff0029>care</text> <text style=background-color:#00ff0021>of</text> <text style=background-color:#00ff0023>mom</text> <text style=background-color:#00ff0024>sad</text> <text style=background-color:#00ff002b>and</text> <text style=background-color:#00ff001b>alone</text> <text style=background-color:#00ff0001>no</text> <text style=background-color:#00ff0001>closure</text> <text style=background-color:#00ff0020>bad</text> <text style=background-color:#00ff000d>script</text> <text style=background-color:#00ff002b>and</text> <text style=background-color:#00ff0003>doesn</text> <text style=background-color:#00ff0002>t</text> <text style=background-color:#00ff0022>have</text> <text style=background-color:#00ff0038>enough</text> <text style=background-color:#00ff0001>extension</text> <text style=background-color:#00ff0021>of</text> <text style=background-color:#00ff0007>minor</text> <text style=background-color:#00ff0020>characters</text> <text style=background-color:#00ff0010>save</text> <text style=background-color:#00ff0028>yourself</text> <text style=background-color:#00ff001a>unless</text> <text style=background-color:#00ff0036>your</text> <text style=background-color:#00ff0013>up</text> <text style=background-color:#00ff001e>for</text> <text style=background-color:#00ff0005>a</text> <text style=background-color:#00ff0043>good</text> <text style=background-color:#00ff0024>laugh</text> <text style=background-color:#00ff000c>costumes</text> <text style=background-color:#00ff0011>were</text> <text style=background-color:#00ff0015>done</text> <text style=background-color:#00ff0003>appropriately</text> <text style=background-color:#00ff002b>and</text> <text style=background-color:#00ff0002>extras</text> <text style=background-color:#00ff000d>did</text> <text style=background-color:#00ff0005>a</text> <text style=background-color:#00ff005e>fabulous</text> <text style=background-color:#00ff000f>job</text> <text style=background-color:#00ff0013>i</text> <text style=background-color:#00ff0002>m</text> <text style=background-color:#00ff001e>sure</text> <text style=background-color:#00ff001f>it</text> <text style=background-color:#00ff0014>would</text> <text style=background-color:#00ff0022>have</text> <text style=background-color:#00ff000f>been</text> <text style=background-color:#00ff0005>a</text> <text style=background-color:#00ff004c>fun</text> <text style=background-color:#00ff0023>movie</text> <text style=background-color:#00ff000f>to</text> <text style=background-color:#00ff002a>make</text> <text style=background-color:#00ff0022>but</text> <text style=background-color:#00ff0025>keep</text> <text style=background-color:#00ff001f>it</text> <text style=background-color:#00ff0036>more</text> <text style=background-color:#00ff0005>genre</text> <text style=background-color:#00ff0015>specific</text> <text style=background-color:#00ff0013>i</text> <text style=background-color:#00ff001e>can</text> <text style=background-color:#00ff0002>t</text> <text style=background-color:#00ff0017>recommend</text> <text style=background-color:#00ff0021>this</text> <text style=background-color:#00ff0023>movie</text> <text style=background-color:#00ff000f>to</text> <text style=background-color:#00ff0018>anyone</text> <text style=background-color:#00ff0013>i</text> <text style=background-color:#00ff001b>know</text> <text style=background-color:#00ff0021>because</text> <text style=background-color:#00ff001f>it</text> <text style=background-color:#00ff0019>is</text> <text style=background-color:#00ff001d>not</text> <text style=background-color:#00ff0019>an</text> <text style=background-color:#00ff0033>intellectual</text> <text style=background-color:#00ff0023>movie</text> <text style=background-color:#00ff001f>it</text> <text style=background-color:#00ff0019>is</text> <text style=background-color:#00ff001d>not</text> <text style=background-color:#00ff0005>a</text> <text style=background-color:#00ff0015>chick</text> <text style=background-color:#00ff000d>flick</text> <text style=background-color:#00ff001f>it</text> <text style=background-color:#00ff0019>is</text> <text style=background-color:#00ff001d>not</text> <text style=background-color:#00ff0005>a</text> <text style=background-color:#00ff0011>strict</text> <text style=background-color:#00ff00ff>romantic</text> <text style=background-color:#00ff002b>and</text> <text style=background-color:#00ff0013>i</text> <text style=background-color:#00ff001e>can</text> <text style=background-color:#00ff0002>t</text> <text style=background-color:#00ff0013>show</text> <text style=background-color:#00ff0022>kids</text> <text style=background-color:#00ff0021>because</text> <text style=background-color:#00ff0021>of</text> <text style=background-color:#00ff0021>the</text> <text style=background-color:#00ff0026>sex</text> <text style=background-color:#00ff002b>and</text> <text style=background-color:#00ff000c>questions</text> <text style=background-color:#00ff000f>to</text> <text style=background-color:#00ff0007>follow</text> <text style=background-color:#00ff0026>all</text> <text style=background-color:#00ff000b>in</text> <text style=background-color:#00ff0026>all</text> <text style=background-color:#00ff0019>just</text> <text style=background-color:#00ff001d>not</text> <text style=background-color:#00ff0005>a</text> <text style=background-color:#00ff0043>good</text> <text style=background-color:#00ff000d>flick</text> <br> <text style=background-color:#00ff000d>i</text> <text style=background-color:#00ff0001>m</text> <text style=background-color:#00ff0006>biased</text> <text style=background-color:#00ff0013>towards</text> <text style=background-color:#00ff0018>any</text> <text style=background-color:#00ff001b>movie</text> <text style=background-color:#00ff0016>that</text> <text style=background-color:#00ff0001>paints</text> <text style=background-color:#00ff0003>a</text> <text style=background-color:#00ff0000>luxuriant</text> <text style=background-color:#00ff0018>picture</text> <text style=background-color:#00ff001a>of</text> <text style=background-color:#00ff0001>italy</text> <text style=background-color:#00ff0007>in</text> <text style=background-color:#00ff0021>my</text> <text style=background-color:#00ff000a>opinion</text> <text style=background-color:#00ff001a>the</text> <text style=background-color:#00ff0029>most</text> <text style=background-color:#00ff00ff>romantic</text> <text style=background-color:#00ff0014>country</text> <text style=background-color:#00ff0007>in</text> <text style=background-color:#00ff001a>the</text> <text style=background-color:#00ff0025>world</text> <text style=background-color:#00ff000a>unfortunately</text> <text style=background-color:#00ff001a>the</text> <text style=background-color:#00ff001b>movie</text> <text style=background-color:#00ff0007>was</text> <text style=background-color:#00ff0024>rather</text> <text style=background-color:#00ff001f>short</text> <text style=background-color:#00ff0001>unusually</text> <text style=background-color:#00ff000f>so</text> <text style=background-color:#00ff0017>for</text> <text style=background-color:#00ff0003>a</text> <text style=background-color:#00ff0010>period</text> <text style=background-color:#00ff001f>piece</text> <text style=background-color:#00ff0022>and</text> <text style=background-color:#00ff0003>a</text> <text style=background-color:#00ff003a>little</text> <text style=background-color:#00ff0000>sparse</text> <text style=background-color:#00ff0009>on</text> <text style=background-color:#00ff001a>the</text> <text style=background-color:#00ff0006>cinematography</text> <text style=background-color:#00ff001d>aspect</text> <text style=background-color:#00ff0018>however</text> <text style=background-color:#00ff001a>the</text> <text style=background-color:#00ff002a>excellent</text> <text style=background-color:#00ff0028>story</text> <text style=background-color:#00ff0029>makes</text> <text style=background-color:#00ff000d>up</text> <text style=background-color:#00ff0017>for</text> <text style=background-color:#00ff0018>it</text> <text style=background-color:#00ff001a>the</text> <text style=background-color:#00ff0006>four</text> <text style=background-color:#00ff0030>ladies</text> <text style=background-color:#00ff0005>embark</text> <text style=background-color:#00ff0009>on</text> <text style=background-color:#00ff0003>a</text> <text style=background-color:#00ff0024>much</text> <text style=background-color:#00ff0010>needed</text> <text style=background-color:#00ff0031>relaxing</text> <text style=background-color:#00ff001e>vacation</text> <text style=background-color:#00ff0024>with</text> <text style=background-color:#00ff0014>problems</text> <text style=background-color:#00ff0009>on</text> <text style=background-color:#00ff001d>their</text> <text style=background-color:#00ff003a>minds</text> <text style=background-color:#00ff0005>over</text> <text style=background-color:#00ff001a>the</text> <text style=background-color:#00ff001e>course</text> <text style=background-color:#00ff001a>of</text> <text style=background-color:#00ff001a>the</text> <text style=background-color:#00ff001b>movie</text> <text style=background-color:#00ff000f>they</text> <text style=background-color:#00ff0014>realize</text> <text style=background-color:#00ff001d>their</text> <text style=background-color:#00ff0014>problems</text> <text style=background-color:#00ff0022>and</text> <text style=background-color:#00ff0006>begin</text> <text style=background-color:#00ff0002>fixing</text> <text style=background-color:#00ff000c>them</text> <text style=background-color:#00ff000f>they</text> <text style=background-color:#00ff000d>believe</text> <text style=background-color:#00ff0000>san</text> <text style=background-color:#00ff0000>salvatore</text> <text style=background-color:#00ff001a>the</text> <text style=background-color:#00ff0007>castle</text> <text style=background-color:#00ff000f>they</text> <text style=background-color:#00ff001e>stay</text> <text style=background-color:#00ff0007>in</text> <text style=background-color:#00ff0004>has</text> <text style=background-color:#00ff0012>an</text> <text style=background-color:#00ff0018>enchanting</text> <text style=background-color:#00ff0013>effect</text> <text style=background-color:#00ff0009>on</text> <text style=background-color:#00ff0019>people</text> <text style=background-color:#00ff0018>it</text> <text style=background-color:#00ff0001>s</text> <text style=background-color:#00ff0003>a</text> <text style=background-color:#00ff0005>tub</text> <text style=background-color:#00ff001a>of</text> <text style=background-color:#00ff002d>love</text> <text style=background-color:#00ff0002>says</text> <text style=background-color:#00ff0000>lottie</text> <text style=background-color:#00ff0000>wilkins</text> <text style=background-color:#00ff0020>you</text> <text style=background-color:#00ff0017>can</text> <text style=background-color:#00ff000b>watch</text> <text style=background-color:#00ff001d>their</text> <text style=background-color:#00ff0001>gradual</text> <text style=background-color:#00ff0016>change</text> <text style=background-color:#00ff0011>from</text> <text style=background-color:#00ff0001>dissatisfied</text> <text style=background-color:#00ff000a>to</text> <text style=background-color:#00ff0002>exuberant</text> <text style=background-color:#00ff0006>as</text> <text style=background-color:#00ff001a>the</text> <text style=background-color:#00ff000b>italian</text> <text style=background-color:#00ff0004>seaside</text> <text style=background-color:#00ff0014>works</text> <text style=background-color:#00ff0017>its</text> <text style=background-color:#00ff0017>magic</text> <text style=background-color:#00ff0009>on</text> <text style=background-color:#00ff000c>them</text> <text style=background-color:#00ff0000>br</text> <text style=background-color:#00ff0000>br</text> <text style=background-color:#00ff001e>all</text> <text style=background-color:#00ff001d>their</text> <text style=background-color:#00ff0014>problems</text> <text style=background-color:#00ff0022>and</text> <text style=background-color:#00ff001d>their</text> <text style=background-color:#00ff0003>solutions</text> <text style=background-color:#00ff0017>are</text> <text style=background-color:#00ff0001>plausible</text> <text style=background-color:#00ff001a>the</text> <text style=background-color:#00ff0008>actresses</text> <text style=background-color:#00ff000c>were</text> <text style=background-color:#00ff0042>great</text> <text style=background-color:#00ff001a>the</text> <text style=background-color:#00ff0012>background</text> <text style=background-color:#00ff0025>music</text> <text style=background-color:#00ff000c>seemed</text> <text style=background-color:#00ff003a>very</text> <text style=background-color:#00ff001b>appropriate</text> <text style=background-color:#00ff0017>for</text> <text style=background-color:#00ff0012>an</text> <text style=background-color:#00ff00ff>romantic</text> <text style=background-color:#00ff000b>italian</text> <text style=background-color:#00ff0000>locale</text> <text style=background-color:#00ff001e>all</text> <text style=background-color:#00ff0007>in</text> <text style=background-color:#00ff001e>all</text> <text style=background-color:#00ff0003>a</text> <text style=background-color:#00ff001b>movie</text> <text style=background-color:#00ff0017>for</text> <text style=background-color:#00ff0001>me</text> <br> <text style=background-color:#00ff0023>the</text> <text style=background-color:#00ff0025>movie</text> <text style=background-color:#00ff0000>wasn</text> <text style=background-color:#00ff0002>t</text> <text style=background-color:#00ff0028>all</text> <text style=background-color:#00ff001f>that</text> <text style=background-color:#00ff004e>great</text> <text style=background-color:#00ff0023>the</text> <text style=background-color:#00ff0029>book</text> <text style=background-color:#00ff001b>is</text> <text style=background-color:#00ff002b>better</text> <text style=background-color:#00ff0024>but</text> <text style=background-color:#00ff0023>the</text> <text style=background-color:#00ff0025>movie</text> <text style=background-color:#00ff0000>wasn</text> <text style=background-color:#00ff0002>t</text> <text style=background-color:#00ff0028>all</text> <text style=background-color:#00ff001f>that</text> <text style=background-color:#00ff0022>bad</text> <text style=background-color:#00ff001b>either</text> <text style=background-color:#00ff0021>it</text> <text style=background-color:#00ff000d>was</text> <text style=background-color:#00ff002c>interesting</text> <text style=background-color:#00ff0010>to</text> <text style=background-color:#00ff0015>say</text> <text style=background-color:#00ff0023>the</text> <text style=background-color:#00ff0018>least</text> <text style=background-color:#00ff0023>the</text> <text style=background-color:#00ff000f>plot</text> <text style=background-color:#00ff000e>had</text> <text style=background-color:#00ff003b>enough</text> <text style=background-color:#00ff000f>suspense</text> <text style=background-color:#00ff0010>to</text> <text style=background-color:#00ff0027>keep</text> <text style=background-color:#00ff0002>me</text> <text style=background-color:#00ff001f>watching</text> <text style=background-color:#00ff0036>although</text> <text style=background-color:#00ff0014>i</text> <text style=background-color:#00ff0000>wouldn</text> <text style=background-color:#00ff0002>t</text> <text style=background-color:#00ff0015>say</text> <text style=background-color:#00ff0014>i</text> <text style=background-color:#00ff000d>was</text> <text style=background-color:#00ff001d>actually</text> <text style=background-color:#00ff0013>interested</text> <text style=background-color:#00ff000c>in</text> <text style=background-color:#00ff0023>the</text> <text style=background-color:#00ff0025>movie</text> <text style=background-color:#00ff0008>itself</text> <text style=background-color:#00ff0001>janine</text> <text style=background-color:#00ff0004>turner</text> <text style=background-color:#00ff002d>and</text> <text style=background-color:#00ff0000>antonio</text> <text style=background-color:#00ff0000>sabato</text> <text style=background-color:#00ff0002>jr</text> <text style=background-color:#00ff0020>are</text> <text style=background-color:#00ff001b>both</text> <text style=background-color:#00ff0044>gorgeous</text> <text style=background-color:#00ff003b>enough</text> <text style=background-color:#00ff0010>to</text> <text style=background-color:#00ff0027>keep</text> <text style=background-color:#00ff002a>you</text> <text style=background-color:#00ff001f>watching</text> <text style=background-color:#00ff0016>they</text> <text style=background-color:#00ff0024>have</text> <text style=background-color:#00ff0006>a</text> <text style=background-color:#00ff001b>few</text> <text style=background-color:#00ff002d>cute</text> <text style=background-color:#00ff002a>scene</text> <text style=background-color:#00ff0002>s</text> <text style=background-color:#00ff001f>that</text> <text style=background-color:#00ff0013>should</text> <text style=background-color:#00ff0006>appeal</text> <text style=background-color:#00ff0010>to</text> <text style=background-color:#00ff0023>the</text> <text style=background-color:#00ff00ff>romantic</text> <text style=background-color:#00ff0002>s</text> <text style=background-color:#00ff0013>overall</text> <text style=background-color:#00ff0014>i</text> <text style=background-color:#00ff0002>d</text> <text style=background-color:#00ff0022>give</text> <text style=background-color:#00ff0023>the</text> <text style=background-color:#00ff0025>movie</text> <text style=background-color:#00ff0006>a</text> <text style=background-color:#00ff0025>or</text> <text style=background-color:#00ff0021>it</text> <text style=background-color:#00ff0000>wasn</text> <text style=background-color:#00ff0002>t</text> <text style=background-color:#00ff0022>bad</text> <text style=background-color:#00ff001b>just</text> <text style=background-color:#00ff0006>a</text> <text style=background-color:#00ff0046>little</text> <text style=background-color:#00ff0013>lacking</text> <text style=background-color:#00ff000f>plot</text> <text style=background-color:#00ff003e>wise</text> <br> <text style=background-color:#00ff0003>ultimately</text> <text style=background-color:#00ff001a>too</text> <text style=background-color:#00ff0013>silly</text> <text style=background-color:#00ff001b>and</text> <text style=background-color:#00ff0005>pointless</text> <text style=background-color:#00ff000c>yes</text> <text style=background-color:#00ff0016>there</text> <text style=background-color:#00ff000d>is</text> <text style=background-color:#00ff0013>the</text> <text style=background-color:#00ff0000>gilded</text> <text style=background-color:#00ff0001>cage</text> <text style=background-color:#00ff0007>metaphor</text> <text style=background-color:#00ff0014>but</text> <text style=background-color:#00ff000a>probably</text> <text style=background-color:#00ff0021>most</text> <text style=background-color:#00ff0014>kids</text> <text style=background-color:#00ff000a>would</text> <text style=background-color:#00ff0013>miss</text> <text style=background-color:#00ff0010>that</text> <text style=background-color:#00ff0002>forgettable</text> <text style=background-color:#00ff0001>instantly</text> <text style=background-color:#00ff0000>br</text> <text style=background-color:#00ff0000>br</text> <text style=background-color:#00ff0007>animation</text> <text style=background-color:#00ff000d>is</text> <text style=background-color:#00ff0003>as</text> <text style=background-color:#00ff0006>we</text> <text style=background-color:#00ff0014>have</text> <text style=background-color:#00ff0003>come</text> <text style=background-color:#00ff0006>to</text> <text style=background-color:#00ff0012>expect</text> <text style=background-color:#00ff0005>super</text> <text style=background-color:#00ff0007>real</text> <text style=background-color:#00ff0013>the</text> <text style=background-color:#00ff0006>plot</text> <text style=background-color:#00ff0004>line</text> <text style=background-color:#00ff000b>could</text> <text style=background-color:#00ff002c>best</text> <text style=background-color:#00ff0017>be</text> <text style=background-color:#00ff0005>described</text> <text style=background-color:#00ff0003>as</text> <text style=background-color:#00ff000d>thin</text> <text style=background-color:#00ff0014>but</text> <text style=background-color:#00ff0003>tenacious</text> <text style=background-color:#00ff0022>although</text> <text style=background-color:#00ff0013>the</text> <text style=background-color:#00ff0028>ending</text> <text style=background-color:#00ff0008>seemed</text> <text style=background-color:#00ff0000>arbitrary</text> <text style=background-color:#00ff0006>to</text> <text style=background-color:#00ff0000>me</text> <text style=background-color:#00ff0000>br</text> <text style=background-color:#00ff0000>br</text> <text style=background-color:#00ff0013>the</text> <text style=background-color:#00ff0000>sewer</text> <text style=background-color:#00ff0000>underworld</text> <text style=background-color:#00ff000d>is</text> <text style=background-color:#00ff0001>a</text> <text style=background-color:#00ff0000>suitably</text> <text style=background-color:#00ff0004>disgusting</text> <text style=background-color:#00ff0024>reflection</text> <text style=background-color:#00ff0013>of</text> <text style=background-color:#00ff0013>the</text> <text style=background-color:#00ff001e>world</text> <text style=background-color:#00ff0006>above</text> <text style=background-color:#00ff001b>and</text> <text style=background-color:#00ff0006>somehow</text> <text style=background-color:#00ff0007>wealth</text> <text style=background-color:#00ff001b>and</text> <text style=background-color:#00ff0005>money</text> <text style=background-color:#00ff000b>seem</text> <text style=background-color:#00ff0006>to</text> <text style=background-color:#00ff0008>count</text> <text style=background-color:#00ff0011>for</text> <text style=background-color:#00ff0001>a</text> <text style=background-color:#00ff0019>lot</text> <text style=background-color:#00ff0016>there</text> <text style=background-color:#00ff001a>too</text> <text style=background-color:#00ff0004>oh</text> <text style=background-color:#00ff000c>yes</text> <text style=background-color:#00ff001b>and</text> <text style=background-color:#00ff0016>there</text> <text style=background-color:#00ff0000>s</text> <text style=background-color:#00ff0001>a</text> <text style=background-color:#00ff00ff>romantic</text> <text style=background-color:#00ff0007>interest</text> <text style=background-color:#00ff001d>with</text> <text style=background-color:#00ff0013>the</text> <text style=background-color:#00ff0016>female</text> <text style=background-color:#00ff0013>being</text> <text style=background-color:#00ff0013>the</text> <text style=background-color:#00ff0006>smarter</text> <text style=background-color:#00ff0025>more</text> <text style=background-color:#00ff0002>savvy</text> <text style=background-color:#00ff001b>and</text> <text style=background-color:#00ff0007>go</text> <text style=background-color:#00ff0007>getting</text> <text style=background-color:#00ff0013>of</text> <text style=background-color:#00ff0013>the</text> <text style=background-color:#00ff0002>pair</text> <text style=background-color:#00ff0013>this</text> <text style=background-color:#00ff0004>in</text> <text style=background-color:#00ff0002>itself</text> <text style=background-color:#00ff000d>is</text> <text style=background-color:#00ff0000>rapidly</text> <text style=background-color:#00ff0013>becoming</text> <text style=background-color:#00ff0001>a</text> <text style=background-color:#00ff0001>tiresome</text> <text style=background-color:#00ff0000>anti</text> <text style=background-color:#00ff0001>stereotype</text> <text style=background-color:#00ff000a>probably</text> <text style=background-color:#00ff0025>your</text> <text style=background-color:#00ff0014>kids</text> <text style=background-color:#00ff000a>will</text> <text style=background-color:#00ff0025>love</text> <text style=background-color:#00ff0012>it</text> <text style=background-color:#00ff000c>though</text> <br> <text style=background-color:#00ff0009>fever</text> <text style=background-color:#00ff000a>pitch</text> <text style=background-color:#00ff0017>is</text> <text style=background-color:#00ff0005>a</text> <text style=background-color:#00ff0049>fun</text> <text style=background-color:#00ff0036>enough</text> <text style=background-color:#00ff0021>movie</text> <text style=background-color:#00ff001d>it</text> <text style=background-color:#00ff0006>has</text> <text style=background-color:#00ff0005>a</text> <text style=background-color:#00ff0027>lot</text> <text style=background-color:#00ff001f>of</text> <text style=background-color:#00ff0016>funny</text> <text style=background-color:#00ff0035>moments</text> <text style=background-color:#00ff000c>including</text> <text style=background-color:#00ff0005>a</text> <text style=background-color:#00ff0001>hilariously</text> <text style=background-color:#00ff0010>disturbing</text> <text style=background-color:#00ff001a>shower</text> <text style=background-color:#00ff0026>scene</text> <text style=background-color:#00ff0019>like</text> <text style=background-color:#00ff002f>most</text> <text style=background-color:#00ff00ff>romantic</text> <text style=background-color:#00ff000c>comedies</text> <text style=background-color:#00ff001d>it</text> <text style=background-color:#00ff0006>has</text> <text style=background-color:#00ff0005>a</text> <text style=background-color:#00ff0008>dead</text> <text style=background-color:#00ff000a>zone</text> <text style=background-color:#00ff000a>in</text> <text style=background-color:#00ff001f>the</text> <text style=background-color:#00ff0010>middle</text> <text style=background-color:#00ff0016>where</text> <text style=background-color:#00ff0024>all</text> <text style=background-color:#00ff001f>the</text> <text style=background-color:#00ff0010>heavy</text> <text style=background-color:#00ff0014>she</text> <text style=background-color:#00ff0001>s</text> <text style=background-color:#00ff0006>breaking</text> <text style=background-color:#00ff0012>up</text> <text style=background-color:#00ff002b>with</text> <text style=background-color:#00ff0002>me</text> <text style=background-color:#00ff0026>stuff</text> <text style=background-color:#00ff0019>happens</text> <text style=background-color:#00ff0020>but</text> <text style=background-color:#00ff0021>other</text> <text style=background-color:#00ff0028>than</text> <text style=background-color:#00ff001b>that</text> <text style=background-color:#00ff001d>it</text> <text style=background-color:#00ff0007>continues</text> <text style=background-color:#00ff000d>to</text> <text style=background-color:#00ff0024>be</text> <text style=background-color:#00ff0016>funny</text> <text style=background-color:#00ff0016>until</text> <text style=background-color:#00ff001f>the</text> <text style=background-color:#00ff001a>end</text> <text style=background-color:#00ff0000>br</text> <text style=background-color:#00ff0000>br</text> <text style=background-color:#00ff0013>even</text> <text style=background-color:#00ff0016>though</text> <text style=background-color:#00ff001f>the</text> <text style=background-color:#00ff000d>plot</text> <text style=background-color:#00ff0004>revolves</text> <text style=background-color:#00ff0014>around</text> <text style=background-color:#00ff0004>fanaticism</text> <text style=background-color:#00ff0018>towards</text> <text style=background-color:#00ff001f>the</text> <text style=background-color:#00ff000a>red</text> <text style=background-color:#00ff0000>sox</text> <text style=background-color:#00ff001d>it</text> <text style=background-color:#00ff0001>s</text> <text style=background-color:#00ff001b>not</text> <text style=background-color:#00ff0003>overloaded</text> <text style=background-color:#00ff002b>with</text> <text style=background-color:#00ff0007>sports</text> <text style=background-color:#00ff0026>you</text> <text style=background-color:#00ff0003>don</text> <text style=background-color:#00ff0002>t</text> <text style=background-color:#00ff0020>have</text> <text style=background-color:#00ff000d>to</text> <text style=background-color:#00ff0024>be</text> <text style=background-color:#00ff0005>a</text> <text style=background-color:#00ff000b>fan</text> <text style=background-color:#00ff000d>to</text> <text style=background-color:#00ff0051>enjoy</text> <text style=background-color:#00ff001f>this</text> <text style=background-color:#00ff000f>film</text> <text style=background-color:#00ff0000>br</text> <text style=background-color:#00ff0000>br</text> <text style=background-color:#00ff001f>of</text> <text style=background-color:#00ff0024>course</text> <text style=background-color:#00ff001b>that</text> <text style=background-color:#00ff0001>s</text> <text style=background-color:#00ff002e>easy</text> <text style=background-color:#00ff001c>for</text> <text style=background-color:#00ff0002>me</text> <text style=background-color:#00ff000d>to</text> <text style=background-color:#00ff0012>say</text> <text style=background-color:#00ff0011>i</text> <text style=background-color:#00ff0000>ve</text> <text style=background-color:#00ff000e>been</text> <text style=background-color:#00ff0005>a</text> <text style=background-color:#00ff000a>red</text> <text style=background-color:#00ff0000>sox</text> <text style=background-color:#00ff000b>fan</text> <text style=background-color:#00ff000e>since</text> <text style=background-color:#00ff0011>i</text> <text style=background-color:#00ff000a>was</text> <text style=background-color:#00ff0005>a</text> <text style=background-color:#00ff001c>boy</text> <text style=background-color:#00ff0027>too</text> <text style=background-color:#00ff0000>br</text> <text style=background-color:#00ff0000>br</text> <text style=background-color:#00ff0013>out</text> <text style=background-color:#00ff001f>of</text> <text style=background-color:#00ff0000>br</text> <text style=background-color:#00ff0000>br</text> <text style=background-color:#00ff0000>barky</text> <br> <text style=background-color:#00ff001f>the</text> <text style=background-color:#00ff0007>pioneering</text> <text style=background-color:#00ff0005>technicolor</text> <text style=background-color:#00ff0009>cinematography</text> <text style=background-color:#00ff000c>winner</text> <text style=background-color:#00ff001f>of</text> <text style=background-color:#00ff0054>special</text> <text style=background-color:#00ff0004>technical</text> <text style=background-color:#00ff0014>achievement</text> <text style=background-color:#00ff0003>oscar</text> <text style=background-color:#00ff0017>is</text> <text style=background-color:#00ff0037>indeed</text> <text style=background-color:#00ff001e>enchanting</text> <text style=background-color:#00ff0007>add</text> <text style=background-color:#00ff0017>an</text> <text style=background-color:#00ff003e>endless</text> <text style=background-color:#00ff0048>variety</text> <text style=background-color:#00ff001f>of</text> <text style=background-color:#00ff0032>glamorous</text> <text style=background-color:#00ff000b>costumes</text> <text style=background-color:#00ff0029>and</text> <text style=background-color:#00ff0005>a</text> <text style=background-color:#00ff00ff>romantic</text> <text style=background-color:#00ff0002>cinema</text> <text style=background-color:#00ff006b>dream</text> <text style=background-color:#00ff000a>team</text> <text style=background-color:#00ff0019>like</text> <text style=background-color:#00ff0000>marlene</text> <text style=background-color:#00ff0000>dietrich</text> <text style=background-color:#00ff0029>and</text> <text style=background-color:#00ff0003>charles</text> <text style=background-color:#00ff0000>boyer</text> <text style=background-color:#00ff0029>and</text> <text style=background-color:#00ff0026>you</text> <text style=background-color:#00ff0000>ve</text> <text style=background-color:#00ff000b>got</text> <text style=background-color:#00ff0005>a</text> <text style=background-color:#00ff002a>rather</text> <text style=background-color:#00ff0031>pleasant</text> <text style=background-color:#00ff001d>picture</text> <text style=background-color:#00ff0000>br</text> <text style=background-color:#00ff0000>br</text> <text style=background-color:#00ff000e>unfortunately</text> <text style=background-color:#00ff001f>the</text> <text style=background-color:#00ff0001>contrived</text> <text style=background-color:#00ff000d>plot</text> <text style=background-color:#00ff0008>as</text> <text style=background-color:#00ff001c>well</text> <text style=background-color:#00ff0008>as</text> <text style=background-color:#00ff001f>the</text> <text style=background-color:#00ff0007>over</text> <text style=background-color:#00ff0007>blown</text> <text style=background-color:#00ff0020>acting</text> <text style=background-color:#00ff0012>leave</text> <text style=background-color:#00ff002b>much</text> <text style=background-color:#00ff000d>to</text> <text style=background-color:#00ff0024>be</text> <text style=background-color:#00ff0010>desired</text> <text style=background-color:#00ff0015>still</text> <text style=background-color:#00ff0022>there</text> <text style=background-color:#00ff0020>have</text> <text style=background-color:#00ff001b>not</text> <text style=background-color:#00ff000e>been</text> <text style=background-color:#00ff001d>any</text> <text style=background-color:#00ff0034>more</text> <text style=background-color:#00ff0018>breathtaking</text> <text style=background-color:#00ff0005>technicolor</text> <text style=background-color:#00ff000f>films</text> <text style=background-color:#00ff0015>before</text> <text style=background-color:#00ff001f>this</text> <text style=background-color:#00ff001e>one</text> <text style=background-color:#00ff0029>and</text> <text style=background-color:#00ff0041>very</text> <text style=background-color:#00ff0018>few</text> <text style=background-color:#00ff000e>since</text> <text style=background-color:#00ff0017>then</text> <text style=background-color:#00ff001b>that</text> <text style=background-color:#00ff001c>can</text> <text style=background-color:#00ff000d>top</text> <text style=background-color:#00ff001f>this</text> <text style=background-color:#00ff0018>breathtaking</text> <text style=background-color:#00ff0014>visual</text> <text style=background-color:#00ff0046>experience</text> <text style=background-color:#00ff001f>of</text> <text style=background-color:#00ff0031>stunning</text> <text style=background-color:#00ff0016>colors</text> <text style=background-color:#00ff0002>cinema</text> <text style=background-color:#00ff0009>fans</text> <text style=background-color:#00ff0016>who</text> <text style=background-color:#00ff0020>have</text> <text style=background-color:#00ff0031>enjoyed</text> <text style=background-color:#00ff001f>the</text> <text style=background-color:#00ff0041>glorious</text> <text style=background-color:#00ff0007>color</text> <text style=background-color:#00ff0009>cinematography</text> <text style=background-color:#00ff000a>in</text> <text style=background-color:#00ff0004>robin</text> <text style=background-color:#00ff0008>hood</text> <text style=background-color:#00ff0003>jesse</text> <text style=background-color:#00ff0004>james</text> <text style=background-color:#00ff0029>and</text> <text style=background-color:#00ff0008>gone</text> <text style=background-color:#00ff002b>with</text> <text style=background-color:#00ff001f>the</text> <text style=background-color:#00ff0001>wind</text> <text style=background-color:#00ff0013>will</text> <text style=background-color:#00ff001b>not</text> <text style=background-color:#00ff0024>be</text> <text style=background-color:#00ff000e>disappointed</text> <text style=background-color:#00ff000a>in</text> <text style=background-color:#00ff001f>the</text> <text style=background-color:#00ff0051>fantastic</text> <text style=background-color:#00ff001f>work</text> <text style=background-color:#00ff0013>done</text> <text style=background-color:#00ff001a>here</text> <text style=background-color:#00ff001f>the</text> <text style=background-color:#00ff0019>garden</text> <text style=background-color:#00ff001f>of</text> <text style=background-color:#00ff0002>allah</text> <text style=background-color:#00ff0013>will</text> <text style=background-color:#00ff0031>always</text> <text style=background-color:#00ff0024>be</text> <text style=background-color:#00ff0004>synonymous</text> <text style=background-color:#00ff002b>with</text> <text style=background-color:#00ff002f>brilliant</text> <text style=background-color:#00ff0007>color</text> <text style=background-color:#00ff0009>cinematography</text> <br> <text style=background-color:#00ff000b>i</text> <text style=background-color:#00ff0004>went</text> <text style=background-color:#00ff0008>to</text> <text style=background-color:#00ff0012>see</text> <text style=background-color:#00ff0005>fever</text> <text style=background-color:#00ff0006>pitch</text> <text style=background-color:#00ff0020>with</text> <text style=background-color:#00ff001d>my</text> <text style=background-color:#00ff0018>mom</text> <text style=background-color:#00ff001f>and</text> <text style=background-color:#00ff000b>i</text> <text style=background-color:#00ff0014>can</text> <text style=background-color:#00ff000b>say</text> <text style=background-color:#00ff0013>that</text> <text style=background-color:#00ff0008>we</text> <text style=background-color:#00ff0010>both</text> <text style=background-color:#00ff002f>loved</text> <text style=background-color:#00ff0014>it</text> <text style=background-color:#00ff0014>it</text> <text style=background-color:#00ff0000>wasn</text> <text style=background-color:#00ff0001>t</text> <text style=background-color:#00ff0016>the</text> <text style=background-color:#00ff0011>typical</text> <text style=background-color:#00ff00ff>romantic</text> <text style=background-color:#00ff0016>comedy</text> <text style=background-color:#00ff000f>where</text> <text style=background-color:#00ff0017>someone</text> <text style=background-color:#00ff000f>is</text> <text style=background-color:#00ff0000>pining</text> <text style=background-color:#00ff0014>for</text> <text style=background-color:#00ff0016>the</text> <text style=background-color:#00ff0017>other</text> <text style=background-color:#00ff001f>and</text> <text style=background-color:#00ff0001>blah</text> <text style=background-color:#00ff0001>blah</text> <text style=background-color:#00ff0001>blah</text> <text style=background-color:#00ff001c>you</text> <text style=background-color:#00ff0000>weren</text> <text style=background-color:#00ff0001>t</text> <text style=background-color:#00ff0014>waiting</text> <text style=background-color:#00ff0014>for</text> <text style=background-color:#00ff0016>the</text> <text style=background-color:#00ff0000>climatic</text> <text style=background-color:#00ff0016>first</text> <text style=background-color:#00ff001d>kiss</text> <text style=background-color:#00ff0018>or</text> <text style=background-color:#00ff0014>for</text> <text style=background-color:#00ff000a>them</text> <text style=background-color:#00ff0008>to</text> <text style=background-color:#00ff0008>finally</text> <text style=background-color:#00ff000b>get</text> <text style=background-color:#00ff0020>together</text> <text style=background-color:#00ff0014>it</text> <text style=background-color:#00ff0006>was</text> <text style=background-color:#00ff0029>more</text> <text style=background-color:#00ff0009>real</text> <text style=background-color:#00ff0016>because</text> <text style=background-color:#00ff001c>you</text> <text style=background-color:#00ff000c>saw</text> <text style=background-color:#00ff000a>them</text> <text style=background-color:#00ff000e>through</text> <text style=background-color:#00ff0016>the</text> <text style=background-color:#00ff0044>relationship</text> <text style=background-color:#00ff0020>rather</text> <text style=background-color:#00ff001e>than</text> <text style=background-color:#00ff0016>the</text> <text style=background-color:#00ff0017>whole</text> <text style=background-color:#00ff0018>movie</text> <text style=background-color:#00ff001a>be</text> <text style=background-color:#00ff0019>about</text> <text style=background-color:#00ff000a>them</text> <text style=background-color:#00ff0009>getting</text> <text style=background-color:#00ff0020>together</text> <text style=background-color:#00ff0015>people</text> <text style=background-color:#00ff000d>could</text> <text style=background-color:#00ff0011>actually</text> <text style=background-color:#00ff000e>relate</text> <text style=background-color:#00ff0008>to</text> <text style=background-color:#00ff0016>the</text> <text style=background-color:#00ff0009>film</text> <text style=background-color:#00ff0016>because</text> <text style=background-color:#00ff0014>it</text> <text style=background-color:#00ff0000>didn</text> <text style=background-color:#00ff0001>t</text> <text style=background-color:#00ff000d>seem</text> <text style=background-color:#00ff0011>like</text> <text style=background-color:#00ff0047>extraordinary</text> <text style=background-color:#00ff000f>circumstances</text> <text style=background-color:#00ff0018>or</text> <text style=background-color:#00ff0017>impossible</text> <text style=background-color:#00ff000d>situations</text> <text style=background-color:#00ff0014>it</text> <text style=background-color:#00ff0006>was</text> <text style=background-color:#00ff0014>really</text> <text style=background-color:#00ff000f>funny</text> <text style=background-color:#00ff001f>and</text> <text style=background-color:#00ff000b>i</text> <text style=background-color:#00ff0011>think</text> <text style=background-color:#00ff0014>it</text> <text style=background-color:#00ff0006>was</text> <text style=background-color:#00ff0002>jimmy</text> <text style=background-color:#00ff0000>fallon</text> <text style=background-color:#00ff0000>s</text> <text style=background-color:#00ff0031>best</text> <text style=background-color:#00ff001d>performance</text> <text style=background-color:#00ff001a>all</text> <text style=background-color:#00ff0005>in</text> <text style=background-color:#00ff001a>all</text> <text style=background-color:#00ff000b>i</text> <text style=background-color:#00ff000c>would</text> <text style=background-color:#00ff0019>definitely</text> <text style=background-color:#00ff000e>recommend</text> <text style=background-color:#00ff0014>it</text> <br> <text style=background-color:#00ff0015>i</text> <text style=background-color:#00ff000e>watched</text> <text style=background-color:#00ff0024>the</text> <text style=background-color:#00ff0025>movie</text> <text style=background-color:#00ff0020>while</text> <text style=background-color:#00ff0005>recovering</text> <text style=background-color:#00ff0019>from</text> <text style=background-color:#00ff0019>major</text> <text style=background-color:#00ff000a>surgery</text> <text style=background-color:#00ff0020>while</text> <text style=background-color:#00ff0015>i</text> <text style=background-color:#00ff0010>knew</text> <text style=background-color:#00ff0022>it</text> <text style=background-color:#00ff000d>was</text> <text style=background-color:#00ff0024>only</text> <text style=background-color:#00ff0006>a</text> <text style=background-color:#00ff0005>b</text> <text style=background-color:#00ff0012>film</text> <text style=background-color:#00ff0006>a</text> <text style=background-color:#00ff001a>space</text> <text style=background-color:#00ff000a>western</text> <text style=background-color:#00ff0015>i</text> <text style=background-color:#00ff0040>loved</text> <text style=background-color:#00ff0022>it</text> <text style=background-color:#00ff0022>it</text> <text style=background-color:#00ff001b>may</text> <text style=background-color:#00ff0025>have</text> <text style=background-color:#00ff0006>lacked</text> <text style=background-color:#00ff0024>the</text> <text style=background-color:#00ff0005>flash</text> <text style=background-color:#00ff0024>of</text> <text style=background-color:#00ff0018>high</text> <text style=background-color:#00ff0002>dollar</text> <text style=background-color:#00ff0007>productions</text> <text style=background-color:#00ff0022>it</text> <text style=background-color:#00ff0001>non</text> <text style=background-color:#00ff0024>the</text> <text style=background-color:#00ff0024>less</text> <text style=background-color:#00ff0007>held</text> <text style=background-color:#00ff002d>my</text> <text style=background-color:#00ff0042>imagination</text> <text style=background-color:#00ff002e>and</text> <text style=background-color:#00ff000a>provided</text> <text style=background-color:#00ff004f>great</text> <text style=background-color:#00ff0002>escapism</text> <text style=background-color:#00ff000e>sadly</text> <text style=background-color:#00ff0036>our</text> <text style=background-color:#00ff0022>society</text> <text style=background-color:#00ff0009>has</text> <text style=background-color:#00ff0017>so</text> <text style=background-color:#00ff0030>much</text> <text style=background-color:#00ff000c>available</text> <text style=background-color:#00ff0000>discounting</text> <text style=background-color:#00ff002f>small</text> <text style=background-color:#00ff0006>attempts</text> <text style=background-color:#00ff001b>is</text> <text style=background-color:#00ff002c>too</text> <text style=background-color:#00ff0033>easy</text> <text style=background-color:#00ff000d>in</text> <text style=background-color:#00ff0024>the</text> <text style=background-color:#00ff0025>same</text> <text style=background-color:#00ff002c>way</text> <text style=background-color:#00ff0020>that</text> <text style=background-color:#00ff0015>i</text> <text style=background-color:#00ff0021>can</text> <text style=background-color:#00ff0057>enjoy</text> <text style=background-color:#00ff0006>a</text> <text style=background-color:#00ff0017>even</text> <text style=background-color:#00ff0006>a</text> <text style=background-color:#00ff000a>grade</text> <text style=background-color:#00ff000d>school</text> <text style=background-color:#00ff002c>performance</text> <text style=background-color:#00ff0024>of</text> <text style=background-color:#00ff000b>shakespeare</text> <text style=background-color:#00ff0015>i</text> <text style=background-color:#00ff0021>can</text> <text style=background-color:#00ff0047>appreciate</text> <text style=background-color:#00ff001e>many</text> <text style=background-color:#00ff0009>levels</text> <text style=background-color:#00ff0024>of</text> <text style=background-color:#00ff0018>achievement</text> <text style=background-color:#00ff0021>for</text> <text style=background-color:#00ff0024>the</text> <text style=background-color:#00ff0031>art</text> <text style=background-color:#00ff000f>sake</text> <text style=background-color:#00ff0015>i</text> <text style=background-color:#00ff0010>am</text> <text style=background-color:#00ff0006>a</text> <text style=background-color:#00ff0003>cop</text> <text style=background-color:#00ff002e>and</text> <text style=background-color:#00ff0011>found</text> <text style=background-color:#00ff000c>affinity</text> <text style=background-color:#00ff0030>with</text> <text style=background-color:#00ff0024>the</text> <text style=background-color:#00ff0003>retired</text> <text style=background-color:#00ff0000>lapd</text> <text style=background-color:#00ff005f>dreams</text> <text style=background-color:#00ff001d>like</text> <text style=background-color:#00ff001a>his</text> <text style=background-color:#00ff0009>haunt</text> <text style=background-color:#00ff0003>me</text> <text style=background-color:#00ff0020>that</text> <text style=background-color:#00ff0015>i</text> <text style=background-color:#00ff0017>will</text> <text style=background-color:#00ff0029>be</text> <text style=background-color:#00ff0006>unable</text> <text style=background-color:#00ff000d>in</text> <text style=background-color:#00ff0024>the</text> <text style=background-color:#00ff0032>moment</text> <text style=background-color:#00ff0024>of</text> <text style=background-color:#00ff0000>crisis</text> <text style=background-color:#00ff0029>be</text> <text style=background-color:#00ff0020>able</text> <text style=background-color:#00ff0011>to</text> <text style=background-color:#00ff0004>respond</text> <text style=background-color:#00ff0011>to</text> <text style=background-color:#00ff0012>save</text> <text style=background-color:#00ff0029>another</text> <text style=background-color:#00ff0002>s</text> <text style=background-color:#00ff0049>life</text> <text style=background-color:#00ff0026>or</text> <text style=background-color:#00ff002d>my</text> <text style=background-color:#00ff002c>own</text> <text style=background-color:#00ff0020>while</text> <text style=background-color:#00ff0022>it</text> <text style=background-color:#00ff000d>was</text> <text style=background-color:#00ff0006>a</text> <text style=background-color:#00ff00ff>romantic</text> <text style=background-color:#00ff003d>ending</text> <text style=background-color:#00ff001a>where</text> <text style=background-color:#00ff0000>farnsworth</text> <text style=background-color:#00ff000e>did</text> <text style=background-color:#00ff0022>take</text> <text style=background-color:#00ff0017>out</text> <text style=background-color:#00ff0024>the</text> <text style=background-color:#00ff0023>bad</text> <text style=background-color:#00ff0021>guy</text> <text style=background-color:#00ff0010>predictable</text> <text style=background-color:#00ff0015>i</text> <text style=background-color:#00ff0019>needed</text> <text style=background-color:#00ff0006>a</text> <text style=background-color:#00ff0047>little</text> <text style=background-color:#00ff003f>happy</text> <text style=background-color:#00ff0035>romance</text> <text style=background-color:#00ff001a>where</text> <text style=background-color:#00ff0046>good</text> <text style=background-color:#00ff0021>can</text> <text style=background-color:#00ff0008>triumph</text> <text style=background-color:#00ff002d>my</text> <text style=background-color:#00ff0031>world</text> <text style=background-color:#00ff001b>is</text> <text style=background-color:#00ff0022>really</text> <text style=background-color:#00ff002c>too</text> <text style=background-color:#00ff000d>cynical</text> <br> <text style=background-color:#00ff0011>i</text> <text style=background-color:#00ff000d>found</text> <text style=background-color:#00ff001f>this</text> <text style=background-color:#00ff000f>film</text> <text style=background-color:#00ff000d>to</text> <text style=background-color:#00ff0024>be</text> <text style=background-color:#00ff0017>an</text> <text style=background-color:#00ff0008>utter</text> <text style=background-color:#00ff0001>dissapointment</text> <text style=background-color:#00ff001f>the</text> <text style=background-color:#00ff0030>talent</text> <text style=background-color:#00ff0009>available</text> <text style=background-color:#00ff000d>to</text> <text style=background-color:#00ff001f>the</text> <text style=background-color:#00ff0002>director</text> <text style=background-color:#00ff0000>notably</text> <text style=background-color:#00ff0000>stanley</text> <text style=background-color:#00ff0000>tucci</text> <text style=background-color:#00ff0004>chris</text> <text style=background-color:#00ff0000>walken</text> <text style=background-color:#00ff0001>hank</text> <text style=background-color:#00ff0000>azaria</text> <text style=background-color:#00ff0029>and</text> <text style=background-color:#00ff0000>alan</text> <text style=background-color:#00ff0000>arkin</text> <text style=background-color:#00ff0024>without</text> <text style=background-color:#00ff0013>even</text> <text style=background-color:#00ff0002>mentioning</text> <text style=background-color:#00ff001f>the</text> <text style=background-color:#00ff0009>four</text> <text style=background-color:#00ff0004>main</text> <text style=background-color:#00ff0004>leads</text> <text style=background-color:#00ff0020>have</text> <text style=background-color:#00ff000e>been</text> <text style=background-color:#00ff000a>completely</text> <text style=background-color:#00ff0017>wasted</text> <text style=background-color:#00ff000c>on</text> <text style=background-color:#00ff0017>an</text> <text style=background-color:#00ff0004>unfunny</text> <text style=background-color:#00ff0007>mediocre</text> <text style=background-color:#00ff002f>story</text> <text style=background-color:#00ff002d>whose</text> <text style=background-color:#00ff0010>conclusion</text> <text style=background-color:#00ff001e>one</text> <text style=background-color:#00ff0000>couldn</text> <text style=background-color:#00ff0002>t</text> <text style=background-color:#00ff001d>really</text> <text style=background-color:#00ff0027>care</text> <text style=background-color:#00ff0022>about</text> <text style=background-color:#00ff0010>once</text> <text style=background-color:#00ff0003>introduced</text> <text style=background-color:#00ff000d>to</text> <text style=background-color:#00ff001f>the</text> <text style=background-color:#00ff0001>dire</text> <text style=background-color:#00ff0001>stereo</text> <text style=background-color:#00ff0000>typed</text> <text style=background-color:#00ff001e>characters</text> <text style=background-color:#00ff0002>julia</text> <text style=background-color:#00ff0003>roberts</text> <text style=background-color:#00ff0017>is</text> <text style=background-color:#00ff0001>feeble</text> <text style=background-color:#00ff0001>zeta</text> <text style=background-color:#00ff0004>jones</text> <text style=background-color:#00ff0017>is</text> <text style=background-color:#00ff0018>just</text> <text style=background-color:#00ff000b>plain</text> <text style=background-color:#00ff0011>annoying</text> <text style=background-color:#00ff0005>appearing</text> <text style=background-color:#00ff000d>to</text> <text style=background-color:#00ff0000>reprise</text> <text style=background-color:#00ff0012>her</text> <text style=background-color:#00ff000d>role</text> <text style=background-color:#00ff0015>from</text> <text style=background-color:#00ff0014>high</text> <text style=background-color:#00ff0001>fidelity</text> <text style=background-color:#00ff0018>minus</text> <text style=background-color:#00ff001f>the</text> <text style=background-color:#00ff0017>humour</text> <text style=background-color:#00ff0008>crystal</text> <text style=background-color:#00ff0018>just</text> <text style=background-color:#00ff0009>plays</text> <text style=background-color:#00ff0016>his</text> <text style=background-color:#00ff0021>same</text> <text style=background-color:#00ff0021>old</text> <text style=background-color:#00ff0013>hyper</text> <text style=background-color:#00ff0024>active</text> <text style=background-color:#00ff0002>neurotic</text> <text style=background-color:#00ff0011>annoying</text> <text style=background-color:#00ff0008>alter</text> <text style=background-color:#00ff0007>ego</text> <text style=background-color:#00ff0029>and</text> <text style=background-color:#00ff0000>cusack</text> <text style=background-color:#00ff0028>simply</text> <text style=background-color:#00ff000b>walks</text> <text style=background-color:#00ff0015>through</text> <text style=background-color:#00ff0016>his</text> <text style=background-color:#00ff002f>part</text> <text style=background-color:#00ff0009>apparently</text> <text style=background-color:#00ff000a>bored</text> <text style=background-color:#00ff002b>with</text> <text style=background-color:#00ff001f>the</text> <text style=background-color:#00ff0020>whole</text> <text style=background-color:#00ff001a>project</text> <text style=background-color:#00ff0000>br</text> <text style=background-color:#00ff0000>br</text> <text style=background-color:#00ff001d>for</text> <text style=background-color:#00ff001c>what</text> <text style=background-color:#00ff0017>is</text> <text style=background-color:#00ff0017>supposed</text> <text style=background-color:#00ff000d>to</text> <text style=background-color:#00ff0024>be</text> <text style=background-color:#00ff0005>a</text> <text style=background-color:#00ff00ff>romantic</text> <text style=background-color:#00ff001f>comedy</text> <text style=background-color:#00ff0022>there</text> <text style=background-color:#00ff0017>is</text> <text style=background-color:#00ff0017>absolutely</text> <text style=background-color:#00ff0000>no</text> <text style=background-color:#00ff0030>romance</text> <text style=background-color:#00ff0018>between</text> <text style=background-color:#00ff001f>the</text> <text style=background-color:#00ff0000>central</text> <text style=background-color:#00ff001e>characters</text> <text style=background-color:#00ff0019>let</text> <text style=background-color:#00ff0019>alone</text> <text style=background-color:#00ff000a>chemistry</text> <text style=background-color:#00ff0029>and</text> <text style=background-color:#00ff0008>as</text> <text style=background-color:#00ff001d>for</text> <text style=background-color:#00ff001f>the</text> <text style=background-color:#00ff001f>comedy</text> <text style=background-color:#00ff0015>possible</text> <text style=background-color:#00ff0001>spoilers</text> <text style=background-color:#00ff001c>well</text> <text style=background-color:#00ff001f>the</text> <text style=background-color:#00ff001f>only</text> <text style=background-color:#00ff0036>moments</text> <text style=background-color:#00ff001f>of</text> <text style=background-color:#00ff0010>mild</text> <text style=background-color:#00ff0017>humour</text> <text style=background-color:#00ff000c>came</text> <text style=background-color:#00ff0009>off</text> <text style=background-color:#00ff001f>the</text> <text style=background-color:#00ff0009>back</text> <text style=background-color:#00ff001f>of</text> <text style=background-color:#00ff0000>cusack</text> <text style=background-color:#00ff0001>s</text> <text style=background-color:#00ff000d>role</text> <text style=background-color:#00ff000a>in</text> <text style=background-color:#00ff0001>grosse</text> <text style=background-color:#00ff0001>pointe</text> <text style=background-color:#00ff0029>and</text> <text style=background-color:#00ff0016>his</text> <text style=background-color:#00ff0051>relationship</text> <text style=background-color:#00ff002b>with</text> <text style=background-color:#00ff0000>alan</text> <text style=background-color:#00ff0000>arkin</text> <text style=background-color:#00ff001f>the</text> <text style=background-color:#00ff0001>scriptwriter</text> <text style=background-color:#00ff000f>obviously</text> <text style=background-color:#00ff0004>unable</text> <text style=background-color:#00ff000d>to</text> <text style=background-color:#00ff0011>show</text> <text style=background-color:#00ff001e>any</text> <text style=background-color:#00ff0009>originality</text> <text style=background-color:#00ff0007>whatsoever</text> <text style=background-color:#00ff0001>spoilers</text> <text style=background-color:#00ff0000>azaria</text> <text style=background-color:#00ff000a>was</text> <text style=background-color:#00ff0004>reasonably</text> <text style=background-color:#00ff000c>amusing</text> <text style=background-color:#00ff0008>as</text> <text style=background-color:#00ff001f>the</text> <text style=background-color:#00ff000b>mexican</text> <text style=background-color:#00ff007d>lover</text> <text style=background-color:#00ff0029>and</text> <text style=background-color:#00ff0000>walken</text> <text style=background-color:#00ff000b>did</text> <text style=background-color:#00ff001a>quite</text> <text style=background-color:#00ff0017>an</text> <text style=background-color:#00ff000c>amusing</text> <text style=background-color:#00ff001c>turn</text> <text style=background-color:#00ff0008>as</text> <text style=background-color:#00ff0005>a</text> <text style=background-color:#00ff000c>parody</text> <text style=background-color:#00ff001f>of</text> <text style=background-color:#00ff0017>an</text> <text style=background-color:#00ff0000>arthouse</text> <text style=background-color:#00ff0000>maverick</text> <text style=background-color:#00ff0000>dogme</text> <text style=background-color:#00ff0029>type</text> <text style=background-color:#00ff0002>director</text> <text style=background-color:#00ff0020>but</text> <text style=background-color:#00ff0014>these</text> <text style=background-color:#00ff000f>parts</text> <text style=background-color:#00ff0000>constituted</text> <text style=background-color:#00ff0041>very</text> <text style=background-color:#00ff0042>little</text> <text style=background-color:#00ff0005>screen</text> <text style=background-color:#00ff0020>time</text> <text style=background-color:#00ff0029>and</text> <text style=background-color:#00ff0016>instead</text> <text style=background-color:#00ff0001>spoilers</text> <text style=background-color:#00ff000e>we</text> <text style=background-color:#00ff0010>were</text> <text style=background-color:#00ff0012>treated</text> <text style=background-color:#00ff000d>to</text> <text style=background-color:#00ff000c>billy</text> <text style=background-color:#00ff0008>crystal</text> <text style=background-color:#00ff0031>having</text> <text style=background-color:#00ff0016>his</text> <text style=background-color:#00ff0000>groin</text> <text style=background-color:#00ff0000>sniffed</text> <text style=background-color:#00ff0016>by</text> <text style=background-color:#00ff0005>a</text> <text style=background-color:#00ff0014>dog</text> <text style=background-color:#00ff0019>pure</text> <text style=background-color:#00ff0018>genius</text> <text style=background-color:#00ff0000>br</text> <text style=background-color:#00ff0000>br</text> <text style=background-color:#00ff001d>for</text> <text style=background-color:#00ff0005>a</text> <text style=background-color:#00ff0020>huge</text> <text style=background-color:#00ff000b>fan</text> <text style=background-color:#00ff001f>of</text> <text style=background-color:#00ff001f>the</text> <text style=background-color:#00ff0008>majority</text> <text style=background-color:#00ff001f>of</text> <text style=background-color:#00ff0007>john</text> <text style=background-color:#00ff0000>cusack</text> <text style=background-color:#00ff0001>s</text> <text style=background-color:#00ff001f>work</text> <text style=background-color:#00ff001b>not</text> <text style=background-color:#00ff000d>to</text> <text style=background-color:#00ff0007>mention</text> <text style=background-color:#00ff001f>the</text> <text style=background-color:#00ff0023>rest</text> <text style=background-color:#00ff001f>of</text> <text style=background-color:#00ff001f>the</text> <text style=background-color:#00ff0051>fantastic</text> <text style=background-color:#00ff0021>cast</text> <text style=background-color:#00ff0011>i</text> <text style=background-color:#00ff000a>was</text> <text style=background-color:#00ff000a>completely</text> <text style=background-color:#00ff0019>let</text> <text style=background-color:#00ff000a>down</text> <text style=background-color:#00ff0016>by</text> <text style=background-color:#00ff0005>a</text> <text style=background-color:#00ff000f>film</text> <text style=background-color:#00ff002b>with</text> <text style=background-color:#00ff0018>plenty</text> <text style=background-color:#00ff001f>of</text> <text style=background-color:#00ff0041>good</text> <text style=background-color:#00ff0013>ideas</text> <text style=background-color:#00ff0029>and</text> <text style=background-color:#00ff0013>at</text> <text style=background-color:#00ff001f>the</text> <text style=background-color:#00ff0021>same</text> <text style=background-color:#00ff0020>time</text> <text style=background-color:#00ff000a>completely</text> <text style=background-color:#00ff0002>unwilling</text> <text style=background-color:#00ff000d>to</text> <text style=background-color:#00ff001f>explore</text> <text style=background-color:#00ff0021>or</text> <text style=background-color:#00ff0014>elaborate</text> <text style=background-color:#00ff000c>on</text> <text style=background-color:#00ff001e>any</text> <text style=background-color:#00ff001f>of</text> <text style=background-color:#00ff0010>them</text> <text style=background-color:#00ff0016>instead</text> <text style=background-color:#00ff0000>resorting</text> <text style=background-color:#00ff000d>to</text> <text style=background-color:#00ff001f>the</text> <text style=background-color:#00ff0021>same</text> <text style=background-color:#00ff0021>old</text> <text style=background-color:#00ff0004>genre</text> <text style=background-color:#00ff0001>cliches</text> <text style=background-color:#00ff0029>and</text> <text style=background-color:#00ff0013>even</text> <text style=background-color:#00ff0001>lowering</text> <text style=background-color:#00ff0007>itself</text> <text style=background-color:#00ff000d>to</text> <text style=background-color:#00ff001f>the</text> <text style=background-color:#00ff000a>depths</text> <text style=background-color:#00ff001f>of</text> <text style=background-color:#00ff000e>almost</text> <text style=background-color:#00ff0004>gross</text> <text style=background-color:#00ff0013>out</text> <text style=background-color:#00ff0011>teen</text> <text style=background-color:#00ff0021>movie</text> <text style=background-color:#00ff0017>humour</text> <text style=background-color:#00ff0013>at</text> <text style=background-color:#00ff0010>times</text> <text style=background-color:#00ff0000>br</text> <text style=background-color:#00ff0000>br</text> <text style=background-color:#00ff0005>a</text> <text style=background-color:#00ff0041>very</text> <text style=background-color:#00ff0011>poor</text>"
      ],
      "text/plain": [
       "<IPython.core.display.HTML object>"
      ]
     },
     "execution_count": 123,
     "metadata": {},
     "output_type": "execute_result"
    }
   ],
   "source": [
    "html_print (\" <br> \".join (np.array (coloured_sents) [ordering [0:10]]))"
   ]
  },
  {
   "cell_type": "code",
   "execution_count": 602,
   "metadata": {},
   "outputs": [
    {
     "data": {
      "text/plain": [
       "array(['this was excellent touching action packed and perfect for kurt russel i loved this movie it deserves more than or so stars this movie is the story of an obsolete soldier who learns there is more to life than soldiering and people who learn that there is a time for fighting a need to defend i cried laughed and mostly sat in awe of this story good writing job for an action flick and the plot was appropriate and fairly solid the ending wasn t twisty but it was still excellent if you like escape from new york or rooting for the underdog this movie is for you not an undue amount of gore or violence it was not difficult to watch in that respect something for everyone',\n",
       "       'after gorging myself on a variety of seemingly immature movies purchased on ex rental dvds i figured that the time was right for a little serious drama and who better to provide it than sam mendes for a number of reasons american beauty doesn t appeal to me as much as this film which is easily the darkest thing that tom hanks has ever done and probably one of the most underrated films of the last decade for this is not a simple gangster tale lifted from its graphic novel origins and is simply wonderful to watch because of it and despite my usual allergy to any film with tom hanks name on it still can t watch big without wanting a cat to kick i m glad i gave this a try because this is one of those movies that you ll kick yourself for if you miss it br br normally squeaky clean hanks plays michael sullivan a devoted family man and father of two sons growing up during prohibition in the early s he is also a professional hit man to mob boss john rooney paul newman but has managed to keep his job a secret from his sons but after his eldest tyler hoechlin witnesses his dad involved in a mob killing the pair are forced to go on the run as john seeks to tidy the matter up soon father and son are pursued to chicago where a fellow hit man a menacing jude law is waiting for them br br on the face of it it reads like a pretty standard gangster film but as i ve said this isn t really about gangsters at all it s about the relationship between a father and son thrown together in the most tragic of circumstances hanks is grits teeth superb as the tortured man who finds out that everything has its price and little hoechlin is also good as sullivan s son in all honesty there is not a single performance that i could single out as weaker than the others the cast is pretty much faultless as is the cinematography and costumes and it s not often i praise costumes which recreates the s with stunning effect there has been so much effort to get everything right and it pays off in spades this could easily have looked rubbish they admit that the early s look was difficult to put down but it doesn t and that deserves every bit of credit chicago especially looks fantastic lined with hundreds of rickety cars from the era and filled with people in monochrome suits and hats true time travel even if a little cgi is needed br br the story is also a winner offering a human face to what is often seen as a stereotypical genre of movie villain law is surprisingly menacing as the almost mechanical killer maguire and proves that you don t have to be cagney or de niro or brando to play a gangster the film is decidedly noir ish driving rain and ill lit warehouses predominate but at least violence and killing are finally seen to have an emotional and psychological impact on those who perpetrate and those who merely witness such acts the whole thing is evocative of a previous age and previous movies but it sweeps away the old and refreshes with a modern tale of redemption amid the tommy gun shootouts and extortion rackets it can feel a little slow in places especially if you re used to masses of gun play in movies like most modern audiences like yours truly but sometimes words can speak louder than actions mendes has delivered a fine follow up to his oscar winning debut a film which is as intelligent as it is beautiful to watch road to perdition may not be to everyone s tastes but this is one dvd i shall not be exchanging anytime soon',\n",
       "       'if you find yourself in need of an escape something that will hold your attention for two hours and allow you to be lost in another world domino will satisfy that need this is entertainment after all the plot keeps your brain in motion one of those movies like usual suspects where you want to see it a second time to figure it all out i wondered about domino harvey herself how her life became of interest to hollywood as for the acting lots of celebrity appearances not shown in the trailers and any actor that makes me forget who they are has done their job well not once did i think of kiera in a soccer uniform or pirate costume and granted mickey rourke plays mickey rourke well and often but here despite the violence he shows signs of being capable of caring for other people',\n",
       "       ...,\n",
       "       'did sandra yes she must have know we would still be here for her some nine years later br br see it if you haven t again if you have see her live while you can',\n",
       "       'you d better choose paul verhoeven s even if you have watched it',\n",
       "       'long boring blasphemous never have i been so glad to see ending credits roll'],\n",
       "      dtype='<U8784')"
      ]
     },
     "execution_count": 602,
     "metadata": {},
     "output_type": "execute_result"
    }
   ],
   "source": [
    "np.array (imdb_task.texts['train'])[ordering]"
   ]
  },
  {
   "cell_type": "code",
   "execution_count": null,
   "metadata": {},
   "outputs": [],
   "source": []
  },
  {
   "cell_type": "code",
   "execution_count": null,
   "metadata": {},
   "outputs": [],
   "source": []
  },
  {
   "cell_type": "code",
   "execution_count": null,
   "metadata": {},
   "outputs": [],
   "source": []
  },
  {
   "cell_type": "code",
   "execution_count": 595,
   "metadata": {},
   "outputs": [],
   "source": [
    "#np.mean (word_sims[0])"
   ]
  },
  {
   "cell_type": "code",
   "execution_count": 596,
   "metadata": {},
   "outputs": [],
   "source": [
    "#max_sims_a = [np.max (x) for x in word_sims]"
   ]
  },
  {
   "cell_type": "code",
   "execution_count": 597,
   "metadata": {},
   "outputs": [],
   "source": [
    "#ordering = np.argsort (-np.array (max_sims_a))"
   ]
  },
  {
   "cell_type": "code",
   "execution_count": 461,
   "metadata": {},
   "outputs": [],
   "source": [
    "#np.array (imdb_task.texts ['train']) [ordering]"
   ]
  },
  {
   "cell_type": "code",
   "execution_count": null,
   "metadata": {},
   "outputs": [],
   "source": []
  },
  {
   "cell_type": "code",
   "execution_count": null,
   "metadata": {},
   "outputs": [],
   "source": []
  },
  {
   "cell_type": "code",
   "execution_count": null,
   "metadata": {},
   "outputs": [],
   "source": []
  },
  {
   "cell_type": "code",
   "execution_count": null,
   "metadata": {},
   "outputs": [],
   "source": []
  },
  {
   "cell_type": "code",
   "execution_count": 462,
   "metadata": {},
   "outputs": [],
   "source": [
    "embs = imdb_task.embeds['train']['glove-twitter-25']"
   ]
  },
  {
   "cell_type": "code",
   "execution_count": 463,
   "metadata": {},
   "outputs": [],
   "source": [
    "emb_model = imdb_task.emb_models ['glove-twitter-25']"
   ]
  },
  {
   "cell_type": "code",
   "execution_count": 464,
   "metadata": {},
   "outputs": [],
   "source": [
    "lookup_text = \"action\""
   ]
  },
  {
   "cell_type": "code",
   "execution_count": 465,
   "metadata": {},
   "outputs": [],
   "source": [
    "lookup_text_tok = lookup_text.split (\" \")"
   ]
  },
  {
   "cell_type": "code",
   "execution_count": 466,
   "metadata": {},
   "outputs": [],
   "source": [
    "emb_length = emb_model ['a'].shape [0]"
   ]
  },
  {
   "cell_type": "code",
   "execution_count": 467,
   "metadata": {},
   "outputs": [],
   "source": [
    "lookup_text_emb = imdb_task._embed_line (lookup_text_tok, emb_model, emb_length)"
   ]
  },
  {
   "cell_type": "code",
   "execution_count": 468,
   "metadata": {},
   "outputs": [],
   "source": [
    "from sklearn.metrics.pairwise import cosine_similarity"
   ]
  },
  {
   "cell_type": "code",
   "execution_count": 469,
   "metadata": {},
   "outputs": [],
   "source": [
    "lin_cos_sim = cosine_similarity (embs[0], lookup_text_emb)"
   ]
  },
  {
   "cell_type": "code",
   "execution_count": 209,
   "metadata": {},
   "outputs": [
    {
     "data": {
      "text/plain": [
       "array([0.7064953 , 0.589067  , 0.6213429 , 0.59356546, 0.7458868 ,\n",
       "       0.589079  , 0.69953656, 0.6129971 , 0.7839712 , 0.5932517 ,\n",
       "       0.66459924, 0.7034769 , 0.63008404, 0.43208623, 0.20198816,\n",
       "       0.7342957 , 0.5363021 , 0.67736506, 0.5144093 , 0.518046  ,\n",
       "       0.7123766 , 0.584567  , 0.49265343, 0.70720315, 0.56344473,\n",
       "       0.7123766 , 0.7157514 , 0.63224745, 0.73522794, 0.7342957 ,\n",
       "       0.5645032 , 0.47523054, 0.70720315, 0.5645032 , 0.61516124,\n",
       "       0.5932517 , 0.6221181 , 0.69119936, 0.6563445 , 0.6570064 ,\n",
       "       0.523802  , 0.66994524, 0.7064953 , 0.70720315, 0.6591221 ,\n",
       "       0.55855596, 0.70603883, 0.5363021 , 0.5598166 , 0.72054225,\n",
       "       0.60620964, 0.67439103, 0.49265248, 0.6046612 ], dtype=float32)"
      ]
     },
     "execution_count": 209,
     "metadata": {},
     "output_type": "execute_result"
    }
   ],
   "source": [
    "np.mean (lin_cos_sim, axis = 1)"
   ]
  },
  {
   "cell_type": "code",
   "execution_count": 193,
   "metadata": {},
   "outputs": [
    {
     "data": {
      "text/plain": [
       "0.8427038"
      ]
     },
     "execution_count": 193,
     "metadata": {},
     "output_type": "execute_result"
    }
   ],
   "source": [
    "np.max (lin_cos_sim)"
   ]
  },
  {
   "cell_type": "code",
   "execution_count": 218,
   "metadata": {},
   "outputs": [
    {
     "name": "stdout",
     "output_type": "stream",
     "text": [
      "0\n",
      "1000\n",
      "2000\n",
      "3000\n",
      "4000\n"
     ]
    }
   ],
   "source": [
    "lookup_agg_method = np.max\n",
    "text_agg_method = np.max \n",
    "\n",
    "emb_sims = []\n",
    "emb_sims_max = []\n",
    "for i in range (0, len (embs)):\n",
    "    if (i % 1000) == 0:\n",
    "        print (i)\n",
    "    lin_cos_sim = cosine_similarity (embs[i], lookup_text_emb)\n",
    "    lin_cos_sim = text_agg_method (lin_cos_sim, axis = 1)\n",
    "    emb_sims.append (lin_cos_sim)\n",
    "    emb_sims_max.append (agg_method (lin_cos_sim))\n",
    "    \n",
    "    "
   ]
  },
  {
   "cell_type": "code",
   "execution_count": null,
   "metadata": {},
   "outputs": [],
   "source": []
  },
  {
   "cell_type": "code",
   "execution_count": null,
   "metadata": {},
   "outputs": [],
   "source": []
  },
  {
   "cell_type": "code",
   "execution_count": 219,
   "metadata": {},
   "outputs": [
    {
     "data": {
      "text/plain": [
       "1.0000000000000002"
      ]
     },
     "execution_count": 219,
     "metadata": {},
     "output_type": "execute_result"
    }
   ],
   "source": [
    "emb_sims_max [1]"
   ]
  },
  {
   "cell_type": "code",
   "execution_count": 220,
   "metadata": {},
   "outputs": [
    {
     "data": {
      "text/plain": [
       "[0.8427038,\n",
       " 1.0000000000000002,\n",
       " 0.87328947,\n",
       " 0.8541685497959718,\n",
       " 1.0000000000000002,\n",
       " 0.9999999,\n",
       " 0.8500843365069591,\n",
       " 0.8769028008141451,\n",
       " 0.8841082724194276,\n",
       " 0.85008436,\n",
       " 0.9999999,\n",
       " 0.85008436,\n",
       " 1.0000000000000002,\n",
       " 0.99999994,\n",
       " 1.0000000000000002,\n",
       " 0.85008436,\n",
       " 1.0000000000000002,\n",
       " 0.8607826,\n",
       " 0.8500843365069591,\n",
       " 0.86093867,\n",
       " 0.8624499122122617,\n",
       " 0.8968295,\n",
       " 0.8620199623511139,\n",
       " 0.8500843365069591,\n",
       " 0.99999994,\n",
       " 0.8500843365069591,\n",
       " 1.0000000000000002,\n",
       " 1.0000000000000002,\n",
       " 0.8427036851650482,\n",
       " 0.85008436,\n",
       " 1.0000000000000002,\n",
       " 0.8518469169916202,\n",
       " 0.8500843365069591,\n",
       " 0.8841082724194276,\n",
       " 0.8500843365069591,\n",
       " 0.8841082724194276,\n",
       " 0.8427036851650482,\n",
       " 0.85008436,\n",
       " 0.8500843365069591,\n",
       " 0.8681443,\n",
       " 0.8841082,\n",
       " 0.9999999,\n",
       " 0.85008436,\n",
       " 0.85008436,\n",
       " 0.8624499122122617,\n",
       " 0.99999994,\n",
       " 1.0000000000000002,\n",
       " 0.82852024,\n",
       " 0.8620199623511139,\n",
       " 0.8500843365069591,\n",
       " 0.85008436,\n",
       " 0.8427038,\n",
       " 0.9999999,\n",
       " 0.8500843365069591,\n",
       " 0.875910588479086,\n",
       " 0.8968294526476451,\n",
       " 1.0000000000000002,\n",
       " 0.9171534947963127,\n",
       " 0.8500843365069591,\n",
       " 0.8541685497959718,\n",
       " 0.916721424794774,\n",
       " 0.8427038,\n",
       " 0.85008436,\n",
       " 0.85008436,\n",
       " 0.85008436,\n",
       " 0.8806683,\n",
       " 0.85008436,\n",
       " 1.0000000000000002,\n",
       " 0.85008436,\n",
       " 0.87328947,\n",
       " 1.0000000000000002,\n",
       " 1.0000000000000002,\n",
       " 0.8541685497959718,\n",
       " 0.8609387410156721,\n",
       " 0.851208946929955,\n",
       " 0.86336374,\n",
       " 0.8624499122122617,\n",
       " 1.0000000000000002,\n",
       " 0.875910588479086,\n",
       " 0.99999994,\n",
       " 1.0000000000000002,\n",
       " 1.0000000000000002,\n",
       " 0.85008436,\n",
       " 0.8500843365069591,\n",
       " 0.8968294526476451,\n",
       " 0.8841082,\n",
       " 0.8841082724194276,\n",
       " 0.8607826,\n",
       " 0.8599060418420801,\n",
       " 0.859906,\n",
       " 0.85008436,\n",
       " 0.875910588479086,\n",
       " 0.8427038,\n",
       " 0.8500843365069591,\n",
       " 0.8841082724194276,\n",
       " 0.8500843365069591,\n",
       " 0.8841082724194276,\n",
       " 0.8500843365069591,\n",
       " 0.8694297207291432,\n",
       " 0.85008436]"
      ]
     },
     "execution_count": 220,
     "metadata": {},
     "output_type": "execute_result"
    }
   ],
   "source": [
    "emb_sims_max [0:100]"
   ]
  },
  {
   "cell_type": "code",
   "execution_count": 169,
   "metadata": {},
   "outputs": [
    {
     "data": {
      "text/plain": [
       "0.84270376"
      ]
     },
     "execution_count": 169,
     "metadata": {},
     "output_type": "execute_result"
    }
   ],
   "source": [
    "np.max (lin_cos_sim)"
   ]
  },
  {
   "cell_type": "code",
   "execution_count": 51,
   "metadata": {},
   "outputs": [],
   "source": [
    "import gensim"
   ]
  },
  {
   "cell_type": "code",
   "execution_count": 52,
   "metadata": {},
   "outputs": [],
   "source": [
    "import gensim.downloader as api"
   ]
  },
  {
   "cell_type": "code",
   "execution_count": 3,
   "metadata": {},
   "outputs": [],
   "source": [
    "a = api.info()\n"
   ]
  },
  {
   "cell_type": "code",
   "execution_count": null,
   "metadata": {},
   "outputs": [
    {
     "data": {
      "text/plain": [
       "dict_keys(['fasttext-wiki-news-subwords-300', 'conceptnet-numberbatch-17-06-300', 'word2vec-ruscorpora-300', 'word2vec-google-news-300', 'glove-wiki-gigaword-50', 'glove-wiki-gigaword-100', 'glove-wiki-gigaword-200', 'glove-wiki-gigaword-300', 'glove-twitter-25', 'glove-twitter-50', 'glove-twitter-100', 'glove-twitter-200', '__testing_word2vec-matrix-synopsis'])"
      ]
     },
     "execution_count": 7,
     "metadata": {},
     "output_type": "execute_result"
    }
   ],
   "source": [
    "list (a[\"models\"].keys())"
   ]
  },
  {
   "cell_type": "code",
   "execution_count": 14,
   "metadata": {},
   "outputs": [],
   "source": [
    "emb_model = api.load (\"glove-twitter-25\")"
   ]
  },
  {
   "cell_type": "code",
   "execution_count": 19,
   "metadata": {},
   "outputs": [
    {
     "data": {
      "text/plain": [
       "25"
      ]
     },
     "execution_count": 19,
     "metadata": {},
     "output_type": "execute_result"
    }
   ],
   "source": [
    "emb_model ['a'].shape[0]"
   ]
  },
  {
   "cell_type": "code",
   "execution_count": 510,
   "metadata": {},
   "outputs": [
    {
     "data": {
      "text/plain": [
       "<module 'gensim.models' from 'C:\\\\Users\\\\dfleetwood\\\\PycharmProjects\\\\text_analysis\\\\venv\\\\lib\\\\site-packages\\\\gensim\\\\models\\\\__init__.py'>"
      ]
     },
     "execution_count": 510,
     "metadata": {},
     "output_type": "execute_result"
    }
   ],
   "source": [
    "gensim.models.word2vec.Word2VecKeyedVectors()"
   ]
  },
  {
   "cell_type": "code",
   "execution_count": 508,
   "metadata": {},
   "outputs": [],
   "source": []
  },
  {
   "cell_type": "code",
   "execution_count": 508,
   "metadata": {},
   "outputs": [],
   "source": []
  },
  {
   "cell_type": "code",
   "execution_count": 508,
   "metadata": {},
   "outputs": [],
   "source": []
  },
  {
   "cell_type": "code",
   "execution_count": 508,
   "metadata": {},
   "outputs": [],
   "source": []
  },
  {
   "cell_type": "code",
   "execution_count": 508,
   "metadata": {},
   "outputs": [],
   "source": []
  },
  {
   "cell_type": "code",
   "execution_count": null,
   "metadata": {},
   "outputs": [],
   "source": []
  }
 ],
 "metadata": {
  "kernelspec": {
   "display_name": "Python 3",
   "language": "python",
   "name": "python3"
  },
  "language_info": {
   "codemirror_mode": {
    "name": "ipython",
    "version": 3
   },
   "file_extension": ".py",
   "mimetype": "text/x-python",
   "name": "python",
   "nbconvert_exporter": "python",
   "pygments_lexer": "ipython3",
   "version": "3.6.4"
  }
 },
 "nbformat": 4,
 "nbformat_minor": 1
}
